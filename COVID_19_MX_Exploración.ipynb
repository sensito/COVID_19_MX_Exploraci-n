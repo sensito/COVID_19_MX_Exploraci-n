{
 "cells": [
  {
   "cell_type": "code",
   "execution_count": 1,
   "metadata": {},
   "outputs": [],
   "source": [
    "import numpy as np\n",
    "import pandas as pd\n",
    "import matplotlib.pyplot as plt\n",
    "import seaborn as sns\n",
    "import scipy as sc\n",
    "\n",
    "\n",
    "import plotly\n",
    "import plotly.graph_objs as go\n",
    "from plotly.offline import init_notebook_mode, iplot\n",
    "import plotly.offline as py\n",
    "import plotly.figure_factory as ff\n",
    "\n",
    "import seaborn as sb\n",
    "\n",
    "import pandas_profiling"
   ]
  },
  {
   "cell_type": "code",
   "execution_count": 2,
   "metadata": {},
   "outputs": [
    {
     "data": {
      "text/html": [
       "        <script type=\"text/javascript\">\n",
       "        window.PlotlyConfig = {MathJaxConfig: 'local'};\n",
       "        if (window.MathJax) {MathJax.Hub.Config({SVG: {font: \"STIX-Web\"}});}\n",
       "        if (typeof require !== 'undefined') {\n",
       "        require.undef(\"plotly\");\n",
       "        requirejs.config({\n",
       "            paths: {\n",
       "                'plotly': ['https://cdn.plot.ly/plotly-latest.min']\n",
       "            }\n",
       "        });\n",
       "        require(['plotly'], function(Plotly) {\n",
       "            window._Plotly = Plotly;\n",
       "        });\n",
       "        }\n",
       "        </script>\n",
       "        "
      ]
     },
     "metadata": {},
     "output_type": "display_data"
    }
   ],
   "source": [
    "init_notebook_mode(connected=True)"
   ]
  },
  {
   "cell_type": "code",
   "execution_count": 3,
   "metadata": {},
   "outputs": [],
   "source": [
    "%matplotlib inline"
   ]
  },
  {
   "cell_type": "markdown",
   "metadata": {},
   "source": [
    "Lectura de la fuente de información"
   ]
  },
  {
   "cell_type": "code",
   "execution_count": 4,
   "metadata": {},
   "outputs": [],
   "source": [
    "df = pd.read_csv('./data_COVID19Mx/Confirmados/COVID19Mx_confirmados27-03-20.csv',index_col=0)"
   ]
  },
  {
   "cell_type": "markdown",
   "metadata": {},
   "source": [
    "Los metadatos de la fuente de información"
   ]
  },
  {
   "cell_type": "code",
   "execution_count": 5,
   "metadata": {},
   "outputs": [
    {
     "data": {
      "text/plain": [
       "Index(['index', 'NumCaso', 'Estado', 'Sexo', 'Edad', 'Fecha_Diagnóstico',\n",
       "       'Identificación', 'Procedencia', 'Llegada_México'],\n",
       "      dtype='object')"
      ]
     },
     "execution_count": 5,
     "metadata": {},
     "output_type": "execute_result"
    }
   ],
   "source": [
    "df.columns"
   ]
  },
  {
   "cell_type": "code",
   "execution_count": 6,
   "metadata": {},
   "outputs": [
    {
     "data": {
      "text/html": [
       "<div>\n",
       "<style scoped>\n",
       "    .dataframe tbody tr th:only-of-type {\n",
       "        vertical-align: middle;\n",
       "    }\n",
       "\n",
       "    .dataframe tbody tr th {\n",
       "        vertical-align: top;\n",
       "    }\n",
       "\n",
       "    .dataframe thead th {\n",
       "        text-align: right;\n",
       "    }\n",
       "</style>\n",
       "<table border=\"1\" class=\"dataframe\">\n",
       "  <thead>\n",
       "    <tr style=\"text-align: right;\">\n",
       "      <th></th>\n",
       "      <th>index</th>\n",
       "      <th>NumCaso</th>\n",
       "      <th>Estado</th>\n",
       "      <th>Sexo</th>\n",
       "      <th>Edad</th>\n",
       "      <th>Fecha_Diagnóstico</th>\n",
       "      <th>Identificación</th>\n",
       "      <th>Procedencia</th>\n",
       "      <th>Llegada_México</th>\n",
       "    </tr>\n",
       "  </thead>\n",
       "  <tbody>\n",
       "    <tr>\n",
       "      <td>0</td>\n",
       "      <td>302</td>\n",
       "      <td>303</td>\n",
       "      <td>MÉXICO</td>\n",
       "      <td>M</td>\n",
       "      <td>44</td>\n",
       "      <td>2020-02-19</td>\n",
       "      <td>confirmado</td>\n",
       "      <td>Italia</td>\n",
       "      <td>22/02/2020</td>\n",
       "    </tr>\n",
       "    <tr>\n",
       "      <td>1</td>\n",
       "      <td>5</td>\n",
       "      <td>6</td>\n",
       "      <td>MÉXICO</td>\n",
       "      <td>M</td>\n",
       "      <td>71</td>\n",
       "      <td>2020-02-21</td>\n",
       "      <td>confirmado</td>\n",
       "      <td>Italia</td>\n",
       "      <td>21/02/2020</td>\n",
       "    </tr>\n",
       "    <tr>\n",
       "      <td>2</td>\n",
       "      <td>0</td>\n",
       "      <td>1</td>\n",
       "      <td>CDMX</td>\n",
       "      <td>M</td>\n",
       "      <td>35</td>\n",
       "      <td>2020-02-22</td>\n",
       "      <td>confirmado</td>\n",
       "      <td>Italia</td>\n",
       "      <td>22/02/2020</td>\n",
       "    </tr>\n",
       "    <tr>\n",
       "      <td>3</td>\n",
       "      <td>1</td>\n",
       "      <td>2</td>\n",
       "      <td>SINALOA</td>\n",
       "      <td>M</td>\n",
       "      <td>41</td>\n",
       "      <td>2020-02-22</td>\n",
       "      <td>confirmado</td>\n",
       "      <td>Italia</td>\n",
       "      <td>21/02/2020</td>\n",
       "    </tr>\n",
       "    <tr>\n",
       "      <td>4</td>\n",
       "      <td>2</td>\n",
       "      <td>3</td>\n",
       "      <td>CDMX</td>\n",
       "      <td>M</td>\n",
       "      <td>59</td>\n",
       "      <td>2020-02-23</td>\n",
       "      <td>confirmado</td>\n",
       "      <td>Italia</td>\n",
       "      <td>22/02/2020</td>\n",
       "    </tr>\n",
       "  </tbody>\n",
       "</table>\n",
       "</div>"
      ],
      "text/plain": [
       "   index  NumCaso   Estado Sexo  Edad Fecha_Diagnóstico Identificación  \\\n",
       "0    302      303   MÉXICO    M    44        2020-02-19     confirmado   \n",
       "1      5        6   MÉXICO    M    71        2020-02-21     confirmado   \n",
       "2      0        1     CDMX    M    35        2020-02-22     confirmado   \n",
       "3      1        2  SINALOA    M    41        2020-02-22     confirmado   \n",
       "4      2        3     CDMX    M    59        2020-02-23     confirmado   \n",
       "\n",
       "  Procedencia Llegada_México  \n",
       "0      Italia     22/02/2020  \n",
       "1      Italia     21/02/2020  \n",
       "2      Italia     22/02/2020  \n",
       "3      Italia     21/02/2020  \n",
       "4      Italia     22/02/2020  "
      ]
     },
     "execution_count": 6,
     "metadata": {},
     "output_type": "execute_result"
    }
   ],
   "source": [
    "df.head()"
   ]
  },
  {
   "cell_type": "code",
   "execution_count": 7,
   "metadata": {},
   "outputs": [
    {
     "name": "stdout",
     "output_type": "stream",
     "text": [
      "<class 'pandas.core.frame.DataFrame'>\n",
      "Int64Index: 717 entries, 0 to 716\n",
      "Data columns (total 9 columns):\n",
      "index                717 non-null int64\n",
      "NumCaso              717 non-null int64\n",
      "Estado               717 non-null object\n",
      "Sexo                 717 non-null object\n",
      "Edad                 717 non-null int64\n",
      "Fecha_Diagnóstico    717 non-null object\n",
      "Identificación       717 non-null object\n",
      "Procedencia          717 non-null object\n",
      "Llegada_México       498 non-null object\n",
      "dtypes: int64(3), object(6)\n",
      "memory usage: 56.0+ KB\n"
     ]
    }
   ],
   "source": [
    "df.info()"
   ]
  },
  {
   "cell_type": "code",
   "execution_count": 8,
   "metadata": {},
   "outputs": [],
   "source": [
    "DataFrameAnalisisEstadistico=df.describe()"
   ]
  },
  {
   "cell_type": "code",
   "execution_count": 9,
   "metadata": {},
   "outputs": [
    {
     "data": {
      "text/html": [
       "<div>\n",
       "<style scoped>\n",
       "    .dataframe tbody tr th:only-of-type {\n",
       "        vertical-align: middle;\n",
       "    }\n",
       "\n",
       "    .dataframe tbody tr th {\n",
       "        vertical-align: top;\n",
       "    }\n",
       "\n",
       "    .dataframe thead th {\n",
       "        text-align: right;\n",
       "    }\n",
       "</style>\n",
       "<table border=\"1\" class=\"dataframe\">\n",
       "  <thead>\n",
       "    <tr style=\"text-align: right;\">\n",
       "      <th></th>\n",
       "      <th>index</th>\n",
       "      <th>NumCaso</th>\n",
       "      <th>Edad</th>\n",
       "    </tr>\n",
       "  </thead>\n",
       "  <tbody>\n",
       "    <tr>\n",
       "      <td>count</td>\n",
       "      <td>717.000000</td>\n",
       "      <td>717.000000</td>\n",
       "      <td>717.000000</td>\n",
       "    </tr>\n",
       "    <tr>\n",
       "      <td>mean</td>\n",
       "      <td>358.000000</td>\n",
       "      <td>359.000000</td>\n",
       "      <td>42.541144</td>\n",
       "    </tr>\n",
       "    <tr>\n",
       "      <td>std</td>\n",
       "      <td>207.124359</td>\n",
       "      <td>207.124359</td>\n",
       "      <td>15.866589</td>\n",
       "    </tr>\n",
       "    <tr>\n",
       "      <td>min</td>\n",
       "      <td>0.000000</td>\n",
       "      <td>1.000000</td>\n",
       "      <td>0.000000</td>\n",
       "    </tr>\n",
       "    <tr>\n",
       "      <td>25%</td>\n",
       "      <td>179.000000</td>\n",
       "      <td>180.000000</td>\n",
       "      <td>30.000000</td>\n",
       "    </tr>\n",
       "    <tr>\n",
       "      <td>50%</td>\n",
       "      <td>358.000000</td>\n",
       "      <td>359.000000</td>\n",
       "      <td>41.000000</td>\n",
       "    </tr>\n",
       "    <tr>\n",
       "      <td>75%</td>\n",
       "      <td>537.000000</td>\n",
       "      <td>538.000000</td>\n",
       "      <td>54.000000</td>\n",
       "    </tr>\n",
       "    <tr>\n",
       "      <td>max</td>\n",
       "      <td>716.000000</td>\n",
       "      <td>717.000000</td>\n",
       "      <td>88.000000</td>\n",
       "    </tr>\n",
       "  </tbody>\n",
       "</table>\n",
       "</div>"
      ],
      "text/plain": [
       "            index     NumCaso        Edad\n",
       "count  717.000000  717.000000  717.000000\n",
       "mean   358.000000  359.000000   42.541144\n",
       "std    207.124359  207.124359   15.866589\n",
       "min      0.000000    1.000000    0.000000\n",
       "25%    179.000000  180.000000   30.000000\n",
       "50%    358.000000  359.000000   41.000000\n",
       "75%    537.000000  538.000000   54.000000\n",
       "max    716.000000  717.000000   88.000000"
      ]
     },
     "execution_count": 9,
     "metadata": {},
     "output_type": "execute_result"
    }
   ],
   "source": [
    "DataFrameAnalisisEstadistico"
   ]
  },
  {
   "cell_type": "code",
   "execution_count": 10,
   "metadata": {},
   "outputs": [],
   "source": [
    "d=ff.create_table(DataFrameAnalisisEstadistico)"
   ]
  },
  {
   "cell_type": "code",
   "execution_count": 11,
   "metadata": {},
   "outputs": [
    {
     "data": {
      "application/vnd.plotly.v1+json": {
       "config": {
        "linkText": "Export to plot.ly",
        "plotlyServerURL": "https://plot.ly",
        "showLink": false
       },
       "data": [
        {
         "colorscale": [
          [
           0,
           "#00083e"
          ],
          [
           0.5,
           "#ededee"
          ],
          [
           1,
           "#ffffff"
          ]
         ],
         "hoverinfo": "none",
         "opacity": 0.75,
         "showscale": false,
         "type": "heatmap",
         "z": [
          [
           0,
           0,
           0
          ],
          [
           0.5,
           0.5,
           0.5
          ],
          [
           1,
           1,
           1
          ],
          [
           0.5,
           0.5,
           0.5
          ],
          [
           1,
           1,
           1
          ],
          [
           0.5,
           0.5,
           0.5
          ],
          [
           1,
           1,
           1
          ],
          [
           0.5,
           0.5,
           0.5
          ],
          [
           1,
           1,
           1
          ]
         ]
        }
       ],
       "layout": {
        "annotations": [
         {
          "align": "left",
          "font": {
           "color": "#ffffff"
          },
          "showarrow": false,
          "text": "<b>index</b>",
          "x": -0.45,
          "xanchor": "left",
          "xref": "x",
          "y": 0,
          "yref": "y"
         },
         {
          "align": "left",
          "font": {
           "color": "#ffffff"
          },
          "showarrow": false,
          "text": "<b>NumCaso</b>",
          "x": 0.55,
          "xanchor": "left",
          "xref": "x",
          "y": 0,
          "yref": "y"
         },
         {
          "align": "left",
          "font": {
           "color": "#ffffff"
          },
          "showarrow": false,
          "text": "<b>Edad</b>",
          "x": 1.55,
          "xanchor": "left",
          "xref": "x",
          "y": 0,
          "yref": "y"
         },
         {
          "align": "left",
          "font": {
           "color": "#000000"
          },
          "showarrow": false,
          "text": "717.0",
          "x": -0.45,
          "xanchor": "left",
          "xref": "x",
          "y": 1,
          "yref": "y"
         },
         {
          "align": "left",
          "font": {
           "color": "#000000"
          },
          "showarrow": false,
          "text": "717.0",
          "x": 0.55,
          "xanchor": "left",
          "xref": "x",
          "y": 1,
          "yref": "y"
         },
         {
          "align": "left",
          "font": {
           "color": "#000000"
          },
          "showarrow": false,
          "text": "717.0",
          "x": 1.55,
          "xanchor": "left",
          "xref": "x",
          "y": 1,
          "yref": "y"
         },
         {
          "align": "left",
          "font": {
           "color": "#000000"
          },
          "showarrow": false,
          "text": "358.0",
          "x": -0.45,
          "xanchor": "left",
          "xref": "x",
          "y": 2,
          "yref": "y"
         },
         {
          "align": "left",
          "font": {
           "color": "#000000"
          },
          "showarrow": false,
          "text": "359.0",
          "x": 0.55,
          "xanchor": "left",
          "xref": "x",
          "y": 2,
          "yref": "y"
         },
         {
          "align": "left",
          "font": {
           "color": "#000000"
          },
          "showarrow": false,
          "text": "42.541143654114364",
          "x": 1.55,
          "xanchor": "left",
          "xref": "x",
          "y": 2,
          "yref": "y"
         },
         {
          "align": "left",
          "font": {
           "color": "#000000"
          },
          "showarrow": false,
          "text": "207.12435877993684",
          "x": -0.45,
          "xanchor": "left",
          "xref": "x",
          "y": 3,
          "yref": "y"
         },
         {
          "align": "left",
          "font": {
           "color": "#000000"
          },
          "showarrow": false,
          "text": "207.12435877993684",
          "x": 0.55,
          "xanchor": "left",
          "xref": "x",
          "y": 3,
          "yref": "y"
         },
         {
          "align": "left",
          "font": {
           "color": "#000000"
          },
          "showarrow": false,
          "text": "15.86658923642668",
          "x": 1.55,
          "xanchor": "left",
          "xref": "x",
          "y": 3,
          "yref": "y"
         },
         {
          "align": "left",
          "font": {
           "color": "#000000"
          },
          "showarrow": false,
          "text": "0.0",
          "x": -0.45,
          "xanchor": "left",
          "xref": "x",
          "y": 4,
          "yref": "y"
         },
         {
          "align": "left",
          "font": {
           "color": "#000000"
          },
          "showarrow": false,
          "text": "1.0",
          "x": 0.55,
          "xanchor": "left",
          "xref": "x",
          "y": 4,
          "yref": "y"
         },
         {
          "align": "left",
          "font": {
           "color": "#000000"
          },
          "showarrow": false,
          "text": "0.0",
          "x": 1.55,
          "xanchor": "left",
          "xref": "x",
          "y": 4,
          "yref": "y"
         },
         {
          "align": "left",
          "font": {
           "color": "#000000"
          },
          "showarrow": false,
          "text": "179.0",
          "x": -0.45,
          "xanchor": "left",
          "xref": "x",
          "y": 5,
          "yref": "y"
         },
         {
          "align": "left",
          "font": {
           "color": "#000000"
          },
          "showarrow": false,
          "text": "180.0",
          "x": 0.55,
          "xanchor": "left",
          "xref": "x",
          "y": 5,
          "yref": "y"
         },
         {
          "align": "left",
          "font": {
           "color": "#000000"
          },
          "showarrow": false,
          "text": "30.0",
          "x": 1.55,
          "xanchor": "left",
          "xref": "x",
          "y": 5,
          "yref": "y"
         },
         {
          "align": "left",
          "font": {
           "color": "#000000"
          },
          "showarrow": false,
          "text": "358.0",
          "x": -0.45,
          "xanchor": "left",
          "xref": "x",
          "y": 6,
          "yref": "y"
         },
         {
          "align": "left",
          "font": {
           "color": "#000000"
          },
          "showarrow": false,
          "text": "359.0",
          "x": 0.55,
          "xanchor": "left",
          "xref": "x",
          "y": 6,
          "yref": "y"
         },
         {
          "align": "left",
          "font": {
           "color": "#000000"
          },
          "showarrow": false,
          "text": "41.0",
          "x": 1.55,
          "xanchor": "left",
          "xref": "x",
          "y": 6,
          "yref": "y"
         },
         {
          "align": "left",
          "font": {
           "color": "#000000"
          },
          "showarrow": false,
          "text": "537.0",
          "x": -0.45,
          "xanchor": "left",
          "xref": "x",
          "y": 7,
          "yref": "y"
         },
         {
          "align": "left",
          "font": {
           "color": "#000000"
          },
          "showarrow": false,
          "text": "538.0",
          "x": 0.55,
          "xanchor": "left",
          "xref": "x",
          "y": 7,
          "yref": "y"
         },
         {
          "align": "left",
          "font": {
           "color": "#000000"
          },
          "showarrow": false,
          "text": "54.0",
          "x": 1.55,
          "xanchor": "left",
          "xref": "x",
          "y": 7,
          "yref": "y"
         },
         {
          "align": "left",
          "font": {
           "color": "#000000"
          },
          "showarrow": false,
          "text": "716.0",
          "x": -0.45,
          "xanchor": "left",
          "xref": "x",
          "y": 8,
          "yref": "y"
         },
         {
          "align": "left",
          "font": {
           "color": "#000000"
          },
          "showarrow": false,
          "text": "717.0",
          "x": 0.55,
          "xanchor": "left",
          "xref": "x",
          "y": 8,
          "yref": "y"
         },
         {
          "align": "left",
          "font": {
           "color": "#000000"
          },
          "showarrow": false,
          "text": "88.0",
          "x": 1.55,
          "xanchor": "left",
          "xref": "x",
          "y": 8,
          "yref": "y"
         }
        ],
        "height": 320,
        "margin": {
         "b": 0,
         "l": 0,
         "r": 0,
         "t": 0
        },
        "template": {
         "data": {
          "bar": [
           {
            "error_x": {
             "color": "#2a3f5f"
            },
            "error_y": {
             "color": "#2a3f5f"
            },
            "marker": {
             "line": {
              "color": "#E5ECF6",
              "width": 0.5
             }
            },
            "type": "bar"
           }
          ],
          "barpolar": [
           {
            "marker": {
             "line": {
              "color": "#E5ECF6",
              "width": 0.5
             }
            },
            "type": "barpolar"
           }
          ],
          "carpet": [
           {
            "aaxis": {
             "endlinecolor": "#2a3f5f",
             "gridcolor": "white",
             "linecolor": "white",
             "minorgridcolor": "white",
             "startlinecolor": "#2a3f5f"
            },
            "baxis": {
             "endlinecolor": "#2a3f5f",
             "gridcolor": "white",
             "linecolor": "white",
             "minorgridcolor": "white",
             "startlinecolor": "#2a3f5f"
            },
            "type": "carpet"
           }
          ],
          "choropleth": [
           {
            "colorbar": {
             "outlinewidth": 0,
             "ticks": ""
            },
            "type": "choropleth"
           }
          ],
          "contour": [
           {
            "colorbar": {
             "outlinewidth": 0,
             "ticks": ""
            },
            "colorscale": [
             [
              0,
              "#0d0887"
             ],
             [
              0.1111111111111111,
              "#46039f"
             ],
             [
              0.2222222222222222,
              "#7201a8"
             ],
             [
              0.3333333333333333,
              "#9c179e"
             ],
             [
              0.4444444444444444,
              "#bd3786"
             ],
             [
              0.5555555555555556,
              "#d8576b"
             ],
             [
              0.6666666666666666,
              "#ed7953"
             ],
             [
              0.7777777777777778,
              "#fb9f3a"
             ],
             [
              0.8888888888888888,
              "#fdca26"
             ],
             [
              1,
              "#f0f921"
             ]
            ],
            "type": "contour"
           }
          ],
          "contourcarpet": [
           {
            "colorbar": {
             "outlinewidth": 0,
             "ticks": ""
            },
            "type": "contourcarpet"
           }
          ],
          "heatmap": [
           {
            "colorbar": {
             "outlinewidth": 0,
             "ticks": ""
            },
            "colorscale": [
             [
              0,
              "#0d0887"
             ],
             [
              0.1111111111111111,
              "#46039f"
             ],
             [
              0.2222222222222222,
              "#7201a8"
             ],
             [
              0.3333333333333333,
              "#9c179e"
             ],
             [
              0.4444444444444444,
              "#bd3786"
             ],
             [
              0.5555555555555556,
              "#d8576b"
             ],
             [
              0.6666666666666666,
              "#ed7953"
             ],
             [
              0.7777777777777778,
              "#fb9f3a"
             ],
             [
              0.8888888888888888,
              "#fdca26"
             ],
             [
              1,
              "#f0f921"
             ]
            ],
            "type": "heatmap"
           }
          ],
          "heatmapgl": [
           {
            "colorbar": {
             "outlinewidth": 0,
             "ticks": ""
            },
            "colorscale": [
             [
              0,
              "#0d0887"
             ],
             [
              0.1111111111111111,
              "#46039f"
             ],
             [
              0.2222222222222222,
              "#7201a8"
             ],
             [
              0.3333333333333333,
              "#9c179e"
             ],
             [
              0.4444444444444444,
              "#bd3786"
             ],
             [
              0.5555555555555556,
              "#d8576b"
             ],
             [
              0.6666666666666666,
              "#ed7953"
             ],
             [
              0.7777777777777778,
              "#fb9f3a"
             ],
             [
              0.8888888888888888,
              "#fdca26"
             ],
             [
              1,
              "#f0f921"
             ]
            ],
            "type": "heatmapgl"
           }
          ],
          "histogram": [
           {
            "marker": {
             "colorbar": {
              "outlinewidth": 0,
              "ticks": ""
             }
            },
            "type": "histogram"
           }
          ],
          "histogram2d": [
           {
            "colorbar": {
             "outlinewidth": 0,
             "ticks": ""
            },
            "colorscale": [
             [
              0,
              "#0d0887"
             ],
             [
              0.1111111111111111,
              "#46039f"
             ],
             [
              0.2222222222222222,
              "#7201a8"
             ],
             [
              0.3333333333333333,
              "#9c179e"
             ],
             [
              0.4444444444444444,
              "#bd3786"
             ],
             [
              0.5555555555555556,
              "#d8576b"
             ],
             [
              0.6666666666666666,
              "#ed7953"
             ],
             [
              0.7777777777777778,
              "#fb9f3a"
             ],
             [
              0.8888888888888888,
              "#fdca26"
             ],
             [
              1,
              "#f0f921"
             ]
            ],
            "type": "histogram2d"
           }
          ],
          "histogram2dcontour": [
           {
            "colorbar": {
             "outlinewidth": 0,
             "ticks": ""
            },
            "colorscale": [
             [
              0,
              "#0d0887"
             ],
             [
              0.1111111111111111,
              "#46039f"
             ],
             [
              0.2222222222222222,
              "#7201a8"
             ],
             [
              0.3333333333333333,
              "#9c179e"
             ],
             [
              0.4444444444444444,
              "#bd3786"
             ],
             [
              0.5555555555555556,
              "#d8576b"
             ],
             [
              0.6666666666666666,
              "#ed7953"
             ],
             [
              0.7777777777777778,
              "#fb9f3a"
             ],
             [
              0.8888888888888888,
              "#fdca26"
             ],
             [
              1,
              "#f0f921"
             ]
            ],
            "type": "histogram2dcontour"
           }
          ],
          "mesh3d": [
           {
            "colorbar": {
             "outlinewidth": 0,
             "ticks": ""
            },
            "type": "mesh3d"
           }
          ],
          "parcoords": [
           {
            "line": {
             "colorbar": {
              "outlinewidth": 0,
              "ticks": ""
             }
            },
            "type": "parcoords"
           }
          ],
          "pie": [
           {
            "automargin": true,
            "type": "pie"
           }
          ],
          "scatter": [
           {
            "marker": {
             "colorbar": {
              "outlinewidth": 0,
              "ticks": ""
             }
            },
            "type": "scatter"
           }
          ],
          "scatter3d": [
           {
            "line": {
             "colorbar": {
              "outlinewidth": 0,
              "ticks": ""
             }
            },
            "marker": {
             "colorbar": {
              "outlinewidth": 0,
              "ticks": ""
             }
            },
            "type": "scatter3d"
           }
          ],
          "scattercarpet": [
           {
            "marker": {
             "colorbar": {
              "outlinewidth": 0,
              "ticks": ""
             }
            },
            "type": "scattercarpet"
           }
          ],
          "scattergeo": [
           {
            "marker": {
             "colorbar": {
              "outlinewidth": 0,
              "ticks": ""
             }
            },
            "type": "scattergeo"
           }
          ],
          "scattergl": [
           {
            "marker": {
             "colorbar": {
              "outlinewidth": 0,
              "ticks": ""
             }
            },
            "type": "scattergl"
           }
          ],
          "scattermapbox": [
           {
            "marker": {
             "colorbar": {
              "outlinewidth": 0,
              "ticks": ""
             }
            },
            "type": "scattermapbox"
           }
          ],
          "scatterpolar": [
           {
            "marker": {
             "colorbar": {
              "outlinewidth": 0,
              "ticks": ""
             }
            },
            "type": "scatterpolar"
           }
          ],
          "scatterpolargl": [
           {
            "marker": {
             "colorbar": {
              "outlinewidth": 0,
              "ticks": ""
             }
            },
            "type": "scatterpolargl"
           }
          ],
          "scatterternary": [
           {
            "marker": {
             "colorbar": {
              "outlinewidth": 0,
              "ticks": ""
             }
            },
            "type": "scatterternary"
           }
          ],
          "surface": [
           {
            "colorbar": {
             "outlinewidth": 0,
             "ticks": ""
            },
            "colorscale": [
             [
              0,
              "#0d0887"
             ],
             [
              0.1111111111111111,
              "#46039f"
             ],
             [
              0.2222222222222222,
              "#7201a8"
             ],
             [
              0.3333333333333333,
              "#9c179e"
             ],
             [
              0.4444444444444444,
              "#bd3786"
             ],
             [
              0.5555555555555556,
              "#d8576b"
             ],
             [
              0.6666666666666666,
              "#ed7953"
             ],
             [
              0.7777777777777778,
              "#fb9f3a"
             ],
             [
              0.8888888888888888,
              "#fdca26"
             ],
             [
              1,
              "#f0f921"
             ]
            ],
            "type": "surface"
           }
          ],
          "table": [
           {
            "cells": {
             "fill": {
              "color": "#EBF0F8"
             },
             "line": {
              "color": "white"
             }
            },
            "header": {
             "fill": {
              "color": "#C8D4E3"
             },
             "line": {
              "color": "white"
             }
            },
            "type": "table"
           }
          ]
         },
         "layout": {
          "annotationdefaults": {
           "arrowcolor": "#2a3f5f",
           "arrowhead": 0,
           "arrowwidth": 1
          },
          "coloraxis": {
           "colorbar": {
            "outlinewidth": 0,
            "ticks": ""
           }
          },
          "colorscale": {
           "diverging": [
            [
             0,
             "#8e0152"
            ],
            [
             0.1,
             "#c51b7d"
            ],
            [
             0.2,
             "#de77ae"
            ],
            [
             0.3,
             "#f1b6da"
            ],
            [
             0.4,
             "#fde0ef"
            ],
            [
             0.5,
             "#f7f7f7"
            ],
            [
             0.6,
             "#e6f5d0"
            ],
            [
             0.7,
             "#b8e186"
            ],
            [
             0.8,
             "#7fbc41"
            ],
            [
             0.9,
             "#4d9221"
            ],
            [
             1,
             "#276419"
            ]
           ],
           "sequential": [
            [
             0,
             "#0d0887"
            ],
            [
             0.1111111111111111,
             "#46039f"
            ],
            [
             0.2222222222222222,
             "#7201a8"
            ],
            [
             0.3333333333333333,
             "#9c179e"
            ],
            [
             0.4444444444444444,
             "#bd3786"
            ],
            [
             0.5555555555555556,
             "#d8576b"
            ],
            [
             0.6666666666666666,
             "#ed7953"
            ],
            [
             0.7777777777777778,
             "#fb9f3a"
            ],
            [
             0.8888888888888888,
             "#fdca26"
            ],
            [
             1,
             "#f0f921"
            ]
           ],
           "sequentialminus": [
            [
             0,
             "#0d0887"
            ],
            [
             0.1111111111111111,
             "#46039f"
            ],
            [
             0.2222222222222222,
             "#7201a8"
            ],
            [
             0.3333333333333333,
             "#9c179e"
            ],
            [
             0.4444444444444444,
             "#bd3786"
            ],
            [
             0.5555555555555556,
             "#d8576b"
            ],
            [
             0.6666666666666666,
             "#ed7953"
            ],
            [
             0.7777777777777778,
             "#fb9f3a"
            ],
            [
             0.8888888888888888,
             "#fdca26"
            ],
            [
             1,
             "#f0f921"
            ]
           ]
          },
          "colorway": [
           "#636efa",
           "#EF553B",
           "#00cc96",
           "#ab63fa",
           "#FFA15A",
           "#19d3f3",
           "#FF6692",
           "#B6E880",
           "#FF97FF",
           "#FECB52"
          ],
          "font": {
           "color": "#2a3f5f"
          },
          "geo": {
           "bgcolor": "white",
           "lakecolor": "white",
           "landcolor": "#E5ECF6",
           "showlakes": true,
           "showland": true,
           "subunitcolor": "white"
          },
          "hoverlabel": {
           "align": "left"
          },
          "hovermode": "closest",
          "mapbox": {
           "style": "light"
          },
          "paper_bgcolor": "white",
          "plot_bgcolor": "#E5ECF6",
          "polar": {
           "angularaxis": {
            "gridcolor": "white",
            "linecolor": "white",
            "ticks": ""
           },
           "bgcolor": "#E5ECF6",
           "radialaxis": {
            "gridcolor": "white",
            "linecolor": "white",
            "ticks": ""
           }
          },
          "scene": {
           "xaxis": {
            "backgroundcolor": "#E5ECF6",
            "gridcolor": "white",
            "gridwidth": 2,
            "linecolor": "white",
            "showbackground": true,
            "ticks": "",
            "zerolinecolor": "white"
           },
           "yaxis": {
            "backgroundcolor": "#E5ECF6",
            "gridcolor": "white",
            "gridwidth": 2,
            "linecolor": "white",
            "showbackground": true,
            "ticks": "",
            "zerolinecolor": "white"
           },
           "zaxis": {
            "backgroundcolor": "#E5ECF6",
            "gridcolor": "white",
            "gridwidth": 2,
            "linecolor": "white",
            "showbackground": true,
            "ticks": "",
            "zerolinecolor": "white"
           }
          },
          "shapedefaults": {
           "line": {
            "color": "#2a3f5f"
           }
          },
          "ternary": {
           "aaxis": {
            "gridcolor": "white",
            "linecolor": "white",
            "ticks": ""
           },
           "baxis": {
            "gridcolor": "white",
            "linecolor": "white",
            "ticks": ""
           },
           "bgcolor": "#E5ECF6",
           "caxis": {
            "gridcolor": "white",
            "linecolor": "white",
            "ticks": ""
           }
          },
          "title": {
           "x": 0.05
          },
          "xaxis": {
           "automargin": true,
           "gridcolor": "white",
           "linecolor": "white",
           "ticks": "",
           "title": {
            "standoff": 15
           },
           "zerolinecolor": "white",
           "zerolinewidth": 2
          },
          "yaxis": {
           "automargin": true,
           "gridcolor": "white",
           "linecolor": "white",
           "ticks": "",
           "title": {
            "standoff": 15
           },
           "zerolinecolor": "white",
           "zerolinewidth": 2
          }
         }
        },
        "xaxis": {
         "dtick": 1,
         "gridwidth": 2,
         "showticklabels": false,
         "tick0": -0.5,
         "ticks": "",
         "zeroline": false
        },
        "yaxis": {
         "autorange": "reversed",
         "dtick": 1,
         "gridwidth": 2,
         "showticklabels": false,
         "tick0": 0.5,
         "ticks": "",
         "zeroline": false
        }
       }
      },
      "text/html": [
       "<div>\n",
       "        \n",
       "        \n",
       "            <div id=\"a7f38f6c-3bf3-4c99-abab-3cb087ea9d04\" class=\"plotly-graph-div\" style=\"height:320px; width:100%;\"></div>\n",
       "            <script type=\"text/javascript\">\n",
       "                require([\"plotly\"], function(Plotly) {\n",
       "                    window.PLOTLYENV=window.PLOTLYENV || {};\n",
       "                    \n",
       "                if (document.getElementById(\"a7f38f6c-3bf3-4c99-abab-3cb087ea9d04\")) {\n",
       "                    Plotly.newPlot(\n",
       "                        'a7f38f6c-3bf3-4c99-abab-3cb087ea9d04',\n",
       "                        [{\"colorscale\": [[0, \"#00083e\"], [0.5, \"#ededee\"], [1, \"#ffffff\"]], \"hoverinfo\": \"none\", \"opacity\": 0.75, \"showscale\": false, \"type\": \"heatmap\", \"z\": [[0, 0, 0], [0.5, 0.5, 0.5], [1, 1, 1], [0.5, 0.5, 0.5], [1, 1, 1], [0.5, 0.5, 0.5], [1, 1, 1], [0.5, 0.5, 0.5], [1, 1, 1]]}],\n",
       "                        {\"annotations\": [{\"align\": \"left\", \"font\": {\"color\": \"#ffffff\"}, \"showarrow\": false, \"text\": \"<b>index</b>\", \"x\": -0.45, \"xanchor\": \"left\", \"xref\": \"x\", \"y\": 0, \"yref\": \"y\"}, {\"align\": \"left\", \"font\": {\"color\": \"#ffffff\"}, \"showarrow\": false, \"text\": \"<b>NumCaso</b>\", \"x\": 0.55, \"xanchor\": \"left\", \"xref\": \"x\", \"y\": 0, \"yref\": \"y\"}, {\"align\": \"left\", \"font\": {\"color\": \"#ffffff\"}, \"showarrow\": false, \"text\": \"<b>Edad</b>\", \"x\": 1.55, \"xanchor\": \"left\", \"xref\": \"x\", \"y\": 0, \"yref\": \"y\"}, {\"align\": \"left\", \"font\": {\"color\": \"#000000\"}, \"showarrow\": false, \"text\": \"717.0\", \"x\": -0.45, \"xanchor\": \"left\", \"xref\": \"x\", \"y\": 1, \"yref\": \"y\"}, {\"align\": \"left\", \"font\": {\"color\": \"#000000\"}, \"showarrow\": false, \"text\": \"717.0\", \"x\": 0.55, \"xanchor\": \"left\", \"xref\": \"x\", \"y\": 1, \"yref\": \"y\"}, {\"align\": \"left\", \"font\": {\"color\": \"#000000\"}, \"showarrow\": false, \"text\": \"717.0\", \"x\": 1.55, \"xanchor\": \"left\", \"xref\": \"x\", \"y\": 1, \"yref\": \"y\"}, {\"align\": \"left\", \"font\": {\"color\": \"#000000\"}, \"showarrow\": false, \"text\": \"358.0\", \"x\": -0.45, \"xanchor\": \"left\", \"xref\": \"x\", \"y\": 2, \"yref\": \"y\"}, {\"align\": \"left\", \"font\": {\"color\": \"#000000\"}, \"showarrow\": false, \"text\": \"359.0\", \"x\": 0.55, \"xanchor\": \"left\", \"xref\": \"x\", \"y\": 2, \"yref\": \"y\"}, {\"align\": \"left\", \"font\": {\"color\": \"#000000\"}, \"showarrow\": false, \"text\": \"42.541143654114364\", \"x\": 1.55, \"xanchor\": \"left\", \"xref\": \"x\", \"y\": 2, \"yref\": \"y\"}, {\"align\": \"left\", \"font\": {\"color\": \"#000000\"}, \"showarrow\": false, \"text\": \"207.12435877993684\", \"x\": -0.45, \"xanchor\": \"left\", \"xref\": \"x\", \"y\": 3, \"yref\": \"y\"}, {\"align\": \"left\", \"font\": {\"color\": \"#000000\"}, \"showarrow\": false, \"text\": \"207.12435877993684\", \"x\": 0.55, \"xanchor\": \"left\", \"xref\": \"x\", \"y\": 3, \"yref\": \"y\"}, {\"align\": \"left\", \"font\": {\"color\": \"#000000\"}, \"showarrow\": false, \"text\": \"15.86658923642668\", \"x\": 1.55, \"xanchor\": \"left\", \"xref\": \"x\", \"y\": 3, \"yref\": \"y\"}, {\"align\": \"left\", \"font\": {\"color\": \"#000000\"}, \"showarrow\": false, \"text\": \"0.0\", \"x\": -0.45, \"xanchor\": \"left\", \"xref\": \"x\", \"y\": 4, \"yref\": \"y\"}, {\"align\": \"left\", \"font\": {\"color\": \"#000000\"}, \"showarrow\": false, \"text\": \"1.0\", \"x\": 0.55, \"xanchor\": \"left\", \"xref\": \"x\", \"y\": 4, \"yref\": \"y\"}, {\"align\": \"left\", \"font\": {\"color\": \"#000000\"}, \"showarrow\": false, \"text\": \"0.0\", \"x\": 1.55, \"xanchor\": \"left\", \"xref\": \"x\", \"y\": 4, \"yref\": \"y\"}, {\"align\": \"left\", \"font\": {\"color\": \"#000000\"}, \"showarrow\": false, \"text\": \"179.0\", \"x\": -0.45, \"xanchor\": \"left\", \"xref\": \"x\", \"y\": 5, \"yref\": \"y\"}, {\"align\": \"left\", \"font\": {\"color\": \"#000000\"}, \"showarrow\": false, \"text\": \"180.0\", \"x\": 0.55, \"xanchor\": \"left\", \"xref\": \"x\", \"y\": 5, \"yref\": \"y\"}, {\"align\": \"left\", \"font\": {\"color\": \"#000000\"}, \"showarrow\": false, \"text\": \"30.0\", \"x\": 1.55, \"xanchor\": \"left\", \"xref\": \"x\", \"y\": 5, \"yref\": \"y\"}, {\"align\": \"left\", \"font\": {\"color\": \"#000000\"}, \"showarrow\": false, \"text\": \"358.0\", \"x\": -0.45, \"xanchor\": \"left\", \"xref\": \"x\", \"y\": 6, \"yref\": \"y\"}, {\"align\": \"left\", \"font\": {\"color\": \"#000000\"}, \"showarrow\": false, \"text\": \"359.0\", \"x\": 0.55, \"xanchor\": \"left\", \"xref\": \"x\", \"y\": 6, \"yref\": \"y\"}, {\"align\": \"left\", \"font\": {\"color\": \"#000000\"}, \"showarrow\": false, \"text\": \"41.0\", \"x\": 1.55, \"xanchor\": \"left\", \"xref\": \"x\", \"y\": 6, \"yref\": \"y\"}, {\"align\": \"left\", \"font\": {\"color\": \"#000000\"}, \"showarrow\": false, \"text\": \"537.0\", \"x\": -0.45, \"xanchor\": \"left\", \"xref\": \"x\", \"y\": 7, \"yref\": \"y\"}, {\"align\": \"left\", \"font\": {\"color\": \"#000000\"}, \"showarrow\": false, \"text\": \"538.0\", \"x\": 0.55, \"xanchor\": \"left\", \"xref\": \"x\", \"y\": 7, \"yref\": \"y\"}, {\"align\": \"left\", \"font\": {\"color\": \"#000000\"}, \"showarrow\": false, \"text\": \"54.0\", \"x\": 1.55, \"xanchor\": \"left\", \"xref\": \"x\", \"y\": 7, \"yref\": \"y\"}, {\"align\": \"left\", \"font\": {\"color\": \"#000000\"}, \"showarrow\": false, \"text\": \"716.0\", \"x\": -0.45, \"xanchor\": \"left\", \"xref\": \"x\", \"y\": 8, \"yref\": \"y\"}, {\"align\": \"left\", \"font\": {\"color\": \"#000000\"}, \"showarrow\": false, \"text\": \"717.0\", \"x\": 0.55, \"xanchor\": \"left\", \"xref\": \"x\", \"y\": 8, \"yref\": \"y\"}, {\"align\": \"left\", \"font\": {\"color\": \"#000000\"}, \"showarrow\": false, \"text\": \"88.0\", \"x\": 1.55, \"xanchor\": \"left\", \"xref\": \"x\", \"y\": 8, \"yref\": \"y\"}], \"height\": 320, \"margin\": {\"b\": 0, \"l\": 0, \"r\": 0, \"t\": 0}, \"template\": {\"data\": {\"bar\": [{\"error_x\": {\"color\": \"#2a3f5f\"}, \"error_y\": {\"color\": \"#2a3f5f\"}, \"marker\": {\"line\": {\"color\": \"#E5ECF6\", \"width\": 0.5}}, \"type\": \"bar\"}], \"barpolar\": [{\"marker\": {\"line\": {\"color\": \"#E5ECF6\", \"width\": 0.5}}, \"type\": \"barpolar\"}], \"carpet\": [{\"aaxis\": {\"endlinecolor\": \"#2a3f5f\", \"gridcolor\": \"white\", \"linecolor\": \"white\", \"minorgridcolor\": \"white\", \"startlinecolor\": \"#2a3f5f\"}, \"baxis\": {\"endlinecolor\": \"#2a3f5f\", \"gridcolor\": \"white\", \"linecolor\": \"white\", \"minorgridcolor\": \"white\", \"startlinecolor\": \"#2a3f5f\"}, \"type\": \"carpet\"}], \"choropleth\": [{\"colorbar\": {\"outlinewidth\": 0, \"ticks\": \"\"}, \"type\": \"choropleth\"}], \"contour\": [{\"colorbar\": {\"outlinewidth\": 0, \"ticks\": \"\"}, \"colorscale\": [[0.0, \"#0d0887\"], [0.1111111111111111, \"#46039f\"], [0.2222222222222222, \"#7201a8\"], [0.3333333333333333, \"#9c179e\"], [0.4444444444444444, \"#bd3786\"], [0.5555555555555556, \"#d8576b\"], [0.6666666666666666, \"#ed7953\"], [0.7777777777777778, \"#fb9f3a\"], [0.8888888888888888, \"#fdca26\"], [1.0, \"#f0f921\"]], \"type\": \"contour\"}], \"contourcarpet\": [{\"colorbar\": {\"outlinewidth\": 0, \"ticks\": \"\"}, \"type\": \"contourcarpet\"}], \"heatmap\": [{\"colorbar\": {\"outlinewidth\": 0, \"ticks\": \"\"}, \"colorscale\": [[0.0, \"#0d0887\"], [0.1111111111111111, \"#46039f\"], [0.2222222222222222, \"#7201a8\"], [0.3333333333333333, \"#9c179e\"], [0.4444444444444444, \"#bd3786\"], [0.5555555555555556, \"#d8576b\"], [0.6666666666666666, \"#ed7953\"], [0.7777777777777778, \"#fb9f3a\"], [0.8888888888888888, \"#fdca26\"], [1.0, \"#f0f921\"]], \"type\": \"heatmap\"}], \"heatmapgl\": [{\"colorbar\": {\"outlinewidth\": 0, \"ticks\": \"\"}, \"colorscale\": [[0.0, \"#0d0887\"], [0.1111111111111111, \"#46039f\"], [0.2222222222222222, \"#7201a8\"], [0.3333333333333333, \"#9c179e\"], [0.4444444444444444, \"#bd3786\"], [0.5555555555555556, \"#d8576b\"], [0.6666666666666666, \"#ed7953\"], [0.7777777777777778, \"#fb9f3a\"], [0.8888888888888888, \"#fdca26\"], [1.0, \"#f0f921\"]], \"type\": \"heatmapgl\"}], \"histogram\": [{\"marker\": {\"colorbar\": {\"outlinewidth\": 0, \"ticks\": \"\"}}, \"type\": \"histogram\"}], \"histogram2d\": [{\"colorbar\": {\"outlinewidth\": 0, \"ticks\": \"\"}, \"colorscale\": [[0.0, \"#0d0887\"], [0.1111111111111111, \"#46039f\"], [0.2222222222222222, \"#7201a8\"], [0.3333333333333333, \"#9c179e\"], [0.4444444444444444, \"#bd3786\"], [0.5555555555555556, \"#d8576b\"], [0.6666666666666666, \"#ed7953\"], [0.7777777777777778, \"#fb9f3a\"], [0.8888888888888888, \"#fdca26\"], [1.0, \"#f0f921\"]], \"type\": \"histogram2d\"}], \"histogram2dcontour\": [{\"colorbar\": {\"outlinewidth\": 0, \"ticks\": \"\"}, \"colorscale\": [[0.0, \"#0d0887\"], [0.1111111111111111, \"#46039f\"], [0.2222222222222222, \"#7201a8\"], [0.3333333333333333, \"#9c179e\"], [0.4444444444444444, \"#bd3786\"], [0.5555555555555556, \"#d8576b\"], [0.6666666666666666, \"#ed7953\"], [0.7777777777777778, \"#fb9f3a\"], [0.8888888888888888, \"#fdca26\"], [1.0, \"#f0f921\"]], \"type\": \"histogram2dcontour\"}], \"mesh3d\": [{\"colorbar\": {\"outlinewidth\": 0, \"ticks\": \"\"}, \"type\": \"mesh3d\"}], \"parcoords\": [{\"line\": {\"colorbar\": {\"outlinewidth\": 0, \"ticks\": \"\"}}, \"type\": \"parcoords\"}], \"pie\": [{\"automargin\": true, \"type\": \"pie\"}], \"scatter\": [{\"marker\": {\"colorbar\": {\"outlinewidth\": 0, \"ticks\": \"\"}}, \"type\": \"scatter\"}], \"scatter3d\": [{\"line\": {\"colorbar\": {\"outlinewidth\": 0, \"ticks\": \"\"}}, \"marker\": {\"colorbar\": {\"outlinewidth\": 0, \"ticks\": \"\"}}, \"type\": \"scatter3d\"}], \"scattercarpet\": [{\"marker\": {\"colorbar\": {\"outlinewidth\": 0, \"ticks\": \"\"}}, \"type\": \"scattercarpet\"}], \"scattergeo\": [{\"marker\": {\"colorbar\": {\"outlinewidth\": 0, \"ticks\": \"\"}}, \"type\": \"scattergeo\"}], \"scattergl\": [{\"marker\": {\"colorbar\": {\"outlinewidth\": 0, \"ticks\": \"\"}}, \"type\": \"scattergl\"}], \"scattermapbox\": [{\"marker\": {\"colorbar\": {\"outlinewidth\": 0, \"ticks\": \"\"}}, \"type\": \"scattermapbox\"}], \"scatterpolar\": [{\"marker\": {\"colorbar\": {\"outlinewidth\": 0, \"ticks\": \"\"}}, \"type\": \"scatterpolar\"}], \"scatterpolargl\": [{\"marker\": {\"colorbar\": {\"outlinewidth\": 0, \"ticks\": \"\"}}, \"type\": \"scatterpolargl\"}], \"scatterternary\": [{\"marker\": {\"colorbar\": {\"outlinewidth\": 0, \"ticks\": \"\"}}, \"type\": \"scatterternary\"}], \"surface\": [{\"colorbar\": {\"outlinewidth\": 0, \"ticks\": \"\"}, \"colorscale\": [[0.0, \"#0d0887\"], [0.1111111111111111, \"#46039f\"], [0.2222222222222222, \"#7201a8\"], [0.3333333333333333, \"#9c179e\"], [0.4444444444444444, \"#bd3786\"], [0.5555555555555556, \"#d8576b\"], [0.6666666666666666, \"#ed7953\"], [0.7777777777777778, \"#fb9f3a\"], [0.8888888888888888, \"#fdca26\"], [1.0, \"#f0f921\"]], \"type\": \"surface\"}], \"table\": [{\"cells\": {\"fill\": {\"color\": \"#EBF0F8\"}, \"line\": {\"color\": \"white\"}}, \"header\": {\"fill\": {\"color\": \"#C8D4E3\"}, \"line\": {\"color\": \"white\"}}, \"type\": \"table\"}]}, \"layout\": {\"annotationdefaults\": {\"arrowcolor\": \"#2a3f5f\", \"arrowhead\": 0, \"arrowwidth\": 1}, \"coloraxis\": {\"colorbar\": {\"outlinewidth\": 0, \"ticks\": \"\"}}, \"colorscale\": {\"diverging\": [[0, \"#8e0152\"], [0.1, \"#c51b7d\"], [0.2, \"#de77ae\"], [0.3, \"#f1b6da\"], [0.4, \"#fde0ef\"], [0.5, \"#f7f7f7\"], [0.6, \"#e6f5d0\"], [0.7, \"#b8e186\"], [0.8, \"#7fbc41\"], [0.9, \"#4d9221\"], [1, \"#276419\"]], \"sequential\": [[0.0, \"#0d0887\"], [0.1111111111111111, \"#46039f\"], [0.2222222222222222, \"#7201a8\"], [0.3333333333333333, \"#9c179e\"], [0.4444444444444444, \"#bd3786\"], [0.5555555555555556, \"#d8576b\"], [0.6666666666666666, \"#ed7953\"], [0.7777777777777778, \"#fb9f3a\"], [0.8888888888888888, \"#fdca26\"], [1.0, \"#f0f921\"]], \"sequentialminus\": [[0.0, \"#0d0887\"], [0.1111111111111111, \"#46039f\"], [0.2222222222222222, \"#7201a8\"], [0.3333333333333333, \"#9c179e\"], [0.4444444444444444, \"#bd3786\"], [0.5555555555555556, \"#d8576b\"], [0.6666666666666666, \"#ed7953\"], [0.7777777777777778, \"#fb9f3a\"], [0.8888888888888888, \"#fdca26\"], [1.0, \"#f0f921\"]]}, \"colorway\": [\"#636efa\", \"#EF553B\", \"#00cc96\", \"#ab63fa\", \"#FFA15A\", \"#19d3f3\", \"#FF6692\", \"#B6E880\", \"#FF97FF\", \"#FECB52\"], \"font\": {\"color\": \"#2a3f5f\"}, \"geo\": {\"bgcolor\": \"white\", \"lakecolor\": \"white\", \"landcolor\": \"#E5ECF6\", \"showlakes\": true, \"showland\": true, \"subunitcolor\": \"white\"}, \"hoverlabel\": {\"align\": \"left\"}, \"hovermode\": \"closest\", \"mapbox\": {\"style\": \"light\"}, \"paper_bgcolor\": \"white\", \"plot_bgcolor\": \"#E5ECF6\", \"polar\": {\"angularaxis\": {\"gridcolor\": \"white\", \"linecolor\": \"white\", \"ticks\": \"\"}, \"bgcolor\": \"#E5ECF6\", \"radialaxis\": {\"gridcolor\": \"white\", \"linecolor\": \"white\", \"ticks\": \"\"}}, \"scene\": {\"xaxis\": {\"backgroundcolor\": \"#E5ECF6\", \"gridcolor\": \"white\", \"gridwidth\": 2, \"linecolor\": \"white\", \"showbackground\": true, \"ticks\": \"\", \"zerolinecolor\": \"white\"}, \"yaxis\": {\"backgroundcolor\": \"#E5ECF6\", \"gridcolor\": \"white\", \"gridwidth\": 2, \"linecolor\": \"white\", \"showbackground\": true, \"ticks\": \"\", \"zerolinecolor\": \"white\"}, \"zaxis\": {\"backgroundcolor\": \"#E5ECF6\", \"gridcolor\": \"white\", \"gridwidth\": 2, \"linecolor\": \"white\", \"showbackground\": true, \"ticks\": \"\", \"zerolinecolor\": \"white\"}}, \"shapedefaults\": {\"line\": {\"color\": \"#2a3f5f\"}}, \"ternary\": {\"aaxis\": {\"gridcolor\": \"white\", \"linecolor\": \"white\", \"ticks\": \"\"}, \"baxis\": {\"gridcolor\": \"white\", \"linecolor\": \"white\", \"ticks\": \"\"}, \"bgcolor\": \"#E5ECF6\", \"caxis\": {\"gridcolor\": \"white\", \"linecolor\": \"white\", \"ticks\": \"\"}}, \"title\": {\"x\": 0.05}, \"xaxis\": {\"automargin\": true, \"gridcolor\": \"white\", \"linecolor\": \"white\", \"ticks\": \"\", \"title\": {\"standoff\": 15}, \"zerolinecolor\": \"white\", \"zerolinewidth\": 2}, \"yaxis\": {\"automargin\": true, \"gridcolor\": \"white\", \"linecolor\": \"white\", \"ticks\": \"\", \"title\": {\"standoff\": 15}, \"zerolinecolor\": \"white\", \"zerolinewidth\": 2}}}, \"xaxis\": {\"dtick\": 1, \"gridwidth\": 2, \"showticklabels\": false, \"tick0\": -0.5, \"ticks\": \"\", \"zeroline\": false}, \"yaxis\": {\"autorange\": \"reversed\", \"dtick\": 1, \"gridwidth\": 2, \"showticklabels\": false, \"tick0\": 0.5, \"ticks\": \"\", \"zeroline\": false}},\n",
       "                        {\"responsive\": true}\n",
       "                    ).then(function(){\n",
       "                            \n",
       "var gd = document.getElementById('a7f38f6c-3bf3-4c99-abab-3cb087ea9d04');\n",
       "var x = new MutationObserver(function (mutations, observer) {{\n",
       "        var display = window.getComputedStyle(gd).display;\n",
       "        if (!display || display === 'none') {{\n",
       "            console.log([gd, 'removed!']);\n",
       "            Plotly.purge(gd);\n",
       "            observer.disconnect();\n",
       "        }}\n",
       "}});\n",
       "\n",
       "// Listen for the removal of the full notebook cells\n",
       "var notebookContainer = gd.closest('#notebook-container');\n",
       "if (notebookContainer) {{\n",
       "    x.observe(notebookContainer, {childList: true});\n",
       "}}\n",
       "\n",
       "// Listen for the clearing of the current output cell\n",
       "var outputEl = gd.closest('.output');\n",
       "if (outputEl) {{\n",
       "    x.observe(outputEl, {childList: true});\n",
       "}}\n",
       "\n",
       "                        })\n",
       "                };\n",
       "                });\n",
       "            </script>\n",
       "        </div>"
      ]
     },
     "metadata": {},
     "output_type": "display_data"
    }
   ],
   "source": [
    "iplot(d)"
   ]
  },
  {
   "cell_type": "code",
   "execution_count": 12,
   "metadata": {},
   "outputs": [
    {
     "name": "stderr",
     "output_type": "stream",
     "text": [
      "/home/saxsa/anaconda3/lib/python3.7/site-packages/pandas_profiling/describe.py:392: FutureWarning:\n",
      "\n",
      "The join_axes-keyword is deprecated. Use .reindex or .reindex_like on the result to achieve the same functionality.\n",
      "\n"
     ]
    },
    {
     "data": {
      "text/html": [
       "<meta charset=\"UTF-8\">\n",
       "\n",
       "<style>\n",
       "\n",
       "        .variablerow {\n",
       "            border: 1px solid #e1e1e8;\n",
       "            border-top: hidden;\n",
       "            padding-top: 2em;\n",
       "            padding-bottom: 2em;\n",
       "            padding-left: 1em;\n",
       "            padding-right: 1em;\n",
       "        }\n",
       "\n",
       "        .headerrow {\n",
       "            border: 1px solid #e1e1e8;\n",
       "            background-color: #f5f5f5;\n",
       "            padding: 2em;\n",
       "        }\n",
       "        .namecol {\n",
       "            margin-top: -1em;\n",
       "            overflow-x: auto;\n",
       "        }\n",
       "\n",
       "        .dl-horizontal dt {\n",
       "            text-align: left;\n",
       "            padding-right: 1em;\n",
       "            white-space: normal;\n",
       "        }\n",
       "\n",
       "        .dl-horizontal dd {\n",
       "            margin-left: 0;\n",
       "        }\n",
       "\n",
       "        .ignore {\n",
       "            opacity: 0.4;\n",
       "        }\n",
       "\n",
       "        .container.pandas-profiling {\n",
       "            max-width:975px;\n",
       "        }\n",
       "\n",
       "        .col-md-12 {\n",
       "            padding-left: 2em;\n",
       "        }\n",
       "\n",
       "        .indent {\n",
       "            margin-left: 1em;\n",
       "        }\n",
       "\n",
       "        .center-img {\n",
       "            margin-left: auto !important;\n",
       "            margin-right: auto !important;\n",
       "            display: block;\n",
       "        }\n",
       "\n",
       "        /* Table example_values */\n",
       "            table.example_values {\n",
       "                border: 0;\n",
       "            }\n",
       "\n",
       "            .example_values th {\n",
       "                border: 0;\n",
       "                padding: 0 ;\n",
       "                color: #555;\n",
       "                font-weight: 600;\n",
       "            }\n",
       "\n",
       "            .example_values tr, .example_values td{\n",
       "                border: 0;\n",
       "                padding: 0;\n",
       "                color: #555;\n",
       "            }\n",
       "\n",
       "        /* STATS */\n",
       "            table.stats {\n",
       "                border: 0;\n",
       "            }\n",
       "\n",
       "            .stats th {\n",
       "                border: 0;\n",
       "                padding: 0 2em 0 0;\n",
       "                color: #555;\n",
       "                font-weight: 600;\n",
       "            }\n",
       "\n",
       "            .stats tr {\n",
       "                border: 0;\n",
       "            }\n",
       "\n",
       "            .stats td{\n",
       "                color: #555;\n",
       "                padding: 1px;\n",
       "                border: 0;\n",
       "            }\n",
       "\n",
       "\n",
       "        /* Sample table */\n",
       "            table.sample {\n",
       "                border: 0;\n",
       "                margin-bottom: 2em;\n",
       "                margin-left:1em;\n",
       "            }\n",
       "            .sample tr {\n",
       "                border:0;\n",
       "            }\n",
       "            .sample td, .sample th{\n",
       "                padding: 0.5em;\n",
       "                white-space: nowrap;\n",
       "                border: none;\n",
       "\n",
       "            }\n",
       "\n",
       "            .sample thead {\n",
       "                border-top: 0;\n",
       "                border-bottom: 2px solid #ddd;\n",
       "            }\n",
       "\n",
       "            .sample td {\n",
       "                width:100%;\n",
       "            }\n",
       "\n",
       "\n",
       "        /* There is no good solution available to make the divs equal height and then center ... */\n",
       "            .histogram {\n",
       "                margin-top: 3em;\n",
       "            }\n",
       "        /* Freq table */\n",
       "\n",
       "            table.freq {\n",
       "                margin-bottom: 2em;\n",
       "                border: 0;\n",
       "            }\n",
       "            table.freq th, table.freq tr, table.freq td {\n",
       "                border: 0;\n",
       "                padding: 0;\n",
       "            }\n",
       "\n",
       "            .freq thead {\n",
       "                font-weight: 600;\n",
       "                white-space: nowrap;\n",
       "                overflow: hidden;\n",
       "                text-overflow: ellipsis;\n",
       "\n",
       "            }\n",
       "\n",
       "            td.fillremaining{\n",
       "                width:auto;\n",
       "                max-width: none;\n",
       "            }\n",
       "\n",
       "            td.number, th.number {\n",
       "                text-align:right ;\n",
       "            }\n",
       "\n",
       "        /* Freq mini */\n",
       "            .freq.mini td{\n",
       "                width: 50%;\n",
       "                padding: 1px;\n",
       "                font-size: 12px;\n",
       "\n",
       "            }\n",
       "            table.freq.mini {\n",
       "                 width:100%;\n",
       "            }\n",
       "            .freq.mini th {\n",
       "                overflow: hidden;\n",
       "                text-overflow: ellipsis;\n",
       "                white-space: nowrap;\n",
       "                max-width: 5em;\n",
       "                font-weight: 400;\n",
       "                text-align:right;\n",
       "                padding-right: 0.5em;\n",
       "            }\n",
       "\n",
       "            .missing {\n",
       "                color: #a94442;\n",
       "            }\n",
       "            .alert, .alert > th, .alert > td {\n",
       "                color: #a94442;\n",
       "            }\n",
       "\n",
       "\n",
       "        /* Bars in tables */\n",
       "            .freq .bar{\n",
       "                float: left;\n",
       "                width: 0;\n",
       "                height: 100%;\n",
       "                line-height: 20px;\n",
       "                color: #fff;\n",
       "                text-align: center;\n",
       "                background-color: #337ab7;\n",
       "                border-radius: 3px;\n",
       "                margin-right: 4px;\n",
       "            }\n",
       "            .other .bar {\n",
       "                background-color: #999;\n",
       "            }\n",
       "            .missing .bar{\n",
       "                background-color: #a94442;\n",
       "            }\n",
       "            .tooltip-inner {\n",
       "                width: 100%;\n",
       "                white-space: nowrap;\n",
       "                text-align:left;\n",
       "            }\n",
       "\n",
       "            .extrapadding{\n",
       "                padding: 2em;\n",
       "            }\n",
       "\n",
       "            .pp-anchor{\n",
       "\n",
       "            }\n",
       "\n",
       "</style>\n",
       "\n",
       "<div class=\"container pandas-profiling\">\n",
       "    <div class=\"row headerrow highlight\">\n",
       "        <h1>Overview</h1>\n",
       "    </div>\n",
       "    <div class=\"row variablerow\">\n",
       "    <div class=\"col-md-6 namecol\">\n",
       "        <p class=\"h4\">Dataset info</p>\n",
       "        <table class=\"stats\" style=\"margin-left: 1em;\">\n",
       "            <tbody>\n",
       "            <tr>\n",
       "                <th>Number of variables</th>\n",
       "                <td>9 </td>\n",
       "            </tr>\n",
       "            <tr>\n",
       "                <th>Number of observations</th>\n",
       "                <td>717 </td>\n",
       "            </tr>\n",
       "            <tr>\n",
       "                <th>Total Missing (%)</th>\n",
       "                <td>3.4% </td>\n",
       "            </tr>\n",
       "            <tr>\n",
       "                <th>Total size in memory</th>\n",
       "                <td>56.0 KiB </td>\n",
       "            </tr>\n",
       "            <tr>\n",
       "                <th>Average record size in memory</th>\n",
       "                <td>80.0 B </td>\n",
       "            </tr>\n",
       "            </tbody>\n",
       "        </table>\n",
       "    </div>\n",
       "    <div class=\"col-md-6 namecol\">\n",
       "        <p class=\"h4\">Variables types</p>\n",
       "        <table class=\"stats\" style=\"margin-left: 1em;\">\n",
       "            <tbody>\n",
       "            <tr>\n",
       "                <th>Numeric</th>\n",
       "                <td>2 </td>\n",
       "            </tr>\n",
       "            <tr>\n",
       "                <th>Categorical</th>\n",
       "                <td>5 </td>\n",
       "            </tr>\n",
       "            <tr>\n",
       "                <th>Boolean</th>\n",
       "                <td>0 </td>\n",
       "            </tr>\n",
       "            <tr>\n",
       "                <th>Date</th>\n",
       "                <td>0 </td>\n",
       "            </tr>\n",
       "            <tr>\n",
       "                <th>Text (Unique)</th>\n",
       "                <td>0 </td>\n",
       "            </tr>\n",
       "            <tr>\n",
       "                <th>Rejected</th>\n",
       "                <td>2 </td>\n",
       "            </tr>\n",
       "            <tr>\n",
       "                <th>Unsupported</th>\n",
       "                <td>0 </td>\n",
       "            </tr>\n",
       "            </tbody>\n",
       "        </table>\n",
       "    </div>\n",
       "    <div class=\"col-md-12\" style=\"padding-left: 1em;\">\n",
       "        \n",
       "        <p class=\"h4\">Warnings</p>\n",
       "        <ul class=\"list-unstyled\"><li><a href=\"#pp_var_NumCaso\"><code>NumCaso</code></a> is highly correlated with <a href=\"#pp_var_index\"><code>index</code></a> (ρ = 1) <span class=\"label label-primary\">Rejected</span></li><li><a href=\"#pp_var_Identificación\"><code>Identificación</code></a> has constant value confirmado <span class=\"label label-primary\">Rejected</span></li><li><a href=\"#pp_var_Llegada_México\"><code>Llegada_México</code></a> has 219 / 30.5% missing values <span class=\"label label-default\">Missing</span></li> </ul>\n",
       "    </div>\n",
       "</div>\n",
       "    <div class=\"row headerrow highlight\">\n",
       "        <h1>Variables</h1>\n",
       "    </div>\n",
       "    <div class=\"row variablerow\">\n",
       "    <div class=\"col-md-3 namecol\">\n",
       "        <p class=\"h4 pp-anchor\" id=\"pp_var_index\">index<br/>\n",
       "            <small>Numeric</small>\n",
       "        </p>\n",
       "    </div><div class=\"col-md-6\">\n",
       "    <div class=\"row\">\n",
       "        <div class=\"col-sm-6\">\n",
       "            <table class=\"stats \">\n",
       "                <tr>\n",
       "                    <th>Distinct count</th>\n",
       "                    <td>717</td>\n",
       "                </tr>\n",
       "                <tr>\n",
       "                    <th>Unique (%)</th>\n",
       "                    <td>100.0%</td>\n",
       "                </tr>\n",
       "                <tr class=\"ignore\">\n",
       "                    <th>Missing (%)</th>\n",
       "                    <td>0.0%</td>\n",
       "                </tr>\n",
       "                <tr class=\"ignore\">\n",
       "                    <th>Missing (n)</th>\n",
       "                    <td>0</td>\n",
       "                </tr>\n",
       "                <tr class=\"ignore\">\n",
       "                    <th>Infinite (%)</th>\n",
       "                    <td>0.0%</td>\n",
       "                </tr>\n",
       "                <tr class=\"ignore\">\n",
       "                    <th>Infinite (n)</th>\n",
       "                    <td>0</td>\n",
       "                </tr>\n",
       "            </table>\n",
       "\n",
       "        </div>\n",
       "        <div class=\"col-sm-6\">\n",
       "            <table class=\"stats \">\n",
       "\n",
       "                <tr>\n",
       "                    <th>Mean</th>\n",
       "                    <td>358</td>\n",
       "                </tr>\n",
       "                <tr>\n",
       "                    <th>Minimum</th>\n",
       "                    <td>0</td>\n",
       "                </tr>\n",
       "                <tr>\n",
       "                    <th>Maximum</th>\n",
       "                    <td>716</td>\n",
       "                </tr>\n",
       "                <tr class=\"ignore\">\n",
       "                    <th>Zeros (%)</th>\n",
       "                    <td>0.1%</td>\n",
       "                </tr>\n",
       "            </table>\n",
       "        </div>\n",
       "    </div>\n",
       "</div>\n",
       "<div class=\"col-md-3 collapse in\" id=\"minihistogram5283773304854522096\">\n",
       "    <img src=\"data:image/png;base64,iVBORw0KGgoAAAANSUhEUgAAAMgAAABLCAYAAAA1fMjoAAAABHNCSVQICAgIfAhkiAAAAAlwSFlzAAAPYQAAD2EBqD%2BnaQAAADh0RVh0U29mdHdhcmUAbWF0cGxvdGxpYiB2ZXJzaW9uMy4xLjEsIGh0dHA6Ly9tYXRwbG90bGliLm9yZy8QZhcZAAABE0lEQVR4nO3WwQnCQABFwUQsySLsybM9WYQ9rXeRBwmY7GHmHvbD8siuY4yxAD9dzh4AM7uePeDb7fE65Jz38775m63bjjhjj1l3Lcu%2Bbf%2B0zvbEOuoimNNsgXhiQRAIBIFAEAgEgUAQCASBQBAIBIFAEAgEgUAQCASBQBAIBIFAEAgEgUAQCASBQBAIBIFAEAgEgUAQCASBQBAIBIFAEAgEgUAQCASBQBAIBIFAEAgEgUAQCASBQBAIBIFAEAgEgUAQCASBQBAIBIFAWMcY4%2BwRMCt/EAgCgSAQCAKBIBAIAoEgEAgCgSAQCAKBIBAIAoEgEAgCgSAQCAKBIBAIAoEgEAgCgSAQCAKBIBAIAoEgEAgfWnUbiiXku80AAAAASUVORK5CYII%3D\">\n",
       "\n",
       "</div>\n",
       "<div class=\"col-md-12 text-right\">\n",
       "    <a role=\"button\" data-toggle=\"collapse\" data-target=\"#descriptives5283773304854522096,#minihistogram5283773304854522096\"\n",
       "       aria-expanded=\"false\" aria-controls=\"collapseExample\">\n",
       "        Toggle details\n",
       "    </a>\n",
       "</div>\n",
       "<div class=\"row collapse col-md-12\" id=\"descriptives5283773304854522096\">\n",
       "    <ul class=\"nav nav-tabs\" role=\"tablist\">\n",
       "        <li role=\"presentation\" class=\"active\"><a href=\"#quantiles5283773304854522096\"\n",
       "                                                  aria-controls=\"quantiles5283773304854522096\" role=\"tab\"\n",
       "                                                  data-toggle=\"tab\">Statistics</a></li>\n",
       "        <li role=\"presentation\"><a href=\"#histogram5283773304854522096\" aria-controls=\"histogram5283773304854522096\"\n",
       "                                   role=\"tab\" data-toggle=\"tab\">Histogram</a></li>\n",
       "        <li role=\"presentation\"><a href=\"#common5283773304854522096\" aria-controls=\"common5283773304854522096\"\n",
       "                                   role=\"tab\" data-toggle=\"tab\">Common Values</a></li>\n",
       "        <li role=\"presentation\"><a href=\"#extreme5283773304854522096\" aria-controls=\"extreme5283773304854522096\"\n",
       "                                   role=\"tab\" data-toggle=\"tab\">Extreme Values</a></li>\n",
       "\n",
       "    </ul>\n",
       "\n",
       "    <div class=\"tab-content\">\n",
       "        <div role=\"tabpanel\" class=\"tab-pane active row\" id=\"quantiles5283773304854522096\">\n",
       "            <div class=\"col-md-4 col-md-offset-1\">\n",
       "                <p class=\"h4\">Quantile statistics</p>\n",
       "                <table class=\"stats indent\">\n",
       "                    <tr>\n",
       "                        <th>Minimum</th>\n",
       "                        <td>0</td>\n",
       "                    </tr>\n",
       "                    <tr>\n",
       "                        <th>5-th percentile</th>\n",
       "                        <td>35.8</td>\n",
       "                    </tr>\n",
       "                    <tr>\n",
       "                        <th>Q1</th>\n",
       "                        <td>179</td>\n",
       "                    </tr>\n",
       "                    <tr>\n",
       "                        <th>Median</th>\n",
       "                        <td>358</td>\n",
       "                    </tr>\n",
       "                    <tr>\n",
       "                        <th>Q3</th>\n",
       "                        <td>537</td>\n",
       "                    </tr>\n",
       "                    <tr>\n",
       "                        <th>95-th percentile</th>\n",
       "                        <td>680.2</td>\n",
       "                    </tr>\n",
       "                    <tr>\n",
       "                        <th>Maximum</th>\n",
       "                        <td>716</td>\n",
       "                    </tr>\n",
       "                    <tr>\n",
       "                        <th>Range</th>\n",
       "                        <td>716</td>\n",
       "                    </tr>\n",
       "                    <tr>\n",
       "                        <th>Interquartile range</th>\n",
       "                        <td>358</td>\n",
       "                    </tr>\n",
       "                </table>\n",
       "            </div>\n",
       "            <div class=\"col-md-4 col-md-offset-2\">\n",
       "                <p class=\"h4\">Descriptive statistics</p>\n",
       "                <table class=\"stats indent\">\n",
       "                    <tr>\n",
       "                        <th>Standard deviation</th>\n",
       "                        <td>207.12</td>\n",
       "                    </tr>\n",
       "                    <tr>\n",
       "                        <th>Coef of variation</th>\n",
       "                        <td>0.57856</td>\n",
       "                    </tr>\n",
       "                    <tr>\n",
       "                        <th>Kurtosis</th>\n",
       "                        <td>-1.2</td>\n",
       "                    </tr>\n",
       "                    <tr>\n",
       "                        <th>Mean</th>\n",
       "                        <td>358</td>\n",
       "                    </tr>\n",
       "                    <tr>\n",
       "                        <th>MAD</th>\n",
       "                        <td>179.25</td>\n",
       "                    </tr>\n",
       "                    <tr class=\"\">\n",
       "                        <th>Skewness</th>\n",
       "                        <td>0</td>\n",
       "                    </tr>\n",
       "                    <tr>\n",
       "                        <th>Sum</th>\n",
       "                        <td>256686</td>\n",
       "                    </tr>\n",
       "                    <tr>\n",
       "                        <th>Variance</th>\n",
       "                        <td>42900</td>\n",
       "                    </tr>\n",
       "                    <tr>\n",
       "                        <th>Memory size</th>\n",
       "                        <td>31.2 KiB</td>\n",
       "                    </tr>\n",
       "                </table>\n",
       "            </div>\n",
       "        </div>\n",
       "        <div role=\"tabpanel\" class=\"tab-pane col-md-8 col-md-offset-2\" id=\"histogram5283773304854522096\">\n",
       "            <img src=\"data:image/png;base64,iVBORw0KGgoAAAANSUhEUgAAAlgAAAGQCAYAAAByNR6YAAAABHNCSVQICAgIfAhkiAAAAAlwSFlzAAAPYQAAD2EBqD%2BnaQAAADh0RVh0U29mdHdhcmUAbWF0cGxvdGxpYiB2ZXJzaW9uMy4xLjEsIGh0dHA6Ly9tYXRwbG90bGliLm9yZy8QZhcZAAAgAElEQVR4nO3da3RUVZrG8SehoIHA5CZBLmsQpCEYKtAIYgAhgITm7uomBGQNg0bsptEgioByEQVFBRoFpAdbB1RoCcxACyJ4GUUZzTQXuw2QiKIoEgkpSMUQlEuoPR9YqbYMSAIbDlX1/62VD7XPqV3vW8E6j/ucnIowxhgBAADAmkinCwAAAAg1BCwAAADLCFgAAACWEbAAAAAsI2ABAABYRsACAACwjIAFAABgGQELAADAMgIWAACAZQQsAAAAywhYAAAAlhGwAAAALCNgAQAAWEbAAgAAsIyABQAAYBkBCwAAwDICFgAAgGUELAAAAMsIWAAAAJYRsAAAACwjYAEAAFhGwAIAALCMgAUAAGAZAQsAAMAyAhYAAIBlBCwAAADLCFgAAACWEbAAAAAsI2ABAABYRsACAACwjIAFAABgGQELAADAMgIWAACAZQQsAAAAywhYAAAAlhGwAAAALCNgAQAAWEbAAgAAsIyABQAAYJnL6QLChcdzzPqckZERiouLUnHxcfl8xvr8VyN6pudQRc%2Bh33O49StdHT03aFDfkddlBSuIRUZGKCIiQpGREU6XcsXQc3ig5/AQbj2HW79SePZcgYAFAABgGQELAADAMgIWAACAZQQsAAAAywhYAAAAlhGwAAAALCNgAQAAWEbAAgAAsIyABQAAYBkBCwAAwDICFgAAgGUELAAAAMsIWAAAAJa5nC4Al6bj1M1OlxCyNt3X1ekSqqXfMx86XUKV8d6iwo7Hf%2B10CdXCv4XLJ9g%2BFy6EFSwAAADLCFgAAACWEbAAAAAsizDGGKeLuNK2b9%2BuO%2B%2B8s9L4qVOn9O6776q0tFSPPvqo8vLyFBMTozvuuEN33HHHJb2mx3Pskp5/Li5XpPrM22p9XgAArrTLdQ1Wgwb1L8u8FxKWF7l36tRJu3btChhbuXKlXn/9dcXGxiojI0ODBw/Wiy%2B%2BqH379mnMmDFq3Lix%2Bvbt61DFAAAgmHCKUNLRo0e1cOFCPfLII3r//fd1%2BvRpPfDAA4qKilK7du2UkZGh7Oxsp8sEAABBgoAl6dlnn1Xfvn2VmJiovLw8JSYmqkaNGv7tbdq00Z49exysEAAABJOwPEX4YwcPHtSGDRu0efPZ%2B0l5vV5FR0cH7BMTE6OSkhL5fD5FRl44kxYVFcnj8QSMuVx1lZCQYK9wSTVqkI8BAKHB5QqtY1rYB6yVK1eqZ8%2BeatiwobU5s7OztXjx4oCxcePGKSsry9prAAAQSmJjo5wuwaqwD1ibNm3StGnT/I/j4%2BN14MCBgH28Xq9iY2OrtHolSRkZGerVq1fAmMtVV17v8Usv%2BEdYwQIAhArbx8gKTgW3sA5Y%2B/btU2FhoW6%2B%2BWb/mNvt1qpVq1ReXi6X6%2Bzbk5ubq%2BTk5CrPm5CQUOl0oMdzTOXlPjuFAwAQYkLtGBnWSyB5eXlq1KiR6tWr5x/r3r27oqKiNH/%2BfB0/flzbtm3T6tWrNXLkSAcrBQAAwSSsV7A8Ho9iYmICxmrVqqWlS5dqxowZSklJUXx8vCZNmqQePXo4VCUAAAg2YXkndydwJ3cAAM4v1O7kHtanCAEAAC4HAhYAAIBlBCwAAADLCFgAAACWEbAAAAAsI2ABAABYRsACAACwjIAFAABgGQELAADAMgIWAACAZQQsAAAAywhYAAAAlhGwAAAALCNgAQAAWEbAAgAAsIyABQAAYBkBCwAAwDICFgAAgGUELAAAAMsIWAAAAJYRsAAAACwjYAEAAFhGwAIAALCMgAUAAGAZAQsAAMAyAhYAAIBlBCwAAADLCFgAAACWEbAAAAAsI2ABAABYRsACAACwjIAFAABgWVgHrCVLlqhbt2761a9%2BpdGjR%2Bubb76RJOXk5Gjw4MFyu93q06eP1q9f73ClAAAgmIRtwFq5cqW2bNmi1atXa8uWLWrUqJGWL1%2Buw4cPa%2BzYsRo6dKi2bdumqVOnavr06crNzXW6ZAAAECRcThfglP/8z//UggUL1LhxY0nSnDlzJEkvvPCCmjVrplGjRkmSUlNT1bt3b61Zs0bJycmO1QsAAIJHWAaswsJCFRYW6uuvv9bEiRP13XffKSUlRY888ojy8vKUlJQUsH%2BbNm20adOmKs9fVFQkj8cTMOZy1VVCQoKV%2BivUqBG2C5AAgBDjcoXWMS0sA9bhw4cVERGhd955R9nZ2Tpx4oSysrI0Y8YMlZWVKTExMWD/mJgYFRcXV3n%2B7OxsLV68OGBs3LhxysrKslI/AAChJjY2yukSrArLgHX69GmdPn1aEydOVGxsrCQpKytLY8aMUUpKyjmfExERUeX5MzIy1KtXr4Axl6uuvN7jF1/0ObCCBQAIFbaPkRWcCm5hGbBiYmIkSfXq1fOPNWnSRMYYlZeXq6SkJGB/r9eruLi4Ks%2BfkJBQ6XSgx3NM5eW%2BS6gaAIDQFWrHyLBcAmnWrJnq1aunPXv2%2BMcKCgrkcrmUmpoaMC5Jubm5XOAOAACqLCwDVs2aNZWenq558%2BapsLBQHo9Hzz33nIYMGaLbbrtNBQUFWr58uU6cOKHNmzfrgw8%2BUEZGhtNlAwCAIBGWAUuS7r//fnXo0EGDBw/WoEGD1Lx5cz388MOKj4/X0qVLtW7dOnXq1EkLFizQ/PnzK134DgAAcD4RxhjjdBHhwOM5Zn1OlytSfeZttT4vAABX2qb7ul6WeRs0qH9Z5r2QsF3BAgAAuFwIWAAAAJYRsAAAACwjYAEAAFhGwAIAALCMgAUAAGAZAQsAAMAyAhYAAIBlBCwAAADLCFgAAACWEbAAAAAsI2ABAABYRsACAACwjIAFAABgGQELAADAMgIWAACAZQQsAAAAywhYAAAAlhGwAAAALCNgAQAAWEbAAgAAsIyABQAAYBkBCwAAwDICFgAAgGUELAAAAMsIWAAAAJYRsAAAACwjYAEAAFhGwAIAALCMgAUAAGAZAQsAAMCysAxYPXv2VNu2beV2u/0/s2bNkiTl5ORo8ODBcrvd6tOnj9avX%2B9wtQAAINi4nC7ACaWlpXr55ZfVoUOHgPHDhw9r7Nixuv/%2B%2B5Wenq6//e1vGj9%2BvK677jolJyc7VC0AAAg2YbeCdebMGR0/flzR0dGVtm3YsEHNmjXTqFGjVKdOHaWmpqp3795as2aNA5UCAIBgFXYrWKWlpTLGaNGiRdqxY4ckKTU1VVOmTFFeXp6SkpIC9m/Tpo02bdpUrdcoKiqSx%2BMJGHO56iohIeHSiv%2BJGjXCLh8DAEKUyxVax7SwC1inTp1SUlKS3G63Zs%2BeraKiIo0fP14zZ86U1%2BtVYmJiwP4xMTEqLi6u1mtkZ2dr8eLFAWPjxo1TVlbWJdcPAEAoio2NcroEq8IuYDVs2FBr1671P65Xr54mTpyo3//%2B9%2BrYseM5nxMREVGt18jIyFCvXr0CxlyuuvJ6j1e/4J/BChYAIFTYPkZWcCq4hV3AOpemTZvK5/MpMjJSJSUlAdu8Xq/i4uKqNV9CQkKl04EezzGVl/suuVYAAEJRqB0jw24J5NNPP9WTTz4ZMPbll1%2BqVq1a6tGjh/bs2ROwLTc3l78gBAAA1RJ2ASs2NlbZ2dl6/vnnderUKX311Vd69tlnNWLECA0ZMkQFBQVavny5Tpw4oc2bN%2BuDDz5QRkaG02UDAIAgEmGMMU4XcaVt375d8%2BbN02effabY2Fj1799fWVlZqlWrlnbs2KFZs2bpyy%2B/VOPGjTVx4kT16dPnkl/T4zlmofJALlek%2Bszban1eAACutE33db0s8zZoUP%2ByzHshYRmwnEDAAgDg/EItYIXdKUIAAIDLjYAFAABgGQELAADAMgIWAACAZQQsAAAAywhYAAAAlhGwAAAALCNgAQAAWEbAAgAAsIyABQAAYBkBCwAAwLKgCljHjtn/Pj8AAADbgipgdevWTZMnT9aOHTucLgUAAOC8gipgPfroozp69KhGjx6tfv36admyZSouLna6LAAAgAARxhjjdBHVVVxcrI0bN2rjxo3Ky8tT7969NWzYMKWkpDhd2nl5PPZPb7pckeozb6v1eQEAuNI23df1sszboEH9yzLvhQTVClaFuLg4/du//ZtWrVqlp556Sh999JHuvPNO9evXT2%2B99ZbT5QEAgDDncrqAi1FcXKy1a9dq7dq1%2Bvrrr9WlSxdlZGToyJEjmjFjhg4cOKC77rrL6TIBAECYCqqAtXXrVq1Zs0bvvvuuYmJi9Nvf/lbp6elq2rSpf58bbrhBY8aMIWABAADHBFXAuvvuu9W5c2fNmzdPt956q1yuyuUnJycrISHBgeoAAADOCqqAtXnzZjVr1kynTp3yh6uysjLVq1cvYL8NGzY4UR4AAICkILvIvUaNGho4cKDeffdd/9jq1avVr18/ffPNNw5WBgAA8E9BFbAef/xx/fKXv9SNN97oHxs8eLDatWunxx9/3MHKAAAA/imoThHu3LlT77//vurUqeMfu%2BaaazRjxgylpqY6VxgAAMCPBNUKljFGp06dqjR%2B/Phx%2BXw%2BByoCAACoLKgCVteuXTVp0iTl5eWptLRUJSUl2rlzp%2B6//35169bN6fIAAAAkBdkpwunTp2vixIn6zW9%2Bo4iICP94586dNW3aNAcrAwAA%2BKegCljx8fFatmyZ9u3bp6%2B%2B%2BkqS1Lx5c11//fXOFgYAAPAjQRWwKrRs2VItW7Z0ugwAAIBzCqqAtWvXLs2aNUuff/65Tpw4UWl7fn6%2BA1UBAAAECqqANWPGDNWqVUvjx49X7dq1nS4HAADgnIIqYO3fv18fffSR6tat63QpAAAA5xVUt2m49tprrd/v6oknnlDr1q39j3NycjR48GC53W716dNH69evt/p6AAAg9AVVwJo4caLmzJmjsrIyK/Pl5%2Bfrr3/9q//x4cOHNXbsWA0dOlTbtm3T1KlTNX36dOXm5lp5PQAAEB6C6hThkiVLdPDgQa1bt04xMTGKjAzMh//7v/9b5bl8Pp8eeeQR3XHHHXrmmWckSRs2bFCzZs00atQoSVJqaqp69%2B6tNWvWKDk52V4jAAAgpAVVwLrllltUs2ZNK3OtWrVKtWvX1qBBg/wBKy8vT0lJSQH7tWnTRps2bbLymgAAIDwEVcCaMGGClXmOHDmi5557Tq%2B88krAuNfrVWJiYsBYTEyMiouLqzV/UVGRPB5PwJjLVVcJCQkXV/B51KgRVGd4AQA4L5crtI5pQRWwJOmTTz7RqlWr9O233%2Bqll16Sz%2BfTm2%2B%2BqX79%2BlV5jjlz5mjYsGFq0aKFDh48eMH9f/y1PFWRnZ2txYsXB4yNGzdOWVlZ1ZoHAIBwERsb5XQJVgVVwPqf//kfZWVl6ZZbbtHHH38sSSosLNSMGTNUVlam9PT0C86Rk5Oj3bt364knnqi0LS4uTiUlJQFjXq9XcXFx1aozIyNDvXr1ChhzuerK6z1erXkuhBUsAECosH2MrOBUcAuqgPUf//Efmjt3rvr37%2B%2B/6Lxx48ZauHChZs%2BeXaWAtX79ehUWFqp79%2B6SJGOMpLNfGJ2ZmanXX389YP/c3NxqX%2BCekJBQ6XSgx3NM5eV2bzEBAECoCLVjZFAFrP379ystLU1S4Gm7zp07q6CgoEpzTJkyRePHj/c/LiwsVEZGhl577TX5fD4tXbpUy5cv1/Dhw7VlyxZ98MEHWr16td1GAABASAuqgFWzZk2VlJTommuuCRj/6quvqvzVOdHR0YqOjvY/Li8vl3T2JqaStHTpUs2aNUvz589X48aNNX/%2B/EoXvgMAAPycoApYqampmjZtmh588EFJZ6%2BP2r17t%2BbOnauePXte1JxNmzbV3r17/Y87duyo1157zUq9AAAgPAXVVdIPPfSQjDEaMGCATp48qS5dumjMmDFq3LixpkyZ4nR5AAAAkoJsBetf/uVftHTpUn3xxRfav3%2B/IiMj1bx5czVv3tzp0gAAAPyCKmBVuP7663X99dcHjPl8vkpfnQMAAOCEoApYiYmJP3vTz/z8/CtYDQAAwLkFVcB65JFHAgKWz%2BdTQUGB3nnnHd11110OVgYAAPBPQRWwRowYcc7xoUOHasGCBVW60SgAAMDlFhIXLTVv3lyff/6502UAAABICpGA9fe//13Hjh1zugwAAABJQXaKsFu3bpXGTp8%2BrdLSUt1%2B%2B%2B0OVAQAAFBZUAWsjIyMSn9F%2BItf/EK//OUvlZqa6kxRAAAAPxFUAevee%2B91ugQAAIALCqqA9cwzz8jlqlrJ99xzz2WuBgAA4NyCKmC9/fbb%2Bvbbb3XixAnFxMTI5/Ppu%2B%2B%2BU506dRQbG%2BvfLyIigoAFAAAcE1QB6%2B6779b//d//adKkSf5AdfjwYT399NPq2bOnBg4c6HCFAAAAQXabhkWLFunhhx8OWK1q2LChpk6dqgULFjhYGQAAwD8FVcA6evToOb%2BLsGbNmiouLnagIgAAgMqCKmAlJSVp0qRJ2rNnj0pLS3Xs2DHl5eXp4YcfVmJiotPlAQAASAqya7Aee%2Bwx/eEPf9Bvf/tb/0qWMUZNmzbVkiVLHK4OAADgrKAKWC1atNDmzZu1e/duHTp0SMYYXXvttXK73ec8dQgAAOCEoApYFWJjY3X8%2BHF17tzZ6VIAAAAqCaprsEpKSpSZmanevXsrMzNTkuTxeDRo0CAdPnzY4eoAAADOCqqANW/ePPl8Pq1Zs0aRkWdLr1%2B/vtq0aaPHH3/c4eoAAADOCqpThB999JFeffVVNWzY0H/NVe3atfXQQw%2BpX79%2BDlcHAABwVlCtYB09elQNGjSoNF6nTh2dOHHCgYoAAAAqC6qA1bx5c23ZsqXS%2BKpVq9S8efMrXxAAAMA5BNUpwj/84Q%2B677771KtXL505c0aPPfaY9uzZo127dumZZ55xujwAAABJQbaClZaWphUrVigyMlItW7bUP/7xDzVt2lSrVq1SWlqa0%2BUBAABICqIVLJ/Pp927dys5OVl//OMfnS4HAADgvIJmBSsyMlKjRo3SmTNnnC4FAADgZwVNwJKkQYMGafny5TLGOF0KAADAeQXNKULp7F3b3333XT3//PNq0qSJatWqFbB91apVDlUGAADwT0EVsGJjY9W9e3enywAAAPhZQRGwsrKytHDhQs2ZM8c/tnDhQmVlZV3UfPn5%2BXrqqae0e/duuVwude7cWVOnTlVCQoJycnI0Z84c7d%2B/X9dee63uvfdeDR482FYrAAAgDATFNVjvv/9%2BpbEXX3zxouY6efKkMjMz1alTJ3300Ud6/fXXdeTIEc2cOVOHDx/W2LFjNXToUG3btk1Tp07V9OnTlZube6ktAACAMBIUAetcLvZC9xMnTmjChAn63e9%2Bp1q1aumaa67Rr3/9a%2B3bt08bNmxQs2bNNGrUKNWpU0epqanq3bu31qxZY7l6AAAQyoLiFOG5VHzZc3VFR0crPT1d0tmQtn//fq1bt079%2BvVTXl6ekpKSAvZv06aNNm3aVK3XKCoqksfjCRhzueoqISHhomo%2Bnxo1gjYfAwAQwOUKrWNa0AasS1VQUKC0tDSdOXNGGRkZGj9%2BvDIzM5WYmBiwX0xMjIqLi6s1d3Z2thYvXhwwNm7cuIu%2BZgwAgFAXGxvldAlWhW3AatKkiXbv3q2vv/5a06dP14MPPnjefau7WpaRkaFevXoFjLlcdeX1Hr%2BoWs%2BHFSwAQKiwfYys4FRwC4qAdfr0aT3wwAMXHJs/f3615o2IiNB1112nSZMmaejQoerRo4dKSkoC9vF6vYqLi6vWvAkJCZVOB3o8x1Re7qvWPAAAhItQO0YGxRLIjTfeqKKiooCfc41VRU5Ojm699VaVl5f7x3y%2Bs7/ULl26aM%2BePQH75%2BbmKjk52V4zAAAg5AXFCtYrr7xiba62bdvqhx9%2B0Pz585WVlaUffvhBixYtUseOHTVo0CAtWrRIy5cv1/Dhw7VlyxZ98MEHWr16tbXXBwAAoS8oVrBsql%2B/vl544QXl5%2BfrlltuUf/%2B/RUVFaU//vGPio%2BP19KlS7Vu3Tp16tRJCxYs0Pz58ytd%2BA4AAPBzIgzfnHxFeDzHrM/pckWqz7yt1ucFAOBK23Rf18syb4MG9S/LvBcSditYAAAAlxsBCwAAwDICFgAAgGUELAAAAMsIWAAAAJYRsAAAACwjYAEAAFhGwAIAALCMgAUAAGAZAQsAAMAyAhYAAIBlBCwAAADLCFgAAACWEbAAAAAsI2ABAABYRsACAACwjIAFAABgGQELAADAMgIWAACAZQQsAAAAywhYAAAAlhGwAAAALCNgAQAAWEbAAgAAsIyABQAAYBkBCwAAwDICFgAAgGUELAAAAMsIWAAAAJYRsAAAACwjYAEAAFgWtgHr4MGDGjt2rG666SalpKRo0qRJ%2Bu677yRJ%2Bfn5Gj58uJKTk9W9e3ctW7bM4WoBAEAwCduANXbsWMXExOi9997T%2BvXrtX//fj399NP64YcfNGbMGHXo0EE5OTlatGiR/vSnP%2BnNN990umQAABAkwjJgHTt2TG3bttXEiRMVFRWlBg0a6LbbbtOOHTu0ZcsWnT59Wg888ICioqLUrl07ZWRkKDs72%2BmyAQBAkHA5XYAT6tevrzlz5gSMFRQUqFGjRsrLy1NiYqJq1Kjh39amTRutXr26yvMXFRXJ4/EEjLlcdZWQkHBphf9EjRphmY8BACHI5QqtY1pYBqyf2rVrl1auXKmFCxfq7bffVnR0dMD2mJgYlZSUyOfzKTLywv8AsrOztXjx4oCxcePGKSsry2rdAACEitjYKKdLsCrsA9bOnTs1duxYTZo0ST169NDbb799yXNmZGSoV69eAWMuV115vccvee4fYwULABAqbB8jKzgV3MI6YL333nt68MEH9eijj2rAgAGSpPj4eB04cCBgP6/Xq9jY2CqtXklSQkJCpdOBHs8xlZf77BQOAECICbVjZNgugXz88ceaPHmyFi5c6A9XkuR2u7V3716Vl5f7x3Jzc5WcnOxEmQAAIAiFZcAqLy/XtGnTNH78eHXp0iVgW/fu3RUVFaX58%2Bfr%2BPHj2rZtm1avXq2RI0c6VC0AAAg2EcYY43QRV9qOHTs0cuRI1apVq9K2zZs36/vvv9eMGTO0Z88excfH6%2B6779aIESMu6TU9nmOX9Pxzcbki1WfeVuvzAgBwpW26r%2BtlmbdBg/qXZd4LCctrsDp27Ki9e/f%2B7D6vvvrqFaoGAACEmrA8RQgAAHA5EbAAAAAsI2ABAABYRsACAACwjIAFAABgGQELAADAMgIWAACAZQQsAAAAywhYAAAAlhGwAAAALCNgAQAAWEbAAgAAsIyABQAAYBkBCwAAwDICFgAAgGUELAAAAMsIWAAAAJYRsAAAACwjYAEAAFhGwAIAALCMgAUAAGAZAQsAAMAyAhYAAIBlBCwAAADLCFgAAACWEbAAAAAsI2ABAABYRsACAACwjIAFAABgGQELAADAMgIWAACAZWEbsLZu3aouXbpowoQJlbZt3LhRffv2ldvt1sCBA/Xhhx86UCEAAAhWYRmw/vznP2v27Nlq1qxZpW27d%2B/W5MmTNX78eG3fvl2jR4/WuHHjdOjQIQcqBQAAwSgsA9YvfvEL/dd//dc5A9Z///d/q3v37urfv79q166toUOHqnXr1nrttdccqBQAAASjsAxYo0aNUv369c%2B5LS8vT0lJSQFjbdq00Z49e65EaQAAIAS4nC7gauP1ehUTExMwFh0drc8//7zKcxQVFcnj8QSMuVx1lZCQYKXGCjVqhGU%2BBgCEIJcrtI5pBKwqioiIqPK%2B2dnZWrx4ccDYuHHjlJWVZbssAABCQmxslNMlWEXA%2Bom4uDh5vd6AMa/Xq7i4uCrPkZGRoV69egWMuVx15fUet1JjBVawAAChwvYxsoJTwY2A9RNut7vS9Va7du3SgAEDqjxHQkJCpdOBHs8xlZf7rNQIAECoCbVjJEsgP5Genq4PP/xQb7zxhk6cOKFXXnlFBw4c0G233eZ0aQAAIEiE5QqW2%2B2WJJWXl0uS3nnnHUlnV6patWqlefPmaf78%2BZo8ebKuv/56LV26VNdcc41j9QIAgOASlgFr165dP7s9LS1NaWlpV6gaAAAQajhFCAAAYBkBCwAAwDICFgAAgGUELAAAAMsIWAAAAJYRsAAAACwjYAEAAFhGwAIAALCMgAUAAGAZAQsAAMAyAhYAAIBlBCwAAADLCFgAAACWEbAAAAAsI2ABAABYRsACAACwjIAFAABgGQELAADAMgIWAACAZQQsAAAAywhYAAAAlhGwAAAALCNgAQAAWEbAAgAAsIyABQAAYBkBCwAAwDICFgAAgGUELAAAAMsIWAAAAJYRsAAAACwjYAEAAFhGwAIAALCMgHUOBw8eVGZmptq3b6%2BUlBTNnTtXPp/P6bIAAECQcDldwNXGGKN77rlHLVu21Pvvv6%2BjR4/qrrvuUnx8vO68806nywMAAEGAFayf2LVrl/bu3atp06YpOjpaLVq00N13363s7GynSwMAAEGCFayfyMvLU5MmTRQTE%2BMfu%2BGGG/TVV1%2BprKxM9erVu%2BAcRUVF8ng8AWMuV10lJCRYrbVGDfIxACA0uFyhdUwjYP2E1%2BtVdHR0wFjFY6/XW6WAlZ2drcWLFweM3XPPPbr33nvtFaqzQe7fr/1cGRkZ1sPb1aqoqEjZ2dn0HOLomZ5DUbj1K4VnzxVCKy5eJTIyMrR27dqAn4yMDOuv4/F4tHjx4kqrZaGMnsMDPYeHcOs53PqVwrPnCqxg/UR8fLxKSkoCxrxeryQpLi6uSnMkJCSEXVIHAAD/xArWT7jdbn377bf%2BUCVJubm5atmypaKiohysDAAABAsC1k%2B0adNGycnJmj17tkpLS7V37149//zzGjlypNOlAQCAIFFj5syZM50u4mpzyy236M0339SsWbP0xhtvaMSIEcrMzHS6rHOKiorSTTfdFFara/QcHug5PIRbz%2BHWrxSePUtShDHGOF0EAABAKOEUIQAAgGUELAAAACboKLkAAApPSURBVMsIWAAAAJYRsAAAACwjYAEAAFhGwAIAALCMgAUAAGAZAQsAAMAyAhYAAIBlBKwgdPDgQWVmZqp9%2B/ZKSUnR3Llz5fP5nC7rkm3dulVdunTRhAkTKm3buHGj%2BvbtK7fbrYEDB%2BrDDz/0bzPGaMGCBeratavatWun0aNH65tvvrmSpV%2B0gwcPauzYsbrpppuUkpKiSZMm6bvvvpMk5efna/jw4UpOTlb37t21bNmygOf%2B3HtyNcvPz9fo0aPVsWNH3XzzzRo/fryKiookSTk5ORo8eLDcbrf69Omj9evXBzz3pZdeUs%2BePZWcnKz09HTt2bPHiRYu2hNPPKHWrVv7H4dqvz179lTbtm3ldrv9P7NmzZIUuj1XWLJkibp166Zf/epXAZ9Fodb39u3bA36/FT%2BtW7dWQUFByH5%2BVYtBUPH5fGbIkCHmgQceMCUlJeaLL74wPXv2NC%2B%2B%2BKLTpV2S559/3qSlpZnhw4eb%2B%2B67L2Dbrl27TFJSktm4caP54YcfzJo1a0y7du3Mt99%2Ba4wxZtmyZaZr164mLy/PHDt2zEyfPt0MGjTI%2BHw%2BJ1qploEDB5opU6aYsrIyU1RUZIYOHWoefvhh8/3335uuXbuap556ypSVlZl//OMfplOnTmbz5s3GmAu/J1erEydOmJSUFLN48WJz8uRJ4/F4zO23327Gjh1rCgsLTbt27cxLL71kvv/%2Be/Pee%2B%2BZ5ORk88knnxhjjHnrrbdM%2B/btTU5Ojvn%2B%2B%2B/NokWLTNeuXc3x48cd7qpq8vLyTKdOnUyrVq2MMSak%2B%2B3QoYPZuXNnpfFQ7tkYY1asWGHS09NNQUGBKSkpMVOmTDGPPfZYyPddYcWKFWb48OHm%2BPHjIfn5VV0ErCDzySefmMTEROP1ev1jr776qklLS3Owqkv30ksvmdLSUjN58uRKAWvmzJlm7NixAWPDhg0zf/rTn4wxxvTv398sW7bMv62srMwkJSWd8wP%2BalJaWmqmTJlijhw54h9bsWKFSUtLM2%2B88Ya56aabTHl5uX/bvHnzzB133GGMufB7crUqKSkxq1evNqdPn/aPvfzyy6ZPnz7mz3/%2Bsxk8eHDA/hMmTDDTpk0zxhgzZswYM3v2bP82n89nunXrZtavX39lir8EZ86cMenp6WbJkiX%2BgBWq/ZaXl5vWrVubffv2VdoWqj1X6NWrlz80/Vio922MMUeOHDE33XSTyc/PD9nPr%2BriFGGQycvLU5MmTRQTE%2BMfu%2BGGG/TVV1%2BprKzMwcouzahRo1S/fv1zbsvLy1NSUlLAWJs2bbRnzx6dPHlSX3zxhdq2bevfFhUVpX/913%2B96pfY69evrzlz5ig%2BPt4/VlBQoEaNGikvL0%2BJiYmqUaOGf1tFz9LPvydXs%2BjoaKWnp8vlcskYoy%2B//FLr1q1Tv379LtjTT7dHREQoMTHxqu9ZklatWqXatWtr0KBB/rFQ7be0tFTGGC1atEjdunVTt27dNG3aNJWVlYVsz5JUWFiowsJCff3110pLS1Pnzp113333yev1hnTfFZ599ln17dtXiYmJIfv5VV0ErCDj9XoVHR0dMFbx2Ov1OlHSZef1egMCpXS25%2BLiYpWUlMgYc873pLi4%2BEqWecl27dqllStX6o477jjn7zkmJkYlJSXy%2BXw/%2B54Eg4KCArVt21b9%2B/eX2%2B3W%2BPHjz9tzRU/B2vORI0f03HPPaebMmQHjodrvqVOnlJSUJLfbrc2bN%2Bvll1/WJ598opkzZ4Zsz5J0%2BPBhRURE6J133lF2drb%2B%2Bte/qqCgQDNmzAjpvqWz15Ju2LBB48aNk3T%2Bf9uh8vlVVQQsBK2IiIhL2n412blzpzIzMzVp0iT16NHjoucJlp6bNGmi3bt3a/Pmzfryyy/14IMPnnffip7O19vV3vOcOXM0bNgwtWjRokr7B3u/DRs21Nq1a5WZmal69eqpRYsWmjhxojZu3Kjy8vJzPifYe5ak06dP6/Tp05o4caJiY2PVqFEjZWVl6e233z7vc0Khb0lauXKlevbsqYYNG17SPMHSb1URsIJMfHy8SkpKAsYqVq7i4uKcKOmyi4uLq7Q65/V6FRcXp9jYWEVGRp7zPfnxqber2Xvvvaff/e53euSRRzRy5EhJ5/89V/T7c%2B9JsIiIiNB1112nSZMm6fXXX1fNmjXP2XNFT7GxsT%2B7/WqUk5Oj3bt36/e//32lbXFxcSHX7/k0bdpUPp/vvP%2BthkLPFSsy9erV8481adJExhiVl5eHbN%2BStGnTJvXv39//OBw%2Bv6qCgBVk3G63vv3224B/nLm5uWrZsqWioqIcrOzycbvdlc7N79q1S8nJyapVq5ZatWoVsL2kpEQHDhyQ2%2B2%2B0qVW28cff6zJkydr4cKFGjBggH/c7XZr7969Af/Hn5ubq%2BTkZP/2870nV7OcnBzdeuutAX1V3GKkS5culXr6ac%2B7d%2B/2bztz5ozy8vKu6p7Xr1%2BvwsJCde/eXZ07d9ZvfvMbSVLnzp3VunXrkOtXkj799FM9%2BeSTAWNffvmlatWqpR49eoRkz5LUrFkz1atXL6C/goICuVwupaamhmzf%2B/btU2FhoW6%2B%2BWb/WKh%2BflWbs9fY42IMGzbM3H///ea7774zn376qenatatZuXKl02VZca6/Ity7d69xu93%2BP%2Bl9%2BeWXTYcOHYzH4zHGnP0ryq5du5r8/HxTWlpqHnjgAZOenu5E%2BdVy%2BvRp069fP7NixYpK206ePGl69uxpnnzySVNWVmb%2B9re/mfbt25stW7YYYy78nlytSktLTZcuXcyTTz5pvv/%2Be3P06FGTmZlpbr/9dnPkyBHToUMHs2zZMvPDDz%2BYTZs2GbfbbfLz840xxrz//vv%2BP2UvKyszTz/9tElNTTUnTpxwuKvzKykpMYcOHfL//P3vfzetWrUyhw4dMgUFBSHXrzFnb8XQvn17s3TpUnPy5Emzf/9%2BM2DAAPP444%2BH5O/4x%2BbMmWOGDBliDh06ZIqKikxGRoZ56KGHQrrv1157zaSmpgaMhernV3URsILQoUOHzJgxY0xycrJJSUkxixYtcrqkS9a2bVvTtm1bk5iYaBITE/2PK7z55psmLS3NtG3b1gwZMsRs37494PkLFy40KSkpJjk52YwZM8YcOnToSrdQbdu3bzetWrXy9/rjn4MHD5rPPvvMDB8%2B3LjdbpOammr%2B8pe/BDz/Qu/J1SovL8/8%2B7//u7nxxhtN586dTVZWliksLDTGnH1PBg8ebNq2bWvS0tLMW2%2B9FfDcv/zlLyY1NdW43W4zYsQI89lnnznRwkX75ptv/LdpMCZ0%2B922bZsZNmyYad%2B%2BvenZs6eZO3euOXnypDEmdHs25mywePTRR02nTp1M586dzZQpU8yxY8eMMaHb9wsvvGBuu%2B22SuOh%2BvlVHRHGGOP0KhoAAEAo4RosAAAAywhYAAAAlhGwAAAALCNgAQAAWEbAAgAAsIyABQAAYBkBCwAAwDICFgAAgGUELAAAAMsIWAAAAJYRsAAAACwjYAEAAFhGwAIAALDs/wHohSKTcI2GBgAAAABJRU5ErkJggg%3D%3D\"/>\n",
       "        </div>\n",
       "        <div role=\"tabpanel\" class=\"tab-pane col-md-12\" id=\"common5283773304854522096\">\n",
       "            \n",
       "<table class=\"freq table table-hover\">\n",
       "    <thead>\n",
       "    <tr>\n",
       "        <td class=\"fillremaining\">Value</td>\n",
       "        <td class=\"number\">Count</td>\n",
       "        <td class=\"number\">Frequency (%)</td>\n",
       "        <td style=\"min-width:200px\">&nbsp;</td>\n",
       "    </tr>\n",
       "    </thead>\n",
       "    <tr class=\"\">\n",
       "        <td class=\"fillremaining\">716</td>\n",
       "        <td class=\"number\">1</td>\n",
       "        <td class=\"number\">0.1%</td>\n",
       "        <td>\n",
       "            <div class=\"bar\" style=\"width:1%\">&nbsp;</div>\n",
       "        </td>\n",
       "</tr><tr class=\"\">\n",
       "        <td class=\"fillremaining\">223</td>\n",
       "        <td class=\"number\">1</td>\n",
       "        <td class=\"number\">0.1%</td>\n",
       "        <td>\n",
       "            <div class=\"bar\" style=\"width:1%\">&nbsp;</div>\n",
       "        </td>\n",
       "</tr><tr class=\"\">\n",
       "        <td class=\"fillremaining\">243</td>\n",
       "        <td class=\"number\">1</td>\n",
       "        <td class=\"number\">0.1%</td>\n",
       "        <td>\n",
       "            <div class=\"bar\" style=\"width:1%\">&nbsp;</div>\n",
       "        </td>\n",
       "</tr><tr class=\"\">\n",
       "        <td class=\"fillremaining\">242</td>\n",
       "        <td class=\"number\">1</td>\n",
       "        <td class=\"number\">0.1%</td>\n",
       "        <td>\n",
       "            <div class=\"bar\" style=\"width:1%\">&nbsp;</div>\n",
       "        </td>\n",
       "</tr><tr class=\"\">\n",
       "        <td class=\"fillremaining\">241</td>\n",
       "        <td class=\"number\">1</td>\n",
       "        <td class=\"number\">0.1%</td>\n",
       "        <td>\n",
       "            <div class=\"bar\" style=\"width:1%\">&nbsp;</div>\n",
       "        </td>\n",
       "</tr><tr class=\"\">\n",
       "        <td class=\"fillremaining\">240</td>\n",
       "        <td class=\"number\">1</td>\n",
       "        <td class=\"number\">0.1%</td>\n",
       "        <td>\n",
       "            <div class=\"bar\" style=\"width:1%\">&nbsp;</div>\n",
       "        </td>\n",
       "</tr><tr class=\"\">\n",
       "        <td class=\"fillremaining\">239</td>\n",
       "        <td class=\"number\">1</td>\n",
       "        <td class=\"number\">0.1%</td>\n",
       "        <td>\n",
       "            <div class=\"bar\" style=\"width:1%\">&nbsp;</div>\n",
       "        </td>\n",
       "</tr><tr class=\"\">\n",
       "        <td class=\"fillremaining\">238</td>\n",
       "        <td class=\"number\">1</td>\n",
       "        <td class=\"number\">0.1%</td>\n",
       "        <td>\n",
       "            <div class=\"bar\" style=\"width:1%\">&nbsp;</div>\n",
       "        </td>\n",
       "</tr><tr class=\"\">\n",
       "        <td class=\"fillremaining\">237</td>\n",
       "        <td class=\"number\">1</td>\n",
       "        <td class=\"number\">0.1%</td>\n",
       "        <td>\n",
       "            <div class=\"bar\" style=\"width:1%\">&nbsp;</div>\n",
       "        </td>\n",
       "</tr><tr class=\"\">\n",
       "        <td class=\"fillremaining\">236</td>\n",
       "        <td class=\"number\">1</td>\n",
       "        <td class=\"number\">0.1%</td>\n",
       "        <td>\n",
       "            <div class=\"bar\" style=\"width:1%\">&nbsp;</div>\n",
       "        </td>\n",
       "</tr><tr class=\"other\">\n",
       "        <td class=\"fillremaining\">Other values (707)</td>\n",
       "        <td class=\"number\">707</td>\n",
       "        <td class=\"number\">98.6%</td>\n",
       "        <td>\n",
       "            <div class=\"bar\" style=\"width:100%\">&nbsp;</div>\n",
       "        </td>\n",
       "</tr>\n",
       "</table>\n",
       "        </div>\n",
       "        <div role=\"tabpanel\" class=\"tab-pane col-md-12\"  id=\"extreme5283773304854522096\">\n",
       "            <p class=\"h4\">Minimum 5 values</p>\n",
       "            \n",
       "<table class=\"freq table table-hover\">\n",
       "    <thead>\n",
       "    <tr>\n",
       "        <td class=\"fillremaining\">Value</td>\n",
       "        <td class=\"number\">Count</td>\n",
       "        <td class=\"number\">Frequency (%)</td>\n",
       "        <td style=\"min-width:200px\">&nbsp;</td>\n",
       "    </tr>\n",
       "    </thead>\n",
       "    <tr class=\"\">\n",
       "        <td class=\"fillremaining\">0</td>\n",
       "        <td class=\"number\">1</td>\n",
       "        <td class=\"number\">0.1%</td>\n",
       "        <td>\n",
       "            <div class=\"bar\" style=\"width:100%\">&nbsp;</div>\n",
       "        </td>\n",
       "</tr><tr class=\"\">\n",
       "        <td class=\"fillremaining\">1</td>\n",
       "        <td class=\"number\">1</td>\n",
       "        <td class=\"number\">0.1%</td>\n",
       "        <td>\n",
       "            <div class=\"bar\" style=\"width:100%\">&nbsp;</div>\n",
       "        </td>\n",
       "</tr><tr class=\"\">\n",
       "        <td class=\"fillremaining\">2</td>\n",
       "        <td class=\"number\">1</td>\n",
       "        <td class=\"number\">0.1%</td>\n",
       "        <td>\n",
       "            <div class=\"bar\" style=\"width:100%\">&nbsp;</div>\n",
       "        </td>\n",
       "</tr><tr class=\"\">\n",
       "        <td class=\"fillremaining\">3</td>\n",
       "        <td class=\"number\">1</td>\n",
       "        <td class=\"number\">0.1%</td>\n",
       "        <td>\n",
       "            <div class=\"bar\" style=\"width:100%\">&nbsp;</div>\n",
       "        </td>\n",
       "</tr><tr class=\"\">\n",
       "        <td class=\"fillremaining\">4</td>\n",
       "        <td class=\"number\">1</td>\n",
       "        <td class=\"number\">0.1%</td>\n",
       "        <td>\n",
       "            <div class=\"bar\" style=\"width:100%\">&nbsp;</div>\n",
       "        </td>\n",
       "</tr>\n",
       "</table>\n",
       "            <p class=\"h4\">Maximum 5 values</p>\n",
       "            \n",
       "<table class=\"freq table table-hover\">\n",
       "    <thead>\n",
       "    <tr>\n",
       "        <td class=\"fillremaining\">Value</td>\n",
       "        <td class=\"number\">Count</td>\n",
       "        <td class=\"number\">Frequency (%)</td>\n",
       "        <td style=\"min-width:200px\">&nbsp;</td>\n",
       "    </tr>\n",
       "    </thead>\n",
       "    <tr class=\"\">\n",
       "        <td class=\"fillremaining\">712</td>\n",
       "        <td class=\"number\">1</td>\n",
       "        <td class=\"number\">0.1%</td>\n",
       "        <td>\n",
       "            <div class=\"bar\" style=\"width:100%\">&nbsp;</div>\n",
       "        </td>\n",
       "</tr><tr class=\"\">\n",
       "        <td class=\"fillremaining\">713</td>\n",
       "        <td class=\"number\">1</td>\n",
       "        <td class=\"number\">0.1%</td>\n",
       "        <td>\n",
       "            <div class=\"bar\" style=\"width:100%\">&nbsp;</div>\n",
       "        </td>\n",
       "</tr><tr class=\"\">\n",
       "        <td class=\"fillremaining\">714</td>\n",
       "        <td class=\"number\">1</td>\n",
       "        <td class=\"number\">0.1%</td>\n",
       "        <td>\n",
       "            <div class=\"bar\" style=\"width:100%\">&nbsp;</div>\n",
       "        </td>\n",
       "</tr><tr class=\"\">\n",
       "        <td class=\"fillremaining\">715</td>\n",
       "        <td class=\"number\">1</td>\n",
       "        <td class=\"number\">0.1%</td>\n",
       "        <td>\n",
       "            <div class=\"bar\" style=\"width:100%\">&nbsp;</div>\n",
       "        </td>\n",
       "</tr><tr class=\"\">\n",
       "        <td class=\"fillremaining\">716</td>\n",
       "        <td class=\"number\">1</td>\n",
       "        <td class=\"number\">0.1%</td>\n",
       "        <td>\n",
       "            <div class=\"bar\" style=\"width:100%\">&nbsp;</div>\n",
       "        </td>\n",
       "</tr>\n",
       "</table>\n",
       "        </div>\n",
       "    </div>\n",
       "</div>\n",
       "</div><div class=\"row variablerow ignore\">\n",
       "    <div class=\"col-md-3 namecol\">\n",
       "        <p class=\"h4 pp-anchor\" id=\"pp_var_NumCaso\"><s>NumCaso</s><br/>\n",
       "            <small>Highly correlated</small>\n",
       "        </p>\n",
       "    </div><div class=\"col-md-3\">\n",
       "    <p><em>This variable is highly correlated with <a href=\"#pp_var_index\"><code>index</code></a> and should be ignored for analysis</em></p>\n",
       "</div>\n",
       "<div class=\"col-md-6\">\n",
       "    <table class=\"stats \">\n",
       "        <tr>\n",
       "            <th>Correlation</th>\n",
       "            <td>1</td>\n",
       "        </tr>\n",
       "    </table>\n",
       "</div>\n",
       "</div><div class=\"row variablerow\">\n",
       "    <div class=\"col-md-3 namecol\">\n",
       "        <p class=\"h4 pp-anchor\" id=\"pp_var_Estado\">Estado<br/>\n",
       "            <small>Categorical</small>\n",
       "        </p>\n",
       "    </div><div class=\"col-md-3\">\n",
       "    <table class=\"stats \">\n",
       "        <tr class=\"\">\n",
       "            <th>Distinct count</th>\n",
       "            <td>32</td>\n",
       "        </tr>\n",
       "        <tr>\n",
       "            <th>Unique (%)</th>\n",
       "            <td>4.5%</td>\n",
       "        </tr>\n",
       "        <tr class=\"ignore\">\n",
       "            <th>Missing (%)</th>\n",
       "            <td>0.0%</td>\n",
       "        </tr>\n",
       "        <tr class=\"ignore\">\n",
       "            <th>Missing (n)</th>\n",
       "            <td>0</td>\n",
       "        </tr>\n",
       "    </table>\n",
       "</div>\n",
       "<div class=\"col-md-6 collapse in\" id=\"minifreqtable-5979558733473491463\">\n",
       "    <table class=\"mini freq\">\n",
       "        <tr class=\"\">\n",
       "    <th>CDMX</th>\n",
       "    <td>\n",
       "        <div class=\"bar\" style=\"width:23%\" data-toggle=\"tooltip\" data-placement=\"right\" data-html=\"true\"\n",
       "             data-delay=500 title=\"Percentage: 14.9%\">\n",
       "            107\n",
       "        </div>\n",
       "        \n",
       "    </td>\n",
       "</tr><tr class=\"\">\n",
       "    <th>JALISCO</th>\n",
       "    <td>\n",
       "        <div class=\"bar\" style=\"width:17%\" data-toggle=\"tooltip\" data-placement=\"right\" data-html=\"true\"\n",
       "             data-delay=500 title=\"Percentage: 10.7%\">\n",
       "            &nbsp;\n",
       "        </div>\n",
       "        77\n",
       "    </td>\n",
       "</tr><tr class=\"\">\n",
       "    <th>MÉXICO</th>\n",
       "    <td>\n",
       "        <div class=\"bar\" style=\"width:15%\" data-toggle=\"tooltip\" data-placement=\"right\" data-html=\"true\"\n",
       "             data-delay=500 title=\"Percentage: 9.8%\">\n",
       "            &nbsp;\n",
       "        </div>\n",
       "        70\n",
       "    </td>\n",
       "</tr><tr class=\"other\">\n",
       "    <th>Other values (29)</th>\n",
       "    <td>\n",
       "        <div class=\"bar\" style=\"width:100%\" data-toggle=\"tooltip\" data-placement=\"right\" data-html=\"true\"\n",
       "             data-delay=500 title=\"Percentage: 64.6%\">\n",
       "            463\n",
       "        </div>\n",
       "        \n",
       "    </td>\n",
       "</tr>\n",
       "    </table>\n",
       "</div>\n",
       "<div class=\"col-md-12 text-right\">\n",
       "    <a role=\"button\" data-toggle=\"collapse\" data-target=\"#freqtable-5979558733473491463, #minifreqtable-5979558733473491463\"\n",
       "       aria-expanded=\"true\" aria-controls=\"collapseExample\">\n",
       "        Toggle details\n",
       "    </a>\n",
       "</div>\n",
       "<div class=\"col-md-12 extrapadding collapse\" id=\"freqtable-5979558733473491463\">\n",
       "    \n",
       "<table class=\"freq table table-hover\">\n",
       "    <thead>\n",
       "    <tr>\n",
       "        <td class=\"fillremaining\">Value</td>\n",
       "        <td class=\"number\">Count</td>\n",
       "        <td class=\"number\">Frequency (%)</td>\n",
       "        <td style=\"min-width:200px\">&nbsp;</td>\n",
       "    </tr>\n",
       "    </thead>\n",
       "    <tr class=\"\">\n",
       "        <td class=\"fillremaining\">CDMX</td>\n",
       "        <td class=\"number\">107</td>\n",
       "        <td class=\"number\">14.9%</td>\n",
       "        <td>\n",
       "            <div class=\"bar\" style=\"width:51%\">&nbsp;</div>\n",
       "        </td>\n",
       "</tr><tr class=\"\">\n",
       "        <td class=\"fillremaining\">JALISCO</td>\n",
       "        <td class=\"number\">77</td>\n",
       "        <td class=\"number\">10.7%</td>\n",
       "        <td>\n",
       "            <div class=\"bar\" style=\"width:37%\">&nbsp;</div>\n",
       "        </td>\n",
       "</tr><tr class=\"\">\n",
       "        <td class=\"fillremaining\">MÉXICO</td>\n",
       "        <td class=\"number\">70</td>\n",
       "        <td class=\"number\">9.8%</td>\n",
       "        <td>\n",
       "            <div class=\"bar\" style=\"width:34%\">&nbsp;</div>\n",
       "        </td>\n",
       "</tr><tr class=\"\">\n",
       "        <td class=\"fillremaining\">NUEVO_LEÓN</td>\n",
       "        <td class=\"number\">64</td>\n",
       "        <td class=\"number\">8.9%</td>\n",
       "        <td>\n",
       "            <div class=\"bar\" style=\"width:31%\">&nbsp;</div>\n",
       "        </td>\n",
       "</tr><tr class=\"\">\n",
       "        <td class=\"fillremaining\">PUEBLA</td>\n",
       "        <td class=\"number\">51</td>\n",
       "        <td class=\"number\">7.1%</td>\n",
       "        <td>\n",
       "            <div class=\"bar\" style=\"width:25%\">&nbsp;</div>\n",
       "        </td>\n",
       "</tr><tr class=\"\">\n",
       "        <td class=\"fillremaining\">YUCATÁN</td>\n",
       "        <td class=\"number\">36</td>\n",
       "        <td class=\"number\">5.0%</td>\n",
       "        <td>\n",
       "            <div class=\"bar\" style=\"width:18%\">&nbsp;</div>\n",
       "        </td>\n",
       "</tr><tr class=\"\">\n",
       "        <td class=\"fillremaining\">GUANAJUATO</td>\n",
       "        <td class=\"number\">31</td>\n",
       "        <td class=\"number\">4.3%</td>\n",
       "        <td>\n",
       "            <div class=\"bar\" style=\"width:15%\">&nbsp;</div>\n",
       "        </td>\n",
       "</tr><tr class=\"\">\n",
       "        <td class=\"fillremaining\">QUINTANA_ROO</td>\n",
       "        <td class=\"number\">29</td>\n",
       "        <td class=\"number\">4.0%</td>\n",
       "        <td>\n",
       "            <div class=\"bar\" style=\"width:14%\">&nbsp;</div>\n",
       "        </td>\n",
       "</tr><tr class=\"\">\n",
       "        <td class=\"fillremaining\">QUERETARO</td>\n",
       "        <td class=\"number\">23</td>\n",
       "        <td class=\"number\">3.2%</td>\n",
       "        <td>\n",
       "            <div class=\"bar\" style=\"width:11%\">&nbsp;</div>\n",
       "        </td>\n",
       "</tr><tr class=\"\">\n",
       "        <td class=\"fillremaining\">TABASCO</td>\n",
       "        <td class=\"number\">21</td>\n",
       "        <td class=\"number\">2.9%</td>\n",
       "        <td>\n",
       "            <div class=\"bar\" style=\"width:10%\">&nbsp;</div>\n",
       "        </td>\n",
       "</tr><tr class=\"other\">\n",
       "        <td class=\"fillremaining\">Other values (22)</td>\n",
       "        <td class=\"number\">208</td>\n",
       "        <td class=\"number\">29.0%</td>\n",
       "        <td>\n",
       "            <div class=\"bar\" style=\"width:100%\">&nbsp;</div>\n",
       "        </td>\n",
       "</tr>\n",
       "</table>\n",
       "</div>\n",
       "</div><div class=\"row variablerow\">\n",
       "    <div class=\"col-md-3 namecol\">\n",
       "        <p class=\"h4 pp-anchor\" id=\"pp_var_Sexo\">Sexo<br/>\n",
       "            <small>Categorical</small>\n",
       "        </p>\n",
       "    </div><div class=\"col-md-3\">\n",
       "    <table class=\"stats \">\n",
       "        <tr class=\"\">\n",
       "            <th>Distinct count</th>\n",
       "            <td>2</td>\n",
       "        </tr>\n",
       "        <tr>\n",
       "            <th>Unique (%)</th>\n",
       "            <td>0.3%</td>\n",
       "        </tr>\n",
       "        <tr class=\"ignore\">\n",
       "            <th>Missing (%)</th>\n",
       "            <td>0.0%</td>\n",
       "        </tr>\n",
       "        <tr class=\"ignore\">\n",
       "            <th>Missing (n)</th>\n",
       "            <td>0</td>\n",
       "        </tr>\n",
       "    </table>\n",
       "</div>\n",
       "<div class=\"col-md-6 collapse in\" id=\"minifreqtable2858353292983365293\">\n",
       "    <table class=\"mini freq\">\n",
       "        <tr class=\"\">\n",
       "    <th>M</th>\n",
       "    <td>\n",
       "        <div class=\"bar\" style=\"width:100%\" data-toggle=\"tooltip\" data-placement=\"right\" data-html=\"true\"\n",
       "             data-delay=500 title=\"Percentage: 56.9%\">\n",
       "            408\n",
       "        </div>\n",
       "        \n",
       "    </td>\n",
       "</tr><tr class=\"\">\n",
       "    <th>F</th>\n",
       "    <td>\n",
       "        <div class=\"bar\" style=\"width:75%\" data-toggle=\"tooltip\" data-placement=\"right\" data-html=\"true\"\n",
       "             data-delay=500 title=\"Percentage: 43.1%\">\n",
       "            309\n",
       "        </div>\n",
       "        \n",
       "    </td>\n",
       "</tr>\n",
       "    </table>\n",
       "</div>\n",
       "<div class=\"col-md-12 text-right\">\n",
       "    <a role=\"button\" data-toggle=\"collapse\" data-target=\"#freqtable2858353292983365293, #minifreqtable2858353292983365293\"\n",
       "       aria-expanded=\"true\" aria-controls=\"collapseExample\">\n",
       "        Toggle details\n",
       "    </a>\n",
       "</div>\n",
       "<div class=\"col-md-12 extrapadding collapse\" id=\"freqtable2858353292983365293\">\n",
       "    \n",
       "<table class=\"freq table table-hover\">\n",
       "    <thead>\n",
       "    <tr>\n",
       "        <td class=\"fillremaining\">Value</td>\n",
       "        <td class=\"number\">Count</td>\n",
       "        <td class=\"number\">Frequency (%)</td>\n",
       "        <td style=\"min-width:200px\">&nbsp;</td>\n",
       "    </tr>\n",
       "    </thead>\n",
       "    <tr class=\"\">\n",
       "        <td class=\"fillremaining\">M</td>\n",
       "        <td class=\"number\">408</td>\n",
       "        <td class=\"number\">56.9%</td>\n",
       "        <td>\n",
       "            <div class=\"bar\" style=\"width:100%\">&nbsp;</div>\n",
       "        </td>\n",
       "</tr><tr class=\"\">\n",
       "        <td class=\"fillremaining\">F</td>\n",
       "        <td class=\"number\">309</td>\n",
       "        <td class=\"number\">43.1%</td>\n",
       "        <td>\n",
       "            <div class=\"bar\" style=\"width:75%\">&nbsp;</div>\n",
       "        </td>\n",
       "</tr>\n",
       "</table>\n",
       "</div>\n",
       "</div><div class=\"row variablerow\">\n",
       "    <div class=\"col-md-3 namecol\">\n",
       "        <p class=\"h4 pp-anchor\" id=\"pp_var_Edad\">Edad<br/>\n",
       "            <small>Numeric</small>\n",
       "        </p>\n",
       "    </div><div class=\"col-md-6\">\n",
       "    <div class=\"row\">\n",
       "        <div class=\"col-sm-6\">\n",
       "            <table class=\"stats \">\n",
       "                <tr>\n",
       "                    <th>Distinct count</th>\n",
       "                    <td>72</td>\n",
       "                </tr>\n",
       "                <tr>\n",
       "                    <th>Unique (%)</th>\n",
       "                    <td>10.0%</td>\n",
       "                </tr>\n",
       "                <tr class=\"ignore\">\n",
       "                    <th>Missing (%)</th>\n",
       "                    <td>0.0%</td>\n",
       "                </tr>\n",
       "                <tr class=\"ignore\">\n",
       "                    <th>Missing (n)</th>\n",
       "                    <td>0</td>\n",
       "                </tr>\n",
       "                <tr class=\"ignore\">\n",
       "                    <th>Infinite (%)</th>\n",
       "                    <td>0.0%</td>\n",
       "                </tr>\n",
       "                <tr class=\"ignore\">\n",
       "                    <th>Infinite (n)</th>\n",
       "                    <td>0</td>\n",
       "                </tr>\n",
       "            </table>\n",
       "\n",
       "        </div>\n",
       "        <div class=\"col-sm-6\">\n",
       "            <table class=\"stats \">\n",
       "\n",
       "                <tr>\n",
       "                    <th>Mean</th>\n",
       "                    <td>42.541</td>\n",
       "                </tr>\n",
       "                <tr>\n",
       "                    <th>Minimum</th>\n",
       "                    <td>0</td>\n",
       "                </tr>\n",
       "                <tr>\n",
       "                    <th>Maximum</th>\n",
       "                    <td>88</td>\n",
       "                </tr>\n",
       "                <tr class=\"ignore\">\n",
       "                    <th>Zeros (%)</th>\n",
       "                    <td>0.1%</td>\n",
       "                </tr>\n",
       "            </table>\n",
       "        </div>\n",
       "    </div>\n",
       "</div>\n",
       "<div class=\"col-md-3 collapse in\" id=\"minihistogram-5332925068415596250\">\n",
       "    <img src=\"data:image/png;base64,iVBORw0KGgoAAAANSUhEUgAAAMgAAABLCAYAAAA1fMjoAAAABHNCSVQICAgIfAhkiAAAAAlwSFlzAAAPYQAAD2EBqD%2BnaQAAADh0RVh0U29mdHdhcmUAbWF0cGxvdGxpYiB2ZXJzaW9uMy4xLjEsIGh0dHA6Ly9tYXRwbG90bGliLm9yZy8QZhcZAAABN0lEQVR4nO3dwU3DMBiA0RR1JIZgJ87s1CHYySyAPqWVTEzy3jkHH/rpt%2BWmvY0xxgb86u3oBcDK7kcv4D95/3w89fz318eklfBXTBAIAoEgEAgCgSAQCAKBIBAIAoHgonAxz15GbpsLyZkEMtErH3bWYosFQSAQLrvFsv1hDxMEgkAgCATCZc8gZ%2BJFrnlMEAgCgSAQCAKBIBAIAoEgEAgCgSAQCAKBIBAIAoHgy4oX5Ich9jNBIAgEgkAgCASCQzq7XPVgb4JAEAgEgUAQCASBQBAIBIFAEAiEU1wU%2BisDZjlFIKzpDLfvywViGrCS2xhjHL0IWJVDOgSBQBAIBIFAEAgEgUAQCASBQBAIBIFAEAgEgUAQCASBQBAIBIFAEAgEgUAQCASBQBAIBIFAEAgEgUAQCIQfYNggPZqh05gAAAAASUVORK5CYII%3D\">\n",
       "\n",
       "</div>\n",
       "<div class=\"col-md-12 text-right\">\n",
       "    <a role=\"button\" data-toggle=\"collapse\" data-target=\"#descriptives-5332925068415596250,#minihistogram-5332925068415596250\"\n",
       "       aria-expanded=\"false\" aria-controls=\"collapseExample\">\n",
       "        Toggle details\n",
       "    </a>\n",
       "</div>\n",
       "<div class=\"row collapse col-md-12\" id=\"descriptives-5332925068415596250\">\n",
       "    <ul class=\"nav nav-tabs\" role=\"tablist\">\n",
       "        <li role=\"presentation\" class=\"active\"><a href=\"#quantiles-5332925068415596250\"\n",
       "                                                  aria-controls=\"quantiles-5332925068415596250\" role=\"tab\"\n",
       "                                                  data-toggle=\"tab\">Statistics</a></li>\n",
       "        <li role=\"presentation\"><a href=\"#histogram-5332925068415596250\" aria-controls=\"histogram-5332925068415596250\"\n",
       "                                   role=\"tab\" data-toggle=\"tab\">Histogram</a></li>\n",
       "        <li role=\"presentation\"><a href=\"#common-5332925068415596250\" aria-controls=\"common-5332925068415596250\"\n",
       "                                   role=\"tab\" data-toggle=\"tab\">Common Values</a></li>\n",
       "        <li role=\"presentation\"><a href=\"#extreme-5332925068415596250\" aria-controls=\"extreme-5332925068415596250\"\n",
       "                                   role=\"tab\" data-toggle=\"tab\">Extreme Values</a></li>\n",
       "\n",
       "    </ul>\n",
       "\n",
       "    <div class=\"tab-content\">\n",
       "        <div role=\"tabpanel\" class=\"tab-pane active row\" id=\"quantiles-5332925068415596250\">\n",
       "            <div class=\"col-md-4 col-md-offset-1\">\n",
       "                <p class=\"h4\">Quantile statistics</p>\n",
       "                <table class=\"stats indent\">\n",
       "                    <tr>\n",
       "                        <th>Minimum</th>\n",
       "                        <td>0</td>\n",
       "                    </tr>\n",
       "                    <tr>\n",
       "                        <th>5-th percentile</th>\n",
       "                        <td>20</td>\n",
       "                    </tr>\n",
       "                    <tr>\n",
       "                        <th>Q1</th>\n",
       "                        <td>30</td>\n",
       "                    </tr>\n",
       "                    <tr>\n",
       "                        <th>Median</th>\n",
       "                        <td>41</td>\n",
       "                    </tr>\n",
       "                    <tr>\n",
       "                        <th>Q3</th>\n",
       "                        <td>54</td>\n",
       "                    </tr>\n",
       "                    <tr>\n",
       "                        <th>95-th percentile</th>\n",
       "                        <td>72</td>\n",
       "                    </tr>\n",
       "                    <tr>\n",
       "                        <th>Maximum</th>\n",
       "                        <td>88</td>\n",
       "                    </tr>\n",
       "                    <tr>\n",
       "                        <th>Range</th>\n",
       "                        <td>88</td>\n",
       "                    </tr>\n",
       "                    <tr>\n",
       "                        <th>Interquartile range</th>\n",
       "                        <td>24</td>\n",
       "                    </tr>\n",
       "                </table>\n",
       "            </div>\n",
       "            <div class=\"col-md-4 col-md-offset-2\">\n",
       "                <p class=\"h4\">Descriptive statistics</p>\n",
       "                <table class=\"stats indent\">\n",
       "                    <tr>\n",
       "                        <th>Standard deviation</th>\n",
       "                        <td>15.867</td>\n",
       "                    </tr>\n",
       "                    <tr>\n",
       "                        <th>Coef of variation</th>\n",
       "                        <td>0.37297</td>\n",
       "                    </tr>\n",
       "                    <tr>\n",
       "                        <th>Kurtosis</th>\n",
       "                        <td>-0.62785</td>\n",
       "                    </tr>\n",
       "                    <tr>\n",
       "                        <th>Mean</th>\n",
       "                        <td>42.541</td>\n",
       "                    </tr>\n",
       "                    <tr>\n",
       "                        <th>MAD</th>\n",
       "                        <td>13.216</td>\n",
       "                    </tr>\n",
       "                    <tr class=\"\">\n",
       "                        <th>Skewness</th>\n",
       "                        <td>0.3246</td>\n",
       "                    </tr>\n",
       "                    <tr>\n",
       "                        <th>Sum</th>\n",
       "                        <td>30502</td>\n",
       "                    </tr>\n",
       "                    <tr>\n",
       "                        <th>Variance</th>\n",
       "                        <td>251.75</td>\n",
       "                    </tr>\n",
       "                    <tr>\n",
       "                        <th>Memory size</th>\n",
       "                        <td>11.2 KiB</td>\n",
       "                    </tr>\n",
       "                </table>\n",
       "            </div>\n",
       "        </div>\n",
       "        <div role=\"tabpanel\" class=\"tab-pane col-md-8 col-md-offset-2\" id=\"histogram-5332925068415596250\">\n",
       "            <img src=\"data:image/png;base64,iVBORw0KGgoAAAANSUhEUgAAAlgAAAGQCAYAAAByNR6YAAAABHNCSVQICAgIfAhkiAAAAAlwSFlzAAAPYQAAD2EBqD%2BnaQAAADh0RVh0U29mdHdhcmUAbWF0cGxvdGxpYiB2ZXJzaW9uMy4xLjEsIGh0dHA6Ly9tYXRwbG90bGliLm9yZy8QZhcZAAAgAElEQVR4nO3df1RU9b7/8Rcw/kCQH5Jk2leu6TFJwX6o5I%2BjqFdv3tJcpaF1L8fULCNJjauZpp6y9Jw0XUidY1rqre4RyU5ZN%2B1oaXnV7GQ/QDBX136oFDLKjCKp8WN//2jJPROaoB9mb5jnYy0Xaz5789nv8T3MvPjszUyQZVmWAAAAYEyw3QUAAAA0NgQsAAAAwwhYAAAAhhGwAAAADCNgAQAAGEbAAgAAMIyABQAAYBgBCwAAwDACFgAAgGEELAAAAMMIWAAAAIYRsAAAAAwjYAEAABhGwAIAADCMgAUAAGAYAQsAAMAwAhYAAIBhBCwAAADDCFgAAACGEbAAAAAMI2ABAAAYRsACAAAwjIAFAABgGAELAADAMAIWAACAYQQsAAAAwwhYAAAAhhGwAAAADCNgAQAAGEbAAgAAMIyABQAAYBgBCwAAwDACFgAAgGEELAAAAMMIWAAAAIYRsAAAAAxrtAFrx44d6tOnj6ZNm1Zj29GjR/XAAw/o%2BuuvV9%2B%2BfbVkyRJVVVVJkizL0tKlS9W3b191795d48aN0%2BHDh/1dPgAAaMAaZcBauXKlFixYoLi4uBrbLMvSlClTlJiYqF27dunFF1/UBx98oD179kiS1q5dqw0bNmjVqlXauXOn2rdvr7S0NFmW5e%2B7AQAAGqhGGbCaNWum11577bwB6%2B9//7vKysr04IMPqkWLFurSpYs2btyo3r17S5JycnI0ceJExcfHKzw8XDNnztTXX3%2Btzz77zN93AwAANFAuuwuoD6mpqRfc9sknn6hLly56/PHHtXnzZkVFRenf/u3f9Lvf/U5nz57VwYMH1a1bt%2Br9w8LC1L59e%2BXn5%2BvGG2%2Bs1fGLi4vldrt9xlyuFoqNjb20O3QBQUFBiowM1YkTp1lhsxm9cA564Rz0wlkCtR/R0WG2HLdRBqxfc/ToUb333nuaP3%2B%2BZs%2BerT179igtLU3/7//9P3Xt2lWWZSkyMtLneyIjI1VSUlLrY2RnZysrK8tnLC0tTenp6Ubuwy9FRbWol3lRd/TCOeiFc9ALZ6Ef/hFwAauiokJdu3bVyJEjJUkDBgzQ0KFD9fbbb6tr164X/L6goKBaHyMlJUWDBg3yGXO5WsjjKbu0oi8gJCRYERGhOnnytCorq4zOjbqhF85BL5yDXjhLoPaDFSw/iYyMVMuWLX3G2rVrpy%2B%2B%2BELR0dEKDg6W1%2Bv12e7xeBQTE1PrY8TGxtY4Heh2l6qion4e0JWVVfU2N%2BqGXjgHvXAOeuEs9MM/GuVF7r%2BmW7du%2BvLLL1VZWVk9VlhYqHbt2qlp06bq3Lmz8vPzq7d5vV4dOnRICQkJdpQLAAAaoIALWAMHDpRlWcrMzNSZM2e0a9cubdmyRXfeeackaezYsVq1apW%2B/PJLlZaWasGCBerWrZsSExNtrhwAADQUjfIU4bnVpoqKCknS1q1bJUl5eXkKDQ3VypUrNX/%2BfK1Zs0Zt2rTRE088oR49ekiSxowZI7fbrfHjx6usrExJSUnKzMy0544AAIAGKcgKpL/VtJHbXWp8TpcrWNHRYfJ4yjifbjN64Rz0wjnohbMEaj9at2558Z3qQcCdIgQAAKhvBCwAAADDCFgAAACGEbAAAAAMI2ABAAAYRsACAAAwjIAFAABgWKN8o1EgEA1bttPuEmpt09S%2BdpcAAPWKFSwAAADDCFgAAACGEbAAAAAMI2ABAAAYRsACAAAwjIAFAABgGAELAADAMAIWAACAYQQsAAAAwwhYAAAAhhGwAAAADCNgAQAAGEbAAgAAMIyABQAAYBgBCwAAwDACFgAAgGEELAAAAMMIWAAAAIYRsAAAAAwjYAEAABhGwAIAADCs0QasHTt2qE%2BfPpo2bdoF9ykrK9OAAQP06KOPVo9ZlqWlS5eqb9%2B%2B6t69u8aNG6fDhw/7o2QAANBINMqAtXLlSi1YsEBxcXG/ut/y5ctVWlrqM7Z27Vpt2LBBq1at0s6dO9W%2BfXulpaXJsqz6LBkAADQijTJgNWvWTK%2B99tqvBqwvv/xSb7/9tu68806f8ZycHE2cOFHx8fEKDw/XzJkz9fXXX%2Buzzz6r77IBAEAj4bK7gPqQmpr6q9sty9L8%2BfOVkZGhw4cPV69inT17VgcPHlS3bt2q9w0LC1P79u2Vn5%2BvG2%2B8sVbHLy4ultvt9hlzuVooNja2jvfk14WEBPt8hX3oRd24XPX3/0QvnINeOAv98K9GGbAuJjs7W02aNNHIkSO1fPny6nGv1yvLshQZGemzf2RkpEpKSuo0f1ZWls9YWlqa0tPTL6/wC4iICK2XeVF39KJ2oqPD6v0Y9MI56IWz0A//CLiAdfz4cS1fvlz/%2BZ//WafvCwoKqvW%2BKSkpGjRokM%2BYy9VCHk9ZnY55MSEhwYqICNXJk6dVWVlldG7UDb2oG9M/C/%2BIXjgHvXCWQO2HP36hO5%2BAC1iLFi3SXXfdpY4dO9bYFh0dreDgYHm9Xp9xj8ejmJiYWh8jNja2xulAt7tUFRX184CurKyqt7lRN/Sidvzxf0QvnINeOAv98I%2BAC1gbN25URESE/uu//kuSdObMGVVVVWnbtm3as2ePOnfurPz8fPXs2VPSz6cNDx06pISEBDvLBgAADUjABawPPvjA5/bq1atVVFSkWbNmSZLGjh2rrKws3XzzzWrXrp0WLFigbt26KTEx0Y5yAQBAA9QoA9a51aaKigpJ0tatWyVJeXl5atOmjc%2B%2B4eHhCg0NrR4fM2aM3G63xo8fr7KyMiUlJSkzM9OP1QMAgIauUQasvLy8Wu87ZcqU846dbxwAAKA2eDMMAAAAwwhYAAAAhhGwAAAADCNgAQAAGEbAAgAAMIyABQAAYBgBCwAAwDACFgAAgGEELAAAAMMIWAAAAIYRsAAAAAwjYAEAABhGwAIAADCMgAUAAGAYAQsAAMAwAhYAAIBhBCwAAADDCFgAAACGEbAAAAAMI2ABAAAYRsACAAAwjIAFAABgGAELAADAMJfdBQCA0w1bttPuEupk09S%2BdpcABDxWsAAAAAwjYAEAABhGwAIAADCMgAUAAGBYow1YO3bsUJ8%2BfTRt2rQa2zZv3qzhw4frhhtu0NChQ5Wdne2zfe3atRo4cKASExM1evRo5efn%2B6tsAADQCDTKvyJcuXKlXnvtNcXFxdXYlpubqxkzZmjZsmUaMGCAPvroI91///3q2LGjevTooS1btmjZsmX605/%2BpO7du%2BvFF1/U/fffr7/97W9q0aKFDfcGAAA0NI1yBatZs2YXDFher1cPPPCABg0apJCQEPXt21fXXnutPvnkE0lSTk6ORo0apZtvvlmhoaFKS0tTUFCQ3nvvPX/fDQAA0EA1yoCVmpqqli1bnndb//799eCDD1bfrqioUHFxsa666ipJUkFBgbp27Vq9PSgoSF26dOE0IQAAqLVGeYqwLhYvXqxmzZppyJAhkiSPx6OoqCiffSIjI1VSUlLrOYuLi%2BV2u33GXK4Wio2NvfyC/0FISLDPV9iHXtSNy1V//0/0on7/f%2BuCXjgL/fCvgA1YlmVp8eLFeuedd7R27drq66uCgoLOu/%2BFxs8nOztbWVlZPmNpaWlKT0%2B/9IJ/RUREaL3Mi7qjF7UzZPEOu0to1KKjw%2BwuwQc/F85CP/wjIANWVVWVZs2apfz8fGVnZ1efHpSk6Ohoeb1en/09Ho86d%2B5c6/lTUlI0aNAgnzGXq4U8nrLLK/wXQkKCFRERqpMnT6uyssro3KgbegEnMf1cc6n4uXCWQO2HXb9wBGTAevrpp/X111/r1VdfVWRkpM%2B2hIQE7du3TyNHjpQkVVZWqqCgQKNGjar1/LGxsTVOB7rdpaqoqJ8HdGVlVb3NjbqhF3ACpz0G%2BblwFvrhHwF3Inbv3r1688039dxzz9UIV5I0ZswYbdiwQR999JHKysr07LPPqnnz5jVWpAAAAC6kUa5gJSQkSPr5LwQlaevWrZKkvLw8bdiwQadOndLgwYN9vqdnz5566aWX1L9/f82YMUOzZs3S8ePH1a1bN73wwgtq1qyZf%2B8EAABosIIsy7LsLiIQuN2lxud0uYIVHR0mj6eM5V6bOaEXw5bttOW4cJ5NU/vaXYIkZ/xc4P8Eaj9atz7/2zbVt4A7RQgAAFDfCFgAAACGEbAAAAAMI2ABAAAYRsACAAAwjIAFAABgGAELAADAMAIWAACAYQQsAAAAwwhYAAAAhhGwAAAADCNgAQAAGEbAAgAAMIyABQAAYJjL7gIApxq2bKfdJQAAGihWsAAAAAwjYAEAABhGwAIAADCMgAUAAGAYAQsAAMAwAhYAAIBhBCwAAADDCFgAAACGEbAAAAAMI2ABAAAYRsACAAAwjIAFAABgGAELAADAMAIWAACAYY02YO3YsUN9%2BvTRtGnTamz77//%2Bb/3Lv/yLEhISdNttt2nnzp3V2yzL0tKlS9W3b191795d48aN0%2BHDh/1ZOgAAaOAaZcBauXKlFixYoLi4uBrb9u3bp5kzZ%2Brhhx/W3//%2Bd40bN05paWn64YcfJElr167Vhg0btGrVKu3cuVPt27dXWlqaLMvy990AAAANVKMMWM2aNdNrr7123oC1YcMG9e/fX//6r/%2Bq5s2ba9SoUbr22mv15ptvSpJycnI0ceJExcfHKzw8XDNnztTXX3%2Btzz77zN93AwAANFCNMmClpqaqZcuW591WUFCgrl27%2BozFx8crPz9fZ8%2Be1cGDB9WtW7fqbWFhYWrfvr3y8/PrtWYAANB4uOwuwN88Ho%2BioqJ8xiIjI/XVV1/J6/XKsixFRkbW2F5SUlLrYxQXF8vtdvuMuVwtFBsbe%2BmFn0dISLDPVwCQJJfLGc8JPEc5C/3wr4ALWBcSFBR0Wdv/UXZ2trKysnzG0tLSlJ6efkm1XUxERGi9zAugYYqODrO7BB88RzkL/fCPgAtYrVq1ksfj8RnzeDxq1aqVoqOjFRwcLK/XW2N7TExMrY%2BRkpKiQYMG%2BYy5XC3k8ZRdeuHnERISrIiIUJ08eVqVlVVG5wbQcJl%2BrrlUPEc5S6D2w65fOAIuYCUkJNS4niovL0%2B33nqrmjZtqs6dOys/P189e/aUJHm9Xh06dEgJCQm1PkZsbGyN04Fud6kqKurnAV1ZWVVvcwNoeJz2fMBzlLPQD/8IuBOxo0eP1s6dO/XOO%2B/ozJkzevnll3Xo0CGNHDlSkjR27FitWrVKX375pUpLS7VgwQJ169ZNiYmJNlcOAAAaika5gnVutamiokKStHXrVkk/r1R17txZixcv1pIlSzRz5kx17NhRK1as0BVXXCFJGjNmjNxut8aPH6%2BysjIlJSUpMzPTnjsCAAAapCDLYe%2BgWVpaesG3WGjI3O5S43O6XMGKjg6Tx1PGcm89GLZs58V3Ahxo09S%2BdpcgiecopwnUfrRubU%2BmcNwKVr9%2B/XTLLbdo9OjR6tGjh93lAECD05B%2BOXBKGARMc9w1WL///e91/PhxjRs3TsOGDdPq1avr9B5UAAAAdnNcwBo5cqRWrVqlDz/8UHfffbfeffddJScna9q0adq9e7fd5QEAAFyU4wLWOa1atdK///u/a926dfrDH/6gXbt2afz48Ro2bJj%2B9re/2V0eAADABTnuGqxzSkpK9Prrr%2Bv111/Xd999pz59%2BiglJUXHjh3T3LlzdejQIU2cONHuMgEAAGpwXMDasWOHcnJy9P777ysqKkp33nmnRo8erauvvrp6n%2Buuu0733XcfAQsAADiS4wLWpEmTlJSUpMWLF%2Buf//mf5XLVLDExMdH4BycDAACY4riAtXnzZsXFxemnn36qDlenTp1SeHi4z35vvfWWHeUBAABclOMucg8JCdFtt92m999/v3ps/fr1GjZsmA4fPmxjZQAAALXjuID11FNP6Te/%2BY1uuumm6rERI0aoe/fueuqpp2ysDAAAoHYcd4pw7969%2BuCDDxQaGlo9dsUVV2ju3LlKTk62rzAAAIBactwKlmVZ%2Bumnn2qMl5WVqaoqcD47CQAANFyOC1h9%2B/bVjBkzVFBQoJMnT8rr9Wrv3r2aPn26%2BvXrZ3d5AAAAF%2BW4U4SPP/64MjIydMcddygoKKh6PCkpSXPmzLGxMgAAgNpxXMCKiYnR6tWr9b//%2B7/69ttvJUkdOnRQx44d7S0MAACglhwXsM7p1KmTOnXqZHcZAAAAdea4gJWXl6cnn3xSX331lc6cOVNj%2B/79%2B22oCgAAoPYcF7Dmzp2rpk2b6uGHH1bz5s3tLgcAAKDOHBewvvnmG%2B3atUstWrSwuxQAAIBL4ri3aWjTpg3vdwUAABo0xwWsjIwMLVy4UKdOnbK7FAAAgEviuFOEzz//vI4cOaK//vWvioqKUnCwbwb8n//5H5sqAwAAqB3HBazf/va3atKkid1lAAAAXDLHBaxp06bZXQIAAMBlcdw1WJL0xRdfaNasWfrd734nSaqqqtKmTZtsrgoAAKB2HBew3nvvPd19993yeDz69NNPJUlFRUWaO3eucnJybK4OAADg4hwXsP785z/rmWee0Z///OfqD3tu27atMjMztWbNGnuLAwAAqAXHBaxvvvlGQ4cOlaTqgCVJSUlJKiwstKssAACAWnNcwGrSpIm8Xm%2BN8W%2B//ZaPzgEAAA2C4wJWcnKy5syZo4MHD0qSPB6PduzYoalTp2rgwIHGjpOfn6/U1FTddNNN6t27tzIyMlRSUiJJ2r17t0aMGKGEhAQNGTJEGzduNHZcAADQ%2BDkuYM2aNUuWZenWW2/V2bNn1adPH913331q27atHn30USPHqKys1KRJk3TDDTdo9%2B7d2rRpk0pKSjR//nwdPXpUkydP1qhRo/Txxx9r9uzZevzxx5Wbm2vk2AAAoPFz3PtgRUREaMWKFTp48KC%2B%2BeYbBQcHq0OHDurQoYOxY7jdbh07dkzDhw9X06ZN1bRpUw0ePFhr1qzRW2%2B9pbi4OKWmpkr6eUVt8ODBysnJUWJiorEaAABA4%2BW4gHVOx44d1bFjR5%2BxqqqqGh%2BdcymuvPJKXXfddVq/fr2mTZum06dPa8uWLUpOTlZBQYG6du3qs398fDzvwwUAAGrNcQGrS5cuPn89%2BEv79%2B%2B/7GMEBQUpMzNT48eP19q1ayVJvXr10vTp0/Xggw%2BqS5cuPvtHRUVVX59VG8XFxXK73T5jLlcLxcbGXnbt/ygkJNjnKwA0NC4Xz1/%2BwmuGfzkuYM2bN88nYFVVVamwsFBbt27VxIkTjRzjp59%2B0v33369bbrlFDzzwgE6fPq25c%2BcqIyPjgt/za6Hvl7Kzs5WVleUzlpaWpvT09Euu%2BddERITWy7wAUN%2Bio8PsLiHg8JrhH44LWGPHjj3v%2BKhRo7R06VKNHj36so%2Bxa9cuHTlyRFOnTlVISIjCwsI0ZcoUjRw5UgMGDKjxNhEej0etWrWq9fwpKSkaNGiQz5jL1UIeT9ll1/6PQkKCFRERqpMnT6uyssro3ADgD6afF3FhgfqaYVeId1zAupAOHTroq6%2B%2BMjKXZVmqqvJ9cJWXl0uSbr75Zr3xxhs%2B23Jzc%2Bt0gXtsbGyN04Fud6kqKurnAV1ZWVVvcwNAfeK5y/94zfCPBnMi9rPPPlNpaamRua6//nqFhYVp%2BfLlOnPmjE6cOKGVK1fqhhtu0O23367CwkKtWbNGZ86c0ebNm/Xhhx8qJSXFyLEBAEDj57gVrH79%2BtUYKy8v18mTJ3X33XcbOUZ0dLRWrlypZ555Rv369VOTJk3Uq1cvLVu2TDExMVqxYoWefPJJLVmyRG3bttWSJUtqXPgOAABwIY4LWCkpKTUuKG/WrJl%2B85vfKDk52dhxEhMT9fLLL593W48ePfTmm28aOxYAAAgsjgtYU6ZMsbsEAACAy%2BK4gLVs2TK5XLUr66GHHqrnagAAAOrOcQFry5Yt%2Bv7773XmzBlFRUWpqqpKJ06cUGhoqKKjo6v3CwoKImABAABHclzAmjRpkj766CPNmDGjOlAdPXpUf/zjHzVw4EDddtttNlcIAADw6xz3Ng3Lly/XY4895rNadeWVV2r27NlaunSpjZUBAADUjuMC1vHjx8/7sTRNmjSp0%2BcBAgAA2MVxAatr166aMWOG8vPzdfLkSZWWlqqgoECPPfYY70UFAAAaBMddg/XEE0/owQcf1J133lm9kmVZlq6%2B%2Bmo9//zzNlcHAABwcY4LWNdcc402b96sffv26YcffpBlWWrTpo0SEhLOe%2BoQAADAaRwXsM6Jjo5WWVmZkpKS7C4FAACgThx3DZbX69WECRM0ePBgTZgwQZLkdrs1fPhwHT161ObqAAAALs5xAWvx4sWqqqpSTk6OgoN/Lq9ly5aKj4/XU089ZXN1AAAAF%2Be4U4S7du3SX/7yF1155ZXV11w1b95cs2bN0rBhw2yuDgAA4OIct4J1/PhxtW7dusZ4aGiozpw5Y0NFAAAAdeO4gNWhQwdt3769xvi6devUoUMH/xcEAABQR447Rfjggw9q6tSpGjRokCorK/XEE08oPz9feXl5WrZsmd3lAQAAXJTjVrCGDh2qV155RcHBwerUqZM%2B//xzXX311Vq3bp2GDh1qd3kAAAAX5agVrKqqKu3bt0%2BJiYl69tln7S4HAADgkjhqBSs4OFipqamqrKy0uxQAAIBL5qiAJUnDhw/XmjVrZFmW3aUAAABcEkedIpR%2Bftf2999/Xy%2B88ILatWunpk2b%2Bmxft26dTZUBAADUjuMCVnR0tPr37293GQAAAJfMMQErPT1dmZmZWrhwYfVYZmam0tPTbawKAACg7hxzDdYHH3xQY%2BzFF1%2B0oRIAAIDL45iAdT5c6A4AABoiRwescx/2DAAA0JA4OmABAAA0RAQsAAAAwxzzV4Tl5eV65JFHLjq2ZMkSf5YFAABQZ45ZwbrppptUXFzs8%2B98YyY9//zz6tevn2644QaNGzdOhw8fliTt3r1bI0aMUEJCgoYMGaKNGzcaPS4AAGjcHLOC9fLLL/v1eK%2B%2B%2Bqq2b9%2Bu9evXKywsTIsWLdKaNWs0adIkTZ48WdOnT9fo0aO1Z88ePfzww/qnf/onJSYm%2BrVGAADQMDkmYPnbSy%2B9pKVLl6pt27aSVP0Gp6tWrVJcXJxSU1MlScnJyRo8eLBycnIIWAAAoFYCMmAVFRWpqKhI3333nTIyMnTixAn17t1b8%2BbNU0FBgbp27eqzf3x8vDZt2lTr%2BYuLi%2BV2u33GXK4Wio2NNVL/OSEhwT5fAaChcbl4/vIXXjP8KyAD1tGjRxUUFKStW7cqOztbZ86cUXp6uubOnatTp06pS5cuPvtHRUWppKSk1vNnZ2crKyvLZywtLa3ePvYnIiK0XuYFgPoWHR1mdwkBh9cM/wjIgFVeXq7y8nJlZGQoOjpa0s%2BfhXjfffepd%2B/e5/2eurzpaUpKigYNGuQz5nK1kMdTdulFn0dISLAiIkJ18uRpVVZWGZ0bAPzB9PMiLixQXzPsCvEBGbCioqIkSeHh4dVj7dq1k2VZqqiokNfr9dnf4/GoVatWtZ4/Nja2xulAt7tUFRX184CurKyqt7kBoD7x3OV/vGb4R0CeiI2Li1N4eLjy8/OrxwoLC%2BVyuZScnOwzLkm5ublc4A4AAGotIANWkyZNNHr0aC1evFhFRUVyu9167rnndPvtt2vkyJEqLCzUmjVrdObMGW3evFkffvihUlJS7C4bAAA0EAEZsCRp%2BvTpuvHGGzVixAgNHz5cHTp00GOPPaaYmBitWLFCf/3rX9WzZ08tXbpUS5YsqXHhOwAAwIUEWZZl2V1EIHC7S43P6XIFKzo6TB5PGefT68GwZTvtLgFo9DZN7Wt3CQEjUF8zWrduactxA3YFCwAAoL4E5F8RAgCcoaGtFLPihtpiBQsAAMAwAhYAAIBhBCwAAADDCFgAAACGEbAAAAAMI2ABAAAYRsACAAAwjIAFAABgGAELAADAMAIWAACAYQQsAAAAwwhYAAAAhhGwAAAADCNgAQAAGEbAAgAAMIyABQAAYBgBCwAAwDACFgAAgGEELAAAAMMIWAAAAIYRsAAAAAwjYAEAABhGwAIAADCMgAUAAGAYAQsAAMAwAhYAAIBhBCwAAADDAj5gPf3007r22murb%2B/evVsjRoxQQkKChgwZoo0bN9pYHQAAaIgCOmDt379fb7zxRvXto0ePavLkyRo1apQ%2B/vhjzZ49W48//rhyc3NtrBIAADQ0ARuwqqqqNG/ePN17773VY2%2B99Zbi4uKUmpqq0NBQJScna/DgwcrJybGxUgAA0NC47C7ALuvWrVPz5s01fPhwLVu2TJJUUFCgrl27%2BuwXHx%2BvTZs21Wnu4uJiud1unzGXq4ViY2Mvr%2BhfCAkJ9vkKAKhfLlfDfb7lNcO/AjJgHTt2TM8995xefvlln3GPx6MuXbr4jEVFRamkpKRO82dnZysrK8tnLC0tTenp6ZdW8EVERITWy7wAAF/R0WF2l3DZeM3wj4AMWAsXLtRdd92la665RkeOHLno/kFBQXWaPyUlRYMGDfIZc7layOMpq9M8FxMSEqyIiFCdPHlalZVVRucGANRk%2BnncnwL1NcOuUBxwAWv37t3at2%2Bfnn766RrbWrVqJa/X6zPm8XjUqlWrOh0jNja2xulAt7tUFRX184CurKyqt7kBAP9nyOIddpdQJ5um9q0xxmuGfwRcwNq4caOKiorUv39/SZJlWZKkpKQkTZgwQW%2B//bbP/rm5uUpMTPR7nQAAoOEKuID16KOP6uGHH66%2BXVRUpJSUFL355puqqqrSihUrtGbNGo0ZM0bbt2/Xhx9%2BqPXr19tYMQAAaGgCLmBFRkYqMjKy%2BnZFRYUkqU2bNpKkFStW6Mknn9SSJUvUtm1bLVmypMaF7wAAAL8m4ALWL1199dU6cOBA9e0ePXrozTfftLEiAADQ0PFmGAAAAIYRsAAAAAwjYAEAABhGwAIAADCMgAUAAGAYAQsAAMAwAhYAAIBhBCwAAADDCFgAAACGEf%2BFJNcAAAxCSURBVLAAAAAMI2ABAAAYRsACAAAwjIAFAABgGAELAADAMAIWAACAYQQsAAAAwwhYAAAAhhGwAAAADCNgAQAAGEbAAgAAMIyABQAAYBgBCwAAwDACFgAAgGEELAAAAMMIWAAAAIYRsAAAAAwjYAEAABhGwAIAADCMgAUAAGBYwAasI0eOaPLkyerVq5d69%2B6tGTNm6MSJE5Kk/fv3a8yYMUpMTFT//v21evVqm6sFAAANScAGrMmTJysqKkrbtm3Txo0b9c033%2BiPf/yjTp8%2Brfvuu0833nijdu/ereXLl%2BtPf/qT3n33XbtLBgAADURABqzS0lJ169ZNGRkZCgsLU%2BvWrTVy5Eh98skn2r59u8rLy/XII48oLCxM3bt3V0pKirKzs%2B0uGwAANBAuuwuwQ8uWLbVw4UKfscLCQl111VUqKChQly5dFBISUr0tPj5e69evr/X8xcXFcrvdPmMuVwvFxsZeXuG/EBIS7PMVAIB/5HL93%2BsDrxn%2BFZAB65fy8vL06quvKjMzU1u2bFFkZKTP9qioKHm9XlVVVSk4%2BOIPzOzsbGVlZfmMpaWlKT093Wjd50REhNbLvACAhi06OqzGGK8Z/hHwAWvv3r2aPHmyZsyYoQEDBmjLli2XPWdKSooGDRrkM%2BZytZDHU3bZc/%2BjkJBgRUSE6uTJ06qsrDI6NwCg4fvH151Afc04X8j0h4AOWNu2bdN//Md/6Pe//71uvfVWSVJMTIwOHTrks5/H41F0dHStVq8kKTY2tsbpQLe7VBUV9fOArqysqre5AQAN1/leG3jN8I%2BAPRH76aefaubMmcrMzKwOV5KUkJCgAwcOqKKionosNzdXiYmJdpQJAAAaoIAMWBUVFZozZ44efvhh9enTx2db//79FRYWpiVLlqisrEwff/yx1q9fr3vuucemagEAQEMTkKcIP//8cx08eFCLFi3SokWLfLZt3rxZK1as0Ny5c9W7d2/FxMRUX58FAABQGwEZsHr06KEDBw786j5/%2Bctf/FQNAABobALyFCEAAEB9ImABAAAYRsACAAAwjIAFAABgGAELAADAMAIWAACAYQQsAAAAwwhYAAAAhhGwAAAADCNgAQAAGEbAAgAAMIyABQAAYBgBCwAAwDCX3QUgcAxbttPuEgAA8AtWsAAAAAwjYAEAABhGwAIAADCMgAUAAGAYAQsAAMAwAhYAAIBhBCwAAADDCFgAAACGEbAAAAAM453cAQBopBrSJ2hsmtrX7hKMYgULAADAMAIWAACAYQQsAAAAwwhYAAAAhhGwAAAADOOvCM/jyJEjmjdvnvbu3avQ0FDdcccdeuSRRxQc7Lw82mP2ZrtLAAAAv0DA%2BgXLsvTQQw%2BpU6dO%2BuCDD3T8%2BHFNnDhRMTExGj9%2BvN3lAQCABsB5SzI2y8vL04EDBzRnzhxFRkbqmmuu0aRJk5SdnW13aQAAoIFgBesXCgoK1K5dO0VFRVWPXXfddfr222916tQphYeHX3SO4uJiud1unzGXq4ViY2ON1hoSQj4GADQOLlfjek0jYP2Cx%2BNRZGSkz9i52x6Pp1YBKzs7W1lZWT5jDz30kKZMmWKuUP0c5H7X5iulpKQYD2%2Bom%2BLiYmVnZ9MLB6AXzkEvnIV%2B%2BFfjiosOkZKSotdff93nX0pKivHjuN1uZWVl1Vgtg//RC%2BegF85BL5yFfvgXK1i/EBMTI6/X6zPm8XgkSa1atarVHLGxsfx2AABAAGMF6xcSEhL0/fffV4cqScrNzVWnTp0UFhZmY2UAAKChIGD9Qnx8vBITE7VgwQKdPHlSBw4c0AsvvKB77rnH7tIAAEADETJ//vz5dhfhNL/97W/17rvv6sknn9Q777yjsWPHasKECXaXdV5hYWHq1asXq2sOQC%2Bcg144B71wFvrhP0GWZVl2FwEAANCYcIoQAADAMAIWAACAYQQsAAAAwwhYAAAAhhGwAAAADCNgAQAAGEbAAgAAMIyABQAAYBgBCwAAwDACVgN05MgRTZgwQddff7169%2B6tZ555RlVVVXaXFTCOHDmiyZMnq1evXurdu7dmzJihEydOSJL279%2BvMWPGKDExUf3799fq1attrjZwPP3007r22murb%2B/evVsjRoxQQkKChgwZoo0bN9pYXWB4/vnn1a9fP91www0aN26cDh8%2BLIle%2BFt%2Bfr5SU1N10003qXfv3srIyFBJSYkkeuFXFhqUqqoq6/bbb7ceeeQRy%2Bv1WgcPHrQGDhxovfjii3aXFjBuu%2B0269FHH7VOnTplFRcXW6NGjbIee%2Bwx68cff7T69u1r/eEPf7BOnTplff7551bPnj2tzZs3211yo1dQUGD17NnT6ty5s2VZllVUVGR1797dWrt2rfXjjz9a27ZtsxITE60vvvjC5kobr1deecUaPXq0VVhYaHm9XuvRRx%2B1nnjiCXrhZxUVFVafPn2sZ5991jp79qzl8Xise%2B%2B915oyZQq98DNWsBqYvLw8HThwQHPmzFFkZKSuueYaTZo0SdnZ2XaXFhBKS0vVrVs3ZWRkKCwsTK1bt9bIkSP1ySefaPv27SovL9cjjzyisLAwde/eXSkpKfSmnlVVVWnevHm69957q8feeustxcXFKTU1VaGhoUpOTtbgwYOVk5NjY6WN20svvaQ5c%2Baobdu2ioyM1MKFC/X444/TCz9zu906duyYhg8frqZNmyoqKkqDBw/W/v376YWfEbAamIKCArVr105RUVHVY9ddd52%2B/fZbnTp1ysbKAkPLli21cOFCxcTEVI8VFhbqqquuUkFBgbp06aKQkJDqbfHx8crPz7ej1ICxbt06NW/eXMOHD68eKygoUNeuXX32oxf1p6ioSEVFRfruu%2B80dOhQJSUlaerUqfJ4PPTCz6688kpdd911Wr9%2BvU6fPq2SkhJt2bJFycnJ9MLPCFgNjMfjUWRkpM/Yudsej8eOkgJaXl6eXn31Vd17773n7U1UVJS8Xi/XyNWTY8eO6bnnntP8%2BfN9xi/Ui3PXocCso0ePKigoSFu3blV2drbeeOMNFRYWau7cufTCz4KCgpSZmalt27ZVX6dbWVmp6dOn0ws/I2ABl2jv3r2aMGGCZsyYoQEDBthdTkBauHCh7rrrLl1zzTW12j8oKKieKwpM5eXlKi8vV0ZGhqKjo3XVVVcpPT1dW7ZsueD30Iv68dNPP%2Bn%2B%2B%2B/XLbfcok8//VQ7d%2B5Uy5YtlZGRccHvoRf1g4DVwMTExMjr9fqMnVu5atWqlR0lBaRt27bp/vvv17x583TPPfdIunBvoqOjFRzMj5ppu3fv1r59%2B/TAAw/U2NaqVavz9oKfkfpx7pKF8PDw6rF27drJsixVVFTQCz/atWuXjhw5oqlTpyosLExXXHGFpkyZoq1bt6pJkyb0wo941m9gEhIS9P333/ucDszNzVWnTp0UFhZmY2WB49NPP9XMmTOVmZmpW2%2B9tXo8ISFBBw4cUEVFRfVYbm6uEhMT7Siz0du4caOKiorUv39/JSUl6Y477pAkJSUl6dprr61xXQm9qD9xcXEKDw/3%2BT8vLCyUy%2BVScnIyvfAjy7JqXJJQXl4uSbr55pvphT/Z/WeMqLu77rrLmj59unXixAnryy%2B/tPr27Wu9%2BuqrdpcVEMrLy61hw4ZZr7zySo1tZ8%2BetQYOHGgtWrTIOnXqlLVnzx7r%2Buuvt7Zv325DpY2f1%2Bu1fvjhh%2Bp/n332mdW5c2frhx9%2BsAoLC60bb7zRWr16tXX69Glr06ZNVkJCgrV//367y260Fi5caN1%2B%2B%2B3WDz/8YBUXF1spKSnWrFmzrGPHjtELPyopKbF69eplLV261Dp9%2BrTl9Xqthx56yEpJSaEXfhZkWZZld8hD3RQVFWnu3Lnas2ePwsLCdPfdd%2Buhhx6yu6yA8Mknn%2Biee%2B5R06ZNa2zbvHmzfvzxR82dO1f5%2BfmKiYnRpEmTNHbsWBsqDTxHjhzR4MGDdeDAAUk/9%2BrJJ5/U119/rbZt2yojI0NDhgyxucrG66efftKiRYv09ttvKzg4WAMHDtTs2bMVHh5OL/wsNzdXzzzzjPbv368mTZqoV69emjVrltq0aUMv/IiABQAAYBjXYAEAABhGwAIAADCMgAUAAGAYAQsAAMAwAhYAAIBhBCwAAADDCFgAAACGEbAAAAAMI2ABAAAYRsACAAAwjIAFAABgGAELAADAMAIWAACAYf8f3LT4H1UkceUAAAAASUVORK5CYII%3D\"/>\n",
       "        </div>\n",
       "        <div role=\"tabpanel\" class=\"tab-pane col-md-12\" id=\"common-5332925068415596250\">\n",
       "            \n",
       "<table class=\"freq table table-hover\">\n",
       "    <thead>\n",
       "    <tr>\n",
       "        <td class=\"fillremaining\">Value</td>\n",
       "        <td class=\"number\">Count</td>\n",
       "        <td class=\"number\">Frequency (%)</td>\n",
       "        <td style=\"min-width:200px\">&nbsp;</td>\n",
       "    </tr>\n",
       "    </thead>\n",
       "    <tr class=\"\">\n",
       "        <td class=\"fillremaining\">42</td>\n",
       "        <td class=\"number\">22</td>\n",
       "        <td class=\"number\">3.1%</td>\n",
       "        <td>\n",
       "            <div class=\"bar\" style=\"width:5%\">&nbsp;</div>\n",
       "        </td>\n",
       "</tr><tr class=\"\">\n",
       "        <td class=\"fillremaining\">31</td>\n",
       "        <td class=\"number\">21</td>\n",
       "        <td class=\"number\">2.9%</td>\n",
       "        <td>\n",
       "            <div class=\"bar\" style=\"width:4%\">&nbsp;</div>\n",
       "        </td>\n",
       "</tr><tr class=\"\">\n",
       "        <td class=\"fillremaining\">30</td>\n",
       "        <td class=\"number\">21</td>\n",
       "        <td class=\"number\">2.9%</td>\n",
       "        <td>\n",
       "            <div class=\"bar\" style=\"width:4%\">&nbsp;</div>\n",
       "        </td>\n",
       "</tr><tr class=\"\">\n",
       "        <td class=\"fillremaining\">35</td>\n",
       "        <td class=\"number\">18</td>\n",
       "        <td class=\"number\">2.5%</td>\n",
       "        <td>\n",
       "            <div class=\"bar\" style=\"width:4%\">&nbsp;</div>\n",
       "        </td>\n",
       "</tr><tr class=\"\">\n",
       "        <td class=\"fillremaining\">38</td>\n",
       "        <td class=\"number\">18</td>\n",
       "        <td class=\"number\">2.5%</td>\n",
       "        <td>\n",
       "            <div class=\"bar\" style=\"width:4%\">&nbsp;</div>\n",
       "        </td>\n",
       "</tr><tr class=\"\">\n",
       "        <td class=\"fillremaining\">27</td>\n",
       "        <td class=\"number\">18</td>\n",
       "        <td class=\"number\">2.5%</td>\n",
       "        <td>\n",
       "            <div class=\"bar\" style=\"width:4%\">&nbsp;</div>\n",
       "        </td>\n",
       "</tr><tr class=\"\">\n",
       "        <td class=\"fillremaining\">47</td>\n",
       "        <td class=\"number\">18</td>\n",
       "        <td class=\"number\">2.5%</td>\n",
       "        <td>\n",
       "            <div class=\"bar\" style=\"width:4%\">&nbsp;</div>\n",
       "        </td>\n",
       "</tr><tr class=\"\">\n",
       "        <td class=\"fillremaining\">21</td>\n",
       "        <td class=\"number\">17</td>\n",
       "        <td class=\"number\">2.4%</td>\n",
       "        <td>\n",
       "            <div class=\"bar\" style=\"width:4%\">&nbsp;</div>\n",
       "        </td>\n",
       "</tr><tr class=\"\">\n",
       "        <td class=\"fillremaining\">37</td>\n",
       "        <td class=\"number\">17</td>\n",
       "        <td class=\"number\">2.4%</td>\n",
       "        <td>\n",
       "            <div class=\"bar\" style=\"width:4%\">&nbsp;</div>\n",
       "        </td>\n",
       "</tr><tr class=\"\">\n",
       "        <td class=\"fillremaining\">29</td>\n",
       "        <td class=\"number\">17</td>\n",
       "        <td class=\"number\">2.4%</td>\n",
       "        <td>\n",
       "            <div class=\"bar\" style=\"width:4%\">&nbsp;</div>\n",
       "        </td>\n",
       "</tr><tr class=\"other\">\n",
       "        <td class=\"fillremaining\">Other values (62)</td>\n",
       "        <td class=\"number\">530</td>\n",
       "        <td class=\"number\">73.9%</td>\n",
       "        <td>\n",
       "            <div class=\"bar\" style=\"width:100%\">&nbsp;</div>\n",
       "        </td>\n",
       "</tr>\n",
       "</table>\n",
       "        </div>\n",
       "        <div role=\"tabpanel\" class=\"tab-pane col-md-12\"  id=\"extreme-5332925068415596250\">\n",
       "            <p class=\"h4\">Minimum 5 values</p>\n",
       "            \n",
       "<table class=\"freq table table-hover\">\n",
       "    <thead>\n",
       "    <tr>\n",
       "        <td class=\"fillremaining\">Value</td>\n",
       "        <td class=\"number\">Count</td>\n",
       "        <td class=\"number\">Frequency (%)</td>\n",
       "        <td style=\"min-width:200px\">&nbsp;</td>\n",
       "    </tr>\n",
       "    </thead>\n",
       "    <tr class=\"\">\n",
       "        <td class=\"fillremaining\">0</td>\n",
       "        <td class=\"number\">1</td>\n",
       "        <td class=\"number\">0.1%</td>\n",
       "        <td>\n",
       "            <div class=\"bar\" style=\"width:100%\">&nbsp;</div>\n",
       "        </td>\n",
       "</tr><tr class=\"\">\n",
       "        <td class=\"fillremaining\">5</td>\n",
       "        <td class=\"number\">1</td>\n",
       "        <td class=\"number\">0.1%</td>\n",
       "        <td>\n",
       "            <div class=\"bar\" style=\"width:100%\">&nbsp;</div>\n",
       "        </td>\n",
       "</tr><tr class=\"\">\n",
       "        <td class=\"fillremaining\">10</td>\n",
       "        <td class=\"number\">1</td>\n",
       "        <td class=\"number\">0.1%</td>\n",
       "        <td>\n",
       "            <div class=\"bar\" style=\"width:100%\">&nbsp;</div>\n",
       "        </td>\n",
       "</tr><tr class=\"\">\n",
       "        <td class=\"fillremaining\">11</td>\n",
       "        <td class=\"number\">1</td>\n",
       "        <td class=\"number\">0.1%</td>\n",
       "        <td>\n",
       "            <div class=\"bar\" style=\"width:100%\">&nbsp;</div>\n",
       "        </td>\n",
       "</tr><tr class=\"\">\n",
       "        <td class=\"fillremaining\">12</td>\n",
       "        <td class=\"number\">1</td>\n",
       "        <td class=\"number\">0.1%</td>\n",
       "        <td>\n",
       "            <div class=\"bar\" style=\"width:100%\">&nbsp;</div>\n",
       "        </td>\n",
       "</tr>\n",
       "</table>\n",
       "            <p class=\"h4\">Maximum 5 values</p>\n",
       "            \n",
       "<table class=\"freq table table-hover\">\n",
       "    <thead>\n",
       "    <tr>\n",
       "        <td class=\"fillremaining\">Value</td>\n",
       "        <td class=\"number\">Count</td>\n",
       "        <td class=\"number\">Frequency (%)</td>\n",
       "        <td style=\"min-width:200px\">&nbsp;</td>\n",
       "    </tr>\n",
       "    </thead>\n",
       "    <tr class=\"\">\n",
       "        <td class=\"fillremaining\">77</td>\n",
       "        <td class=\"number\">3</td>\n",
       "        <td class=\"number\">0.4%</td>\n",
       "        <td>\n",
       "            <div class=\"bar\" style=\"width:100%\">&nbsp;</div>\n",
       "        </td>\n",
       "</tr><tr class=\"\">\n",
       "        <td class=\"fillremaining\">79</td>\n",
       "        <td class=\"number\">2</td>\n",
       "        <td class=\"number\">0.3%</td>\n",
       "        <td>\n",
       "            <div class=\"bar\" style=\"width:67%\">&nbsp;</div>\n",
       "        </td>\n",
       "</tr><tr class=\"\">\n",
       "        <td class=\"fillremaining\">80</td>\n",
       "        <td class=\"number\">3</td>\n",
       "        <td class=\"number\">0.4%</td>\n",
       "        <td>\n",
       "            <div class=\"bar\" style=\"width:100%\">&nbsp;</div>\n",
       "        </td>\n",
       "</tr><tr class=\"\">\n",
       "        <td class=\"fillremaining\">82</td>\n",
       "        <td class=\"number\">1</td>\n",
       "        <td class=\"number\">0.1%</td>\n",
       "        <td>\n",
       "            <div class=\"bar\" style=\"width:34%\">&nbsp;</div>\n",
       "        </td>\n",
       "</tr><tr class=\"\">\n",
       "        <td class=\"fillremaining\">88</td>\n",
       "        <td class=\"number\">1</td>\n",
       "        <td class=\"number\">0.1%</td>\n",
       "        <td>\n",
       "            <div class=\"bar\" style=\"width:34%\">&nbsp;</div>\n",
       "        </td>\n",
       "</tr>\n",
       "</table>\n",
       "        </div>\n",
       "    </div>\n",
       "</div>\n",
       "</div><div class=\"row variablerow\">\n",
       "    <div class=\"col-md-3 namecol\">\n",
       "        <p class=\"h4 pp-anchor\" id=\"pp_var_Fecha_Diagnóstico\">Fecha_Diagnóstico<br/>\n",
       "            <small>Categorical</small>\n",
       "        </p>\n",
       "    </div><div class=\"col-md-3\">\n",
       "    <table class=\"stats \">\n",
       "        <tr class=\"\">\n",
       "            <th>Distinct count</th>\n",
       "            <td>32</td>\n",
       "        </tr>\n",
       "        <tr>\n",
       "            <th>Unique (%)</th>\n",
       "            <td>4.5%</td>\n",
       "        </tr>\n",
       "        <tr class=\"ignore\">\n",
       "            <th>Missing (%)</th>\n",
       "            <td>0.0%</td>\n",
       "        </tr>\n",
       "        <tr class=\"ignore\">\n",
       "            <th>Missing (n)</th>\n",
       "            <td>0</td>\n",
       "        </tr>\n",
       "    </table>\n",
       "</div>\n",
       "<div class=\"col-md-6 collapse in\" id=\"minifreqtable-8084946843456350409\">\n",
       "    <table class=\"mini freq\">\n",
       "        <tr class=\"\">\n",
       "    <th>2020-03-16</th>\n",
       "    <td>\n",
       "        <div class=\"bar\" style=\"width:14%\" data-toggle=\"tooltip\" data-placement=\"right\" data-html=\"true\"\n",
       "             data-delay=500 title=\"Percentage: 10.3%\">\n",
       "            &nbsp;\n",
       "        </div>\n",
       "        74\n",
       "    </td>\n",
       "</tr><tr class=\"\">\n",
       "    <th>2020-03-18</th>\n",
       "    <td>\n",
       "        <div class=\"bar\" style=\"width:12%\" data-toggle=\"tooltip\" data-placement=\"right\" data-html=\"true\"\n",
       "             data-delay=500 title=\"Percentage: 8.2%\">\n",
       "            &nbsp;\n",
       "        </div>\n",
       "        59\n",
       "    </td>\n",
       "</tr><tr class=\"\">\n",
       "    <th>2020-03-17</th>\n",
       "    <td>\n",
       "        <div class=\"bar\" style=\"width:11%\" data-toggle=\"tooltip\" data-placement=\"right\" data-html=\"true\"\n",
       "             data-delay=500 title=\"Percentage: 7.8%\">\n",
       "            &nbsp;\n",
       "        </div>\n",
       "        56\n",
       "    </td>\n",
       "</tr><tr class=\"other\">\n",
       "    <th>Other values (29)</th>\n",
       "    <td>\n",
       "        <div class=\"bar\" style=\"width:100%\" data-toggle=\"tooltip\" data-placement=\"right\" data-html=\"true\"\n",
       "             data-delay=500 title=\"Percentage: 73.6%\">\n",
       "            528\n",
       "        </div>\n",
       "        \n",
       "    </td>\n",
       "</tr>\n",
       "    </table>\n",
       "</div>\n",
       "<div class=\"col-md-12 text-right\">\n",
       "    <a role=\"button\" data-toggle=\"collapse\" data-target=\"#freqtable-8084946843456350409, #minifreqtable-8084946843456350409\"\n",
       "       aria-expanded=\"true\" aria-controls=\"collapseExample\">\n",
       "        Toggle details\n",
       "    </a>\n",
       "</div>\n",
       "<div class=\"col-md-12 extrapadding collapse\" id=\"freqtable-8084946843456350409\">\n",
       "    \n",
       "<table class=\"freq table table-hover\">\n",
       "    <thead>\n",
       "    <tr>\n",
       "        <td class=\"fillremaining\">Value</td>\n",
       "        <td class=\"number\">Count</td>\n",
       "        <td class=\"number\">Frequency (%)</td>\n",
       "        <td style=\"min-width:200px\">&nbsp;</td>\n",
       "    </tr>\n",
       "    </thead>\n",
       "    <tr class=\"\">\n",
       "        <td class=\"fillremaining\">2020-03-16</td>\n",
       "        <td class=\"number\">74</td>\n",
       "        <td class=\"number\">10.3%</td>\n",
       "        <td>\n",
       "            <div class=\"bar\" style=\"width:35%\">&nbsp;</div>\n",
       "        </td>\n",
       "</tr><tr class=\"\">\n",
       "        <td class=\"fillremaining\">2020-03-18</td>\n",
       "        <td class=\"number\">59</td>\n",
       "        <td class=\"number\">8.2%</td>\n",
       "        <td>\n",
       "            <div class=\"bar\" style=\"width:28%\">&nbsp;</div>\n",
       "        </td>\n",
       "</tr><tr class=\"\">\n",
       "        <td class=\"fillremaining\">2020-03-17</td>\n",
       "        <td class=\"number\">56</td>\n",
       "        <td class=\"number\">7.8%</td>\n",
       "        <td>\n",
       "            <div class=\"bar\" style=\"width:26%\">&nbsp;</div>\n",
       "        </td>\n",
       "</tr><tr class=\"\">\n",
       "        <td class=\"fillremaining\">2020-03-15</td>\n",
       "        <td class=\"number\">55</td>\n",
       "        <td class=\"number\">7.7%</td>\n",
       "        <td>\n",
       "            <div class=\"bar\" style=\"width:26%\">&nbsp;</div>\n",
       "        </td>\n",
       "</tr><tr class=\"\">\n",
       "        <td class=\"fillremaining\">2020-03-13</td>\n",
       "        <td class=\"number\">54</td>\n",
       "        <td class=\"number\">7.5%</td>\n",
       "        <td>\n",
       "            <div class=\"bar\" style=\"width:25%\">&nbsp;</div>\n",
       "        </td>\n",
       "</tr><tr class=\"\">\n",
       "        <td class=\"fillremaining\">2020-03-14</td>\n",
       "        <td class=\"number\">47</td>\n",
       "        <td class=\"number\">6.6%</td>\n",
       "        <td>\n",
       "            <div class=\"bar\" style=\"width:22%\">&nbsp;</div>\n",
       "        </td>\n",
       "</tr><tr class=\"\">\n",
       "        <td class=\"fillremaining\">2020-03-20</td>\n",
       "        <td class=\"number\">47</td>\n",
       "        <td class=\"number\">6.6%</td>\n",
       "        <td>\n",
       "            <div class=\"bar\" style=\"width:22%\">&nbsp;</div>\n",
       "        </td>\n",
       "</tr><tr class=\"\">\n",
       "        <td class=\"fillremaining\">2020-03-09</td>\n",
       "        <td class=\"number\">40</td>\n",
       "        <td class=\"number\">5.6%</td>\n",
       "        <td>\n",
       "            <div class=\"bar\" style=\"width:19%\">&nbsp;</div>\n",
       "        </td>\n",
       "</tr><tr class=\"\">\n",
       "        <td class=\"fillremaining\">2020-03-12</td>\n",
       "        <td class=\"number\">36</td>\n",
       "        <td class=\"number\">5.0%</td>\n",
       "        <td>\n",
       "            <div class=\"bar\" style=\"width:17%\">&nbsp;</div>\n",
       "        </td>\n",
       "</tr><tr class=\"\">\n",
       "        <td class=\"fillremaining\">2020-03-10</td>\n",
       "        <td class=\"number\">35</td>\n",
       "        <td class=\"number\">4.9%</td>\n",
       "        <td>\n",
       "            <div class=\"bar\" style=\"width:17%\">&nbsp;</div>\n",
       "        </td>\n",
       "</tr><tr class=\"other\">\n",
       "        <td class=\"fillremaining\">Other values (22)</td>\n",
       "        <td class=\"number\">214</td>\n",
       "        <td class=\"number\">29.8%</td>\n",
       "        <td>\n",
       "            <div class=\"bar\" style=\"width:100%\">&nbsp;</div>\n",
       "        </td>\n",
       "</tr>\n",
       "</table>\n",
       "</div>\n",
       "</div><div class=\"row variablerow ignore\">\n",
       "    <div class=\"col-md-3 namecol\">\n",
       "        <p class=\"h4 pp-anchor\" id=\"pp_var_Identificación\"><s>Identificación</s><br/>\n",
       "            <small>Constant</small>\n",
       "        </p>\n",
       "    </div><div class=\"col-md-3\">\n",
       "    <p><em>This variable is constant and should be ignored for analysis</em></p>\n",
       "</div>\n",
       "<div class=\"col-md-6\">\n",
       "    <table class=\"stats \">\n",
       "        <tr>\n",
       "            <th>Constant value</th>\n",
       "            <td>confirmado</td>\n",
       "        </tr>\n",
       "    </table>\n",
       "</div>\n",
       "</div><div class=\"row variablerow\">\n",
       "    <div class=\"col-md-3 namecol\">\n",
       "        <p class=\"h4 pp-anchor\" id=\"pp_var_Procedencia\">Procedencia<br/>\n",
       "            <small>Categorical</small>\n",
       "        </p>\n",
       "    </div><div class=\"col-md-3\">\n",
       "    <table class=\"stats \">\n",
       "        <tr class=\"\">\n",
       "            <th>Distinct count</th>\n",
       "            <td>7</td>\n",
       "        </tr>\n",
       "        <tr>\n",
       "            <th>Unique (%)</th>\n",
       "            <td>1.0%</td>\n",
       "        </tr>\n",
       "        <tr class=\"ignore\">\n",
       "            <th>Missing (%)</th>\n",
       "            <td>0.0%</td>\n",
       "        </tr>\n",
       "        <tr class=\"ignore\">\n",
       "            <th>Missing (n)</th>\n",
       "            <td>0</td>\n",
       "        </tr>\n",
       "    </table>\n",
       "</div>\n",
       "<div class=\"col-md-6 collapse in\" id=\"minifreqtable125377951222993167\">\n",
       "    <table class=\"mini freq\">\n",
       "        <tr class=\"\">\n",
       "    <th>Contacto</th>\n",
       "    <td>\n",
       "        <div class=\"bar\" style=\"width:100%\" data-toggle=\"tooltip\" data-placement=\"right\" data-html=\"true\"\n",
       "             data-delay=500 title=\"Percentage: 37.8%\">\n",
       "            271\n",
       "        </div>\n",
       "        \n",
       "    </td>\n",
       "</tr><tr class=\"\">\n",
       "    <th>EUA</th>\n",
       "    <td>\n",
       "        <div class=\"bar\" style=\"width:73%\" data-toggle=\"tooltip\" data-placement=\"right\" data-html=\"true\"\n",
       "             data-delay=500 title=\"Percentage: 27.6%\">\n",
       "            198\n",
       "        </div>\n",
       "        \n",
       "    </td>\n",
       "</tr><tr class=\"\">\n",
       "    <th>España</th>\n",
       "    <td>\n",
       "        <div class=\"bar\" style=\"width:66%\" data-toggle=\"tooltip\" data-placement=\"right\" data-html=\"true\"\n",
       "             data-delay=500 title=\"Percentage: 25.0%\">\n",
       "            179\n",
       "        </div>\n",
       "        \n",
       "    </td>\n",
       "</tr><tr class=\"other\">\n",
       "    <th>Other values (4)</th>\n",
       "    <td>\n",
       "        <div class=\"bar\" style=\"width:26%\" data-toggle=\"tooltip\" data-placement=\"right\" data-html=\"true\"\n",
       "             data-delay=500 title=\"Percentage: 9.6%\">\n",
       "            69\n",
       "        </div>\n",
       "        \n",
       "    </td>\n",
       "</tr>\n",
       "    </table>\n",
       "</div>\n",
       "<div class=\"col-md-12 text-right\">\n",
       "    <a role=\"button\" data-toggle=\"collapse\" data-target=\"#freqtable125377951222993167, #minifreqtable125377951222993167\"\n",
       "       aria-expanded=\"true\" aria-controls=\"collapseExample\">\n",
       "        Toggle details\n",
       "    </a>\n",
       "</div>\n",
       "<div class=\"col-md-12 extrapadding collapse\" id=\"freqtable125377951222993167\">\n",
       "    \n",
       "<table class=\"freq table table-hover\">\n",
       "    <thead>\n",
       "    <tr>\n",
       "        <td class=\"fillremaining\">Value</td>\n",
       "        <td class=\"number\">Count</td>\n",
       "        <td class=\"number\">Frequency (%)</td>\n",
       "        <td style=\"min-width:200px\">&nbsp;</td>\n",
       "    </tr>\n",
       "    </thead>\n",
       "    <tr class=\"\">\n",
       "        <td class=\"fillremaining\">Contacto</td>\n",
       "        <td class=\"number\">271</td>\n",
       "        <td class=\"number\">37.8%</td>\n",
       "        <td>\n",
       "            <div class=\"bar\" style=\"width:100%\">&nbsp;</div>\n",
       "        </td>\n",
       "</tr><tr class=\"\">\n",
       "        <td class=\"fillremaining\">EUA</td>\n",
       "        <td class=\"number\">198</td>\n",
       "        <td class=\"number\">27.6%</td>\n",
       "        <td>\n",
       "            <div class=\"bar\" style=\"width:73%\">&nbsp;</div>\n",
       "        </td>\n",
       "</tr><tr class=\"\">\n",
       "        <td class=\"fillremaining\">España</td>\n",
       "        <td class=\"number\">179</td>\n",
       "        <td class=\"number\">25.0%</td>\n",
       "        <td>\n",
       "            <div class=\"bar\" style=\"width:66%\">&nbsp;</div>\n",
       "        </td>\n",
       "</tr><tr class=\"\">\n",
       "        <td class=\"fillremaining\">Francia</td>\n",
       "        <td class=\"number\">40</td>\n",
       "        <td class=\"number\">5.6%</td>\n",
       "        <td>\n",
       "            <div class=\"bar\" style=\"width:15%\">&nbsp;</div>\n",
       "        </td>\n",
       "</tr><tr class=\"\">\n",
       "        <td class=\"fillremaining\">Italia</td>\n",
       "        <td class=\"number\">17</td>\n",
       "        <td class=\"number\">2.4%</td>\n",
       "        <td>\n",
       "            <div class=\"bar\" style=\"width:7%\">&nbsp;</div>\n",
       "        </td>\n",
       "</tr><tr class=\"\">\n",
       "        <td class=\"fillremaining\">Alemania</td>\n",
       "        <td class=\"number\">10</td>\n",
       "        <td class=\"number\">1.4%</td>\n",
       "        <td>\n",
       "            <div class=\"bar\" style=\"width:4%\">&nbsp;</div>\n",
       "        </td>\n",
       "</tr><tr class=\"\">\n",
       "        <td class=\"fillremaining\">Singapur</td>\n",
       "        <td class=\"number\">2</td>\n",
       "        <td class=\"number\">0.3%</td>\n",
       "        <td>\n",
       "            <div class=\"bar\" style=\"width:1%\">&nbsp;</div>\n",
       "        </td>\n",
       "</tr>\n",
       "</table>\n",
       "</div>\n",
       "</div><div class=\"row variablerow\">\n",
       "    <div class=\"col-md-3 namecol\">\n",
       "        <p class=\"h4 pp-anchor\" id=\"pp_var_Llegada_México\">Llegada_México<br/>\n",
       "            <small>Categorical</small>\n",
       "        </p>\n",
       "    </div><div class=\"col-md-3\">\n",
       "    <table class=\"stats \">\n",
       "        <tr class=\"\">\n",
       "            <th>Distinct count</th>\n",
       "            <td>37</td>\n",
       "        </tr>\n",
       "        <tr>\n",
       "            <th>Unique (%)</th>\n",
       "            <td>5.2%</td>\n",
       "        </tr>\n",
       "        <tr class=\"alert\">\n",
       "            <th>Missing (%)</th>\n",
       "            <td>30.5%</td>\n",
       "        </tr>\n",
       "        <tr class=\"alert\">\n",
       "            <th>Missing (n)</th>\n",
       "            <td>219</td>\n",
       "        </tr>\n",
       "    </table>\n",
       "</div>\n",
       "<div class=\"col-md-6 collapse in\" id=\"minifreqtable9198371050066139749\">\n",
       "    <table class=\"mini freq\">\n",
       "        <tr class=\"\">\n",
       "    <th>15/03/2020</th>\n",
       "    <td>\n",
       "        <div class=\"bar\" style=\"width:17%\" data-toggle=\"tooltip\" data-placement=\"right\" data-html=\"true\"\n",
       "             data-delay=500 title=\"Percentage: 8.2%\">\n",
       "            &nbsp;\n",
       "        </div>\n",
       "        59\n",
       "    </td>\n",
       "</tr><tr class=\"\">\n",
       "    <th>14/03/2020</th>\n",
       "    <td>\n",
       "        <div class=\"bar\" style=\"width:12%\" data-toggle=\"tooltip\" data-placement=\"right\" data-html=\"true\"\n",
       "             data-delay=500 title=\"Percentage: 5.9%\">\n",
       "            &nbsp;\n",
       "        </div>\n",
       "        42\n",
       "    </td>\n",
       "</tr><tr class=\"\">\n",
       "    <th>13/03/2020</th>\n",
       "    <td>\n",
       "        <div class=\"bar\" style=\"width:11%\" data-toggle=\"tooltip\" data-placement=\"right\" data-html=\"true\"\n",
       "             data-delay=500 title=\"Percentage: 5.4%\">\n",
       "            &nbsp;\n",
       "        </div>\n",
       "        39\n",
       "    </td>\n",
       "</tr><tr class=\"other\">\n",
       "    <th>Other values (33)</th>\n",
       "    <td>\n",
       "        <div class=\"bar\" style=\"width:100%\" data-toggle=\"tooltip\" data-placement=\"right\" data-html=\"true\"\n",
       "             data-delay=500 title=\"Percentage: 49.9%\">\n",
       "            358\n",
       "        </div>\n",
       "        \n",
       "    </td>\n",
       "</tr><tr class=\"missing\">\n",
       "    <th>(Missing)</th>\n",
       "    <td>\n",
       "        <div class=\"bar\" style=\"width:61%\" data-toggle=\"tooltip\" data-placement=\"right\" data-html=\"true\"\n",
       "             data-delay=500 title=\"Percentage: 30.5%\">\n",
       "            219\n",
       "        </div>\n",
       "        \n",
       "    </td>\n",
       "</tr>\n",
       "    </table>\n",
       "</div>\n",
       "<div class=\"col-md-12 text-right\">\n",
       "    <a role=\"button\" data-toggle=\"collapse\" data-target=\"#freqtable9198371050066139749, #minifreqtable9198371050066139749\"\n",
       "       aria-expanded=\"true\" aria-controls=\"collapseExample\">\n",
       "        Toggle details\n",
       "    </a>\n",
       "</div>\n",
       "<div class=\"col-md-12 extrapadding collapse\" id=\"freqtable9198371050066139749\">\n",
       "    \n",
       "<table class=\"freq table table-hover\">\n",
       "    <thead>\n",
       "    <tr>\n",
       "        <td class=\"fillremaining\">Value</td>\n",
       "        <td class=\"number\">Count</td>\n",
       "        <td class=\"number\">Frequency (%)</td>\n",
       "        <td style=\"min-width:200px\">&nbsp;</td>\n",
       "    </tr>\n",
       "    </thead>\n",
       "    <tr class=\"\">\n",
       "        <td class=\"fillremaining\">15/03/2020</td>\n",
       "        <td class=\"number\">59</td>\n",
       "        <td class=\"number\">8.2%</td>\n",
       "        <td>\n",
       "            <div class=\"bar\" style=\"width:27%\">&nbsp;</div>\n",
       "        </td>\n",
       "</tr><tr class=\"\">\n",
       "        <td class=\"fillremaining\">14/03/2020</td>\n",
       "        <td class=\"number\">42</td>\n",
       "        <td class=\"number\">5.9%</td>\n",
       "        <td>\n",
       "            <div class=\"bar\" style=\"width:19%\">&nbsp;</div>\n",
       "        </td>\n",
       "</tr><tr class=\"\">\n",
       "        <td class=\"fillremaining\">13/03/2020</td>\n",
       "        <td class=\"number\">39</td>\n",
       "        <td class=\"number\">5.4%</td>\n",
       "        <td>\n",
       "            <div class=\"bar\" style=\"width:18%\">&nbsp;</div>\n",
       "        </td>\n",
       "</tr><tr class=\"\">\n",
       "        <td class=\"fillremaining\">16/03/2020</td>\n",
       "        <td class=\"number\">37</td>\n",
       "        <td class=\"number\">5.2%</td>\n",
       "        <td>\n",
       "            <div class=\"bar\" style=\"width:17%\">&nbsp;</div>\n",
       "        </td>\n",
       "</tr><tr class=\"\">\n",
       "        <td class=\"fillremaining\">09/03/2020</td>\n",
       "        <td class=\"number\">36</td>\n",
       "        <td class=\"number\">5.0%</td>\n",
       "        <td>\n",
       "            <div class=\"bar\" style=\"width:17%\">&nbsp;</div>\n",
       "        </td>\n",
       "</tr><tr class=\"\">\n",
       "        <td class=\"fillremaining\">17/03/2020</td>\n",
       "        <td class=\"number\">30</td>\n",
       "        <td class=\"number\">4.2%</td>\n",
       "        <td>\n",
       "            <div class=\"bar\" style=\"width:14%\">&nbsp;</div>\n",
       "        </td>\n",
       "</tr><tr class=\"\">\n",
       "        <td class=\"fillremaining\">12/03/2020</td>\n",
       "        <td class=\"number\">27</td>\n",
       "        <td class=\"number\">3.8%</td>\n",
       "        <td>\n",
       "            <div class=\"bar\" style=\"width:13%\">&nbsp;</div>\n",
       "        </td>\n",
       "</tr><tr class=\"\">\n",
       "        <td class=\"fillremaining\">11/03/2020</td>\n",
       "        <td class=\"number\">25</td>\n",
       "        <td class=\"number\">3.5%</td>\n",
       "        <td>\n",
       "            <div class=\"bar\" style=\"width:12%\">&nbsp;</div>\n",
       "        </td>\n",
       "</tr><tr class=\"\">\n",
       "        <td class=\"fillremaining\">08/03/2020</td>\n",
       "        <td class=\"number\">25</td>\n",
       "        <td class=\"number\">3.5%</td>\n",
       "        <td>\n",
       "            <div class=\"bar\" style=\"width:12%\">&nbsp;</div>\n",
       "        </td>\n",
       "</tr><tr class=\"\">\n",
       "        <td class=\"fillremaining\">18/03/2020</td>\n",
       "        <td class=\"number\">25</td>\n",
       "        <td class=\"number\">3.5%</td>\n",
       "        <td>\n",
       "            <div class=\"bar\" style=\"width:12%\">&nbsp;</div>\n",
       "        </td>\n",
       "</tr><tr class=\"other\">\n",
       "        <td class=\"fillremaining\">Other values (26)</td>\n",
       "        <td class=\"number\">153</td>\n",
       "        <td class=\"number\">21.3%</td>\n",
       "        <td>\n",
       "            <div class=\"bar\" style=\"width:70%\">&nbsp;</div>\n",
       "        </td>\n",
       "</tr><tr class=\"missing\">\n",
       "        <td class=\"fillremaining\">(Missing)</td>\n",
       "        <td class=\"number\">219</td>\n",
       "        <td class=\"number\">30.5%</td>\n",
       "        <td>\n",
       "            <div class=\"bar\" style=\"width:100%\">&nbsp;</div>\n",
       "        </td>\n",
       "</tr>\n",
       "</table>\n",
       "</div>\n",
       "</div>\n",
       "    <div class=\"row headerrow highlight\">\n",
       "        <h1>Correlations</h1>\n",
       "    </div>\n",
       "    <div class=\"row variablerow\">\n",
       "    <img src=\"data:image/png;base64,iVBORw0KGgoAAAANSUhEUgAAArYAAAHeCAYAAABuTEhGAAAABHNCSVQICAgIfAhkiAAAAAlwSFlzAAAPYQAAD2EBqD%2BnaQAAADh0RVh0U29mdHdhcmUAbWF0cGxvdGxpYiB2ZXJzaW9uMy4xLjEsIGh0dHA6Ly9tYXRwbG90bGliLm9yZy8QZhcZAAAgAElEQVR4nOzdeVjVZf7/8RcguAeCYP4UctQCSVAoNTV1pDTNHJdKUlvMpUXBpdRccikxprBc0hYrxWnsKzqMuaTjllk5baaJIuKUqKgJiCCIC8g5vz8cz3gEC/1A58Px%2Bbiuc43cn%2BW8ua8zXW9f3p/7uFitVqsAAACASs7V0QUAAAAA5YHGFgAAAE6BxhYAAABOgcYWAAAAToHGFgAAAE6BxhYAAABOgcYWAAAAToHGFgAAAE6BxhYAAABOgcYWAAAAToHGFgAAANf01VdfqV27dhozZsxvnme1WjV79my1b99eLVq00KBBg5Senm47npOTozFjxig8PFytWrXS5MmTdf78%2BXKtlcYWAAAApfrggw8UExOj22677XfPXbJkiRITE/Xhhx9q%2B/btCggI0IgRI2S1WiVJkyZNUnZ2tjZu3Ki1a9dq//79iouLK9d6aWwBAABQqqpVq%2Bof//hHmRrbFStWaOjQoWrWrJlq1aqll156SQcPHtSuXbuUnZ2trVu3auLEiapbt67q1aun0aNH65///KcKCwvLrd4q5XYnAAAAmE5mZqaysrLsxnx9feXn5/e71z755JNleo8LFy7ol19%2BUfPmzW1jNWvWVEBAgJKTk1VQUKAqVaooMDDQdjw4OFhnz55VWlqa3bgRNLYAAABm4OJSIbdNmDdP8%2BfPtxuLiopSdHR0ub1Hbm6urFarPD097cY9PT116tQpeXp6qlatWnJ1dbU7JkmnTp0qtzpobAEAAJxYZGSkIiIi7MZ8fX3/sPd3%2BZ2G/feOXw8aWwAAADNwrZhHn/z8/Mq07MCIOnXqyNXVVbm5uXbjOTk58vHxkY%2BPj/Lz81VcXCw3NzfbMUny8fEptzp4eAwAAMAMXF0r5vUH8PDw0B133KHk5GTbWG5uro4cOaKQkBAFBwfLYrEoNTXVdjwpKUm1a9dWo0aNyq0OGlsAAABct4yMDHXr1s22V23//v314Ycfav/%2B/crPz1dMTIyaN2%2Bu0NBQ1alTR927d1dsbKxOnjypY8eOafbs2YqMjJS7u3u51cRSBAAAADP4g9LV6xESEiJJunjxoiRp8%2BbNkqQ9e/aoqKhIaWlptu26HnvsMWVlZWnw4MEqKChQmzZtNG/ePNu9XnnlFU2fPl1dunSRu7u7evbsqVGjRpVrvS7Wy7vmAgAAwHGqVq2Y%2B164UDH3NSESWwAAADMwYWJb2dDYAgAAmAGNrWHMIAAAAJwCiS0AAIAZkNgaxgwCAADAKZDYAgAAmAGJrWE0tgAAAGZAY2sYMwgAAACnQGILAABgBiS2hjGDAAAAcAoktgAAAGZAYmsYjS0AAIAZ0NgaxgwCAADAKZDYAgAAmAGJrWE0tgAcLjAw8JrH3N3d5eXlpeDgYPXu3Vvdu3eXi4vLH1gdAKCycLFarVZHFwHg5na5sQ0NDZWvr6/dsdzcXB05ckRZWVmSpE6dOmn%2B/Pny8PD4w%2BsEgArVoEHF3PfYsYq5rwmR2AIwjWeffVb3339/iXGr1aq1a9dqypQp2rZtm%2BLi4jR58mQHVAgAFYilCIYxgwBMz8XFRT179lR0dLQkadmyZTp37pyDqwIAmA2JLYBK47777tMbb7yhwsJCpaSkKDw83O74N998o7///e/66aefdPr0adWsWVPNmjVTnz591LNnT7mWkobk5uYqPj5eX3zxhQ4fPqzCwkJ5enoqNDRUTz/9tNq0aVPimoiICB07dkwffPCBCgoKNGfOHKWnp2vevHm2xPnAgQNatGiRduzYoYyMDFWpUkV%2Bfn5q3bq1Hn/88VLXFefn52vJkiXasmWLDh8%2BrKKiItWtW1fh4eF66qmnFBoaanf%2Bf/7zHz300ENyc3PTvn37lJSUpHfeeUe7d%2B9Wfn6%2B/Pz81KVLF40cOVI1a9Y0MvUA/ggktoYxgwAqjVtvvdX25/z8fLtjc%2BbM0aBBg7R582bVqlVLrVu3lre3t7755huNHz9eo0ePVnFxsd01mZmZ6tu3r95991398ssvCgwM1D333KNq1app69ateuqpp5SYmHjNeg4ePKhx48apatWquvfee%2BXp6SlJ%2Bv777/Xwww9r5cqVunDhgu666y61aNFCBQUFWr58ufr166dvvvnG7l7Hjh1Tnz599Pbbb%2Bvnn39WUFCQWrdureLiYq1du1aRkZFasWKF3TVVq1a1/fmbb77RwIEDdfDgQTVv3ly33367jh07pvj4eI0cOfL6JhoAKikSWwCVxrErHoCoU6eO7c%2BbN2/Wu%2B%2B%2Bq9q1a%2BvNN99Up06dbMd%2B%2BOEHjR49Whs2bNDHH3%2BsQYMG2Y7NmzdPx44dU8OGDbVs2TLbg2sWi0VxcXFatGiRYmNj1a1bt1ITz7///e969tlnbUskLps1a5YKCws1ePBgjRs3zpYUFxcX67333tO8efP02muvac2aNbZrxo8fr/T0dDVv3lzvvvuu/Pz8bLUsWLBA8%2BfP1yuvvKK77rpLjRs3liTbfa1WqyZMmKDJkyfrscces93zH//4hyZPnqyvv/5a%2B/fvV1BQ0PVNOIA/FomtYcwggEpj8%2BbNkqTatWurWbNmtvEFCxZIkkaPHm3X1EpSq1atNH78eEnSkiVLdOVGMI0aNVKfPn00atQou90YXF1dNXLkSLm6uio/P18//fRTqfUUFhbq%2BeefLzGekpIiSerbt6/d8gc3NzcNHz5co0aN0hNPPKHCwkJJ0u7du7Vjxw5J0htvvGFrai/XEh0drTvvvFNFRUVatmxZifezWCwKDg62a2ol6eGHH5aXl5ckKSkpqdTfAYCJuLpWzOsmQmILoFJYu3at3n33XUnSkCFD5O7uLknKyMjQvn37JEmdO3cu9dr7779fLi4uOn78uA4fPqxGjRpJkoYOHXrN96tevbp8fHyUlZVl22rsau3atVOVKiX/M%2Brp6amsrCxt2rRJt99%2Bu90xFxcXDR8%2B3G7sq6%2B%2BknRp27MmTZqU%2Bl733XefkpOT9e2335Z6vG/fviXGXFxc5O/vr9zcXJ06darU6wDAmdDYAjCN999/X//85z/txvLz83Xo0CFlZmZKknr16qVnn33Wdjw1NdX255iYmGt%2BeUOVKlVUVFSktLQ0W2MrSefPn9fnn3%2Bu3bt36%2BTJkzp//rwt1b28jtdisZR6T39//1LHBwwYoLlz52ru3Ln68ssv1a1bN7Vr10533HFHqef//PPPklSiCb7S5eUHBw8evK5aqlevLkkqKiq65r0BmMRNlq5WBBpbAKZR2j%2BXu7m5ycvLS507d9ajjz6q%2B%2B67z%2B746dOnbX/%2B/PPPf/c9rnzoLCkpSdHR0Tpx4sQN1XutnQaef/55WSwWffDBB9q1a5d27dolSapXr566du2qgQMH6k9/%2BlOJmi4/fFaay8eKiop0/vx5VatWze54rVq1buh3AABnQmMLwDQWLFhQ6hc0/JbLa1irV69%2BzbWwpTl79qyGDx%2BurKwsBQQE6MUXX1SrVq3k6elpW15weVuv6%2BXi4qKoqCg98cQT2rx5s7788kt9%2B%2B23ysjI0Mcff6xly5bp9ddfV48ePeyu%2B60vgrwyNS5t2zIAToD/bxtGYwugUrv8cNS5c%2BdUUFBQ5v1av/zyS2VlZcnV1VULFy60S1AvKygoMFSbp6enHn74YT388MOyWCz64Ycf9Pbbb%2BuHH37QtGnT1L59e3l5ednS2CvT56vl5eVJkqpVq8bXCQPOisbWMGYQQKV25brV63ny/8iRI5Kkhg0bltrUHjp0SLm5ucYL/C9XV1e1adNGH330kXx9fZWfn2%2Br9/La2ivXC1/twIEDducCAEqisQVQqfn6%2BurOO%2B%2BUpBJfYHBZWlqaevXqpffee882dsstt0iSLly4UOo1b7/9tu3PV3%2Bxw29JSkrSpEmTtGjRolKPV61a1bYH7%2BWvBb68RdnPP/9sa2CvZLFYtGHDBklShw4dylwLgEqG7b4Mu7l%2BWwBO6bnnnpMkffbZZ1qyZIndscOHD2vkyJHav3%2B/3ZZXl/fBzcjIsO2PK11afhATE6O9e/fqrrvuknTtnQhKU7NmTSUmJmrevHn64osvShzftGmTfv75Z7m7uyssLEySFBwcrPbt20uSJkyYoJMnT9rOv3jxov7617/q4MGDql27dom9agE4ERpbw1hjC6DS69q1q5555hktXLhQr732mpYsWaLGjRsrJydHKSkpKi4uVuvWre2%2BWrZFixbq0KGDvvrqK0VHR6tFixZyd3fXvn375Orqqo8%2B%2Bkjr16/Xjz/%2BqL/97W9KSUlRVFSU7r777t%2BspUmTJho5cqTmzZunZ599Vg0aNNBtt90mFxcXpaen25ZAvPTSS3ZfxBAbG6snn3xSycnJioiIUIsWLeTh4aGUlBRlZ2erWrVqevPNN1WvXr2KmUQAcAI0tgCcwosvvqi2bdtq6dKl%2Bumnn/Ttt9/K09NTLVu2VK9evdSnT58SD13Nnj1bs2bN0pYtW7R37175%2BPioS5cueu6559SoUSPVr19fycnJ2r17t9LS0uTm5lamWkaMGKGgoCCtWLFCycnJ%2BuGHHyRJdevW1YMPPqiBAweWaJDr1aunxMRExcfHa9OmTdq7d68uXryoevXq6f7779eQIUN02223lc9kATCnmyxdrQgu1t/aXwYAAAB/jBYtKua%2Bu3dXzH1NiMQWAADADEhsDTP1DB47dkwhISFKS0u77mtnzZqlJ554ogKqAgAAqAA8PGaYqRPbBg0aaM%2BePY4uAwAAAJWAqRtbAACAm8ZNlq5WBFPP4NGjRxUYGKhffvlFHTp00IoVKzRs2DC1bNlSXbt21XfffWc79/PPP9cDDzygsLAwvfDCCzp//rzdvTZs2KDu3burRYsWeuihh7R69WpJ0smTJ9W6dWu7/SbHjh2r559//g/5HQEAAFA%2BKk1i6%2B7ursWLF%2BuNN95QUFCQJkyYoNdee02rVq1SXl6exowZo7FjxyoyMlLbt2/XuHHjbBuw//LLL5owYYLeeecdtWrVSjt37tQzzzyj2267TS1atNC4ceMUGxurdu3aac%2BePfriiy/02Weflbm2zMxMZWVl2Y35%2Bvra7VEJAADwm0hsDas0ja0k/fnPf1bz5s0lSd26ddPGjRslSV9//bWqVq2qgQMHytXVVZ07d1ZYWJgttV2%2BfLkiIiLUtm1bSVLr1q3VvXt3ffrpp2rRooUeffRRrVmzRosWLdLGjRv1wgsvXNcm6AkJCZo/f77dWNTw4YoeNao8fm0AAPBHKSqS3N0d8940toZVqsa2QYMGtj97eHjYvuP9xIkTuvXWW%2BV6xQfitttuU2pqqiTpyJEj2rZtm60RliSr1ap7773X9vOMGTPUs2dPBQcHq3///tdVV2RkpCIiIuzGfHv2lK76ak/cgKAg6ZNPpAEDpP37HV0NwGeyvF2xpAwGubtfasqAm1ilamxdr/E3mcLCQrm4uNiNFRcX21332GOPaerUqde894kTJ1SlShVlZGTo7NmzqlmzZpnr8vPzK7ns4Aa2KMNv2L9f2rXL0VUA/8NnEkB5I7E1zClm0M/PTydOnJDFYrGNHTp0yPbngIAAHThwwO6aEydO2JrfwsJCTZ06Va%2B88ooCAwM1e/bsP6RuAAAAszt69KiGDBmili1bqm3btoqLi7PruS4bPHiwQkJC7F7BwcGaOHGiJGnevHlq1qyZ3fGrv17cKKdobNu2baszZ85o2bJlKiws1ObNm7V3717b8UceeUQ7d%2B7UypUrVVRUpJSUFD366KO2pQkLFiyQn5%2BfevbsqcmTJysxMVE//fSTo34dAABwMzLhFzRYrVZFRUWpTp062rZtm5YuXar169crPj6%2BxLmLFi3Snj17bK/vv/9et956q3r06CFJysvL0yOPPGJ3zo4dOwzVdzWnaGzr16%2BvuLg4LVq0SK1bt9bq1as1YMAAFf13rVGTJk305ptvauHChQoPD9eIESM0ePBgde/eXQcOHNCSJUs0bdo0SZK/v7%2BGDh2qKVOm2K4HAACocCZsbPfs2aPU1FS9/PLL8vT0VOPGjfXMM88oISHhd69dsGCBQkJCbM805eXlydPT01A9v8fFarVaK/QdblZXrfnFDQoLk3bulMLDWc8Ic%2BAzWb4KCx1dgfPg4bHy46hdETp1qpDbZq5YccPbki5btkwffvihNm/ebBtLSkrSo48%2Bqh9//FG1atUq9bqjR4%2BqV69eWr16te3h/%2Beee04FBQU6deqUMjIydPvtt2vixIkKDQ018NvZq1QPjwEAADitCnp4rNRtSaOiFB0d/bvX5uTklEhZL/%2Bck5Nzzcb2vffeU69evex2tPL19VXVqlU1c%2BZMeXt7a8GCBRoyZIg2bNggb2/v6/21SkVjCwAA4MRK3ZbU17fC3u/UqVNavXq1Vq5caTc%2BY8YMu5/Hjh2rNWvWaPPmzerXr1%2B5vDeNLQAAgBlUUGJb6rakZeTj46Pc3Fy7sZycHEm6Zsq6ZcsWNW7cWE2aNPnNe7u5ual%2B/follkkY4RQPjwEAAFR6Jnx4LCQkRMePH7c1s9KlNbZNmza95p7/X3/9te3bXi%2BzWq16/fXXlZKSYhsrKipSenq6/P39DdV4JRpbAAAAlKpZs2YKDQ1VTEyM8vLylJqaqoULF2rgwIGSpG7dupXYsislJUVNmza1G3NxcdHRo0c1Y8YMZWRkqKCgQLNmzZKHh4fuv//%2BcquXxhYAAMAMTJjYStLcuXOVn5%2BvDh066Omnn9Zjjz2mAQMGSJLS0tJ09uxZu/OzsrLk5eVV4j4xMTEKCAhQ79691blzZ/3888%2BKj49XjRo1DNd4GWtsAQAAcE233nqrFi5cWOqx1NTUEmO7rrEVoqenp/7617%2BWa21Xo7EFAAAwgwp6eOxmQmMLAABgBjS2hjGDAAAAcAoktgAAAGZAYmsYMwgAAACnQGILAABgBiS2htHYAgAAmAGNrWHMIAAAAJwCiS0AAIAZkNgaxgwCAADAKZDYAgAAmAGJrWE0tgAAAGZAY2sYMwgAAACnQGILAABgBiS2hjGDAAAAcAoktgAAAGZAYmsYjS0AAIAZ0NgaxgwCAADAKZDYAgAAmAGJrWE0tgAAAGZAY2sYMwgAAACnQGILAABgBiS2hjGDAAAAcAoktgAAAGZAYmsYjS0AAIAZ0NgaxgwCAADAKZDYAgAAmAGJrWHMIAAAAJwCiS0AAIAZkNgaRmMLAABgBjS2hjGDAAAAcAoktgAAAGZAYmsYMwgAAACnQGILAABgBiS2htHYAgAAmAGNrWHMIAAAAJwCiS0AAIAZkNgaxgwCAADAKZDYAgAAmAGJrWE0tgAAAGZAY2sYMwgAAACnQGILAABgBiS2hjGDAAAAuKajR49qyJAhatmypdq2bau4uDhZLJYS5yUmJiooKEghISF2r5MnT0qSLly4oKlTp6p169YKCwvTyJEjderUqXKtlcYWAADADFxdK%2BZlgNVqVVRUlOrUqaNt27Zp6dKlWr9%2BveLj40ucm5%2Bfr3bt2mnPnj12r7p160qS4uLitHPnTiUmJurzzz9XYWGhJk2aZKi%2Bq7EUAQAAwAwqaClCZmamsrKy7MZ8fX3l5%2Bf3u9fu2bNHqampio%2BPl6enpzw9PfXMM89o8eLFGjx4sN25p0%2BflqenZ6n3uXjxolauXKnXX39d/v7%2BkqTx48ere/fuysjIUL169W7wt7NHYwsAAODEEhISNH/%2BfLuxqKgoRUdH/%2B61%2B/btU4MGDeTl5WUbCw4O1qFDh3TmzBnVqlXLNp6Xl6fDhw%2Brb9%2B%2BOnz4sAICAjR69Gh16tRJR44c0ZkzZ3TnnXfazm/cuLGqV6%2Bu5ORkGlsAAACnUkGJbWRkpCIiIuzGfH19y3RtTk5OiRT28s85OTl2ja2Xl5e8vb01duxYBQQEaPny5RoxYoRWrVql3Nxcu2svu%2BWWW8p1nS2NLQAAgBPz8/Mr07IDo65OgAcNGqS1a9dq9erV6tix4zWvc3FxKbcaaGwBAADMwITbffn4%2BNjS1stycnIkSd7e3r97fcOGDZWVlSUfHx9JUm5urmrUqCHp0oNpubm5tmPlwXwzCAAAcDMy4a4IISEhOn78uK2ZlaSkpCQ1bdpUNWvWtDv3/fff17///W%2B7sbS0NPn7%2B8vf319eXl5KTk62HUtNTVVhYaGaN29uqMYr0dgCAACgVM2aNVNoaKhiYmKUl5en1NRULVy4UAMHDpQkdevWTTt27JB0Kcl99dVXdejQIRUWFmrx4sU6cuSI%2BvbtKzc3N/Xr109z5sxRenq6srOzFRsbq27dutm2AysPLEUAAAAwAxMuRZCkuXPnaurUqerQoYNq1qypAQMGaMCAAZIuJbJnz56VJL3wwguyWCx6/PHHde7cOQUGBio%2BPt6240F0dLQKCgrUt29fFRcXq3Pnzpo%2BfXq51upitVqt5XpHXFKOC6FvamFh0s6dUni4tGuXo6sB%2BEyWt8JCR1fgPNzdpaIiR1fhHNzdHfO%2BsbEVc9%2BJEyvmviZEYgsAAGAGJk1sKxMaWwAAADOgsTWMGQQAAIBTILEFAAAwAxJbw5hBAAAAOAUSWwAAADMgsTWMxhYAAMAMaGwNYwYBAADgFEhsAQAAzIDE1jAaWwAAADOgsTWMGQQAAIBTILEFAAAwAxJbw5hBAAAAOAUSWwAAADMgsTWMxhYAAMAMaGwNYwYBAADgFEhsAQAAzIDE1jBmEAAAAE6BxBYAAMAMSGwNo7EFAAAwAxpbw5hBAAAAOAUSWwAAADMgsTWMGQQAAIBTILEFAAAwAxJbw2hsAQAAzIDG1jBmEAAAAE6BxBYAAMAMSGwNYwYBAADgFEhsAQAAzIDE1jAaWwAAADOgsTWMGQQAAIBTILEFAAAwAxJbw5hBAAAAOAUSWwAAADMgsTWMxhYAAMAMaGwNYwYBAADgFEhsAQAAzIDE1jBmEAAAAE6BxBYAAMAMSGwNo7EFAAAwAxpbw5hBAAAAOAUSWwAAADMgsTWMGQQAAMA1HT16VEOGDFHLli3Vtm1bxcXFyWKxlHruJ598oq5duyosLEw9e/bU5s2bbcfmzZunZs2aKSQkxPa6%2B%2B67y7VWElsAAAAzMGFia7VaFRUVpaZNm2rbtm3Kzs7W0KFD5ePjo8GDB9udu3HjRr311lv64IMPFBISojVr1mj06NFat26dAgIClJeXp0ceeUQzZsyosHrNN4MAAAA3I1fXCnllZmYqOTnZ7pWZmVmmkvbs2aPU1FS9/PLL8vT0VOPGjfXMM88oISGhxLnnz5/Xiy%2B%2BqLCwMFWpUkV9%2BvRRrVq1tHv3bklSXl6ePD09y3XKrkZiCwAA4MQSEhI0f/58u7GoqChFR0f/7rX79u1TgwYN5OXlZRsLDg7WoUOHdObMGdWqVcs2/pe//MXu2ry8PJ05c0b169e3/fzrr7%2BqR48eysjI0O23366JEycqNDTUyK9nh8YWAADADCpoKUJkZKQiIiLsxnx9fct0bU5OTomU9fLPOTk5do3tlaxWq15%2B%2BWU1b95c4eHhtvesWrWqZs6cKW9vby1YsEBDhgzRhg0b5O3tfb2/VqlobAEAAJyYn5%2Bf/Pz8/rD3Kyoq0oQJE5SWlqb4%2BHi5/rdhv3pt7dixY7VmzRpt3rxZ/fr1K5f3prEFAAAwAxM%2BPObj46Pc3Fy7sZycHEkqNWU9f/68hg8frsLCQi1dulS33HLLNe/t5uam%2BvXrKysrq9zqNd8MAgAA3Iwq6OExI0JCQnT8%2BHFbMytJSUlJatq0qWrWrGl3rtVq1ZgxY%2BTh4aFFixbZNbVWq1Wvv/66UlJSbGNFRUVKT0%2BXv7%2B/oRqvRGMLAACAUjVr1kyhoaGKiYlRXl6eUlNTtXDhQg0cOFCS1K1bN%2B3YsUOStGbNGqWmpmr27Nny8PCwu4%2BLi4uOHj2qGTNmKCMjQwUFBZo1a5Y8PDx0//33l1u9LEUAAAAwAxMuRZCkuXPnaurUqerQoYNq1qypAQMGaMCAAZKktLQ0nT17VpKUmJioEydOqHXr1nbX9%2BrVSzExMYqJiVFsbKx69%2B6t4uJihYSEKD4%2BXjVq1Ci3Wl2sVqu13O6G/3FxcXQFziEsTNq5UwoPl3btcnQ1AJ/J8lZY6OgKnIe7u1RU5OgqnIO7u2Pe95tvKua%2BbdtWzH1NiMQWAADADEya2FYmNLYAAABmQGNrGDMIAAAAp0BiCwAAYAYktobR2AIAAJgBja1hzCAAAACcAoktAACAGZDYGsYMAgAAwCmQ2AIAAJgBia1hNLYAAABmQGNrGDMIAAAAp0BiCwAAYAYktoYxgwAAAHAKJLYAAABmQGJrGI0tAACAGdDYGsYMAgAAwCmQ2AIAAJgBia1hzCAAAACcAoktAACAGZDYGkZjCwAAYAY0toYxgwAAAHAKJLYAAABmQGJrGDMIAAAAp0BiCwAAYAYktobR2AIAAJgBja1hzCAAAACcAoktAACAGZDYGsYMAgAAwCmQ2AIAAJgBia1hNLYAAABmQGNrGDMIAAAAp0BiCwAAYAYktoYxgwAAAHAKJLYAAABmQGJrGI0tAACAGdDYGsYMAgAAwCmQ2AIAAJgBia1hzCAAAACcAoktAACAGZDYGkZjCwAAYAY0toYxgwAAAHAKJLYAAABmQGJr2HXNYEREhDp16qSzZ8/ajX/33XeKiIgo18Iuu3DhgubPn69u3bqpRYsWuueeezRs2DDt2LGjQt4PAAAA/3P06FENGTJELVu2VNu2bRUXFyeLxVLquUuWLFHnzp0VGhqqRx99VMnJybZjFy5c0NSpU9W6dWuFhYVp5MiROnXqVLnWet1/Nbhw4YLeeeedci3iWi5evKhhw4Zp69ateuONN7Rr1y6tX79eLVq00NNPP63t27f/IXUAAABUOFfXinkZYLVaFRUVpTp16mjbtm1aunSp1q9fr/j4%2BBLnbtq0SXPmzFFsbKy%2B%2B%2B47derUSc8%2B%2B6wtENhSmWEAACAASURBVI2Li9POnTuVmJiozz//XIWFhZo0aZKh%2Bq523UsRoqOjNWvWLD388MP605/%2BZHfs6NGjuu%2B%2B%2B7Ru3To1adJEkjRr1izt3r1bH3/8sbZv367o6Gi9/vrriomJUV5enp588kl17dpVEyZM0NGjR9WxY0e99dZbcnNz08qVK7Vnzx5t2rRJdevWlSTVqVNHUVFRqlq1qnJyciRdarZnzJihLVu26Pz587rzzjs1ffp0NW3aVJL0j3/8QwsXLlRmZqa8vb315JNPatCgQZKkEydO6JVXXtHOnTvl4eGhjh07auLEiapVq1aZ5yQzM1NZWVl2Y75/%2BpP8vLyud3pxtaAg%2B/8FHI3PJICKUkFLEUrtU3x95efn97vX7tmzR6mpqYqPj5enp6c8PT31zDPPaPHixRo8eLDduStWrNAjjzyie%2B65R5I0YsQIJSQkaMuWLerevbtWrlyp119/Xf7%2B/pKk8ePHq3v37srIyFC9evXK5Xe97sa2adOm6tevn2JiYvTRRx9d35tVqaJz587pu%2B%2B%2B04YNG/Svf/1LEyZM0MGDB7VkyRLl5OToL3/5i7788kt17txZGzduVPfu3W1N7ZWGDRtm%2B/MHH3ygHTt2aO3atapdu7amTJmil19%2BWcuWLdOvv/6qKVOmaNGiRWrbtq0OHDigp59%2BWvfcc4%2BCgoI0fPhwNW3aVJs3b9b58%2BcVHR2tqVOn6q233irz75WQkKD58%2BfbjUWNGqXoUaOua37wGz75xNEVAPb4TMKM3N0dXUHlV1Tk6ArKXal9SlSUoqOjf/faffv2qUGDBvK6IqwLDg7WoUOHdObMGbsgcN%2B%2BfXrwwQdtP7u4uCgoKEjJycm68847debMGd155522440bN1b16tWVnJzsuMZWupTaduvWTZs2bVKXLl2u61qLxaKBAweqWrVq6ty5s6xWq%2B677z55e3vL29tbDRs21OHDhyVJ6enpatWq1e/e89lnn9WgQYNsk9u1a1eN%2Bm9TefbsWVksFlWvXl2SdMcdd%2Birr76Sq6urUlJSlJycrPfee0%2B1a9dW7dq1NWzYMI0aNUqFhYXy8PAo0%2B8UGRlZYo2xb8%2Be0pIlZZ4XXENQ0KUGYsAAaf9%2BR1cD8Jksb9995%2BgKnIe7u1M2ZTcTq1wq5L6l9im%2BvmW6NicnR56ennZjl3/Oycmxa2xzcnLsGuDL5546dcr2r%2BxX3%2BuWW24p13W2N9TY1qpVS2PHjlVsbKw6dOhw3dffeuutkqRq1apJkl2XXq1aNRUWFkqS3N3dVVxc/Lv3O3HihF577TXt3r1b%2Bfn5slqtKvrv/7mbNGmi/v37a8CAAQoLC9Of//xn9enTR3Xr1tXRo0dVo0YNuyg%2BICBARUVFysjIsEXlv8fPz69knJ%2BWVqZrUUb790u7djm6CuB/%2BEwCKGfXeB7LsFL7lArg4lJ6Y36t8bIevx43vJijd%2B/eqlevnt5///3fPM9qtZZ806vWkFz982X%2B/v76%2Beeff7eWiRMn6ty5c1q9erX27NmjBQsW2B2fPn261q5dqz//%2Bc/67LPP9NBDD%2Bno0aOSSk7m5XrLc5IBAAAqIx8fH%2BXm5tqNXU5fvb297cbr1KlT6rne3t7y8fGRJLvjVqtVubm5tmPlwdAq5WnTpik%2BPl5HjhyR9L8EtuiKfwo5ceLEDd//gQce0IYNG5Senl7i2OzZsxUTEyNJ2rt3r/r162dbi7v/in8etFgsys3NVePGjTVs2DAlJibK09NTmzdvlr%2B/vwoKCpSZmWk7/8iRI6patWq5rfUAAAAoC4ulYl5GhISE6Pjx47ZmVpKSkpLUtGlT1axZs8S5e/futf1cXFysffv2KTQ0VP7%2B/vLy8rLb/is1NVWFhYVq3ry5sSKvYKixDQoKUu/evTV37lxJlzr3W265xbYN14EDB/Ttt9/e8P3/8pe/qF27dnruuee0Y8cOW5M6f/58/e1vf1P37t0lXVrasHv3bhUXF2vbtm368ssvJUkZGRn67LPP1KdPH/3yyy%2BSpMOHDys3N1cNGzZUUFCQQkND9dZbb%2BnMmTP69ddf9d5776lHjx5yZwE%2BAAC4yTVr1kyhoaG23axSU1O1cOFCDRw4UJLUrVs323cLPPbYY0pMTNS3336rgoICvfXWW6pWrZoiIiLk5uamfv36ac6cOUpPT1d2drZiY2PVrVu3UjcJuFGGv3ls9OjRWr9%2BvTw8POTq6qpp06YpLi5OCQkJatasmfr373/D%2B826uLjonXfe0eLFizV9%2BnQdO3ZM1atX1913363/%2B7//U9B/t9uZMmWKpkyZouXLl6tTp056%2B%2B23NWTIEPXq1Uvr169XWlqahgwZopycHPn4%2BGjQoEG6//77JUlvvfWWpk2bpvbt28vT01NdunTR2LFjjU4LAADAdamoNbZGzZ07V1OnTlWHDh1Us2ZNDRgwQAMGDJAkpaWl2fap7dixo8aPH6%2BJEycqOztbzZs318KFC1W1alVJlzYfKCgoUN%2B%2BfVVcXKzOnTtr%2BvTp5Vqri7W0RbAwjjW65SMsTNq5UwoP50EdmAOfyfL134eFUQ7YFaH8OOhfbc%2Bdq5j7/ndjqJsCX0oMAAAAp2B4KQIAAACMM%2BtShMqExBYAAABOgcQWAADABEhsjaOxBQAAMAEaW%2BNYigAAAACnQGILAABgAiS2xpHYAgAAwCmQ2AIAAJgAia1xNLYAAAAmQGNrHEsRAAAA4BRIbAEAAEyAxNY4ElsAAAA4BRJbAAAAEyCxNY7GFgAAwARobI1jKQIAAACcAoktAACACZDYGkdiCwAAAKdAYgsAAGACJLbG0dgCAACYAI2tcSxFAAAAgFMgsQUAADABElvjSGwBAADgFEhsAQAATIDE1jgaWwAAABOgsTWOpQgAAABwCiS2AAAAJkBiaxyJLQAAAJwCiS0AAIAJkNgaR2MLAABgAjS2xrEUAQAAAE6BxBYAAMAESGyNI7EFAACAUyCxBQAAMAESW%2BNobAEAAEyAxtY4liIAAADAKZDYAgAAmACJrXE0tgAAACZAY2scSxEAAADgFEhsAQAATIDE1jgSWwAAADgFElsAAAATILE1jsQWAADABCyWinlVpJycHI0ZM0bh4eFq1aqVJk%2BerPPnz1/z/H/961/q2bOnwsLC1LVrVyUkJNiOJSYmKigoSCEhIXavkydPlrkeElsAAADckEmTJqmgoEAbN25UcXGxhg8frri4OE2ZMqXEuUlJSRo/frzmzJmjTp066dtvv9Wzzz6rJk2a6O6771Z%2Bfr7atWunRYsW3XA9NLYAAAAmUFHpamZmprKysuzGfH195efnZ%2Bi%2B2dnZ2rp1q1auXKm6detKkkaPHq2RI0fqpZdekoeHh935ubm5eu655xQRESFJat%2B%2BvQIDA7Vjxw7dfffdOn36tDw9PQ3VRGMLAADgxBISEjR//ny7saioKEVHRxu67759%2B1SlShUFBgbaxoKDg3X27FmlpaXZjUtSx44d1bFjR9vPFy9eVGZmpurXry9JysvL0%2BHDh9W3b18dPnxYAQEBGj16tDp16lTmmmhsAQAATKCiEtvIyEhbSnqZr6%2Bv4fvm5OSoVq1acnX93yNblxPXU6dO/e71s2bNUtWqVdWlSxdJkpeXl7y9vTV27FgFBARo%2BfLlGjFihFatWqUmTZqUqSYaWwAAABOoqMbWz8/vhpcdfPrpp5o0aVKpx2bOnHnN61xcXK55zGq1atasWVq3bp2WLFmiGjVqSFKJBHnQoEFau3atVq9erTFjxpSpXhpbAAAAlKp3797q3bt3qce2b9%2Bu/Px8FRcXy83NTdKlFFeSfHx8Sr3GYrFo4sSJSk5OVkJCgm0ZwrU0bNiwxPrg38J2XwAAACZQ2bb7Cg4OlsViUWpqqm0sKSlJtWvXVqNGjUq95rXXXtPBgwe1dOnSEk3t%2B%2B%2B/r3//%2B992Y2lpafL39y9zTTS2AAAAuG516tRR9%2B7dFRsbq5MnT%2BrYsWOaPXu2IiMj5e7uLkl66qmntG7dOknSjz/%2BqFWrVmnBggWl7n6Qk5OjV199VYcOHVJhYaEWL16sI0eOqG/fvmWuiaUIAAAAJlAZv3nslVde0fTp09WlSxe5u7urZ8%2BeGjVqlO14enq6Tp8%2BLenSFzCcOXNG9913n909WrVqpUWLFumFF16QxWLR448/rnPnzikwMFDx8fGqV69emetxsVqt1vL51WDnNxZN4zqEhUk7d0rh4dKuXY6uBuAzWd4KCx1dgfNwd5eKihxdhXP4b9r4R1u/vmLu2717xdzXjFiKAAAAAKfAUgQAAAATqIxLEcyGxBYAAABOgcQWAADABEhsjaOxBQAAMAEaW%2BNYigAAAACnQGILAABgAiS2xpHYAgAAwCmQ2AIAAJgAia1xNLYAAAAmQGNrHEsRAAAA4BRIbAEAAEyAxNY4ElsAAAA4BRJbAAAAEyCxNY7GFgAAwARobI1jKQIAAACcAoktAACACZDYGkdiCwAAAKdAYgsAAGACJLbG0dgCAACYAI2tcSxFAAAAgFMgsQUAADABElvjaGwrSmGhoytwLt995%2BgKAHt8JsuHh4ejK3AOYWHSzp1SmzbSrl2Orqbys1odXQFuEI0tAACACZDYGkdjCwAAYAI0tsbx8BgAAACcAoktAACACZDYGkdiCwAAAKdAYgsAAGACJLbG0dgCAACYAI2tcSxFAAAAgFMgsQUAADABElvjaGwBAABMgMbWOJYiAAAAwCmQ2AIAAJgAia1xJLYAAABwCiS2AAAAJkBiaxyNLQAAgAnQ2BrHUgQAAAA4BRJbAAAAEyCxNY7EFgAAAE6BxBYAAMAESGyNI7EFAAAwAYulYl4VKScnR2PGjFF4eLhatWqlyZMn6/z586We%2B%2B233yowMFAhISF2r6SkJEmS1WrV7Nmz1b59e7Vo0UKDBg1Senr6ddVDYwsAAIAbMmnSJGVnZ2vjxo1au3at9u/fr7i4uFLPzc/PV6NGjbRnzx67V2hoqCRpyZIlSkxM1Icffqjt27crICBAI0aMkNVqLXM9LEUAAAAwgYpKVzMzM5WVlWU35uvrKz8/P0P3zc7O1tatW7Vy5UrVrVtXkjR69GiNHDlSL730kjw8POzOP336tDw9Pa95vxUrVmjo0KFq1qyZJOmll15SmzZttGvXLoWHh5epJhJbAAAAJ5aQkKC%2BffvavRISEgzfd9%2B%2BfapSpYoCAwNtY8HBwTp79qzS0tJKnJ%2BXl6fTp0/r8ccf11133aUePXro008/lSRduHBBv/zyi5o3b247v2bNmgoICFBycnKZayKxBQAAMIGKSmwjIyMVERFhN%2Bbr62v4vjk5OapVq5ZcXf%2BXk15OZE%2BdOlXi/Bo1asjPz0%2BjRo1S8%2BbNtWXLFo0bN05%2Bfn5q0qSJrFZriUTX09Oz1HtdC40tAACACVRUY%2Bvn53fDyw4%2B/fRTTZo0qdRjM2fOvOZ1Li4uJcYee%2BwxPfbYY7afe/TooY0bNyoxMVHjx4%2B/rntdC40tAAAAStW7d2/17t271GPbt29Xfn6%2BiouL5ebmJulSiitJPj4%2BZbp/w4YNtXfvXtWpU0eurq7Kzc21O56Tk1Pme0mssQUAADCFyrbdV3BwsCwWi1JTU21jSUlJql27tho1alTi/OXLl2vdunV2YwcPHpS/v788PDx0xx132K2nzc3N1ZEjRxQSElLmmmhsAQAAcN3q1Kmj7t27KzY2VidPntSxY8c0e/ZsRUZGyt3dXZL01FNP2ZrZCxcuKCYmRnv37lVRUZE%2B%2B%2BwzffXVV%2Brfv78kqX///vrwww%2B1f/9%2B5efnKyYmRs2bN7dtB1YWLEUAAAAwgcr4zWOvvPKKpk%2Bfri5dusjd3V09e/bUqFGjbMfT09N1%2BvRpSdLjjz%2Bu/Px8jRw5Ujk5OfrTn/6kBQsW6M4775R0aQ1uVlaWBg8erIKCArVp00bz5s27rnpcrNez6y3KrqjI0RU4D3d35hPmwmey/Fy1zyVuUFiYtHOnFB4u7drl6GoqPwe1Ri%2B9VDH3ff31irmvGbEUAQAAAE6BpQgAAAAmUBmXIpgNiS0AAACcAoktAACACZDYGkdjCwAAYAI0tsaxFAEAAABOgcQWAADABEhsjSOxBQAAgFMgsQUAADABElvjaGwBAABMgMbWOJYiAAAAwCmQ2AIAAJgAia1xJLYAAABwCiS2AAAAJkBiaxyNLQAAgAnQ2BrHUgQAAAA4BRJbAAAAEyCxNY7EFgAAAE6BxBYAAMAESGyNo7EFAAAwARpb41iKAAAAAKdAYgsAAGACJLbG0dgCAACYAI2tcSxFAAAAgFMgsQUAADABElvjSGwBAADgFEhsAQAATIDE1jgaWwAAABOgsTWOpQgAAABwCiS2AAAAJkBiaxyJLQAAAJwCiS0AAIAJkNgaR2MLAABgAjS2xrEUAQAAAE6BxBYAAMAESGyNI7EFAACAUyCxBQAAMAESW%2BNobAEAAEyAxtY4liIAAADAKZDYAgAAmACJrXEktgAAAHAKJLYAAAAmQGJrHI0tAACACVTGxjYnJ0evvvqqtm3bJjc3N3Xt2lVTpkxRtWrVSpz78ssva9WqVXZjFotF4eHh%2Bvjjj5WYmKjJkyfL3d3d7pytW7eqbt26ZaqHxhYAAAA3ZNKkSSooKNDGjRtVXFys4cOHKy4uTlOmTClxbkxMjGJiYmw/WywW9e/fXz179pQk5efnq127dlq0aNEN10NjCwAAYAIVldhmZmYqKyvLbszX11d%2Bfn6G7pudna2tW7dq5cqVtkR19OjRGjlypF566SV5eHj85vUJCQmyWq169NFHJUmnT5%2BWp6enoZpobAEAAJxYQkKC5s%2BfbzcWFRWl6OhoQ/fdt2%2BfqlSposDAQNtYcHCwzp49q7S0NLvxq505c0bz5s3TO%2B%2B8IxcXF0lSXl6eDh8%2BrL59%2B%2Brw4cMKCAjQ6NGj1alTpzLXRGMLAABgAhWV2EZGRioiIsJuzNfX1/B9c3JyVKtWLbm6/m%2BTrcuJ66lTp37z2o8//lihoaEKCwuzjXl5ecnb21tjx45VQECAli9frhEjRmjVqlVq0qRJmWpyusb2l19%2B0YMPPqgtW7aoYcOG1339mDFjVLVqVf31r3%2BtgOoAAABKV1GNrZ%2Bf3w0vO/j00081adKkUo/NnDnzmtddTmFLU1RUpKVLlyo2NtZu/OoEedCgQVq7dq1Wr16tMWPGlKle0ze2ERERysjIsPvbwGWxsbF66KGHHFAVAACA8%2Bvdu7d69%2B5d6rHt27crPz9fxcXFcnNzk3QpxZUkHx%2Bfa95zx44dKioqUvv27X/3/Rs2bFhiffBvMX1jK13aHqJ///6OLgMAAKDCVLbtvoKDg2WxWJSamqrg4GBJUlJSkmrXrq1GjRpd87qvvvpKbdq0KRFavv/%2B%2BwoJCVG7du1sY2lpaerWrVuZa6r03zyWnZ2toUOHKiwsTA899JCSkpLsju/Zs0f9%2B/dXeHi42rdvr1dffVUXL160HV%2B%2BfLkiIiJ011136dVXX5Wlsn2qAAAAHKBOnTrq3r27YmNjdfLkSR07dkyzZ89WZGSkbS/ap556SuvWrbO7LiUlRU2bNi1xv8t74h46dEiFhYVavHixjhw5or59%2B5a5pkqR2P6W1157TRcuXNAXX3yhc%2BfO6cUXX7Q7Pnr0aD3wwAP6%2BOOPdeLECUVGRiowMFCRkZE6ePCgpk6dqvnz56tjx45atWqVZs6ceV1/M5CusY1GnTryK4eF2QDg1K54cAQGBAXZ/y9u3K5dDnvrypitvfLKK5o%2Bfbq6dOkid3d39ezZU6NGjbIdT09P1%2BnTp%2B2uycrKkpeXV4l7vfDCC7JYLHr88cd17tw5BQYGKj4%2BXvXq1StzPS5Wq9V6479OxbvWGtsaNWrou%2B%2B%2BU4sWLTRr1ix16dJFkrRu3TqNGTPG9vBYQUGB3N3dbXupRUVFydvbW6%2B%2B%2BqoWLlxoW5R8WY8ePRQSEnJdD4%2B9/fbbFbKNBi79pSEhIUGRkZGG99sDygOfSZgRn0vn0KZNxdz3u%2B8q5r5mVCkS22utsc3JydH58%2BfVoEED29jVazq2bdum999/X0eOHNHFixd18eJF9erVS5KUkZFhd60kBQQEXHd9FbWNBi79rW7%2B/PmKiIjgP9YwBT6TMCM%2Bl8AllaKxvZbCwkJJ9ltKXLl%2B9tChQxo3bpwmTpyofv36ycPDwy4eLywsLLEdRXFx8XXXYWQbDQAAAKlyLkUwm0r98Ji3t7eqVKmi48eP28YOHTpk%2B3NKSoo8PDw0cOBAeXh4yGKx6MCBA7bjfn5%2B%2BvXXX%2B3uefjw4QqvGwAAAOWvUje27u7uuueee/Txxx8rPz9fx48f17Jly2zH69evr/Pnz2vfvn06d%2B6cZsyYoerVqyszM1OSdO%2B992rfvn3aunWrCgsL9cknn9iOAQAA/JEslop53UwqRWMbExOjkJCQEq%2BJEydq5syZslqt6tixo4YOHapBgwZJurQkoWXLlho4cKCefPJJdevWTYGBgRo3bpySkpI0YcIEhYWFadKkSZo%2Bfbruuecepaam6sEHH1RRUZFjf2HY%2BPr6KioqijXLMA0%2BkzAjPpfOgcbWONPvigAAAHAzqKjd7xy4g9kfrlI/PAYAAOAsbrZ0tSJUiqUIAAAAwO8hsQUAADABElvjaGwBAABMgMbWOJYiAAAAwCmQ2AIAAJgAia1xNLYAAAAmQGNrHEsRAAAA4BRIbAEAAEyAxNY4ElsAAAA4BRJbVCrFxcVyc3NzdBkAAJQ7ElvjSGxhOiNGjFBWVlaJ8aSkJPXp08cBFQGXXLx4UceOHdPx48dVXFzs6HIAOBmLpWJeNxMSW5hO9erV1aNHD7344ouKjIzUuXPn9OabbyoxMVHDhg1zdHm4CRUUFGjq1KnatGmTioqKJElVq1bVQw89pClTpqhq1aoOrhA3i4kTJ5bpvIsXLyouLq6CqwHMh8YWpjNr1iz9%2BOOPmjlzpj799FNlZGQoMDBQa9asUcOGDR1dHm5CsbGxOnbsmObMmaOAgABZrVYdPnxY77//vmbNmqXJkyc7ukTcJC5cuGD7s8Vi0bZt29SgQQMFBASouLhYhw4dUlZWlnr06OHAKnGjbrZ0tSK4WK1Wq6OLAK528eJFffTRR3rnnXdUpUoVvfrqq/yHGg7TqVMn/fOf/5SPj4/d%2BK%2B//qr%2B/fvriy%2B%2BcExhuKnNmDFDQUFBevTRR%2B3GP/nkE/3nP//RtGnTHFQZbtRtt1XMfQ8frpj7mhFrbGE627ZtU48ePfTNN99ozZo1euedd/T222/rqaee0sGDBx1dHm5CFy5cULVq1UqM33LLLTp9%2BrQDKgKk1atXq3fv3iXGH3nkEa1Zs8YBFcEo1tgaR2ML0xk/fryGDRum%2BPh4BQQEqE2bNlq9erVatmyphx9%2B2NHl4SYUHh6umJgYZWdn28ZOnjypmJgYhYeHO7Ay3Mxq166tr776qsT4N998o1q1ajmgIhhFY2scSxFgOtnZ2SX%2Byfey//znP7r99tv/4Ipws8vIyNDzzz%2BvlJQU1ahRQy4uLiooKFBoaKjefPNN1n7DIZYvX65p06YpMDBQDRo0kIuLi44fP66UlBRNmjRJTzzxhKNLxHVq0KBi7nvsWMXc14xobGFKSUlJWrVqlU6cOKEFCxbIYrFo06ZNeuCBBxxdGm5i%2B/fv19GjRyVJ/v7%2BCgwMdHBFuNkdPHhQW7ZsUUZGhgoLC%2BXn56d7771XLVu2dHRpuAH161fMfX/9tWLua0bsigDTWbNmjaZOnaru3bvryy%2B/lCRlZWVp5syZOnHihJ566ikHV4ib0YEDBxQUFKSgoCAdP35cmzZt0vHjx9W5c2dHl4abWOPGjdW4ceMS4xMnTlRsbKwDKgIci8QWptOzZ09NmzZNd999t0JDQ5WUlCRJSklJUVRUlLZs2eLgCnGzWbJkiT744AN9/fXXys7OVs%2BePW0Pjj399NN65plnHF0ibkIWi0WJiYnau3evCgsLbeOZmZnas2ePvv/%2BewdWhxtRr17F3Dcjo2Lua0Y8PAbTSU9Ptz2Q4%2BLiYhu//fbbdfLkSUeVhZvY3/72Ny1evFiStHLlStWrV0/r1q3T0qVLlZCQ4ODqcLOaOXOm5s6dq1OnTmn16tU6d%2B6cdu/erdOnT2vevHmOLg83gIfHjKOxhen8v//3//TDDz%2BUGF%2B7dq0aVNTKeuA3nDp1yvbQ4hdffKGHHnpIrq6uaty4sU6dOuXg6nCz2rBhg5YvX663335bbm5umjNnjtauXavQ0FAdOXLE0eUBDsEaW5jOqFGj9Pzzz%2Bu%2B%2B%2B7TxYsXFRMTo9TUVO3atUtvvvmmo8vDTcjPz0/ff/%2B9qlWrpl27dikmJkbSpQd3vLy8HFwdblbnzp1T/f8%2BbVSlShUVFRXJ3d1d48aN04MPPqh%2B/fo5uEJcr5stXa0IJLYwnQceeEArVqyQj4%2BPOnXqpBMnTqh58%2BZavXo1uyLAIYYNG6ZBgwYpMjJS/fr1U6NGjXT69GkNHTqUvZXhMIGBgXrrrbdUVFSkgIAArVixQpKUlpam/Px8B1cHOMb/b%2B/eY6qu/ziOv06CAvk7CukRwtuKMZoCoWLpqgGDpTRLnWALWXOWrBUhZWyQpTWltcwwKYnVtLVqGqaVWXHJTVcmjZriobQL4QaILWB5QQ4c%2BP1B8vN4OB2QH3yPnOdjY%2BN8Pl%2B/5/XH8fA%2Bn/O5sHgMAPrhzJkzunjxYu8K9O7ubn3%2B%2Bee6%2B%2B67NW7cOIPTwRtVV1crOztbn332mQ4ePKicnByNHj1a7e3tSktLU15entERMUCBgUNz35aWobmvJ6KwhUdIT093WCjmSmdnpz744INhSAS419TUpCVLlujbb781Ogqguro6/fTTTwoJCVF0dLTRcXANhuozsjed/M0cW3iEKzcTb2tr0yeffKKYmBhNmzZNdrtdf/zxh06cOKG0tDQDU8JbmM%2BBzAAACdVJREFU/fbbb1q3bp2sVqs6Ojoc%2Bm677TaDUsEbNTQ0uOzz9fVVVFSUJOn06dOaOnXqcMUCPAYjtvA4Tz/9tBYtWqS4uDiH9vLycu3fv18FBQXGBIPXSk9PV2hoqJKSkpSVlaU33nhDP//8sw4fPqzCwkIWkGHYRERE9OvbLaln729cX/7zn6G5rzdNuaawhceZNWuWjh49Kl9fX4f2jo4OzZ07Vz/%2B%2BKNByeCtZs%2Bere%2B%2B%2B06%2Bvr6Kjo7WsWPHJEmHDh3Svn37tGXLFoMTwlv8/vvvvb8fP35cJSUlSktL0/Tp09XZ2ana2lrt2rVLK1euVGJiooFJcS0obAePqQjwOBaLRbt373aadrBnzx5NmDDBoFTwZmPGjNH58%2BcVGBiosWPHqrm5WUFBQbrrrruUnZ1tdDx4kSuPz83KytLbb7%2BtSVccVxUZGak5c%2BZo9erVFLbXIbb7GjwKW3icnJwcPfXUU3r99dcVEhIik8mkM2fO6Ny5c9q8ebPR8eCFEhISlJaWppKSEkVFRWnt2rVKTU3VsWPHmIYAw9TX1%2BvGG290ajebzaqvrzcgEQaLwnbwmIoAj3Tu3DkdPnxYTU1NstlsslgsmjdvnoKDg42OBi9ks9lUXFysxx57TA0NDcrNzZXValVwcLCee%2B45zZ8/3%2BiI8EKPPPKIbDabHn744d5TGRsbG/Xee%2B%2Bpq6tLO3fuNDYgBszff2ju29Y2NPf1RBS2AABch5qbm7Vp0yZVVFTo0qVLknpOILvjjjuUn5/vMEUB14cxY4bmvu3tQ3NfT0RhC4/z/fffKz8/X7W1tWrv438jK30xnI4cOaKWlhYlJyc7tOfn5ys5OdlhqzpgOBw4cMDp9dja2iqbzaagoCD5%2BPjo2Wef1aZNmwxKiGtFYTt4HKkLj7Nu3TqFhYVp8%2BbNKi4udvoBhktVVZUyMjLU2Njo1Ofv769Vq1bpl19%2BMSAZvFlubq7D43nz5mn8%2BPGyWCzy8elZOrN//34jomGQurqG5meoVVdXKykpSampqW6vfffddxUfH6%2BoqCilpKTIarX29rW3t%2Bv555/X3LlzFRMToyeffFLNzc0DysLiMXics2fP6uWXX9YNN/C5C8YqLi5WRkaGVq1a5dSXnZ0tX19fFRYWauvWrQakg7e6%2BovWCxcuuL0G14frcfHYp59%2Bqi1btigsLEx///33v15bVlamgoICbd%2B%2BXdHR0XrnnXeUkZGh0tJSBQQE6JVXXtEPP/ygPXv2aOzYscrNzVVeXp6Kior6nYfKAR4nNjZWJ0%2BeNDoGoOrqaq1YscJlf3p6uqqqqoYxESCnAxr6OrChv4c4AIPV3t6uXbt29esY548%2B%2BkjLli3TnXfeKX9/fz3%2B%2BOMymUyqqKhQZ2en9u7dqzVr1mjKlCkKDAxUTk6ODh48qKampn7nYcQWHicpKUnPPPOM4uLiFBoa6jRyu3z5coOSwdu0tbVp3L8c3m42m3Xx4sVhTARgJBuqEduzZ8/qzz//dGibOHGiLBbLoO%2BdkpLS72tramoc5oebTCZFRETIarVqxowZOn/%2BvGbMmNHbf8stt8jf319Wq7XfiyEpbOFxtm3bJh8fHx04cMCpz2QyUdhi2AQHB/e%2B4falqqqqd5slABisoZpBsm3bLhUWFjq0PfHEE8rMzByaJ3ShpaXFae/vcePGqbm5WS0tLb2Pr2Q2mwc0z5bCFh6hrq5O06ZNkyTt3LmTr9HgEe677z5t2LBBb731loKCghz66uvr9cILL2jx4sUGpYO3stvt2r17d%2B882qsfX24DLlu%2BfLkSEhIc2iZOnNivf7tv3z7l5eX12Zefnz%2Bg90BXf9vd/c0fSE1AYQuPsGjRIh0/flySlJyc3OeLuLu7WyaTie2%2BMGxWr16tyspKJSYmKjk5WdOnT5fdbtevv/6qr776SvPnz9fKlSuNjgkvY7FYHBbTXP34chtwmcViuebXxOLFi/9vH%2BADAwPV2trq0NbS0qLw8HDddNNNknq2rgsICJDU83e/tbW1t68/KGzhEb788sve3ysqKgxMAvzP6NGjtWPHDn388ccqKytTVVWVfHx8NHXqVG3cuFH333%2B/0RHhhb7%2B%2BmujIwDXJDIyUidOnOgtlO12u2pqarRs2TJNmTJF48ePl9Vq1c033yxJOnnypGw2m2bOnNnv56CwhUe4/CKWxJxFeJRRo0YpJSVlQAskAAA9FixYoI0bN2rOnDl68MEHlZWVpcTEREVGRurNN9%2BUn5%2BfEhISNGrUKKWmpqqgoEAREREKCAjQSy%2B9pAULFmjChAn9fj4KWwBwo7u7W4cOHVJdXV2fp%2BE9%2BuijBqQCAOPde%2B%2B9amhokN1uV1dXlyIjIyX1fBMbGhqq2tra3t1j7rnnHuXk5Cg3N1d//fWXZs6cqeLiYo3558i1zMxMXbhwQUuXLpXdbld8fLw2bNgwoDwcqQsAbqxZs0bl5eWaPHmy/Pz8HPpMJpP27t1rUDIAwJUobAHAjZiYGJWUlOjWW281OgoA4F9w8hgAuDF58uQBzfECABiDEVsAcKOmpkZFRUVKSkqSxWJxOg0vNjbWoGQAgCuxeAwA3CgtLVVZWZlKS0ud%2BthbGQA8ByO2AODGrFmztH79esXHxzstHpN69rsFABiPEVsAcMNsNmvhwoUUsADg4RixBQA3ysvLVVlZqRUrVmjSpElORz5T8AKAZ6CwBQA3Zs%2Berba2Nrl6u2SOLQB4BqYiAIAb27Ztk48Pb5cA4OkYsQUAAMCIwBAEALiRnp7uNK/2Mrvdrvfff3%2BYEwEA%2BkJhCwBu3H777Q6Pu7u71djYqKNHj%2Bqhhx4yKBUA4GpMRQCAa3Tq1Clt375dr732mtFRAACSbnB/CQCgL%2BHh4aqpqTE6BgDgH0xFAAA3amtrndo6Ojr0zTffyGazGZAIANAXClsAcGPhwoUymUxO%2B9iazWatX7/eoFQAgKsxxxYA3Kivr3dq8/PzU1BQkMvdEgAAw48RWwBwISEhwW3hajKZVF5ePkyJAAD/hhFbAHChsrLSZd/p06e1detWdXZ26siRI8OYCgDgCoUtAAyAzWZTUVGRduzYoaVLlyorK0tms9noWAAAMRUBAPqtvLxc%2Bfn5CgkJ0YcffqiIiAijIwEArkBhCwBu1NXV6cUXX9SpU6e0du1aPfDAA0ZHAgD0gQMaAMCFS5cu6dVXX9WSJUsUHh6uL774gqIWADwYc2wBwIW4uDjZbDZlZmYqLCzM5XWxsbHDmAoA4AqFLQC4kJCQ4PYak8mkioqKYUgDAHCHwhYAAAAjAnNsAQAAMCJQ2AIAAGBEoLAFAADAiEBhCwAAgBGBwhYAAAAjAoUtAAAARgQKWwAAAIwI/wV9KY8RYN6s7gAAAABJRU5ErkJggg%3D%3D\" class=\"center-img\">\n",
       "    <img src=\"data:image/png;base64,iVBORw0KGgoAAAANSUhEUgAAArYAAAHeCAYAAABuTEhGAAAABHNCSVQICAgIfAhkiAAAAAlwSFlzAAAPYQAAD2EBqD%2BnaQAAADh0RVh0U29mdHdhcmUAbWF0cGxvdGxpYiB2ZXJzaW9uMy4xLjEsIGh0dHA6Ly9tYXRwbG90bGliLm9yZy8QZhcZAAAgAElEQVR4nOzde1xUdf7H8Tco4AVDQTB/CplaKAoKm5paulKarJlmJaltmrfcxFuZqSWaYtRieUndsvKyZRu2rHlJN69ZueWuaYI3KkW8JSAOiiiCML8/XGedgEIP0xzG1/PxmMfK95zz5TPfnd3Hx7ffc8bNarVaBQAAAFRy7s4uAAAAAKgINLYAAABwCTS2AAAAcAk0tgAAAHAJNLYAAABwCTS2AAAAcAk0tgAAAHAJNLYAAABwCTS2AAAAcAk0tgAAAHAJNLYAAAAo05dffqkOHTpo3Lhxv3ie1WrV7Nmz1bFjR7Vq1UqDBg3SsWPHbMctFovGjRuniIgItWnTRi%2B%2B%2BKLy8/MrtFYaWwAAAJTqnXfeUVxcnG677bZfPXfZsmVKSkrSu%2B%2B%2Bq%2B3btysoKEgjR46U1WqVJE2ePFnZ2dnasGGD1q5dq4MHDyohIaFC66WxBQAAQKm8vLz097//vVyN7ccff6yhQ4eqefPm8vb21gsvvKDDhw9r9%2B7dys7O1tatWzVp0iTVrVtX9erV09ixY/WPf/xDBQUFFVZv1QqbCQAAAKaTmZmprKwsuzF/f38FBAT86rVPPvlkuX7HpUuXdOjQIbVs2dI2VrNmTQUFBWnfvn3Ky8tT1apVFRwcbDseEhKiCxcuKC0tzW7cCBpbAAAAM3Bzc8i0ifPmaf78%2BXZjMTExGjVqVIX9jpycHFmtVvn4%2BNiN%2B/j46MyZM/Lx8ZG3t7fc3d3tjknSmTNnKqwOGlsAAAAXFh0drcjISLsxf3//3%2Bz3u/1Kw/5rx68HjS0AAIAZuDvm1qeAgIBybTswok6dOnJ3d1dOTo7duMVikZ%2Bfn/z8/JSbm6uioiJVqVLFdkyS/Pz8KqwObh4DAAAwA3d3x7x%2BA56enrrzzju1b98%2B21hOTo6OHj2q0NBQhYSEqLi4WKmpqbbjycnJqlWrlho1alRhddDYAgAA4LplZGSoe/futmfV9uvXT%2B%2B%2B%2B64OHjyo3NxcxcXFqWXLlgoLC1OdOnUUFRWl%2BPh4nT59WidOnNDs2bMVHR0tDw%2BPCquJrQgAAABm8Bulq9cjNDRUknT58mVJ0qZNmyRJKSkpKiwsVFpamu1xXY8//riysrI0ePBg5eXlqV27dpo3b55trpdfflnTpk1T165d5eHhoZ49e2rMmDEVWq%2Bb9epTcwEAAOA8Xl6OmffSJcfMa0IktgAAAGZgwsS2sqGxBQAAMAMaW8NYQQAAALgEElsAAAAzILE1jBUEAACASyCxBQAAMAMSW8NobAEAAMyAxtYwVhAAAAAugcQWAADADEhsDWMFAQAA4BJIbAEAAMyAxNYwGlsAAAAzoLE1jBUEAACASyCxBQAAMAMSW8NobAE41HfffaekpCR99913OnHihPLz8%2BXl5SV/f3%2B1aNFCPXr00H333Sc3NzdnlwoAqOTcrFar1dlFAHA9VqtVcXFx%2BuCDDyRJPj4%2Buu2221S7dm2dPXtWhw4d0vnz5yVJ9913n%2BbOnSsPDw9nlgwAztWggWPmPXHCMfOaEIktAIf48MMP9cEHH6hatWqKjY1Vz5495enpaTuen5%2BvDz/8UAkJCdq8ebPmz5%2BvcePGObFiAHAytiIYxgoCcIiPPvpIkvTUU0/pkUcesWtqJalatWoaPHiwBg0aJEn64IMPlJ%2Bf/1uXCQBwITS2ABziyJEjkqQ777zzF88bNmyYli5dqo0bN6patWqSpNGjRys4OFhvvvmmzp8/r1dffVX33XefQkND1a5dO8XExCg1NbXMOb/%2B%2BmuNHDlSHTt2VMuWLdWuXTsNGjRIq1atUnFxcanX5OTkaM6cOerdu7fCw8PVokULdejQQSNGjNCOHTtKvSYyMlLBwcH64osvtH79ej3wwAMKCQnRpk2bJEmvvfaa7X3k5eUpLi5OnTp1UmhoqO6//37NnTtXRUVFkqTdu3dryJAhatOmjVq1aqW%2Bffvqyy%2B/rLBa7777bgUHB2vnzp3KyspSbGysOnfurJYtW6p9%2B/YaN26c0tPTy1xTAL8Bd3fHvG4iN9e7BfCbqVGjhiRp165dv3ier6%2Bv2rdvL19fX9uYl5eXJOnChQsaNGiQ/va3v6levXpq06aNCgsLtXHjRj3%2B%2BONKSUkpMd%2BcOXM0aNAgbdq0Sd7e3mrbtq18fX319ddfa8KECRo7dqytmbwqMzNTffr00V/%2B8hcdOnRIwcHBuvvuu1WtWjVt3bpVAwcOVFJSUpnv4fDhw3r%2B%2Befl5eWle%2B65Rz4%2BPnbvo6ioSIMHD9aaNWt0xx136LbbbtOxY8e0cOFCJSQk6JtvvtGTTz6prKwstWzZUjVq1NCePXs0YsQIHThwoEJqvVpLdna2HnvsMW3YsEFNmzZVq1atlJubq3Xr1mnAgAE6e/bsL/73BQBmxh5bAA5xzz33aO3atfrggw9UvXp1DRkyRLVr1y7XtVWqVJEk/eMf/1CDBg20ZcsW%2Bfn5SbqSVg4ZMkR79%2B7V9OnT9fHHH9uu27Rpk/7yl7%2BoVq1aev3119W5c2fbsf/85z8aO3asPvvsM73//vu2LRCSNG/ePJ04cUINGzbURx99JH9/f0lScXGxEhIStHjxYsXHx6t79%2B6qWbNmiXo/%2BOADPf300xo1alSp7yMpKUl33HGHtmzZYrv%2B7bff1htvvKHExERt2LBBM2bMUO/evSVJ58%2Bf18CBA7V371599NFHevnllw3XerWW%2BPh4tW/fXtOmTbM1uz/%2B%2BKMefvhhZWVl6ZNPPtHAgQPL9d8TgAp2k6WrjsAKAnCI5557Tv7%2B/rJarVq0aJE6duyoAQMGaO7cufrXv/6lixcv/uocOTk5mjlzpq2plaTatWtr0qRJkqTk5GSlpaXZji1YsECSNHbsWLumVpLatGmjCRMmSJKWLVumax8I06hRIz388MMaM2aMrVGUJHd3d40ePVru7u7Kzc3Vd999V2qdBQUF%2BtOf/lTm%2Bzh9%2BrRiY2PtGs0//vGPcnd314ULFxQYGGhraiXJ29tbjzzyiCSVSGyN1lpYWKipU6famlpJatq0qW29kpOTy3wfAByMrQiGkdgCcIj/%2B7//U1JSkv785z/rn//8py5fvqydO3dq586dkiQPDw%2B1a9dODz30kHr06KGqVUv%2B31GjRo3UvHnzEuMRERGqWbOm8vLytGfPHt1%2B%2B%2B3KyMjQ/v37JUldunQptab7779fbm5uOnnypNLT09WoUSNJ0tChQ8t8H9WrV5efn5%2BysrKUlZVV6jkdOnQotf6rmjdvbvtdV9WoUUO%2Bvr46ffq0unXrVuKahg0bSrrS3F/LaK1RUVG2vczXCgoKkiRZLJYy5wcAs6OxBeAw9erV0%2Buvv67Jkydr8%2BbN2r59u/7zn/8oOztbhYWF%2Buqrr/TVV1/pnXfe0cKFC23N1VVl3Xjm7u6uBg0a6Pvvv9eJ/z6f8dqbyeLi4sr8woeqVauqsLBQaWlpds1mfn6%2BtmzZoj179uj06dPKz8%2B3pbq5ubmSVOaNZ4GBgb%2B4Dg3KeDbl1dS0fv36ZR67fPlyiWOOqLV69eqSriS6AJzkJktXHYHGFoDD%2Bfn5qW/fvurbt6%2BkKzdb7dixQ6tWrdLu3bv1ww8/aPjw4VqzZo3dlzTccsstZc7p7e0tScrLy5Mku5uetmzZ8qs1XW0ApSv//D5q1CidOnXq%2Bt7Yf5W277Yij1/LaK21atW6oesAoDKgsQXwm2vcuLEaN26sfv36admyZXrllVeUlpamdevWqVevXrbzrt7wVJqrCeXVZNb9v0lH9erVy9xfWpoLFy7omWeeUVZWloKCgvTcc8%2BpTZs28vHxsW0viIyMtCXDzlSZagVwA0hsDaOxBeBUAwcO1AcffKCjR4/qxx9/tDt29St3S3M1qb2aQF594sLFixeVl5dX7hT0iy%2B%2BUFZWltzd3bVo0SLdfvvtZf4uZ6tMtQK4ATS2hrGCACrcpk2bFBsbq/nz55fr/KtN6c%2B/nezQoUOlnl9UVKTjx49L%2Bt9NT9fux72eO/uPHj0q6crNWqU1ikeOHClxA5ezVKZaAcAZaGwBVLg9e/YoMTFR77zzjo4dO/aL52ZkZNgeaRUWFmZ3LDU11fYNZtf69ttvdeHCBUlXnpAgSf7%2B/mrRooUk2T3b9lppaWnq1auX3nrrLdvY1X28ly5dKvWaN9980/bnn3%2Bxw2%2BtMtUK4AbwuC/Dbq53C%2BA38dRTT6lu3brKz8/XgAEDtHXr1lIbre%2B%2B%2B05Dhw5VYWGhQkNDdc8999gdr169uiZOnKgzZ87YxiwWi1599VVJUseOHXXrrbfajo0YMUKS9Omnn2rZsmV2c6Wnp2v06NE6ePCg3XxXHyeWkZFh%2BypcSbavwN27d69%2B97vfSbpy05szVaZaAdwAGlvD2GMLoML5%2Bvrqvffe0%2BjRo5Wenq4RI0aodu3aCgoKkq%2Bvry5duqS0tDTbnf0RERGaP39%2BiZvFevTooZSUFEVGRio0NFQeHh767rvvlJeXp1tuuUUvvvii3fndunXT8OHDtWjRIr3yyitatmyZGjduLIvFogMHDqioqEht27bV6NGjbde0atVK9957r7788kuNGjVKrVq1koeHh/bv3y93d3e99957Wr9%2Bvb799lv99a9/1YEDBxQTE6O77rrL8Qv5M5WpVgBwBhpbAA7RrFkzrV27Vp9%2B%2Bqm2bNmigwcP6ocfflBBQYGqVaumevXq6aGHHlJUVJS6dOlS6nNnPT09tXz5ci1YsEAbN25URkaGatasqU6dOmns2LElvvRAuvKNZ%2B3bt9fy5cv13Xff6ZtvvpGPj49at26tXr166eGHHy6xl3f27NmaNWuWNm/erL1798rPz09du3bViBEj1KhRI9WvX1/79u3Tnj17lJaW9otPa3C0ylQrgOt0k6WrjuBmvfZ7JQHABCZOnKiVK1dqwIABio2NdXY5APDbaNXKMfPu2eOYeU2IxBYAAMAMSGwNM/UKnjhxQqGhoUpLS7vua2fNmqU//vGPDqgKAADAAbh5zDBTJ7YNGjRQSkqKs8sAAABAJWDqxhYAAOCmcZOlq45g6hU8fvy4goODdejQId177736%2BOOPNWzYMLVu3VrdunXTjh07bOdu2bJFDzzwgMLDw/Xss88qPz/fbq7PPvtMUVFRatWqlR588EGtXr1aknT69Gm1bdtWn3/%2Bue3c8ePH609/%2BtNv8h4BlPTqq68qNTWVG8cAANel0iS2Hh4eWrJkif785z%2BrWbNmmjhxol555RWtWrVK586d07hx4zR%2B/HhFR0dr%2B/btev75520PMz906JAmTpyohQsXqk2bNtq1a5eGDx%2Bu2267Ta1atdLzzz%2Bv%2BPh4dejQQSkpKfr888/16aeflru2zMxMZWVl2Y35%2B/srICCgQtcAAAC4MBJbwypNYytJv//979WyZUtJUvfu3bVhwwZJ0ldffSUvLy8NGDBA7u7u6tKli8LDw22p7YoVKxQZGan27dtLktq2bauoqCh98sknatWqlR577DGtWbNGixcv1oYNG/Tss8%2BqXr165a4rMTFR8%2BfPtxuLeeYZjRozpiLeNgAA%2BK0UFkoeHs753TS2hlWqxrZBgwa2P3t6etq%2BL/3UqVO69dZb5X7NB%2BK2225TamqqJOno0aPatm2brRGWJKvVavf1nTNmzFDPnj0VEhKifv36XVdd0dHRioyMtBvz79lT%2BtlXeuIGNGsmffih1L%2B/dPCgs6sB%2BExWtGu2lMEgD48rTRlwE6tUja17GX%2BTKSgoKPGtRdd%2BL727u7sef/zxX9yvd%2BrUKVWtWlUZGRm6cOGCatasWe66AgICSm47uIFHlOEXHDwo7d7t7CqA/%2BEzCaCikdga5hIrGBAQoFOnTqm4uNg2duTIEdufg4KC9P3339tdc%2BrUKVvzW1BQoNjYWL388ssKDg7W7Nmzf5O6AQAAzO748eMaMmSIWrdurfbt2yshIcGu57pq8ODBCg0NtXuFhIRo0qRJkqR58%2BapefPmdsfvuuuuCq3VJRrb9u3b6/z58/roo49UUFCgTZs2ae/evbbjjz76qHbt2qWVK1eqsLBQBw4c0GOPPWbbmrBgwQIFBASoZ8%2BeevHFF5WUlKTvvvvOWW8HAADcjEz4BQ1Wq1UxMTGqU6eOtm3bpuXLl2v9%2BvVaunRpiXMXL16slJQU2%2Bvf//63br31VvXo0UOSdO7cOT366KN25%2BzcudNQfT/nEo1t/fr1lZCQoMWLF6tt27ZavXq1%2Bvfvr8L/7jVq0qSJXn/9dS1atEgREREaOXKkBg8erKioKH3//fdatmyZpk6dKkkKDAzU0KFDNWXKFNv1AAAADmfCxjYlJUWpqal66aWX5OPjo8aNG2v48OFKTEz81WsXLFig0NBQ2z1N586dk4%2BPj6F6fo2b1Wq1OvQ33Kx%2BtucXNyg8XNq1S4qIYD8jzIHPZMUqKHB2Ba6Dm8cqjrOeitC5s0Omzfz44xt%2BLOlHH32kd999V5s2bbKNJScn67HHHtO3334rb2/vUq87fvy4evXqpdWrV9tu/h8xYoTy8vJ05swZZWRk6I477tCkSZMUFhZm4N3Zq1Q3jwEAALgsB908VupjSWNiNGrUqF%2B91mKxlEhZr/5ssVjKbGzfeust9erVy%2B6JVv7%2B/vLy8tLMmTPl6%2BurBQsWaMiQIfrss8/k6%2Bt7vW%2BrVDS2AAAALqzUx5L6%2Bzvs9505c0arV6/WypUr7cZnzJhh9/P48eO1Zs0abdq0SX379q2Q301jCwAAYAYOSmxLfSxpOfn5%2BSknJ8duzGKxSFKZKevmzZvVuHFjNWnS5BfnrlKliurXr19im4QRLnHzGAAAQKVnwpvHQkNDdfLkSVszK13ZY9u0adMyn/n/1Vdf2b7t9Sqr1arXXntNBw4csI0VFhbq2LFjCgwMNFTjtWhsAQAAUKrmzZsrLCxMcXFxOnfunFJTU7Vo0SINGDBAktS9e/cSj%2Bw6cOCAmjZtajfm5uam48ePa8aMGcrIyFBeXp5mzZolT09P3X///RVWL40tAACAGZgwsZWkuXPnKjc3V/fee6%2BeeuopPf744%2Brfv78kKS0tTRcuXLA7PysrS7Vr1y4xT1xcnIKCgtS7d2916dJFP/74o5YuXaoaNWoYrvEq9tgCAACgTLfeeqsWLVpU6rHU1NQSY7vLeBSij4%2BPXn311Qqt7edobAEAAMzAQTeP3UxobAEAAMyAxtYwVhAAAAAugcQWAADADEhsDWMFAQAA4BJIbAEAAMyAxNYwGlsAAAAzoLE1jBUEAACASyCxBQAAMAMSW8NYQQAAALgEElsAAAAzILE1jMYWAADADGhsDWMFAQAA4BJIbAEAAMyAxNYwVhAAAAAugcQWAADADEhsDaOxBQAAMAMaW8NYQQAAALgEElsAAAAzILE1jMYWAADADGhsDWMFAQAA4BJIbAEAAMyAxNYwVhAAAAAugcQWAADADEhsDaOxBQAAMAMaW8NYQQAAALgEElsAAAAzILE1jBUEAACASyCxBQAAMAMSW8NobAEAAMyAxtYwVhAAAAAugcQWAADADEhsDWMFAQAA4BJIbAEAAMyAxNYwGlsAAAAzoLE1jBUEAACASyCxBQAAMAMSW8NYQQAAALgEElsAAAAzILE1jMYWAADADGhsDWMFAQAA4BJIbAEAAMyAxNYwVhAAAABlOn78uIYMGaLWrVurffv2SkhIUHFxcYnzkpKS1KxZM4WGhtq9Tp8%2BLUm6dOmSYmNj1bZtW4WHh2v06NE6c%2BZMhdZKYwsAAGAG7u6OeRlgtVoVExOjOnXqaNu2bVq%2BfLnWr1%2BvpUuXljg3NzdXHTp0UEpKit2rbt26kqSEhATt2rVLSUlJ2rJliwoKCjR58mRD9f0cWxEAAADMwEFbETIzM5WVlWU35u/vr4CAgF%2B9NiUlRampqVq6dKl8fHzk4%2BOj4cOHa8mSJRo8eLDduWfPnpWPj0%2Bp81y%2BfFkrV67Ua6%2B9psDAQEnShAkTFBUVpYyMDNWrV%2B8G3509GlsAAAAXlpiYqPnz59uNxcTEaNSoUb967f79%2B9WgQQPVrl3bNhYSEqIjR47o/Pnz8vb2to2fO3dO6enp6tOnj9LT0xUUFKSxY8eqc%2BfOOnr0qM6fP68WLVrYzm/cuLGqV6%2Buffv20dgCAAC4FAclttHR0YqMjLQb8/f3L9e1FoulRAp79WeLxWLX2NauXVu%2Bvr4aP368goKCtGLFCo0cOVKrVq1STk6O3bVX3XLLLRW6z5bGFgAAwIUFBASUa9uBUT9PgAcNGqS1a9dq9erV6tSpU5nXubm5VVgNNLYAAABmYMLHffn5%2BdnS1qssFoskydfX91evb9iwobKysuTn5ydJysnJUY0aNSRduTEtJyfHdqwimG8FAQAAbkYmfCpCaGioTp48aWtmJSk5OVlNmzZVzZo17c59%2B%2B239a9//ctuLC0tTYGBgQoMDFTt2rW1b98%2B27HU1FQVFBSoZcuWhmq8Fo0tAAAAStW8eXOFhYUpLi5O586dU2pqqhYtWqQBAwZIkrp3766dO3dKupLkTp8%2BXUeOHFFBQYGWLFmio0ePqk%2BfPqpSpYr69u2rOXPm6NixY8rOzlZ8fLy6d%2B9uexxYRWArAgAAgBmYcCuCJM2dO1exsbG69957VbNmTfXv31/9%2B/eXdCWRvXDhgiTp2WefVXFxsZ544gldvHhRwcHBWrp0qe2JB6NGjVJeXp769OmjoqIidenSRdOmTavQWt2sVqu1QmfEFRW4EfqmFh4u7dolRURIu3c7uxqAz2RFKyhwdgWuw8NDKix0dhWuwcPDOb83Pt4x806a5Jh5TYjEFgAAwAxMmthWJjS2AAAAZkBjaxgrCAAAAJdAYgsAAGAGJLaGsYIAAABwCSS2AAAAZkBiaxiNLQAAgBnQ2BrGCgIAAMAlkNgCAACYAYmtYTS2AAAAZkBjaxgrCAAAAJdAYgsAAGAGJLaGsYIAAABwCSS2AAAAZkBiaxiNLQAAgBnQ2BrGCgIAAMAlkNgCAACYAYmtYawgAAAAXAKJLQAAgBmQ2BpGYwsAAGAGNLaGsYIAAABwCSS2AAAAZkBiaxgrCAAAAJdAYgsAAGAGJLaG0dgCAACYAY2tYawgAAAAXAKJLQAAgBmQ2BrGCgIAAMAlkNgCAACYAYmtYTS2AAAAZkBjaxgrCAAAAJdAYgsAAGAGJLaGsYIAAABwCSS2AAAAZkBiaxiNLQAAgBnQ2BrGCgIAAMAlkNgCAACYAYmtYawgAAAAXAKJLQAAgBmQ2BpGYwsAAGAGNLaGsYIAAABwCSS2AAAAZkBiaxgrCAAAgDIdP35cQ4YMUevWrdW%2BfXslJCSouLi41HM//PBDdevWTeHh4erZs6c2bdpkOzZv3jw1b95coaGhttddd91VobWS2AIAAJiBCRNbq9WqmJgYNW3aVNu2bVN2draGDh0qPz8/DR482O7cDRs26I033tA777yj0NBQrVmzRmPHjtW6desUFBSkc%2BfO6dFHH9WMGTMcVq/5VhAAAOBm5O7ukFdmZqb27dtn98rMzCxXSSkpKUpNTdVLL70kHx8fNW7cWMOHD1diYmKJc/Pz8/Xcc88pPDxcVatW1cMPPyxvb2/t2bNHknTu3Dn5%2BPhU6JL9HIktAACAC0tMTNT8%2BfPtxmJiYjRq1KhfvXb//v1q0KCBateubRsLCQnRkSNHdP78eXl7e9vGH3roIbtrz507p/Pnz6t%2B/fq2n3/66Sf16NFDGRkZuuOOOzRp0iSFhYUZeXt2aGwBAADMwEFbEaKjoxUZGWk35u/vX65rLRZLiZT16s8Wi8Wusb2W1WrVSy%2B9pJYtWyoiIsL2O728vDRz5kz5%2BvpqwYIFGjJkiD777DP5%2Bvpe79sqFY0tAACACwsICFBAQMBv9vsKCws1ceJEpaWlaenSpXL/b8P%2B872148eP15o1a7Rp0yb17du3Qn43jS0AAIAZmPDmMT8/P%2BXk5NiNWSwWSSo1Zc3Pz9czzzyjgoICLV%2B%2BXLfcckuZc1epUkX169dXVlZWhdVrvhUEAAC4GTno5jEjQkNDdfLkSVszK0nJyclq2rSpatasaXeu1WrVuHHj5OnpqcWLF9s1tVarVa%2B99poOHDhgGyssLNSxY8cUGBhoqMZr0dgCAACgVM2bN1dYWJji4uJ07tw5paamatGiRRowYIAkqXv37tq5c6ckac2aNUpNTdXs2bPl6elpN4%2Bbm5uOHz%2BuGTNmKCMjQ3l5eZo1a5Y8PT11//33V1i9bEUAAAAwAxNuRZCkuXPnKjY2Vvfee69q1qyp/v37q3///pKktLQ0XbhwQZKUlJSkU6dOqW3btnbX9%2BrVS3FxcYqLi1N8fLx69%2B6toqIihYaGaunSpapRo0aF1epmtVqtFTYb/sfNzdkVuIbwcGnXLikiQtq929nVAHwmK1pBgbMrcB0eHlJhobOrcA0eHs75vV9/7Zh527d3zLwmRGILAABgBiZNbCsTGlsAAAAzoLE1jBUEAACASyCxBQAAMAMSW8NobAEAAMyAxtYwVhAAAAAugcQWAADADEhsDWMFAQAA4BJIbAEAAMyAxNYwGlsAAAAzoLE1jBUEAACASyCxBQAAMAMSW8NYQQAAALgEElsAAAAzILE1jMYWAADADGhsDWMFAQAA4BJIbAEAAMyAxNYwVhAAAAAugcQWAADADEhsDaOxBQAAMAMaW8NYQQAAALgEElsAAAAzILE1jBUEAACASyCxBQAAMAMSW8NobAEAAMyAxtYwVhAAAAAugcQWAADADEhsDWMFAQAA4BJIbAEAAMyAxNYwGlsAAAAzoLE1jBUEAACASyCxBQAAMAMSW8NYQQAAALgEElsAAAAzILE1jMYWAADADGhsDWMFAQAA4BJIbAEAAMyAxNYwVhAAAAAugcQWAADADEhsDaOxBQAAMAMaW8NYQQAAALgEElsAAAAzILE17LpWMDIyUp07d9aFCyvTNDcAACAASURBVBfsxnfs2KHIyMgKLeyqS5cuaf78%2BerevbtatWqlu%2B%2B%2BW8OGDdPOnTsd8vsAAADwP8ePH9eQIUPUunVrtW/fXgkJCSouLi713GXLlqlLly4KCwvTY489pn379tmOXbp0SbGxsWrbtq3Cw8M1evRonTlzpkJrve6/Gly6dEkLFy6s0CLKcvnyZQ0bNkxbt27Vn//8Z%2B3evVvr169Xq1at9NRTT2n79u2/SR0AAAAO5%2B7umJcBVqtVMTExqlOnjrZt26bly5dr/fr1Wrp0aYlzN27cqDlz5ig%2BPl47duxQ586d9fTTT9sC0YSEBO3atUtJSUnasmWLCgoKNHnyZEP1/dx1b0UYNWqUZs2apUceeUS333673bHjx4/rvvvu07p169SkSRNJ0qxZs7Rnzx69//772r59u0aNGqXXXntNcXFxOnfunJ588kl169ZNEydO1PHjx9WpUye98cYbqlKlilauXKmUlBRt3LhRdevWlSTVqVNHMTEx8vLyksVikXSl2Z4xY4Y2b96s/Px8tWjRQtOmTVPTpk0lSX//%2B9%2B1aNEiZWZmytfXV08%2B%2BaQGDRokSTp16pRefvll7dq1S56enurUqZMmTZokb2/vcq9JZmamsrKy7Mb8b79dAbVrX%2B/y4ueaNbP/T8DZ%2BEwCcBQHbUUotU/x91dAQMCvXpuSkqLU1FQtXbpUPj4%2B8vHx0fDhw7VkyRINHjzY7tyPP/5Yjz76qO6%2B%2B25J0siRI5WYmKjNmzcrKipKK1eu1GuvvabAwEBJ0oQJExQVFaWMjAzVq1evQt7rdTe2TZs2Vd%2B%2BfRUXF6f33nvv%2Bn5Z1aq6ePGiduzYoc8%2B%2B0z//Oc/NXHiRB0%2BfFjLli2TxWLRQw89pC%2B%2B%2BEJdunTRhg0bFBUVZWtqrzVs2DDbn9955x3t3LlTa9euVa1atTRlyhS99NJL%2Buijj/TTTz9pypQpWrx4sdq3b6/vv/9eTz31lO6%2B%2B241a9ZMzzzzjJo2bapNmzYpPz9fo0aNUmxsrN54441yv6/ExETNnz/fbixmzBiNGjPmutYHv%2BDDD51dAWCPzyTMyMPD2RVUfoWFzq6gwpXap8TEaNSoUb967f79%2B9WgQQPVviasCwkJ0ZEjR3T%2B/Hm7IHD//v36wx/%2BYPvZzc1NzZo10759%2B9SiRQudP39eLVq0sB1v3Lixqlevrn379jmvsZWupLbdu3fXxo0b1bVr1%2Bu6tri4WAMGDFC1atXUpUsXWa1W3XffffL19ZWvr68aNmyo9PR0SdKxY8fUpk2bX53z6aef1qBBg2yL261bN435b1N54cIFFRcXq3r16pKkO%2B%2B8U19%2B%2BaXc3d114MAB7du3T2%2B99ZZq1aqlWrVqadiwYRozZowKCgrk6elZrvcUHR1dYo%2Bxf8%2Be0rJl5V4XlKFZsysNRP/%2B0sGDzq4G4DNZ0XbscHYFrsPDwyWbspuJVW4OmbfUPsXfv1zXWiwW%2Bfj42I1d/dlisdg1thaLxa4BvnrumTNnbP/K/vO5brnllgrdZ3tDja23t7fGjx%2Bv%2BPh43Xvvvdd9/a233ipJqlatmiTZdenVqlVTQUGBJMnDw0NFRUW/Ot%2BpU6f0yiuvaM%2BePcrNzZXValXhf//H3aRJE/Xr10/9%2B/dXeHi4fv/73%2Bvhhx9W3bp1dfz4cdWoUcMuig8KClJhYaEyMjJsUfmvCQgIKBnnp6WV61qU08GD0u7dzq4C%2BB8%2BkwAqWBn3YxlWap/iAG5upTfmZY2X9/j1uOHNHL1791a9evX09ttv/%2BJ5Vqu15C/92R6Sn/98VWBgoH788cdfrWXSpEm6ePGiVq9erZSUFC1YsMDu%2BLRp07R27Vr9/ve/16effqoHH3xQx48fl1RyMa/WW5GLDAAAUBn5%2BfkpJyfHbuxq%2Burr62s3XqdOnVLP9fX1lZ%2BfnyTZHbdarcrJybEdqwiGdilPnTpVS5cu1dGjRyX9L4EtvOafQk6dOnXD8z/wwAP67LPPdOzYsRLHZs%2Berbi4OEnS3r171bdvX9te3IPX/PNgcXGxcnJy1LhxYw0bNkxJSUny8fHRpk2bFBgYqLy8PGVmZtrOP3r0qLy8vCpsrwcAAEB5FBc75mVEaGioTp48aWtmJSk5OVlNmzZVzZo1S5y7d%2B9e289FRUXav3%2B/wsLCFBgYqNq1a9s9/is1NVUFBQVq2bKlsSKvYaixbdasmXr37q25c%2BdKutK533LLLbbHcH3//ff65ptvbnj%2Bhx56SB06dNCIESO0c%2BdOW5M6f/58/fWvf1VUVJSkK1sb9uzZo6KiIm3btk1ffPGFJCkjI0OffvqpHn74YR06dEiSlJ6erpycHDVs2FDNmjVTWFiY3njjDZ0/f14//fST3nrrLfXo0UMebMAHAAA3uebNmyssLMz2NKvU1FQtWrRIAwYMkCR1797d9t0Cjz/%2BuJKSkvTNN98oLy9Pb7zxhqpVq6bIyEhVqVJFffv21Zw5c3Ts2DFlZ2crPj5e3bt3L/UhATfK8DePjR07VuvXr5enp6fc3d01depUJSQkKDExUc2bN1e/fv1u%2BHmzbm5uWrhwoZYsWaJp06bpxIkTql69uu666y797W9/U7P/Pm5nypQpmjJlilasWKHOnTvrzTff1JAhQ9SrVy%2BtX79eaWlpGjJkiCwWi/z8/DRo0CDdf//9kqQ33nhDU6dOVceOHeXj46OuXbtq/PjxRpcFAADgujhqj61Rc%2BfOVWxsrO69917VrFlT/fv3V//%2B/SVJaWlptufUdurUSRMmTNCkSZOUnZ2tli1batGiRfLy8pJ05eEDeXl56tOnj4qKitSlSxdNmzatQmt1s5a2CRbGsUe3YoSHS7t2SRER3KgDc%2BAzWbH%2Be7MwKgBPRag4TvpX24sXHTPvfx8MdVPgS4kBAADgEgxvRQAAAIBxZt2KUJmQ2AIAAMAlkNgCAACYAImtcTS2AAAAJkBjaxxbEQAAAOASSGwBAABMgMTWOBJbAAAAuAQSWwAAABMgsTWOxhYAAMAEaGyNYysCAAAAXAKJLQAAgAmQ2BpHYgsAAACXQGILAABgAiS2xtHYAgAAmACNrXFsRQAAAIBLILEFAAAwARJb40hsAQAA4BJIbAEAAEyAxNY4GlsAAAAToLE1jq0IAAAAcAkktgAAACZAYmsciS0AAABcAoktAACACZDYGkdjCwAAYAI0tsaxFQEAAAAugcQWAADABEhsjSOxBQAAgEsgsQUAADABElvjaGwBAABMgMbWOLYiAAAAwCWQ2AIAAJgAia1xJLYAAABwCSS2AAAAJkBiaxyNLQAAgAnQ2BrHVgQAAAC4BBJbAAAAEyCxNY7GFgAAwARobI1jKwIAAABcAoktAACACZDYGkdiCwAAAJdAYgsAAGACJLbGkdgCAACYQHGxY16OZLFYNG7cOEVERKhNmzZ68cUXlZ%2BfX%2Bb5//znP9WzZ0%2BFh4erW7duSkxMtB1LSkpSs2bNFBoaavc6ffp0ueshsQUAAMANmTx5svLy8rRhwwYVFRXpmWeeUUJCgqZMmVLi3OTkZE2YMEFz5sxR586d9c033%2Bjpp59WkyZNdNdddyk3N1cdOnTQ4sWLb7geGlsAAAATcFS6mpmZqaysLLsxf39/BQQEGJo3OztbW7du1cqVK1W3bl1J0tixYzV69Gi98MIL8vT0tDs/JydHI0aMUGRkpCSpY8eOCg4O1s6dO3XXXXfp7Nmz8vHxMVQTjS0AAIALS0xM1Pz58%2B3GYmJiNGrUKEPz7t%2B/X1WrVlVwcLBtLCQkRBcuXFBaWprduCR16tRJnTp1sv18%2BfJlZWZmqn79%2BpKkc%2BfOKT09XX369FF6erqCgoI0duxYde7cudw10dgCAACYgKMS2%2BjoaFtKepW/v7/heS0Wi7y9veXu/r9btq4mrmfOnPnV62fNmiUvLy917dpVklS7dm35%2Bvpq/PjxCgoK0ooVKzRy5EitWrVKTZo0KVdNNLYAAAAm4KjGNiAg4Ia3HXzyySeaPHlyqcdmzpxZ5nVubm5lHrNarZo1a5bWrVunZcuWqUaNGpJUIkEeNGiQ1q5dq9WrV2vcuHHlqpfGFgAAAKXq3bu3evfuXeqx7du3Kzc3V0VFRapSpYqkKymuJPn5%2BZV6TXFxsSZNmqR9%2B/YpMTHRtg2hLA0bNiyxP/iX8LgvAAAAE6hsj/sKCQlRcXGxUlNTbWPJycmqVauWGjVqVOo1r7zyig4fPqzly5eXaGrffvtt/etf/7IbS0tLU2BgYLlrorEFAADAdatTp46ioqIUHx%2Bv06dP68SJE5o9e7aio6Pl4eEhSRo4cKDWrVsnSfr222%2B1atUqLViwoNSnH1gsFk2fPl1HjhxRQUGBlixZoqNHj6pPnz7lromtCAAAACZQGb957OWXX9a0adPUtWtXeXh4qGfPnhozZozt%2BLFjx3T27FlJV76A4fz587rvvvvs5mjTpo0WL16sZ599VsXFxXriiSd08eJFBQcHa%2BnSpapXr16563GzWq3WinlrsPMLm6ZxHcLDpV27pIgIafduZ1cD8JmsaAUFzq7AdXh4SIWFzq7CNfw3bfytrV/vmHmjohwzrxmxFQEAAAAuga0IAAAAJlAZtyKYDYktAAAAXAKJLQAAgAmQ2BpHYwsAAGACNLbGsRUBAAAALoHEFgAAwARIbI0jsQUAAIBLILEFAAAwARJb42hsAQAATIDG1ji2IgAAAMAlkNgCAACYAImtcSS2AAAAcAkktgAAACZAYmscjS0AAIAJ0Ngax1YEAAAAuAQSWwAAABMgsTWOxBYAAAAugcQWAADABEhsjaOxBQAAMAEaW%2BPYigAAAACXQGILAABgAiS2xtHYOkpBgbMrcC07dji7AsAen8mK4enp7ApcQ3i4tGuX1K6dtHu3s6up/KxWZ1eAG0RjCwAAYAIktsbR2AIAAJgAja1x3DwGAAAAl0BiCwAAYAIktsaR2AIAAMAlkNgCAACYAImtcTS2AAAAJkBjaxxbEQAAAOASSGwBAABMgMTWOBpbAAAAE6CxNY6tCAAAAHAJJLYAAAAmQGJrHIktAAAAXAKJLQAAgAmQ2BpHYwsAAGACNLbGsRUBAAAALoHEFgAAwARIbI0jsQUAAIBLILEFAAAwARJb40hsAQAATKC42DEvR7JYLBo3bpwiIiLUpk0bvfjii8rPzy/13G%2B%2B%2BUbBwcEKDQ21eyUnJ0uSrFarZs%2BerY4dO6pVq1YaNGiQjh07dl310NgCAADghkyePFnZ2dnasGGD1q5dq4MHDyohIaHUc3Nzc9WoUSOlpKTYvcLCwiRJy5YtU1JSkt59911t375dQUFBGjlypKxWa7nrYSsCAACACTgqXc3MzFRWVpbdmL%2B/vwICAgzNm52dra1bt2rlypWqW7euJGns2LEaPXq0XnjhBXl6etqdf/bsWfn4%2BJQ538cff6yhQ4eqefPmkqQXXnhB7dq10%2B7duxUREVGumkhsAQAAXFhiYqL69Olj90pMTDQ87/79%2B1W1alUFBwfbxkJCQnThwgWlpaWVOP/cuXM6e/asnnjiCf3ud79Tjx499Mknn0iSLl26pEOHDqlly5a282vWrKmgoCDt27ev3DWR2AIAAJiAoxLb6OhoRUZG2o35%2B/sbntdiscjb21vu7v/LSa8msmfOnClxfo0aNRQQEKAxY8aoZcuW2rx5s55//nkFBASoSZMmslqtJRJdHx%2BfUucqC40tAACACTiqsQ0ICLjhbQeffPKJJk%2BeXOqxmTNnlnmdm5tbibHHH39cjz/%2BuO3nHj16aMOGDUpKStKECROua66y0NgCAACgVL1791bv3r1LPbZ9%2B3bl5uaqqKhIVapUkXQlxZUkPz%2B/cs3fsGFD7d27V3Xq1JG7u7tycnLsjlsslnLPJbHHFgAAwBQq2%2BO%2BQkJCVFxcrNTUVNtYcnKyatWqpUaNGpU4f8WKFVq3bp3d2OHDhxUYGChPT0/deeeddvtpc3JydPToUYWGhpa7JhpbAAAAXLc6deooKipK8fHxOn36tE6cOKHZs2crOjpaHh4ekqSBAwfamtlLly4pLi5Oe/fuVWFhoT799FN9%2BeWX6tevnySpX79%2Bevfdd3Xw4EHl5uYqLi5OLVu2tD0OrDzYigAAAGAClfGbx15%2B%2BWVNmzZNXbt2lYeHh3r27KkxY8bYjh87dkxnz56VJD3xxBPKzc3V6NGjZbFYdPvtt2vBggVq0aKFpCt7cLOysjR48GDl5eWpXbt2mjdv3nXV42a9nqfeovwKC51dgevw8GA9YS58JivOz55ziRsUHi7t2iVFREi7dzu7msrPSa3RCy84Zt7XXnPMvGbEVgQAAAC4BLYiAAAAmEBl3IpgNiS2AAAAcAkktgAAACZAYmscjS0AAIAJ0Ngax1YEAAAAuAQSWwAAABMgsTWOxBYAAAAugcQWAADABEhsjaOxBQAAMAEaW%2BPYigAAAACXQGILAABgAiS2xpHYAgAAwCWQ2AIAAJgAia1xNLYAAAAmQGNrHFsRAAAA4BJIbAEAAEyAxNY4ElsAAAC4BBJbAAAAEyCxNY7GFgAAwARobI1jKwIAAABcAoktAACACZDYGkdjCwAAYAI0tsaxFQEAAAAugcQWAADABEhsjSOxBQAAgEsgsQUAADABElvjaGwBAABMgMbWOLYiAAAAwCWQ2AIAAJgAia1xJLYAAABwCSS2AAAAJkBiaxyNLQAAgAnQ2BrHVgQAAAC4BBJbAAAAEyCxNY7EFgAAAC6BxBYAAMAESGyNo7EFAAAwARpb49iKAAAAAJdAYgsAAGACJLbGkdgCAADAJZDYAgAAmACJrXE0tgAAACZQGRtbi8Wi6dOna9u2bapSpYq6deumKVOmqFq1aiXOfemll7Rq1Sq7seLiYkVEROj9999XUlKSXnzxRXl4eNids3XrVtWtW7dc9dDYAgAA4IZMnjxZeXl52rBhg4qKivTMM88oISFBU6ZMKXFuXFyc4uLibD8XFxerX79%2B6tmzpyQpNzdXHTp00OLFi2%2B4HhpbAAAAE3BUYpuZmamsrCy7MX9/fwUEBBiaNzs7W1u3btXKlSttierYsWM1evRovfDCC/L09PzF6xMTE2W1WvXYY49Jks6ePSsfHx9DNdHYAgAAuLDExETNnz/fbiwmJkajRo0yNO/%2B/ftVtWpVBQcH28ZCQkJ04cIFpaWl2Y3/3Pnz5zVv3jwtXLhQbm5ukqRz584pPT1dffr0UXp6uoKCgjR27Fh17ty53DXR2AIAAJiAoxLb6OhoRUZG2o35%2B/sbntdiscjb21vu7v97yNbVxPXMmTO/eO3777%2BvsLAwhYeH28Zq164tX19fjR8/XkFBQVqxYoVGjhypVatWqUmTJuWqyeUa20OHDukPf/iDNm/erIYNG1739ePGjZOXl5deffVVB1QHAABQOkc1tgEBATe87eCTTz7R5MmTSz02c%2BbMMq%2B7msKWprCwUMuXL1d8fLzd%2BM8T5EGDBmnt2rVavXq1xo0bV656Td/YRkZGKiMjw%2B5vA1fFx8frwQcfdEJVAAAArq93797q3bt3qce2b9%2Bu3NxcFRUVqUqVKpKupLiS5OfnV%2BacO3fuVGFhoTp27Pirv79hw4Yl9gf/EtM3ttKVx0P069fP2WUAAAA4TGV73FdISIiKi4uVmpqqkJAQSVJycrJq1aqlRo0alXndl19%2BqXbt2pUILd9%2B%2B22FhoaqQ4cOtrG0tDR179693DVV%2Bm8ey87O1tChQxUeHq4HH3xQycnJdsdTUlLUr18/RUREqGPHjpo%2BfbouX75sO75ixQpFRkbqd7/7naZPn67iyvapAgAAcII6deooKipK8fHxOn36tE6cOKHZs2crOjra9izagQMHat26dXbXHThwQE2bNi0x39Vn4h45ckQFBQVasmSJjh49qj59%2BpS7pkqR2P6SV155RZcuXdLnn3%2Buixcv6rnnnrM7PnbsWD3wwAN6//33derUKUVHRys4OFjR0dE6fPiwYmNjNX/%2BfHXq1EmrVq3SzJkzr%2BtvBlIZj9GoU0cBFbAxGwBc2jU3jsCAZs3s/xM3bvdup/3qypitvfzyy5o2bZq6du0qDw8P9ezZU2PGjLEdP3bsmM6ePWt3TVZWlmrXrl1irmeffVbFxcV64okndPHiRQUHB2vp0qWqV69euetxs1qt1ht/O45X1h7bGjVqaMeOHWrVqpVmzZqlrl27SpLWrVuncePG2W4ey8vLk4eHh%2B1ZajExMfL19dX06dO1aNEi26bkq3r06KHQ0NDrunnszTffdMhjNHDlLw2JiYmKjo42/Lw9oCLwmYQZ8bl0De3aOWbeHTscM68ZVYrEtqw9thaLRfn5%2BWrQoIFt7Od7OrZt26a3335bR48e1eXLl3X58mX16tVLkpSRkWF3rSQFBQVdd32OeowGrvytbv78%2BYqMjOT/rGEKfCZhRnwugSsqRWNbloKCAkn2j5S4dv/skSNH9Pzzz2vSpEnq27evPD097eLxgoKCEo%2BjKCoquu46jDxGAwAAQKqcWxHMplLfPObr66uqVavq5MmTtrEjR47Y/nzgwAF5enpqwIAB8vT0VHFxsb7//nvb8YCAAP300092c6anpzu8bgAAAFS8St3Yenh46O6779b777%2Bv3NxcnTx5Uh999JHteP369ZWfn6/9%2B/fr4sWLmjFjhqpXr67MzExJ0j333KP9%2B/dr69atKigo0Icffmg7BgAA8FsqLnbM62ZSKRrbuLg4hYaGlnhNmjRJM2fOlNVqVadOnTR06FANGjRI0pUtCa1bt9aAAQP05JNPqnv37goODtbzzz%2Bv5ORkTZw4UeHh4Zo8ebKmTZumu%2B%2B%2BW6mpqfrDH/6gwsJC575h2Pj7%2BysmJoY9yzANPpMwIz6XroHG1jjTPxUBAADgZuCop9858Qlmv7lKffMYAACAq7jZ0lVHqBRbEQAAAIBfQ2ILAABgAiS2xtHYAgAAmACNrXFsRQAAAIBLILEFAAAwARJb42hsAQAATIDG1ji2IgAAAMAlkNgCAACYAImtcSS2AAAAcAkktqhUioqKVKVKFWeXAQBAhSOxNY7EFqYzcuRIZWVllRhPTk7Www8/7ISKgCsuX76sEydO6OTJkyoqKnJ2OQBcTHGxY143ExJbmE716tXVo0cPPffcc4qOjtbFixf1%2BuuvKykpScOGDXN2ebgJ5eXlKTY2Vhs3blRhYaEkycvLSw8%2B%2BKCmTJkiLy8vJ1eIm8WkSZPKdd7ly5eVkJDg4GoA86GxhenMmjVL3377rWbOnKlPPvlEGRkZCg4O1po1a9SwYUNnl4ebUHx8vE6cOKE5c%2BYoKChIVqtV6enpevvttzVr1iy9%2BOKLzi4RN4lLly7Z/lxcXKxt27apQYMGCgoKUlFRkY4cOaKsrCz16NHDiVXiRt1s6aojuFmtVquziwB%2B7vLly3rvvfe0cOFCVa1aVdOnT%2Bf/qOE0nTt31j/%2B8Q/5%2BfnZjf/000/q16%2BfPv/8c%2BcUhpvajBkz1KxZMz322GN24x9%2B%2BKF%2B%2BOEHTZ061UmV4Ubddptj5k1Pd8y8ZsQeW5jOtm3b1KNHD3399ddas2aNFi5cqDfffFMDBw7U4cOHnV0ebkKXLl1StWrVSozfcsstOnv2rBMqAqTVq1erd%2B/eJcYfffRRrVmzxgkVwSj22BpHYwvTmTBhgoYNG6alS5cqKChI7dq10%2BrVq9W6dWs98sgjzi4PN6GIiAjFxcUpOzvbNnb69GnFxcUpIiLCiZXhZlarVi19%2BeWXJca//vpreXt7O6EiGEVjaxxbEWA62dnZJf7J96offvhBd9xxx29cEW52GRkZ%2BtOf/qQDBw6oRo0acnNzU15ensLCwvT666%2Bz9xtOsWLFCk2dOlXBwcFq0KCB3NzcdPLkSR04cECTJ0/WH//4R2eXiOvUoIFj5j1xwjHzmhGNLUwpOTlZq1at0qlTp7RgwQIVFxdr48aNeuCBB5xdGm5iBw8e1PHjxyVJgYGBCg4OdnJFuNkdPnxYmzdvVkZGhgoKChQQEKB77rlHrVu3dnZpuAH16ztm3p9%2Bcsy8ZsRTEWA6a9asUWxsrKKiovTFF19IkrKysjRz5kydOnVKAwcOdHKFuBl9//33atasmZo1a6aTJ09q48aNOnnypLp06eLs0nATa9y4sRo3blxifNKkSYqPj3dCRYBzkdjCdHr27KmpU6fqrrvuUlhYmJKTkyVJBw4cUExMjDZv3uzkCnGzWbZsmd555x199dVXys7OVs%2BePW03jj311FMaPny4s0vETai4uFhJSUnau3evCgoKbOOZmZlKSUnRv//9bydWhxtRr55j5s3IcMy8ZsTNYzCdY8eO2W7IcXNzs43fcccdOn36tLPKwk3sr3/9q5YsWSJJWrlyperVq6d169Zp%2BfLlSkxMdHJ1uFnNnDlTc%2BfO1ZkzZ7R69WpdvHhRe/bs0dmzZzVv3jxnl4cbwM1jxtHYwnT%2B7//%2BT//5z39KjK9du1YNHLWzHvgFZ86csd20%2BPnnn%2BvBBx%2BUu7u7GjdurDNnzji5OtysPvvsM61YsUJvvvmmqlSpojlz5mjt/7d3/zFR138cwJ%2BfvFMgv8cP9YRQZMWIJj9CxdL1Ay6Yes1SJ0cLWTl/MFd0UsoGWVrDay0lDEpiNW2tGoJpRlZw5KYrk0ZM8SjsxwUbv2xxFOrJ/YDvHyRfzuM8kO/d5yP3fGxs3Pv98XPPP87jde97/6iuRnx8PNra2sSORyQKzrElydFqtdiyZQseeeQR2Gw2FBYWoqWlBY2Njdi7d6/Y8cgHKZVK1NfXw8/PD42NjSgsLAQwtHAnKChI5HTkq8xmM8L%2BXW0kk8lgtVohl8uxfft2qNVqaDQakRPSePna6KoncMSWJGfZsmWorKzEjBkz8PDDD6OrqwuxsbE4duwYd0UgUWzatAlPP/00MjIyoNFoEBkZib///hsbN27k3sok9bqVnwAACrhJREFUmrvvvhtFRUWwWq2IiIhAZWUlAMBoNKKvr0/kdETi4OIxIqIx6OrqwpUrV4ZXoA8ODuKLL77Agw8%2BiMDAQJHTkS9qampCbm4uPv/8c5w4cQJ5eXmYOnUq%2Bvv7kZmZiYKCArEj0jgFB3vmviaTZ%2B4rRSxsSRKysrIcFoq5YrPZ8PHHH3shEZF73d3dWL16Nb777juxoxChtbUVP/30E8LCwpCQkCB2HLoJnvqM7Esnf3OOLUnCyM3EzWYzPvvsMyQmJmLevHmw2%2B34448/cP78eWRmZoqYknzVb7/9hh07dsBgMMBqtTr03XPPPSKlIl/U0dHhsk8ulyM%2BPh4A0NbWhoiICG/FIpIMjtiS5LzwwgtYuXIlkpOTHdr1ej2qq6tRXFwsTjDyWVlZWQgPD0daWhq0Wi3efvtt/Pzzzzh16hRKS0u5gIy8JiYmZkzfbgFDe3/TreU///HMfX1pyjULW5KcBQsW4MyZM5DL5Q7tVqsVixcvRmNjo0jJyFctXLgQ33//PeRyORISEnD27FkAwMmTJ3H06FEUFRWJnJB8xe%2B//z78%2B7lz51BVVYXMzExERkbCZrPBaDSioqIC69evR2pqqohJ6WawsJ04TkUgyVEqlTh06JDTtIPDhw9j5syZIqUiXzZt2jRcunQJwcHBmD59Onp6ehASEoIHHngAubm5YscjHzLy%2BFytVov33nsPs0ccVxUXF4dFixZh8%2BbNLGxvQdzua%2BJY2JLk5OXl4fnnn8dbb72FsLAwCIKArq4u9PX1Yc%2BePWLHIx%2BkUqmQmZmJqqoqxMfHY9u2bdBoNDh79iynIZBo2tvbcfvttzu1KxQKtLe3i5CIJoqF7cRxKgJJUl9fH06dOoXu7m5YLBYolUosWbIEoaGhYkcjH2SxWFBeXo4tW7ago6MD%2Bfn5MBgMCA0NxUsvvYSlS5eKHZF80MaNG2GxWPDUU08Nn8rY2dmJDz/8EAMDAzh48KC4AWnc/P09c1%2Bz2TP3lSIWtkRERLegnp4e7N69G3V1dbh69SqAoRPI7rvvPuh0OocpCnRrmDbNM/ft7/fMfaWIhS1Jzg8//ACdTgej0Yj%2BUf43cqUvedPp06dhMpmgVqsd2nU6HdRqtcNWdUTecPz4cafXY29vLywWC0JCQiCTyfDiiy9i9%2B7dIiWkm8XCduJ4pC5Jzo4dOxAVFYU9e/agvLzc6YfIWxoaGpCdnY3Ozk6nPn9/f2zYsAG//PKLCMnIl%2BXn5zs8XrJkCYKCgqBUKiGTDS2dqa6uFiMaTdDAgGd%2BPK2pqQlpaWnQaDRur/3ggw%2BQkpKC%2BPh4pKenw2AwDPf19/fj5ZdfxuLFi5GYmIjnnnsOPT0948rCxWMkORcvXsTrr7%2BO227j5y4SV3l5ObKzs7FhwwanvtzcXMjlcpSWlmLfvn0ipCNfdf0XrZcvX3Z7Dd0absXFY8eOHUNRURGioqLwzz//3PDa2tpaFBcXY//%2B/UhISMD777%2BP7Oxs1NTUICAgAG%2B88QZ%2B/PFHHD58GNOnT0d%2Bfj4KCgpQVlY25jysHEhykpKS0NLSInYMIjQ1NWHdunUu%2B7OystDQ0ODFRERwOqBhtAMbxnqIA9FE9ff3o6KiYkzHOFdWVmLt2rW4//774e/vj2eeeQaCIKCurg42mw1HjhzB1q1bMXfuXAQHByMvLw8nTpxAd3f3mPNwxJYkJy0tDdu3b0dycjLCw8OdRm4zMjJESka%2Bxmw2I/AGh7crFApcuXLFi4mIaDLz1IjtxYsX8eeffzq0zZo1C0qlcsL3Tk9PH/O1zc3NDvPDBUFATEwMDAYD5s%2Bfj0uXLmH%2B/PnD/XfeeSf8/f1hMBjGvBiShS1JTklJCWQyGY4fP%2B7UJwgCC1vymtDQ0OE33NE0NDQMb7NERDRRnppBUlJSgdLSUoe2Z599Fjk5OZ55QhdMJpPT3t%2BBgYHo6emByWQafjySQqEY1zxbFrYkCa2trZg3bx4A4ODBg/wajSTh0Ucfxa5du/Duu%2B8iJCTEoa%2B9vR2vvPIKVq1aJVI68lV2ux2HDh0ankd7/eNrbUTXZGRkQKVSObTNmjVrTP/26NGjKCgoGLVPp9ON6z3Q1d92d3/zx1MTsLAlSVi5ciXOnTsHAFCr1aO%2BiAcHByEIArf7Iq/ZvHkz6uvrkZqaCrVajcjISNjtdvz666/4%2BuuvsXTpUqxfv17smORjlEqlw2Ka6x9fayO6RqlU3vRrYtWqVf%2B3D/DBwcHo7e11aDOZTIiOjsaMGTMADG1dFxAQAGDo735vb%2B9w31iwsCVJ%2BOqrr4Z/r6urEzEJ0f9MnToVBw4cwKeffora2lo0NDRAJpMhIiIChYWFeOyxx8SOSD7om2%2B%2BETsC0U2Ji4vD%2BfPnhwtlu92O5uZmrF27FnPnzkVQUBAMBgPuuOMOAEBLSwssFgtiY2PH/BwsbEkSrr2IAXDOIknKlClTkJ6ePq4FEkRENGT58uUoLCzEokWL8MQTT0Cr1SI1NRVxcXF455134OfnB5VKhSlTpkCj0aC4uBgxMTEICAjAa6%2B9huXLl2PmzJljfj4WtkREbgwODuLkyZNobW0d9TS8TZs2iZCKiEh8y5YtQ0dHB%2Bx2OwYGBhAXFwdg6JvY8PBwGI3G4d1jHnroIeTl5SE/Px9//fUXYmNjUV5ejmn/HrmWk5ODy5cvY82aNbDb7UhJScGuXbvGlYdH6hIRubF161bo9XrMmTMHfn5%2BDn2CIODIkSMiJSMiopFY2BIRuZGYmIiqqircddddYkchIqIb4MljRERuzJkzZ1xzvIiISBwcsSUicqO5uRllZWVIS0uDUql0Og0vKSlJpGRERDQSF48REblRU1OD2tpa1NTUOPVxb2UiIungiC0RkRsLFizAzp07kZKS4rR4DBja75aIiMTHEVsiIjcUCgVWrFjBApaISOI4YktE5IZer0d9fT3WrVuH2bNnOx35zIKXiEgaWNgSEbmxcOFCmM1muHq75BxbIiJp4FQEIiI3SkpKIJPx7ZKISOo4YktEREREkwKHIIiI3MjKynKaV3uN3W7HRx995OVEREQ0Gha2RERu3HvvvQ6PBwcH0dnZiTNnzuDJJ58UKRUREV2PUxGIiG7ShQsXsH//frz55ptiRyEiIgC3ub%2BEiIhGEx0djebmZrFjEBHRvzgVgYjIDaPR6NRmtVrx7bffwmKxiJCIiIhGw8KWiMiNFStWQBAEp31sFQoFdu7cKVIqIiK6HufYEhG50d7e7tTm5%2BeHkJAQl7slEBGR93HElojIBZVK5bZwFQQBer3eS4mIiOhGOGJLRORCfX29y762tjbs27cPNpsNp0%2Bf9mIqIiJyhYUtEdE4WCwWlJWV4cCBA1izZg20Wi0UCoXYsYiICJyKQEQ0Znq9HjqdDmFhYfjkk08QExMjdiQiIhqBhS0RkRutra149dVXceHCBWzbtg2PP/642JGIiGgUPKCBiMiFq1evYu/evVi9ejWio6Px5ZdfsqglIpIwzrElInIhOTkZFosFOTk5iIqKcnldUlKSF1MREZErLGyJiFxQqVRurxEEAXV1dV5IQ0RE7rCwJSIiIqJJgXNsiYiIiGhSYGFLRERERJMCC1siIiIimhRY2BIRERHRpMDCloiIiIgmBRa2RERERDQpsLAlIiIioknhvxTSiCq7pwLpAAAAAElFTkSuQmCC\" class=\"center-img\">\n",
       "</div>\n",
       "    <div class=\"row headerrow highlight\">\n",
       "        <h1>Sample</h1>\n",
       "    </div>\n",
       "    <div class=\"row variablerow\">\n",
       "    <div class=\"col-md-12\" style=\"overflow:scroll; width: 100%%; overflow-y: hidden;\">\n",
       "        <table border=\"1\" class=\"dataframe sample\">\n",
       "  <thead>\n",
       "    <tr style=\"text-align: right;\">\n",
       "      <th></th>\n",
       "      <th>index</th>\n",
       "      <th>NumCaso</th>\n",
       "      <th>Estado</th>\n",
       "      <th>Sexo</th>\n",
       "      <th>Edad</th>\n",
       "      <th>Fecha_Diagnóstico</th>\n",
       "      <th>Identificación</th>\n",
       "      <th>Procedencia</th>\n",
       "      <th>Llegada_México</th>\n",
       "    </tr>\n",
       "  </thead>\n",
       "  <tbody>\n",
       "    <tr>\n",
       "      <th>0</th>\n",
       "      <td>302</td>\n",
       "      <td>303</td>\n",
       "      <td>MÉXICO</td>\n",
       "      <td>M</td>\n",
       "      <td>44</td>\n",
       "      <td>2020-02-19</td>\n",
       "      <td>confirmado</td>\n",
       "      <td>Italia</td>\n",
       "      <td>22/02/2020</td>\n",
       "    </tr>\n",
       "    <tr>\n",
       "      <th>1</th>\n",
       "      <td>5</td>\n",
       "      <td>6</td>\n",
       "      <td>MÉXICO</td>\n",
       "      <td>M</td>\n",
       "      <td>71</td>\n",
       "      <td>2020-02-21</td>\n",
       "      <td>confirmado</td>\n",
       "      <td>Italia</td>\n",
       "      <td>21/02/2020</td>\n",
       "    </tr>\n",
       "    <tr>\n",
       "      <th>2</th>\n",
       "      <td>0</td>\n",
       "      <td>1</td>\n",
       "      <td>CDMX</td>\n",
       "      <td>M</td>\n",
       "      <td>35</td>\n",
       "      <td>2020-02-22</td>\n",
       "      <td>confirmado</td>\n",
       "      <td>Italia</td>\n",
       "      <td>22/02/2020</td>\n",
       "    </tr>\n",
       "    <tr>\n",
       "      <th>3</th>\n",
       "      <td>1</td>\n",
       "      <td>2</td>\n",
       "      <td>SINALOA</td>\n",
       "      <td>M</td>\n",
       "      <td>41</td>\n",
       "      <td>2020-02-22</td>\n",
       "      <td>confirmado</td>\n",
       "      <td>Italia</td>\n",
       "      <td>21/02/2020</td>\n",
       "    </tr>\n",
       "    <tr>\n",
       "      <th>4</th>\n",
       "      <td>2</td>\n",
       "      <td>3</td>\n",
       "      <td>CDMX</td>\n",
       "      <td>M</td>\n",
       "      <td>59</td>\n",
       "      <td>2020-02-23</td>\n",
       "      <td>confirmado</td>\n",
       "      <td>Italia</td>\n",
       "      <td>22/02/2020</td>\n",
       "    </tr>\n",
       "  </tbody>\n",
       "</table>\n",
       "    </div>\n",
       "</div>\n",
       "</div>"
      ],
      "text/plain": [
       "<pandas_profiling.ProfileReport at 0x7fd7daa01d90>"
      ]
     },
     "execution_count": 12,
     "metadata": {},
     "output_type": "execute_result"
    }
   ],
   "source": [
    "pandas_profiling.ProfileReport(df)"
   ]
  },
  {
   "cell_type": "code",
   "execution_count": 13,
   "metadata": {},
   "outputs": [],
   "source": [
    "AnalisisEstadisticoPromedioXGenero=df.groupby('Sexo').mean()"
   ]
  },
  {
   "cell_type": "code",
   "execution_count": 14,
   "metadata": {},
   "outputs": [
    {
     "data": {
      "text/html": [
       "<div>\n",
       "<style scoped>\n",
       "    .dataframe tbody tr th:only-of-type {\n",
       "        vertical-align: middle;\n",
       "    }\n",
       "\n",
       "    .dataframe tbody tr th {\n",
       "        vertical-align: top;\n",
       "    }\n",
       "\n",
       "    .dataframe thead th {\n",
       "        text-align: right;\n",
       "    }\n",
       "</style>\n",
       "<table border=\"1\" class=\"dataframe\">\n",
       "  <thead>\n",
       "    <tr style=\"text-align: right;\">\n",
       "      <th></th>\n",
       "      <th>index</th>\n",
       "      <th>NumCaso</th>\n",
       "      <th>Edad</th>\n",
       "    </tr>\n",
       "    <tr>\n",
       "      <th>Sexo</th>\n",
       "      <th></th>\n",
       "      <th></th>\n",
       "      <th></th>\n",
       "    </tr>\n",
       "  </thead>\n",
       "  <tbody>\n",
       "    <tr>\n",
       "      <td>F</td>\n",
       "      <td>388.702265</td>\n",
       "      <td>389.702265</td>\n",
       "      <td>41.449838</td>\n",
       "    </tr>\n",
       "    <tr>\n",
       "      <td>M</td>\n",
       "      <td>334.747549</td>\n",
       "      <td>335.747549</td>\n",
       "      <td>43.367647</td>\n",
       "    </tr>\n",
       "  </tbody>\n",
       "</table>\n",
       "</div>"
      ],
      "text/plain": [
       "           index     NumCaso       Edad\n",
       "Sexo                                   \n",
       "F     388.702265  389.702265  41.449838\n",
       "M     334.747549  335.747549  43.367647"
      ]
     },
     "execution_count": 14,
     "metadata": {},
     "output_type": "execute_result"
    }
   ],
   "source": [
    "AnalisisEstadisticoPromedioXGenero"
   ]
  },
  {
   "cell_type": "code",
   "execution_count": 15,
   "metadata": {},
   "outputs": [],
   "source": [
    "ColoresComponentesTabla=[[0,'#4d004c'],[.5,'#f2e5ff'],[1,'#ffffff']]"
   ]
  },
  {
   "cell_type": "code",
   "execution_count": 16,
   "metadata": {},
   "outputs": [],
   "source": [
    "ColoresLetra=['#000000']"
   ]
  },
  {
   "cell_type": "code",
   "execution_count": 17,
   "metadata": {},
   "outputs": [
    {
     "data": {
      "application/vnd.plotly.v1+json": {
       "config": {
        "linkText": "Export to plot.ly",
        "plotlyServerURL": "https://plot.ly",
        "showLink": false
       },
       "data": [
        {
         "colorscale": [
          [
           0,
           "#4d004c"
          ],
          [
           0.5,
           "#f2e5ff"
          ],
          [
           1,
           "#ffffff"
          ]
         ],
         "hoverinfo": "none",
         "opacity": 0.75,
         "showscale": false,
         "type": "heatmap",
         "z": [
          [
           0,
           0,
           0,
           0
          ],
          [
           0,
           0.5,
           0.5,
           0.5
          ],
          [
           0,
           1,
           1,
           1
          ]
         ]
        }
       ],
       "layout": {
        "annotations": [
         {
          "align": "left",
          "font": {
           "color": "#000000"
          },
          "showarrow": false,
          "text": "<b></b>",
          "x": -0.45,
          "xanchor": "left",
          "xref": "x",
          "y": 0,
          "yref": "y"
         },
         {
          "align": "left",
          "font": {
           "color": "#000000"
          },
          "showarrow": false,
          "text": "<b>index</b>",
          "x": 0.55,
          "xanchor": "left",
          "xref": "x",
          "y": 0,
          "yref": "y"
         },
         {
          "align": "left",
          "font": {
           "color": "#000000"
          },
          "showarrow": false,
          "text": "<b>NumCaso</b>",
          "x": 1.55,
          "xanchor": "left",
          "xref": "x",
          "y": 0,
          "yref": "y"
         },
         {
          "align": "left",
          "font": {
           "color": "#000000"
          },
          "showarrow": false,
          "text": "<b>Edad</b>",
          "x": 2.55,
          "xanchor": "left",
          "xref": "x",
          "y": 0,
          "yref": "y"
         },
         {
          "align": "left",
          "font": {
           "color": "#000000"
          },
          "showarrow": false,
          "text": "<b>F</b>",
          "x": -0.45,
          "xanchor": "left",
          "xref": "x",
          "y": 1,
          "yref": "y"
         },
         {
          "align": "left",
          "font": {
           "color": "#000000"
          },
          "showarrow": false,
          "text": "388.7022653721683",
          "x": 0.55,
          "xanchor": "left",
          "xref": "x",
          "y": 1,
          "yref": "y"
         },
         {
          "align": "left",
          "font": {
           "color": "#000000"
          },
          "showarrow": false,
          "text": "389.7022653721683",
          "x": 1.55,
          "xanchor": "left",
          "xref": "x",
          "y": 1,
          "yref": "y"
         },
         {
          "align": "left",
          "font": {
           "color": "#000000"
          },
          "showarrow": false,
          "text": "41.44983818770226",
          "x": 2.55,
          "xanchor": "left",
          "xref": "x",
          "y": 1,
          "yref": "y"
         },
         {
          "align": "left",
          "font": {
           "color": "#000000"
          },
          "showarrow": false,
          "text": "<b>M</b>",
          "x": -0.45,
          "xanchor": "left",
          "xref": "x",
          "y": 2,
          "yref": "y"
         },
         {
          "align": "left",
          "font": {
           "color": "#000000"
          },
          "showarrow": false,
          "text": "334.74754901960785",
          "x": 0.55,
          "xanchor": "left",
          "xref": "x",
          "y": 2,
          "yref": "y"
         },
         {
          "align": "left",
          "font": {
           "color": "#000000"
          },
          "showarrow": false,
          "text": "335.74754901960785",
          "x": 1.55,
          "xanchor": "left",
          "xref": "x",
          "y": 2,
          "yref": "y"
         },
         {
          "align": "left",
          "font": {
           "color": "#000000"
          },
          "showarrow": false,
          "text": "43.36764705882353",
          "x": 2.55,
          "xanchor": "left",
          "xref": "x",
          "y": 2,
          "yref": "y"
         }
        ],
        "height": 140,
        "margin": {
         "b": 0,
         "l": 0,
         "r": 0,
         "t": 0
        },
        "template": {
         "data": {
          "bar": [
           {
            "error_x": {
             "color": "#2a3f5f"
            },
            "error_y": {
             "color": "#2a3f5f"
            },
            "marker": {
             "line": {
              "color": "#E5ECF6",
              "width": 0.5
             }
            },
            "type": "bar"
           }
          ],
          "barpolar": [
           {
            "marker": {
             "line": {
              "color": "#E5ECF6",
              "width": 0.5
             }
            },
            "type": "barpolar"
           }
          ],
          "carpet": [
           {
            "aaxis": {
             "endlinecolor": "#2a3f5f",
             "gridcolor": "white",
             "linecolor": "white",
             "minorgridcolor": "white",
             "startlinecolor": "#2a3f5f"
            },
            "baxis": {
             "endlinecolor": "#2a3f5f",
             "gridcolor": "white",
             "linecolor": "white",
             "minorgridcolor": "white",
             "startlinecolor": "#2a3f5f"
            },
            "type": "carpet"
           }
          ],
          "choropleth": [
           {
            "colorbar": {
             "outlinewidth": 0,
             "ticks": ""
            },
            "type": "choropleth"
           }
          ],
          "contour": [
           {
            "colorbar": {
             "outlinewidth": 0,
             "ticks": ""
            },
            "colorscale": [
             [
              0,
              "#0d0887"
             ],
             [
              0.1111111111111111,
              "#46039f"
             ],
             [
              0.2222222222222222,
              "#7201a8"
             ],
             [
              0.3333333333333333,
              "#9c179e"
             ],
             [
              0.4444444444444444,
              "#bd3786"
             ],
             [
              0.5555555555555556,
              "#d8576b"
             ],
             [
              0.6666666666666666,
              "#ed7953"
             ],
             [
              0.7777777777777778,
              "#fb9f3a"
             ],
             [
              0.8888888888888888,
              "#fdca26"
             ],
             [
              1,
              "#f0f921"
             ]
            ],
            "type": "contour"
           }
          ],
          "contourcarpet": [
           {
            "colorbar": {
             "outlinewidth": 0,
             "ticks": ""
            },
            "type": "contourcarpet"
           }
          ],
          "heatmap": [
           {
            "colorbar": {
             "outlinewidth": 0,
             "ticks": ""
            },
            "colorscale": [
             [
              0,
              "#0d0887"
             ],
             [
              0.1111111111111111,
              "#46039f"
             ],
             [
              0.2222222222222222,
              "#7201a8"
             ],
             [
              0.3333333333333333,
              "#9c179e"
             ],
             [
              0.4444444444444444,
              "#bd3786"
             ],
             [
              0.5555555555555556,
              "#d8576b"
             ],
             [
              0.6666666666666666,
              "#ed7953"
             ],
             [
              0.7777777777777778,
              "#fb9f3a"
             ],
             [
              0.8888888888888888,
              "#fdca26"
             ],
             [
              1,
              "#f0f921"
             ]
            ],
            "type": "heatmap"
           }
          ],
          "heatmapgl": [
           {
            "colorbar": {
             "outlinewidth": 0,
             "ticks": ""
            },
            "colorscale": [
             [
              0,
              "#0d0887"
             ],
             [
              0.1111111111111111,
              "#46039f"
             ],
             [
              0.2222222222222222,
              "#7201a8"
             ],
             [
              0.3333333333333333,
              "#9c179e"
             ],
             [
              0.4444444444444444,
              "#bd3786"
             ],
             [
              0.5555555555555556,
              "#d8576b"
             ],
             [
              0.6666666666666666,
              "#ed7953"
             ],
             [
              0.7777777777777778,
              "#fb9f3a"
             ],
             [
              0.8888888888888888,
              "#fdca26"
             ],
             [
              1,
              "#f0f921"
             ]
            ],
            "type": "heatmapgl"
           }
          ],
          "histogram": [
           {
            "marker": {
             "colorbar": {
              "outlinewidth": 0,
              "ticks": ""
             }
            },
            "type": "histogram"
           }
          ],
          "histogram2d": [
           {
            "colorbar": {
             "outlinewidth": 0,
             "ticks": ""
            },
            "colorscale": [
             [
              0,
              "#0d0887"
             ],
             [
              0.1111111111111111,
              "#46039f"
             ],
             [
              0.2222222222222222,
              "#7201a8"
             ],
             [
              0.3333333333333333,
              "#9c179e"
             ],
             [
              0.4444444444444444,
              "#bd3786"
             ],
             [
              0.5555555555555556,
              "#d8576b"
             ],
             [
              0.6666666666666666,
              "#ed7953"
             ],
             [
              0.7777777777777778,
              "#fb9f3a"
             ],
             [
              0.8888888888888888,
              "#fdca26"
             ],
             [
              1,
              "#f0f921"
             ]
            ],
            "type": "histogram2d"
           }
          ],
          "histogram2dcontour": [
           {
            "colorbar": {
             "outlinewidth": 0,
             "ticks": ""
            },
            "colorscale": [
             [
              0,
              "#0d0887"
             ],
             [
              0.1111111111111111,
              "#46039f"
             ],
             [
              0.2222222222222222,
              "#7201a8"
             ],
             [
              0.3333333333333333,
              "#9c179e"
             ],
             [
              0.4444444444444444,
              "#bd3786"
             ],
             [
              0.5555555555555556,
              "#d8576b"
             ],
             [
              0.6666666666666666,
              "#ed7953"
             ],
             [
              0.7777777777777778,
              "#fb9f3a"
             ],
             [
              0.8888888888888888,
              "#fdca26"
             ],
             [
              1,
              "#f0f921"
             ]
            ],
            "type": "histogram2dcontour"
           }
          ],
          "mesh3d": [
           {
            "colorbar": {
             "outlinewidth": 0,
             "ticks": ""
            },
            "type": "mesh3d"
           }
          ],
          "parcoords": [
           {
            "line": {
             "colorbar": {
              "outlinewidth": 0,
              "ticks": ""
             }
            },
            "type": "parcoords"
           }
          ],
          "pie": [
           {
            "automargin": true,
            "type": "pie"
           }
          ],
          "scatter": [
           {
            "marker": {
             "colorbar": {
              "outlinewidth": 0,
              "ticks": ""
             }
            },
            "type": "scatter"
           }
          ],
          "scatter3d": [
           {
            "line": {
             "colorbar": {
              "outlinewidth": 0,
              "ticks": ""
             }
            },
            "marker": {
             "colorbar": {
              "outlinewidth": 0,
              "ticks": ""
             }
            },
            "type": "scatter3d"
           }
          ],
          "scattercarpet": [
           {
            "marker": {
             "colorbar": {
              "outlinewidth": 0,
              "ticks": ""
             }
            },
            "type": "scattercarpet"
           }
          ],
          "scattergeo": [
           {
            "marker": {
             "colorbar": {
              "outlinewidth": 0,
              "ticks": ""
             }
            },
            "type": "scattergeo"
           }
          ],
          "scattergl": [
           {
            "marker": {
             "colorbar": {
              "outlinewidth": 0,
              "ticks": ""
             }
            },
            "type": "scattergl"
           }
          ],
          "scattermapbox": [
           {
            "marker": {
             "colorbar": {
              "outlinewidth": 0,
              "ticks": ""
             }
            },
            "type": "scattermapbox"
           }
          ],
          "scatterpolar": [
           {
            "marker": {
             "colorbar": {
              "outlinewidth": 0,
              "ticks": ""
             }
            },
            "type": "scatterpolar"
           }
          ],
          "scatterpolargl": [
           {
            "marker": {
             "colorbar": {
              "outlinewidth": 0,
              "ticks": ""
             }
            },
            "type": "scatterpolargl"
           }
          ],
          "scatterternary": [
           {
            "marker": {
             "colorbar": {
              "outlinewidth": 0,
              "ticks": ""
             }
            },
            "type": "scatterternary"
           }
          ],
          "surface": [
           {
            "colorbar": {
             "outlinewidth": 0,
             "ticks": ""
            },
            "colorscale": [
             [
              0,
              "#0d0887"
             ],
             [
              0.1111111111111111,
              "#46039f"
             ],
             [
              0.2222222222222222,
              "#7201a8"
             ],
             [
              0.3333333333333333,
              "#9c179e"
             ],
             [
              0.4444444444444444,
              "#bd3786"
             ],
             [
              0.5555555555555556,
              "#d8576b"
             ],
             [
              0.6666666666666666,
              "#ed7953"
             ],
             [
              0.7777777777777778,
              "#fb9f3a"
             ],
             [
              0.8888888888888888,
              "#fdca26"
             ],
             [
              1,
              "#f0f921"
             ]
            ],
            "type": "surface"
           }
          ],
          "table": [
           {
            "cells": {
             "fill": {
              "color": "#EBF0F8"
             },
             "line": {
              "color": "white"
             }
            },
            "header": {
             "fill": {
              "color": "#C8D4E3"
             },
             "line": {
              "color": "white"
             }
            },
            "type": "table"
           }
          ]
         },
         "layout": {
          "annotationdefaults": {
           "arrowcolor": "#2a3f5f",
           "arrowhead": 0,
           "arrowwidth": 1
          },
          "coloraxis": {
           "colorbar": {
            "outlinewidth": 0,
            "ticks": ""
           }
          },
          "colorscale": {
           "diverging": [
            [
             0,
             "#8e0152"
            ],
            [
             0.1,
             "#c51b7d"
            ],
            [
             0.2,
             "#de77ae"
            ],
            [
             0.3,
             "#f1b6da"
            ],
            [
             0.4,
             "#fde0ef"
            ],
            [
             0.5,
             "#f7f7f7"
            ],
            [
             0.6,
             "#e6f5d0"
            ],
            [
             0.7,
             "#b8e186"
            ],
            [
             0.8,
             "#7fbc41"
            ],
            [
             0.9,
             "#4d9221"
            ],
            [
             1,
             "#276419"
            ]
           ],
           "sequential": [
            [
             0,
             "#0d0887"
            ],
            [
             0.1111111111111111,
             "#46039f"
            ],
            [
             0.2222222222222222,
             "#7201a8"
            ],
            [
             0.3333333333333333,
             "#9c179e"
            ],
            [
             0.4444444444444444,
             "#bd3786"
            ],
            [
             0.5555555555555556,
             "#d8576b"
            ],
            [
             0.6666666666666666,
             "#ed7953"
            ],
            [
             0.7777777777777778,
             "#fb9f3a"
            ],
            [
             0.8888888888888888,
             "#fdca26"
            ],
            [
             1,
             "#f0f921"
            ]
           ],
           "sequentialminus": [
            [
             0,
             "#0d0887"
            ],
            [
             0.1111111111111111,
             "#46039f"
            ],
            [
             0.2222222222222222,
             "#7201a8"
            ],
            [
             0.3333333333333333,
             "#9c179e"
            ],
            [
             0.4444444444444444,
             "#bd3786"
            ],
            [
             0.5555555555555556,
             "#d8576b"
            ],
            [
             0.6666666666666666,
             "#ed7953"
            ],
            [
             0.7777777777777778,
             "#fb9f3a"
            ],
            [
             0.8888888888888888,
             "#fdca26"
            ],
            [
             1,
             "#f0f921"
            ]
           ]
          },
          "colorway": [
           "#636efa",
           "#EF553B",
           "#00cc96",
           "#ab63fa",
           "#FFA15A",
           "#19d3f3",
           "#FF6692",
           "#B6E880",
           "#FF97FF",
           "#FECB52"
          ],
          "font": {
           "color": "#2a3f5f"
          },
          "geo": {
           "bgcolor": "white",
           "lakecolor": "white",
           "landcolor": "#E5ECF6",
           "showlakes": true,
           "showland": true,
           "subunitcolor": "white"
          },
          "hoverlabel": {
           "align": "left"
          },
          "hovermode": "closest",
          "mapbox": {
           "style": "light"
          },
          "paper_bgcolor": "white",
          "plot_bgcolor": "#E5ECF6",
          "polar": {
           "angularaxis": {
            "gridcolor": "white",
            "linecolor": "white",
            "ticks": ""
           },
           "bgcolor": "#E5ECF6",
           "radialaxis": {
            "gridcolor": "white",
            "linecolor": "white",
            "ticks": ""
           }
          },
          "scene": {
           "xaxis": {
            "backgroundcolor": "#E5ECF6",
            "gridcolor": "white",
            "gridwidth": 2,
            "linecolor": "white",
            "showbackground": true,
            "ticks": "",
            "zerolinecolor": "white"
           },
           "yaxis": {
            "backgroundcolor": "#E5ECF6",
            "gridcolor": "white",
            "gridwidth": 2,
            "linecolor": "white",
            "showbackground": true,
            "ticks": "",
            "zerolinecolor": "white"
           },
           "zaxis": {
            "backgroundcolor": "#E5ECF6",
            "gridcolor": "white",
            "gridwidth": 2,
            "linecolor": "white",
            "showbackground": true,
            "ticks": "",
            "zerolinecolor": "white"
           }
          },
          "shapedefaults": {
           "line": {
            "color": "#2a3f5f"
           }
          },
          "ternary": {
           "aaxis": {
            "gridcolor": "white",
            "linecolor": "white",
            "ticks": ""
           },
           "baxis": {
            "gridcolor": "white",
            "linecolor": "white",
            "ticks": ""
           },
           "bgcolor": "#E5ECF6",
           "caxis": {
            "gridcolor": "white",
            "linecolor": "white",
            "ticks": ""
           }
          },
          "title": {
           "x": 0.05
          },
          "xaxis": {
           "automargin": true,
           "gridcolor": "white",
           "linecolor": "white",
           "ticks": "",
           "title": {
            "standoff": 15
           },
           "zerolinecolor": "white",
           "zerolinewidth": 2
          },
          "yaxis": {
           "automargin": true,
           "gridcolor": "white",
           "linecolor": "white",
           "ticks": "",
           "title": {
            "standoff": 15
           },
           "zerolinecolor": "white",
           "zerolinewidth": 2
          }
         }
        },
        "xaxis": {
         "dtick": 1,
         "gridwidth": 2,
         "showticklabels": false,
         "tick0": -0.5,
         "ticks": "",
         "zeroline": false
        },
        "yaxis": {
         "autorange": "reversed",
         "dtick": 1,
         "gridwidth": 2,
         "showticklabels": false,
         "tick0": 0.5,
         "ticks": "",
         "zeroline": false
        }
       }
      },
      "text/html": [
       "<div>\n",
       "        \n",
       "        \n",
       "            <div id=\"aba62c78-8d91-446c-b4fd-7c68cc6f4f4c\" class=\"plotly-graph-div\" style=\"height:140px; width:100%;\"></div>\n",
       "            <script type=\"text/javascript\">\n",
       "                require([\"plotly\"], function(Plotly) {\n",
       "                    window.PLOTLYENV=window.PLOTLYENV || {};\n",
       "                    \n",
       "                if (document.getElementById(\"aba62c78-8d91-446c-b4fd-7c68cc6f4f4c\")) {\n",
       "                    Plotly.newPlot(\n",
       "                        'aba62c78-8d91-446c-b4fd-7c68cc6f4f4c',\n",
       "                        [{\"colorscale\": [[0, \"#4d004c\"], [0.5, \"#f2e5ff\"], [1, \"#ffffff\"]], \"hoverinfo\": \"none\", \"opacity\": 0.75, \"showscale\": false, \"type\": \"heatmap\", \"z\": [[0, 0, 0, 0], [0, 0.5, 0.5, 0.5], [0, 1, 1, 1]]}],\n",
       "                        {\"annotations\": [{\"align\": \"left\", \"font\": {\"color\": \"#000000\"}, \"showarrow\": false, \"text\": \"<b></b>\", \"x\": -0.45, \"xanchor\": \"left\", \"xref\": \"x\", \"y\": 0, \"yref\": \"y\"}, {\"align\": \"left\", \"font\": {\"color\": \"#000000\"}, \"showarrow\": false, \"text\": \"<b>index</b>\", \"x\": 0.55, \"xanchor\": \"left\", \"xref\": \"x\", \"y\": 0, \"yref\": \"y\"}, {\"align\": \"left\", \"font\": {\"color\": \"#000000\"}, \"showarrow\": false, \"text\": \"<b>NumCaso</b>\", \"x\": 1.55, \"xanchor\": \"left\", \"xref\": \"x\", \"y\": 0, \"yref\": \"y\"}, {\"align\": \"left\", \"font\": {\"color\": \"#000000\"}, \"showarrow\": false, \"text\": \"<b>Edad</b>\", \"x\": 2.55, \"xanchor\": \"left\", \"xref\": \"x\", \"y\": 0, \"yref\": \"y\"}, {\"align\": \"left\", \"font\": {\"color\": \"#000000\"}, \"showarrow\": false, \"text\": \"<b>F</b>\", \"x\": -0.45, \"xanchor\": \"left\", \"xref\": \"x\", \"y\": 1, \"yref\": \"y\"}, {\"align\": \"left\", \"font\": {\"color\": \"#000000\"}, \"showarrow\": false, \"text\": \"388.7022653721683\", \"x\": 0.55, \"xanchor\": \"left\", \"xref\": \"x\", \"y\": 1, \"yref\": \"y\"}, {\"align\": \"left\", \"font\": {\"color\": \"#000000\"}, \"showarrow\": false, \"text\": \"389.7022653721683\", \"x\": 1.55, \"xanchor\": \"left\", \"xref\": \"x\", \"y\": 1, \"yref\": \"y\"}, {\"align\": \"left\", \"font\": {\"color\": \"#000000\"}, \"showarrow\": false, \"text\": \"41.44983818770226\", \"x\": 2.55, \"xanchor\": \"left\", \"xref\": \"x\", \"y\": 1, \"yref\": \"y\"}, {\"align\": \"left\", \"font\": {\"color\": \"#000000\"}, \"showarrow\": false, \"text\": \"<b>M</b>\", \"x\": -0.45, \"xanchor\": \"left\", \"xref\": \"x\", \"y\": 2, \"yref\": \"y\"}, {\"align\": \"left\", \"font\": {\"color\": \"#000000\"}, \"showarrow\": false, \"text\": \"334.74754901960785\", \"x\": 0.55, \"xanchor\": \"left\", \"xref\": \"x\", \"y\": 2, \"yref\": \"y\"}, {\"align\": \"left\", \"font\": {\"color\": \"#000000\"}, \"showarrow\": false, \"text\": \"335.74754901960785\", \"x\": 1.55, \"xanchor\": \"left\", \"xref\": \"x\", \"y\": 2, \"yref\": \"y\"}, {\"align\": \"left\", \"font\": {\"color\": \"#000000\"}, \"showarrow\": false, \"text\": \"43.36764705882353\", \"x\": 2.55, \"xanchor\": \"left\", \"xref\": \"x\", \"y\": 2, \"yref\": \"y\"}], \"height\": 140, \"margin\": {\"b\": 0, \"l\": 0, \"r\": 0, \"t\": 0}, \"template\": {\"data\": {\"bar\": [{\"error_x\": {\"color\": \"#2a3f5f\"}, \"error_y\": {\"color\": \"#2a3f5f\"}, \"marker\": {\"line\": {\"color\": \"#E5ECF6\", \"width\": 0.5}}, \"type\": \"bar\"}], \"barpolar\": [{\"marker\": {\"line\": {\"color\": \"#E5ECF6\", \"width\": 0.5}}, \"type\": \"barpolar\"}], \"carpet\": [{\"aaxis\": {\"endlinecolor\": \"#2a3f5f\", \"gridcolor\": \"white\", \"linecolor\": \"white\", \"minorgridcolor\": \"white\", \"startlinecolor\": \"#2a3f5f\"}, \"baxis\": {\"endlinecolor\": \"#2a3f5f\", \"gridcolor\": \"white\", \"linecolor\": \"white\", \"minorgridcolor\": \"white\", \"startlinecolor\": \"#2a3f5f\"}, \"type\": \"carpet\"}], \"choropleth\": [{\"colorbar\": {\"outlinewidth\": 0, \"ticks\": \"\"}, \"type\": \"choropleth\"}], \"contour\": [{\"colorbar\": {\"outlinewidth\": 0, \"ticks\": \"\"}, \"colorscale\": [[0.0, \"#0d0887\"], [0.1111111111111111, \"#46039f\"], [0.2222222222222222, \"#7201a8\"], [0.3333333333333333, \"#9c179e\"], [0.4444444444444444, \"#bd3786\"], [0.5555555555555556, \"#d8576b\"], [0.6666666666666666, \"#ed7953\"], [0.7777777777777778, \"#fb9f3a\"], [0.8888888888888888, \"#fdca26\"], [1.0, \"#f0f921\"]], \"type\": \"contour\"}], \"contourcarpet\": [{\"colorbar\": {\"outlinewidth\": 0, \"ticks\": \"\"}, \"type\": \"contourcarpet\"}], \"heatmap\": [{\"colorbar\": {\"outlinewidth\": 0, \"ticks\": \"\"}, \"colorscale\": [[0.0, \"#0d0887\"], [0.1111111111111111, \"#46039f\"], [0.2222222222222222, \"#7201a8\"], [0.3333333333333333, \"#9c179e\"], [0.4444444444444444, \"#bd3786\"], [0.5555555555555556, \"#d8576b\"], [0.6666666666666666, \"#ed7953\"], [0.7777777777777778, \"#fb9f3a\"], [0.8888888888888888, \"#fdca26\"], [1.0, \"#f0f921\"]], \"type\": \"heatmap\"}], \"heatmapgl\": [{\"colorbar\": {\"outlinewidth\": 0, \"ticks\": \"\"}, \"colorscale\": [[0.0, \"#0d0887\"], [0.1111111111111111, \"#46039f\"], [0.2222222222222222, \"#7201a8\"], [0.3333333333333333, \"#9c179e\"], [0.4444444444444444, \"#bd3786\"], [0.5555555555555556, \"#d8576b\"], [0.6666666666666666, \"#ed7953\"], [0.7777777777777778, \"#fb9f3a\"], [0.8888888888888888, \"#fdca26\"], [1.0, \"#f0f921\"]], \"type\": \"heatmapgl\"}], \"histogram\": [{\"marker\": {\"colorbar\": {\"outlinewidth\": 0, \"ticks\": \"\"}}, \"type\": \"histogram\"}], \"histogram2d\": [{\"colorbar\": {\"outlinewidth\": 0, \"ticks\": \"\"}, \"colorscale\": [[0.0, \"#0d0887\"], [0.1111111111111111, \"#46039f\"], [0.2222222222222222, \"#7201a8\"], [0.3333333333333333, \"#9c179e\"], [0.4444444444444444, \"#bd3786\"], [0.5555555555555556, \"#d8576b\"], [0.6666666666666666, \"#ed7953\"], [0.7777777777777778, \"#fb9f3a\"], [0.8888888888888888, \"#fdca26\"], [1.0, \"#f0f921\"]], \"type\": \"histogram2d\"}], \"histogram2dcontour\": [{\"colorbar\": {\"outlinewidth\": 0, \"ticks\": \"\"}, \"colorscale\": [[0.0, \"#0d0887\"], [0.1111111111111111, \"#46039f\"], [0.2222222222222222, \"#7201a8\"], [0.3333333333333333, \"#9c179e\"], [0.4444444444444444, \"#bd3786\"], [0.5555555555555556, \"#d8576b\"], [0.6666666666666666, \"#ed7953\"], [0.7777777777777778, \"#fb9f3a\"], [0.8888888888888888, \"#fdca26\"], [1.0, \"#f0f921\"]], \"type\": \"histogram2dcontour\"}], \"mesh3d\": [{\"colorbar\": {\"outlinewidth\": 0, \"ticks\": \"\"}, \"type\": \"mesh3d\"}], \"parcoords\": [{\"line\": {\"colorbar\": {\"outlinewidth\": 0, \"ticks\": \"\"}}, \"type\": \"parcoords\"}], \"pie\": [{\"automargin\": true, \"type\": \"pie\"}], \"scatter\": [{\"marker\": {\"colorbar\": {\"outlinewidth\": 0, \"ticks\": \"\"}}, \"type\": \"scatter\"}], \"scatter3d\": [{\"line\": {\"colorbar\": {\"outlinewidth\": 0, \"ticks\": \"\"}}, \"marker\": {\"colorbar\": {\"outlinewidth\": 0, \"ticks\": \"\"}}, \"type\": \"scatter3d\"}], \"scattercarpet\": [{\"marker\": {\"colorbar\": {\"outlinewidth\": 0, \"ticks\": \"\"}}, \"type\": \"scattercarpet\"}], \"scattergeo\": [{\"marker\": {\"colorbar\": {\"outlinewidth\": 0, \"ticks\": \"\"}}, \"type\": \"scattergeo\"}], \"scattergl\": [{\"marker\": {\"colorbar\": {\"outlinewidth\": 0, \"ticks\": \"\"}}, \"type\": \"scattergl\"}], \"scattermapbox\": [{\"marker\": {\"colorbar\": {\"outlinewidth\": 0, \"ticks\": \"\"}}, \"type\": \"scattermapbox\"}], \"scatterpolar\": [{\"marker\": {\"colorbar\": {\"outlinewidth\": 0, \"ticks\": \"\"}}, \"type\": \"scatterpolar\"}], \"scatterpolargl\": [{\"marker\": {\"colorbar\": {\"outlinewidth\": 0, \"ticks\": \"\"}}, \"type\": \"scatterpolargl\"}], \"scatterternary\": [{\"marker\": {\"colorbar\": {\"outlinewidth\": 0, \"ticks\": \"\"}}, \"type\": \"scatterternary\"}], \"surface\": [{\"colorbar\": {\"outlinewidth\": 0, \"ticks\": \"\"}, \"colorscale\": [[0.0, \"#0d0887\"], [0.1111111111111111, \"#46039f\"], [0.2222222222222222, \"#7201a8\"], [0.3333333333333333, \"#9c179e\"], [0.4444444444444444, \"#bd3786\"], [0.5555555555555556, \"#d8576b\"], [0.6666666666666666, \"#ed7953\"], [0.7777777777777778, \"#fb9f3a\"], [0.8888888888888888, \"#fdca26\"], [1.0, \"#f0f921\"]], \"type\": \"surface\"}], \"table\": [{\"cells\": {\"fill\": {\"color\": \"#EBF0F8\"}, \"line\": {\"color\": \"white\"}}, \"header\": {\"fill\": {\"color\": \"#C8D4E3\"}, \"line\": {\"color\": \"white\"}}, \"type\": \"table\"}]}, \"layout\": {\"annotationdefaults\": {\"arrowcolor\": \"#2a3f5f\", \"arrowhead\": 0, \"arrowwidth\": 1}, \"coloraxis\": {\"colorbar\": {\"outlinewidth\": 0, \"ticks\": \"\"}}, \"colorscale\": {\"diverging\": [[0, \"#8e0152\"], [0.1, \"#c51b7d\"], [0.2, \"#de77ae\"], [0.3, \"#f1b6da\"], [0.4, \"#fde0ef\"], [0.5, \"#f7f7f7\"], [0.6, \"#e6f5d0\"], [0.7, \"#b8e186\"], [0.8, \"#7fbc41\"], [0.9, \"#4d9221\"], [1, \"#276419\"]], \"sequential\": [[0.0, \"#0d0887\"], [0.1111111111111111, \"#46039f\"], [0.2222222222222222, \"#7201a8\"], [0.3333333333333333, \"#9c179e\"], [0.4444444444444444, \"#bd3786\"], [0.5555555555555556, \"#d8576b\"], [0.6666666666666666, \"#ed7953\"], [0.7777777777777778, \"#fb9f3a\"], [0.8888888888888888, \"#fdca26\"], [1.0, \"#f0f921\"]], \"sequentialminus\": [[0.0, \"#0d0887\"], [0.1111111111111111, \"#46039f\"], [0.2222222222222222, \"#7201a8\"], [0.3333333333333333, \"#9c179e\"], [0.4444444444444444, \"#bd3786\"], [0.5555555555555556, \"#d8576b\"], [0.6666666666666666, \"#ed7953\"], [0.7777777777777778, \"#fb9f3a\"], [0.8888888888888888, \"#fdca26\"], [1.0, \"#f0f921\"]]}, \"colorway\": [\"#636efa\", \"#EF553B\", \"#00cc96\", \"#ab63fa\", \"#FFA15A\", \"#19d3f3\", \"#FF6692\", \"#B6E880\", \"#FF97FF\", \"#FECB52\"], \"font\": {\"color\": \"#2a3f5f\"}, \"geo\": {\"bgcolor\": \"white\", \"lakecolor\": \"white\", \"landcolor\": \"#E5ECF6\", \"showlakes\": true, \"showland\": true, \"subunitcolor\": \"white\"}, \"hoverlabel\": {\"align\": \"left\"}, \"hovermode\": \"closest\", \"mapbox\": {\"style\": \"light\"}, \"paper_bgcolor\": \"white\", \"plot_bgcolor\": \"#E5ECF6\", \"polar\": {\"angularaxis\": {\"gridcolor\": \"white\", \"linecolor\": \"white\", \"ticks\": \"\"}, \"bgcolor\": \"#E5ECF6\", \"radialaxis\": {\"gridcolor\": \"white\", \"linecolor\": \"white\", \"ticks\": \"\"}}, \"scene\": {\"xaxis\": {\"backgroundcolor\": \"#E5ECF6\", \"gridcolor\": \"white\", \"gridwidth\": 2, \"linecolor\": \"white\", \"showbackground\": true, \"ticks\": \"\", \"zerolinecolor\": \"white\"}, \"yaxis\": {\"backgroundcolor\": \"#E5ECF6\", \"gridcolor\": \"white\", \"gridwidth\": 2, \"linecolor\": \"white\", \"showbackground\": true, \"ticks\": \"\", \"zerolinecolor\": \"white\"}, \"zaxis\": {\"backgroundcolor\": \"#E5ECF6\", \"gridcolor\": \"white\", \"gridwidth\": 2, \"linecolor\": \"white\", \"showbackground\": true, \"ticks\": \"\", \"zerolinecolor\": \"white\"}}, \"shapedefaults\": {\"line\": {\"color\": \"#2a3f5f\"}}, \"ternary\": {\"aaxis\": {\"gridcolor\": \"white\", \"linecolor\": \"white\", \"ticks\": \"\"}, \"baxis\": {\"gridcolor\": \"white\", \"linecolor\": \"white\", \"ticks\": \"\"}, \"bgcolor\": \"#E5ECF6\", \"caxis\": {\"gridcolor\": \"white\", \"linecolor\": \"white\", \"ticks\": \"\"}}, \"title\": {\"x\": 0.05}, \"xaxis\": {\"automargin\": true, \"gridcolor\": \"white\", \"linecolor\": \"white\", \"ticks\": \"\", \"title\": {\"standoff\": 15}, \"zerolinecolor\": \"white\", \"zerolinewidth\": 2}, \"yaxis\": {\"automargin\": true, \"gridcolor\": \"white\", \"linecolor\": \"white\", \"ticks\": \"\", \"title\": {\"standoff\": 15}, \"zerolinecolor\": \"white\", \"zerolinewidth\": 2}}}, \"xaxis\": {\"dtick\": 1, \"gridwidth\": 2, \"showticklabels\": false, \"tick0\": -0.5, \"ticks\": \"\", \"zeroline\": false}, \"yaxis\": {\"autorange\": \"reversed\", \"dtick\": 1, \"gridwidth\": 2, \"showticklabels\": false, \"tick0\": 0.5, \"ticks\": \"\", \"zeroline\": false}},\n",
       "                        {\"responsive\": true}\n",
       "                    ).then(function(){\n",
       "                            \n",
       "var gd = document.getElementById('aba62c78-8d91-446c-b4fd-7c68cc6f4f4c');\n",
       "var x = new MutationObserver(function (mutations, observer) {{\n",
       "        var display = window.getComputedStyle(gd).display;\n",
       "        if (!display || display === 'none') {{\n",
       "            console.log([gd, 'removed!']);\n",
       "            Plotly.purge(gd);\n",
       "            observer.disconnect();\n",
       "        }}\n",
       "}});\n",
       "\n",
       "// Listen for the removal of the full notebook cells\n",
       "var notebookContainer = gd.closest('#notebook-container');\n",
       "if (notebookContainer) {{\n",
       "    x.observe(notebookContainer, {childList: true});\n",
       "}}\n",
       "\n",
       "// Listen for the clearing of the current output cell\n",
       "var outputEl = gd.closest('.output');\n",
       "if (outputEl) {{\n",
       "    x.observe(outputEl, {childList: true});\n",
       "}}\n",
       "\n",
       "                        })\n",
       "                };\n",
       "                });\n",
       "            </script>\n",
       "        </div>"
      ]
     },
     "metadata": {},
     "output_type": "display_data"
    }
   ],
   "source": [
    "dz=ff.create_table(AnalisisEstadisticoPromedioXGenero,index=True,colorscale=ColoresComponentesTabla,font_colors=ColoresLetra)\n",
    "iplot(dz)"
   ]
  },
  {
   "cell_type": "markdown",
   "metadata": {},
   "source": [
    "## Despliegue gráfico de resultados"
   ]
  },
  {
   "cell_type": "code",
   "execution_count": 18,
   "metadata": {},
   "outputs": [],
   "source": [
    "col=\"Sexo\"\n",
    "AnalisisFrecuenciaXGenero=df[col].value_counts().reset_index()"
   ]
  },
  {
   "cell_type": "code",
   "execution_count": 19,
   "metadata": {},
   "outputs": [
    {
     "data": {
      "text/html": [
       "<div>\n",
       "<style scoped>\n",
       "    .dataframe tbody tr th:only-of-type {\n",
       "        vertical-align: middle;\n",
       "    }\n",
       "\n",
       "    .dataframe tbody tr th {\n",
       "        vertical-align: top;\n",
       "    }\n",
       "\n",
       "    .dataframe thead th {\n",
       "        text-align: right;\n",
       "    }\n",
       "</style>\n",
       "<table border=\"1\" class=\"dataframe\">\n",
       "  <thead>\n",
       "    <tr style=\"text-align: right;\">\n",
       "      <th></th>\n",
       "      <th>index</th>\n",
       "      <th>Sexo</th>\n",
       "    </tr>\n",
       "  </thead>\n",
       "  <tbody>\n",
       "    <tr>\n",
       "      <td>0</td>\n",
       "      <td>M</td>\n",
       "      <td>408</td>\n",
       "    </tr>\n",
       "    <tr>\n",
       "      <td>1</td>\n",
       "      <td>F</td>\n",
       "      <td>309</td>\n",
       "    </tr>\n",
       "  </tbody>\n",
       "</table>\n",
       "</div>"
      ],
      "text/plain": [
       "  index  Sexo\n",
       "0     M   408\n",
       "1     F   309"
      ]
     },
     "execution_count": 19,
     "metadata": {},
     "output_type": "execute_result"
    }
   ],
   "source": [
    "AnalisisFrecuenciaXGenero"
   ]
  },
  {
   "cell_type": "code",
   "execution_count": 20,
   "metadata": {},
   "outputs": [],
   "source": [
    "AnalisisFrecuenciaXGenero=AnalisisFrecuenciaXGenero.rename(columns={col:\"count\",\"index\":col})"
   ]
  },
  {
   "cell_type": "code",
   "execution_count": 21,
   "metadata": {},
   "outputs": [
    {
     "data": {
      "text/html": [
       "<div>\n",
       "<style scoped>\n",
       "    .dataframe tbody tr th:only-of-type {\n",
       "        vertical-align: middle;\n",
       "    }\n",
       "\n",
       "    .dataframe tbody tr th {\n",
       "        vertical-align: top;\n",
       "    }\n",
       "\n",
       "    .dataframe thead th {\n",
       "        text-align: right;\n",
       "    }\n",
       "</style>\n",
       "<table border=\"1\" class=\"dataframe\">\n",
       "  <thead>\n",
       "    <tr style=\"text-align: right;\">\n",
       "      <th></th>\n",
       "      <th>Sexo</th>\n",
       "      <th>count</th>\n",
       "    </tr>\n",
       "  </thead>\n",
       "  <tbody>\n",
       "    <tr>\n",
       "      <td>0</td>\n",
       "      <td>M</td>\n",
       "      <td>408</td>\n",
       "    </tr>\n",
       "    <tr>\n",
       "      <td>1</td>\n",
       "      <td>F</td>\n",
       "      <td>309</td>\n",
       "    </tr>\n",
       "  </tbody>\n",
       "</table>\n",
       "</div>"
      ],
      "text/plain": [
       "  Sexo  count\n",
       "0    M    408\n",
       "1    F    309"
      ]
     },
     "execution_count": 21,
     "metadata": {},
     "output_type": "execute_result"
    }
   ],
   "source": [
    "AnalisisFrecuenciaXGenero"
   ]
  },
  {
   "cell_type": "markdown",
   "metadata": {},
   "source": [
    "## Gráfica distribución registros X género"
   ]
  },
  {
   "cell_type": "code",
   "execution_count": 22,
   "metadata": {},
   "outputs": [
    {
     "data": {
      "application/vnd.plotly.v1+json": {
       "config": {
        "linkText": "Export to plot.ly",
        "plotlyServerURL": "https://plot.ly",
        "showLink": false
       },
       "data": [
        {
         "labels": [
          "M",
          "F"
         ],
         "pull": [
          0.05,
          0
         ],
         "type": "pie",
         "values": [
          408,
          309
         ]
        }
       ],
       "layout": {
        "template": {
         "data": {
          "bar": [
           {
            "error_x": {
             "color": "#2a3f5f"
            },
            "error_y": {
             "color": "#2a3f5f"
            },
            "marker": {
             "line": {
              "color": "#E5ECF6",
              "width": 0.5
             }
            },
            "type": "bar"
           }
          ],
          "barpolar": [
           {
            "marker": {
             "line": {
              "color": "#E5ECF6",
              "width": 0.5
             }
            },
            "type": "barpolar"
           }
          ],
          "carpet": [
           {
            "aaxis": {
             "endlinecolor": "#2a3f5f",
             "gridcolor": "white",
             "linecolor": "white",
             "minorgridcolor": "white",
             "startlinecolor": "#2a3f5f"
            },
            "baxis": {
             "endlinecolor": "#2a3f5f",
             "gridcolor": "white",
             "linecolor": "white",
             "minorgridcolor": "white",
             "startlinecolor": "#2a3f5f"
            },
            "type": "carpet"
           }
          ],
          "choropleth": [
           {
            "colorbar": {
             "outlinewidth": 0,
             "ticks": ""
            },
            "type": "choropleth"
           }
          ],
          "contour": [
           {
            "colorbar": {
             "outlinewidth": 0,
             "ticks": ""
            },
            "colorscale": [
             [
              0,
              "#0d0887"
             ],
             [
              0.1111111111111111,
              "#46039f"
             ],
             [
              0.2222222222222222,
              "#7201a8"
             ],
             [
              0.3333333333333333,
              "#9c179e"
             ],
             [
              0.4444444444444444,
              "#bd3786"
             ],
             [
              0.5555555555555556,
              "#d8576b"
             ],
             [
              0.6666666666666666,
              "#ed7953"
             ],
             [
              0.7777777777777778,
              "#fb9f3a"
             ],
             [
              0.8888888888888888,
              "#fdca26"
             ],
             [
              1,
              "#f0f921"
             ]
            ],
            "type": "contour"
           }
          ],
          "contourcarpet": [
           {
            "colorbar": {
             "outlinewidth": 0,
             "ticks": ""
            },
            "type": "contourcarpet"
           }
          ],
          "heatmap": [
           {
            "colorbar": {
             "outlinewidth": 0,
             "ticks": ""
            },
            "colorscale": [
             [
              0,
              "#0d0887"
             ],
             [
              0.1111111111111111,
              "#46039f"
             ],
             [
              0.2222222222222222,
              "#7201a8"
             ],
             [
              0.3333333333333333,
              "#9c179e"
             ],
             [
              0.4444444444444444,
              "#bd3786"
             ],
             [
              0.5555555555555556,
              "#d8576b"
             ],
             [
              0.6666666666666666,
              "#ed7953"
             ],
             [
              0.7777777777777778,
              "#fb9f3a"
             ],
             [
              0.8888888888888888,
              "#fdca26"
             ],
             [
              1,
              "#f0f921"
             ]
            ],
            "type": "heatmap"
           }
          ],
          "heatmapgl": [
           {
            "colorbar": {
             "outlinewidth": 0,
             "ticks": ""
            },
            "colorscale": [
             [
              0,
              "#0d0887"
             ],
             [
              0.1111111111111111,
              "#46039f"
             ],
             [
              0.2222222222222222,
              "#7201a8"
             ],
             [
              0.3333333333333333,
              "#9c179e"
             ],
             [
              0.4444444444444444,
              "#bd3786"
             ],
             [
              0.5555555555555556,
              "#d8576b"
             ],
             [
              0.6666666666666666,
              "#ed7953"
             ],
             [
              0.7777777777777778,
              "#fb9f3a"
             ],
             [
              0.8888888888888888,
              "#fdca26"
             ],
             [
              1,
              "#f0f921"
             ]
            ],
            "type": "heatmapgl"
           }
          ],
          "histogram": [
           {
            "marker": {
             "colorbar": {
              "outlinewidth": 0,
              "ticks": ""
             }
            },
            "type": "histogram"
           }
          ],
          "histogram2d": [
           {
            "colorbar": {
             "outlinewidth": 0,
             "ticks": ""
            },
            "colorscale": [
             [
              0,
              "#0d0887"
             ],
             [
              0.1111111111111111,
              "#46039f"
             ],
             [
              0.2222222222222222,
              "#7201a8"
             ],
             [
              0.3333333333333333,
              "#9c179e"
             ],
             [
              0.4444444444444444,
              "#bd3786"
             ],
             [
              0.5555555555555556,
              "#d8576b"
             ],
             [
              0.6666666666666666,
              "#ed7953"
             ],
             [
              0.7777777777777778,
              "#fb9f3a"
             ],
             [
              0.8888888888888888,
              "#fdca26"
             ],
             [
              1,
              "#f0f921"
             ]
            ],
            "type": "histogram2d"
           }
          ],
          "histogram2dcontour": [
           {
            "colorbar": {
             "outlinewidth": 0,
             "ticks": ""
            },
            "colorscale": [
             [
              0,
              "#0d0887"
             ],
             [
              0.1111111111111111,
              "#46039f"
             ],
             [
              0.2222222222222222,
              "#7201a8"
             ],
             [
              0.3333333333333333,
              "#9c179e"
             ],
             [
              0.4444444444444444,
              "#bd3786"
             ],
             [
              0.5555555555555556,
              "#d8576b"
             ],
             [
              0.6666666666666666,
              "#ed7953"
             ],
             [
              0.7777777777777778,
              "#fb9f3a"
             ],
             [
              0.8888888888888888,
              "#fdca26"
             ],
             [
              1,
              "#f0f921"
             ]
            ],
            "type": "histogram2dcontour"
           }
          ],
          "mesh3d": [
           {
            "colorbar": {
             "outlinewidth": 0,
             "ticks": ""
            },
            "type": "mesh3d"
           }
          ],
          "parcoords": [
           {
            "line": {
             "colorbar": {
              "outlinewidth": 0,
              "ticks": ""
             }
            },
            "type": "parcoords"
           }
          ],
          "pie": [
           {
            "automargin": true,
            "type": "pie"
           }
          ],
          "scatter": [
           {
            "marker": {
             "colorbar": {
              "outlinewidth": 0,
              "ticks": ""
             }
            },
            "type": "scatter"
           }
          ],
          "scatter3d": [
           {
            "line": {
             "colorbar": {
              "outlinewidth": 0,
              "ticks": ""
             }
            },
            "marker": {
             "colorbar": {
              "outlinewidth": 0,
              "ticks": ""
             }
            },
            "type": "scatter3d"
           }
          ],
          "scattercarpet": [
           {
            "marker": {
             "colorbar": {
              "outlinewidth": 0,
              "ticks": ""
             }
            },
            "type": "scattercarpet"
           }
          ],
          "scattergeo": [
           {
            "marker": {
             "colorbar": {
              "outlinewidth": 0,
              "ticks": ""
             }
            },
            "type": "scattergeo"
           }
          ],
          "scattergl": [
           {
            "marker": {
             "colorbar": {
              "outlinewidth": 0,
              "ticks": ""
             }
            },
            "type": "scattergl"
           }
          ],
          "scattermapbox": [
           {
            "marker": {
             "colorbar": {
              "outlinewidth": 0,
              "ticks": ""
             }
            },
            "type": "scattermapbox"
           }
          ],
          "scatterpolar": [
           {
            "marker": {
             "colorbar": {
              "outlinewidth": 0,
              "ticks": ""
             }
            },
            "type": "scatterpolar"
           }
          ],
          "scatterpolargl": [
           {
            "marker": {
             "colorbar": {
              "outlinewidth": 0,
              "ticks": ""
             }
            },
            "type": "scatterpolargl"
           }
          ],
          "scatterternary": [
           {
            "marker": {
             "colorbar": {
              "outlinewidth": 0,
              "ticks": ""
             }
            },
            "type": "scatterternary"
           }
          ],
          "surface": [
           {
            "colorbar": {
             "outlinewidth": 0,
             "ticks": ""
            },
            "colorscale": [
             [
              0,
              "#0d0887"
             ],
             [
              0.1111111111111111,
              "#46039f"
             ],
             [
              0.2222222222222222,
              "#7201a8"
             ],
             [
              0.3333333333333333,
              "#9c179e"
             ],
             [
              0.4444444444444444,
              "#bd3786"
             ],
             [
              0.5555555555555556,
              "#d8576b"
             ],
             [
              0.6666666666666666,
              "#ed7953"
             ],
             [
              0.7777777777777778,
              "#fb9f3a"
             ],
             [
              0.8888888888888888,
              "#fdca26"
             ],
             [
              1,
              "#f0f921"
             ]
            ],
            "type": "surface"
           }
          ],
          "table": [
           {
            "cells": {
             "fill": {
              "color": "#EBF0F8"
             },
             "line": {
              "color": "white"
             }
            },
            "header": {
             "fill": {
              "color": "#C8D4E3"
             },
             "line": {
              "color": "white"
             }
            },
            "type": "table"
           }
          ]
         },
         "layout": {
          "annotationdefaults": {
           "arrowcolor": "#2a3f5f",
           "arrowhead": 0,
           "arrowwidth": 1
          },
          "coloraxis": {
           "colorbar": {
            "outlinewidth": 0,
            "ticks": ""
           }
          },
          "colorscale": {
           "diverging": [
            [
             0,
             "#8e0152"
            ],
            [
             0.1,
             "#c51b7d"
            ],
            [
             0.2,
             "#de77ae"
            ],
            [
             0.3,
             "#f1b6da"
            ],
            [
             0.4,
             "#fde0ef"
            ],
            [
             0.5,
             "#f7f7f7"
            ],
            [
             0.6,
             "#e6f5d0"
            ],
            [
             0.7,
             "#b8e186"
            ],
            [
             0.8,
             "#7fbc41"
            ],
            [
             0.9,
             "#4d9221"
            ],
            [
             1,
             "#276419"
            ]
           ],
           "sequential": [
            [
             0,
             "#0d0887"
            ],
            [
             0.1111111111111111,
             "#46039f"
            ],
            [
             0.2222222222222222,
             "#7201a8"
            ],
            [
             0.3333333333333333,
             "#9c179e"
            ],
            [
             0.4444444444444444,
             "#bd3786"
            ],
            [
             0.5555555555555556,
             "#d8576b"
            ],
            [
             0.6666666666666666,
             "#ed7953"
            ],
            [
             0.7777777777777778,
             "#fb9f3a"
            ],
            [
             0.8888888888888888,
             "#fdca26"
            ],
            [
             1,
             "#f0f921"
            ]
           ],
           "sequentialminus": [
            [
             0,
             "#0d0887"
            ],
            [
             0.1111111111111111,
             "#46039f"
            ],
            [
             0.2222222222222222,
             "#7201a8"
            ],
            [
             0.3333333333333333,
             "#9c179e"
            ],
            [
             0.4444444444444444,
             "#bd3786"
            ],
            [
             0.5555555555555556,
             "#d8576b"
            ],
            [
             0.6666666666666666,
             "#ed7953"
            ],
            [
             0.7777777777777778,
             "#fb9f3a"
            ],
            [
             0.8888888888888888,
             "#fdca26"
            ],
            [
             1,
             "#f0f921"
            ]
           ]
          },
          "colorway": [
           "#636efa",
           "#EF553B",
           "#00cc96",
           "#ab63fa",
           "#FFA15A",
           "#19d3f3",
           "#FF6692",
           "#B6E880",
           "#FF97FF",
           "#FECB52"
          ],
          "font": {
           "color": "#2a3f5f"
          },
          "geo": {
           "bgcolor": "white",
           "lakecolor": "white",
           "landcolor": "#E5ECF6",
           "showlakes": true,
           "showland": true,
           "subunitcolor": "white"
          },
          "hoverlabel": {
           "align": "left"
          },
          "hovermode": "closest",
          "mapbox": {
           "style": "light"
          },
          "paper_bgcolor": "white",
          "plot_bgcolor": "#E5ECF6",
          "polar": {
           "angularaxis": {
            "gridcolor": "white",
            "linecolor": "white",
            "ticks": ""
           },
           "bgcolor": "#E5ECF6",
           "radialaxis": {
            "gridcolor": "white",
            "linecolor": "white",
            "ticks": ""
           }
          },
          "scene": {
           "xaxis": {
            "backgroundcolor": "#E5ECF6",
            "gridcolor": "white",
            "gridwidth": 2,
            "linecolor": "white",
            "showbackground": true,
            "ticks": "",
            "zerolinecolor": "white"
           },
           "yaxis": {
            "backgroundcolor": "#E5ECF6",
            "gridcolor": "white",
            "gridwidth": 2,
            "linecolor": "white",
            "showbackground": true,
            "ticks": "",
            "zerolinecolor": "white"
           },
           "zaxis": {
            "backgroundcolor": "#E5ECF6",
            "gridcolor": "white",
            "gridwidth": 2,
            "linecolor": "white",
            "showbackground": true,
            "ticks": "",
            "zerolinecolor": "white"
           }
          },
          "shapedefaults": {
           "line": {
            "color": "#2a3f5f"
           }
          },
          "ternary": {
           "aaxis": {
            "gridcolor": "white",
            "linecolor": "white",
            "ticks": ""
           },
           "baxis": {
            "gridcolor": "white",
            "linecolor": "white",
            "ticks": ""
           },
           "bgcolor": "#E5ECF6",
           "caxis": {
            "gridcolor": "white",
            "linecolor": "white",
            "ticks": ""
           }
          },
          "title": {
           "x": 0.05
          },
          "xaxis": {
           "automargin": true,
           "gridcolor": "white",
           "linecolor": "white",
           "ticks": "",
           "title": {
            "standoff": 15
           },
           "zerolinecolor": "white",
           "zerolinewidth": 2
          },
          "yaxis": {
           "automargin": true,
           "gridcolor": "white",
           "linecolor": "white",
           "ticks": "",
           "title": {
            "standoff": 15
           },
           "zerolinecolor": "white",
           "zerolinewidth": 2
          }
         }
        },
        "title": {
         "text": "Género(Hombre, Mujer)"
        }
       }
      },
      "text/html": [
       "<div>\n",
       "        \n",
       "        \n",
       "            <div id=\"291760ec-b8a9-4d40-9d60-ca7b5b5f87a5\" class=\"plotly-graph-div\" style=\"height:525px; width:100%;\"></div>\n",
       "            <script type=\"text/javascript\">\n",
       "                require([\"plotly\"], function(Plotly) {\n",
       "                    window.PLOTLYENV=window.PLOTLYENV || {};\n",
       "                    \n",
       "                if (document.getElementById(\"291760ec-b8a9-4d40-9d60-ca7b5b5f87a5\")) {\n",
       "                    Plotly.newPlot(\n",
       "                        '291760ec-b8a9-4d40-9d60-ca7b5b5f87a5',\n",
       "                        [{\"labels\": [\"M\", \"F\"], \"pull\": [0.05, 0], \"type\": \"pie\", \"values\": [408, 309]}],\n",
       "                        {\"template\": {\"data\": {\"bar\": [{\"error_x\": {\"color\": \"#2a3f5f\"}, \"error_y\": {\"color\": \"#2a3f5f\"}, \"marker\": {\"line\": {\"color\": \"#E5ECF6\", \"width\": 0.5}}, \"type\": \"bar\"}], \"barpolar\": [{\"marker\": {\"line\": {\"color\": \"#E5ECF6\", \"width\": 0.5}}, \"type\": \"barpolar\"}], \"carpet\": [{\"aaxis\": {\"endlinecolor\": \"#2a3f5f\", \"gridcolor\": \"white\", \"linecolor\": \"white\", \"minorgridcolor\": \"white\", \"startlinecolor\": \"#2a3f5f\"}, \"baxis\": {\"endlinecolor\": \"#2a3f5f\", \"gridcolor\": \"white\", \"linecolor\": \"white\", \"minorgridcolor\": \"white\", \"startlinecolor\": \"#2a3f5f\"}, \"type\": \"carpet\"}], \"choropleth\": [{\"colorbar\": {\"outlinewidth\": 0, \"ticks\": \"\"}, \"type\": \"choropleth\"}], \"contour\": [{\"colorbar\": {\"outlinewidth\": 0, \"ticks\": \"\"}, \"colorscale\": [[0.0, \"#0d0887\"], [0.1111111111111111, \"#46039f\"], [0.2222222222222222, \"#7201a8\"], [0.3333333333333333, \"#9c179e\"], [0.4444444444444444, \"#bd3786\"], [0.5555555555555556, \"#d8576b\"], [0.6666666666666666, \"#ed7953\"], [0.7777777777777778, \"#fb9f3a\"], [0.8888888888888888, \"#fdca26\"], [1.0, \"#f0f921\"]], \"type\": \"contour\"}], \"contourcarpet\": [{\"colorbar\": {\"outlinewidth\": 0, \"ticks\": \"\"}, \"type\": \"contourcarpet\"}], \"heatmap\": [{\"colorbar\": {\"outlinewidth\": 0, \"ticks\": \"\"}, \"colorscale\": [[0.0, \"#0d0887\"], [0.1111111111111111, \"#46039f\"], [0.2222222222222222, \"#7201a8\"], [0.3333333333333333, \"#9c179e\"], [0.4444444444444444, \"#bd3786\"], [0.5555555555555556, \"#d8576b\"], [0.6666666666666666, \"#ed7953\"], [0.7777777777777778, \"#fb9f3a\"], [0.8888888888888888, \"#fdca26\"], [1.0, \"#f0f921\"]], \"type\": \"heatmap\"}], \"heatmapgl\": [{\"colorbar\": {\"outlinewidth\": 0, \"ticks\": \"\"}, \"colorscale\": [[0.0, \"#0d0887\"], [0.1111111111111111, \"#46039f\"], [0.2222222222222222, \"#7201a8\"], [0.3333333333333333, \"#9c179e\"], [0.4444444444444444, \"#bd3786\"], [0.5555555555555556, \"#d8576b\"], [0.6666666666666666, \"#ed7953\"], [0.7777777777777778, \"#fb9f3a\"], [0.8888888888888888, \"#fdca26\"], [1.0, \"#f0f921\"]], \"type\": \"heatmapgl\"}], \"histogram\": [{\"marker\": {\"colorbar\": {\"outlinewidth\": 0, \"ticks\": \"\"}}, \"type\": \"histogram\"}], \"histogram2d\": [{\"colorbar\": {\"outlinewidth\": 0, \"ticks\": \"\"}, \"colorscale\": [[0.0, \"#0d0887\"], [0.1111111111111111, \"#46039f\"], [0.2222222222222222, \"#7201a8\"], [0.3333333333333333, \"#9c179e\"], [0.4444444444444444, \"#bd3786\"], [0.5555555555555556, \"#d8576b\"], [0.6666666666666666, \"#ed7953\"], [0.7777777777777778, \"#fb9f3a\"], [0.8888888888888888, \"#fdca26\"], [1.0, \"#f0f921\"]], \"type\": \"histogram2d\"}], \"histogram2dcontour\": [{\"colorbar\": {\"outlinewidth\": 0, \"ticks\": \"\"}, \"colorscale\": [[0.0, \"#0d0887\"], [0.1111111111111111, \"#46039f\"], [0.2222222222222222, \"#7201a8\"], [0.3333333333333333, \"#9c179e\"], [0.4444444444444444, \"#bd3786\"], [0.5555555555555556, \"#d8576b\"], [0.6666666666666666, \"#ed7953\"], [0.7777777777777778, \"#fb9f3a\"], [0.8888888888888888, \"#fdca26\"], [1.0, \"#f0f921\"]], \"type\": \"histogram2dcontour\"}], \"mesh3d\": [{\"colorbar\": {\"outlinewidth\": 0, \"ticks\": \"\"}, \"type\": \"mesh3d\"}], \"parcoords\": [{\"line\": {\"colorbar\": {\"outlinewidth\": 0, \"ticks\": \"\"}}, \"type\": \"parcoords\"}], \"pie\": [{\"automargin\": true, \"type\": \"pie\"}], \"scatter\": [{\"marker\": {\"colorbar\": {\"outlinewidth\": 0, \"ticks\": \"\"}}, \"type\": \"scatter\"}], \"scatter3d\": [{\"line\": {\"colorbar\": {\"outlinewidth\": 0, \"ticks\": \"\"}}, \"marker\": {\"colorbar\": {\"outlinewidth\": 0, \"ticks\": \"\"}}, \"type\": \"scatter3d\"}], \"scattercarpet\": [{\"marker\": {\"colorbar\": {\"outlinewidth\": 0, \"ticks\": \"\"}}, \"type\": \"scattercarpet\"}], \"scattergeo\": [{\"marker\": {\"colorbar\": {\"outlinewidth\": 0, \"ticks\": \"\"}}, \"type\": \"scattergeo\"}], \"scattergl\": [{\"marker\": {\"colorbar\": {\"outlinewidth\": 0, \"ticks\": \"\"}}, \"type\": \"scattergl\"}], \"scattermapbox\": [{\"marker\": {\"colorbar\": {\"outlinewidth\": 0, \"ticks\": \"\"}}, \"type\": \"scattermapbox\"}], \"scatterpolar\": [{\"marker\": {\"colorbar\": {\"outlinewidth\": 0, \"ticks\": \"\"}}, \"type\": \"scatterpolar\"}], \"scatterpolargl\": [{\"marker\": {\"colorbar\": {\"outlinewidth\": 0, \"ticks\": \"\"}}, \"type\": \"scatterpolargl\"}], \"scatterternary\": [{\"marker\": {\"colorbar\": {\"outlinewidth\": 0, \"ticks\": \"\"}}, \"type\": \"scatterternary\"}], \"surface\": [{\"colorbar\": {\"outlinewidth\": 0, \"ticks\": \"\"}, \"colorscale\": [[0.0, \"#0d0887\"], [0.1111111111111111, \"#46039f\"], [0.2222222222222222, \"#7201a8\"], [0.3333333333333333, \"#9c179e\"], [0.4444444444444444, \"#bd3786\"], [0.5555555555555556, \"#d8576b\"], [0.6666666666666666, \"#ed7953\"], [0.7777777777777778, \"#fb9f3a\"], [0.8888888888888888, \"#fdca26\"], [1.0, \"#f0f921\"]], \"type\": \"surface\"}], \"table\": [{\"cells\": {\"fill\": {\"color\": \"#EBF0F8\"}, \"line\": {\"color\": \"white\"}}, \"header\": {\"fill\": {\"color\": \"#C8D4E3\"}, \"line\": {\"color\": \"white\"}}, \"type\": \"table\"}]}, \"layout\": {\"annotationdefaults\": {\"arrowcolor\": \"#2a3f5f\", \"arrowhead\": 0, \"arrowwidth\": 1}, \"coloraxis\": {\"colorbar\": {\"outlinewidth\": 0, \"ticks\": \"\"}}, \"colorscale\": {\"diverging\": [[0, \"#8e0152\"], [0.1, \"#c51b7d\"], [0.2, \"#de77ae\"], [0.3, \"#f1b6da\"], [0.4, \"#fde0ef\"], [0.5, \"#f7f7f7\"], [0.6, \"#e6f5d0\"], [0.7, \"#b8e186\"], [0.8, \"#7fbc41\"], [0.9, \"#4d9221\"], [1, \"#276419\"]], \"sequential\": [[0.0, \"#0d0887\"], [0.1111111111111111, \"#46039f\"], [0.2222222222222222, \"#7201a8\"], [0.3333333333333333, \"#9c179e\"], [0.4444444444444444, \"#bd3786\"], [0.5555555555555556, \"#d8576b\"], [0.6666666666666666, \"#ed7953\"], [0.7777777777777778, \"#fb9f3a\"], [0.8888888888888888, \"#fdca26\"], [1.0, \"#f0f921\"]], \"sequentialminus\": [[0.0, \"#0d0887\"], [0.1111111111111111, \"#46039f\"], [0.2222222222222222, \"#7201a8\"], [0.3333333333333333, \"#9c179e\"], [0.4444444444444444, \"#bd3786\"], [0.5555555555555556, \"#d8576b\"], [0.6666666666666666, \"#ed7953\"], [0.7777777777777778, \"#fb9f3a\"], [0.8888888888888888, \"#fdca26\"], [1.0, \"#f0f921\"]]}, \"colorway\": [\"#636efa\", \"#EF553B\", \"#00cc96\", \"#ab63fa\", \"#FFA15A\", \"#19d3f3\", \"#FF6692\", \"#B6E880\", \"#FF97FF\", \"#FECB52\"], \"font\": {\"color\": \"#2a3f5f\"}, \"geo\": {\"bgcolor\": \"white\", \"lakecolor\": \"white\", \"landcolor\": \"#E5ECF6\", \"showlakes\": true, \"showland\": true, \"subunitcolor\": \"white\"}, \"hoverlabel\": {\"align\": \"left\"}, \"hovermode\": \"closest\", \"mapbox\": {\"style\": \"light\"}, \"paper_bgcolor\": \"white\", \"plot_bgcolor\": \"#E5ECF6\", \"polar\": {\"angularaxis\": {\"gridcolor\": \"white\", \"linecolor\": \"white\", \"ticks\": \"\"}, \"bgcolor\": \"#E5ECF6\", \"radialaxis\": {\"gridcolor\": \"white\", \"linecolor\": \"white\", \"ticks\": \"\"}}, \"scene\": {\"xaxis\": {\"backgroundcolor\": \"#E5ECF6\", \"gridcolor\": \"white\", \"gridwidth\": 2, \"linecolor\": \"white\", \"showbackground\": true, \"ticks\": \"\", \"zerolinecolor\": \"white\"}, \"yaxis\": {\"backgroundcolor\": \"#E5ECF6\", \"gridcolor\": \"white\", \"gridwidth\": 2, \"linecolor\": \"white\", \"showbackground\": true, \"ticks\": \"\", \"zerolinecolor\": \"white\"}, \"zaxis\": {\"backgroundcolor\": \"#E5ECF6\", \"gridcolor\": \"white\", \"gridwidth\": 2, \"linecolor\": \"white\", \"showbackground\": true, \"ticks\": \"\", \"zerolinecolor\": \"white\"}}, \"shapedefaults\": {\"line\": {\"color\": \"#2a3f5f\"}}, \"ternary\": {\"aaxis\": {\"gridcolor\": \"white\", \"linecolor\": \"white\", \"ticks\": \"\"}, \"baxis\": {\"gridcolor\": \"white\", \"linecolor\": \"white\", \"ticks\": \"\"}, \"bgcolor\": \"#E5ECF6\", \"caxis\": {\"gridcolor\": \"white\", \"linecolor\": \"white\", \"ticks\": \"\"}}, \"title\": {\"x\": 0.05}, \"xaxis\": {\"automargin\": true, \"gridcolor\": \"white\", \"linecolor\": \"white\", \"ticks\": \"\", \"title\": {\"standoff\": 15}, \"zerolinecolor\": \"white\", \"zerolinewidth\": 2}, \"yaxis\": {\"automargin\": true, \"gridcolor\": \"white\", \"linecolor\": \"white\", \"ticks\": \"\", \"title\": {\"standoff\": 15}, \"zerolinecolor\": \"white\", \"zerolinewidth\": 2}}}, \"title\": {\"text\": \"G\\u00e9nero(Hombre, Mujer)\"}},\n",
       "                        {\"responsive\": true}\n",
       "                    ).then(function(){\n",
       "                            \n",
       "var gd = document.getElementById('291760ec-b8a9-4d40-9d60-ca7b5b5f87a5');\n",
       "var x = new MutationObserver(function (mutations, observer) {{\n",
       "        var display = window.getComputedStyle(gd).display;\n",
       "        if (!display || display === 'none') {{\n",
       "            console.log([gd, 'removed!']);\n",
       "            Plotly.purge(gd);\n",
       "            observer.disconnect();\n",
       "        }}\n",
       "}});\n",
       "\n",
       "// Listen for the removal of the full notebook cells\n",
       "var notebookContainer = gd.closest('#notebook-container');\n",
       "if (notebookContainer) {{\n",
       "    x.observe(notebookContainer, {childList: true});\n",
       "}}\n",
       "\n",
       "// Listen for the clearing of the current output cell\n",
       "var outputEl = gd.closest('.output');\n",
       "if (outputEl) {{\n",
       "    x.observe(outputEl, {childList: true});\n",
       "}}\n",
       "\n",
       "                        })\n",
       "                };\n",
       "                });\n",
       "            </script>\n",
       "        </div>"
      ]
     },
     "metadata": {},
     "output_type": "display_data"
    }
   ],
   "source": [
    "trace=go.Pie(labels=AnalisisFrecuenciaXGenero[col],values=AnalisisFrecuenciaXGenero['count'],pull=[0.05,0])\n",
    "layout={'title':'Género(Hombre, Mujer)'}\n",
    "fig=go.Figure(data=[trace],layout=layout)\n",
    "iplot(fig)"
   ]
  },
  {
   "cell_type": "code",
   "execution_count": 23,
   "metadata": {},
   "outputs": [
    {
     "data": {
      "image/png": "[encoded data removed]",
      "text/plain": [
       "<Figure size 9000x1500 with 1 Axes>"
      ]
     },
     "metadata": {},
     "output_type": "display_data"
    }
   ],
   "source": [
    "plt.figure(figsize=(90,15))\n",
    "plt.subplot(1,3,1)\n",
    "sns.distplot(df[\"Edad\"])\n",
    "plt.title('Distribución Edad')\n",
    "\n",
    "plt.show()"
   ]
  },
  {
   "cell_type": "code",
   "execution_count": 24,
   "metadata": {},
   "outputs": [],
   "source": [
    "x=df"
   ]
  },
  {
   "cell_type": "code",
   "execution_count": 25,
   "metadata": {},
   "outputs": [],
   "source": [
    "d1=x[x['Sexo']=='M']"
   ]
  },
  {
   "cell_type": "code",
   "execution_count": 26,
   "metadata": {},
   "outputs": [
    {
     "data": {
      "text/html": [
       "<div>\n",
       "<style scoped>\n",
       "    .dataframe tbody tr th:only-of-type {\n",
       "        vertical-align: middle;\n",
       "    }\n",
       "\n",
       "    .dataframe tbody tr th {\n",
       "        vertical-align: top;\n",
       "    }\n",
       "\n",
       "    .dataframe thead th {\n",
       "        text-align: right;\n",
       "    }\n",
       "</style>\n",
       "<table border=\"1\" class=\"dataframe\">\n",
       "  <thead>\n",
       "    <tr style=\"text-align: right;\">\n",
       "      <th></th>\n",
       "      <th>index</th>\n",
       "      <th>NumCaso</th>\n",
       "      <th>Estado</th>\n",
       "      <th>Sexo</th>\n",
       "      <th>Edad</th>\n",
       "      <th>Fecha_Diagnóstico</th>\n",
       "      <th>Identificación</th>\n",
       "      <th>Procedencia</th>\n",
       "      <th>Llegada_México</th>\n",
       "    </tr>\n",
       "  </thead>\n",
       "  <tbody>\n",
       "    <tr>\n",
       "      <td>0</td>\n",
       "      <td>302</td>\n",
       "      <td>303</td>\n",
       "      <td>MÉXICO</td>\n",
       "      <td>M</td>\n",
       "      <td>44</td>\n",
       "      <td>2020-02-19</td>\n",
       "      <td>confirmado</td>\n",
       "      <td>Italia</td>\n",
       "      <td>22/02/2020</td>\n",
       "    </tr>\n",
       "    <tr>\n",
       "      <td>1</td>\n",
       "      <td>5</td>\n",
       "      <td>6</td>\n",
       "      <td>MÉXICO</td>\n",
       "      <td>M</td>\n",
       "      <td>71</td>\n",
       "      <td>2020-02-21</td>\n",
       "      <td>confirmado</td>\n",
       "      <td>Italia</td>\n",
       "      <td>21/02/2020</td>\n",
       "    </tr>\n",
       "    <tr>\n",
       "      <td>2</td>\n",
       "      <td>0</td>\n",
       "      <td>1</td>\n",
       "      <td>CDMX</td>\n",
       "      <td>M</td>\n",
       "      <td>35</td>\n",
       "      <td>2020-02-22</td>\n",
       "      <td>confirmado</td>\n",
       "      <td>Italia</td>\n",
       "      <td>22/02/2020</td>\n",
       "    </tr>\n",
       "    <tr>\n",
       "      <td>3</td>\n",
       "      <td>1</td>\n",
       "      <td>2</td>\n",
       "      <td>SINALOA</td>\n",
       "      <td>M</td>\n",
       "      <td>41</td>\n",
       "      <td>2020-02-22</td>\n",
       "      <td>confirmado</td>\n",
       "      <td>Italia</td>\n",
       "      <td>21/02/2020</td>\n",
       "    </tr>\n",
       "    <tr>\n",
       "      <td>4</td>\n",
       "      <td>2</td>\n",
       "      <td>3</td>\n",
       "      <td>CDMX</td>\n",
       "      <td>M</td>\n",
       "      <td>59</td>\n",
       "      <td>2020-02-23</td>\n",
       "      <td>confirmado</td>\n",
       "      <td>Italia</td>\n",
       "      <td>22/02/2020</td>\n",
       "    </tr>\n",
       "    <tr>\n",
       "      <td>...</td>\n",
       "      <td>...</td>\n",
       "      <td>...</td>\n",
       "      <td>...</td>\n",
       "      <td>...</td>\n",
       "      <td>...</td>\n",
       "      <td>...</td>\n",
       "      <td>...</td>\n",
       "      <td>...</td>\n",
       "      <td>...</td>\n",
       "    </tr>\n",
       "    <tr>\n",
       "      <td>708</td>\n",
       "      <td>640</td>\n",
       "      <td>641</td>\n",
       "      <td>MÉXICO</td>\n",
       "      <td>M</td>\n",
       "      <td>41</td>\n",
       "      <td>2020-03-24</td>\n",
       "      <td>confirmado</td>\n",
       "      <td>Contacto</td>\n",
       "      <td>NaN</td>\n",
       "    </tr>\n",
       "    <tr>\n",
       "      <td>710</td>\n",
       "      <td>537</td>\n",
       "      <td>538</td>\n",
       "      <td>NAYARIT</td>\n",
       "      <td>M</td>\n",
       "      <td>53</td>\n",
       "      <td>2020-03-24</td>\n",
       "      <td>confirmado</td>\n",
       "      <td>Contacto</td>\n",
       "      <td>24/03/2020</td>\n",
       "    </tr>\n",
       "    <tr>\n",
       "      <td>711</td>\n",
       "      <td>707</td>\n",
       "      <td>708</td>\n",
       "      <td>BAJA_CALIFORNIA_SUR</td>\n",
       "      <td>M</td>\n",
       "      <td>73</td>\n",
       "      <td>2020-03-24</td>\n",
       "      <td>confirmado</td>\n",
       "      <td>Contacto</td>\n",
       "      <td>26/03/2020</td>\n",
       "    </tr>\n",
       "    <tr>\n",
       "      <td>713</td>\n",
       "      <td>688</td>\n",
       "      <td>689</td>\n",
       "      <td>JALISCO</td>\n",
       "      <td>M</td>\n",
       "      <td>64</td>\n",
       "      <td>2020-03-24</td>\n",
       "      <td>confirmado</td>\n",
       "      <td>Contacto</td>\n",
       "      <td>NaN</td>\n",
       "    </tr>\n",
       "    <tr>\n",
       "      <td>716</td>\n",
       "      <td>548</td>\n",
       "      <td>549</td>\n",
       "      <td>QUINTANA_ROO</td>\n",
       "      <td>M</td>\n",
       "      <td>75</td>\n",
       "      <td>2020-03-25</td>\n",
       "      <td>confirmado</td>\n",
       "      <td>Contacto</td>\n",
       "      <td>20/03/2020</td>\n",
       "    </tr>\n",
       "  </tbody>\n",
       "</table>\n",
       "<p>408 rows × 9 columns</p>\n",
       "</div>"
      ],
      "text/plain": [
       "     index  NumCaso               Estado Sexo  Edad Fecha_Diagnóstico  \\\n",
       "0      302      303               MÉXICO    M    44        2020-02-19   \n",
       "1        5        6               MÉXICO    M    71        2020-02-21   \n",
       "2        0        1                 CDMX    M    35        2020-02-22   \n",
       "3        1        2              SINALOA    M    41        2020-02-22   \n",
       "4        2        3                 CDMX    M    59        2020-02-23   \n",
       "..     ...      ...                  ...  ...   ...               ...   \n",
       "708    640      641               MÉXICO    M    41        2020-03-24   \n",
       "710    537      538              NAYARIT    M    53        2020-03-24   \n",
       "711    707      708  BAJA_CALIFORNIA_SUR    M    73        2020-03-24   \n",
       "713    688      689              JALISCO    M    64        2020-03-24   \n",
       "716    548      549         QUINTANA_ROO    M    75        2020-03-25   \n",
       "\n",
       "    Identificación Procedencia Llegada_México  \n",
       "0       confirmado      Italia     22/02/2020  \n",
       "1       confirmado      Italia     21/02/2020  \n",
       "2       confirmado      Italia     22/02/2020  \n",
       "3       confirmado      Italia     21/02/2020  \n",
       "4       confirmado      Italia     22/02/2020  \n",
       "..             ...         ...            ...  \n",
       "708     confirmado    Contacto            NaN  \n",
       "710     confirmado    Contacto     24/03/2020  \n",
       "711     confirmado    Contacto     26/03/2020  \n",
       "713     confirmado    Contacto            NaN  \n",
       "716     confirmado    Contacto     20/03/2020  \n",
       "\n",
       "[408 rows x 9 columns]"
      ]
     },
     "execution_count": 26,
     "metadata": {},
     "output_type": "execute_result"
    }
   ],
   "source": [
    "d1"
   ]
  },
  {
   "cell_type": "code",
   "execution_count": 27,
   "metadata": {},
   "outputs": [],
   "source": [
    "d2=x[x['Sexo']=='F']"
   ]
  },
  {
   "cell_type": "code",
   "execution_count": 28,
   "metadata": {},
   "outputs": [
    {
     "data": {
      "text/html": [
       "<div>\n",
       "<style scoped>\n",
       "    .dataframe tbody tr th:only-of-type {\n",
       "        vertical-align: middle;\n",
       "    }\n",
       "\n",
       "    .dataframe tbody tr th {\n",
       "        vertical-align: top;\n",
       "    }\n",
       "\n",
       "    .dataframe thead th {\n",
       "        text-align: right;\n",
       "    }\n",
       "</style>\n",
       "<table border=\"1\" class=\"dataframe\">\n",
       "  <thead>\n",
       "    <tr style=\"text-align: right;\">\n",
       "      <th></th>\n",
       "      <th>index</th>\n",
       "      <th>NumCaso</th>\n",
       "      <th>Estado</th>\n",
       "      <th>Sexo</th>\n",
       "      <th>Edad</th>\n",
       "      <th>Fecha_Diagnóstico</th>\n",
       "      <th>Identificación</th>\n",
       "      <th>Procedencia</th>\n",
       "      <th>Llegada_México</th>\n",
       "    </tr>\n",
       "  </thead>\n",
       "  <tbody>\n",
       "    <tr>\n",
       "      <td>5</td>\n",
       "      <td>4</td>\n",
       "      <td>5</td>\n",
       "      <td>CHIAPAS</td>\n",
       "      <td>F</td>\n",
       "      <td>18</td>\n",
       "      <td>2020-02-25</td>\n",
       "      <td>confirmado</td>\n",
       "      <td>Italia</td>\n",
       "      <td>25/02/2020</td>\n",
       "    </tr>\n",
       "    <tr>\n",
       "      <td>6</td>\n",
       "      <td>3</td>\n",
       "      <td>4</td>\n",
       "      <td>COAHUILA</td>\n",
       "      <td>F</td>\n",
       "      <td>20</td>\n",
       "      <td>2020-02-27</td>\n",
       "      <td>confirmado</td>\n",
       "      <td>Italia</td>\n",
       "      <td>25/02/2020</td>\n",
       "    </tr>\n",
       "    <tr>\n",
       "      <td>8</td>\n",
       "      <td>25</td>\n",
       "      <td>26</td>\n",
       "      <td>QUINTANA_ROO</td>\n",
       "      <td>F</td>\n",
       "      <td>71</td>\n",
       "      <td>2020-03-01</td>\n",
       "      <td>confirmado</td>\n",
       "      <td>Italia</td>\n",
       "      <td>01/03/2020</td>\n",
       "    </tr>\n",
       "    <tr>\n",
       "      <td>9</td>\n",
       "      <td>659</td>\n",
       "      <td>660</td>\n",
       "      <td>CDMX</td>\n",
       "      <td>F</td>\n",
       "      <td>50</td>\n",
       "      <td>2020-03-01</td>\n",
       "      <td>confirmado</td>\n",
       "      <td>EUA</td>\n",
       "      <td>08/03/2020</td>\n",
       "    </tr>\n",
       "    <tr>\n",
       "      <td>10</td>\n",
       "      <td>32</td>\n",
       "      <td>33</td>\n",
       "      <td>JALISCO</td>\n",
       "      <td>F</td>\n",
       "      <td>64</td>\n",
       "      <td>2020-03-01</td>\n",
       "      <td>confirmado</td>\n",
       "      <td>Alemania</td>\n",
       "      <td>09/03/2020</td>\n",
       "    </tr>\n",
       "    <tr>\n",
       "      <td>...</td>\n",
       "      <td>...</td>\n",
       "      <td>...</td>\n",
       "      <td>...</td>\n",
       "      <td>...</td>\n",
       "      <td>...</td>\n",
       "      <td>...</td>\n",
       "      <td>...</td>\n",
       "      <td>...</td>\n",
       "      <td>...</td>\n",
       "    </tr>\n",
       "    <tr>\n",
       "      <td>707</td>\n",
       "      <td>443</td>\n",
       "      <td>444</td>\n",
       "      <td>GUERRERO</td>\n",
       "      <td>F</td>\n",
       "      <td>82</td>\n",
       "      <td>2020-03-23</td>\n",
       "      <td>confirmado</td>\n",
       "      <td>España</td>\n",
       "      <td>13/03/2020</td>\n",
       "    </tr>\n",
       "    <tr>\n",
       "      <td>709</td>\n",
       "      <td>601</td>\n",
       "      <td>602</td>\n",
       "      <td>TABASCO</td>\n",
       "      <td>F</td>\n",
       "      <td>29</td>\n",
       "      <td>2020-03-24</td>\n",
       "      <td>confirmado</td>\n",
       "      <td>España</td>\n",
       "      <td>18/03/2020</td>\n",
       "    </tr>\n",
       "    <tr>\n",
       "      <td>712</td>\n",
       "      <td>617</td>\n",
       "      <td>618</td>\n",
       "      <td>MÉXICO</td>\n",
       "      <td>F</td>\n",
       "      <td>22</td>\n",
       "      <td>2020-03-24</td>\n",
       "      <td>confirmado</td>\n",
       "      <td>Contacto</td>\n",
       "      <td>NaN</td>\n",
       "    </tr>\n",
       "    <tr>\n",
       "      <td>714</td>\n",
       "      <td>695</td>\n",
       "      <td>696</td>\n",
       "      <td>AGUASCALIENTES</td>\n",
       "      <td>F</td>\n",
       "      <td>37</td>\n",
       "      <td>2020-03-25</td>\n",
       "      <td>confirmado</td>\n",
       "      <td>Contacto</td>\n",
       "      <td>NaN</td>\n",
       "    </tr>\n",
       "    <tr>\n",
       "      <td>715</td>\n",
       "      <td>693</td>\n",
       "      <td>694</td>\n",
       "      <td>AGUASCALIENTES</td>\n",
       "      <td>F</td>\n",
       "      <td>5</td>\n",
       "      <td>2020-03-25</td>\n",
       "      <td>confirmado</td>\n",
       "      <td>Contacto</td>\n",
       "      <td>25/03/2020</td>\n",
       "    </tr>\n",
       "  </tbody>\n",
       "</table>\n",
       "<p>309 rows × 9 columns</p>\n",
       "</div>"
      ],
      "text/plain": [
       "     index  NumCaso          Estado Sexo  Edad Fecha_Diagnóstico  \\\n",
       "5        4        5         CHIAPAS    F    18        2020-02-25   \n",
       "6        3        4        COAHUILA    F    20        2020-02-27   \n",
       "8       25       26    QUINTANA_ROO    F    71        2020-03-01   \n",
       "9      659      660            CDMX    F    50        2020-03-01   \n",
       "10      32       33         JALISCO    F    64        2020-03-01   \n",
       "..     ...      ...             ...  ...   ...               ...   \n",
       "707    443      444        GUERRERO    F    82        2020-03-23   \n",
       "709    601      602         TABASCO    F    29        2020-03-24   \n",
       "712    617      618          MÉXICO    F    22        2020-03-24   \n",
       "714    695      696  AGUASCALIENTES    F    37        2020-03-25   \n",
       "715    693      694  AGUASCALIENTES    F     5        2020-03-25   \n",
       "\n",
       "    Identificación Procedencia Llegada_México  \n",
       "5       confirmado      Italia     25/02/2020  \n",
       "6       confirmado      Italia     25/02/2020  \n",
       "8       confirmado      Italia     01/03/2020  \n",
       "9       confirmado         EUA     08/03/2020  \n",
       "10      confirmado    Alemania     09/03/2020  \n",
       "..             ...         ...            ...  \n",
       "707     confirmado      España     13/03/2020  \n",
       "709     confirmado      España     18/03/2020  \n",
       "712     confirmado    Contacto            NaN  \n",
       "714     confirmado    Contacto            NaN  \n",
       "715     confirmado    Contacto     25/03/2020  \n",
       "\n",
       "[309 rows x 9 columns]"
      ]
     },
     "execution_count": 28,
     "metadata": {},
     "output_type": "execute_result"
    }
   ],
   "source": [
    "d2"
   ]
  },
  {
   "cell_type": "code",
   "execution_count": 29,
   "metadata": {},
   "outputs": [
    {
     "data": {
      "application/vnd.plotly.v1+json": {
       "config": {
        "linkText": "Export to plot.ly",
        "plotlyServerURL": "https://plot.ly",
        "showLink": false
       },
       "data": [
        {
         "marker": {
          "color": "rgb(63, 72, 204)"
         },
         "name": "0",
         "type": "bar",
         "x": [
          0,
          5,
          10,
          11,
          12,
          13,
          16,
          17,
          18,
          19,
          20,
          21,
          22,
          23,
          24,
          25,
          26,
          27,
          28,
          29,
          30,
          31,
          32,
          33,
          34,
          35,
          36,
          37,
          38,
          39,
          40,
          41,
          42,
          43,
          44,
          45,
          46,
          47,
          48,
          49,
          50,
          51,
          52,
          53,
          54,
          55,
          56,
          57,
          58,
          59,
          60,
          61,
          62,
          63,
          64,
          65,
          66,
          67,
          68,
          69,
          70,
          71,
          72,
          73,
          74,
          75,
          76,
          77,
          79,
          80,
          82,
          88
         ],
         "y": [
          1,
          1,
          1,
          1,
          1,
          1,
          3,
          3,
          6,
          14,
          11,
          17,
          11,
          10,
          14,
          14,
          13,
          18,
          15,
          17,
          21,
          21,
          16,
          15,
          12,
          18,
          11,
          17,
          18,
          12,
          14,
          15,
          22,
          11,
          13,
          13,
          15,
          18,
          13,
          16,
          13,
          13,
          11,
          14,
          9,
          11,
          12,
          10,
          11,
          11,
          11,
          8,
          8,
          8,
          11,
          7,
          6,
          5,
          4,
          3,
          4,
          7,
          9,
          4,
          5,
          4,
          5,
          3,
          2,
          3,
          1,
          1
         ]
        }
       ],
       "layout": {
        "template": {
         "data": {
          "pie": [
           {
            "automargin": true,
            "type": "pie"
           }
          ],
          "scatter": [
           {
            "line": {
             "width": 3
            },
            "marker": {
             "size": 9
            },
            "type": "scatter"
           }
          ],
          "scatter3d": [
           {
            "line": {
             "width": 3
            },
            "marker": {
             "size": 9
            },
            "type": "scatter3d"
           }
          ],
          "scattergeo": [
           {
            "line": {
             "width": 3
            },
            "marker": {
             "size": 9
            },
            "type": "scattergeo"
           }
          ],
          "scattergl": [
           {
            "line": {
             "width": 3
            },
            "marker": {
             "size": 9
            },
            "type": "scattergl"
           }
          ],
          "scatterpolar": [
           {
            "line": {
             "width": 3
            },
            "marker": {
             "size": 9
            },
            "type": "scatterpolar"
           }
          ],
          "scatterpolargl": [
           {
            "line": {
             "width": 3
            },
            "marker": {
             "size": 9
            },
            "type": "scatterpolargl"
           }
          ],
          "scatterternary": [
           {
            "line": {
             "width": 3
            },
            "marker": {
             "size": 9
            },
            "type": "scatterternary"
           }
          ],
          "table": [
           {
            "cells": {
             "height": 30
            },
            "header": {
             "height": 36
            },
            "type": "table"
           }
          ]
         },
         "layout": {
          "font": {
           "size": 18
          },
          "xaxis": {
           "title": {
            "standoff": 15
           }
          },
          "yaxis": {
           "title": {
            "standoff": 15
           }
          }
         }
        },
        "title": {
         "text": "Distribución X Edad "
        },
        "xaxis": {
         "title": {
          "text": "Edad"
         }
        },
        "yaxis": {
         "title": {
          "text": "Frecuencia"
         }
        }
       }
      },
      "text/html": [
       "<div>\n",
       "        \n",
       "        \n",
       "            <div id=\"e19331ee-62f5-4cbc-83a7-0873debfafc0\" class=\"plotly-graph-div\" style=\"height:525px; width:100%;\"></div>\n",
       "            <script type=\"text/javascript\">\n",
       "                require([\"plotly\"], function(Plotly) {\n",
       "                    window.PLOTLYENV=window.PLOTLYENV || {};\n",
       "                    \n",
       "                if (document.getElementById(\"e19331ee-62f5-4cbc-83a7-0873debfafc0\")) {\n",
       "                    Plotly.newPlot(\n",
       "                        'e19331ee-62f5-4cbc-83a7-0873debfafc0',\n",
       "                        [{\"marker\": {\"color\": \"rgb(63, 72, 204)\"}, \"name\": \"0\", \"type\": \"bar\", \"x\": [0, 5, 10, 11, 12, 13, 16, 17, 18, 19, 20, 21, 22, 23, 24, 25, 26, 27, 28, 29, 30, 31, 32, 33, 34, 35, 36, 37, 38, 39, 40, 41, 42, 43, 44, 45, 46, 47, 48, 49, 50, 51, 52, 53, 54, 55, 56, 57, 58, 59, 60, 61, 62, 63, 64, 65, 66, 67, 68, 69, 70, 71, 72, 73, 74, 75, 76, 77, 79, 80, 82, 88], \"y\": [1, 1, 1, 1, 1, 1, 3, 3, 6, 14, 11, 17, 11, 10, 14, 14, 13, 18, 15, 17, 21, 21, 16, 15, 12, 18, 11, 17, 18, 12, 14, 15, 22, 11, 13, 13, 15, 18, 13, 16, 13, 13, 11, 14, 9, 11, 12, 10, 11, 11, 11, 8, 8, 8, 11, 7, 6, 5, 4, 3, 4, 7, 9, 4, 5, 4, 5, 3, 2, 3, 1, 1]}],\n",
       "                        {\"template\": {\"data\": {\"pie\": [{\"automargin\": true, \"type\": \"pie\"}], \"scatter\": [{\"line\": {\"width\": 3}, \"marker\": {\"size\": 9}, \"type\": \"scatter\"}], \"scatter3d\": [{\"line\": {\"width\": 3}, \"marker\": {\"size\": 9}, \"type\": \"scatter3d\"}], \"scattergeo\": [{\"line\": {\"width\": 3}, \"marker\": {\"size\": 9}, \"type\": \"scattergeo\"}], \"scattergl\": [{\"line\": {\"width\": 3}, \"marker\": {\"size\": 9}, \"type\": \"scattergl\"}], \"scatterpolar\": [{\"line\": {\"width\": 3}, \"marker\": {\"size\": 9}, \"type\": \"scatterpolar\"}], \"scatterpolargl\": [{\"line\": {\"width\": 3}, \"marker\": {\"size\": 9}, \"type\": \"scatterpolargl\"}], \"scatterternary\": [{\"line\": {\"width\": 3}, \"marker\": {\"size\": 9}, \"type\": \"scatterternary\"}], \"table\": [{\"cells\": {\"height\": 30}, \"header\": {\"height\": 36}, \"type\": \"table\"}]}, \"layout\": {\"font\": {\"size\": 18}, \"xaxis\": {\"title\": {\"standoff\": 15}}, \"yaxis\": {\"title\": {\"standoff\": 15}}}}, \"title\": {\"text\": \"Distribuci\\u00f3n X Edad \"}, \"xaxis\": {\"title\": {\"text\": \"Edad\"}}, \"yaxis\": {\"title\": {\"text\": \"Frecuencia\"}}},\n",
       "                        {\"responsive\": true}\n",
       "                    ).then(function(){\n",
       "                            \n",
       "var gd = document.getElementById('e19331ee-62f5-4cbc-83a7-0873debfafc0');\n",
       "var x = new MutationObserver(function (mutations, observer) {{\n",
       "        var display = window.getComputedStyle(gd).display;\n",
       "        if (!display || display === 'none') {{\n",
       "            console.log([gd, 'removed!']);\n",
       "            Plotly.purge(gd);\n",
       "            observer.disconnect();\n",
       "        }}\n",
       "}});\n",
       "\n",
       "// Listen for the removal of the full notebook cells\n",
       "var notebookContainer = gd.closest('#notebook-container');\n",
       "if (notebookContainer) {{\n",
       "    x.observe(notebookContainer, {childList: true});\n",
       "}}\n",
       "\n",
       "// Listen for the clearing of the current output cell\n",
       "var outputEl = gd.closest('.output');\n",
       "if (outputEl) {{\n",
       "    x.observe(outputEl, {childList: true});\n",
       "}}\n",
       "\n",
       "                        })\n",
       "                };\n",
       "                });\n",
       "            </script>\n",
       "        </div>"
      ]
     },
     "metadata": {},
     "output_type": "display_data"
    }
   ],
   "source": [
    "x=df\n",
    "col='Edad'\n",
    "v1=x[col].value_counts().reset_index()\n",
    "v1=v1.rename(columns={col:'count','index':col})\n",
    "v1['percent']=v1['count'].apply(lambda x: 100 *x/sum(v1['count']))\n",
    "v1=v1.sort_values(col)\n",
    "trace1=go.Bar(x=v1[col],y=v1[\"count\"],name=\"0\",marker=dict(color=\"rgb(63, 72, 204)\"))\n",
    "y=[trace1]\n",
    "layout={'title':\"Distribución X Edad \",'xaxis':{'title':\"Edad\"},'yaxis':{'title':\"Frecuencia\"}}\n",
    "fig=go.Figure(data=y,layout=layout)\n",
    "fig.layout.template='presentation'\n",
    "iplot(fig)"
   ]
  },
  {
   "cell_type": "code",
   "execution_count": 30,
   "metadata": {},
   "outputs": [
    {
     "data": {
      "application/vnd.plotly.v1+json": {
       "config": {
        "linkText": "Export to plot.ly",
        "plotlyServerURL": "https://plot.ly",
        "showLink": false
       },
       "data": [
        {
         "marker": {
          "color": "#ff7f0e"
         },
         "name": "Hombre",
         "type": "scatter",
         "x": [
          0,
          10,
          11,
          16,
          17,
          18,
          19,
          20,
          21,
          22,
          23,
          24,
          25,
          26,
          27,
          28,
          29,
          30,
          31,
          32,
          33,
          34,
          35,
          36,
          37,
          38,
          39,
          40,
          41,
          42,
          43,
          44,
          45,
          46,
          47,
          48,
          49,
          50,
          51,
          52,
          53,
          54,
          55,
          56,
          57,
          58,
          59,
          60,
          61,
          62,
          63,
          64,
          65,
          66,
          67,
          68,
          69,
          70,
          71,
          72,
          73,
          74,
          75,
          76,
          77,
          79,
          80
         ],
         "y": [
          1,
          1,
          1,
          1,
          2,
          1,
          5,
          4,
          11,
          3,
          4,
          8,
          10,
          6,
          9,
          10,
          9,
          10,
          13,
          9,
          5,
          6,
          10,
          7,
          12,
          11,
          9,
          8,
          10,
          19,
          7,
          11,
          9,
          13,
          9,
          5,
          5,
          5,
          12,
          5,
          9,
          3,
          7,
          7,
          3,
          9,
          5,
          6,
          5,
          2,
          4,
          7,
          3,
          1,
          4,
          1,
          1,
          3,
          5,
          9,
          3,
          2,
          3,
          4,
          3,
          1,
          2
         ]
        },
        {
         "marker": {
          "color": "#a678de"
         },
         "name": "Mujer",
         "type": "scatter",
         "x": [
          5,
          12,
          13,
          16,
          17,
          18,
          19,
          20,
          21,
          22,
          23,
          24,
          25,
          26,
          27,
          28,
          29,
          30,
          31,
          32,
          33,
          34,
          35,
          36,
          37,
          38,
          39,
          40,
          41,
          42,
          43,
          44,
          45,
          46,
          47,
          48,
          49,
          50,
          51,
          52,
          53,
          54,
          55,
          56,
          57,
          58,
          59,
          60,
          61,
          62,
          63,
          64,
          65,
          66,
          67,
          68,
          69,
          70,
          71,
          73,
          74,
          75,
          76,
          79,
          80,
          82,
          88
         ],
         "y": [
          1,
          1,
          1,
          2,
          1,
          5,
          9,
          7,
          6,
          8,
          6,
          6,
          4,
          7,
          9,
          5,
          8,
          11,
          8,
          7,
          10,
          6,
          8,
          4,
          5,
          7,
          3,
          6,
          5,
          3,
          4,
          2,
          4,
          2,
          9,
          8,
          11,
          8,
          1,
          6,
          5,
          6,
          4,
          5,
          7,
          2,
          6,
          5,
          3,
          6,
          4,
          4,
          4,
          5,
          1,
          3,
          2,
          1,
          2,
          1,
          3,
          1,
          1,
          1,
          1,
          1,
          1
         ]
        }
       ],
       "layout": {
        "template": {
         "data": {
          "pie": [
           {
            "automargin": true,
            "type": "pie"
           }
          ],
          "scatter": [
           {
            "line": {
             "width": 3
            },
            "marker": {
             "size": 9
            },
            "type": "scatter"
           }
          ],
          "scatter3d": [
           {
            "line": {
             "width": 3
            },
            "marker": {
             "size": 9
            },
            "type": "scatter3d"
           }
          ],
          "scattergeo": [
           {
            "line": {
             "width": 3
            },
            "marker": {
             "size": 9
            },
            "type": "scattergeo"
           }
          ],
          "scattergl": [
           {
            "line": {
             "width": 3
            },
            "marker": {
             "size": 9
            },
            "type": "scattergl"
           }
          ],
          "scatterpolar": [
           {
            "line": {
             "width": 3
            },
            "marker": {
             "size": 9
            },
            "type": "scatterpolar"
           }
          ],
          "scatterpolargl": [
           {
            "line": {
             "width": 3
            },
            "marker": {
             "size": 9
            },
            "type": "scatterpolargl"
           }
          ],
          "scatterternary": [
           {
            "line": {
             "width": 3
            },
            "marker": {
             "size": 9
            },
            "type": "scatterternary"
           }
          ],
          "table": [
           {
            "cells": {
             "height": 30
            },
            "header": {
             "height": 36
            },
            "type": "table"
           }
          ]
         },
         "layout": {
          "font": {
           "size": 18
          },
          "xaxis": {
           "title": {
            "standoff": 15
           }
          },
          "yaxis": {
           "title": {
            "standoff": 15
           }
          }
         }
        },
        "title": {
         "text": "Comparación X Edad [[ Hombre vs Mujer ]] "
        },
        "xaxis": {
         "title": {
          "text": "Edad"
         }
        },
        "yaxis": {
         "title": {
          "text": "Frecuencia"
         }
        }
       }
      },
      "text/html": [
       "<div>\n",
       "        \n",
       "        \n",
       "            <div id=\"d4ac581d-dd6f-457c-a475-7fa8161b713c\" class=\"plotly-graph-div\" style=\"height:525px; width:100%;\"></div>\n",
       "            <script type=\"text/javascript\">\n",
       "                require([\"plotly\"], function(Plotly) {\n",
       "                    window.PLOTLYENV=window.PLOTLYENV || {};\n",
       "                    \n",
       "                if (document.getElementById(\"d4ac581d-dd6f-457c-a475-7fa8161b713c\")) {\n",
       "                    Plotly.newPlot(\n",
       "                        'd4ac581d-dd6f-457c-a475-7fa8161b713c',\n",
       "                        [{\"marker\": {\"color\": \"#ff7f0e\"}, \"name\": \"Hombre\", \"type\": \"scatter\", \"x\": [0, 10, 11, 16, 17, 18, 19, 20, 21, 22, 23, 24, 25, 26, 27, 28, 29, 30, 31, 32, 33, 34, 35, 36, 37, 38, 39, 40, 41, 42, 43, 44, 45, 46, 47, 48, 49, 50, 51, 52, 53, 54, 55, 56, 57, 58, 59, 60, 61, 62, 63, 64, 65, 66, 67, 68, 69, 70, 71, 72, 73, 74, 75, 76, 77, 79, 80], \"y\": [1, 1, 1, 1, 2, 1, 5, 4, 11, 3, 4, 8, 10, 6, 9, 10, 9, 10, 13, 9, 5, 6, 10, 7, 12, 11, 9, 8, 10, 19, 7, 11, 9, 13, 9, 5, 5, 5, 12, 5, 9, 3, 7, 7, 3, 9, 5, 6, 5, 2, 4, 7, 3, 1, 4, 1, 1, 3, 5, 9, 3, 2, 3, 4, 3, 1, 2]}, {\"marker\": {\"color\": \"#a678de\"}, \"name\": \"Mujer\", \"type\": \"scatter\", \"x\": [5, 12, 13, 16, 17, 18, 19, 20, 21, 22, 23, 24, 25, 26, 27, 28, 29, 30, 31, 32, 33, 34, 35, 36, 37, 38, 39, 40, 41, 42, 43, 44, 45, 46, 47, 48, 49, 50, 51, 52, 53, 54, 55, 56, 57, 58, 59, 60, 61, 62, 63, 64, 65, 66, 67, 68, 69, 70, 71, 73, 74, 75, 76, 79, 80, 82, 88], \"y\": [1, 1, 1, 2, 1, 5, 9, 7, 6, 8, 6, 6, 4, 7, 9, 5, 8, 11, 8, 7, 10, 6, 8, 4, 5, 7, 3, 6, 5, 3, 4, 2, 4, 2, 9, 8, 11, 8, 1, 6, 5, 6, 4, 5, 7, 2, 6, 5, 3, 6, 4, 4, 4, 5, 1, 3, 2, 1, 2, 1, 3, 1, 1, 1, 1, 1, 1]}],\n",
       "                        {\"template\": {\"data\": {\"pie\": [{\"automargin\": true, \"type\": \"pie\"}], \"scatter\": [{\"line\": {\"width\": 3}, \"marker\": {\"size\": 9}, \"type\": \"scatter\"}], \"scatter3d\": [{\"line\": {\"width\": 3}, \"marker\": {\"size\": 9}, \"type\": \"scatter3d\"}], \"scattergeo\": [{\"line\": {\"width\": 3}, \"marker\": {\"size\": 9}, \"type\": \"scattergeo\"}], \"scattergl\": [{\"line\": {\"width\": 3}, \"marker\": {\"size\": 9}, \"type\": \"scattergl\"}], \"scatterpolar\": [{\"line\": {\"width\": 3}, \"marker\": {\"size\": 9}, \"type\": \"scatterpolar\"}], \"scatterpolargl\": [{\"line\": {\"width\": 3}, \"marker\": {\"size\": 9}, \"type\": \"scatterpolargl\"}], \"scatterternary\": [{\"line\": {\"width\": 3}, \"marker\": {\"size\": 9}, \"type\": \"scatterternary\"}], \"table\": [{\"cells\": {\"height\": 30}, \"header\": {\"height\": 36}, \"type\": \"table\"}]}, \"layout\": {\"font\": {\"size\": 18}, \"xaxis\": {\"title\": {\"standoff\": 15}}, \"yaxis\": {\"title\": {\"standoff\": 15}}}}, \"title\": {\"text\": \"Comparaci\\u00f3n X Edad [[ Hombre vs Mujer ]] \"}, \"xaxis\": {\"title\": {\"text\": \"Edad\"}}, \"yaxis\": {\"title\": {\"text\": \"Frecuencia\"}}},\n",
       "                        {\"responsive\": true}\n",
       "                    ).then(function(){\n",
       "                            \n",
       "var gd = document.getElementById('d4ac581d-dd6f-457c-a475-7fa8161b713c');\n",
       "var x = new MutationObserver(function (mutations, observer) {{\n",
       "        var display = window.getComputedStyle(gd).display;\n",
       "        if (!display || display === 'none') {{\n",
       "            console.log([gd, 'removed!']);\n",
       "            Plotly.purge(gd);\n",
       "            observer.disconnect();\n",
       "        }}\n",
       "}});\n",
       "\n",
       "// Listen for the removal of the full notebook cells\n",
       "var notebookContainer = gd.closest('#notebook-container');\n",
       "if (notebookContainer) {{\n",
       "    x.observe(notebookContainer, {childList: true});\n",
       "}}\n",
       "\n",
       "// Listen for the clearing of the current output cell\n",
       "var outputEl = gd.closest('.output');\n",
       "if (outputEl) {{\n",
       "    x.observe(outputEl, {childList: true});\n",
       "}}\n",
       "\n",
       "                        })\n",
       "                };\n",
       "                });\n",
       "            </script>\n",
       "        </div>"
      ]
     },
     "metadata": {},
     "output_type": "display_data"
    }
   ],
   "source": [
    "col='Edad'\n",
    "\n",
    "\n",
    "v1=d1[col].value_counts().reset_index()\n",
    "v1=v1.rename(columns={col:'count','index':col})\n",
    "v1['percent']=v1['count'].apply(lambda x:100*x/sum(v1['count']))\n",
    "v1=v1.sort_values(col)\n",
    "v2=d2[col].value_counts().reset_index()\n",
    "v2=v2.rename(columns={col:'count','index':col})\n",
    "v2['percent']=v2['count'].apply(lambda x:100*x/sum(v2['count']))\n",
    "v2=v2.sort_values(col)\n",
    "trace1=go.Scatter(x = v1[col], y = v1[\"count\"],name=\"Hombre\",marker=dict(color=\"#ff7f0e\"))\n",
    "trace2= go.Scatter(x = v2[col],y = v2[\"count\"], name = \"Mujer\", marker = dict(color='#a678de'))\n",
    "y = [trace1, trace2]\n",
    "layout={'title':\"Comparación X Edad [[ Hombre vs Mujer ]] \",'xaxis':{'title':\"Edad\"},'yaxis':{'title':\"Frecuencia\"}}\n",
    "fig=go.Figure(data = y, layout = layout)\n",
    "fig.layout.template='presentation'\n",
    "iplot(fig)"
   ]
  },
  {
   "cell_type": "code",
   "execution_count": 31,
   "metadata": {},
   "outputs": [
    {
     "data": {
      "application/vnd.plotly.v1+json": {
       "config": {
        "linkText": "Export to plot.ly",
        "plotlyServerURL": "https://plot.ly",
        "showLink": false
       },
       "data": [
        {
         "marker": {
          "color": "#e377c2"
         },
         "name": "0",
         "type": "bar",
         "x": [
          "AGUASCALIENTES",
          "BAJA_CALIFORNIA",
          "BAJA_CALIFORNIA_SUR",
          "CAMPECHE",
          "CDMX",
          "CHIAPAS",
          "CHIHUAHUA",
          "COAHUILA",
          "COLIMA",
          "DURANGO",
          "GUANAJUATO",
          "GUERRERO",
          "HIDALGO",
          "JALISCO",
          "MICHOACÁN",
          "MORELOS",
          "MÉXICO",
          "NAYARIT",
          "NUEVO_LEÓN",
          "OAXACA",
          "PUEBLA",
          "QUERETARO",
          "QUINTANA_ROO",
          "SAN_LUIS_POTOSÍ",
          "SINALOA",
          "SONORA",
          "TABASCO",
          "TAMAULIPAS",
          "TLAXCALA",
          "VERACRUZ",
          "YUCATÁN",
          "ZACATECAS"
         ],
         "y": [
          19,
          20,
          9,
          2,
          107,
          7,
          6,
          14,
          2,
          7,
          31,
          7,
          12,
          77,
          16,
          4,
          70,
          5,
          64,
          11,
          51,
          23,
          29,
          19,
          9,
          8,
          21,
          6,
          4,
          17,
          36,
          4
         ]
        }
       ],
       "layout": {
        "template": {
         "data": {
          "pie": [
           {
            "automargin": true,
            "type": "pie"
           }
          ],
          "scatter": [
           {
            "line": {
             "width": 3
            },
            "marker": {
             "size": 9
            },
            "type": "scatter"
           }
          ],
          "scatter3d": [
           {
            "line": {
             "width": 3
            },
            "marker": {
             "size": 9
            },
            "type": "scatter3d"
           }
          ],
          "scattergeo": [
           {
            "line": {
             "width": 3
            },
            "marker": {
             "size": 9
            },
            "type": "scattergeo"
           }
          ],
          "scattergl": [
           {
            "line": {
             "width": 3
            },
            "marker": {
             "size": 9
            },
            "type": "scattergl"
           }
          ],
          "scatterpolar": [
           {
            "line": {
             "width": 3
            },
            "marker": {
             "size": 9
            },
            "type": "scatterpolar"
           }
          ],
          "scatterpolargl": [
           {
            "line": {
             "width": 3
            },
            "marker": {
             "size": 9
            },
            "type": "scatterpolargl"
           }
          ],
          "scatterternary": [
           {
            "line": {
             "width": 3
            },
            "marker": {
             "size": 9
            },
            "type": "scatterternary"
           }
          ],
          "table": [
           {
            "cells": {
             "height": 30
            },
            "header": {
             "height": 36
            },
            "type": "table"
           }
          ]
         },
         "layout": {
          "font": {
           "size": 18
          },
          "xaxis": {
           "title": {
            "standoff": 15
           }
          },
          "yaxis": {
           "title": {
            "standoff": 15
           }
          }
         }
        },
        "title": {
         "text": "Distribución X Estado "
        },
        "xaxis": {
         "title": {
          "text": ""
         }
        },
        "yaxis": {
         "title": {
          "text": "Frecuencia"
         }
        }
       }
      },
      "text/html": [
       "<div>\n",
       "        \n",
       "        \n",
       "            <div id=\"e61f8680-8a0a-42ed-8afc-18029c163d78\" class=\"plotly-graph-div\" style=\"height:525px; width:100%;\"></div>\n",
       "            <script type=\"text/javascript\">\n",
       "                require([\"plotly\"], function(Plotly) {\n",
       "                    window.PLOTLYENV=window.PLOTLYENV || {};\n",
       "                    \n",
       "                if (document.getElementById(\"e61f8680-8a0a-42ed-8afc-18029c163d78\")) {\n",
       "                    Plotly.newPlot(\n",
       "                        'e61f8680-8a0a-42ed-8afc-18029c163d78',\n",
       "                        [{\"marker\": {\"color\": \"#e377c2\"}, \"name\": \"0\", \"type\": \"bar\", \"x\": [\"AGUASCALIENTES\", \"BAJA_CALIFORNIA\", \"BAJA_CALIFORNIA_SUR\", \"CAMPECHE\", \"CDMX\", \"CHIAPAS\", \"CHIHUAHUA\", \"COAHUILA\", \"COLIMA\", \"DURANGO\", \"GUANAJUATO\", \"GUERRERO\", \"HIDALGO\", \"JALISCO\", \"MICHOAC\\u00c1N\", \"MORELOS\", \"M\\u00c9XICO\", \"NAYARIT\", \"NUEVO_LE\\u00d3N\", \"OAXACA\", \"PUEBLA\", \"QUERETARO\", \"QUINTANA_ROO\", \"SAN_LUIS_POTOS\\u00cd\", \"SINALOA\", \"SONORA\", \"TABASCO\", \"TAMAULIPAS\", \"TLAXCALA\", \"VERACRUZ\", \"YUCAT\\u00c1N\", \"ZACATECAS\"], \"y\": [19, 20, 9, 2, 107, 7, 6, 14, 2, 7, 31, 7, 12, 77, 16, 4, 70, 5, 64, 11, 51, 23, 29, 19, 9, 8, 21, 6, 4, 17, 36, 4]}],\n",
       "                        {\"template\": {\"data\": {\"pie\": [{\"automargin\": true, \"type\": \"pie\"}], \"scatter\": [{\"line\": {\"width\": 3}, \"marker\": {\"size\": 9}, \"type\": \"scatter\"}], \"scatter3d\": [{\"line\": {\"width\": 3}, \"marker\": {\"size\": 9}, \"type\": \"scatter3d\"}], \"scattergeo\": [{\"line\": {\"width\": 3}, \"marker\": {\"size\": 9}, \"type\": \"scattergeo\"}], \"scattergl\": [{\"line\": {\"width\": 3}, \"marker\": {\"size\": 9}, \"type\": \"scattergl\"}], \"scatterpolar\": [{\"line\": {\"width\": 3}, \"marker\": {\"size\": 9}, \"type\": \"scatterpolar\"}], \"scatterpolargl\": [{\"line\": {\"width\": 3}, \"marker\": {\"size\": 9}, \"type\": \"scatterpolargl\"}], \"scatterternary\": [{\"line\": {\"width\": 3}, \"marker\": {\"size\": 9}, \"type\": \"scatterternary\"}], \"table\": [{\"cells\": {\"height\": 30}, \"header\": {\"height\": 36}, \"type\": \"table\"}]}, \"layout\": {\"font\": {\"size\": 18}, \"xaxis\": {\"title\": {\"standoff\": 15}}, \"yaxis\": {\"title\": {\"standoff\": 15}}}}, \"title\": {\"text\": \"Distribuci\\u00f3n X Estado \"}, \"xaxis\": {\"title\": {\"text\": \"\"}}, \"yaxis\": {\"title\": {\"text\": \"Frecuencia\"}}},\n",
       "                        {\"responsive\": true}\n",
       "                    ).then(function(){\n",
       "                            \n",
       "var gd = document.getElementById('e61f8680-8a0a-42ed-8afc-18029c163d78');\n",
       "var x = new MutationObserver(function (mutations, observer) {{\n",
       "        var display = window.getComputedStyle(gd).display;\n",
       "        if (!display || display === 'none') {{\n",
       "            console.log([gd, 'removed!']);\n",
       "            Plotly.purge(gd);\n",
       "            observer.disconnect();\n",
       "        }}\n",
       "}});\n",
       "\n",
       "// Listen for the removal of the full notebook cells\n",
       "var notebookContainer = gd.closest('#notebook-container');\n",
       "if (notebookContainer) {{\n",
       "    x.observe(notebookContainer, {childList: true});\n",
       "}}\n",
       "\n",
       "// Listen for the clearing of the current output cell\n",
       "var outputEl = gd.closest('.output');\n",
       "if (outputEl) {{\n",
       "    x.observe(outputEl, {childList: true});\n",
       "}}\n",
       "\n",
       "                        })\n",
       "                };\n",
       "                });\n",
       "            </script>\n",
       "        </div>"
      ]
     },
     "metadata": {},
     "output_type": "display_data"
    }
   ],
   "source": [
    "x=df\n",
    "col='Estado'\n",
    "v1=x[col].value_counts().reset_index()\n",
    "v1=v1.rename(columns={col:'count','index':col})\n",
    "v1['percent']=v1['count'].apply(lambda x: 100 *x/sum(v1['count']))\n",
    "v1=v1.sort_values(col)\n",
    "trace1=go.Bar(x=v1[col],y=v1[\"count\"],name=\"0\",marker=dict(color=\"#e377c2\"))\n",
    "y=[trace1]\n",
    "layout={'title':\"Distribución X Estado \",'xaxis':{'title':\"\"},'yaxis':{'title':\"Frecuencia\"}}\n",
    "fig=go.Figure(data=y,layout=layout)\n",
    "fig.layout.template='presentation'\n",
    "iplot(fig)"
   ]
  },
  {
   "cell_type": "code",
   "execution_count": 32,
   "metadata": {},
   "outputs": [
    {
     "data": {
      "application/vnd.plotly.v1+json": {
       "config": {
        "linkText": "Export to plot.ly",
        "plotlyServerURL": "https://plot.ly",
        "showLink": false
       },
       "data": [
        {
         "marker": {
          "color": "#d62728"
         },
         "name": "Hombre",
         "type": "scatter",
         "x": [
          "AGUASCALIENTES",
          "BAJA_CALIFORNIA",
          "BAJA_CALIFORNIA_SUR",
          "CAMPECHE",
          "CDMX",
          "CHIAPAS",
          "CHIHUAHUA",
          "COAHUILA",
          "COLIMA",
          "DURANGO",
          "GUANAJUATO",
          "GUERRERO",
          "HIDALGO",
          "JALISCO",
          "MICHOACÁN",
          "MORELOS",
          "MÉXICO",
          "NAYARIT",
          "NUEVO_LEÓN",
          "OAXACA",
          "PUEBLA",
          "QUERETARO",
          "QUINTANA_ROO",
          "SAN_LUIS_POTOSÍ",
          "SINALOA",
          "SONORA",
          "TABASCO",
          "TAMAULIPAS",
          "TLAXCALA",
          "VERACRUZ",
          "YUCATÁN",
          "ZACATECAS"
         ],
         "y": [
          10,
          11,
          7,
          1,
          75,
          4,
          2,
          9,
          1,
          5,
          11,
          2,
          4,
          44,
          7,
          1,
          34,
          2,
          46,
          4,
          28,
          13,
          18,
          11,
          6,
          6,
          9,
          3,
          3,
          8,
          20,
          3
         ]
        },
        {
         "marker": {
          "color": "rgb(63, 72, 204)"
         },
         "name": "Mujer",
         "type": "scatter",
         "x": [
          "AGUASCALIENTES",
          "BAJA_CALIFORNIA",
          "BAJA_CALIFORNIA_SUR",
          "CAMPECHE",
          "CDMX",
          "CHIAPAS",
          "CHIHUAHUA",
          "COAHUILA",
          "COLIMA",
          "DURANGO",
          "GUANAJUATO",
          "GUERRERO",
          "HIDALGO",
          "JALISCO",
          "MICHOACÁN",
          "MORELOS",
          "MÉXICO",
          "NAYARIT",
          "NUEVO_LEÓN",
          "OAXACA",
          "PUEBLA",
          "QUERETARO",
          "QUINTANA_ROO",
          "SAN_LUIS_POTOSÍ",
          "SINALOA",
          "SONORA",
          "TABASCO",
          "TAMAULIPAS",
          "TLAXCALA",
          "VERACRUZ",
          "YUCATÁN",
          "ZACATECAS"
         ],
         "y": [
          9,
          9,
          2,
          1,
          32,
          3,
          4,
          5,
          1,
          2,
          20,
          5,
          8,
          33,
          9,
          3,
          36,
          3,
          18,
          7,
          23,
          10,
          11,
          8,
          3,
          2,
          12,
          3,
          1,
          9,
          16,
          1
         ]
        }
       ],
       "layout": {
        "template": {
         "data": {
          "pie": [
           {
            "automargin": true,
            "type": "pie"
           }
          ],
          "scatter": [
           {
            "line": {
             "width": 3
            },
            "marker": {
             "size": 9
            },
            "type": "scatter"
           }
          ],
          "scatter3d": [
           {
            "line": {
             "width": 3
            },
            "marker": {
             "size": 9
            },
            "type": "scatter3d"
           }
          ],
          "scattergeo": [
           {
            "line": {
             "width": 3
            },
            "marker": {
             "size": 9
            },
            "type": "scattergeo"
           }
          ],
          "scattergl": [
           {
            "line": {
             "width": 3
            },
            "marker": {
             "size": 9
            },
            "type": "scattergl"
           }
          ],
          "scatterpolar": [
           {
            "line": {
             "width": 3
            },
            "marker": {
             "size": 9
            },
            "type": "scatterpolar"
           }
          ],
          "scatterpolargl": [
           {
            "line": {
             "width": 3
            },
            "marker": {
             "size": 9
            },
            "type": "scatterpolargl"
           }
          ],
          "scatterternary": [
           {
            "line": {
             "width": 3
            },
            "marker": {
             "size": 9
            },
            "type": "scatterternary"
           }
          ],
          "table": [
           {
            "cells": {
             "height": 30
            },
            "header": {
             "height": 36
            },
            "type": "table"
           }
          ]
         },
         "layout": {
          "font": {
           "size": 18
          },
          "xaxis": {
           "title": {
            "standoff": 15
           }
          },
          "yaxis": {
           "title": {
            "standoff": 15
           }
          }
         }
        },
        "title": {
         "text": "Comparación X Estado [[ Hombre vs Mujer ]] "
        },
        "xaxis": {
         "title": {
          "text": "Estado"
         }
        },
        "yaxis": {
         "title": {
          "text": "Frecuencia"
         }
        }
       }
      },
      "text/html": [
       "<div>\n",
       "        \n",
       "        \n",
       "            <div id=\"e8b2de8a-4985-46ad-a3c6-4abe49dc25f2\" class=\"plotly-graph-div\" style=\"height:525px; width:100%;\"></div>\n",
       "            <script type=\"text/javascript\">\n",
       "                require([\"plotly\"], function(Plotly) {\n",
       "                    window.PLOTLYENV=window.PLOTLYENV || {};\n",
       "                    \n",
       "                if (document.getElementById(\"e8b2de8a-4985-46ad-a3c6-4abe49dc25f2\")) {\n",
       "                    Plotly.newPlot(\n",
       "                        'e8b2de8a-4985-46ad-a3c6-4abe49dc25f2',\n",
       "                        [{\"marker\": {\"color\": \"#d62728\"}, \"name\": \"Hombre\", \"type\": \"scatter\", \"x\": [\"AGUASCALIENTES\", \"BAJA_CALIFORNIA\", \"BAJA_CALIFORNIA_SUR\", \"CAMPECHE\", \"CDMX\", \"CHIAPAS\", \"CHIHUAHUA\", \"COAHUILA\", \"COLIMA\", \"DURANGO\", \"GUANAJUATO\", \"GUERRERO\", \"HIDALGO\", \"JALISCO\", \"MICHOAC\\u00c1N\", \"MORELOS\", \"M\\u00c9XICO\", \"NAYARIT\", \"NUEVO_LE\\u00d3N\", \"OAXACA\", \"PUEBLA\", \"QUERETARO\", \"QUINTANA_ROO\", \"SAN_LUIS_POTOS\\u00cd\", \"SINALOA\", \"SONORA\", \"TABASCO\", \"TAMAULIPAS\", \"TLAXCALA\", \"VERACRUZ\", \"YUCAT\\u00c1N\", \"ZACATECAS\"], \"y\": [10, 11, 7, 1, 75, 4, 2, 9, 1, 5, 11, 2, 4, 44, 7, 1, 34, 2, 46, 4, 28, 13, 18, 11, 6, 6, 9, 3, 3, 8, 20, 3]}, {\"marker\": {\"color\": \"rgb(63, 72, 204)\"}, \"name\": \"Mujer\", \"type\": \"scatter\", \"x\": [\"AGUASCALIENTES\", \"BAJA_CALIFORNIA\", \"BAJA_CALIFORNIA_SUR\", \"CAMPECHE\", \"CDMX\", \"CHIAPAS\", \"CHIHUAHUA\", \"COAHUILA\", \"COLIMA\", \"DURANGO\", \"GUANAJUATO\", \"GUERRERO\", \"HIDALGO\", \"JALISCO\", \"MICHOAC\\u00c1N\", \"MORELOS\", \"M\\u00c9XICO\", \"NAYARIT\", \"NUEVO_LE\\u00d3N\", \"OAXACA\", \"PUEBLA\", \"QUERETARO\", \"QUINTANA_ROO\", \"SAN_LUIS_POTOS\\u00cd\", \"SINALOA\", \"SONORA\", \"TABASCO\", \"TAMAULIPAS\", \"TLAXCALA\", \"VERACRUZ\", \"YUCAT\\u00c1N\", \"ZACATECAS\"], \"y\": [9, 9, 2, 1, 32, 3, 4, 5, 1, 2, 20, 5, 8, 33, 9, 3, 36, 3, 18, 7, 23, 10, 11, 8, 3, 2, 12, 3, 1, 9, 16, 1]}],\n",
       "                        {\"template\": {\"data\": {\"pie\": [{\"automargin\": true, \"type\": \"pie\"}], \"scatter\": [{\"line\": {\"width\": 3}, \"marker\": {\"size\": 9}, \"type\": \"scatter\"}], \"scatter3d\": [{\"line\": {\"width\": 3}, \"marker\": {\"size\": 9}, \"type\": \"scatter3d\"}], \"scattergeo\": [{\"line\": {\"width\": 3}, \"marker\": {\"size\": 9}, \"type\": \"scattergeo\"}], \"scattergl\": [{\"line\": {\"width\": 3}, \"marker\": {\"size\": 9}, \"type\": \"scattergl\"}], \"scatterpolar\": [{\"line\": {\"width\": 3}, \"marker\": {\"size\": 9}, \"type\": \"scatterpolar\"}], \"scatterpolargl\": [{\"line\": {\"width\": 3}, \"marker\": {\"size\": 9}, \"type\": \"scatterpolargl\"}], \"scatterternary\": [{\"line\": {\"width\": 3}, \"marker\": {\"size\": 9}, \"type\": \"scatterternary\"}], \"table\": [{\"cells\": {\"height\": 30}, \"header\": {\"height\": 36}, \"type\": \"table\"}]}, \"layout\": {\"font\": {\"size\": 18}, \"xaxis\": {\"title\": {\"standoff\": 15}}, \"yaxis\": {\"title\": {\"standoff\": 15}}}}, \"title\": {\"text\": \"Comparaci\\u00f3n X Estado [[ Hombre vs Mujer ]] \"}, \"xaxis\": {\"title\": {\"text\": \"Estado\"}}, \"yaxis\": {\"title\": {\"text\": \"Frecuencia\"}}},\n",
       "                        {\"responsive\": true}\n",
       "                    ).then(function(){\n",
       "                            \n",
       "var gd = document.getElementById('e8b2de8a-4985-46ad-a3c6-4abe49dc25f2');\n",
       "var x = new MutationObserver(function (mutations, observer) {{\n",
       "        var display = window.getComputedStyle(gd).display;\n",
       "        if (!display || display === 'none') {{\n",
       "            console.log([gd, 'removed!']);\n",
       "            Plotly.purge(gd);\n",
       "            observer.disconnect();\n",
       "        }}\n",
       "}});\n",
       "\n",
       "// Listen for the removal of the full notebook cells\n",
       "var notebookContainer = gd.closest('#notebook-container');\n",
       "if (notebookContainer) {{\n",
       "    x.observe(notebookContainer, {childList: true});\n",
       "}}\n",
       "\n",
       "// Listen for the clearing of the current output cell\n",
       "var outputEl = gd.closest('.output');\n",
       "if (outputEl) {{\n",
       "    x.observe(outputEl, {childList: true});\n",
       "}}\n",
       "\n",
       "                        })\n",
       "                };\n",
       "                });\n",
       "            </script>\n",
       "        </div>"
      ]
     },
     "metadata": {},
     "output_type": "display_data"
    }
   ],
   "source": [
    "col='Estado'\n",
    "\n",
    "\n",
    "v1=d1[col].value_counts().reset_index()\n",
    "v1=v1.rename(columns={col:'count','index':col})\n",
    "v1['percent']=v1['count'].apply(lambda x:100*x/sum(v1['count']))\n",
    "v1=v1.sort_values(col)\n",
    "v2=d2[col].value_counts().reset_index()\n",
    "v2=v2.rename(columns={col:'count','index':col})\n",
    "v2['percent']=v2['count'].apply(lambda x:100*x/sum(v2['count']))\n",
    "v2=v2.sort_values(col)\n",
    "trace1=go.Scatter(x = v1[col], y = v1[\"count\"],name=\"Hombre\",marker=dict(color=\"#d62728\"))\n",
    "trace2= go.Scatter(x = v2[col],y = v2[\"count\"], name = \"Mujer\", marker = dict(color='rgb(63, 72, 204)'))\n",
    "y = [trace1, trace2]\n",
    "layout={'title':\"Comparación X Estado [[ Hombre vs Mujer ]] \",'xaxis':{'title':\"Estado\"},'yaxis':{'title':\"Frecuencia\"}}\n",
    "fig=go.Figure(data = y, layout = layout)\n",
    "fig.layout.template='presentation'\n",
    "iplot(fig)"
   ]
  },
  {
   "cell_type": "code",
   "execution_count": 33,
   "metadata": {},
   "outputs": [
    {
     "data": {
      "application/vnd.plotly.v1+json": {
       "config": {
        "linkText": "Export to plot.ly",
        "plotlyServerURL": "https://plot.ly",
        "showLink": false
       },
       "data": [
        {
         "marker": {
          "color": "#6ad49b"
         },
         "name": "0",
         "type": "bar",
         "x": [
          "Alemania",
          "Contacto",
          "EUA",
          "España",
          "Francia",
          "Italia",
          "Singapur"
         ],
         "y": [
          10,
          271,
          198,
          179,
          40,
          17,
          2
         ]
        }
       ],
       "layout": {
        "template": {
         "data": {
          "pie": [
           {
            "automargin": true,
            "type": "pie"
           }
          ],
          "scatter": [
           {
            "line": {
             "width": 3
            },
            "marker": {
             "size": 9
            },
            "type": "scatter"
           }
          ],
          "scatter3d": [
           {
            "line": {
             "width": 3
            },
            "marker": {
             "size": 9
            },
            "type": "scatter3d"
           }
          ],
          "scattergeo": [
           {
            "line": {
             "width": 3
            },
            "marker": {
             "size": 9
            },
            "type": "scattergeo"
           }
          ],
          "scattergl": [
           {
            "line": {
             "width": 3
            },
            "marker": {
             "size": 9
            },
            "type": "scattergl"
           }
          ],
          "scatterpolar": [
           {
            "line": {
             "width": 3
            },
            "marker": {
             "size": 9
            },
            "type": "scatterpolar"
           }
          ],
          "scatterpolargl": [
           {
            "line": {
             "width": 3
            },
            "marker": {
             "size": 9
            },
            "type": "scatterpolargl"
           }
          ],
          "scatterternary": [
           {
            "line": {
             "width": 3
            },
            "marker": {
             "size": 9
            },
            "type": "scatterternary"
           }
          ],
          "table": [
           {
            "cells": {
             "height": 30
            },
            "header": {
             "height": 36
            },
            "type": "table"
           }
          ]
         },
         "layout": {
          "font": {
           "size": 18
          },
          "xaxis": {
           "title": {
            "standoff": 15
           }
          },
          "yaxis": {
           "title": {
            "standoff": 15
           }
          }
         }
        },
        "title": {
         "text": "Procedencia de la infección "
        },
        "xaxis": {
         "title": {
          "text": "Procedencia"
         }
        },
        "yaxis": {
         "title": {
          "text": "Frecuencia"
         }
        }
       }
      },
      "text/html": [
       "<div>\n",
       "        \n",
       "        \n",
       "            <div id=\"74660a9d-0934-4f0b-acea-a8fdca3d9238\" class=\"plotly-graph-div\" style=\"height:525px; width:100%;\"></div>\n",
       "            <script type=\"text/javascript\">\n",
       "                require([\"plotly\"], function(Plotly) {\n",
       "                    window.PLOTLYENV=window.PLOTLYENV || {};\n",
       "                    \n",
       "                if (document.getElementById(\"74660a9d-0934-4f0b-acea-a8fdca3d9238\")) {\n",
       "                    Plotly.newPlot(\n",
       "                        '74660a9d-0934-4f0b-acea-a8fdca3d9238',\n",
       "                        [{\"marker\": {\"color\": \"#6ad49b\"}, \"name\": \"0\", \"type\": \"bar\", \"x\": [\"Alemania\", \"Contacto\", \"EUA\", \"Espa\\u00f1a\", \"Francia\", \"Italia\", \"Singapur\"], \"y\": [10, 271, 198, 179, 40, 17, 2]}],\n",
       "                        {\"template\": {\"data\": {\"pie\": [{\"automargin\": true, \"type\": \"pie\"}], \"scatter\": [{\"line\": {\"width\": 3}, \"marker\": {\"size\": 9}, \"type\": \"scatter\"}], \"scatter3d\": [{\"line\": {\"width\": 3}, \"marker\": {\"size\": 9}, \"type\": \"scatter3d\"}], \"scattergeo\": [{\"line\": {\"width\": 3}, \"marker\": {\"size\": 9}, \"type\": \"scattergeo\"}], \"scattergl\": [{\"line\": {\"width\": 3}, \"marker\": {\"size\": 9}, \"type\": \"scattergl\"}], \"scatterpolar\": [{\"line\": {\"width\": 3}, \"marker\": {\"size\": 9}, \"type\": \"scatterpolar\"}], \"scatterpolargl\": [{\"line\": {\"width\": 3}, \"marker\": {\"size\": 9}, \"type\": \"scatterpolargl\"}], \"scatterternary\": [{\"line\": {\"width\": 3}, \"marker\": {\"size\": 9}, \"type\": \"scatterternary\"}], \"table\": [{\"cells\": {\"height\": 30}, \"header\": {\"height\": 36}, \"type\": \"table\"}]}, \"layout\": {\"font\": {\"size\": 18}, \"xaxis\": {\"title\": {\"standoff\": 15}}, \"yaxis\": {\"title\": {\"standoff\": 15}}}}, \"title\": {\"text\": \"Procedencia de la infecci\\u00f3n \"}, \"xaxis\": {\"title\": {\"text\": \"Procedencia\"}}, \"yaxis\": {\"title\": {\"text\": \"Frecuencia\"}}},\n",
       "                        {\"responsive\": true}\n",
       "                    ).then(function(){\n",
       "                            \n",
       "var gd = document.getElementById('74660a9d-0934-4f0b-acea-a8fdca3d9238');\n",
       "var x = new MutationObserver(function (mutations, observer) {{\n",
       "        var display = window.getComputedStyle(gd).display;\n",
       "        if (!display || display === 'none') {{\n",
       "            console.log([gd, 'removed!']);\n",
       "            Plotly.purge(gd);\n",
       "            observer.disconnect();\n",
       "        }}\n",
       "}});\n",
       "\n",
       "// Listen for the removal of the full notebook cells\n",
       "var notebookContainer = gd.closest('#notebook-container');\n",
       "if (notebookContainer) {{\n",
       "    x.observe(notebookContainer, {childList: true});\n",
       "}}\n",
       "\n",
       "// Listen for the clearing of the current output cell\n",
       "var outputEl = gd.closest('.output');\n",
       "if (outputEl) {{\n",
       "    x.observe(outputEl, {childList: true});\n",
       "}}\n",
       "\n",
       "                        })\n",
       "                };\n",
       "                });\n",
       "            </script>\n",
       "        </div>"
      ]
     },
     "metadata": {},
     "output_type": "display_data"
    }
   ],
   "source": [
    "x = df\n",
    "col='Procedencia'\n",
    "v1=x[col].value_counts().reset_index()\n",
    "v1=v1.rename(columns={col:'count','index':col})\n",
    "v1['percent']=v1['count'].apply(lambda x: 100 *x/sum(v1['count']))\n",
    "v1=v1.sort_values(col)\n",
    "trace1=go.Bar(x=v1[col],y=v1[\"count\"],name=\"0\",marker=dict(color=\"#6ad49b\"))\n",
    "y=[trace1]\n",
    "layout={'title':\"Procedencia de la infección \",'xaxis':{'title':\"Procedencia\"},'yaxis':{'title':\"Frecuencia\"}}\n",
    "fig=go.Figure(data=y,layout=layout)\n",
    "fig.layout.template='presentation'\n",
    "iplot(fig)"
   ]
  },
  {
   "cell_type": "code",
   "execution_count": 34,
   "metadata": {},
   "outputs": [
    {
     "data": {
      "application/vnd.plotly.v1+json": {
       "config": {
        "linkText": "Export to plot.ly",
        "plotlyServerURL": "https://plot.ly",
        "showLink": false
       },
       "data": [
        {
         "marker": {
          "color": "#17becf"
         },
         "name": "Hombre",
         "type": "scatter",
         "x": [
          "Alemania",
          "Contacto",
          "EUA",
          "España",
          "Francia",
          "Italia",
          "Singapur"
         ],
         "y": [
          8,
          143,
          128,
          99,
          17,
          11,
          2
         ]
        },
        {
         "marker": {
          "color": "#a678de"
         },
         "name": "Mujer",
         "type": "scatter",
         "x": [
          "Alemania",
          "Contacto",
          "EUA",
          "España",
          "Francia",
          "Italia"
         ],
         "y": [
          2,
          128,
          70,
          80,
          23,
          6
         ]
        }
       ],
       "layout": {
        "template": {
         "data": {
          "pie": [
           {
            "automargin": true,
            "type": "pie"
           }
          ],
          "scatter": [
           {
            "line": {
             "width": 3
            },
            "marker": {
             "size": 9
            },
            "type": "scatter"
           }
          ],
          "scatter3d": [
           {
            "line": {
             "width": 3
            },
            "marker": {
             "size": 9
            },
            "type": "scatter3d"
           }
          ],
          "scattergeo": [
           {
            "line": {
             "width": 3
            },
            "marker": {
             "size": 9
            },
            "type": "scattergeo"
           }
          ],
          "scattergl": [
           {
            "line": {
             "width": 3
            },
            "marker": {
             "size": 9
            },
            "type": "scattergl"
           }
          ],
          "scatterpolar": [
           {
            "line": {
             "width": 3
            },
            "marker": {
             "size": 9
            },
            "type": "scatterpolar"
           }
          ],
          "scatterpolargl": [
           {
            "line": {
             "width": 3
            },
            "marker": {
             "size": 9
            },
            "type": "scatterpolargl"
           }
          ],
          "scatterternary": [
           {
            "line": {
             "width": 3
            },
            "marker": {
             "size": 9
            },
            "type": "scatterternary"
           }
          ],
          "table": [
           {
            "cells": {
             "height": 30
            },
            "header": {
             "height": 36
            },
            "type": "table"
           }
          ]
         },
         "layout": {
          "font": {
           "size": 18
          },
          "xaxis": {
           "title": {
            "standoff": 15
           }
          },
          "yaxis": {
           "title": {
            "standoff": 15
           }
          }
         }
        },
        "title": {
         "text": "Comparación X Procedencia [[ Hombre vs Mujer ]] "
        },
        "xaxis": {
         "title": {
          "text": "Procedencia"
         }
        },
        "yaxis": {
         "title": {
          "text": "Frecuencia"
         }
        }
       }
      },
      "text/html": [
       "<div>\n",
       "        \n",
       "        \n",
       "            <div id=\"26e74482-b2c4-43cf-b676-1be9eba5cb8b\" class=\"plotly-graph-div\" style=\"height:525px; width:100%;\"></div>\n",
       "            <script type=\"text/javascript\">\n",
       "                require([\"plotly\"], function(Plotly) {\n",
       "                    window.PLOTLYENV=window.PLOTLYENV || {};\n",
       "                    \n",
       "                if (document.getElementById(\"26e74482-b2c4-43cf-b676-1be9eba5cb8b\")) {\n",
       "                    Plotly.newPlot(\n",
       "                        '26e74482-b2c4-43cf-b676-1be9eba5cb8b',\n",
       "                        [{\"marker\": {\"color\": \"#17becf\"}, \"name\": \"Hombre\", \"type\": \"scatter\", \"x\": [\"Alemania\", \"Contacto\", \"EUA\", \"Espa\\u00f1a\", \"Francia\", \"Italia\", \"Singapur\"], \"y\": [8, 143, 128, 99, 17, 11, 2]}, {\"marker\": {\"color\": \"#a678de\"}, \"name\": \"Mujer\", \"type\": \"scatter\", \"x\": [\"Alemania\", \"Contacto\", \"EUA\", \"Espa\\u00f1a\", \"Francia\", \"Italia\"], \"y\": [2, 128, 70, 80, 23, 6]}],\n",
       "                        {\"template\": {\"data\": {\"pie\": [{\"automargin\": true, \"type\": \"pie\"}], \"scatter\": [{\"line\": {\"width\": 3}, \"marker\": {\"size\": 9}, \"type\": \"scatter\"}], \"scatter3d\": [{\"line\": {\"width\": 3}, \"marker\": {\"size\": 9}, \"type\": \"scatter3d\"}], \"scattergeo\": [{\"line\": {\"width\": 3}, \"marker\": {\"size\": 9}, \"type\": \"scattergeo\"}], \"scattergl\": [{\"line\": {\"width\": 3}, \"marker\": {\"size\": 9}, \"type\": \"scattergl\"}], \"scatterpolar\": [{\"line\": {\"width\": 3}, \"marker\": {\"size\": 9}, \"type\": \"scatterpolar\"}], \"scatterpolargl\": [{\"line\": {\"width\": 3}, \"marker\": {\"size\": 9}, \"type\": \"scatterpolargl\"}], \"scatterternary\": [{\"line\": {\"width\": 3}, \"marker\": {\"size\": 9}, \"type\": \"scatterternary\"}], \"table\": [{\"cells\": {\"height\": 30}, \"header\": {\"height\": 36}, \"type\": \"table\"}]}, \"layout\": {\"font\": {\"size\": 18}, \"xaxis\": {\"title\": {\"standoff\": 15}}, \"yaxis\": {\"title\": {\"standoff\": 15}}}}, \"title\": {\"text\": \"Comparaci\\u00f3n X Procedencia [[ Hombre vs Mujer ]] \"}, \"xaxis\": {\"title\": {\"text\": \"Procedencia\"}}, \"yaxis\": {\"title\": {\"text\": \"Frecuencia\"}}},\n",
       "                        {\"responsive\": true}\n",
       "                    ).then(function(){\n",
       "                            \n",
       "var gd = document.getElementById('26e74482-b2c4-43cf-b676-1be9eba5cb8b');\n",
       "var x = new MutationObserver(function (mutations, observer) {{\n",
       "        var display = window.getComputedStyle(gd).display;\n",
       "        if (!display || display === 'none') {{\n",
       "            console.log([gd, 'removed!']);\n",
       "            Plotly.purge(gd);\n",
       "            observer.disconnect();\n",
       "        }}\n",
       "}});\n",
       "\n",
       "// Listen for the removal of the full notebook cells\n",
       "var notebookContainer = gd.closest('#notebook-container');\n",
       "if (notebookContainer) {{\n",
       "    x.observe(notebookContainer, {childList: true});\n",
       "}}\n",
       "\n",
       "// Listen for the clearing of the current output cell\n",
       "var outputEl = gd.closest('.output');\n",
       "if (outputEl) {{\n",
       "    x.observe(outputEl, {childList: true});\n",
       "}}\n",
       "\n",
       "                        })\n",
       "                };\n",
       "                });\n",
       "            </script>\n",
       "        </div>"
      ]
     },
     "metadata": {},
     "output_type": "display_data"
    }
   ],
   "source": [
    "col='Procedencia'\n",
    "\n",
    "\n",
    "v1=d1[col].value_counts().reset_index()\n",
    "v1=v1.rename(columns={col:'count','index':col})\n",
    "v1['percent']=v1['count'].apply(lambda x:100*x/sum(v1['count']))\n",
    "v1=v1.sort_values(col)\n",
    "v2=d2[col].value_counts().reset_index()\n",
    "v2=v2.rename(columns={col:'count','index':col})\n",
    "v2['percent']=v2['count'].apply(lambda x:100*x/sum(v2['count']))\n",
    "v2=v2.sort_values(col)\n",
    "trace1=go.Scatter(x = v1[col], y = v1[\"count\"],name=\"Hombre\",marker=dict(color=\"#17becf\"))\n",
    "trace2= go.Scatter(x = v2[col],y = v2[\"count\"], name = \"Mujer\", marker = dict(color='#a678de'))\n",
    "y = [trace1, trace2]\n",
    "layout={'title':\"Comparación X Procedencia [[ Hombre vs Mujer ]] \",'xaxis':{'title':\"Procedencia\"},'yaxis':{'title':\"Frecuencia\"}}\n",
    "fig=go.Figure(data = y, layout = layout)\n",
    "fig.layout.template='presentation'\n",
    "iplot(fig)"
   ]
  },
  {
   "cell_type": "markdown",
   "metadata": {},
   "source": [
    "# Serie de tiempo: Casos por fecha"
   ]
  },
  {
   "cell_type": "code",
   "execution_count": 35,
   "metadata": {},
   "outputs": [
    {
     "data": {
      "image/png": "[encoded data removed]",
      "text/plain": [
       "<Figure size 2100x900 with 1 Axes>"
      ]
     },
     "metadata": {},
     "output_type": "display_data"
    }
   ],
   "source": [
    "casos_fecha = pd.DataFrame(df['Identificación'].groupby(df['Fecha_Diagnóstico']).count())\n",
    "\n",
    "fig = plt.figure(figsize=(14,6),dpi=150)\n",
    "ax=plt.gca()\n",
    "ax.plot(casos_fecha,\n",
    "        marker='.',\n",
    "        ms=12,\n",
    "        label='Casos Nuevos')\n",
    "\n",
    "ax.plot(sc.cumsum(casos_fecha),\n",
    "        marker='.',\n",
    "        ms=12,label='Casos Totales')\n",
    "\n",
    "plt.legend()\n",
    "plt.xticks(casos_fecha.index)\n",
    "plt.xticks(fontsize=8,rotation=90)\n",
    "plt.ylabel('Número de casos')\n",
    "plt.xlabel('Fecha')\n",
    "plt.title('Casos de COVID19 en México por día')\n",
    "plt.tight_layout()"
   ]
  }
 ],
 "metadata": {
  "kernelspec": {
   "display_name": "Python 3",
   "language": "python",
   "name": "python3"
  },
  "language_info": {
   "codemirror_mode": {
    "name": "ipython",
    "version": 3
   },
   "file_extension": ".py",
   "mimetype": "text/x-python",
   "name": "python",
   "nbconvert_exporter": "python",
   "pygments_lexer": "ipython3",
   "version": "3.7.4"
  }
 },
 "nbformat": 4,
 "nbformat_minor": 2
}
