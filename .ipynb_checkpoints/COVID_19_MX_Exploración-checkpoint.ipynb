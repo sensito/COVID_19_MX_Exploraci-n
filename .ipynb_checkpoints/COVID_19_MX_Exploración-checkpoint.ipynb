{
 "cells": [
  {
   "cell_type": "code",
   "execution_count": 1,
   "metadata": {},
   "outputs": [],
   "source": [
    "import numpy as np\n",
    "import pandas as pd\n",
    "import matplotlib.pyplot as plt\n",
    "import seaborn as sns\n",
    "import scipy as sc\n",
    "\n",
    "\n",
    "import plotly\n",
    "import plotly.graph_objs as go\n",
    "from plotly.offline import init_notebook_mode, iplot\n",
    "import plotly.offline as py\n",
    "import plotly.figure_factory as ff\n",
    "\n",
    "import seaborn as sb\n",
    "\n",
    "import pandas_profiling"
   ]
  },
  {
   "cell_type": "code",
   "execution_count": 2,
   "metadata": {},
   "outputs": [
    {
     "data": {
      "text/html": [
       "        <script type=\"text/javascript\">\n",
       "        window.PlotlyConfig = {MathJaxConfig: 'local'};\n",
       "        if (window.MathJax) {MathJax.Hub.Config({SVG: {font: \"STIX-Web\"}});}\n",
       "        if (typeof require !== 'undefined') {\n",
       "        require.undef(\"plotly\");\n",
       "        requirejs.config({\n",
       "            paths: {\n",
       "                'plotly': ['https://cdn.plot.ly/plotly-latest.min']\n",
       "            }\n",
       "        });\n",
       "        require(['plotly'], function(Plotly) {\n",
       "            window._Plotly = Plotly;\n",
       "        });\n",
       "        }\n",
       "        </script>\n",
       "        "
      ]
     },
     "metadata": {},
     "output_type": "display_data"
    }
   ],
   "source": [
    "init_notebook_mode(connected=True)"
   ]
  },
  {
   "cell_type": "code",
   "execution_count": 3,
   "metadata": {},
   "outputs": [],
   "source": [
    "%matplotlib inline"
   ]
  },
  {
   "cell_type": "markdown",
   "metadata": {},
   "source": [
    "Lectura de la fuente de información"
   ]
  },
  {
   "cell_type": "code",
   "execution_count": 4,
   "metadata": {},
   "outputs": [],
   "source": [
    "df = pd.read_csv('./data_COVID19Mx/Confirmados/COVID19Mx_confirmados28-03-20.csv',index_col=0)"
   ]
  },
  {
   "cell_type": "markdown",
   "metadata": {},
   "source": [
    "Los metadatos de la fuente de información"
   ]
  },
  {
   "cell_type": "code",
   "execution_count": 5,
   "metadata": {},
   "outputs": [
    {
     "data": {
      "text/plain": [
       "Index(['index', 'NumCaso', 'Estado', 'Sexo', 'Edad',\n",
       "       'Fecha_de_Inicio_de_Síntomas',\n",
       "       'IdentificacionRT-PCR_COVID19(tiemporeal)', 'Procedencia',\n",
       "       'Llegada_México'],\n",
       "      dtype='object')"
      ]
     },
     "execution_count": 5,
     "metadata": {},
     "output_type": "execute_result"
    }
   ],
   "source": [
    "df.columns"
   ]
  },
  {
   "cell_type": "code",
   "execution_count": 6,
   "metadata": {},
   "outputs": [
    {
     "data": {
      "text/html": [
       "<div>\n",
       "<style scoped>\n",
       "    .dataframe tbody tr th:only-of-type {\n",
       "        vertical-align: middle;\n",
       "    }\n",
       "\n",
       "    .dataframe tbody tr th {\n",
       "        vertical-align: top;\n",
       "    }\n",
       "\n",
       "    .dataframe thead th {\n",
       "        text-align: right;\n",
       "    }\n",
       "</style>\n",
       "<table border=\"1\" class=\"dataframe\">\n",
       "  <thead>\n",
       "    <tr style=\"text-align: right;\">\n",
       "      <th></th>\n",
       "      <th>index</th>\n",
       "      <th>NumCaso</th>\n",
       "      <th>Estado</th>\n",
       "      <th>Sexo</th>\n",
       "      <th>Edad</th>\n",
       "      <th>Fecha_de_Inicio_de_Síntomas</th>\n",
       "      <th>IdentificacionRT-PCR_COVID19(tiemporeal)</th>\n",
       "      <th>Procedencia</th>\n",
       "      <th>Llegada_México</th>\n",
       "    </tr>\n",
       "  </thead>\n",
       "  <tbody>\n",
       "    <tr>\n",
       "      <td>0</td>\n",
       "      <td>313</td>\n",
       "      <td>314</td>\n",
       "      <td>MÉXICO</td>\n",
       "      <td>M</td>\n",
       "      <td>44</td>\n",
       "      <td>2020-02-19</td>\n",
       "      <td>confirmado</td>\n",
       "      <td>Italia</td>\n",
       "      <td>22/02/2020</td>\n",
       "    </tr>\n",
       "    <tr>\n",
       "      <td>1</td>\n",
       "      <td>5</td>\n",
       "      <td>6</td>\n",
       "      <td>MÉXICO</td>\n",
       "      <td>M</td>\n",
       "      <td>71</td>\n",
       "      <td>2020-02-21</td>\n",
       "      <td>confirmado</td>\n",
       "      <td>Italia</td>\n",
       "      <td>21/02/2020</td>\n",
       "    </tr>\n",
       "    <tr>\n",
       "      <td>2</td>\n",
       "      <td>0</td>\n",
       "      <td>1</td>\n",
       "      <td>CDMX</td>\n",
       "      <td>M</td>\n",
       "      <td>35</td>\n",
       "      <td>2020-02-22</td>\n",
       "      <td>confirmado</td>\n",
       "      <td>Italia</td>\n",
       "      <td>22/02/2020</td>\n",
       "    </tr>\n",
       "    <tr>\n",
       "      <td>3</td>\n",
       "      <td>1</td>\n",
       "      <td>2</td>\n",
       "      <td>SINALOA</td>\n",
       "      <td>M</td>\n",
       "      <td>41</td>\n",
       "      <td>2020-02-22</td>\n",
       "      <td>confirmado</td>\n",
       "      <td>Italia</td>\n",
       "      <td>21/02/2020</td>\n",
       "    </tr>\n",
       "    <tr>\n",
       "      <td>4</td>\n",
       "      <td>2</td>\n",
       "      <td>3</td>\n",
       "      <td>CDMX</td>\n",
       "      <td>M</td>\n",
       "      <td>59</td>\n",
       "      <td>2020-02-23</td>\n",
       "      <td>confirmado</td>\n",
       "      <td>Italia</td>\n",
       "      <td>22/02/2020</td>\n",
       "    </tr>\n",
       "  </tbody>\n",
       "</table>\n",
       "</div>"
      ],
      "text/plain": [
       "   index  NumCaso   Estado Sexo  Edad Fecha_de_Inicio_de_Síntomas  \\\n",
       "0    313      314   MÉXICO    M    44                  2020-02-19   \n",
       "1      5        6   MÉXICO    M    71                  2020-02-21   \n",
       "2      0        1     CDMX    M    35                  2020-02-22   \n",
       "3      1        2  SINALOA    M    41                  2020-02-22   \n",
       "4      2        3     CDMX    M    59                  2020-02-23   \n",
       "\n",
       "  IdentificacionRT-PCR_COVID19(tiemporeal) Procedencia Llegada_México  \n",
       "0                               confirmado      Italia     22/02/2020  \n",
       "1                               confirmado      Italia     21/02/2020  \n",
       "2                               confirmado      Italia     22/02/2020  \n",
       "3                               confirmado      Italia     21/02/2020  \n",
       "4                               confirmado      Italia     22/02/2020  "
      ]
     },
     "execution_count": 6,
     "metadata": {},
     "output_type": "execute_result"
    }
   ],
   "source": [
    "df.head()"
   ]
  },
  {
   "cell_type": "code",
   "execution_count": 7,
   "metadata": {},
   "outputs": [
    {
     "name": "stdout",
     "output_type": "stream",
     "text": [
      "<class 'pandas.core.frame.DataFrame'>\n",
      "Int64Index: 848 entries, 0 to 847\n",
      "Data columns (total 9 columns):\n",
      "index                                       848 non-null int64\n",
      "NumCaso                                     848 non-null int64\n",
      "Estado                                      848 non-null object\n",
      "Sexo                                        848 non-null object\n",
      "Edad                                        848 non-null int64\n",
      "Fecha_de_Inicio_de_Síntomas                 848 non-null object\n",
      "IdentificacionRT-PCR_COVID19(tiemporeal)    848 non-null object\n",
      "Procedencia                                 848 non-null object\n",
      "Llegada_México                              567 non-null object\n",
      "dtypes: int64(3), object(6)\n",
      "memory usage: 66.2+ KB\n"
     ]
    }
   ],
   "source": [
    "df.info()"
   ]
  },
  {
   "cell_type": "code",
   "execution_count": 8,
   "metadata": {},
   "outputs": [],
   "source": [
    "DataFrameAnalisisEstadistico=df.describe()"
   ]
  },
  {
   "cell_type": "code",
   "execution_count": 9,
   "metadata": {},
   "outputs": [
    {
     "data": {
      "text/html": [
       "<div>\n",
       "<style scoped>\n",
       "    .dataframe tbody tr th:only-of-type {\n",
       "        vertical-align: middle;\n",
       "    }\n",
       "\n",
       "    .dataframe tbody tr th {\n",
       "        vertical-align: top;\n",
       "    }\n",
       "\n",
       "    .dataframe thead th {\n",
       "        text-align: right;\n",
       "    }\n",
       "</style>\n",
       "<table border=\"1\" class=\"dataframe\">\n",
       "  <thead>\n",
       "    <tr style=\"text-align: right;\">\n",
       "      <th></th>\n",
       "      <th>index</th>\n",
       "      <th>NumCaso</th>\n",
       "      <th>Edad</th>\n",
       "    </tr>\n",
       "  </thead>\n",
       "  <tbody>\n",
       "    <tr>\n",
       "      <td>count</td>\n",
       "      <td>848.000000</td>\n",
       "      <td>848.000000</td>\n",
       "      <td>848.000000</td>\n",
       "    </tr>\n",
       "    <tr>\n",
       "      <td>mean</td>\n",
       "      <td>423.500000</td>\n",
       "      <td>424.500000</td>\n",
       "      <td>42.443396</td>\n",
       "    </tr>\n",
       "    <tr>\n",
       "      <td>std</td>\n",
       "      <td>244.940809</td>\n",
       "      <td>244.940809</td>\n",
       "      <td>15.583014</td>\n",
       "    </tr>\n",
       "    <tr>\n",
       "      <td>min</td>\n",
       "      <td>0.000000</td>\n",
       "      <td>1.000000</td>\n",
       "      <td>0.000000</td>\n",
       "    </tr>\n",
       "    <tr>\n",
       "      <td>25%</td>\n",
       "      <td>211.750000</td>\n",
       "      <td>212.750000</td>\n",
       "      <td>30.000000</td>\n",
       "    </tr>\n",
       "    <tr>\n",
       "      <td>50%</td>\n",
       "      <td>423.500000</td>\n",
       "      <td>424.500000</td>\n",
       "      <td>41.000000</td>\n",
       "    </tr>\n",
       "    <tr>\n",
       "      <td>75%</td>\n",
       "      <td>635.250000</td>\n",
       "      <td>636.250000</td>\n",
       "      <td>53.000000</td>\n",
       "    </tr>\n",
       "    <tr>\n",
       "      <td>max</td>\n",
       "      <td>847.000000</td>\n",
       "      <td>848.000000</td>\n",
       "      <td>88.000000</td>\n",
       "    </tr>\n",
       "  </tbody>\n",
       "</table>\n",
       "</div>"
      ],
      "text/plain": [
       "            index     NumCaso        Edad\n",
       "count  848.000000  848.000000  848.000000\n",
       "mean   423.500000  424.500000   42.443396\n",
       "std    244.940809  244.940809   15.583014\n",
       "min      0.000000    1.000000    0.000000\n",
       "25%    211.750000  212.750000   30.000000\n",
       "50%    423.500000  424.500000   41.000000\n",
       "75%    635.250000  636.250000   53.000000\n",
       "max    847.000000  848.000000   88.000000"
      ]
     },
     "execution_count": 9,
     "metadata": {},
     "output_type": "execute_result"
    }
   ],
   "source": [
    "DataFrameAnalisisEstadistico"
   ]
  },
  {
   "cell_type": "code",
   "execution_count": 10,
   "metadata": {},
   "outputs": [],
   "source": [
    "d=ff.create_table(DataFrameAnalisisEstadistico)"
   ]
  },
  {
   "cell_type": "code",
   "execution_count": 11,
   "metadata": {},
   "outputs": [
    {
     "data": {
      "application/vnd.plotly.v1+json": {
       "config": {
        "linkText": "Export to plot.ly",
        "plotlyServerURL": "https://plot.ly",
        "showLink": false
       },
       "data": [
        {
         "colorscale": [
          [
           0,
           "#00083e"
          ],
          [
           0.5,
           "#ededee"
          ],
          [
           1,
           "#ffffff"
          ]
         ],
         "hoverinfo": "none",
         "opacity": 0.75,
         "showscale": false,
         "type": "heatmap",
         "z": [
          [
           0,
           0,
           0
          ],
          [
           0.5,
           0.5,
           0.5
          ],
          [
           1,
           1,
           1
          ],
          [
           0.5,
           0.5,
           0.5
          ],
          [
           1,
           1,
           1
          ],
          [
           0.5,
           0.5,
           0.5
          ],
          [
           1,
           1,
           1
          ],
          [
           0.5,
           0.5,
           0.5
          ],
          [
           1,
           1,
           1
          ]
         ]
        }
       ],
       "layout": {
        "annotations": [
         {
          "align": "left",
          "font": {
           "color": "#ffffff"
          },
          "showarrow": false,
          "text": "<b>index</b>",
          "x": -0.45,
          "xanchor": "left",
          "xref": "x",
          "y": 0,
          "yref": "y"
         },
         {
          "align": "left",
          "font": {
           "color": "#ffffff"
          },
          "showarrow": false,
          "text": "<b>NumCaso</b>",
          "x": 0.55,
          "xanchor": "left",
          "xref": "x",
          "y": 0,
          "yref": "y"
         },
         {
          "align": "left",
          "font": {
           "color": "#ffffff"
          },
          "showarrow": false,
          "text": "<b>Edad</b>",
          "x": 1.55,
          "xanchor": "left",
          "xref": "x",
          "y": 0,
          "yref": "y"
         },
         {
          "align": "left",
          "font": {
           "color": "#000000"
          },
          "showarrow": false,
          "text": "848.0",
          "x": -0.45,
          "xanchor": "left",
          "xref": "x",
          "y": 1,
          "yref": "y"
         },
         {
          "align": "left",
          "font": {
           "color": "#000000"
          },
          "showarrow": false,
          "text": "848.0",
          "x": 0.55,
          "xanchor": "left",
          "xref": "x",
          "y": 1,
          "yref": "y"
         },
         {
          "align": "left",
          "font": {
           "color": "#000000"
          },
          "showarrow": false,
          "text": "848.0",
          "x": 1.55,
          "xanchor": "left",
          "xref": "x",
          "y": 1,
          "yref": "y"
         },
         {
          "align": "left",
          "font": {
           "color": "#000000"
          },
          "showarrow": false,
          "text": "423.5",
          "x": -0.45,
          "xanchor": "left",
          "xref": "x",
          "y": 2,
          "yref": "y"
         },
         {
          "align": "left",
          "font": {
           "color": "#000000"
          },
          "showarrow": false,
          "text": "424.5",
          "x": 0.55,
          "xanchor": "left",
          "xref": "x",
          "y": 2,
          "yref": "y"
         },
         {
          "align": "left",
          "font": {
           "color": "#000000"
          },
          "showarrow": false,
          "text": "42.443396226415096",
          "x": 1.55,
          "xanchor": "left",
          "xref": "x",
          "y": 2,
          "yref": "y"
         },
         {
          "align": "left",
          "font": {
           "color": "#000000"
          },
          "showarrow": false,
          "text": "244.94080917642123",
          "x": -0.45,
          "xanchor": "left",
          "xref": "x",
          "y": 3,
          "yref": "y"
         },
         {
          "align": "left",
          "font": {
           "color": "#000000"
          },
          "showarrow": false,
          "text": "244.94080917642123",
          "x": 0.55,
          "xanchor": "left",
          "xref": "x",
          "y": 3,
          "yref": "y"
         },
         {
          "align": "left",
          "font": {
           "color": "#000000"
          },
          "showarrow": false,
          "text": "15.583013904130546",
          "x": 1.55,
          "xanchor": "left",
          "xref": "x",
          "y": 3,
          "yref": "y"
         },
         {
          "align": "left",
          "font": {
           "color": "#000000"
          },
          "showarrow": false,
          "text": "0.0",
          "x": -0.45,
          "xanchor": "left",
          "xref": "x",
          "y": 4,
          "yref": "y"
         },
         {
          "align": "left",
          "font": {
           "color": "#000000"
          },
          "showarrow": false,
          "text": "1.0",
          "x": 0.55,
          "xanchor": "left",
          "xref": "x",
          "y": 4,
          "yref": "y"
         },
         {
          "align": "left",
          "font": {
           "color": "#000000"
          },
          "showarrow": false,
          "text": "0.0",
          "x": 1.55,
          "xanchor": "left",
          "xref": "x",
          "y": 4,
          "yref": "y"
         },
         {
          "align": "left",
          "font": {
           "color": "#000000"
          },
          "showarrow": false,
          "text": "211.75",
          "x": -0.45,
          "xanchor": "left",
          "xref": "x",
          "y": 5,
          "yref": "y"
         },
         {
          "align": "left",
          "font": {
           "color": "#000000"
          },
          "showarrow": false,
          "text": "212.75",
          "x": 0.55,
          "xanchor": "left",
          "xref": "x",
          "y": 5,
          "yref": "y"
         },
         {
          "align": "left",
          "font": {
           "color": "#000000"
          },
          "showarrow": false,
          "text": "30.0",
          "x": 1.55,
          "xanchor": "left",
          "xref": "x",
          "y": 5,
          "yref": "y"
         },
         {
          "align": "left",
          "font": {
           "color": "#000000"
          },
          "showarrow": false,
          "text": "423.5",
          "x": -0.45,
          "xanchor": "left",
          "xref": "x",
          "y": 6,
          "yref": "y"
         },
         {
          "align": "left",
          "font": {
           "color": "#000000"
          },
          "showarrow": false,
          "text": "424.5",
          "x": 0.55,
          "xanchor": "left",
          "xref": "x",
          "y": 6,
          "yref": "y"
         },
         {
          "align": "left",
          "font": {
           "color": "#000000"
          },
          "showarrow": false,
          "text": "41.0",
          "x": 1.55,
          "xanchor": "left",
          "xref": "x",
          "y": 6,
          "yref": "y"
         },
         {
          "align": "left",
          "font": {
           "color": "#000000"
          },
          "showarrow": false,
          "text": "635.25",
          "x": -0.45,
          "xanchor": "left",
          "xref": "x",
          "y": 7,
          "yref": "y"
         },
         {
          "align": "left",
          "font": {
           "color": "#000000"
          },
          "showarrow": false,
          "text": "636.25",
          "x": 0.55,
          "xanchor": "left",
          "xref": "x",
          "y": 7,
          "yref": "y"
         },
         {
          "align": "left",
          "font": {
           "color": "#000000"
          },
          "showarrow": false,
          "text": "53.0",
          "x": 1.55,
          "xanchor": "left",
          "xref": "x",
          "y": 7,
          "yref": "y"
         },
         {
          "align": "left",
          "font": {
           "color": "#000000"
          },
          "showarrow": false,
          "text": "847.0",
          "x": -0.45,
          "xanchor": "left",
          "xref": "x",
          "y": 8,
          "yref": "y"
         },
         {
          "align": "left",
          "font": {
           "color": "#000000"
          },
          "showarrow": false,
          "text": "848.0",
          "x": 0.55,
          "xanchor": "left",
          "xref": "x",
          "y": 8,
          "yref": "y"
         },
         {
          "align": "left",
          "font": {
           "color": "#000000"
          },
          "showarrow": false,
          "text": "88.0",
          "x": 1.55,
          "xanchor": "left",
          "xref": "x",
          "y": 8,
          "yref": "y"
         }
        ],
        "height": 320,
        "margin": {
         "b": 0,
         "l": 0,
         "r": 0,
         "t": 0
        },
        "template": {
         "data": {
          "bar": [
           {
            "error_x": {
             "color": "#2a3f5f"
            },
            "error_y": {
             "color": "#2a3f5f"
            },
            "marker": {
             "line": {
              "color": "#E5ECF6",
              "width": 0.5
             }
            },
            "type": "bar"
           }
          ],
          "barpolar": [
           {
            "marker": {
             "line": {
              "color": "#E5ECF6",
              "width": 0.5
             }
            },
            "type": "barpolar"
           }
          ],
          "carpet": [
           {
            "aaxis": {
             "endlinecolor": "#2a3f5f",
             "gridcolor": "white",
             "linecolor": "white",
             "minorgridcolor": "white",
             "startlinecolor": "#2a3f5f"
            },
            "baxis": {
             "endlinecolor": "#2a3f5f",
             "gridcolor": "white",
             "linecolor": "white",
             "minorgridcolor": "white",
             "startlinecolor": "#2a3f5f"
            },
            "type": "carpet"
           }
          ],
          "choropleth": [
           {
            "colorbar": {
             "outlinewidth": 0,
             "ticks": ""
            },
            "type": "choropleth"
           }
          ],
          "contour": [
           {
            "colorbar": {
             "outlinewidth": 0,
             "ticks": ""
            },
            "colorscale": [
             [
              0,
              "#0d0887"
             ],
             [
              0.1111111111111111,
              "#46039f"
             ],
             [
              0.2222222222222222,
              "#7201a8"
             ],
             [
              0.3333333333333333,
              "#9c179e"
             ],
             [
              0.4444444444444444,
              "#bd3786"
             ],
             [
              0.5555555555555556,
              "#d8576b"
             ],
             [
              0.6666666666666666,
              "#ed7953"
             ],
             [
              0.7777777777777778,
              "#fb9f3a"
             ],
             [
              0.8888888888888888,
              "#fdca26"
             ],
             [
              1,
              "#f0f921"
             ]
            ],
            "type": "contour"
           }
          ],
          "contourcarpet": [
           {
            "colorbar": {
             "outlinewidth": 0,
             "ticks": ""
            },
            "type": "contourcarpet"
           }
          ],
          "heatmap": [
           {
            "colorbar": {
             "outlinewidth": 0,
             "ticks": ""
            },
            "colorscale": [
             [
              0,
              "#0d0887"
             ],
             [
              0.1111111111111111,
              "#46039f"
             ],
             [
              0.2222222222222222,
              "#7201a8"
             ],
             [
              0.3333333333333333,
              "#9c179e"
             ],
             [
              0.4444444444444444,
              "#bd3786"
             ],
             [
              0.5555555555555556,
              "#d8576b"
             ],
             [
              0.6666666666666666,
              "#ed7953"
             ],
             [
              0.7777777777777778,
              "#fb9f3a"
             ],
             [
              0.8888888888888888,
              "#fdca26"
             ],
             [
              1,
              "#f0f921"
             ]
            ],
            "type": "heatmap"
           }
          ],
          "heatmapgl": [
           {
            "colorbar": {
             "outlinewidth": 0,
             "ticks": ""
            },
            "colorscale": [
             [
              0,
              "#0d0887"
             ],
             [
              0.1111111111111111,
              "#46039f"
             ],
             [
              0.2222222222222222,
              "#7201a8"
             ],
             [
              0.3333333333333333,
              "#9c179e"
             ],
             [
              0.4444444444444444,
              "#bd3786"
             ],
             [
              0.5555555555555556,
              "#d8576b"
             ],
             [
              0.6666666666666666,
              "#ed7953"
             ],
             [
              0.7777777777777778,
              "#fb9f3a"
             ],
             [
              0.8888888888888888,
              "#fdca26"
             ],
             [
              1,
              "#f0f921"
             ]
            ],
            "type": "heatmapgl"
           }
          ],
          "histogram": [
           {
            "marker": {
             "colorbar": {
              "outlinewidth": 0,
              "ticks": ""
             }
            },
            "type": "histogram"
           }
          ],
          "histogram2d": [
           {
            "colorbar": {
             "outlinewidth": 0,
             "ticks": ""
            },
            "colorscale": [
             [
              0,
              "#0d0887"
             ],
             [
              0.1111111111111111,
              "#46039f"
             ],
             [
              0.2222222222222222,
              "#7201a8"
             ],
             [
              0.3333333333333333,
              "#9c179e"
             ],
             [
              0.4444444444444444,
              "#bd3786"
             ],
             [
              0.5555555555555556,
              "#d8576b"
             ],
             [
              0.6666666666666666,
              "#ed7953"
             ],
             [
              0.7777777777777778,
              "#fb9f3a"
             ],
             [
              0.8888888888888888,
              "#fdca26"
             ],
             [
              1,
              "#f0f921"
             ]
            ],
            "type": "histogram2d"
           }
          ],
          "histogram2dcontour": [
           {
            "colorbar": {
             "outlinewidth": 0,
             "ticks": ""
            },
            "colorscale": [
             [
              0,
              "#0d0887"
             ],
             [
              0.1111111111111111,
              "#46039f"
             ],
             [
              0.2222222222222222,
              "#7201a8"
             ],
             [
              0.3333333333333333,
              "#9c179e"
             ],
             [
              0.4444444444444444,
              "#bd3786"
             ],
             [
              0.5555555555555556,
              "#d8576b"
             ],
             [
              0.6666666666666666,
              "#ed7953"
             ],
             [
              0.7777777777777778,
              "#fb9f3a"
             ],
             [
              0.8888888888888888,
              "#fdca26"
             ],
             [
              1,
              "#f0f921"
             ]
            ],
            "type": "histogram2dcontour"
           }
          ],
          "mesh3d": [
           {
            "colorbar": {
             "outlinewidth": 0,
             "ticks": ""
            },
            "type": "mesh3d"
           }
          ],
          "parcoords": [
           {
            "line": {
             "colorbar": {
              "outlinewidth": 0,
              "ticks": ""
             }
            },
            "type": "parcoords"
           }
          ],
          "pie": [
           {
            "automargin": true,
            "type": "pie"
           }
          ],
          "scatter": [
           {
            "marker": {
             "colorbar": {
              "outlinewidth": 0,
              "ticks": ""
             }
            },
            "type": "scatter"
           }
          ],
          "scatter3d": [
           {
            "line": {
             "colorbar": {
              "outlinewidth": 0,
              "ticks": ""
             }
            },
            "marker": {
             "colorbar": {
              "outlinewidth": 0,
              "ticks": ""
             }
            },
            "type": "scatter3d"
           }
          ],
          "scattercarpet": [
           {
            "marker": {
             "colorbar": {
              "outlinewidth": 0,
              "ticks": ""
             }
            },
            "type": "scattercarpet"
           }
          ],
          "scattergeo": [
           {
            "marker": {
             "colorbar": {
              "outlinewidth": 0,
              "ticks": ""
             }
            },
            "type": "scattergeo"
           }
          ],
          "scattergl": [
           {
            "marker": {
             "colorbar": {
              "outlinewidth": 0,
              "ticks": ""
             }
            },
            "type": "scattergl"
           }
          ],
          "scattermapbox": [
           {
            "marker": {
             "colorbar": {
              "outlinewidth": 0,
              "ticks": ""
             }
            },
            "type": "scattermapbox"
           }
          ],
          "scatterpolar": [
           {
            "marker": {
             "colorbar": {
              "outlinewidth": 0,
              "ticks": ""
             }
            },
            "type": "scatterpolar"
           }
          ],
          "scatterpolargl": [
           {
            "marker": {
             "colorbar": {
              "outlinewidth": 0,
              "ticks": ""
             }
            },
            "type": "scatterpolargl"
           }
          ],
          "scatterternary": [
           {
            "marker": {
             "colorbar": {
              "outlinewidth": 0,
              "ticks": ""
             }
            },
            "type": "scatterternary"
           }
          ],
          "surface": [
           {
            "colorbar": {
             "outlinewidth": 0,
             "ticks": ""
            },
            "colorscale": [
             [
              0,
              "#0d0887"
             ],
             [
              0.1111111111111111,
              "#46039f"
             ],
             [
              0.2222222222222222,
              "#7201a8"
             ],
             [
              0.3333333333333333,
              "#9c179e"
             ],
             [
              0.4444444444444444,
              "#bd3786"
             ],
             [
              0.5555555555555556,
              "#d8576b"
             ],
             [
              0.6666666666666666,
              "#ed7953"
             ],
             [
              0.7777777777777778,
              "#fb9f3a"
             ],
             [
              0.8888888888888888,
              "#fdca26"
             ],
             [
              1,
              "#f0f921"
             ]
            ],
            "type": "surface"
           }
          ],
          "table": [
           {
            "cells": {
             "fill": {
              "color": "#EBF0F8"
             },
             "line": {
              "color": "white"
             }
            },
            "header": {
             "fill": {
              "color": "#C8D4E3"
             },
             "line": {
              "color": "white"
             }
            },
            "type": "table"
           }
          ]
         },
         "layout": {
          "annotationdefaults": {
           "arrowcolor": "#2a3f5f",
           "arrowhead": 0,
           "arrowwidth": 1
          },
          "coloraxis": {
           "colorbar": {
            "outlinewidth": 0,
            "ticks": ""
           }
          },
          "colorscale": {
           "diverging": [
            [
             0,
             "#8e0152"
            ],
            [
             0.1,
             "#c51b7d"
            ],
            [
             0.2,
             "#de77ae"
            ],
            [
             0.3,
             "#f1b6da"
            ],
            [
             0.4,
             "#fde0ef"
            ],
            [
             0.5,
             "#f7f7f7"
            ],
            [
             0.6,
             "#e6f5d0"
            ],
            [
             0.7,
             "#b8e186"
            ],
            [
             0.8,
             "#7fbc41"
            ],
            [
             0.9,
             "#4d9221"
            ],
            [
             1,
             "#276419"
            ]
           ],
           "sequential": [
            [
             0,
             "#0d0887"
            ],
            [
             0.1111111111111111,
             "#46039f"
            ],
            [
             0.2222222222222222,
             "#7201a8"
            ],
            [
             0.3333333333333333,
             "#9c179e"
            ],
            [
             0.4444444444444444,
             "#bd3786"
            ],
            [
             0.5555555555555556,
             "#d8576b"
            ],
            [
             0.6666666666666666,
             "#ed7953"
            ],
            [
             0.7777777777777778,
             "#fb9f3a"
            ],
            [
             0.8888888888888888,
             "#fdca26"
            ],
            [
             1,
             "#f0f921"
            ]
           ],
           "sequentialminus": [
            [
             0,
             "#0d0887"
            ],
            [
             0.1111111111111111,
             "#46039f"
            ],
            [
             0.2222222222222222,
             "#7201a8"
            ],
            [
             0.3333333333333333,
             "#9c179e"
            ],
            [
             0.4444444444444444,
             "#bd3786"
            ],
            [
             0.5555555555555556,
             "#d8576b"
            ],
            [
             0.6666666666666666,
             "#ed7953"
            ],
            [
             0.7777777777777778,
             "#fb9f3a"
            ],
            [
             0.8888888888888888,
             "#fdca26"
            ],
            [
             1,
             "#f0f921"
            ]
           ]
          },
          "colorway": [
           "#636efa",
           "#EF553B",
           "#00cc96",
           "#ab63fa",
           "#FFA15A",
           "#19d3f3",
           "#FF6692",
           "#B6E880",
           "#FF97FF",
           "#FECB52"
          ],
          "font": {
           "color": "#2a3f5f"
          },
          "geo": {
           "bgcolor": "white",
           "lakecolor": "white",
           "landcolor": "#E5ECF6",
           "showlakes": true,
           "showland": true,
           "subunitcolor": "white"
          },
          "hoverlabel": {
           "align": "left"
          },
          "hovermode": "closest",
          "mapbox": {
           "style": "light"
          },
          "paper_bgcolor": "white",
          "plot_bgcolor": "#E5ECF6",
          "polar": {
           "angularaxis": {
            "gridcolor": "white",
            "linecolor": "white",
            "ticks": ""
           },
           "bgcolor": "#E5ECF6",
           "radialaxis": {
            "gridcolor": "white",
            "linecolor": "white",
            "ticks": ""
           }
          },
          "scene": {
           "xaxis": {
            "backgroundcolor": "#E5ECF6",
            "gridcolor": "white",
            "gridwidth": 2,
            "linecolor": "white",
            "showbackground": true,
            "ticks": "",
            "zerolinecolor": "white"
           },
           "yaxis": {
            "backgroundcolor": "#E5ECF6",
            "gridcolor": "white",
            "gridwidth": 2,
            "linecolor": "white",
            "showbackground": true,
            "ticks": "",
            "zerolinecolor": "white"
           },
           "zaxis": {
            "backgroundcolor": "#E5ECF6",
            "gridcolor": "white",
            "gridwidth": 2,
            "linecolor": "white",
            "showbackground": true,
            "ticks": "",
            "zerolinecolor": "white"
           }
          },
          "shapedefaults": {
           "line": {
            "color": "#2a3f5f"
           }
          },
          "ternary": {
           "aaxis": {
            "gridcolor": "white",
            "linecolor": "white",
            "ticks": ""
           },
           "baxis": {
            "gridcolor": "white",
            "linecolor": "white",
            "ticks": ""
           },
           "bgcolor": "#E5ECF6",
           "caxis": {
            "gridcolor": "white",
            "linecolor": "white",
            "ticks": ""
           }
          },
          "title": {
           "x": 0.05
          },
          "xaxis": {
           "automargin": true,
           "gridcolor": "white",
           "linecolor": "white",
           "ticks": "",
           "title": {
            "standoff": 15
           },
           "zerolinecolor": "white",
           "zerolinewidth": 2
          },
          "yaxis": {
           "automargin": true,
           "gridcolor": "white",
           "linecolor": "white",
           "ticks": "",
           "title": {
            "standoff": 15
           },
           "zerolinecolor": "white",
           "zerolinewidth": 2
          }
         }
        },
        "xaxis": {
         "dtick": 1,
         "gridwidth": 2,
         "showticklabels": false,
         "tick0": -0.5,
         "ticks": "",
         "zeroline": false
        },
        "yaxis": {
         "autorange": "reversed",
         "dtick": 1,
         "gridwidth": 2,
         "showticklabels": false,
         "tick0": 0.5,
         "ticks": "",
         "zeroline": false
        }
       }
      },
      "text/html": [
       "<div>\n",
       "        \n",
       "        \n",
       "            <div id=\"5cb93dfa-3037-4c3f-ad39-3577173b554c\" class=\"plotly-graph-div\" style=\"height:320px; width:100%;\"></div>\n",
       "            <script type=\"text/javascript\">\n",
       "                require([\"plotly\"], function(Plotly) {\n",
       "                    window.PLOTLYENV=window.PLOTLYENV || {};\n",
       "                    \n",
       "                if (document.getElementById(\"5cb93dfa-3037-4c3f-ad39-3577173b554c\")) {\n",
       "                    Plotly.newPlot(\n",
       "                        '5cb93dfa-3037-4c3f-ad39-3577173b554c',\n",
       "                        [{\"colorscale\": [[0, \"#00083e\"], [0.5, \"#ededee\"], [1, \"#ffffff\"]], \"hoverinfo\": \"none\", \"opacity\": 0.75, \"showscale\": false, \"type\": \"heatmap\", \"z\": [[0, 0, 0], [0.5, 0.5, 0.5], [1, 1, 1], [0.5, 0.5, 0.5], [1, 1, 1], [0.5, 0.5, 0.5], [1, 1, 1], [0.5, 0.5, 0.5], [1, 1, 1]]}],\n",
       "                        {\"annotations\": [{\"align\": \"left\", \"font\": {\"color\": \"#ffffff\"}, \"showarrow\": false, \"text\": \"<b>index</b>\", \"x\": -0.45, \"xanchor\": \"left\", \"xref\": \"x\", \"y\": 0, \"yref\": \"y\"}, {\"align\": \"left\", \"font\": {\"color\": \"#ffffff\"}, \"showarrow\": false, \"text\": \"<b>NumCaso</b>\", \"x\": 0.55, \"xanchor\": \"left\", \"xref\": \"x\", \"y\": 0, \"yref\": \"y\"}, {\"align\": \"left\", \"font\": {\"color\": \"#ffffff\"}, \"showarrow\": false, \"text\": \"<b>Edad</b>\", \"x\": 1.55, \"xanchor\": \"left\", \"xref\": \"x\", \"y\": 0, \"yref\": \"y\"}, {\"align\": \"left\", \"font\": {\"color\": \"#000000\"}, \"showarrow\": false, \"text\": \"848.0\", \"x\": -0.45, \"xanchor\": \"left\", \"xref\": \"x\", \"y\": 1, \"yref\": \"y\"}, {\"align\": \"left\", \"font\": {\"color\": \"#000000\"}, \"showarrow\": false, \"text\": \"848.0\", \"x\": 0.55, \"xanchor\": \"left\", \"xref\": \"x\", \"y\": 1, \"yref\": \"y\"}, {\"align\": \"left\", \"font\": {\"color\": \"#000000\"}, \"showarrow\": false, \"text\": \"848.0\", \"x\": 1.55, \"xanchor\": \"left\", \"xref\": \"x\", \"y\": 1, \"yref\": \"y\"}, {\"align\": \"left\", \"font\": {\"color\": \"#000000\"}, \"showarrow\": false, \"text\": \"423.5\", \"x\": -0.45, \"xanchor\": \"left\", \"xref\": \"x\", \"y\": 2, \"yref\": \"y\"}, {\"align\": \"left\", \"font\": {\"color\": \"#000000\"}, \"showarrow\": false, \"text\": \"424.5\", \"x\": 0.55, \"xanchor\": \"left\", \"xref\": \"x\", \"y\": 2, \"yref\": \"y\"}, {\"align\": \"left\", \"font\": {\"color\": \"#000000\"}, \"showarrow\": false, \"text\": \"42.443396226415096\", \"x\": 1.55, \"xanchor\": \"left\", \"xref\": \"x\", \"y\": 2, \"yref\": \"y\"}, {\"align\": \"left\", \"font\": {\"color\": \"#000000\"}, \"showarrow\": false, \"text\": \"244.94080917642123\", \"x\": -0.45, \"xanchor\": \"left\", \"xref\": \"x\", \"y\": 3, \"yref\": \"y\"}, {\"align\": \"left\", \"font\": {\"color\": \"#000000\"}, \"showarrow\": false, \"text\": \"244.94080917642123\", \"x\": 0.55, \"xanchor\": \"left\", \"xref\": \"x\", \"y\": 3, \"yref\": \"y\"}, {\"align\": \"left\", \"font\": {\"color\": \"#000000\"}, \"showarrow\": false, \"text\": \"15.583013904130546\", \"x\": 1.55, \"xanchor\": \"left\", \"xref\": \"x\", \"y\": 3, \"yref\": \"y\"}, {\"align\": \"left\", \"font\": {\"color\": \"#000000\"}, \"showarrow\": false, \"text\": \"0.0\", \"x\": -0.45, \"xanchor\": \"left\", \"xref\": \"x\", \"y\": 4, \"yref\": \"y\"}, {\"align\": \"left\", \"font\": {\"color\": \"#000000\"}, \"showarrow\": false, \"text\": \"1.0\", \"x\": 0.55, \"xanchor\": \"left\", \"xref\": \"x\", \"y\": 4, \"yref\": \"y\"}, {\"align\": \"left\", \"font\": {\"color\": \"#000000\"}, \"showarrow\": false, \"text\": \"0.0\", \"x\": 1.55, \"xanchor\": \"left\", \"xref\": \"x\", \"y\": 4, \"yref\": \"y\"}, {\"align\": \"left\", \"font\": {\"color\": \"#000000\"}, \"showarrow\": false, \"text\": \"211.75\", \"x\": -0.45, \"xanchor\": \"left\", \"xref\": \"x\", \"y\": 5, \"yref\": \"y\"}, {\"align\": \"left\", \"font\": {\"color\": \"#000000\"}, \"showarrow\": false, \"text\": \"212.75\", \"x\": 0.55, \"xanchor\": \"left\", \"xref\": \"x\", \"y\": 5, \"yref\": \"y\"}, {\"align\": \"left\", \"font\": {\"color\": \"#000000\"}, \"showarrow\": false, \"text\": \"30.0\", \"x\": 1.55, \"xanchor\": \"left\", \"xref\": \"x\", \"y\": 5, \"yref\": \"y\"}, {\"align\": \"left\", \"font\": {\"color\": \"#000000\"}, \"showarrow\": false, \"text\": \"423.5\", \"x\": -0.45, \"xanchor\": \"left\", \"xref\": \"x\", \"y\": 6, \"yref\": \"y\"}, {\"align\": \"left\", \"font\": {\"color\": \"#000000\"}, \"showarrow\": false, \"text\": \"424.5\", \"x\": 0.55, \"xanchor\": \"left\", \"xref\": \"x\", \"y\": 6, \"yref\": \"y\"}, {\"align\": \"left\", \"font\": {\"color\": \"#000000\"}, \"showarrow\": false, \"text\": \"41.0\", \"x\": 1.55, \"xanchor\": \"left\", \"xref\": \"x\", \"y\": 6, \"yref\": \"y\"}, {\"align\": \"left\", \"font\": {\"color\": \"#000000\"}, \"showarrow\": false, \"text\": \"635.25\", \"x\": -0.45, \"xanchor\": \"left\", \"xref\": \"x\", \"y\": 7, \"yref\": \"y\"}, {\"align\": \"left\", \"font\": {\"color\": \"#000000\"}, \"showarrow\": false, \"text\": \"636.25\", \"x\": 0.55, \"xanchor\": \"left\", \"xref\": \"x\", \"y\": 7, \"yref\": \"y\"}, {\"align\": \"left\", \"font\": {\"color\": \"#000000\"}, \"showarrow\": false, \"text\": \"53.0\", \"x\": 1.55, \"xanchor\": \"left\", \"xref\": \"x\", \"y\": 7, \"yref\": \"y\"}, {\"align\": \"left\", \"font\": {\"color\": \"#000000\"}, \"showarrow\": false, \"text\": \"847.0\", \"x\": -0.45, \"xanchor\": \"left\", \"xref\": \"x\", \"y\": 8, \"yref\": \"y\"}, {\"align\": \"left\", \"font\": {\"color\": \"#000000\"}, \"showarrow\": false, \"text\": \"848.0\", \"x\": 0.55, \"xanchor\": \"left\", \"xref\": \"x\", \"y\": 8, \"yref\": \"y\"}, {\"align\": \"left\", \"font\": {\"color\": \"#000000\"}, \"showarrow\": false, \"text\": \"88.0\", \"x\": 1.55, \"xanchor\": \"left\", \"xref\": \"x\", \"y\": 8, \"yref\": \"y\"}], \"height\": 320, \"margin\": {\"b\": 0, \"l\": 0, \"r\": 0, \"t\": 0}, \"template\": {\"data\": {\"bar\": [{\"error_x\": {\"color\": \"#2a3f5f\"}, \"error_y\": {\"color\": \"#2a3f5f\"}, \"marker\": {\"line\": {\"color\": \"#E5ECF6\", \"width\": 0.5}}, \"type\": \"bar\"}], \"barpolar\": [{\"marker\": {\"line\": {\"color\": \"#E5ECF6\", \"width\": 0.5}}, \"type\": \"barpolar\"}], \"carpet\": [{\"aaxis\": {\"endlinecolor\": \"#2a3f5f\", \"gridcolor\": \"white\", \"linecolor\": \"white\", \"minorgridcolor\": \"white\", \"startlinecolor\": \"#2a3f5f\"}, \"baxis\": {\"endlinecolor\": \"#2a3f5f\", \"gridcolor\": \"white\", \"linecolor\": \"white\", \"minorgridcolor\": \"white\", \"startlinecolor\": \"#2a3f5f\"}, \"type\": \"carpet\"}], \"choropleth\": [{\"colorbar\": {\"outlinewidth\": 0, \"ticks\": \"\"}, \"type\": \"choropleth\"}], \"contour\": [{\"colorbar\": {\"outlinewidth\": 0, \"ticks\": \"\"}, \"colorscale\": [[0.0, \"#0d0887\"], [0.1111111111111111, \"#46039f\"], [0.2222222222222222, \"#7201a8\"], [0.3333333333333333, \"#9c179e\"], [0.4444444444444444, \"#bd3786\"], [0.5555555555555556, \"#d8576b\"], [0.6666666666666666, \"#ed7953\"], [0.7777777777777778, \"#fb9f3a\"], [0.8888888888888888, \"#fdca26\"], [1.0, \"#f0f921\"]], \"type\": \"contour\"}], \"contourcarpet\": [{\"colorbar\": {\"outlinewidth\": 0, \"ticks\": \"\"}, \"type\": \"contourcarpet\"}], \"heatmap\": [{\"colorbar\": {\"outlinewidth\": 0, \"ticks\": \"\"}, \"colorscale\": [[0.0, \"#0d0887\"], [0.1111111111111111, \"#46039f\"], [0.2222222222222222, \"#7201a8\"], [0.3333333333333333, \"#9c179e\"], [0.4444444444444444, \"#bd3786\"], [0.5555555555555556, \"#d8576b\"], [0.6666666666666666, \"#ed7953\"], [0.7777777777777778, \"#fb9f3a\"], [0.8888888888888888, \"#fdca26\"], [1.0, \"#f0f921\"]], \"type\": \"heatmap\"}], \"heatmapgl\": [{\"colorbar\": {\"outlinewidth\": 0, \"ticks\": \"\"}, \"colorscale\": [[0.0, \"#0d0887\"], [0.1111111111111111, \"#46039f\"], [0.2222222222222222, \"#7201a8\"], [0.3333333333333333, \"#9c179e\"], [0.4444444444444444, \"#bd3786\"], [0.5555555555555556, \"#d8576b\"], [0.6666666666666666, \"#ed7953\"], [0.7777777777777778, \"#fb9f3a\"], [0.8888888888888888, \"#fdca26\"], [1.0, \"#f0f921\"]], \"type\": \"heatmapgl\"}], \"histogram\": [{\"marker\": {\"colorbar\": {\"outlinewidth\": 0, \"ticks\": \"\"}}, \"type\": \"histogram\"}], \"histogram2d\": [{\"colorbar\": {\"outlinewidth\": 0, \"ticks\": \"\"}, \"colorscale\": [[0.0, \"#0d0887\"], [0.1111111111111111, \"#46039f\"], [0.2222222222222222, \"#7201a8\"], [0.3333333333333333, \"#9c179e\"], [0.4444444444444444, \"#bd3786\"], [0.5555555555555556, \"#d8576b\"], [0.6666666666666666, \"#ed7953\"], [0.7777777777777778, \"#fb9f3a\"], [0.8888888888888888, \"#fdca26\"], [1.0, \"#f0f921\"]], \"type\": \"histogram2d\"}], \"histogram2dcontour\": [{\"colorbar\": {\"outlinewidth\": 0, \"ticks\": \"\"}, \"colorscale\": [[0.0, \"#0d0887\"], [0.1111111111111111, \"#46039f\"], [0.2222222222222222, \"#7201a8\"], [0.3333333333333333, \"#9c179e\"], [0.4444444444444444, \"#bd3786\"], [0.5555555555555556, \"#d8576b\"], [0.6666666666666666, \"#ed7953\"], [0.7777777777777778, \"#fb9f3a\"], [0.8888888888888888, \"#fdca26\"], [1.0, \"#f0f921\"]], \"type\": \"histogram2dcontour\"}], \"mesh3d\": [{\"colorbar\": {\"outlinewidth\": 0, \"ticks\": \"\"}, \"type\": \"mesh3d\"}], \"parcoords\": [{\"line\": {\"colorbar\": {\"outlinewidth\": 0, \"ticks\": \"\"}}, \"type\": \"parcoords\"}], \"pie\": [{\"automargin\": true, \"type\": \"pie\"}], \"scatter\": [{\"marker\": {\"colorbar\": {\"outlinewidth\": 0, \"ticks\": \"\"}}, \"type\": \"scatter\"}], \"scatter3d\": [{\"line\": {\"colorbar\": {\"outlinewidth\": 0, \"ticks\": \"\"}}, \"marker\": {\"colorbar\": {\"outlinewidth\": 0, \"ticks\": \"\"}}, \"type\": \"scatter3d\"}], \"scattercarpet\": [{\"marker\": {\"colorbar\": {\"outlinewidth\": 0, \"ticks\": \"\"}}, \"type\": \"scattercarpet\"}], \"scattergeo\": [{\"marker\": {\"colorbar\": {\"outlinewidth\": 0, \"ticks\": \"\"}}, \"type\": \"scattergeo\"}], \"scattergl\": [{\"marker\": {\"colorbar\": {\"outlinewidth\": 0, \"ticks\": \"\"}}, \"type\": \"scattergl\"}], \"scattermapbox\": [{\"marker\": {\"colorbar\": {\"outlinewidth\": 0, \"ticks\": \"\"}}, \"type\": \"scattermapbox\"}], \"scatterpolar\": [{\"marker\": {\"colorbar\": {\"outlinewidth\": 0, \"ticks\": \"\"}}, \"type\": \"scatterpolar\"}], \"scatterpolargl\": [{\"marker\": {\"colorbar\": {\"outlinewidth\": 0, \"ticks\": \"\"}}, \"type\": \"scatterpolargl\"}], \"scatterternary\": [{\"marker\": {\"colorbar\": {\"outlinewidth\": 0, \"ticks\": \"\"}}, \"type\": \"scatterternary\"}], \"surface\": [{\"colorbar\": {\"outlinewidth\": 0, \"ticks\": \"\"}, \"colorscale\": [[0.0, \"#0d0887\"], [0.1111111111111111, \"#46039f\"], [0.2222222222222222, \"#7201a8\"], [0.3333333333333333, \"#9c179e\"], [0.4444444444444444, \"#bd3786\"], [0.5555555555555556, \"#d8576b\"], [0.6666666666666666, \"#ed7953\"], [0.7777777777777778, \"#fb9f3a\"], [0.8888888888888888, \"#fdca26\"], [1.0, \"#f0f921\"]], \"type\": \"surface\"}], \"table\": [{\"cells\": {\"fill\": {\"color\": \"#EBF0F8\"}, \"line\": {\"color\": \"white\"}}, \"header\": {\"fill\": {\"color\": \"#C8D4E3\"}, \"line\": {\"color\": \"white\"}}, \"type\": \"table\"}]}, \"layout\": {\"annotationdefaults\": {\"arrowcolor\": \"#2a3f5f\", \"arrowhead\": 0, \"arrowwidth\": 1}, \"coloraxis\": {\"colorbar\": {\"outlinewidth\": 0, \"ticks\": \"\"}}, \"colorscale\": {\"diverging\": [[0, \"#8e0152\"], [0.1, \"#c51b7d\"], [0.2, \"#de77ae\"], [0.3, \"#f1b6da\"], [0.4, \"#fde0ef\"], [0.5, \"#f7f7f7\"], [0.6, \"#e6f5d0\"], [0.7, \"#b8e186\"], [0.8, \"#7fbc41\"], [0.9, \"#4d9221\"], [1, \"#276419\"]], \"sequential\": [[0.0, \"#0d0887\"], [0.1111111111111111, \"#46039f\"], [0.2222222222222222, \"#7201a8\"], [0.3333333333333333, \"#9c179e\"], [0.4444444444444444, \"#bd3786\"], [0.5555555555555556, \"#d8576b\"], [0.6666666666666666, \"#ed7953\"], [0.7777777777777778, \"#fb9f3a\"], [0.8888888888888888, \"#fdca26\"], [1.0, \"#f0f921\"]], \"sequentialminus\": [[0.0, \"#0d0887\"], [0.1111111111111111, \"#46039f\"], [0.2222222222222222, \"#7201a8\"], [0.3333333333333333, \"#9c179e\"], [0.4444444444444444, \"#bd3786\"], [0.5555555555555556, \"#d8576b\"], [0.6666666666666666, \"#ed7953\"], [0.7777777777777778, \"#fb9f3a\"], [0.8888888888888888, \"#fdca26\"], [1.0, \"#f0f921\"]]}, \"colorway\": [\"#636efa\", \"#EF553B\", \"#00cc96\", \"#ab63fa\", \"#FFA15A\", \"#19d3f3\", \"#FF6692\", \"#B6E880\", \"#FF97FF\", \"#FECB52\"], \"font\": {\"color\": \"#2a3f5f\"}, \"geo\": {\"bgcolor\": \"white\", \"lakecolor\": \"white\", \"landcolor\": \"#E5ECF6\", \"showlakes\": true, \"showland\": true, \"subunitcolor\": \"white\"}, \"hoverlabel\": {\"align\": \"left\"}, \"hovermode\": \"closest\", \"mapbox\": {\"style\": \"light\"}, \"paper_bgcolor\": \"white\", \"plot_bgcolor\": \"#E5ECF6\", \"polar\": {\"angularaxis\": {\"gridcolor\": \"white\", \"linecolor\": \"white\", \"ticks\": \"\"}, \"bgcolor\": \"#E5ECF6\", \"radialaxis\": {\"gridcolor\": \"white\", \"linecolor\": \"white\", \"ticks\": \"\"}}, \"scene\": {\"xaxis\": {\"backgroundcolor\": \"#E5ECF6\", \"gridcolor\": \"white\", \"gridwidth\": 2, \"linecolor\": \"white\", \"showbackground\": true, \"ticks\": \"\", \"zerolinecolor\": \"white\"}, \"yaxis\": {\"backgroundcolor\": \"#E5ECF6\", \"gridcolor\": \"white\", \"gridwidth\": 2, \"linecolor\": \"white\", \"showbackground\": true, \"ticks\": \"\", \"zerolinecolor\": \"white\"}, \"zaxis\": {\"backgroundcolor\": \"#E5ECF6\", \"gridcolor\": \"white\", \"gridwidth\": 2, \"linecolor\": \"white\", \"showbackground\": true, \"ticks\": \"\", \"zerolinecolor\": \"white\"}}, \"shapedefaults\": {\"line\": {\"color\": \"#2a3f5f\"}}, \"ternary\": {\"aaxis\": {\"gridcolor\": \"white\", \"linecolor\": \"white\", \"ticks\": \"\"}, \"baxis\": {\"gridcolor\": \"white\", \"linecolor\": \"white\", \"ticks\": \"\"}, \"bgcolor\": \"#E5ECF6\", \"caxis\": {\"gridcolor\": \"white\", \"linecolor\": \"white\", \"ticks\": \"\"}}, \"title\": {\"x\": 0.05}, \"xaxis\": {\"automargin\": true, \"gridcolor\": \"white\", \"linecolor\": \"white\", \"ticks\": \"\", \"title\": {\"standoff\": 15}, \"zerolinecolor\": \"white\", \"zerolinewidth\": 2}, \"yaxis\": {\"automargin\": true, \"gridcolor\": \"white\", \"linecolor\": \"white\", \"ticks\": \"\", \"title\": {\"standoff\": 15}, \"zerolinecolor\": \"white\", \"zerolinewidth\": 2}}}, \"xaxis\": {\"dtick\": 1, \"gridwidth\": 2, \"showticklabels\": false, \"tick0\": -0.5, \"ticks\": \"\", \"zeroline\": false}, \"yaxis\": {\"autorange\": \"reversed\", \"dtick\": 1, \"gridwidth\": 2, \"showticklabels\": false, \"tick0\": 0.5, \"ticks\": \"\", \"zeroline\": false}},\n",
       "                        {\"responsive\": true}\n",
       "                    ).then(function(){\n",
       "                            \n",
       "var gd = document.getElementById('5cb93dfa-3037-4c3f-ad39-3577173b554c');\n",
       "var x = new MutationObserver(function (mutations, observer) {{\n",
       "        var display = window.getComputedStyle(gd).display;\n",
       "        if (!display || display === 'none') {{\n",
       "            console.log([gd, 'removed!']);\n",
       "            Plotly.purge(gd);\n",
       "            observer.disconnect();\n",
       "        }}\n",
       "}});\n",
       "\n",
       "// Listen for the removal of the full notebook cells\n",
       "var notebookContainer = gd.closest('#notebook-container');\n",
       "if (notebookContainer) {{\n",
       "    x.observe(notebookContainer, {childList: true});\n",
       "}}\n",
       "\n",
       "// Listen for the clearing of the current output cell\n",
       "var outputEl = gd.closest('.output');\n",
       "if (outputEl) {{\n",
       "    x.observe(outputEl, {childList: true});\n",
       "}}\n",
       "\n",
       "                        })\n",
       "                };\n",
       "                });\n",
       "            </script>\n",
       "        </div>"
      ]
     },
     "metadata": {},
     "output_type": "display_data"
    }
   ],
   "source": [
    "iplot(d)"
   ]
  },
  {
   "cell_type": "code",
   "execution_count": 12,
   "metadata": {},
   "outputs": [
    {
     "name": "stderr",
     "output_type": "stream",
     "text": [
      "/home/saxsa/anaconda3/lib/python3.7/site-packages/pandas_profiling/describe.py:392: FutureWarning:\n",
      "\n",
      "The join_axes-keyword is deprecated. Use .reindex or .reindex_like on the result to achieve the same functionality.\n",
      "\n"
     ]
    },
    {
     "data": {
      "text/html": [
       "<meta charset=\"UTF-8\">\n",
       "\n",
       "<style>\n",
       "\n",
       "        .variablerow {\n",
       "            border: 1px solid #e1e1e8;\n",
       "            border-top: hidden;\n",
       "            padding-top: 2em;\n",
       "            padding-bottom: 2em;\n",
       "            padding-left: 1em;\n",
       "            padding-right: 1em;\n",
       "        }\n",
       "\n",
       "        .headerrow {\n",
       "            border: 1px solid #e1e1e8;\n",
       "            background-color: #f5f5f5;\n",
       "            padding: 2em;\n",
       "        }\n",
       "        .namecol {\n",
       "            margin-top: -1em;\n",
       "            overflow-x: auto;\n",
       "        }\n",
       "\n",
       "        .dl-horizontal dt {\n",
       "            text-align: left;\n",
       "            padding-right: 1em;\n",
       "            white-space: normal;\n",
       "        }\n",
       "\n",
       "        .dl-horizontal dd {\n",
       "            margin-left: 0;\n",
       "        }\n",
       "\n",
       "        .ignore {\n",
       "            opacity: 0.4;\n",
       "        }\n",
       "\n",
       "        .container.pandas-profiling {\n",
       "            max-width:975px;\n",
       "        }\n",
       "\n",
       "        .col-md-12 {\n",
       "            padding-left: 2em;\n",
       "        }\n",
       "\n",
       "        .indent {\n",
       "            margin-left: 1em;\n",
       "        }\n",
       "\n",
       "        .center-img {\n",
       "            margin-left: auto !important;\n",
       "            margin-right: auto !important;\n",
       "            display: block;\n",
       "        }\n",
       "\n",
       "        /* Table example_values */\n",
       "            table.example_values {\n",
       "                border: 0;\n",
       "            }\n",
       "\n",
       "            .example_values th {\n",
       "                border: 0;\n",
       "                padding: 0 ;\n",
       "                color: #555;\n",
       "                font-weight: 600;\n",
       "            }\n",
       "\n",
       "            .example_values tr, .example_values td{\n",
       "                border: 0;\n",
       "                padding: 0;\n",
       "                color: #555;\n",
       "            }\n",
       "\n",
       "        /* STATS */\n",
       "            table.stats {\n",
       "                border: 0;\n",
       "            }\n",
       "\n",
       "            .stats th {\n",
       "                border: 0;\n",
       "                padding: 0 2em 0 0;\n",
       "                color: #555;\n",
       "                font-weight: 600;\n",
       "            }\n",
       "\n",
       "            .stats tr {\n",
       "                border: 0;\n",
       "            }\n",
       "\n",
       "            .stats td{\n",
       "                color: #555;\n",
       "                padding: 1px;\n",
       "                border: 0;\n",
       "            }\n",
       "\n",
       "\n",
       "        /* Sample table */\n",
       "            table.sample {\n",
       "                border: 0;\n",
       "                margin-bottom: 2em;\n",
       "                margin-left:1em;\n",
       "            }\n",
       "            .sample tr {\n",
       "                border:0;\n",
       "            }\n",
       "            .sample td, .sample th{\n",
       "                padding: 0.5em;\n",
       "                white-space: nowrap;\n",
       "                border: none;\n",
       "\n",
       "            }\n",
       "\n",
       "            .sample thead {\n",
       "                border-top: 0;\n",
       "                border-bottom: 2px solid #ddd;\n",
       "            }\n",
       "\n",
       "            .sample td {\n",
       "                width:100%;\n",
       "            }\n",
       "\n",
       "\n",
       "        /* There is no good solution available to make the divs equal height and then center ... */\n",
       "            .histogram {\n",
       "                margin-top: 3em;\n",
       "            }\n",
       "        /* Freq table */\n",
       "\n",
       "            table.freq {\n",
       "                margin-bottom: 2em;\n",
       "                border: 0;\n",
       "            }\n",
       "            table.freq th, table.freq tr, table.freq td {\n",
       "                border: 0;\n",
       "                padding: 0;\n",
       "            }\n",
       "\n",
       "            .freq thead {\n",
       "                font-weight: 600;\n",
       "                white-space: nowrap;\n",
       "                overflow: hidden;\n",
       "                text-overflow: ellipsis;\n",
       "\n",
       "            }\n",
       "\n",
       "            td.fillremaining{\n",
       "                width:auto;\n",
       "                max-width: none;\n",
       "            }\n",
       "\n",
       "            td.number, th.number {\n",
       "                text-align:right ;\n",
       "            }\n",
       "\n",
       "        /* Freq mini */\n",
       "            .freq.mini td{\n",
       "                width: 50%;\n",
       "                padding: 1px;\n",
       "                font-size: 12px;\n",
       "\n",
       "            }\n",
       "            table.freq.mini {\n",
       "                 width:100%;\n",
       "            }\n",
       "            .freq.mini th {\n",
       "                overflow: hidden;\n",
       "                text-overflow: ellipsis;\n",
       "                white-space: nowrap;\n",
       "                max-width: 5em;\n",
       "                font-weight: 400;\n",
       "                text-align:right;\n",
       "                padding-right: 0.5em;\n",
       "            }\n",
       "\n",
       "            .missing {\n",
       "                color: #a94442;\n",
       "            }\n",
       "            .alert, .alert > th, .alert > td {\n",
       "                color: #a94442;\n",
       "            }\n",
       "\n",
       "\n",
       "        /* Bars in tables */\n",
       "            .freq .bar{\n",
       "                float: left;\n",
       "                width: 0;\n",
       "                height: 100%;\n",
       "                line-height: 20px;\n",
       "                color: #fff;\n",
       "                text-align: center;\n",
       "                background-color: #337ab7;\n",
       "                border-radius: 3px;\n",
       "                margin-right: 4px;\n",
       "            }\n",
       "            .other .bar {\n",
       "                background-color: #999;\n",
       "            }\n",
       "            .missing .bar{\n",
       "                background-color: #a94442;\n",
       "            }\n",
       "            .tooltip-inner {\n",
       "                width: 100%;\n",
       "                white-space: nowrap;\n",
       "                text-align:left;\n",
       "            }\n",
       "\n",
       "            .extrapadding{\n",
       "                padding: 2em;\n",
       "            }\n",
       "\n",
       "            .pp-anchor{\n",
       "\n",
       "            }\n",
       "\n",
       "</style>\n",
       "\n",
       "<div class=\"container pandas-profiling\">\n",
       "    <div class=\"row headerrow highlight\">\n",
       "        <h1>Overview</h1>\n",
       "    </div>\n",
       "    <div class=\"row variablerow\">\n",
       "    <div class=\"col-md-6 namecol\">\n",
       "        <p class=\"h4\">Dataset info</p>\n",
       "        <table class=\"stats\" style=\"margin-left: 1em;\">\n",
       "            <tbody>\n",
       "            <tr>\n",
       "                <th>Number of variables</th>\n",
       "                <td>9 </td>\n",
       "            </tr>\n",
       "            <tr>\n",
       "                <th>Number of observations</th>\n",
       "                <td>848 </td>\n",
       "            </tr>\n",
       "            <tr>\n",
       "                <th>Total Missing (%)</th>\n",
       "                <td>3.7% </td>\n",
       "            </tr>\n",
       "            <tr>\n",
       "                <th>Total size in memory</th>\n",
       "                <td>66.2 KiB </td>\n",
       "            </tr>\n",
       "            <tr>\n",
       "                <th>Average record size in memory</th>\n",
       "                <td>80.0 B </td>\n",
       "            </tr>\n",
       "            </tbody>\n",
       "        </table>\n",
       "    </div>\n",
       "    <div class=\"col-md-6 namecol\">\n",
       "        <p class=\"h4\">Variables types</p>\n",
       "        <table class=\"stats\" style=\"margin-left: 1em;\">\n",
       "            <tbody>\n",
       "            <tr>\n",
       "                <th>Numeric</th>\n",
       "                <td>2 </td>\n",
       "            </tr>\n",
       "            <tr>\n",
       "                <th>Categorical</th>\n",
       "                <td>5 </td>\n",
       "            </tr>\n",
       "            <tr>\n",
       "                <th>Boolean</th>\n",
       "                <td>0 </td>\n",
       "            </tr>\n",
       "            <tr>\n",
       "                <th>Date</th>\n",
       "                <td>0 </td>\n",
       "            </tr>\n",
       "            <tr>\n",
       "                <th>Text (Unique)</th>\n",
       "                <td>0 </td>\n",
       "            </tr>\n",
       "            <tr>\n",
       "                <th>Rejected</th>\n",
       "                <td>2 </td>\n",
       "            </tr>\n",
       "            <tr>\n",
       "                <th>Unsupported</th>\n",
       "                <td>0 </td>\n",
       "            </tr>\n",
       "            </tbody>\n",
       "        </table>\n",
       "    </div>\n",
       "    <div class=\"col-md-12\" style=\"padding-left: 1em;\">\n",
       "        \n",
       "        <p class=\"h4\">Warnings</p>\n",
       "        <ul class=\"list-unstyled\"><li><a href=\"#pp_var_NumCaso\"><code>NumCaso</code></a> is highly correlated with <a href=\"#pp_var_index\"><code>index</code></a> (ρ = 1) <span class=\"label label-primary\">Rejected</span></li><li><a href=\"#pp_var_IdentificacionRT-PCR_COVID19(tiemporeal)\"><code>IdentificacionRT-PCR_COVID19(tiemporeal)</code></a> has constant value confirmado <span class=\"label label-primary\">Rejected</span></li><li><a href=\"#pp_var_Llegada_México\"><code>Llegada_México</code></a> has 281 / 33.1% missing values <span class=\"label label-default\">Missing</span></li> </ul>\n",
       "    </div>\n",
       "</div>\n",
       "    <div class=\"row headerrow highlight\">\n",
       "        <h1>Variables</h1>\n",
       "    </div>\n",
       "    <div class=\"row variablerow\">\n",
       "    <div class=\"col-md-3 namecol\">\n",
       "        <p class=\"h4 pp-anchor\" id=\"pp_var_index\">index<br/>\n",
       "            <small>Numeric</small>\n",
       "        </p>\n",
       "    </div><div class=\"col-md-6\">\n",
       "    <div class=\"row\">\n",
       "        <div class=\"col-sm-6\">\n",
       "            <table class=\"stats \">\n",
       "                <tr>\n",
       "                    <th>Distinct count</th>\n",
       "                    <td>848</td>\n",
       "                </tr>\n",
       "                <tr>\n",
       "                    <th>Unique (%)</th>\n",
       "                    <td>100.0%</td>\n",
       "                </tr>\n",
       "                <tr class=\"ignore\">\n",
       "                    <th>Missing (%)</th>\n",
       "                    <td>0.0%</td>\n",
       "                </tr>\n",
       "                <tr class=\"ignore\">\n",
       "                    <th>Missing (n)</th>\n",
       "                    <td>0</td>\n",
       "                </tr>\n",
       "                <tr class=\"ignore\">\n",
       "                    <th>Infinite (%)</th>\n",
       "                    <td>0.0%</td>\n",
       "                </tr>\n",
       "                <tr class=\"ignore\">\n",
       "                    <th>Infinite (n)</th>\n",
       "                    <td>0</td>\n",
       "                </tr>\n",
       "            </table>\n",
       "\n",
       "        </div>\n",
       "        <div class=\"col-sm-6\">\n",
       "            <table class=\"stats \">\n",
       "\n",
       "                <tr>\n",
       "                    <th>Mean</th>\n",
       "                    <td>423.5</td>\n",
       "                </tr>\n",
       "                <tr>\n",
       "                    <th>Minimum</th>\n",
       "                    <td>0</td>\n",
       "                </tr>\n",
       "                <tr>\n",
       "                    <th>Maximum</th>\n",
       "                    <td>847</td>\n",
       "                </tr>\n",
       "                <tr class=\"ignore\">\n",
       "                    <th>Zeros (%)</th>\n",
       "                    <td>0.1%</td>\n",
       "                </tr>\n",
       "            </table>\n",
       "        </div>\n",
       "    </div>\n",
       "</div>\n",
       "<div class=\"col-md-3 collapse in\" id=\"minihistogram2530357813106062722\">\n",
       "    <img src=\"data:image/png;base64,iVBORw0KGgoAAAANSUhEUgAAAMgAAABLCAYAAAA1fMjoAAAABHNCSVQICAgIfAhkiAAAAAlwSFlzAAAPYQAAD2EBqD%2BnaQAAADh0RVh0U29mdHdhcmUAbWF0cGxvdGxpYiB2ZXJzaW9uMy4xLjEsIGh0dHA6Ly9tYXRwbG90bGliLm9yZy8QZhcZAAABEUlEQVR4nO3WwQkCMQBFQRVLsgh78mxPFmFP8S76YAVNkJlzDj%2Bwj%2Bx%2BjDF2wEuH2QNgZcfZA56dLrfZE966X8%2Bbzv/qLqvu%2BsTWu3zbcoGsbNUPa9Vd/8AvFgSBQBAIBIFAEAgEgUAQCASBQBAIBIFAEAgEgUAQCASBQBAIBIFAEAgEgUAQCASBQBAIBIFAEAgEgUAQCASBQBAIBIFAEAgEgUAQCASBQBAIBIFAEAgEgUAQCASBQBAIBIFAEAgEgUAQCASBQBAIhP0YY8weAavygkAQCASBQBAIBIFAEAgEgUAQCASBQBAIBIFAEAgEgUAQCASBQBAIBIFAEAgEgUAQCASBQBAIBIFAEAgEgUB4APhXFF/oWlTYAAAAAElFTkSuQmCC\">\n",
       "\n",
       "</div>\n",
       "<div class=\"col-md-12 text-right\">\n",
       "    <a role=\"button\" data-toggle=\"collapse\" data-target=\"#descriptives2530357813106062722,#minihistogram2530357813106062722\"\n",
       "       aria-expanded=\"false\" aria-controls=\"collapseExample\">\n",
       "        Toggle details\n",
       "    </a>\n",
       "</div>\n",
       "<div class=\"row collapse col-md-12\" id=\"descriptives2530357813106062722\">\n",
       "    <ul class=\"nav nav-tabs\" role=\"tablist\">\n",
       "        <li role=\"presentation\" class=\"active\"><a href=\"#quantiles2530357813106062722\"\n",
       "                                                  aria-controls=\"quantiles2530357813106062722\" role=\"tab\"\n",
       "                                                  data-toggle=\"tab\">Statistics</a></li>\n",
       "        <li role=\"presentation\"><a href=\"#histogram2530357813106062722\" aria-controls=\"histogram2530357813106062722\"\n",
       "                                   role=\"tab\" data-toggle=\"tab\">Histogram</a></li>\n",
       "        <li role=\"presentation\"><a href=\"#common2530357813106062722\" aria-controls=\"common2530357813106062722\"\n",
       "                                   role=\"tab\" data-toggle=\"tab\">Common Values</a></li>\n",
       "        <li role=\"presentation\"><a href=\"#extreme2530357813106062722\" aria-controls=\"extreme2530357813106062722\"\n",
       "                                   role=\"tab\" data-toggle=\"tab\">Extreme Values</a></li>\n",
       "\n",
       "    </ul>\n",
       "\n",
       "    <div class=\"tab-content\">\n",
       "        <div role=\"tabpanel\" class=\"tab-pane active row\" id=\"quantiles2530357813106062722\">\n",
       "            <div class=\"col-md-4 col-md-offset-1\">\n",
       "                <p class=\"h4\">Quantile statistics</p>\n",
       "                <table class=\"stats indent\">\n",
       "                    <tr>\n",
       "                        <th>Minimum</th>\n",
       "                        <td>0</td>\n",
       "                    </tr>\n",
       "                    <tr>\n",
       "                        <th>5-th percentile</th>\n",
       "                        <td>42.35</td>\n",
       "                    </tr>\n",
       "                    <tr>\n",
       "                        <th>Q1</th>\n",
       "                        <td>211.75</td>\n",
       "                    </tr>\n",
       "                    <tr>\n",
       "                        <th>Median</th>\n",
       "                        <td>423.5</td>\n",
       "                    </tr>\n",
       "                    <tr>\n",
       "                        <th>Q3</th>\n",
       "                        <td>635.25</td>\n",
       "                    </tr>\n",
       "                    <tr>\n",
       "                        <th>95-th percentile</th>\n",
       "                        <td>804.65</td>\n",
       "                    </tr>\n",
       "                    <tr>\n",
       "                        <th>Maximum</th>\n",
       "                        <td>847</td>\n",
       "                    </tr>\n",
       "                    <tr>\n",
       "                        <th>Range</th>\n",
       "                        <td>847</td>\n",
       "                    </tr>\n",
       "                    <tr>\n",
       "                        <th>Interquartile range</th>\n",
       "                        <td>423.5</td>\n",
       "                    </tr>\n",
       "                </table>\n",
       "            </div>\n",
       "            <div class=\"col-md-4 col-md-offset-2\">\n",
       "                <p class=\"h4\">Descriptive statistics</p>\n",
       "                <table class=\"stats indent\">\n",
       "                    <tr>\n",
       "                        <th>Standard deviation</th>\n",
       "                        <td>244.94</td>\n",
       "                    </tr>\n",
       "                    <tr>\n",
       "                        <th>Coef of variation</th>\n",
       "                        <td>0.57837</td>\n",
       "                    </tr>\n",
       "                    <tr>\n",
       "                        <th>Kurtosis</th>\n",
       "                        <td>-1.2</td>\n",
       "                    </tr>\n",
       "                    <tr>\n",
       "                        <th>Mean</th>\n",
       "                        <td>423.5</td>\n",
       "                    </tr>\n",
       "                    <tr>\n",
       "                        <th>MAD</th>\n",
       "                        <td>212</td>\n",
       "                    </tr>\n",
       "                    <tr class=\"\">\n",
       "                        <th>Skewness</th>\n",
       "                        <td>0</td>\n",
       "                    </tr>\n",
       "                    <tr>\n",
       "                        <th>Sum</th>\n",
       "                        <td>359128</td>\n",
       "                    </tr>\n",
       "                    <tr>\n",
       "                        <th>Variance</th>\n",
       "                        <td>59996</td>\n",
       "                    </tr>\n",
       "                    <tr>\n",
       "                        <th>Memory size</th>\n",
       "                        <td>53.2 KiB</td>\n",
       "                    </tr>\n",
       "                </table>\n",
       "            </div>\n",
       "        </div>\n",
       "        <div role=\"tabpanel\" class=\"tab-pane col-md-8 col-md-offset-2\" id=\"histogram2530357813106062722\">\n",
       "            <img src=\"data:image/png;base64,iVBORw0KGgoAAAANSUhEUgAAAlgAAAGQCAYAAAByNR6YAAAABHNCSVQICAgIfAhkiAAAAAlwSFlzAAAPYQAAD2EBqD%2BnaQAAADh0RVh0U29mdHdhcmUAbWF0cGxvdGxpYiB2ZXJzaW9uMy4xLjEsIGh0dHA6Ly9tYXRwbG90bGliLm9yZy8QZhcZAAAgAElEQVR4nO3de3TNd77/8VeSzSAcuVQUXctoTZtgh7rfSlBptRVdM9iMc4xLaVXFLaNal2q1NdNSHdSMaXvolKlwThVVWk5pHXKG6kxDYvQyvQmRTXbqUqnE/vz%2B6M%2Be2UJF8%2BFr7/18rOWPfPY3n7zjY639XN%2B9JVHGGCMAAABYE%2B30AAAAAOGGwAIAALCMwAIAALCMwAIAALCMwAIAALCMwAIAALCMwAIAALCMwAIAALCMwAIAALCMwAIAALCMwAIAALCMwAIAALCMwAIAALCMwAIAALCMwAIAALCMwAIAALCMwAIAALCMwAIAALCMwAIAALCMwAIAALCMwAIAALCMwAIAALCMwAIAALCMwAIAALCMwAIAALCMwAIAALCMwAIAALCMwAIAALCMwAIAALCMwAIAALCMwAIAALCMwAIAALCMwAIAALCMwAIAALCMwAIAALCMwAIAALCMwAIAALCMwAIAALCMwAIAALDM5fQAkcLrPWF9z%2BjoKCUkxKq4%2BJT8fmN9f/x4nM21i7O5dnE2165QPpt69eo48nW5gxXCoqOjFBUVpejoKKdHwXk4m2sXZ3Pt4myuXZzN5SOwAAAALCOwAAAALCOwAAAALCOwAAAALCOwAAAALCOwAAAALCOwAAAALCOwAAAALCOwAAAALCOwAAAALCOwAAAALCOwAAAALCOwAAAALHM5PQCqpu20TU6PgGvExgldnB6h0vo8v8PpEcIa/xYQikLp321lcAcLAADAMgILAADAMgILAADAMt6DBYQJ3suCc/i3ADiPO1gAAACWEVgAAACWEVgAAACWEVgAAACWEVgAAACWEVgAAACWEVgAAACWEVgAAACWEVgAAACWRWxg5eXlaejQoWrTpo06deqkrKwsFRcXS5JycnKUkZEht9ut3r17a926dQ5PCwAAQklEBtbZs2c1evRo3XrrrcrJydHGjRtVXFysWbNm6ciRIxozZoz69%2B%2BvXbt2adq0aZoxY4Zyc3OdHhsAAISIiAwsr9ero0ePqm/fvqpevbri4uLUq1cv7d%2B/X%2BvXr1fjxo01dOhQ1axZU2lpaerVq5dWr17t9NgAACBEROQve65fv76aNWumVatWaeLEiTp9%2BrQ2b96stLQ05efnq3nz5kHXp6SkaOPGjZXev6ioSF6vN2jN5aqlpKQkK/OfExMTkX0MAAhDLld4PadFZGBFRUVpwYIFGjFihF555RVJUvv27TVp0iQ9%2BOCDSk5ODro%2BLi4u8P6sysjOztaiRYuC1saOHavMzMyqDw8AQBiKj491egSrIjKwzpw5o/vvv1933nmnHnjgAZ0%2BfVozZ85UVlbWRT8nKiqq0vt7PB717NkzaM3lqiWf79SPnvlCuIMFAAgXtp8jz3Eq3CIysHbu3KmDBw9qwoQJiomJUWxsrMaNG6d7771X3bt3V0lJSdD1Pp9PCQkJld4/KSmpwsuBXu8JlZf7rcwPAEC4CbfnyIi8BWKMkd8ffJBlZWWSpI4dOyovLy/osdzcXKWmpl61%2BQAAQGiLyMBq1aqVYmNjtXDhQpWWluqbb77Riy%2B%2BqFtvvVX9%2BvVTQUGBli1bptLSUm3atEnvv/%2B%2BPB6P02MDAIAQEZGBFR8frxdffFF79uxR165ddeeddyo6OlrPP/%2B8EhMTtWTJEq1Zs0bt2rXT/PnzNW/evApvfAcAALiYKGOMcXqISOD1nrC%2Bp8sVrd5zt1vfFwCAq23jhC5XZN969epckX0vJSLvYAEAAFxJBBYAAIBlBBYAAIBlBBYAAIBlBBYAAIBlBBYAAIBlBBYAAIBlBBYAAIBlBBYAAIBlBBYAAIBlBBYAAIBlBBYAAIBlBBYAAIBlBBYAAIBlBBYAAIBlBBYAAIBlBBYAAIBlBBYAAIBlBBYAAIBlBBYAAIBlBBYAAIBlBBYAAIBlBBYAAIBlBBYAAIBlBBYAAIBlLqcHcMLu3bs1YsSICutnzpzRu%2B%2B%2Bq%2BPHj%2Bvxxx9Xfn6%2B4uLiNHz4cA0fPtyBSQEAQCiKyMBq166d9u7dG7S2YsUKvfnmm4qPj5fH41FGRoZefvllffrppxo1apQaNmyoO%2B64w6GJAQBAKOElQknHjh3TggUL9Nhjj%2Bm9995TWVmZJk%2BerNjYWLVs2VIej0fZ2dlOjwkAAEJERN7BOt/vfvc73XHHHUpOTtaGDRuUnJysmJiYwOMpKSlatWpVpfcrKiqS1%2BsNWnO5aikpKcnazJIUE0MfAwDCg8sVXs9pER9YBw8e1Pr167Vp0yZJks/nU926dYOuiYuLU0lJifx%2Bv6KjL/0PIDs7W4sWLQpaGzt2rDIzM%2B0NDgBAGImPj3V6BKsiPrBWrFihHj16qH79%2Btb29Hg86tmzZ9Cay1VLPt8pa19D4g4WACB82H6OPMepcIv4wNq4caOmT58e%2BDgxMVFfffVV0DU%2Bn0/x8fGVunslSUlJSRVeDvR6T6i83F/1gQEACEPh9hwZ0bdAPv30UxUWFqpjx46BNbfbrQMHDqi8vDywlpubq9TUVCdGBAAAISiiAys/P18NGjRQ7dq1A2vdunVTbGys5s2bp1OnTmnXrl1atWqVhgwZ4uCkAAAglET0S4Rer1dxcXFBa9WrV9eSJUs0c%2BZMderUSYmJiZoyZYq6d%2B/u0JQAACDURBljjNNDRAKv94T1PV2uaPWeu936vgAAXG0bJ3S5IvvWq1fniux7KRH9EiEAAMCVQGABAABYRmABAABYRmABAABYRmABAABYRmABAABYRmABAABYRmABAABYRmABAABYRmABAABYRmABAABYRmABAABYRmABAABYRmABAABYRmABAABYRmABAABYRmABAABYRmABAABYRmABAABYRmABAABYRmABAABYRmABAABYRmABAABYRmABAABYFtGBtXjxYnXt2lW33nqrhg0bpq%2B//lqSlJOTo4yMDLndbvXu3Vvr1q1zeFIAABBKIjawVqxYoW3btmnVqlXatm2bGjRooGXLlunIkSMaM2aM%2Bvfvr127dmnatGmaMWOGcnNznR4ZAACECJfTAzjlP//zPzV//nw1bNhQkjRnzhxJ0ksvvaTGjRtr6NChkqS0tDT16tVLq1evVmpqqmPzAgCA0BGRd7AKCwtVWFioL7/8Uunp6erQoYMmTJggn8%2Bn/Px8NW/ePOj6lJQU5eXlOTQtAAAINRF5B%2BvIkSOKiorSli1blJ2drdLSUmVmZmrmzJk6efKkkpOTg66Pi4tTcXFxpfcvKiqS1%2BsNWnO5aikpKcnK/OfExERkHwMAwpDLFV7PaREZWGVlZSorK1NWVpbi4%2BMlSZmZmRo1apQ6dep0wc%2BJioqq9P7Z2dlatGhR0NrYsWOVmZn544cGACCMxcfHOj2CVREZWHFxcZKk2rVrB9YaNWokY4zKy8tVUlISdL3P51NCQkKl9/d4POrZs2fQmstVSz7fqSpMXRF3sAAA4cL2c%2BQ5ToVbRAZW48aNVbt2beXl5alr166SpIKCArlcLqWlpWnt2rVB1%2Bfm5l7WG9yTkpIqvBzo9Z5Qebm/6sMDABCGwu05MiJvgVSrVk0DBgzQ3LlzVVhYKK/XqxdeeEH9%2BvXTvffeq4KCAi1btkylpaXatGmT3n//fXk8HqfHBgAAISIiA0uSJk2apNatWysjI0N9%2B/ZVkyZN9OijjyoxMVFLlizRmjVr1K5dO82fP1/z5s2r8MZ3AACAi4kyxhinh4gEXu8J63u6XNHqPXe79X0BALjaNk7ockX2rVevzhXZ91Ii9g4WAADAlUJgAQAAWEZgAQAAWEZgAQAAWEZgAQAAWEZgAQAAWEZgAQAAWEZgAQAAWEZgAQAAWEZgAQAAWEZgAQAAWEZgAQAAWEZgAQAAWEZgAQAAWEZgAQAAWBZSgXXixAmnRwAAALikkAqsrl276uGHH9YHH3zg9CgAAAAXFVKB9fjjj%2BvYsWMaNmyY%2BvTpo6VLl6q4uNjpsQAAAIJEGWOM00NcruLiYm3YsEEbNmxQfn6%2BevXqpYEDB6pTp05Oj3ZRXq/9lzddrmj1nrvd%2Br4AAFxtGyd0uSL71qtX54rseykhdQfrnISEBP3Hf/yHVq5cqd/%2B9rfauXOnRowYoT59%2Buidd95xejwAABDhXE4P8GMUFxfr9ddf1%2Buvv64vv/xSnTt3lsfj0dGjRzVz5kx99dVXuu%2B%2B%2B5weEwAARKiQCqzt27dr9erVevfddxUXF6df/OIXGjBggG644YbANc2aNdOoUaMILAAA4JiQCqzRo0erQ4cOmjt3rm6//Xa5XBXHT01NVVJSkgPTAQAAfC%2BkAmvTpk1q3Lixzpw5E4irkydPqnbt2kHXrV%2B/3onxAAAAJIXYm9xjYmJ0zz336N133w2srVq1Sn369NHXX3/t4GQAAAD/FFKB9dRTT%2BlnP/uZ2rRpE1jLyMhQy5Yt9dRTT1V6nx49eqhFixZyu92BP7Nnz5Yk5eTkKCMjQ263W71799a6deusfx8AACC8hdRLhHv27NF7772nmjVrBtauu%2B46zZw5U2lpaZXe5/jx4/rTn/6k1q1bB60fOXJEY8aM0aRJkzRgwAD95S9/0fjx4/XTn/5Uqamptr4NAAAQ5kLqDpYxRmfOnKmwfurUKfn9/krtcfbsWZ06dUp169at8Nj69evVuHFjDR06VDVr1lRaWpp69eql1atXV3l2AAAQOUIqsLp06aIpU6YoPz9fx48fV0lJifbs2aNJkyapa9euldrj%2BPHjMsZo4cKF6tq1q7p27arp06fr5MmTys/PV/PmzYOuT0lJUV5e3pX4dgAAQJgKqZcIZ8yYoaysLP385z9XVFRUYL1Dhw6aPn16pfY4c%2BaMmjdvLrfbrSeffFJFRUUaP368Zs2aJZ/Pp%2BTk5KDr4%2BLiLvv3HRYVFcnr9QatuVy1rP/4iJiYkOpjAAAuyuUKr%2Be0kAqsxMRELV26VJ9%2B%2Bqm%2B%2BOILSVKTJk100003VXqP%2BvXr6/XXXw98XLt2bWVlZemBBx5Q27ZtL/g5/xpzlZGdna1FixYFrY0dO1aZmZmXtQ8AAJEiPj7W6RGsCqnAOqdp06Zq2rSptf1uuOEG%2Bf1%2BRUdHq6SkJOgxn8%2BnhISEy9rP4/GoZ8%2BeQWsuVy35fKeqPOu/4g4WACBc2H6OPMepcAupwNq7d69mz56tTz75RKWlpRUe379//yX3%2BPvf/6433nhDU6dODaz94x//UPXq1dW9e3e98cYbQdfn5uZe9v8gTEpKqvByoNd7QuXllXsjPgAAkSbcniNDKrBmzpyp6tWra/z48apRo8aP2iM%2BPl7Z2dlKSEjQsGHDdOjQIf3ud7/T4MGD1a9fP73wwgtatmyZBg0apG3btun999/XqlWrLH8nAAAgnEUZY4zTQ1RWq1attHPnTtWqVatK%2B%2BzevVtz587Vxx9/rPj4eN11113KzMxU9erV9cEHH2j27Nn6xz/%2BoYYNGyorK0u9e/eu8uxe74kq73E%2Blytavedut74vAABX28YJXa7IvvXq1bki%2B15KSN3Buv766yv9865%2BSLt27ZSdnX3Bx9q2bau1a9dW%2BWsAAIDIFVLvks7KytKcOXN08uRJp0cBAAC4qJC6g7V48WIdPHhQa9asUVxcnKKjg/vwf//3fx2aDAAA4J9CKrBuu%2B02VatWzekxAAAAflBIBdbEiROdHgEAAOCSQuo9WJL00Ucf6ZFHHtGvfvUrSZLf79fGjRsdngoAAOCfQiqw/ud//ke//OUv5fP59OGHH0qSCgsLNXPmTK1evdrh6QAAAL4XUoH1hz/8Qc8%2B%2B6z%2B8Ic/BH4/YMOGDbVgwQItW7bM2eEAAAD%2Bv5AKrM8//1zp6emSgn8Bc4cOHVRQUODUWAAAAEFCKrCqVatW4ZcxS9IXX3zxo391DgAAgG0hFVhpaWmaPn26PvvsM0mSz%2BfT9u3bNWHCBPXo0cPh6QAAAL4XUoH1yCOPyBiju%2B%2B%2BW9999506d%2B6sUaNGqWHDhpo6darT4wEAAEgKsZ%2BD9W//9m9asmSJPvvsM33%2B%2BeeKjo5WkyZN1KRJE6dHAwAACAipwDrnpptu0k033RS05vf7K/zqHAAAACeEVGAlJycH/e/B8%2B3fv/8qTgMAAHBhIRVYjz32WFBg%2Bf1%2BFRQUaMuWLbrvvvscnAwAAOCfQiqwBg8efMH1/v37a/78%2BRowYMBVnggAAKCisHjTUpMmTfTJJ584PQYAAICkMAmsv/71rzpx4oTTYwAAAEgKsZcIu3btWmGtrKxMx48f1y9/%2BUsHJgIAAKgopALL4/FU%2BF%2BEP/nJT/Szn/1MaWlpzgwFAABwnpAKrHHjxjk9AgAAwCWFVGA9//zzcrkqN/JDDz10hacBAAC4sJAKrM2bN%2BvQoUMqLS1VXFyc/H6/vvnmG9WsWVPx8fGB66KioggsAADgmJAKrNGjR%2Bv//u//NGXKlEBQHTlyRM8884x69Oihe%2B65x%2BEJAQAAQuzHNCxcuFCPPvpo0N2q%2BvXra9q0aZo/f76DkwEAAPxTSAXWsWPHLvi7CKtVq6bi4uIftefTTz%2BtW265JfBxTk6OMjIy5Ha71bt3b61bt%2B5HzwsAACJTSAVW8%2BbNNWXKFOXl5en48eM6ceKE8vPz9eijjyo5Ofmy99u/f7/eeOONwMdHjhzRmDFj1L9/f%2B3atUvTpk3TjBkzlJuba/PbAAAAYS6k3oP1xBNP6MEHH9QvfvGLwJ0sY4xuuOEGLV68%2BLL28vv9euyxxzR8%2BHA9//zzkqT169ercePGGjp0qCQpLS1NvXr10urVq5Wammr3mwEAAGErpALrxhtv1KZNm7Rv3z4dPnxYxhhdf/31crvdF3zp8IesXLlSNWrUUN%2B%2BfQOBlZ%2Bfr%2BbNmwddl5KSoo0bN1r7HgAAQPgLqcA6Jz4%2BXqdOnVKHDh1%2B1OcfPXpUL7zwgl599dWgdZ/PV%2BGlxri4uMt%2Bf1dRUZG8Xm/QmstVS0lJST9q3ouJiQmpV3gBALgolyu8ntNCKrBKSko0efJk7dixQy6XS/v27ZPX69WIESP00ksvqX79%2BpXaZ86cORo4cKBuvPFGHTx48JLXX%2B7dsezsbC1atChobezYscrMzLysfQAAiBTx8bFOj2BVSAXW3Llz5ff7tXr1ag0ZMkSSVKdOHaWkpOipp57SggULLrlHTk6O9u3bp6effrrCYwkJCSopKQla8/l8SkhIuKw5PR6PevbsGbTmctWSz3fqsva5FO5gAQDChe3nyHOcCreQCqydO3fqtddeU/369QN3lWrUqKFHHnlEffr0qdQe69atU2Fhobp16ybp%2BzfJS1KHDh00cuRIvfnmm0HX5%2BbmXvYb3JOSkiq8HOj1nlB5uf%2By9gEAIFKE23NkSAXWsWPHVK9evQrrNWvWVGlpaaX2mDp1qsaPHx/4uLCwUB6PR2vXrpXf79eSJUu0bNkyDRo0SNu2bdP777%2BvVatWWfseAABA%2BAupwGrSpIm2bdtW4eW3lStXqkmTJpXao27duqpbt27g4/LycknS9ddfL0lasmSJZs%2BerXnz5qlhw4aaN2/ej/oZWwAAIHKFVGA9%2BOCDmjBhgnr27KmzZ8/qiSeeUF5envbu3Rv4UQuX64YbbtCBAwcCH7dt21Zr1661NTIAAIhAIfUu6fT0dC1fvlzR0dFq2rSp/va3v%2BmGG27QypUrlZ6e7vR4AAAAkkLoDpbf79e%2BffuUmpqq5557zulxAAAALipk7mBFR0dr6NChOnv2rNOjAAAA/KCQCSxJ6tu3r5YtWxb40QoAAADXopB5iVCSvF6v3n33Xf3xj39Uo0aNVL169aDHV65c6dBkAAAA/xRSgRUfHx/4AaEAAADXqpAIrMzMTC1YsEBz5swJrC1YsIDf7QcAAK5JIfEerPfee6/C2ssvv%2BzAJAAAAJcWEoF1IbzRHQAAXKtCNrDO/bJnAACAa03IBhYAAMC1isACAACwLCT%2BF2FZWZkmT558ybV58%2BZdzbEAAAAuKCQCq02bNioqKrrkGgAAwLUgJALr1VdfdXoEAACASuM9WAAAAJYRWAAAAJYRWAAAAJYRWAAAAJYRWAAAAJYRWAAAAJYRWAAAAJYRWAAAAJYRWAAAAJYRWAAAAJZFZGDt379fw4YNU9u2bdWxY0eNHz8%2B8HsNc3JylJGRIbfbrd69e2vdunUOTwsAAEJNxAXWd999p5EjR6pdu3bauXOn3nzzTR09elSzZs3SkSNHNGbMGPXv31%2B7du3StGnTNGPGDOXm5jo9NgAACCERF1ilpaWaOHGi7r//flWvXl3XXXed7rzzTn366adav369GjdurKFDh6pmzZpKS0tTr169tHr1aqfHBgAAIcTl9ABXW926dTVgwABJkjFGn3/%2BudasWaM%2BffooPz9fzZs3D7o%2BJSVFGzduvKyvUVRUJK/XG7TmctVSUlJS1YY/T0xMxPUxACBMuVzh9ZwWcYF1TkFBgdLT03X27Fl5PB6NHz9eI0eOVHJyctB1cXFxKi4uvqy9s7OztWjRoqC1sWPHKjMzs8pzAwAQjuLjY50ewaqIDaxGjRpp3759%2BvLLLzVjxgz9%2Bte/vui1UVFRl7W3x%2BNRz549g9Zcrlry%2BU79qFkvhjtYAIBwYfs58hynwi1iA0v6Ppx%2B%2BtOfasqUKerfv7%2B6d%2B%2BukpKSoGt8Pp8SEhIua9%2BkpKQKLwd6vSdUXu6v8swAAISjcHuOjLhbIDk5Obr99ttVXl4eWPP7vz/Uzp07Ky8vL%2Bj63NxcpaamXtUZAQBAaIu4wGrRooVOnz6tefPm6fTp0youLtbChQvVtm1b9e3bVwUFBVq2bJlKS0u1adMmvf/%2B%2B/J4PE6PDQAAQkjEBVadOnX00ksvaf/%2B/brtttt01113KTY2Vs8995wSExO1ZMkSrVmzRu3atdP8%2BfM1b968Cm98BwAA%2BCFRxhjj9BCRwOs9YX1Plytavedut74vAABX28YJXa7IvvXq1bki%2B15KxN3BAgAAuNIILAAAAMsILAAAAMsILAAAAMsILAAAAMsILAAAAMsILAAAAMsILAAAAMsILAAAAMsILAAAAMsILAAAAMsILAAAAMsILAAAAMsILAAAAMsILAAAAMsILAAAAMsILAAAAMsILAAAAMsILAAAAMsILAAAAMsILAAAAMsILAAAAMsILAAAAMsILAAAAMsILAAAAMsiNrAOHjyoMWPGqH379urUqZOmTJmib775RpK0f/9%2BDRo0SKmpqerWrZuWLl3q8LQAACCURGxgjRkzRnFxcdq6davWrVunzz//XM8884xOnz6tUaNGqXXr1srJydHChQv1%2B9//Xm%2B//bbTIwMAgBARkYF14sQJtWjRQllZWYqNjVW9evV077336oMPPtC2bdtUVlamyZMnKzY2Vi1btpTH41F2drbTYwMAgBDhcnoAJ9SpU0dz5swJWisoKFCDBg2Un5%2Bv5ORkxcTEBB5LSUnRqlWrKr1/UVGRvF5v0JrLVUtJSUlVG/w8MTER2ccAgDDkcoXXc1pEBtb59u7dqxUrVmjBggXavHmz6tatG/R4XFycSkpK5Pf7FR196X8A2dnZWrRoUdDa2LFjlZmZaXVuAADCRXx8rNMjWBXxgbVnzx6NGTNGU6ZMUffu3bV58%2BYq7%2BnxeNSzZ8%2BgNZerlny%2BU1Xe%2B19xBwsAEC5sP0ee41S4RXRgbd26Vb/%2B9a/1%2BOOP6%2B6775YkJSYm6quvvgq6zufzKT4%2BvlJ3ryQpKSmpwsuBXu8JlZf77QwOAECYCbfnyIi9BfLhhx/q4Ycf1oIFCwJxJUlut1sHDhxQeXl5YC03N1epqalOjAkAAEJQRAZWeXm5pk%2BfrvHjx6tz585Bj3Xr1k2xsbGaN2%2BeTp06pV27dmnVqlUaMmSIQ9MCAIBQE2WMMU4PcbV98MEHGjJkiKpXr17hsU2bNunbb7/VzJkzlZeXp8TERI0ePVqDBw%2Bu0tf0ek9U6fMvxOWKVu%2B5263vCwDA1bZxQpcrsm%2B9enWuyL6XEpHvwWrbtq0OHDjwg9e89tprV2kaAAAQbiLyJUIAAIAricACAACwjMACAACwjMACAACwjMACAACwjMACAACwjMACAACwjMACAACwjMACAACwjMACAACwjMACAACwjMACAACwjMACAACwjMACAACwjMACAACwjMACAACwjMACAACwjMACAACwjMACAACwjMACAACwjMACAACwjMACAACwjMACAACwjMACAACwjMACAACwLGIDa/v27ercubMmTpxY4bENGzbojjvukNvt1j333KMdO3Y4MCEAAAhVERlYL774op588kk1bty4wmP79u3Tww8/rPHjx2v37t0aNmyYxo4dq8OHDzswKQAACEURGVg/%2BclP9F//9V8XDKz//u//Vrdu3XTXXXepRo0a6t%2B/v2655RatXbvWgUkBAEAocjk9gBOGDh160cfy8/PVrVu3oLWUlBTl5eVVev%2BioiJ5vd6gNZerlpKSki5v0EuIiYnIPgYAhCGXK7ye0yIysH6Iz%2BdTXFxc0FrdunX1ySefVHqP7OxsLVq0KGht7NixyszMtDIjAADhJj4%2B1ukRrCKwKikqKqrS13o8HvXs2TNozeWqJZ/vlNWZuIMFAAgXtp8jz3Eq3Ais8yQkJMjn8wWt%2BXw%2BJSQkVHqPpKSkCi8Her0nVF7utzIjAADhJtyeI7kFch63213h/VZ79%2B5VamqqQxMBAIBQQ2CdZ8CAAdqxY4feeustlZaW6tVXX9VXX32le%2B%2B91%2BnRAABAiIjIlwjdbrckqby8XJK0ZcsWSd/fqbr55ps1d%2B5czZs3Tw8//LBuuukmLVmyRNddd51j8wIAgNASkYG1d%2B/eH3w8PT1d6enpV2kaAAAQbniJEAAAwDICCwAAwDICCwAAwDICCwAAwDICCwAAwDICCwAAwDICCwAAwDICCwAAwDICCwAAwDICCwAAwDICCwAAwDICCwAAwDICCxtRE9QAAAnDSURBVAAAwDICCwAAwDICCwAAwDICCwAAwDICCwAAwDICCwAAwDICCwAAwDICCwAAwDICCwAAwDICCwAAwDICCwAAwDICCwAAwDICCwAAwDIC6wIOHjyokSNHqlWrVurUqZOeffZZ%2Bf1%2Bp8cCAAAhwuX0ANcaY4weeughNW3aVO%2B9956OHTum%2B%2B67T4mJiRoxYoTT4wEAgBDAHazz7N27VwcOHND06dNVt25d3XjjjRo9erSys7OdHg0AAIQI7mCdJz8/X40aNVJcXFxgrVmzZvriiy908uRJ1a5d%2B5J7FBUVyev1Bq25XLWUlJRkddaYGPoYABAeXK7wek4jsM7j8/lUt27doLVzH/t8vkoFVnZ2thYtWhS09tBDD2ncuHH2BtX3Ifer6z%2BRx%2BOxHm%2BomqKiImVnZ3M21yDO5trF2Vy7OJvLF165eI3weDx6/fXXg/54PB7rX8fr9WrRokUV7pbBeZzNtYuzuXZxNtcuzubycQfrPImJiSopKQla8/l8kqSEhIRK7ZGUlEThAwAQwbiDdR63261Dhw4FokqScnNz1bRpU8XGxjo4GQAACBUE1nlSUlKUmpqqJ598UsePH9eBAwf0xz/%2BUUOGDHF6NAAAECJiZs2aNcvpIa41t912m95%2B%2B23Nnj1bb731lgYPHqyRI0c6PdYFxcbGqn379txduwZxNtcuzubaxdlcuzibyxNljDFODwEAABBOeIkQAADAMgILAADAMgILAADAMgILAADAMgILAADAMgILAADAMgILAADAMgILAADAMgILAADAMgIrBB08eFAjR45Uq1at1KlTJz377LPy%2B/1OjxUxDh48qDFjxqh9%2B/bq1KmTpkyZom%2B%2B%2BUaStH//fg0aNEipqanq1q2bli5dGvS5GzZs0B133CG326177rlHO3bscOJbiAhPP/20brnllsDHOTk5ysjIkNvtVu/evbVu3bqg61955RX16NFDqampGjBggPLy8q72yGFv8eLF6tq1q2699VYNGzZMX3/9tSTOxml5eXkaOnSo2rRpo06dOikrK0vFxcWSOJsqMQgpfr/f9OvXz0yePNmUlJSYzz77zPTo0cO8/PLLTo8WMe655x4zdepUc/LkSVNUVGT69%2B9vHn30UfPtt9%2BaLl26mN/%2B9rfm5MmT5m9/%2B5tp166d2bRpkzHGmL1795rmzZubDRs2mNOnT5vVq1ebli1bmkOHDjn8HYWf/Px8065dO3PzzTcbY4wpLCw0LVu2NK%2B88or59ttvzdatW01qaqr56KOPjDHGvPPOO6ZVq1YmJyfHfPvtt2bhwoWmS5cu5tSpU05%2BG2Fl%2BfLlZsCAAaagoMCUlJSYqVOnmieeeIKzcVh5ebnp3Lmzee6558x3331nfD6fGT58uBk3bhxnU0UEVoj56KOPTHJysvH5fIG11157zaSnpzs4VeQ4fvy4mTp1qjl69Ghgbfny5SY9Pd289dZbpn379qa8vDzw2Ny5c83w4cONMcbMmjXLjBkzJmi/gQMHmt///vdXZ/gIcfbsWTNgwACzePHiQGC9%2BOKLJiMjI%2Bi6iRMnmunTpxtjjBk1apR58sknA4/5/X7TtWtXs27duqs3eJjr2bNn4In5X3E2zjp8%2BLC5%2BeabzSeffBJYW758ubn99ts5myriJcIQk5%2Bfr0aNGikuLi6w1qxZM33xxRc6efKkg5NFhjp16mjOnDlKTEwMrBUUFKhBgwbKz89XcnKyYmJiAo%2BlpKQEbpnn5%2BerefPmQfv96%2BOwY%2BXKlapRo4b69u0bWLvU3/35j0dFRSk5OZmzsaSwsFCFhYX68ssvlZ6erg4dOmjChAny%2BXycjcPq16%2BvZs2aadWqVTp9%2BrSKi4u1efNmpaWlcTZVRGCFGJ/Pp7p16watnfvY5/M5MVJE27t3r1asWKHhw4df8Gzi4uJUUlIiv98vn88XFMbS92d37r0OqLqjR4/qhRde0KxZs4LWL3Y25/7uOZsr68iRI4qKitKWLVuUnZ2tN954QwUFBZo5cyZn47CoqCgtWLBAW7duDbyv9%2BzZs5o0aRJnU0UEFvAj7dmzRyNHjtSUKVPUvXv3H71PVFSUxaki25w5czRw4EDdeOONlbr%2B3N/9xc6As7GjrKxMZWVlysrKUnx8vBo0aKDMzExt3rz5op/D2VwdZ86c0f33368777xTH374oXbs2KE6deooKyvrop/D2VQOgRViEhMTVVJSErR27s5VQkKCEyNFpK1bt%2Br%2B%2B%2B/XY489piFDhki6%2BNnEx8crOjpaCQkJFe4y%2Bnw%2Bzs2SnJwc7du3Tw888ECFxxISEi54Nuf%2B7uPj43/wcVTNubsctWvXDqw1atRIxhiVl5dzNg7auXOnDh48qAkTJig2NlbXXXedxo0bpy1btqhatWqcTRUQWCHG7Xbr0KFDQU/Uubm5atq0qWJjYx2cLHJ8%2BOGHevjhh7VgwQLdfffdgXW3260DBw6ovLw8sJabm6vU1NTA4%2Be/N2Hv3r2Bx1E169atU2Fhobp166YOHTro5z//uSSpQ4cOuuWWWyr83Z9/Nvv27Qs8dvbsWeXn53M2ljRu3Fi1a9cOOoOCggK5XC6lpaVxNg4yxlT4MT9lZWWSpI4dO3I2VeH0u%2Bxx%2BQYOHGgmTZpkvvnmG/P3v//ddOnSxaxYscLpsSJCWVmZ6dOnj1m%2BfHmFx7777jvTo0cP85vf/MacPHnS/OUvfzGtWrUy27ZtM8YYc%2BDAAeN2uwM/puFPf/qTad26tfF6vVf72whLJSUl5vDhw4E/f/3rX83NN99sDh8%2BbAoKCkzr1q3N0qVLzenTp83GjRuN2%2B02%2B/fvN8YY89577wX%2Bu/nJkyfNM888Y9LS0kxpaanD31X4mDNnjunXr585fPiwKSoqMh6PxzzyyCPm6NGjnI2DiouLTfv27c38%2BfPN6dOnTUlJiXnooYeMx%2BPhbKqIwApBhw8fNqNGjTKpqammU6dOZuHChU6PFDF2795tbr75ZtOiRYsKfw4ePGg%2B/vhjM2jQION2u01aWpr585//HPT5b7/9tklPTzctWrQw/fr1M7t373boOwl/X3/9deDHNBjz/dllZGSYFi1amPT0dPPOO%2B8EXf/nP//ZpKWlGbfbbQYPHmw%2B/vjjqz1yWPvuu%2B/M448/btq1a2c6dOhgpk6dak6cOGGM4Wyc9tFHH5l///d/N23atDEdO3Y0mZmZ5vDhw8YYzqYqoowxxum7aAAAAOGE92ABAABYRmABAABYRmABAABYRmABAABYRmABAABYRmABAABYRmABAABYRmABAABYRmABAABYRmABAABYRmABAABYRmABAABYRmABAABY9v8AbWByFFxtXJkAAAAASUVORK5CYII%3D\"/>\n",
       "        </div>\n",
       "        <div role=\"tabpanel\" class=\"tab-pane col-md-12\" id=\"common2530357813106062722\">\n",
       "            \n",
       "<table class=\"freq table table-hover\">\n",
       "    <thead>\n",
       "    <tr>\n",
       "        <td class=\"fillremaining\">Value</td>\n",
       "        <td class=\"number\">Count</td>\n",
       "        <td class=\"number\">Frequency (%)</td>\n",
       "        <td style=\"min-width:200px\">&nbsp;</td>\n",
       "    </tr>\n",
       "    </thead>\n",
       "    <tr class=\"\">\n",
       "        <td class=\"fillremaining\">847</td>\n",
       "        <td class=\"number\">1</td>\n",
       "        <td class=\"number\">0.1%</td>\n",
       "        <td>\n",
       "            <div class=\"bar\" style=\"width:1%\">&nbsp;</div>\n",
       "        </td>\n",
       "</tr><tr class=\"\">\n",
       "        <td class=\"fillremaining\">290</td>\n",
       "        <td class=\"number\">1</td>\n",
       "        <td class=\"number\">0.1%</td>\n",
       "        <td>\n",
       "            <div class=\"bar\" style=\"width:1%\">&nbsp;</div>\n",
       "        </td>\n",
       "</tr><tr class=\"\">\n",
       "        <td class=\"fillremaining\">288</td>\n",
       "        <td class=\"number\">1</td>\n",
       "        <td class=\"number\">0.1%</td>\n",
       "        <td>\n",
       "            <div class=\"bar\" style=\"width:1%\">&nbsp;</div>\n",
       "        </td>\n",
       "</tr><tr class=\"\">\n",
       "        <td class=\"fillremaining\">287</td>\n",
       "        <td class=\"number\">1</td>\n",
       "        <td class=\"number\">0.1%</td>\n",
       "        <td>\n",
       "            <div class=\"bar\" style=\"width:1%\">&nbsp;</div>\n",
       "        </td>\n",
       "</tr><tr class=\"\">\n",
       "        <td class=\"fillremaining\">286</td>\n",
       "        <td class=\"number\">1</td>\n",
       "        <td class=\"number\">0.1%</td>\n",
       "        <td>\n",
       "            <div class=\"bar\" style=\"width:1%\">&nbsp;</div>\n",
       "        </td>\n",
       "</tr><tr class=\"\">\n",
       "        <td class=\"fillremaining\">285</td>\n",
       "        <td class=\"number\">1</td>\n",
       "        <td class=\"number\">0.1%</td>\n",
       "        <td>\n",
       "            <div class=\"bar\" style=\"width:1%\">&nbsp;</div>\n",
       "        </td>\n",
       "</tr><tr class=\"\">\n",
       "        <td class=\"fillremaining\">284</td>\n",
       "        <td class=\"number\">1</td>\n",
       "        <td class=\"number\">0.1%</td>\n",
       "        <td>\n",
       "            <div class=\"bar\" style=\"width:1%\">&nbsp;</div>\n",
       "        </td>\n",
       "</tr><tr class=\"\">\n",
       "        <td class=\"fillremaining\">283</td>\n",
       "        <td class=\"number\">1</td>\n",
       "        <td class=\"number\">0.1%</td>\n",
       "        <td>\n",
       "            <div class=\"bar\" style=\"width:1%\">&nbsp;</div>\n",
       "        </td>\n",
       "</tr><tr class=\"\">\n",
       "        <td class=\"fillremaining\">282</td>\n",
       "        <td class=\"number\">1</td>\n",
       "        <td class=\"number\">0.1%</td>\n",
       "        <td>\n",
       "            <div class=\"bar\" style=\"width:1%\">&nbsp;</div>\n",
       "        </td>\n",
       "</tr><tr class=\"\">\n",
       "        <td class=\"fillremaining\">281</td>\n",
       "        <td class=\"number\">1</td>\n",
       "        <td class=\"number\">0.1%</td>\n",
       "        <td>\n",
       "            <div class=\"bar\" style=\"width:1%\">&nbsp;</div>\n",
       "        </td>\n",
       "</tr><tr class=\"other\">\n",
       "        <td class=\"fillremaining\">Other values (838)</td>\n",
       "        <td class=\"number\">838</td>\n",
       "        <td class=\"number\">98.8%</td>\n",
       "        <td>\n",
       "            <div class=\"bar\" style=\"width:100%\">&nbsp;</div>\n",
       "        </td>\n",
       "</tr>\n",
       "</table>\n",
       "        </div>\n",
       "        <div role=\"tabpanel\" class=\"tab-pane col-md-12\"  id=\"extreme2530357813106062722\">\n",
       "            <p class=\"h4\">Minimum 5 values</p>\n",
       "            \n",
       "<table class=\"freq table table-hover\">\n",
       "    <thead>\n",
       "    <tr>\n",
       "        <td class=\"fillremaining\">Value</td>\n",
       "        <td class=\"number\">Count</td>\n",
       "        <td class=\"number\">Frequency (%)</td>\n",
       "        <td style=\"min-width:200px\">&nbsp;</td>\n",
       "    </tr>\n",
       "    </thead>\n",
       "    <tr class=\"\">\n",
       "        <td class=\"fillremaining\">0</td>\n",
       "        <td class=\"number\">1</td>\n",
       "        <td class=\"number\">0.1%</td>\n",
       "        <td>\n",
       "            <div class=\"bar\" style=\"width:100%\">&nbsp;</div>\n",
       "        </td>\n",
       "</tr><tr class=\"\">\n",
       "        <td class=\"fillremaining\">1</td>\n",
       "        <td class=\"number\">1</td>\n",
       "        <td class=\"number\">0.1%</td>\n",
       "        <td>\n",
       "            <div class=\"bar\" style=\"width:100%\">&nbsp;</div>\n",
       "        </td>\n",
       "</tr><tr class=\"\">\n",
       "        <td class=\"fillremaining\">2</td>\n",
       "        <td class=\"number\">1</td>\n",
       "        <td class=\"number\">0.1%</td>\n",
       "        <td>\n",
       "            <div class=\"bar\" style=\"width:100%\">&nbsp;</div>\n",
       "        </td>\n",
       "</tr><tr class=\"\">\n",
       "        <td class=\"fillremaining\">3</td>\n",
       "        <td class=\"number\">1</td>\n",
       "        <td class=\"number\">0.1%</td>\n",
       "        <td>\n",
       "            <div class=\"bar\" style=\"width:100%\">&nbsp;</div>\n",
       "        </td>\n",
       "</tr><tr class=\"\">\n",
       "        <td class=\"fillremaining\">4</td>\n",
       "        <td class=\"number\">1</td>\n",
       "        <td class=\"number\">0.1%</td>\n",
       "        <td>\n",
       "            <div class=\"bar\" style=\"width:100%\">&nbsp;</div>\n",
       "        </td>\n",
       "</tr>\n",
       "</table>\n",
       "            <p class=\"h4\">Maximum 5 values</p>\n",
       "            \n",
       "<table class=\"freq table table-hover\">\n",
       "    <thead>\n",
       "    <tr>\n",
       "        <td class=\"fillremaining\">Value</td>\n",
       "        <td class=\"number\">Count</td>\n",
       "        <td class=\"number\">Frequency (%)</td>\n",
       "        <td style=\"min-width:200px\">&nbsp;</td>\n",
       "    </tr>\n",
       "    </thead>\n",
       "    <tr class=\"\">\n",
       "        <td class=\"fillremaining\">843</td>\n",
       "        <td class=\"number\">1</td>\n",
       "        <td class=\"number\">0.1%</td>\n",
       "        <td>\n",
       "            <div class=\"bar\" style=\"width:100%\">&nbsp;</div>\n",
       "        </td>\n",
       "</tr><tr class=\"\">\n",
       "        <td class=\"fillremaining\">844</td>\n",
       "        <td class=\"number\">1</td>\n",
       "        <td class=\"number\">0.1%</td>\n",
       "        <td>\n",
       "            <div class=\"bar\" style=\"width:100%\">&nbsp;</div>\n",
       "        </td>\n",
       "</tr><tr class=\"\">\n",
       "        <td class=\"fillremaining\">845</td>\n",
       "        <td class=\"number\">1</td>\n",
       "        <td class=\"number\">0.1%</td>\n",
       "        <td>\n",
       "            <div class=\"bar\" style=\"width:100%\">&nbsp;</div>\n",
       "        </td>\n",
       "</tr><tr class=\"\">\n",
       "        <td class=\"fillremaining\">846</td>\n",
       "        <td class=\"number\">1</td>\n",
       "        <td class=\"number\">0.1%</td>\n",
       "        <td>\n",
       "            <div class=\"bar\" style=\"width:100%\">&nbsp;</div>\n",
       "        </td>\n",
       "</tr><tr class=\"\">\n",
       "        <td class=\"fillremaining\">847</td>\n",
       "        <td class=\"number\">1</td>\n",
       "        <td class=\"number\">0.1%</td>\n",
       "        <td>\n",
       "            <div class=\"bar\" style=\"width:100%\">&nbsp;</div>\n",
       "        </td>\n",
       "</tr>\n",
       "</table>\n",
       "        </div>\n",
       "    </div>\n",
       "</div>\n",
       "</div><div class=\"row variablerow ignore\">\n",
       "    <div class=\"col-md-3 namecol\">\n",
       "        <p class=\"h4 pp-anchor\" id=\"pp_var_NumCaso\"><s>NumCaso</s><br/>\n",
       "            <small>Highly correlated</small>\n",
       "        </p>\n",
       "    </div><div class=\"col-md-3\">\n",
       "    <p><em>This variable is highly correlated with <a href=\"#pp_var_index\"><code>index</code></a> and should be ignored for analysis</em></p>\n",
       "</div>\n",
       "<div class=\"col-md-6\">\n",
       "    <table class=\"stats \">\n",
       "        <tr>\n",
       "            <th>Correlation</th>\n",
       "            <td>1</td>\n",
       "        </tr>\n",
       "    </table>\n",
       "</div>\n",
       "</div><div class=\"row variablerow\">\n",
       "    <div class=\"col-md-3 namecol\">\n",
       "        <p class=\"h4 pp-anchor\" id=\"pp_var_Estado\">Estado<br/>\n",
       "            <small>Categorical</small>\n",
       "        </p>\n",
       "    </div><div class=\"col-md-3\">\n",
       "    <table class=\"stats \">\n",
       "        <tr class=\"\">\n",
       "            <th>Distinct count</th>\n",
       "            <td>32</td>\n",
       "        </tr>\n",
       "        <tr>\n",
       "            <th>Unique (%)</th>\n",
       "            <td>3.8%</td>\n",
       "        </tr>\n",
       "        <tr class=\"ignore\">\n",
       "            <th>Missing (%)</th>\n",
       "            <td>0.0%</td>\n",
       "        </tr>\n",
       "        <tr class=\"ignore\">\n",
       "            <th>Missing (n)</th>\n",
       "            <td>0</td>\n",
       "        </tr>\n",
       "    </table>\n",
       "</div>\n",
       "<div class=\"col-md-6 collapse in\" id=\"minifreqtable5483204529401870705\">\n",
       "    <table class=\"mini freq\">\n",
       "        <tr class=\"\">\n",
       "    <th>CDMX</th>\n",
       "    <td>\n",
       "        <div class=\"bar\" style=\"width:35%\" data-toggle=\"tooltip\" data-placement=\"right\" data-html=\"true\"\n",
       "             data-delay=500 title=\"Percentage: 20.9%\">\n",
       "            177\n",
       "        </div>\n",
       "        \n",
       "    </td>\n",
       "</tr><tr class=\"\">\n",
       "    <th>MÉXICO</th>\n",
       "    <td>\n",
       "        <div class=\"bar\" style=\"width:17%\" data-toggle=\"tooltip\" data-placement=\"right\" data-html=\"true\"\n",
       "             data-delay=500 title=\"Percentage: 10.0%\">\n",
       "            &nbsp;\n",
       "        </div>\n",
       "        85\n",
       "    </td>\n",
       "</tr><tr class=\"\">\n",
       "    <th>JALISCO</th>\n",
       "    <td>\n",
       "        <div class=\"bar\" style=\"width:17%\" data-toggle=\"tooltip\" data-placement=\"right\" data-html=\"true\"\n",
       "             data-delay=500 title=\"Percentage: 9.7%\">\n",
       "            &nbsp;\n",
       "        </div>\n",
       "        82\n",
       "    </td>\n",
       "</tr><tr class=\"other\">\n",
       "    <th>Other values (29)</th>\n",
       "    <td>\n",
       "        <div class=\"bar\" style=\"width:100%\" data-toggle=\"tooltip\" data-placement=\"right\" data-html=\"true\"\n",
       "             data-delay=500 title=\"Percentage: 59.4%\">\n",
       "            504\n",
       "        </div>\n",
       "        \n",
       "    </td>\n",
       "</tr>\n",
       "    </table>\n",
       "</div>\n",
       "<div class=\"col-md-12 text-right\">\n",
       "    <a role=\"button\" data-toggle=\"collapse\" data-target=\"#freqtable5483204529401870705, #minifreqtable5483204529401870705\"\n",
       "       aria-expanded=\"true\" aria-controls=\"collapseExample\">\n",
       "        Toggle details\n",
       "    </a>\n",
       "</div>\n",
       "<div class=\"col-md-12 extrapadding collapse\" id=\"freqtable5483204529401870705\">\n",
       "    \n",
       "<table class=\"freq table table-hover\">\n",
       "    <thead>\n",
       "    <tr>\n",
       "        <td class=\"fillremaining\">Value</td>\n",
       "        <td class=\"number\">Count</td>\n",
       "        <td class=\"number\">Frequency (%)</td>\n",
       "        <td style=\"min-width:200px\">&nbsp;</td>\n",
       "    </tr>\n",
       "    </thead>\n",
       "    <tr class=\"\">\n",
       "        <td class=\"fillremaining\">CDMX</td>\n",
       "        <td class=\"number\">177</td>\n",
       "        <td class=\"number\">20.9%</td>\n",
       "        <td>\n",
       "            <div class=\"bar\" style=\"width:77%\">&nbsp;</div>\n",
       "        </td>\n",
       "</tr><tr class=\"\">\n",
       "        <td class=\"fillremaining\">MÉXICO</td>\n",
       "        <td class=\"number\">85</td>\n",
       "        <td class=\"number\">10.0%</td>\n",
       "        <td>\n",
       "            <div class=\"bar\" style=\"width:37%\">&nbsp;</div>\n",
       "        </td>\n",
       "</tr><tr class=\"\">\n",
       "        <td class=\"fillremaining\">JALISCO</td>\n",
       "        <td class=\"number\">82</td>\n",
       "        <td class=\"number\">9.7%</td>\n",
       "        <td>\n",
       "            <div class=\"bar\" style=\"width:36%\">&nbsp;</div>\n",
       "        </td>\n",
       "</tr><tr class=\"\">\n",
       "        <td class=\"fillremaining\">NUEVO_LEÓN</td>\n",
       "        <td class=\"number\">64</td>\n",
       "        <td class=\"number\">7.5%</td>\n",
       "        <td>\n",
       "            <div class=\"bar\" style=\"width:28%\">&nbsp;</div>\n",
       "        </td>\n",
       "</tr><tr class=\"\">\n",
       "        <td class=\"fillremaining\">PUEBLA</td>\n",
       "        <td class=\"number\">52</td>\n",
       "        <td class=\"number\">6.1%</td>\n",
       "        <td>\n",
       "            <div class=\"bar\" style=\"width:23%\">&nbsp;</div>\n",
       "        </td>\n",
       "</tr><tr class=\"\">\n",
       "        <td class=\"fillremaining\">YUCATÁN</td>\n",
       "        <td class=\"number\">38</td>\n",
       "        <td class=\"number\">4.5%</td>\n",
       "        <td>\n",
       "            <div class=\"bar\" style=\"width:17%\">&nbsp;</div>\n",
       "        </td>\n",
       "</tr><tr class=\"\">\n",
       "        <td class=\"fillremaining\">GUANAJUATO</td>\n",
       "        <td class=\"number\">37</td>\n",
       "        <td class=\"number\">4.4%</td>\n",
       "        <td>\n",
       "            <div class=\"bar\" style=\"width:17%\">&nbsp;</div>\n",
       "        </td>\n",
       "</tr><tr class=\"\">\n",
       "        <td class=\"fillremaining\">QUINTANA_ROO</td>\n",
       "        <td class=\"number\">33</td>\n",
       "        <td class=\"number\">3.9%</td>\n",
       "        <td>\n",
       "            <div class=\"bar\" style=\"width:15%\">&nbsp;</div>\n",
       "        </td>\n",
       "</tr><tr class=\"\">\n",
       "        <td class=\"fillremaining\">TABASCO</td>\n",
       "        <td class=\"number\">27</td>\n",
       "        <td class=\"number\">3.2%</td>\n",
       "        <td>\n",
       "            <div class=\"bar\" style=\"width:12%\">&nbsp;</div>\n",
       "        </td>\n",
       "</tr><tr class=\"\">\n",
       "        <td class=\"fillremaining\">QUERETARO</td>\n",
       "        <td class=\"number\">25</td>\n",
       "        <td class=\"number\">2.9%</td>\n",
       "        <td>\n",
       "            <div class=\"bar\" style=\"width:11%\">&nbsp;</div>\n",
       "        </td>\n",
       "</tr><tr class=\"other\">\n",
       "        <td class=\"fillremaining\">Other values (22)</td>\n",
       "        <td class=\"number\">228</td>\n",
       "        <td class=\"number\">26.9%</td>\n",
       "        <td>\n",
       "            <div class=\"bar\" style=\"width:100%\">&nbsp;</div>\n",
       "        </td>\n",
       "</tr>\n",
       "</table>\n",
       "</div>\n",
       "</div><div class=\"row variablerow\">\n",
       "    <div class=\"col-md-3 namecol\">\n",
       "        <p class=\"h4 pp-anchor\" id=\"pp_var_Sexo\">Sexo<br/>\n",
       "            <small>Categorical</small>\n",
       "        </p>\n",
       "    </div><div class=\"col-md-3\">\n",
       "    <table class=\"stats \">\n",
       "        <tr class=\"\">\n",
       "            <th>Distinct count</th>\n",
       "            <td>2</td>\n",
       "        </tr>\n",
       "        <tr>\n",
       "            <th>Unique (%)</th>\n",
       "            <td>0.2%</td>\n",
       "        </tr>\n",
       "        <tr class=\"ignore\">\n",
       "            <th>Missing (%)</th>\n",
       "            <td>0.0%</td>\n",
       "        </tr>\n",
       "        <tr class=\"ignore\">\n",
       "            <th>Missing (n)</th>\n",
       "            <td>0</td>\n",
       "        </tr>\n",
       "    </table>\n",
       "</div>\n",
       "<div class=\"col-md-6 collapse in\" id=\"minifreqtable-1803751910803488600\">\n",
       "    <table class=\"mini freq\">\n",
       "        <tr class=\"\">\n",
       "    <th>M</th>\n",
       "    <td>\n",
       "        <div class=\"bar\" style=\"width:100%\" data-toggle=\"tooltip\" data-placement=\"right\" data-html=\"true\"\n",
       "             data-delay=500 title=\"Percentage: 57.4%\">\n",
       "            487\n",
       "        </div>\n",
       "        \n",
       "    </td>\n",
       "</tr><tr class=\"\">\n",
       "    <th>F</th>\n",
       "    <td>\n",
       "        <div class=\"bar\" style=\"width:74%\" data-toggle=\"tooltip\" data-placement=\"right\" data-html=\"true\"\n",
       "             data-delay=500 title=\"Percentage: 42.6%\">\n",
       "            361\n",
       "        </div>\n",
       "        \n",
       "    </td>\n",
       "</tr>\n",
       "    </table>\n",
       "</div>\n",
       "<div class=\"col-md-12 text-right\">\n",
       "    <a role=\"button\" data-toggle=\"collapse\" data-target=\"#freqtable-1803751910803488600, #minifreqtable-1803751910803488600\"\n",
       "       aria-expanded=\"true\" aria-controls=\"collapseExample\">\n",
       "        Toggle details\n",
       "    </a>\n",
       "</div>\n",
       "<div class=\"col-md-12 extrapadding collapse\" id=\"freqtable-1803751910803488600\">\n",
       "    \n",
       "<table class=\"freq table table-hover\">\n",
       "    <thead>\n",
       "    <tr>\n",
       "        <td class=\"fillremaining\">Value</td>\n",
       "        <td class=\"number\">Count</td>\n",
       "        <td class=\"number\">Frequency (%)</td>\n",
       "        <td style=\"min-width:200px\">&nbsp;</td>\n",
       "    </tr>\n",
       "    </thead>\n",
       "    <tr class=\"\">\n",
       "        <td class=\"fillremaining\">M</td>\n",
       "        <td class=\"number\">487</td>\n",
       "        <td class=\"number\">57.4%</td>\n",
       "        <td>\n",
       "            <div class=\"bar\" style=\"width:100%\">&nbsp;</div>\n",
       "        </td>\n",
       "</tr><tr class=\"\">\n",
       "        <td class=\"fillremaining\">F</td>\n",
       "        <td class=\"number\">361</td>\n",
       "        <td class=\"number\">42.6%</td>\n",
       "        <td>\n",
       "            <div class=\"bar\" style=\"width:74%\">&nbsp;</div>\n",
       "        </td>\n",
       "</tr>\n",
       "</table>\n",
       "</div>\n",
       "</div><div class=\"row variablerow\">\n",
       "    <div class=\"col-md-3 namecol\">\n",
       "        <p class=\"h4 pp-anchor\" id=\"pp_var_Edad\">Edad<br/>\n",
       "            <small>Numeric</small>\n",
       "        </p>\n",
       "    </div><div class=\"col-md-6\">\n",
       "    <div class=\"row\">\n",
       "        <div class=\"col-sm-6\">\n",
       "            <table class=\"stats \">\n",
       "                <tr>\n",
       "                    <th>Distinct count</th>\n",
       "                    <td>74</td>\n",
       "                </tr>\n",
       "                <tr>\n",
       "                    <th>Unique (%)</th>\n",
       "                    <td>8.7%</td>\n",
       "                </tr>\n",
       "                <tr class=\"ignore\">\n",
       "                    <th>Missing (%)</th>\n",
       "                    <td>0.0%</td>\n",
       "                </tr>\n",
       "                <tr class=\"ignore\">\n",
       "                    <th>Missing (n)</th>\n",
       "                    <td>0</td>\n",
       "                </tr>\n",
       "                <tr class=\"ignore\">\n",
       "                    <th>Infinite (%)</th>\n",
       "                    <td>0.0%</td>\n",
       "                </tr>\n",
       "                <tr class=\"ignore\">\n",
       "                    <th>Infinite (n)</th>\n",
       "                    <td>0</td>\n",
       "                </tr>\n",
       "            </table>\n",
       "\n",
       "        </div>\n",
       "        <div class=\"col-sm-6\">\n",
       "            <table class=\"stats \">\n",
       "\n",
       "                <tr>\n",
       "                    <th>Mean</th>\n",
       "                    <td>42.443</td>\n",
       "                </tr>\n",
       "                <tr>\n",
       "                    <th>Minimum</th>\n",
       "                    <td>0</td>\n",
       "                </tr>\n",
       "                <tr>\n",
       "                    <th>Maximum</th>\n",
       "                    <td>88</td>\n",
       "                </tr>\n",
       "                <tr class=\"ignore\">\n",
       "                    <th>Zeros (%)</th>\n",
       "                    <td>0.1%</td>\n",
       "                </tr>\n",
       "            </table>\n",
       "        </div>\n",
       "    </div>\n",
       "</div>\n",
       "<div class=\"col-md-3 collapse in\" id=\"minihistogram-3847783183542785461\">\n",
       "    <img src=\"data:image/png;base64,iVBORw0KGgoAAAANSUhEUgAAAMgAAABLCAYAAAA1fMjoAAAABHNCSVQICAgIfAhkiAAAAAlwSFlzAAAPYQAAD2EBqD%2BnaQAAADh0RVh0U29mdHdhcmUAbWF0cGxvdGxpYiB2ZXJzaW9uMy4xLjEsIGh0dHA6Ly9tYXRwbG90bGliLm9yZy8QZhcZAAABNklEQVR4nO3cwW3CQBBAUROlJIpITznTU4pIT0sD0RcgGW%2B875192MvXeDWYyxhjbMCfPo4%2BAMzs8%2BgD/CfX75%2Bnnv%2B9fe10Et7FBIEgEAgCgSAQCAKBIBAIAoEgEAgCgWCTvqNnN%2B/bZvs%2BGxMEggkyGVNnLiYIBIFAEAiEZe8gr7zrsx4TBMKyE%2BRMfOm4HxMEgkAgCASCQCAIBIJAIAgEgkAgCASCQCAIBIJAIAgEgl/zLsh3748zQSAIBIJAILiD8JBV7y0mCASBQBAIBIFAEAgEgUAQCIRT7EH8zy57OUUgzOkMy8XpAjENmMlljDGOPgTMyiUdgkAgCASCQCAIBIJAIAgEgkAgCASCQCAIBIJAIAgEgkAgCASCQCAIBIJAIAgEgkAgCASCQCAIBIJAIAgEwh293yHWzEym0gAAAABJRU5ErkJggg%3D%3D\">\n",
       "\n",
       "</div>\n",
       "<div class=\"col-md-12 text-right\">\n",
       "    <a role=\"button\" data-toggle=\"collapse\" data-target=\"#descriptives-3847783183542785461,#minihistogram-3847783183542785461\"\n",
       "       aria-expanded=\"false\" aria-controls=\"collapseExample\">\n",
       "        Toggle details\n",
       "    </a>\n",
       "</div>\n",
       "<div class=\"row collapse col-md-12\" id=\"descriptives-3847783183542785461\">\n",
       "    <ul class=\"nav nav-tabs\" role=\"tablist\">\n",
       "        <li role=\"presentation\" class=\"active\"><a href=\"#quantiles-3847783183542785461\"\n",
       "                                                  aria-controls=\"quantiles-3847783183542785461\" role=\"tab\"\n",
       "                                                  data-toggle=\"tab\">Statistics</a></li>\n",
       "        <li role=\"presentation\"><a href=\"#histogram-3847783183542785461\" aria-controls=\"histogram-3847783183542785461\"\n",
       "                                   role=\"tab\" data-toggle=\"tab\">Histogram</a></li>\n",
       "        <li role=\"presentation\"><a href=\"#common-3847783183542785461\" aria-controls=\"common-3847783183542785461\"\n",
       "                                   role=\"tab\" data-toggle=\"tab\">Common Values</a></li>\n",
       "        <li role=\"presentation\"><a href=\"#extreme-3847783183542785461\" aria-controls=\"extreme-3847783183542785461\"\n",
       "                                   role=\"tab\" data-toggle=\"tab\">Extreme Values</a></li>\n",
       "\n",
       "    </ul>\n",
       "\n",
       "    <div class=\"tab-content\">\n",
       "        <div role=\"tabpanel\" class=\"tab-pane active row\" id=\"quantiles-3847783183542785461\">\n",
       "            <div class=\"col-md-4 col-md-offset-1\">\n",
       "                <p class=\"h4\">Quantile statistics</p>\n",
       "                <table class=\"stats indent\">\n",
       "                    <tr>\n",
       "                        <th>Minimum</th>\n",
       "                        <td>0</td>\n",
       "                    </tr>\n",
       "                    <tr>\n",
       "                        <th>5-th percentile</th>\n",
       "                        <td>20</td>\n",
       "                    </tr>\n",
       "                    <tr>\n",
       "                        <th>Q1</th>\n",
       "                        <td>30</td>\n",
       "                    </tr>\n",
       "                    <tr>\n",
       "                        <th>Median</th>\n",
       "                        <td>41</td>\n",
       "                    </tr>\n",
       "                    <tr>\n",
       "                        <th>Q3</th>\n",
       "                        <td>53</td>\n",
       "                    </tr>\n",
       "                    <tr>\n",
       "                        <th>95-th percentile</th>\n",
       "                        <td>71.65</td>\n",
       "                    </tr>\n",
       "                    <tr>\n",
       "                        <th>Maximum</th>\n",
       "                        <td>88</td>\n",
       "                    </tr>\n",
       "                    <tr>\n",
       "                        <th>Range</th>\n",
       "                        <td>88</td>\n",
       "                    </tr>\n",
       "                    <tr>\n",
       "                        <th>Interquartile range</th>\n",
       "                        <td>23</td>\n",
       "                    </tr>\n",
       "                </table>\n",
       "            </div>\n",
       "            <div class=\"col-md-4 col-md-offset-2\">\n",
       "                <p class=\"h4\">Descriptive statistics</p>\n",
       "                <table class=\"stats indent\">\n",
       "                    <tr>\n",
       "                        <th>Standard deviation</th>\n",
       "                        <td>15.583</td>\n",
       "                    </tr>\n",
       "                    <tr>\n",
       "                        <th>Coef of variation</th>\n",
       "                        <td>0.36715</td>\n",
       "                    </tr>\n",
       "                    <tr>\n",
       "                        <th>Kurtosis</th>\n",
       "                        <td>-0.5682</td>\n",
       "                    </tr>\n",
       "                    <tr>\n",
       "                        <th>Mean</th>\n",
       "                        <td>42.443</td>\n",
       "                    </tr>\n",
       "                    <tr>\n",
       "                        <th>MAD</th>\n",
       "                        <td>12.929</td>\n",
       "                    </tr>\n",
       "                    <tr class=\"\">\n",
       "                        <th>Skewness</th>\n",
       "                        <td>0.36221</td>\n",
       "                    </tr>\n",
       "                    <tr>\n",
       "                        <th>Sum</th>\n",
       "                        <td>35992</td>\n",
       "                    </tr>\n",
       "                    <tr>\n",
       "                        <th>Variance</th>\n",
       "                        <td>242.83</td>\n",
       "                    </tr>\n",
       "                    <tr>\n",
       "                        <th>Memory size</th>\n",
       "                        <td>13.2 KiB</td>\n",
       "                    </tr>\n",
       "                </table>\n",
       "            </div>\n",
       "        </div>\n",
       "        <div role=\"tabpanel\" class=\"tab-pane col-md-8 col-md-offset-2\" id=\"histogram-3847783183542785461\">\n",
       "            <img src=\"data:image/png;base64,iVBORw0KGgoAAAANSUhEUgAAAlgAAAGQCAYAAAByNR6YAAAABHNCSVQICAgIfAhkiAAAAAlwSFlzAAAPYQAAD2EBqD%2BnaQAAADh0RVh0U29mdHdhcmUAbWF0cGxvdGxpYiB2ZXJzaW9uMy4xLjEsIGh0dHA6Ly9tYXRwbG90bGliLm9yZy8QZhcZAAAgAElEQVR4nO3de1xVdb7/8Tew1RTkZmKm6ZiOd7CbUZCGenTGzPI4OWQ2jqnZBcVLjLcca0zHLpYOko/spp7ycUSzOZqTNmnWcDR7jNqMCOajvKapbGUjaKbAXr8/%2BsVpBybol73WZr%2BejwcP4rsW3/XZfWCvt%2Bu72DvEsixLAAAAMCbU7gIAAADqGgIWAACAYQQsAAAAwwhYAAAAhhGwAAAADCNgAQAAGEbAAgAAMIyABQAAYBgBCwAAwDACFgAAgGEELAAAAMMIWAAAAIYRsAAAAAwjYAEAABhGwAIAADCMgAUAAGAYAQsAAMAwAhYAAIBhBCwAAADDCFgAAACGEbAAAAAMI2ABAAAYRsACAAAwjIAFAABgGAELAADAMAIWAACAYQQsAAAAwwhYAAAAhhGwAAAADCNgAQAAGEbAAgAAMIyABQAAYBgBCwAAwDACFgAAgGEELAAAAMMIWAAAAIYRsAAAAAwjYAEAABhGwAIAADDMZXcBwcLtLjE%2BZ2hoiGJjw1VYeFZer2V8flQfvXAOeuEc9MJZgrUfTZs2tuW4XMEKYKGhIQoJCVFoaIjdpQQ9euEc9MI56IWz0A//ImABAAAYRsACAAAwjIAFAABgGAELAADAMAIWAACAYQQsAAAAwwhYAAAAhhGwAAAADCNgAQAAGEbAAgAAMIyABQAAYBgBCwAAwDACFgAAgGEuuwsAYEb/BVvsLqHa1k9ItrsEAKhVXMECAAAwjIAFAABgGAELAADAMAIWAACAYQQsAAAAwwhYAAAAhhGwAAAADCNgAQAAGEbAAgAAMIyABQAAYBgBCwAAwDACFgAAgGEELAAAAMMIWAAAAIYRsAAAAAwjYAEAABhGwAIAADDMZXcBtSUnJ0dTpkxRYmKi5s%2BfXzE%2BY8YMrVmzxmdfr9erm266SW%2B99ZZWr16tJ598UvXq1fPZZ/Pmzbr66qv9UjsAAAhsdTJgvfbaa3rnnXfUunXrSttmz56t2bNnV3zt9Xo1dOhQDRw4UJJUUlKipKQkvfnmm36rFwAA1C11comwQYMGFw1YP5WdnS3LsjRkyBBJ0unTpxUVFVXbJQIAgDqsTgas4cOHq3Hjxpfc78yZM8rMzNS0adMUEhIiSSouLtahQ4c0ePBg3XzzzfrP//xPffLJJ7VdMgAAqEPq5BJhdb311ltKSEjQjTfeWDEWHR2t2NhYZWRkqFWrVlq5cqXS0tK0Zs0atW3btlrzFhQUyO12%2B4y5XI0UFxdntP6wsFCfz7APvagZl6v2/j/RC%2BegF85CP/wraANWaWmpli9frrlz5/qMjxs3zufrESNGaN26dVq7dq0mTpxYrbmzs7OVlZXlM5aWlqb09PQrK/oiIiMb1sq8qDl6UT0xMeG1fgx64Rz0wlnoh38EbcDavn27SktLlZycfMl9W7ZsWemK1M9JTU1V7969fcZcrkbyeM7WuM6fExYWqsjIhiouPqfycq/RuVEz9KJmTP8u/Bi9cA564SzB2g9//IOuKkEbsHJycpSYmKjQUN9LpYsXL1Z8fLySkpIqxg4cOKBf//rX1Z47Li6u0nKg212isrLa%2BYEuL/fW2tyoGXpRPf74f0QvnINeOAv98I%2BgXYjds2eP2rVrV2nc4/Fo1qxZOnjwoC5cuKAlS5bo8OHDGjx4sA1VAgCAQFQnr2DFx8dLksrKyiRJGzdulCTl5uZW7ON2uxUdHV3peydNmiSv16sHH3xQ586dU4cOHbR06VI1a9bMD5UDAIC6oE4GrB8HqYtZt25dleP169fX9OnTNX36dNNlAQCAIBG0S4QAAAC1hYAFAABgGAELAADAMAIWAACAYQQsAAAAwwhYAAAAhhGwAAAADCNgAQAAGEbAAgAAMIyABQAAYBgBCwAAwDACFgAAgGEELAAAAMMIWAAAAIYRsAAAAAwjYAEAABhGwAIAADCMgAUAAGAYAQsAAMAwAhYAAIBhBCwAAADDCFgAAACGEbAAAAAMI2ABAAAYRsACAAAwjIAFAABgGAELAADAMAIWAACAYQQsAAAAwwhYAAAAhtXZgJWTk6OkpCRNnDjRZ3zbtm3q0KGD4uPjfT527dolSbIsS/Pnz1dycrK6deumESNG6Ouvv7bjIQAAgADlsruA2vDaa6/pnXfeUevWrSttKykp0S9%2B8Qt98MEHVX7vsmXLtHr1ar3%2B%2Buu67rrr9PzzzystLU1r1qxRSEhIbZcOAADqgDp5BatBgwYXDVinT59WVFTURb931apVGj16tDp16qSIiAhNmTJF%2B/fv1%2Beff16bJQMAgDqkTl7BGj58%2BEW3FRcX6/Tp03rwwQe1Z88eXXPNNXr44Yc1aNAgnT9/Xvv27VPXrl0r9g8PD1erVq2Ul5enm266qVrHLygokNvt9hlzuRopLi7u8h7QRYSFhfp8hn3oRc30X7DF7hJq5MOMHnaXEJD4vXAW%2BuFfdTJg/ZxGjb4POuPHj1fXrl21adMm/eEPf1BcXJzatm0ry7IqXeGKiopSYWFhtY%2BRnZ2trKwsn7G0tDSlp6cbeQw/FRnZsFbmRc3Ri7opJibc7hICGr8XzkI//CPoAtb999%2Bv%2B%2B%2B/v%2BLrAQMG6O9//7tWr16tyZMnX/T7anL/VWpqqnr37u0z5nI1ksdztuYF/4ywsFBFRjZUcfE5lZd7jc6NmqEXdZvp391gwe%2BFswRrP%2Bz6B1LQBayqtGzZUrt371ZMTIxCQ0NVVFTks93j8ahJkybVni8uLq7ScqDbXaKystr5gS4v99ba3KgZelE30dMrw%2B%2BFs9AP/wi6hdiVK1fq/fff9xnbv3%2B/rrvuOtWvX1/t27dXXl5exbaioiIdPnxY8fHx/i4VAAAEqKALWOfPn9fs2bO1e/dulZaW6m9/%2B5tycnI0dOhQSdLQoUP1%2Buuv64svvlBJSYlmz56trl27KiEhwebKAQBAoKiTS4Q/XG0qKyuTJG3cuFGSlJubqwcffFAlJSVKT0%2BXx%2BNRmzZt9PLLL6tLly6Svr9Hy%2B12a%2BTIkTp79qwSExOVmZlpzwMBAAABKcSyLMvuIoKB211ifE6XK1QxMeHyeM6ynm4zJ/Qi0F76IJCsn5BsdwkByQm/F/g/wdqPpk0b23LcoFsiBAAAqG0ELAAAAMMIWAAAAIYRsAAAAAwjYAEAABhGwAIAADCMgAUAAGAYAQsAAMCwOvlK7gBgUqC9iCsvjArYjytYAAAAhhGwAAAADCNgAQAAGEbAAgAAMIyABQAAYBgBCwAAwDACFgAAgGEELAAAAMMIWAAAAIYRsAAAAAwjYAEAABhGwAIAADCMgAUAAGAYAQsAAMAwAhYAAIBhBCwAAADDCFgAAACGEbAAAAAMI2ABAAAYRsACAAAwrM4GrJycHCUlJWnixImVtm3YsEEDBw7UjTfeqH79%2Bik7O7ti2%2BrVq9WxY0fFx8f7fJw8edKf5QMAgADmsruA2vDaa6/pnXfeUevWrStt27VrlyZPnqwFCxbozjvv1LZt2/TII4%2Bobdu2uuWWW1RSUqKkpCS9%2BeabNlQOJ%2Bm/YIvdJQAAAlSdvILVoEGDiwasoqIiPfroo%2Brdu7fCwsKUnJysDh06aPv27ZKk06dPKyoqyt8lAwCAOqROXsEaPnz4Rbf17NlTPXv2rPi6rKxMBQUFat68uSSpuLhYhw4d0uDBg3Xo0CG1atVKEyZM0J133lnt4xcUFMjtdvuMuVyNFBcXV8NH8vPCwkJ9PgOAJLlcznhO4DnKWeiHf9XJgFUT8%2BbNU4MGDdS3b19JUnR0tGJjY5WRkaFWrVpp5cqVSktL05o1a9S2bdtqzZmdna2srCyfsbS0NKWnpxuvX5IiIxvWyrwAAlNMTLjdJfjgOcpZ6Id/BG3AsixL8%2BbN0/vvv69ly5apUaNGkqRx48b57DdixAitW7dOa9eurfKG%2Baqkpqaqd%2B/ePmMuVyN5PGfNFP//hYWFKjKyoYqLz6m83Gt0bgCBy/RzzeXiOcpZgrUfdv2DIygDltfr1bRp05SXl6fs7OyK5cGLadmyZaUlv58TFxdXaTnQ7S5RWVnt/ECXl3trbW4Agcdpzwc8RzkL/fCPoFyI/fOf/6z9%2B/dr%2BfLllcLV4sWLtXXrVp%2BxAwcO6LrrrvNniQAAIIAFXcDasWOH1qxZo5dffrnKvxb0eDyaNWuWDh48qAsXLmjJkiU6fPiwBg8ebEO1AAAgENXJJcL4%2BHhJ3/%2BFoCRt3LhRkpSbm6vVq1frzJkz6tOnj8/3dO/eXW%2B%2B%2BaYmTZokr9erBx98UOfOnVOHDh20dOlSNWvWzL8PAgAABKwQy7Isu4sIBm53ifE5Xa5QxcSEy%2BM5y3p6LeCFRhGo1k9ItrsESTxHOU2w9qNp08a2HDfolggBAABqm%2BMCVkmJ%2BSs9AAAA/uS4gHXHHXdoypQpFW9dAwAAEGgcF7D%2B9Kc/6dSpUxoxYoT69%2B%2BvJUuWqLCw0O6yAAAAqs1xAWvQoEF6/fXX9Y9//EMPPPCAPvjgA6WkpGjixIn69NNP7S4PAADgkhwXsH4QGxur3/3ud1qxYoWee%2B45bd26VSNHjlT//v3197//3e7yAAAALsqxr4NVWFiod999V%2B%2B%2B%2B64OHTqkpKQkpaam6uTJk5o5c6YOHz6s0aNH210mAABAJY4LWDk5OVq1apU%2B%2BugjRUdH6ze/%2BY2GDBmili1bVuzTuXNnPfzwwwQsAADgSI4LWGPGjFFiYqLmzZun//iP/5DLVbnEhISESm%2BmDAD4XiC9SK5TXhQVMM1xAWvDhg1q3bq1Lly4UBGuzpw5o4iICJ/93nvvPTvKAwAAuCTH3eQeFhamu%2B%2B%2BWx999FHF2MqVK9W/f399/fXXNlYGAABQPY4LWHPmzNEvf/lL3XzzzRVj99xzj7p166Y5c%2BbYWBkAAED1OG6JcMeOHfrkk0/UsGHDirGrr75aM2fOVEpKin2FAQAAVJPjrmBZlqULFy5UGj979qy83uB5928AABC4HBewkpOTNXnyZOXn56u4uFhFRUXasWOHJk2apDvuuMPu8gAAAC7JcUuEf/zjH5WRkaHBgwcrJCSkYjwxMVEzZsywsTIAAIDqcVzAatKkiZYsWaKvvvpKBw8elCS1adNGbdu2tbcwAACAanJcwPpBu3bt1K5dO7vLAAAAqDHHBazc3Fw988wz%2BvLLL/Xdd99V2r5nzx4bqgIAAKg%2BxwWsmTNnqn79%2Bho/fryuuuoqu8sBAACoMccFrAMHDmjr1q1q1KiR3aUAAABcFse9TMM111zD610BAICA5riAlZGRoblz5%2BrMmTN2lwIAAHBZHLdEuGjRIh05ckR//etfFR0drdBQ3wz4v//7vzZVBgAAUD2OC1g9evRQvXr17C4DAADgsjkuYE2cONHuEgAAAK6I4%2B7BkqR///vfmjZtmn7/%2B99Lkrxer9avX29zVQAAANXjuIC1adMmPfDAA/J4PNq5c6ck6fjx45o5c6ZWrVplc3UAAACX5riA9corr%2BiFF17QK6%2B8UvFmz9dee60yMzO1dOlSe4sDAACoBscFrAMHDqhfv36SVBGwJCkxMVFHjx6t9jw5OTlKSkqq8p6uv/3tb/rVr36l%2BPh43X333dqyZUvFNsuyNH/%2BfCUnJ6tbt24aMWKEvv766yt4RAAAINg4LmDVq1dPRUVFlcYPHjxY7bfOee211zR79my1bt260rbdu3drypQpGj9%2BvP75z39qxIgRSktL07FjxyRJy5Yt0%2BrVq/X6669ry5YtatWqldLS0mRZ1pU9MAAAEDQcF7BSUlI0Y8YM7du3T5Lk8XiUk5OjCRMmqFevXtWao0GDBnrnnXeqDFirV69Wz549ddddd%2Bmqq67Sfffdpw4dOmjNmjWSpFWrVmn06NHq1KmTIiIiNGXKFO3fv1%2Bff/65uQcJAADqNMcFrGnTpsmyLA0YMEDnz59XUlKSHn74YV177bWaOnVqteYYPny4GjduXOW2/Px8denSxWesU6dOysvL0/nz57Vv3z517dq1Ylt4eLhatWqlvLy8y39QAAAgqDjudbAiIyO1ePFi7du3TwcOHFBoaKjatGmjNm3aGJnf4/EoOjraZywqKkpffvmlioqKZFmWoqKiKm0vLCys9jEKCgrkdrt9xlyuRoqLi7v8wqsQFhbq8xkAAo3LxfOXv3DO8C/HBawftG3bVm3btvUZ83q9ld46x5Qf31B/Odt/LDs7W1lZWT5jaWlpSk9Pv6zaLiUysmGtzAsAtS0mJtzuEoIO5wz/cFzA6tix48%2BGmT179lzR/LGxsfJ4PD5jHo9HsbGxiomJUWhoaKWb7D0ej5o0aVLtY6Smpqp3794%2BYy5XI3k8Zy%2B/8CqEhYUqMrKhiovPqbzca3RuAPAH08%2BLuLhgPWfYFeIdF7Ceeuopn4Dl9Xp19OhRbdy4UaNHj77i%2BePj4yvdT5Wbm6sBAwaofv36at%2B%2BvfLy8tS9e3dJUlFRkQ4fPqz4%2BPhqHyMuLq7ScqDbXaKystr5gS4v99ba3ABQm3ju8j/OGf7huIA1dOjQKsfvu%2B8%2BzZ8/X0OGDLmi%2BYcMGaL77rtP77//vnr37q1Vq1bp8OHDGjRoUMXxs7KydNttt6lFixaaPXu2unbtqoSEhCs6LgAACB6OC1gX06ZNG3355ZfV2veHq01lZWWSpI0bN0r6/kpV%2B/btNW/ePL344ouaMmWK2rZtq8WLF%2Bvqq6%2BWJN1///1yu90aOXKkzp49q8TERGVmZtbCIwIAAHVVwASszz//XCUlJdXaNzc392e39%2BvXr%2BLV4qsybtw4jRs3rkb1AQAA/MBxAeuOO%2B6oNFZaWqri4mI98MADNlQEAABQM44LWKmpqZX%2BirBBgwb65S9/qZSUFHuKAgAAqAHHBSyW5gAAQKBzXMBasGCBXK7qlTV27NhargYAAKDmHBewPvzwQ33zzTf67rvvFB0dLa/Xq9OnT6thw4aKiYmp2C8kJISABQAAHMlxAWvMmDHatm2bJk%2BeXBGoTpw4oeeff169evXS3XffbXOFAAAAP89x7/i4cOFCTZ8%2B3edqVbNmzfTkk09q/vz5NlYGAABQPY4LWKdOnaryvQjr1aunwsJCGyoCAACoGccFrC5dumjy5MnKy8tTcXGxSkpKlJ%2Bfr%2BnTp6tjx452lwcAAHBJjrsHa9asWXr88cf1m9/8puJKlmVZatmypRYtWmRzdQAAAJfmuIB1/fXXa8OGDdq9e7eOHTsmy7J0zTXXKD4%2BvsqlQwAAAKdxXMD6QUxMTMWbLQMAAAQSx92DVVRUpFGjRqlPnz4aNWqUJMntdmvgwIE6ceKEzdUBAABcmuMC1rx58%2BT1erVq1SqFhn5fXuPGjdWpUyfNmTPH5uoAAAAuzXFLhFu3btV///d/q1mzZhX3XF111VWaNm2a%2Bvfvb3N1AAAAl%2Ba4K1inTp1S06ZNK403bNhQ3333nQ0VAQAA1IzjAlabNm308ccfVxpfsWKF2rRp4/%2BCAAAAashxS4SPP/64JkyYoN69e6u8vFyzZs1SXl6ecnNztWDBArvLAwAAuCTHXcHq16%2Bf3n77bYWGhqpdu3b617/%2BpZYtW2rFihXq16%2Bf3eUBAABckqOuYHm9Xu3evVsJCQl66aWX7C4HAADgsjjqClZoaKiGDx%2Bu8vJyu0sBAAC4bI4KWJI0cOBALV26VJZl2V0KAADAZXHUEqH0/au2f/TRR3r11VfVokUL1a9f32f7ihUrbKoMAACgehwXsGJiYtSzZ0%2B7ywAAALhsjglY6enpyszM1Ny5cyvGMjMzlZ6ebmNVAAAANeeYe7A%2B%2BeSTSmNvvPGGDZUAAABcGccErKpwozsAAAhEjg5YP7zZMwAAQCBxdMACAAAIRAQsAAAAwxzzV4SlpaV64oknLjn24osvXvGx/vnPf2rkyJGVxi9cuKCPPvpIffr0kcvl8lminDBhgkaNGnXFxwYAAHWfYwLWzTffrIKCgkuOmdC9e3fl5ub6jC1fvlzr1q1TRESELMvSpk2b1KxZM%2BPHBgAAdZ9jAtZbb71l27FPnTqlzMxMLVu2TMXFxZKk6Oho2%2BoBAACBzTEBy05/%2Bctf9Ktf/UodO3bU7t27FRYWpqlTp2rr1q1q1KiR7rrrLo0fP77S2/ZcTEFBgdxut8%2BYy9VIcXFxRusOCwv1%2BQwAgcbl4vnLXzhn%2BFfQB6wjR47ovffe04YNGyR9/9pbnTp1Uo8ePTRnzhx99dVXGjdunFwulyZOnFitObOzs5WVleUzlpaWVmuvSh8Z2bBW5gWA2hYTE253CUGHc4Z/hFhB/mqezz33nE6cOKGXXnrpovssX75cr7zyinJycqo1pz%2BvYEVGNlRx8TmVl3uNzg2p77zq9RvA5fswo4fdJQSNYD1n2BXig/4K1vr16zVjxoyf3adly5YqLCyUZVnVevHTuLi4SmHK7S5RWVnt/ECXl3trbW4AqE08d/kf5wz/COqF2K%2B%2B%2BkrHjx/XbbfdVjG2bds2LVq0yGe/AwcOqEWLFryyPAAAqJagDlj5%2Bflq3ry5IiIiKsYiIyO1aNEirVmzRmVlZcrNzdUbb7yhYcOG2VgpAAAIJEG9ROh2uyu9HEPnzp01f/58LVy4UE899ZTi4uI0YsQI/e53v7OpSgAAEGiC/iZ3f3G7S4zP6XKFKiYmXB7PWdbTa0H/BVvsLgGo89ZPSLa7hKARrOeMpk0b23LcoF4iBAAAqA0ELAAAAMMIWAAAAIYRsAAAAAwjYAEAABhGwAIAADCMgAUAAGAYAQsAAMAwAhYAAIBhBCwAAADDCFgAAACGEbAAAAAMI2ABAAAYRsACAAAwzGV3AQCA4NV/wRa7S6iR9ROS7S4BAYIrWAAAAIYRsAAAAAwjYAEAABhGwAIAADCMgAUAAGAYAQsAAMAwAhYAAIBhBCwAAADDCFgAAACGEbAAAAAMI2ABAAAYRsACAAAwjIAFAABgGAELAADAsKAMWL169VLXrl0VHx9f8fHMM89Ikj799FPdc889io%2BPV9%2B%2BfbV27VqbqwUAAIHGZXcBdiguLtZ//dd/6aabbvIZP3HihB577DFNmjRJQ4YM0Weffabx48frF7/4hRISEmyqFgAABJqgu4JVXl6us2fPKioqqtK29957T61bt9bw4cPVsGFDpaSkqE%2BfPlq1apUNlQIAgEAVdFewiouLZVmWFi5cqO3bt0uSUlJSNHXqVOXn56tLly4%2B%2B3fq1Enr16%2Bv0TEKCgrkdrt9xlyuRoqLi7uy4n8iLCzU5zMAoHa5XIH7fMs5w7%2BCLmBduHBBXbp0UXx8vGbPnq2CggKNHz9eTz/9tDwejzp27Oizf3R0tAoLC2t0jOzsbGVlZfmMpaWlKT09/Yrrr0pkZMNamRcA4CsmJtzuEq4Y5wz/CLqA1axZM7377rsVX0dERCgjI0OPPvqobrnlliq/JyQkpEbHSE1NVe/evX3GXK5G8njO1rzgnxEWFqrIyIYqLj6n8nKv0bkBAJWZfh73p2A9Z9gVioMuYFWlZcuW8nq9Cg0NVVFRkc82j8ej2NjYGs0XFxdXaTnQ7S5RWVnt/ECXl3trbW4AwP%2BpC8%2B1nDP8I%2BgWYr/44gs9%2B%2ByzPmP79%2B9X/fr1deeddyovL89n265du/gLQgAAUCNBF7BiYmKUnZ2tV199VRcuXNDBgwf1l7/8RUOHDtW9996ro0ePaunSpfruu%2B%2B0YcMG/eMf/1BqaqrdZQMAgAASdAGrWbNmevXVV7Vp0yYlJiZq5MiRSklJUUZGhpo0aaLFixfrr3/9q7p376758%2BfrxRdfrHTjOwAAwM8Jynuwunfvruzs7Cq33XLLLVqzZo2fKwIAAHVJ0F3BAgAAqG0ELAAAAMMIWAAAAIYF5T1YAABcjv4LtthdQo2sn5BsdwlBiytYAAAAhhGwAAAADCNgAQAAGEbAAgAAMIyABQAAYBgBCwAAwDACFgAAgGEELAAAAMMIWAAAAIYRsAAAAAwjYAEAABhGwAIAADCMgAUAAGAYAQsAAMAwAhYAAIBhBCwAAADDCFgAAACGEbAAAAAMI2ABAAAYRsACAAAwjIAFAABgGAELAADAMAIWAACAYQQsAAAAwwhYAAAAhrnsLsAuR44c0Zw5c7Rjxw6FhYWpR48eevLJJ9W4cWN17txZLpdLISEhFftPmDBBo0aNsrFiAAAQKII2YD322GPq2rWrNm/erG%2B//VaPP/64nn/%2BeU2ePFmWZWnTpk1q1qyZ3WUCAIAAFJRLhCUlJeratasyMjIUHh6upk2batCgQdq%2BfbuKi4slSdHR0TZXCQAAAlVQXsFq3Lix5s6d6zN29OhRNW/eXKdPn1ZYWJimTp2qrVu3qlGjRrrrrrs0fvx41a9f36aKAQBAIAnKgPVTubm5Wr58uTIzM2VZljp16qQePXpozpw5%2BuqrrzRu3Di5XC5NnDixWvMVFBTI7Xb7jLlcjRQXF2e07rCwUJ/PAAD8mMv1f%2BcHzhn%2BFWJZlmV3EXbasWOHHnvsMY0fP17Dhg2rcp/ly5frlVdeUU5OTrXmXLhwobKysnzG0tLSlJ6efsX1wn9ueXKD3SUAwBXZPufXdpcQtIL6CtbmzZv1hz/8QX/60580YMCAi%2B7XsmVLFRYWyrIsn78svJjU1FT17t3bZ8zlaiSP5%2BwV1/xjYWGhioxsqOLicyov9xqdGwAQ%2BH583gnWc0ZMTLgtxw3agLVz505NmTJFmZmZSkpKqhjftm2bdu7cqccff7xi7MCBA2rRokW1wpUkxcXFVVoOdLtLVFZWOz/Q5eXeWpsbABC4qjo3cM7wj6BciC0rK9OMGTM0fvx4n3AlSZGRkVq0aJHWrFmjsrIy5ebm6o033rjo8iEAAMBPBeU9WNu3b9ewYcOq/KvADRs2KD8/XwsXLtThw4cVFxen1NRUPfTQQwoNvfw86naXXEnJVXK5QhUTEy6P5yz/GqkF/RdssbsEALgi6yckV/x3sJ4zmgcX3PkAAAlzSURBVDZtbMtxg3KJ8JZbbtHevXsvur1Fixbq27evHysCAAB1SVAuEQIAANQmAhYAAIBhBCwAAADDCFgAAACGEbAAAAAMI2ABAAAYRsACAAAwjIAFAABgGAELAADAMAIWAACAYQQsAAAAwwhYAAAAhhGwAAAADCNgAQAAGEbAAgAAMIyABQAAYBgBCwAAwDACFgAAgGEuuwtA8Oi/YIvdJQAA4BdcwQIAADCMgAUAAGAYAQsAAMAwAhYAAIBhBCwAAADD%2BCtCAADqqED66%2B31E5LtLsEormABAAAYRsACAAAwjIAFAABgGAELAADAMAIWAACAYQSsKhw5ckSjRo3SDTfcoNtvv10vvPCCvF6v3WUBAIAAwcs0/IRlWRo7dqzatWunTz75RKdOndLo0aPVpEkTjRw50u7yKrnlyQ12lwAAAH6CK1g/kZubq71792rGjBmKiorS9ddfrzFjxig7O9vu0gAAQIDgCtZP5Ofnq0WLFoqOjq4Y69y5sw4ePKgzZ84oIiLiknMUFBTI7Xb7jLlcjRQXF2e01rAw8jEAoG5wuerWOY2A9RMej0dRUVE%2BYz987fF4qhWwsrOzlZWV5TM2duxYjRs3zlyh%2Bj7I/f6aL5Wammo8vKFmCgoKlJ2dTS8cgF44B71wFvrhX3UrLjpEamqq3n33XZ%2BP1NRU48dxu93KysqqdLUM/kcvnINeOAe9cBb64V9cwfqJJk2aqKioyGfM4/FIkmJjY6s1R1xcHP86AAAgiHEF6yfi4%2BP1zTffVIQqSdq1a5fatWun8PBwGysDAACBgoD1E506dVJCQoJmz56t4uJi7d27V6%2B%2B%2BqqGDRtmd2kAACBAhD399NNP212E0/To0UMffPCBnnnmGb3//vsaOnSoRo0aZXdZVQoPD9ett97K1TUHoBfOQS%2Bcg144C/3wnxDLsiy7iwAAAKhLWCIEAAAwjIAFAABgGAELAADAMAIWAACAYQQsAAAAwwhYAAAAhhGwAAAADCNgAQAAGEbAAgAAMIyAFYCOHDmiUaNG6YYbbtDtt9%2BuF154QV6v1%2B6ygsaRI0f02GOP6dZbb9Xtt9%2BuyZMn6/Tp05KkPXv26P7771dCQoJ69uypJUuW2Fxt8Pjzn/%2BsDh06VHz96aef6p577lF8fLz69u2rtWvX2lhdcFi0aJHuuOMO3XjjjRoxYoS%2B/vprSfTC3/Ly8jR8%2BHDdfPPNuv3225WRkaHCwkJJ9MKvLAQUr9dr3XvvvdYTTzxhFRUVWfv27bN69eplvfHGG3aXFjTuvvtua%2BrUqdaZM2esgoIC67777rOmT59uffvtt1ZycrL13HPPWWfOnLH%2B9a9/Wd27d7c2bNhgd8l1Xn5%2BvtW9e3erffv2lmVZ1vHjx61u3bpZy5Yts7799ltr8%2BbNVkJCgvXvf//b5krrrrffftsaMmSIdfToUauoqMiaOnWqNWvWLHrhZ2VlZVZSUpL10ksvWefPn7c8Ho/10EMPWePGjaMXfsYVrACTm5urvXv3asaMGYqKitL111%2BvMWPGKDs72%2B7SgkJJSYm6du2qjIwMhYeHq2nTpho0aJC2b9%2Bujz/%2BWKWlpXriiScUHh6ubt26KTU1ld7UMq/Xq6eeekoPPfRQxdh7772n1q1ba/jw4WrYsKFSUlLUp08frVq1ysZK67Y333xTM2bM0LXXXquoqCjNnTtXf/zjH%2BmFn7ndbp08eVIDBw5U/fr1FR0drT59%2BmjPnj30ws8IWAEmPz9fLVq0UHR0dMVY586ddfDgQZ05c8bGyoJD48aNNXfuXDVp0qRi7OjRo2revLny8/PVsWNHhYWFVWzr1KmT8vLy7Cg1aKxYsUJXXXWVBg4cWDGWn5%2BvLl26%2BOxHL2rP8ePHdfz4cR06dEj9%2BvVTYmKiJkyYII/HQy/8rFmzZurcubNWrlypc%2BfOqbCwUB9%2B%2BKFSUlLohZ8RsAKMx%2BNRVFSUz9gPX3s8HjtKCmq5ublavny5HnrooSp7Ex0draKiIu6RqyUnT57Uyy%2B/rKefftpn/GK9%2BOE%2BFJh14sQJhYSEaOPGjcrOztb//M//6OjRo5o5cya98LOQkBBlZmZq8%2BbNFffplpeXa9KkSfTCzwhYwGXasWOHRo0apcmTJ%2BvOO%2B%2B0u5ygNHfuXP32t7/V9ddfX639Q0JCarmi4FRaWqrS0lJlZGQoJiZGzZs3V3p6uj788MOLfg%2B9qB0XLlzQI488ol//%2BtfauXOntmzZosaNGysjI%2BOi30MvagcBK8A0adJERUVFPmM/XLmKjY21o6SgtHnzZj3yyCN66qmnNGzYMEkX701MTIxCQ/lVM%2B3TTz/V7t279eijj1baFhsbW2Uv%2BB2pHT/cshAREVEx1qJFC1mWpbKyMnrhR1u3btWRI0c0YcIEhYeH6%2Bqrr9a4ceO0ceNG1atXj174Ec/6ASY%2BPl7ffPONz3Lgrl271K5dO4WHh9tYWfDYuXOnpkyZoszMTA0YMKBiPD4%2BXnv37lVZWVnF2K5du5SQkGBHmXXe2rVrdfz4cfXs2VOJiYkaPHiwJCkxMVEdOnSodF8Jvag9rVu3VkREhM//86NHj8rlciklJYVe%2BJFlWZVuSSgtLZUk3XbbbfTCn%2Bz%2BM0bU3G9/%2B1tr0qRJ1unTp60vvvjCSk5OtpYvX253WUGhtLTU6t%2B/v/X2229X2nb%2B/HmrV69e1rPPPmudOXPG%2Buyzz6wbbrjB%2Bvjjj22otO4rKiqyjh07VvHx%2BeefW%2B3bt7eOHTtmHT161LrpppusJUuWWOfOnbPWr19vxcfHW3v27LG77Dpr7ty51r333msdO3bMKigosFJTU61p06ZZJ0%2BepBd%2BVFhYaN16663W/PnzrXPnzllFRUXW2LFjrdTUVHrhZyGWZVl2hzzUzPHjxzVz5kx99tlnCg8P1wMPPKCxY8faXVZQ2L59u4YNG6b69etX2rZhwwZ9%2B%2B23mjlzpvLy8tSkSRONGTNGQ4cOtaHS4HPkyBH16dNHe/fulfR9r5555hnt379f1157rTIyMtS3b1%2Bbq6y7Lly4oGeffVbr1q1TaGioevXqpSeffFIRERH0ws927dqlF154QXv27FG9evV06623atq0abrmmmvohR8RsAAAAAzjHiwAAADDCFgAAACGEbAAAAAMI2ABAAAYRsACAAAwjIAFAABgGAELAADAMAIWAACAYQQsAAAAwwhYAAAAhhGwAAAADCNgAQAAGEbAAgAAMOz/AZvrt0H7NRsRAAAAAElFTkSuQmCC\"/>\n",
       "        </div>\n",
       "        <div role=\"tabpanel\" class=\"tab-pane col-md-12\" id=\"common-3847783183542785461\">\n",
       "            \n",
       "<table class=\"freq table table-hover\">\n",
       "    <thead>\n",
       "    <tr>\n",
       "        <td class=\"fillremaining\">Value</td>\n",
       "        <td class=\"number\">Count</td>\n",
       "        <td class=\"number\">Frequency (%)</td>\n",
       "        <td style=\"min-width:200px\">&nbsp;</td>\n",
       "    </tr>\n",
       "    </thead>\n",
       "    <tr class=\"\">\n",
       "        <td class=\"fillremaining\">30</td>\n",
       "        <td class=\"number\">26</td>\n",
       "        <td class=\"number\">3.1%</td>\n",
       "        <td>\n",
       "            <div class=\"bar\" style=\"width:5%\">&nbsp;</div>\n",
       "        </td>\n",
       "</tr><tr class=\"\">\n",
       "        <td class=\"fillremaining\">29</td>\n",
       "        <td class=\"number\">25</td>\n",
       "        <td class=\"number\">2.9%</td>\n",
       "        <td>\n",
       "            <div class=\"bar\" style=\"width:4%\">&nbsp;</div>\n",
       "        </td>\n",
       "</tr><tr class=\"\">\n",
       "        <td class=\"fillremaining\">35</td>\n",
       "        <td class=\"number\">25</td>\n",
       "        <td class=\"number\">2.9%</td>\n",
       "        <td>\n",
       "            <div class=\"bar\" style=\"width:4%\">&nbsp;</div>\n",
       "        </td>\n",
       "</tr><tr class=\"\">\n",
       "        <td class=\"fillremaining\">42</td>\n",
       "        <td class=\"number\">25</td>\n",
       "        <td class=\"number\">2.9%</td>\n",
       "        <td>\n",
       "            <div class=\"bar\" style=\"width:4%\">&nbsp;</div>\n",
       "        </td>\n",
       "</tr><tr class=\"\">\n",
       "        <td class=\"fillremaining\">31</td>\n",
       "        <td class=\"number\">23</td>\n",
       "        <td class=\"number\">2.7%</td>\n",
       "        <td>\n",
       "            <div class=\"bar\" style=\"width:4%\">&nbsp;</div>\n",
       "        </td>\n",
       "</tr><tr class=\"\">\n",
       "        <td class=\"fillremaining\">33</td>\n",
       "        <td class=\"number\">23</td>\n",
       "        <td class=\"number\">2.7%</td>\n",
       "        <td>\n",
       "            <div class=\"bar\" style=\"width:4%\">&nbsp;</div>\n",
       "        </td>\n",
       "</tr><tr class=\"\">\n",
       "        <td class=\"fillremaining\">43</td>\n",
       "        <td class=\"number\">21</td>\n",
       "        <td class=\"number\">2.5%</td>\n",
       "        <td>\n",
       "            <div class=\"bar\" style=\"width:4%\">&nbsp;</div>\n",
       "        </td>\n",
       "</tr><tr class=\"\">\n",
       "        <td class=\"fillremaining\">49</td>\n",
       "        <td class=\"number\">20</td>\n",
       "        <td class=\"number\">2.4%</td>\n",
       "        <td>\n",
       "            <div class=\"bar\" style=\"width:4%\">&nbsp;</div>\n",
       "        </td>\n",
       "</tr><tr class=\"\">\n",
       "        <td class=\"fillremaining\">27</td>\n",
       "        <td class=\"number\">20</td>\n",
       "        <td class=\"number\">2.4%</td>\n",
       "        <td>\n",
       "            <div class=\"bar\" style=\"width:4%\">&nbsp;</div>\n",
       "        </td>\n",
       "</tr><tr class=\"\">\n",
       "        <td class=\"fillremaining\">38</td>\n",
       "        <td class=\"number\">20</td>\n",
       "        <td class=\"number\">2.4%</td>\n",
       "        <td>\n",
       "            <div class=\"bar\" style=\"width:4%\">&nbsp;</div>\n",
       "        </td>\n",
       "</tr><tr class=\"other\">\n",
       "        <td class=\"fillremaining\">Other values (64)</td>\n",
       "        <td class=\"number\">620</td>\n",
       "        <td class=\"number\">73.1%</td>\n",
       "        <td>\n",
       "            <div class=\"bar\" style=\"width:100%\">&nbsp;</div>\n",
       "        </td>\n",
       "</tr>\n",
       "</table>\n",
       "        </div>\n",
       "        <div role=\"tabpanel\" class=\"tab-pane col-md-12\"  id=\"extreme-3847783183542785461\">\n",
       "            <p class=\"h4\">Minimum 5 values</p>\n",
       "            \n",
       "<table class=\"freq table table-hover\">\n",
       "    <thead>\n",
       "    <tr>\n",
       "        <td class=\"fillremaining\">Value</td>\n",
       "        <td class=\"number\">Count</td>\n",
       "        <td class=\"number\">Frequency (%)</td>\n",
       "        <td style=\"min-width:200px\">&nbsp;</td>\n",
       "    </tr>\n",
       "    </thead>\n",
       "    <tr class=\"\">\n",
       "        <td class=\"fillremaining\">0</td>\n",
       "        <td class=\"number\">1</td>\n",
       "        <td class=\"number\">0.1%</td>\n",
       "        <td>\n",
       "            <div class=\"bar\" style=\"width:100%\">&nbsp;</div>\n",
       "        </td>\n",
       "</tr><tr class=\"\">\n",
       "        <td class=\"fillremaining\">5</td>\n",
       "        <td class=\"number\">1</td>\n",
       "        <td class=\"number\">0.1%</td>\n",
       "        <td>\n",
       "            <div class=\"bar\" style=\"width:100%\">&nbsp;</div>\n",
       "        </td>\n",
       "</tr><tr class=\"\">\n",
       "        <td class=\"fillremaining\">10</td>\n",
       "        <td class=\"number\">1</td>\n",
       "        <td class=\"number\">0.1%</td>\n",
       "        <td>\n",
       "            <div class=\"bar\" style=\"width:100%\">&nbsp;</div>\n",
       "        </td>\n",
       "</tr><tr class=\"\">\n",
       "        <td class=\"fillremaining\">11</td>\n",
       "        <td class=\"number\">1</td>\n",
       "        <td class=\"number\">0.1%</td>\n",
       "        <td>\n",
       "            <div class=\"bar\" style=\"width:100%\">&nbsp;</div>\n",
       "        </td>\n",
       "</tr><tr class=\"\">\n",
       "        <td class=\"fillremaining\">12</td>\n",
       "        <td class=\"number\">1</td>\n",
       "        <td class=\"number\">0.1%</td>\n",
       "        <td>\n",
       "            <div class=\"bar\" style=\"width:100%\">&nbsp;</div>\n",
       "        </td>\n",
       "</tr>\n",
       "</table>\n",
       "            <p class=\"h4\">Maximum 5 values</p>\n",
       "            \n",
       "<table class=\"freq table table-hover\">\n",
       "    <thead>\n",
       "    <tr>\n",
       "        <td class=\"fillremaining\">Value</td>\n",
       "        <td class=\"number\">Count</td>\n",
       "        <td class=\"number\">Frequency (%)</td>\n",
       "        <td style=\"min-width:200px\">&nbsp;</td>\n",
       "    </tr>\n",
       "    </thead>\n",
       "    <tr class=\"\">\n",
       "        <td class=\"fillremaining\">79</td>\n",
       "        <td class=\"number\">2</td>\n",
       "        <td class=\"number\">0.2%</td>\n",
       "        <td>\n",
       "            <div class=\"bar\" style=\"width:67%\">&nbsp;</div>\n",
       "        </td>\n",
       "</tr><tr class=\"\">\n",
       "        <td class=\"fillremaining\">80</td>\n",
       "        <td class=\"number\">3</td>\n",
       "        <td class=\"number\">0.4%</td>\n",
       "        <td>\n",
       "            <div class=\"bar\" style=\"width:100%\">&nbsp;</div>\n",
       "        </td>\n",
       "</tr><tr class=\"\">\n",
       "        <td class=\"fillremaining\">81</td>\n",
       "        <td class=\"number\">1</td>\n",
       "        <td class=\"number\">0.1%</td>\n",
       "        <td>\n",
       "            <div class=\"bar\" style=\"width:34%\">&nbsp;</div>\n",
       "        </td>\n",
       "</tr><tr class=\"\">\n",
       "        <td class=\"fillremaining\">82</td>\n",
       "        <td class=\"number\">1</td>\n",
       "        <td class=\"number\">0.1%</td>\n",
       "        <td>\n",
       "            <div class=\"bar\" style=\"width:34%\">&nbsp;</div>\n",
       "        </td>\n",
       "</tr><tr class=\"\">\n",
       "        <td class=\"fillremaining\">88</td>\n",
       "        <td class=\"number\">1</td>\n",
       "        <td class=\"number\">0.1%</td>\n",
       "        <td>\n",
       "            <div class=\"bar\" style=\"width:34%\">&nbsp;</div>\n",
       "        </td>\n",
       "</tr>\n",
       "</table>\n",
       "        </div>\n",
       "    </div>\n",
       "</div>\n",
       "</div><div class=\"row variablerow\">\n",
       "    <div class=\"col-md-3 namecol\">\n",
       "        <p class=\"h4 pp-anchor\" id=\"pp_var_Fecha_de_Inicio_de_Síntomas\">Fecha_de_Inicio_de_Síntomas<br/>\n",
       "            <small>Categorical</small>\n",
       "        </p>\n",
       "    </div><div class=\"col-md-3\">\n",
       "    <table class=\"stats \">\n",
       "        <tr class=\"\">\n",
       "            <th>Distinct count</th>\n",
       "            <td>33</td>\n",
       "        </tr>\n",
       "        <tr>\n",
       "            <th>Unique (%)</th>\n",
       "            <td>3.9%</td>\n",
       "        </tr>\n",
       "        <tr class=\"ignore\">\n",
       "            <th>Missing (%)</th>\n",
       "            <td>0.0%</td>\n",
       "        </tr>\n",
       "        <tr class=\"ignore\">\n",
       "            <th>Missing (n)</th>\n",
       "            <td>0</td>\n",
       "        </tr>\n",
       "    </table>\n",
       "</div>\n",
       "<div class=\"col-md-6 collapse in\" id=\"minifreqtable-5802951383741070264\">\n",
       "    <table class=\"mini freq\">\n",
       "        <tr class=\"\">\n",
       "    <th>2020-03-16</th>\n",
       "    <td>\n",
       "        <div class=\"bar\" style=\"width:13%\" data-toggle=\"tooltip\" data-placement=\"right\" data-html=\"true\"\n",
       "             data-delay=500 title=\"Percentage: 9.6%\">\n",
       "            &nbsp;\n",
       "        </div>\n",
       "        81\n",
       "    </td>\n",
       "</tr><tr class=\"\">\n",
       "    <th>2020-03-18</th>\n",
       "    <td>\n",
       "        <div class=\"bar\" style=\"width:11%\" data-toggle=\"tooltip\" data-placement=\"right\" data-html=\"true\"\n",
       "             data-delay=500 title=\"Percentage: 8.0%\">\n",
       "            &nbsp;\n",
       "        </div>\n",
       "        68\n",
       "    </td>\n",
       "</tr><tr class=\"\">\n",
       "    <th>2020-03-17</th>\n",
       "    <td>\n",
       "        <div class=\"bar\" style=\"width:10%\" data-toggle=\"tooltip\" data-placement=\"right\" data-html=\"true\"\n",
       "             data-delay=500 title=\"Percentage: 7.5%\">\n",
       "            &nbsp;\n",
       "        </div>\n",
       "        64\n",
       "    </td>\n",
       "</tr><tr class=\"other\">\n",
       "    <th>Other values (30)</th>\n",
       "    <td>\n",
       "        <div class=\"bar\" style=\"width:100%\" data-toggle=\"tooltip\" data-placement=\"right\" data-html=\"true\"\n",
       "             data-delay=500 title=\"Percentage: 74.9%\">\n",
       "            635\n",
       "        </div>\n",
       "        \n",
       "    </td>\n",
       "</tr>\n",
       "    </table>\n",
       "</div>\n",
       "<div class=\"col-md-12 text-right\">\n",
       "    <a role=\"button\" data-toggle=\"collapse\" data-target=\"#freqtable-5802951383741070264, #minifreqtable-5802951383741070264\"\n",
       "       aria-expanded=\"true\" aria-controls=\"collapseExample\">\n",
       "        Toggle details\n",
       "    </a>\n",
       "</div>\n",
       "<div class=\"col-md-12 extrapadding collapse\" id=\"freqtable-5802951383741070264\">\n",
       "    \n",
       "<table class=\"freq table table-hover\">\n",
       "    <thead>\n",
       "    <tr>\n",
       "        <td class=\"fillremaining\">Value</td>\n",
       "        <td class=\"number\">Count</td>\n",
       "        <td class=\"number\">Frequency (%)</td>\n",
       "        <td style=\"min-width:200px\">&nbsp;</td>\n",
       "    </tr>\n",
       "    </thead>\n",
       "    <tr class=\"\">\n",
       "        <td class=\"fillremaining\">2020-03-16</td>\n",
       "        <td class=\"number\">81</td>\n",
       "        <td class=\"number\">9.6%</td>\n",
       "        <td>\n",
       "            <div class=\"bar\" style=\"width:30%\">&nbsp;</div>\n",
       "        </td>\n",
       "</tr><tr class=\"\">\n",
       "        <td class=\"fillremaining\">2020-03-18</td>\n",
       "        <td class=\"number\">68</td>\n",
       "        <td class=\"number\">8.0%</td>\n",
       "        <td>\n",
       "            <div class=\"bar\" style=\"width:26%\">&nbsp;</div>\n",
       "        </td>\n",
       "</tr><tr class=\"\">\n",
       "        <td class=\"fillremaining\">2020-03-17</td>\n",
       "        <td class=\"number\">64</td>\n",
       "        <td class=\"number\">7.5%</td>\n",
       "        <td>\n",
       "            <div class=\"bar\" style=\"width:24%\">&nbsp;</div>\n",
       "        </td>\n",
       "</tr><tr class=\"\">\n",
       "        <td class=\"fillremaining\">2020-03-15</td>\n",
       "        <td class=\"number\">61</td>\n",
       "        <td class=\"number\">7.2%</td>\n",
       "        <td>\n",
       "            <div class=\"bar\" style=\"width:23%\">&nbsp;</div>\n",
       "        </td>\n",
       "</tr><tr class=\"\">\n",
       "        <td class=\"fillremaining\">2020-03-13</td>\n",
       "        <td class=\"number\">59</td>\n",
       "        <td class=\"number\">7.0%</td>\n",
       "        <td>\n",
       "            <div class=\"bar\" style=\"width:22%\">&nbsp;</div>\n",
       "        </td>\n",
       "</tr><tr class=\"\">\n",
       "        <td class=\"fillremaining\">2020-03-20</td>\n",
       "        <td class=\"number\">59</td>\n",
       "        <td class=\"number\">7.0%</td>\n",
       "        <td>\n",
       "            <div class=\"bar\" style=\"width:22%\">&nbsp;</div>\n",
       "        </td>\n",
       "</tr><tr class=\"\">\n",
       "        <td class=\"fillremaining\">2020-03-14</td>\n",
       "        <td class=\"number\">56</td>\n",
       "        <td class=\"number\">6.6%</td>\n",
       "        <td>\n",
       "            <div class=\"bar\" style=\"width:21%\">&nbsp;</div>\n",
       "        </td>\n",
       "</tr><tr class=\"\">\n",
       "        <td class=\"fillremaining\">2020-03-09</td>\n",
       "        <td class=\"number\">46</td>\n",
       "        <td class=\"number\">5.4%</td>\n",
       "        <td>\n",
       "            <div class=\"bar\" style=\"width:17%\">&nbsp;</div>\n",
       "        </td>\n",
       "</tr><tr class=\"\">\n",
       "        <td class=\"fillremaining\">2020-03-19</td>\n",
       "        <td class=\"number\">46</td>\n",
       "        <td class=\"number\">5.4%</td>\n",
       "        <td>\n",
       "            <div class=\"bar\" style=\"width:17%\">&nbsp;</div>\n",
       "        </td>\n",
       "</tr><tr class=\"\">\n",
       "        <td class=\"fillremaining\">2020-03-10</td>\n",
       "        <td class=\"number\">39</td>\n",
       "        <td class=\"number\">4.6%</td>\n",
       "        <td>\n",
       "            <div class=\"bar\" style=\"width:15%\">&nbsp;</div>\n",
       "        </td>\n",
       "</tr><tr class=\"other\">\n",
       "        <td class=\"fillremaining\">Other values (23)</td>\n",
       "        <td class=\"number\">269</td>\n",
       "        <td class=\"number\">31.7%</td>\n",
       "        <td>\n",
       "            <div class=\"bar\" style=\"width:100%\">&nbsp;</div>\n",
       "        </td>\n",
       "</tr>\n",
       "</table>\n",
       "</div>\n",
       "</div><div class=\"row variablerow ignore\">\n",
       "    <div class=\"col-md-3 namecol\">\n",
       "        <p class=\"h4 pp-anchor\" id=\"pp_var_IdentificacionRT-PCR_COVID19(tiemporeal)\"><s>IdentificacionRT-PCR_COVID19(tiemporeal)</s><br/>\n",
       "            <small>Constant</small>\n",
       "        </p>\n",
       "    </div><div class=\"col-md-3\">\n",
       "    <p><em>This variable is constant and should be ignored for analysis</em></p>\n",
       "</div>\n",
       "<div class=\"col-md-6\">\n",
       "    <table class=\"stats \">\n",
       "        <tr>\n",
       "            <th>Constant value</th>\n",
       "            <td>confirmado</td>\n",
       "        </tr>\n",
       "    </table>\n",
       "</div>\n",
       "</div><div class=\"row variablerow\">\n",
       "    <div class=\"col-md-3 namecol\">\n",
       "        <p class=\"h4 pp-anchor\" id=\"pp_var_Procedencia\">Procedencia<br/>\n",
       "            <small>Categorical</small>\n",
       "        </p>\n",
       "    </div><div class=\"col-md-3\">\n",
       "    <table class=\"stats \">\n",
       "        <tr class=\"\">\n",
       "            <th>Distinct count</th>\n",
       "            <td>7</td>\n",
       "        </tr>\n",
       "        <tr>\n",
       "            <th>Unique (%)</th>\n",
       "            <td>0.8%</td>\n",
       "        </tr>\n",
       "        <tr class=\"ignore\">\n",
       "            <th>Missing (%)</th>\n",
       "            <td>0.0%</td>\n",
       "        </tr>\n",
       "        <tr class=\"ignore\">\n",
       "            <th>Missing (n)</th>\n",
       "            <td>0</td>\n",
       "        </tr>\n",
       "    </table>\n",
       "</div>\n",
       "<div class=\"col-md-6 collapse in\" id=\"minifreqtable4309458172968907562\">\n",
       "    <table class=\"mini freq\">\n",
       "        <tr class=\"\">\n",
       "    <th>Contacto</th>\n",
       "    <td>\n",
       "        <div class=\"bar\" style=\"width:100%\" data-toggle=\"tooltip\" data-placement=\"right\" data-html=\"true\"\n",
       "             data-delay=500 title=\"Percentage: 41.2%\">\n",
       "            349\n",
       "        </div>\n",
       "        \n",
       "    </td>\n",
       "</tr><tr class=\"\">\n",
       "    <th>EUA</th>\n",
       "    <td>\n",
       "        <div class=\"bar\" style=\"width:62%\" data-toggle=\"tooltip\" data-placement=\"right\" data-html=\"true\"\n",
       "             data-delay=500 title=\"Percentage: 25.5%\">\n",
       "            216\n",
       "        </div>\n",
       "        \n",
       "    </td>\n",
       "</tr><tr class=\"\">\n",
       "    <th>España</th>\n",
       "    <td>\n",
       "        <div class=\"bar\" style=\"width:59%\" data-toggle=\"tooltip\" data-placement=\"right\" data-html=\"true\"\n",
       "             data-delay=500 title=\"Percentage: 24.4%\">\n",
       "            207\n",
       "        </div>\n",
       "        \n",
       "    </td>\n",
       "</tr><tr class=\"other\">\n",
       "    <th>Other values (4)</th>\n",
       "    <td>\n",
       "        <div class=\"bar\" style=\"width:22%\" data-toggle=\"tooltip\" data-placement=\"right\" data-html=\"true\"\n",
       "             data-delay=500 title=\"Percentage: 9.0%\">\n",
       "            76\n",
       "        </div>\n",
       "        \n",
       "    </td>\n",
       "</tr>\n",
       "    </table>\n",
       "</div>\n",
       "<div class=\"col-md-12 text-right\">\n",
       "    <a role=\"button\" data-toggle=\"collapse\" data-target=\"#freqtable4309458172968907562, #minifreqtable4309458172968907562\"\n",
       "       aria-expanded=\"true\" aria-controls=\"collapseExample\">\n",
       "        Toggle details\n",
       "    </a>\n",
       "</div>\n",
       "<div class=\"col-md-12 extrapadding collapse\" id=\"freqtable4309458172968907562\">\n",
       "    \n",
       "<table class=\"freq table table-hover\">\n",
       "    <thead>\n",
       "    <tr>\n",
       "        <td class=\"fillremaining\">Value</td>\n",
       "        <td class=\"number\">Count</td>\n",
       "        <td class=\"number\">Frequency (%)</td>\n",
       "        <td style=\"min-width:200px\">&nbsp;</td>\n",
       "    </tr>\n",
       "    </thead>\n",
       "    <tr class=\"\">\n",
       "        <td class=\"fillremaining\">Contacto</td>\n",
       "        <td class=\"number\">349</td>\n",
       "        <td class=\"number\">41.2%</td>\n",
       "        <td>\n",
       "            <div class=\"bar\" style=\"width:100%\">&nbsp;</div>\n",
       "        </td>\n",
       "</tr><tr class=\"\">\n",
       "        <td class=\"fillremaining\">EUA</td>\n",
       "        <td class=\"number\">216</td>\n",
       "        <td class=\"number\">25.5%</td>\n",
       "        <td>\n",
       "            <div class=\"bar\" style=\"width:62%\">&nbsp;</div>\n",
       "        </td>\n",
       "</tr><tr class=\"\">\n",
       "        <td class=\"fillremaining\">España</td>\n",
       "        <td class=\"number\">207</td>\n",
       "        <td class=\"number\">24.4%</td>\n",
       "        <td>\n",
       "            <div class=\"bar\" style=\"width:59%\">&nbsp;</div>\n",
       "        </td>\n",
       "</tr><tr class=\"\">\n",
       "        <td class=\"fillremaining\">Francia</td>\n",
       "        <td class=\"number\">45</td>\n",
       "        <td class=\"number\">5.3%</td>\n",
       "        <td>\n",
       "            <div class=\"bar\" style=\"width:13%\">&nbsp;</div>\n",
       "        </td>\n",
       "</tr><tr class=\"\">\n",
       "        <td class=\"fillremaining\">Italia</td>\n",
       "        <td class=\"number\">19</td>\n",
       "        <td class=\"number\">2.2%</td>\n",
       "        <td>\n",
       "            <div class=\"bar\" style=\"width:6%\">&nbsp;</div>\n",
       "        </td>\n",
       "</tr><tr class=\"\">\n",
       "        <td class=\"fillremaining\">Alemania</td>\n",
       "        <td class=\"number\">10</td>\n",
       "        <td class=\"number\">1.2%</td>\n",
       "        <td>\n",
       "            <div class=\"bar\" style=\"width:3%\">&nbsp;</div>\n",
       "        </td>\n",
       "</tr><tr class=\"\">\n",
       "        <td class=\"fillremaining\">Singapur</td>\n",
       "        <td class=\"number\">2</td>\n",
       "        <td class=\"number\">0.2%</td>\n",
       "        <td>\n",
       "            <div class=\"bar\" style=\"width:1%\">&nbsp;</div>\n",
       "        </td>\n",
       "</tr>\n",
       "</table>\n",
       "</div>\n",
       "</div><div class=\"row variablerow\">\n",
       "    <div class=\"col-md-3 namecol\">\n",
       "        <p class=\"h4 pp-anchor\" id=\"pp_var_Llegada_México\">Llegada_México<br/>\n",
       "            <small>Categorical</small>\n",
       "        </p>\n",
       "    </div><div class=\"col-md-3\">\n",
       "    <table class=\"stats \">\n",
       "        <tr class=\"\">\n",
       "            <th>Distinct count</th>\n",
       "            <td>37</td>\n",
       "        </tr>\n",
       "        <tr>\n",
       "            <th>Unique (%)</th>\n",
       "            <td>4.4%</td>\n",
       "        </tr>\n",
       "        <tr class=\"alert\">\n",
       "            <th>Missing (%)</th>\n",
       "            <td>33.1%</td>\n",
       "        </tr>\n",
       "        <tr class=\"alert\">\n",
       "            <th>Missing (n)</th>\n",
       "            <td>281</td>\n",
       "        </tr>\n",
       "    </table>\n",
       "</div>\n",
       "<div class=\"col-md-6 collapse in\" id=\"minifreqtable876541786723380322\">\n",
       "    <table class=\"mini freq\">\n",
       "        <tr class=\"\">\n",
       "    <th>15/03/2020</th>\n",
       "    <td>\n",
       "        <div class=\"bar\" style=\"width:16%\" data-toggle=\"tooltip\" data-placement=\"right\" data-html=\"true\"\n",
       "             data-delay=500 title=\"Percentage: 7.7%\">\n",
       "            &nbsp;\n",
       "        </div>\n",
       "        65\n",
       "    </td>\n",
       "</tr><tr class=\"\">\n",
       "    <th>13/03/2020</th>\n",
       "    <td>\n",
       "        <div class=\"bar\" style=\"width:12%\" data-toggle=\"tooltip\" data-placement=\"right\" data-html=\"true\"\n",
       "             data-delay=500 title=\"Percentage: 5.5%\">\n",
       "            &nbsp;\n",
       "        </div>\n",
       "        47\n",
       "    </td>\n",
       "</tr><tr class=\"\">\n",
       "    <th>14/03/2020</th>\n",
       "    <td>\n",
       "        <div class=\"bar\" style=\"width:11%\" data-toggle=\"tooltip\" data-placement=\"right\" data-html=\"true\"\n",
       "             data-delay=500 title=\"Percentage: 5.2%\">\n",
       "            &nbsp;\n",
       "        </div>\n",
       "        44\n",
       "    </td>\n",
       "</tr><tr class=\"other\">\n",
       "    <th>Other values (33)</th>\n",
       "    <td>\n",
       "        <div class=\"bar\" style=\"width:100%\" data-toggle=\"tooltip\" data-placement=\"right\" data-html=\"true\"\n",
       "             data-delay=500 title=\"Percentage: 48.5%\">\n",
       "            411\n",
       "        </div>\n",
       "        \n",
       "    </td>\n",
       "</tr><tr class=\"missing\">\n",
       "    <th>(Missing)</th>\n",
       "    <td>\n",
       "        <div class=\"bar\" style=\"width:68%\" data-toggle=\"tooltip\" data-placement=\"right\" data-html=\"true\"\n",
       "             data-delay=500 title=\"Percentage: 33.1%\">\n",
       "            281\n",
       "        </div>\n",
       "        \n",
       "    </td>\n",
       "</tr>\n",
       "    </table>\n",
       "</div>\n",
       "<div class=\"col-md-12 text-right\">\n",
       "    <a role=\"button\" data-toggle=\"collapse\" data-target=\"#freqtable876541786723380322, #minifreqtable876541786723380322\"\n",
       "       aria-expanded=\"true\" aria-controls=\"collapseExample\">\n",
       "        Toggle details\n",
       "    </a>\n",
       "</div>\n",
       "<div class=\"col-md-12 extrapadding collapse\" id=\"freqtable876541786723380322\">\n",
       "    \n",
       "<table class=\"freq table table-hover\">\n",
       "    <thead>\n",
       "    <tr>\n",
       "        <td class=\"fillremaining\">Value</td>\n",
       "        <td class=\"number\">Count</td>\n",
       "        <td class=\"number\">Frequency (%)</td>\n",
       "        <td style=\"min-width:200px\">&nbsp;</td>\n",
       "    </tr>\n",
       "    </thead>\n",
       "    <tr class=\"\">\n",
       "        <td class=\"fillremaining\">15/03/2020</td>\n",
       "        <td class=\"number\">65</td>\n",
       "        <td class=\"number\">7.7%</td>\n",
       "        <td>\n",
       "            <div class=\"bar\" style=\"width:23%\">&nbsp;</div>\n",
       "        </td>\n",
       "</tr><tr class=\"\">\n",
       "        <td class=\"fillremaining\">13/03/2020</td>\n",
       "        <td class=\"number\">47</td>\n",
       "        <td class=\"number\">5.5%</td>\n",
       "        <td>\n",
       "            <div class=\"bar\" style=\"width:17%\">&nbsp;</div>\n",
       "        </td>\n",
       "</tr><tr class=\"\">\n",
       "        <td class=\"fillremaining\">14/03/2020</td>\n",
       "        <td class=\"number\">44</td>\n",
       "        <td class=\"number\">5.2%</td>\n",
       "        <td>\n",
       "            <div class=\"bar\" style=\"width:16%\">&nbsp;</div>\n",
       "        </td>\n",
       "</tr><tr class=\"\">\n",
       "        <td class=\"fillremaining\">16/03/2020</td>\n",
       "        <td class=\"number\">42</td>\n",
       "        <td class=\"number\">5.0%</td>\n",
       "        <td>\n",
       "            <div class=\"bar\" style=\"width:15%\">&nbsp;</div>\n",
       "        </td>\n",
       "</tr><tr class=\"\">\n",
       "        <td class=\"fillremaining\">09/03/2020</td>\n",
       "        <td class=\"number\">39</td>\n",
       "        <td class=\"number\">4.6%</td>\n",
       "        <td>\n",
       "            <div class=\"bar\" style=\"width:14%\">&nbsp;</div>\n",
       "        </td>\n",
       "</tr><tr class=\"\">\n",
       "        <td class=\"fillremaining\">17/03/2020</td>\n",
       "        <td class=\"number\">36</td>\n",
       "        <td class=\"number\">4.2%</td>\n",
       "        <td>\n",
       "            <div class=\"bar\" style=\"width:13%\">&nbsp;</div>\n",
       "        </td>\n",
       "</tr><tr class=\"\">\n",
       "        <td class=\"fillremaining\">18/03/2020</td>\n",
       "        <td class=\"number\">32</td>\n",
       "        <td class=\"number\">3.8%</td>\n",
       "        <td>\n",
       "            <div class=\"bar\" style=\"width:12%\">&nbsp;</div>\n",
       "        </td>\n",
       "</tr><tr class=\"\">\n",
       "        <td class=\"fillremaining\">12/03/2020</td>\n",
       "        <td class=\"number\">31</td>\n",
       "        <td class=\"number\">3.7%</td>\n",
       "        <td>\n",
       "            <div class=\"bar\" style=\"width:11%\">&nbsp;</div>\n",
       "        </td>\n",
       "</tr><tr class=\"\">\n",
       "        <td class=\"fillremaining\">11/03/2020</td>\n",
       "        <td class=\"number\">30</td>\n",
       "        <td class=\"number\">3.5%</td>\n",
       "        <td>\n",
       "            <div class=\"bar\" style=\"width:11%\">&nbsp;</div>\n",
       "        </td>\n",
       "</tr><tr class=\"\">\n",
       "        <td class=\"fillremaining\">10/03/2020</td>\n",
       "        <td class=\"number\">28</td>\n",
       "        <td class=\"number\">3.3%</td>\n",
       "        <td>\n",
       "            <div class=\"bar\" style=\"width:10%\">&nbsp;</div>\n",
       "        </td>\n",
       "</tr><tr class=\"other\">\n",
       "        <td class=\"fillremaining\">Other values (26)</td>\n",
       "        <td class=\"number\">173</td>\n",
       "        <td class=\"number\">20.4%</td>\n",
       "        <td>\n",
       "            <div class=\"bar\" style=\"width:61%\">&nbsp;</div>\n",
       "        </td>\n",
       "</tr><tr class=\"missing\">\n",
       "        <td class=\"fillremaining\">(Missing)</td>\n",
       "        <td class=\"number\">281</td>\n",
       "        <td class=\"number\">33.1%</td>\n",
       "        <td>\n",
       "            <div class=\"bar\" style=\"width:100%\">&nbsp;</div>\n",
       "        </td>\n",
       "</tr>\n",
       "</table>\n",
       "</div>\n",
       "</div>\n",
       "    <div class=\"row headerrow highlight\">\n",
       "        <h1>Correlations</h1>\n",
       "    </div>\n",
       "    <div class=\"row variablerow\">\n",
       "    <img src=\"data:image/png;base64,iVBORw0KGgoAAAANSUhEUgAAArYAAAHeCAYAAABuTEhGAAAABHNCSVQICAgIfAhkiAAAAAlwSFlzAAAPYQAAD2EBqD%2BnaQAAADh0RVh0U29mdHdhcmUAbWF0cGxvdGxpYiB2ZXJzaW9uMy4xLjEsIGh0dHA6Ly9tYXRwbG90bGliLm9yZy8QZhcZAAAgAElEQVR4nOzdeViVdf7/8dcBwT0QBPOnkKMWSIJCqampI6VJ5rhUktpiLi0KLqXmkkuJMYXlkrZYKU5jX9FhzCUdt8zKaTNNFBGnREVNQARBXEDO%2Bf3heKYTWOgNcXN8Pq7rXAOfe%2BHN52LizcvP/TkWm81mEwAAAFDFuVR2AQAAAEB5oLEFAACAU6CxBQAAgFOgsQUAAIBToLEFAACAU6CxBQAAgFOgsQUAAIBToLEFAACAU6CxBQAAgFOgsQUAAIBToLEFAADAVX3xxRfq0KGDxo4d%2B5vn2Ww2zZkzRx07dlSrVq00ePBgpaen24/n5ORo7NixCgsLU5s2bTRlyhRduHChXGulsQUAAECp3nvvPcXExOiWW2753XOXLl2qxMREvf/%2B%2B9qxY4f8/f01cuRI2Ww2SdLkyZOVnZ2tTZs2ad26dTpw4IDi4uLKtV4aWwAAAJSqevXq%2Bsc//lGmxnblypUaNmyYWrRooTp16uiFF17QoUOHtHv3bmVnZ2vbtm2aNGmS6tevrwYNGmjMmDH65z//qcLCwnKrt1q53QkAAACmk5mZqaysLIcxHx8f%2Bfr6/u61jz/%2BeJm%2BxsWLF/XTTz%2BpZcuW9rHatWvL399fycnJKigoULVq1RQQEGA/HhQUpHPnziktLc1h3AgaWwAAADOwWCrktgnz52vBggUOY1FRUYqOji63r5GbmyubzSYPDw%2BHcQ8PD50%2BfVoeHh6qU6eOXFxcHI5J0unTp8utDhpbAAAAJxYZGanw8HCHMR8fnz/s61t%2Bp2H/vePXgsYWAADADFwq5tEnX1/fMi07MKJevXpycXFRbm6uw3hOTo68vb3l7e2t/Px8FRcXy9XV1X5Mkry9vcutDh4eAwAAMAMXl4p5/QHc3d112223KTk52T6Wm5uro0ePKjg4WEFBQbJarUpNTbUfT0pKUt26ddWkSZNyq4PGFgAAANcsIyNDPXr0sO9VO2DAAL3//vs6cOCA8vPzFRMTo5YtWyokJET16tVTRESEYmNjderUKR0/flxz5sxRZGSk3Nzcyq0mliIAAACYwR%2BUrl6L4OBgSdKlS5ckSVu2bJEk7d27V0VFRUpLS7Nv1/XII48oKytLQ4YMUUFBgdq1a6f58%2Bfb7/XSSy9pxowZ6tatm9zc3NSrVy%2BNHj26XOu12K7smgsAAIDKU716xdz34sWKua8JkdgCAACYgQkT26qGxhYAAMAMaGwNYwYBAADgFEhsAQAAzIDE1jBmEAAAAE6BxBYAAMAMSGwNo7EFAAAwAxpbw5hBAAAAOAUSWwAAADMgsTWMGQQAAIBTILEFAAAwAxJbw2hsAQAAzIDG1jBmEAAAAE6BxBYAAMAMSGwNo7EFUOkCAgKueszNzU2enp4KCgpSnz59FBERIYvF8gdWBwCoKiw2m81W2UUAuLFdaWxDQkLk4%2BPjcCw3N1dHjx5VVlaWJKlLly5asGCB3N3d//A6AaBCNWpUMfc9frxi7mtCJLYATOPpp5/WvffeW2LcZrNp3bp1mjp1qrZv3664uDhNmTKlEioEgArEUgTDmEEApmexWNSrVy9FR0dLkpYvX67z589XclUAALMhsQVQZdxzzz167bXXVFhYqJSUFIWFhTkc/%2Bqrr/T3v/9dP/zwg86cOaPatWurRYsW6tu3r3r16iWXUtKQ3NxcxcfH67PPPtORI0dUWFgoDw8PhYSE6Mknn1S7du1KXBMeHq7jx4/rvffeU0FBgebOnav09HTNnz/fnjgfPHhQixcv1s6dO5WRkaFq1arJ19dXbdu21aOPPlrquuL8/HwtXbpUW7du1ZEjR1RUVKT69esrLCxMTzzxhEJCQhzO/89//qMHHnhArq6u2r9/v5KSkvTWW29pz549ys/Pl6%2Bvr7p166ZRo0apdu3aRqYewB%2BBxNYwZhBAlXHzzTfbP87Pz3c4NnfuXA0ePFhbtmxRnTp11LZtW3l5eemrr77ShAkTNGbMGBUXFztck5mZqX79%2Buntt9/WTz/9pICAAN11112qUaOGtm3bpieeeEKJiYlXrefQoUMaP368qlevrrvvvlseHh6SpG%2B//VYPPvigVq1apYsXL%2BqOO%2B5Qq1atVFBQoBUrVqh///766quvHO51/Phx9e3bV2%2B%2B%2BaZ%2B/PFHBQYGqm3btiouLta6desUGRmplStXOlxTvXp1%2B8dfffWVBg0apEOHDqlly5a69dZbdfz4ccXHx2vUqFHXNtEAUEWR2AKoMo7/4gGIevXq2T/esmWL3n77bdWtW1evv/66unTpYj/23XffacyYMdq4caM%2B/PBDDR482H5s/vz5On78uBo3bqzly5fbH1yzWq2Ki4vT4sWLFRsbqx49epSaeP7973/X008/bV8iccXs2bNVWFioIUOGaPz48fakuLi4WO%2B8847mz5%2BvV155RWvXrrVfM2HCBKWnp6tly5Z6%2B%2B235evra69l4cKFWrBggV566SXdcccdatq0qSTZ72uz2TRx4kRNmTJFjzzyiP2e//jHPzRlyhR9%2BeWXOnDggAIDA69twgH8sUhsDWMGAVQZW7ZskSTVrVtXLVq0sI8vXLhQkjRmzBiHplaS2rRpowkTJkiSli5dql9uBNOkSRP17dtXo0ePdtiNwcXFRaNGjZKLi4vy8/P1ww8/lFpPYWGhnn322RLjKSkpkqR%2B/fo5LH9wdXXViBEjNHr0aD322GMqLCyUJO3Zs0c7d%2B6UJL322mv2pvZKLdHR0br99ttVVFSk5cuXl/h6VqtVQUFBDk2tJD344IPy9PSUJCUlJZX6PQAwEReXinndQEhsAVQJ69at09tvvy1JGjp0qNzc3CRJGRkZ2r9/vySpa9eupV577733ymKx6MSJEzpy5IiaNGkiSRo2bNhVv17NmjXl7e2trKws%2B1Zjv9ahQwdVq1byP6MeHh7KysrS5s2bdeuttzocs1gsGjFihMPYF198IenytmfNmjUr9Wvdc889Sk5O1tdff13q8X79%2BpUYs1gs8vPzU25urk6fPl3qdQDgTGhsAZjGu%2B%2B%2Bq3/%2B858OY/n5%2BTp8%2BLAyMzMlSb1799bTTz9tP56ammr/OCYm5qpv3lCtWjUVFRUpLS3N3thK0oULF/Tpp59qz549OnXqlC5cuGBPda%2Bs47VaraXe08/Pr9TxgQMHat68eZo3b54%2B//xz9ejRQx06dNBtt91W6vk//vijJJVogn/pyvKDQ4cOXVMtNWvWlCQVFRVd9d4ATOIGS1crAo0tANMo7Z/LXV1d5enpqa5du%2Brhhx/WPffc43D8zJkz9o8//fTT3/0av3zoLCkpSdHR0Tp58uR11Xu1nQaeffZZWa1Wvffee9q9e7d2794tSWrQoIG6d%2B%2BuQYMG6U9/%2BlOJmq48fFaaK8eKiop04cIF1ahRw%2BF4nTp1rut7AABnQmMLwDQWLlxY6hs0/JYra1hr1qx51bWwpTl37pxGjBihrKws%2Bfv76/nnn1ebNm3k4eFhX15wZVuva2WxWBQVFaXHHntMW7Zs0eeff66vv/5aGRkZ%2BvDDD7V8%2BXK9%2Buqr6tmzp8N1v/VGkL9MjUvbtgyAE%2BD/24bR2AKo0q48HHX%2B/HkVFBSUeb/Wzz//XFlZWXJxcdGiRYscEtQrCgoKDNXm4eGhBx98UA8%2B%2BKCsVqu%2B%2B%2B47vfnmm/ruu%2B80ffp0dezYUZ6envY09pfp86/l5eVJkmrUqMHbCQPOisbWMGYQQJX2y3Wr1/Lk/9GjRyVJjRs3LrWpPXz4sHJzc40X%2BF8uLi5q166dPvjgA/n4%2BCg/P99e75W1tb9cL/xrBw8edDgXAFASjS2AKs3Hx0e33367JJV4A4Mr0tLS1Lt3b73zzjv2sZtuukmSdPHixVKvefPNN%2B0f//qNHX5LUlKSJk%2BerMWLF5d6vHr16vY9eK%2B8LfCVLcp%2B/PFHewP7S1arVRs3bpQkderUqcy1AKhi2O7LsBvruwXglJ555hlJ0ieffKKlS5c6HDty5IhGjRqlAwcOOGx5dWUf3IyMDPv%2BuNLl5QcxMTHat2%2Bf7rjjDklX34mgNLVr11ZiYqLmz5%2Bvzz77rMTxzZs368cff5Sbm5tCQ0MlSUFBQerYsaMkaeLEiTp16pT9/EuXLumvf/2rDh06pLp165bYqxaAE6GxNYw1tgCqvO7du%2Bupp57SokWL9Morr2jp0qVq2rSpcnJylJKSouLiYrVt29bhrWVbtWqlTp066YsvvlB0dLRatWolNzc37d%2B/Xy4uLvrggw%2B0YcMGff/99/rb3/6mlJQURUVF6c477/zNWpo1a6ZRo0Zp/vz5evrpp9WoUSPdcsstslgsSk9Pty%2BBeOGFFxzeiCE2NlaPP/64kpOTFR4erlatWsnd3V0pKSnKzs5WjRo19Prrr6tBgwYVM4kA4ARobAE4heeff17t27fXsmXL9MMPP%2Bjrr7%2BWh4eHWrdurd69e6tv374lHrqaM2eOZs%2Bera1bt2rfvn3y9vZWt27d9Mwzz6hJkyZq2LChkpOTtWfPHqWlpcnV1bVMtYwcOVKBgYFauXKlkpOT9d1330mS6tevr/vvv1%2BDBg0q0SA3aNBAiYmJio%2BP1%2BbNm7Vv3z5dunRJDRo00L333quhQ4fqlltuKZ/JAmBON1i6WhEstt/aXwYAAAB/jFatKua%2Be/ZUzH1NiMQWAADADEhsDTP1DB4/flzBwcFKS0u75mtnz56txx57rAKqAgAAqAA8PGaYqRPbRo0aae/evZVdBgAAAKoAUze2AAAAN4wbLF2tCKaewWPHjikgIEA//fSTOnXqpJUrV2r48OFq3bq1unfvrm%2B%2B%2BcZ%2B7qeffqr77rtPoaGheu6553ThwgWHe23cuFERERFq1aqVHnjgAa1Zs0aSdOrUKbVt29Zhv8lx48bp2Wef/UO%2BRwAAAJSPKpPYurm5acmSJXrttdcUGBioiRMn6pVXXtHq1auVl5ensWPHaty4cYqMjNSOHTs0fvx4%2BwbsP/30kyZOnKi33npLbdq00a5du/TUU0/plltuUatWrTR%2B/HjFxsaqQ4cO2rt3rz777DN98sknZa4tMzNTWVlZDmM%2BPj4Oe1QCAAD8JhJbw6pMYytJf/7zn9WyZUtJUo8ePbRp0yZJ0pdffqnq1atr0KBBcnFxUdeuXRUaGmpPbVesWKHw8HC1b99ektS2bVtFRETo448/VqtWrfTwww9r7dq1Wrx4sTZt2qTnnnvumjZBT0hI0IIFCxzGokaMUPTo0eXxbQMAgD%2BIzSZZLJX0xWlsDatSjW2jRo3sH7u7u9vf4/3kyZO6%2Beab5fKLH4hbbrlFqampkqSjR49q%2B/bt9kZYkmw2m%2B6%2B%2B2775zNnzlSvXr0UFBSkAQMGXFNdkZGRCg8Pdxjz6dVL%2BtVbe%2BI6BAZKH30kDRwoHThQ2dUA/EyWM9v3uyq7BKdhsVxuyoAbWZVqbF2u8pdMYWGhLL/686q4uNjhukceeUTTpk276r1PnjypatWqKSMjQ%2BfOnVPt2rXLXJevr2/JZQfXsUUZfsOBA9Lu3ZVdBfA//EwCKG8ktoY5xQz6%2Bvrq5MmTslqt9rHDhw/bP/b399fBgwcdrjl58qS9%2BS0sLNS0adP00ksvKSAgQHPmzPlD6gYAADC7Y8eOaejQoWrdurXat2%2BvuLg4h57riiFDhig4ONjhFRQUpEmTJkmS5s%2BfrxYtWjgc//XbixvlFI1t%2B/btdfbsWS1fvlyFhYXasmWL9u3bZz/%2B0EMPadeuXVq1apWKioqUkpKihx9%2B2L40YeHChfL19VWvXr00ZcoUJSYm6ocffqisbwcAANyITPgGDTabTVFRUapXr562b9%2BuZcuWacOGDYqPjy9x7uLFi7V3717769tvv9XNN9%2Bsnj17SpLy8vL00EMPOZyzc%2BdOQ/X9mlM0tg0bNlRcXJwWL16stm3bas2aNRo4cKCKiookSc2aNdPrr7%2BuRYsWKSwsTCNHjtSQIUMUERGhgwcPaunSpZo%2Bfbokyc/PT8OGDdPUqVPt1wMAAFQ4Eza2e/fuVWpqql588UV5eHioadOmeuqpp5SQkPC71y5cuFDBwcH2Z5ry8vLk4eFhqJ7fY7HZWGpeISrtkUonExoq7dolhYWxnhHmwM9kubJZ%2BRVUXnh4rPxU2q/wLl0q5LaZK1de97aky5cv1/vvv68tW7bYx5KSkvTwww/r%2B%2B%2B/V506dUq97tixY%2Brdu7fWrFljf/j/mWeeUUFBgU6fPq2MjAzdeuutmjRpkkJCQgx8d46q1MNjAAAATquCHh4rdVvSqChFR0f/7rU5OTklUtYrn%2Bfk5Fy1sX3nnXfUu3dvhx2tfHx8VL16dc2aNUteXl5auHChhg4dqo0bN8rLy%2Btav61S0dgCAAA4sVK3JfXxqbCvd/r0aa1Zs0arVq1yGJ85c6bD5%2BPGjdPatWu1ZcsW9e/fv1y%2BNo0tAACAGVRQYlvqtqRl5O3trdzcXIexnJwcSbpqyrp161Y1bdpUzZo1%2B817u7q6qmHDhiWWSRjhFA%2BPAQAAVHkmfHgsODhYJ06csDez0uU1ts2bN7/qnv9ffvml/d1er7DZbHr11VeVkpJiHysqKlJ6err8/PwM1fhLNLYAAAAoVYsWLRQSEqKYmBjl5eUpNTVVixYt0qBBgyRJPXr0KLFlV0pKipo3b%2B4wZrFYdOzYMc2cOVMZGRkqKCjQ7Nmz5e7urnvvvbfc6qWxBQAAMAMTJraSNG/ePOXn56tTp0568skn9cgjj2jgwIGSpLS0NJ07d87h/KysLHl6epa4T0xMjPz9/dWnTx917dpVP/74o%2BLj41WrVi3DNV7BGlsAAABc1c0336xFixaVeiw1NbXE2O6rbIXo4eGhv/71r%2BVa26/R2AIAAJhBBT08diOhsQUAADADGlvDmEEAAAA4BRJbAAAAMyCxNYwZBAAAgFMgsQUAADADElvDaGwBAADMgMbWMGYQAAAAToHEFgAAwAxIbA1jBgEAAOAUSGwBAADMgMTWMBpbAAAAM6CxNYwZBAAAgFMgsQUAADADElvDmEEAAAA4BRJbAAAAMyCxNYzGFgAAwAxobA1jBgEAAOAUSGwBAADMgMTWMBpbAAAAM6CxNYwZBAAAgFMgsQUAADADElvDmEEAAAA4BRJbAAAAMyCxNYzGFgAAwAxobA1jBgEAAOAUSGwBAADMgMTWMGYQAAAAToHEFgAAwAxIbA2jsQUAADADGlvDmEEAAAA4BRJbAAAAMyCxNYwZBAAAgFMgsQUAADADElvDaGwBAADMgMbWMGYQAAAAToHEFgAAwAxIbA1jBgEAAOAUSGwBAADMgMTWMBpbAAAAM6CxNYwZBAAAgFMgsQUAADADElvDmEEAAABc1bFjxzR06FC1bt1a7du3V1xcnKxWa4nzEhMTFRgYqODgYIfXqVOnJEkXL17UtGnT1LZtW4WGhmrUqFE6ffp0udZKYwsAAGAGLi4V8zLAZrMpKipK9erV0/bt27Vs2TJt2LBB8fHxJc7Nz89Xhw4dtHfvXodX/fr1JUlxcXHatWuXEhMT9emnn6qwsFCTJ082VN%2BvsRQBAADADCpoKUJmZqaysrIcxnx8fOTr6/u71%2B7du1epqamKj4%2BXh4eHPDw89NRTT2nJkiUaMmSIw7lnzpyRh4dHqfe5dOmSVq1apVdffVV%2Bfn6SpAkTJigiIkIZGRlq0KDBdX53jmhsAQAAnFhCQoIWLFjgMBYVFaXo6OjfvXb//v1q1KiRPD097WNBQUE6fPiwzp49qzp16tjH8/LydOTIEfXr109HjhyRv7%2B/xowZoy5duujo0aM6e/asbr/9dvv5TZs2Vc2aNZWcnExjCwAA4FQqKLGNjIxUeHi4w5iPj0%2BZrs3JySmRwl75PCcnx6Gx9fT0lJeXl8aNGyd/f3%2BtWLFCI0eO1OrVq5Wbm%2Btw7RU33XRTua6zpbEFAABwYr6%2BvmVadmDUrxPgwYMHa926dVqzZo06d%2B581essFku51UBjCwAAYAYm3O7L29vbnrZekZOTI0ny8vL63esbN26srKwseXt7S5Jyc3NVq1YtSZcfTMvNzbUfKw/mm0EAAIAbkQl3RQgODtaJEyfszawkJSUlqXnz5qpdu7bDue%2B%2B%2B67%2B/e9/O4ylpaXJz89Pfn5%2B8vT0VHJysv1YamqqCgsL1bJlS0M1/hKNLQAAAErVokULhYSEKCYmRnl5eUpNTdWiRYs0aNAgSVKPHj20c%2BdOSZeT3JdfflmHDx9WYWGhlixZoqNHj6pfv35ydXVV//79NXfuXKWnpys7O1uxsbHq0aOHfTuw8sBSBAAAADMw4VIESZo3b56mTZumTp06qXbt2ho4cKAGDhwo6XIie%2B7cOUnSc889J6vVqkcffVTnz59XQECA4uPj7TseREdHq6CgQP369VNxcbG6du2qGTNmlGutFpvNZivXO%2BKyclwIfUMLDZV27ZLCwqTduyu7GoCfyXJms/IrqLxYLBK/0ctHpf0Kj42tmPtOmlQx9zUhElsAAAAzMGliW5XQ2AIAAJgBja1hzCAAAACcAoktAACAGZDYGsYMAgAAwCmQ2AIAAJgBia1hNLYAAABmQGNrGDMIAAAAp0BiCwAAYAYktobR2AIAAJgBja1hzCAAAACcAoktAACAGZDYGsYMAgAAwCmQ2AIAAJgBia1hNLYAAABmQGNrGDMIAAAAp0BiCwAAYAYktoYxgwAAAHAKJLYAAABmQGJrGI0tAACAGdDYGsYMAgAAwCmQ2AIAAJgBia1hzCAAAACcAoktAACAGZDYGkZjCwAAYAY0toYxgwAAAHAKJLYAAABmQGJrGDMIAAAAp0BiCwAAYAYktobR2AIAAJgBja1hzCAAAACcAoktAACAGZDYGsYMAgAAwCmQ2AIAAJgBia1hNLYAAABmQGNrGDMIAAAAp0BiCwAAYAYktoYxgwAAAHAKJLYAAABmQGJrGI0tAACAGdDYGsYMAgAAwCmQ2AIAAJgBia1hzCAAAACu6tixYxo6dKhat26t9u3bKy4uTlartdRzP/roI3Xv3l2hoaHq1auXtmzZYj82f/58tWjRQsHBwfbXnXfeWa61ktgCAACYgQkTW5vNpqioKDVv3lzbt29Xdna2hg0bJm9vbw0ZMsTh3E2bNumNN97Qe%2B%2B9p%2BDgYK1du1ZjxozR%2BvXr5e/vr7y8PD300EOaOXNmhdVrvhkEAAC4Ebm4VMgrMzNTycnJDq/MzMwylbR3716lpqbqxRdflIeHh5o2baqnnnpKCQkJJc69cOGCnn/%2BeYWGhqpatWrq27ev6tSpoz179kiS8vLy5OHhUa5T9msktgAAAE4sISFBCxYscBiLiopSdHT07167f/9%2BNWrUSJ6envaxoKAgHT58WGfPnlWdOnXs43/5y18crs3Ly9PZs2fVsGFD%2B%2Bc///yzevbsqYyMDN16662aNGmSQkJCjHx7DmhsAQAAzKCCliJERkYqPDzcYczHx6dM1%2Bbk5JRIWa98npOT49DY/pLNZtOLL76oli1bKiwszP41q1evrlmzZsnLy0sLFy7U0KFDtXHjRnl5eV3rt1UqGlsAAAAn5uvrK19f3z/s6xUVFWnixIlKS0tTfHy8XP7bsP96be24ceO0du1abdmyRf379y%2BXr01jCwAAYAYmfHjM29tbubm5DmM5OTmSVGrKeuHCBY0YMUKFhYVatmyZbrrppqve29XVVQ0bNlRWVla51Wu%2BGQQAALgRVdDDY0YEBwfrxIkT9mZWkpKSktS8eXPVrl3b4VybzaaxY8fK3d1dixcvdmhqbTabXn31VaWkpNjHioqKlJ6eLj8/P0M1/hKNLQAAAErVokULhYSEKCYmRnl5eUpNTdWiRYs0aNAgSVKPHj20c%2BdOSdLatWuVmpqqOXPmyN3d3eE%2BFotFx44d08yZM5WRkaGCggLNnj1b7u7uuvfee8utXpYiAAAAmIEJlyJI0rx58zRt2jR16tRJtWvX1sCBAzVw4EBJUlpams6dOydJSkxM1MmTJ9W2bVuH63v37q2YmBjFxMQoNjZWffr0UXFxsYKDgxUfH69atWqVW60Wm81mK7e74X8slsquwDmEhkq7dklhYdLu3ZVdDcDPZDmzWfkVVF4sFonf6OWj0n6Ff/VVxdy3ffuKua8JkdgCAACYgUkT26qExhYAAMAMaGwNYwYBAADgFEhsAQAAzIDE1jAaWwAAADOgsTWMGQQAAIBTILEFAAAwAxJbw5hBAAAAOAUSWwAAADMgsTWMxhYAAMAMaGwNYwYBAADgFEhsAQAAzIDE1jBmEAAAAE6BxBYAAMAMSGwNo7EFAAAwAxpbw5hBAAAAOAUSWwAAADMgsTWMGQQAAIBTILEFAAAwAxJbw2hsAQAAzIDG1jBmEAAAAE6BxBYAAMAMSGwNYwYBAADgFEhsAQAAzIDE1jAaWwAAADOgsTWMGQQAAIBTILEFAAAwAxJbw5hBAAAAOAUSWwAAADMgsTWMxhYAAMAMaGwNYwYBAADgFEhsAQAAzIDE1jBmEAAAAE6BxBYAAMAMSGwNo7EFAAAwAxpbw5hBAAAAOAUSWwAAADMgsTWMGQQAAIBTILEFAAAwAxJbw2hsAQAAzIDG1jBmEAAAAE6BxBYAAMAMSGwNu6YZDA8PV5cuXXTu3DmH8W%2B%2B%2BUbh4eHlWtgVFy9e1IIFC9SjRw%2B1atVKd911l4YPH66dO3dWyNcDAADA/xw7dkxDhw5V69at1b59e8XFxclqtZZ67tKlS9W1a1eFhITo4YcfVnJysv3YxYsXNW3aNLVt21ahoaEaNWqUTp8%2BXa61XvOfBhcvXtRbb71VrkVczaVLlzR8%2BHBt27ZNr732mnbv3q0NGzaoVatWevLJJ7Vjx44/pA4AAIAK5%2BJSMS8DbDaboqKiVK9ePW3fvl3Lli3Thg0bFB8fX%2BLczZs3a%2B7cuYqNjdU333yjLl266Omnn7YHonFxcdq1a5cSExP16WFkX7UAACAASURBVKefqrCwUJMnTzZU369d81KE6OhozZ49Ww8%2B%2BKD%2B9Kc/ORw7duyY7rnnHq1fv17NmjWTJM2ePVt79uzRhx9%2BqB07dig6OlqvvvqqYmJilJeXp8cff1zdu3fXxIkTdezYMXXu3FlvvPGGXF1dtWrVKu3du1ebN29W/fr1JUn16tVTVFSUqlevrpycHEmXm%2B2ZM2dq69atunDhgm6//XbNmDFDzZs3lyT94x//0KJFi5SZmSkvLy89/vjjGjx4sCTp5MmTeumll7Rr1y65u7urc%2BfOmjRpkurUqVPmOcnMzFRWVpbDmM%2Bf/iRfT89rnV78WmCg4/8ClY2fSQAVpYKWIpTap/j4yNfX93ev3bt3r1JTUxUfHy8PDw95eHjoqaee0pIlSzRkyBCHc1euXKmHHnpId911lyRp5MiRSkhI0NatWxUREaFVq1bp1VdflZ%2BfnyRpwoQJioiIUEZGhho0aFAu3%2Bs1N7bNmzdX//79FRMTow8%2B%2BODavli1ajp//ry%2B%2BeYbbdy4Uf/61780ceJEHTp0SEuXLlVOTo7%2B8pe/6PPPP1fXrl21adMmRURE2JvaXxo%2BfLj94/fee087d%2B7UunXrVLduXU2dOlUvvviili9frp9//llTp07V4sWL1b59ex08eFBPPvmk7rrrLgUGBmrEiBFq3ry5tmzZogsXLig6OlrTpk3TG2%2B8UebvKyEhQQsWLHAYixo9WtGjR1/T/OA3fPRRZVcAOOJnslxYKrsAJ2NhQg2z2Sq7gvJXap8SFaXo6OjfvXb//v1q1KiRPH8R1gUFBenw4cM6e/asQxC4f/9%2B3X///fbPLRaLAgMDlZycrNtvv11nz57V7bffbj/etGlT1axZU8nJyZXX2EqXU9sePXpo8%2BbN6tat2zVda7VaNWjQINWoUUNdu3aVzWbTPffcIy8vL3l5ealx48Y6cuSIJCk9PV1t2rT53Xs%2B/fTTGjx4sH1yu3fvrtH/bSrPnTsnq9WqmjVrSpJuu%2B02ffHFF3JxcVFKSoqSk5P1zjvvqG7duqpbt66GDx%2Bu0aNHq7CwUO7u7mX6niIjI0usMfbp1UtaurTM84KrCAy83EAMHCgdOFDZ1QD8TJYz2/e7KrsEp2GxOGdTdiOxVdCfeqX2KT4%2BZbo2JydHHh4eDmNXPs/JyXFobHNychwa4Cvnnj592v6v7L%2B%2B10033VSu62yvq7GtU6eOxo0bp9jYWHXq1Omar7/55pslSTVq1JAkhy69Ro0aKiwslCS5ubmpuLj4d%2B938uRJvfLKK9qzZ4/y8/Nls9lUVFQkSWrWrJkGDBiggQMHKjQ0VH/%2B85/Vt29f1a9fX8eOHVOtWrUconh/f38VFRUpIyPDHpX/Hl9f35Jxflpama5FGR04IO3eXdlVAP/DzySAcnaV57EMK7VPqQCWq/yTwdXGy3r8Wlz3Yo4%2BffqoQYMGevfdd3/zPFspfz66/GoNya8/v8LPz08//vjj79YyadIknT9/XmvWrNHevXu1cOFCh%2BMzZszQunXr9Oc//1mffPKJHnjgAR07dkxSycm8Um95TjIAAEBV5O3trdzcXIexK%2Bmrl5eXw3i9evVKPdfLy0ve3t6S5HDcZrMpNzfXfqw8GFqlPH36dMXHx%2Bvo0aOS/pfAXklLpctp6vW67777tHHjRqWnp5c4NmfOHMXExEiS9u3bp/79%2B9vX4h74xT8PWq1W5ebmqmnTpho%2BfLgSExPl4eGhLVu2yM/PTwUFBcrMzLSff/ToUVWvXr3c1noAAACUhdVaMS8jgoODdeLECXszK0lJSUlq3ry5ateuXeLcffv22T8vLi7W/v37FRISIj8/P3l6ejps/5WamqrCwkK1bNnSWJG/YKixDQwMVJ8%2BfTRv3jxJlzv3m266yb4N18GDB/X1119f9/3/8pe/qEOHDnrmmWe0c%2BdOe5O6YMEC/e1vf1NERISky0sb9uzZo%2BLiYm3fvl2ff/65JCkjI0OffPKJ%2Bvbtq59%2B%2BkmSdOTIEeXm5qpx48YKDAxUSEiI3njjDZ09e1Y///yz3nnnHfXs2VNubm5GpgYAAKDKa9GihUJCQuy7WaWmpmrRokUaNGiQJKlHjx729xZ45JFHlJiYqK%2B//loFBQV64403VKNGDYWHh8vV1VX9%2B/fX3LlzlZ6eruzsbMXGxqpHjx6lbhJwvQy/89iYMWO0YcMGubu7y8XFRdOnT1dcXJwSEhLUokULDRgw4Lr3m7VYLHrrrbe0ZMkSzZgxQ8ePH1fNmjV155136v/%2B7/8U%2BN/tdqZOnaqpU6dqxYoV6tKli958800NHTpUvXv31oYNG5SWlqahQ4cqJydH3t7eGjx4sO69915J0htvvKHp06erY8eO8vDwULdu3TRu3Dij0wIAAHBNKmqNrVHz5s3TtGnT1KlTJ9WuXVsDBw7UwIEDJUlpaWn2fWo7d%2B6sCRMmaNKkScrOzlbLli21aNEiVa9eXdLlzQcKCgrUr18/FRcXq2vXrpoxY0a51mqxlbYIFsaxRrd8hIZKu3ZJYWE8qANz4GeyXNms/AoqL%2ByKUH4q61f4%2BfMVc9//bgx1Q%2BBNiQEAAOAUDC9FAAAAgHFmXYpQlZDYAgAAwCmQ2AIAAJgAia1xNLYAAAAmQGNrHEsRAAAA4BRIbAEAAEyAxNY4ElsAAAA4BRJbAAAAEyCxNY7GFgAAwARobI1jKQIAAACcAoktAACACZDYGkdiCwAAAKdAYgsAAGACJLbG0dgCAACYAI2tcSxFAAAAgFMgsQUAADABElvjSGwBAADgFEhsAQAATIDE1jgaWwAAABOgsTWOpQgAAABwCiS2AAAAJkBiaxyJLQAAAJwCiS0AAIAJkNgaR2MLAABgAjS2xrEUAQAAAE6BxBYAAMAESGyNI7EFAACAUyCxBQAAMAESW%2BNobAEAAEyAxtY4liIAAADAKZDYAgAAmACJrXEktgAAAHAKJLYAAAAmQGJrHI0tAACACdDYGsdSBAAAADgFElsAAAATILE1jsYWAADABGhsjWMpAgAAAJwCiS0AAIAJkNgaR2ILAAAAp0BiCwAAYAIktsaR2AIAAJiA1Voxr4qUk5OjsWPHKiwsTG3atNGUKVN04cKFq57/r3/9S7169VJoaKi6d%2B%2BuhIQE%2B7HExEQFBgYqODjY4XXq1Kky10NiCwAAgOsyefJkFRQUaNOmTSouLtaIESMUFxenqVOnljg3KSlJEyZM0Ny5c9WlSxd9/fXXevrpp9WsWTPdeeedys/PV4cOHbR48eLrrofGFgAAwAQqKl3NzMxUVlaWw5iPj498fX0N3Tc7O1vbtm3TqlWrVL9%2BfUnSmDFjNGrUKL3wwgtyd3d3OD83N1fPPPOMwsPDJUkdO3ZUQECAdu7cqTvvvFNnzpyRh4eHoZpobAEAAJxYQkKCFixY4DAWFRWl6OhoQ/fdv3%2B/qlWrpoCAAPtYUFCQzp07p7S0NIdxSercubM6d%2B5s//zSpUvKzMxUw4YNJUl5eXk6cuSI%2BvXrpyNHjsjf319jxoxRly5dylwTjS0AAIAJVFRiGxkZaU9Jr/Dx8TF835ycHNWpU0cuLv97ZOtK4nr69OnfvX727NmqXr26unXrJkny9PSUl5eXxo0bJ39/f61YsUIjR47U6tWr1axZszLVRGMLAABgAhXV2Pr6%2Bl73soOPP/5YkydPLvXYrFmzrnqdxWK56jGbzabZs2dr/fr1Wrp0qWrVqiVJJRLkwYMHa926dVqzZo3Gjh1bpnppbAEAAFCqPn36qE%2BfPqUe27Fjh/Lz81VcXCxXV1dJl1NcSfL29i71GqvVqkmTJik5OVkJCQn2ZQhX07hx4xLrg38L230BAACYQFXb7isoKEhWq1Wpqan2saSkJNWtW1dNmjQp9ZpXXnlFhw4d0rJly0o0te%2B%2B%2B67%2B/e9/O4ylpaXJz8%2BvzDXR2AIAAOCa1atXTxEREYqNjdWpU6d0/PhxzZkzR5GRkXJzc5MkPfHEE1q/fr0k6fvvv9fq1au1cOHCUnc/yMnJ0csvv6zDhw%2BrsLBQS5Ys0dGjR9WvX78y18RSBAAAABOoiu889tJLL2nGjBnq1q2b3Nzc1KtXL40ePdp%2BPD09XWfOnJF0%2BQ0Yzp49q3vuucfhHm3atNHixYv13HPPyWq16tFHH9X58%2BcVEBCg%2BPh4NWjQoMz1WGw2m618vjU4%2BI1F07gGoaHSrl1SWJi0e3dlVwPwM1nObFZ%2BBZUXi0XiN3r5qKxf4Rs2VMx9IyIq5r5mxFIEAAAAOAWWIgAAAJhAVVyKYDYktgAAAHAKJLYAAAAmQGJrHI0tAACACdDYGsdSBAAAADgFElsAAAATILE1jsQWAAAAToHEFgAAwARIbI2jsQUAADABGlvjWIoAAAAAp0BiCwAAYAIktsaR2AIAAMApkNgCAACYAImtcTS2AAAAJkBjaxxLEQAAAOAUSGwBAABMgMTWOBJbAAAAOAUSWwAAABMgsTWOxhYAAMAEaGyNYykCAAAAnAKJLQAAgAmQ2BpHY1tBbFZbZZfgNCySbN/vquwyADt%2BJsuPxcVS2SU4h9BQadcuWe4Ik3bvruxqqj4bv8OrKhpbAAAAEyCxNY7GFgAAwARobI3j4TEAAAA4BRJbAAAAEyCxNY7EFgAAAE6BxBYAAMAESGyNo7EFAAAwARpb41iKAAAAAKdAYgsAAGACJLbG0dgCAACYAI2tcSxFAAAAgFMgsQUAADABElvjSGwBAADgFEhsAQAATIDE1jgaWwAAABOgsTWOpQgAAABwCiS2AAAAJkBiaxyJLQAAAJwCiS0AAIAJkNgaR2ILAABgAlZrxbwqUk5OjsaOHauwsDC1adNGU6ZM0YULF0o99%2Buvv1ZAQICCg4MdXklJSZIkm82mOXPmqGPHjmrVqpUGDx6s9PT0a6qHxhYAAADXZfLkycrOztamTZu0bt06HThwQHFxcaWem5%2BfryZNmmjv3r0Or5CQEEnS0qVLlZiYqPfff187duyQv7%2B/Ro4cKZvNVuZ6WIoAAABgAhWVrmZmZiorK8thzMfHR76%2Bvobum52drW3btmnVqlWqX7%2B%2BJGnMmDEaNWqUXnjhBbm7uzucf%2BbMGXl4eFz1fitXrtSwYcPUokULSdILL7ygdu3aaffu3QoLCytTTSS2AAAATiwhIUH9%2BvVzeCUkJBi%2B7/79%2B1WtWjUFBATYx4KCgnTu3DmlpaWVOD8vL09nzpzRo48%2BqjvuuEM9e/bUxx9/LEm6ePGifvrpJ7Vs2dJ%2Bfu3ateXv76/k5OQy10RiCwAAYAIVldhGRkYqPDzcYczHx8fwfXNyclSnTh25uPwvJ72SyJ4%2BfbrE%2BbVq1ZKvr69Gjx6tli1bauvWrRo/frx8fX3VrFkz2Wy2Eomuh4dHqfe6GhpbAAAAE6ioxtbX1/e6lx18/PHHmjx5cqnHZs2addXrLBZLibFHHnlEjzzyiP3znj17atOmTUpMTNSECROu6V5XQ2MLAACAUvXp00d9%2BvQp9diOHTuUn5%2Bv4uJiubq6Srqc4kqSt7d3me7fuHFj7du3T/Xq1ZOLi4tyc3Mdjufk5JT5XhJrbAEAAEyhqm33FRQUJKvVqtTUVPtYUlKS6tatqyZNmpQ4f8WKFVq/fr3D2KFDh%2BTn5yd3d3fddtttDutpc3NzdfToUQUHB5e5JhpbAAAAXLN69eopIiJCsbGxOnXqlI4fP645c%2BYoMjJSbm5ukqQnnnjC3sxevHhRMTEx2rdvn4qKivTJJ5/oiy%2B%2B0IABAyRJAwYM0Pvvv68DBw4oPz9fMTExatmypX07sLJgKQIAAIAJVMV3HnvppZc0Y8YMdevWTW5uburVq5dGjx5tP56enq4zZ85Ikh599FHl5%2Bdr1KhRysnJ0Z/%2B9CctXLhQt99%2Bu6TLa3CzsrI0ZMgQFRQUqF27dpo/f/411WOxXcuutygzZrX8WCzMJ8yFn8nyY3Ep%2B0Mh%2BA2hodKuXVJYmLR7d2VXU/VV0v/BX3ihYu776qsVc18zYikCAAAAnAJLEQAAAEygKi5FMBsSWwAAADgFElsAAAATILE1jsYWAADABGhsjWMpAgAAAJwCiS0AAIAJkNgaR2ILAAAAp0BiCwAAYAIktsbR2AIAAJgAja1xLEUAAACAUyCxBQAAMAESW%2BNIbAEAAOAUSGwBAABMgMTWOBpbAAAAE6CxNY6lCAAAAHAKJLYAAAAmQGJrHIktAAAAnAKJLQAAgAmQ2BpHYwsAAGACNLbGsRQBAAAAToHEFgAAwARIbI2jsQUAADABGlvjWIoAAAAAp0BiCwAAYAIktsaR2AIAAMApkNgCAACYAImtcTS2AAAAJkBjaxxLEQAAAOAUSGwBAABMgMTWOBJbAAAAOAUSWwAAABMgsTWOxhYAAMAEaGyNYykCAAAAnAKJLQAAgAmQ2BpHYgsAAACnQGILAABgAiS2xtHYAgAAmACNrXEsRQAAAIBTILEFAAAwARJb40hsAQAA4BRIbAEAAEyAxNY4GlsAAAATqIqNbU5Ojl5%2B%2BWVt375drq6u6t69u6ZOnaoaNWqUOPfFF1/U6tWrHcasVqvCwsL04YcfKjExUVOmTJGbm5vDOdu2bVP9%2BvXLVA%2BNLQAAAK7L5MmTVVBQoE2bNqm4uFgjRoxQXFycpk6dWuLcmJgYxcTE2D%2B3Wq0aMGCAevXqJUnKz89Xhw4dtHjx4uuuh8YWAADABCoqsc3MzFRWVpbDmI%2BPj3x9fQ3dNzs7W9u2bdOqVavsieqYMWM0atQovfDCC3J3d//N6xMSEmSz2fTwww9Lks6cOSMPDw9DNdHYAgAAOLGEhAQtWLDAYSwqKkrR0dGG7rt//35Vq1ZNAQEB9rGgoCCdO3dOaWlpDuO/dvbsWc2fP19vvfWWLBaLJCkvL09HjhxRv379dOTIEfn7%2B2vMmDHq0qVLmWuisQUAADCBikpsIyMjFR4e7jDm4%2BNj%2BL45OTmqU6eOXFz%2Bt8nWlcT19OnTv3nthx9%2BqJCQEIWGhtrHPD095eXlpXHjxsnf318rVqzQyJEjtXr1ajVr1qxMNTldY/vTTz/p/vvv19atW9W4ceNrvn7s2LGqXr26/vrXv1ZAdQAAAKWrqMbW19f3upcdfPzxx5o8eXKpx2bNmnXV666ksKUpKirSsmXLFBsb6zD%2B6wR58ODBWrdundasWaOxY8eWqV7TN7bh4eHKyMhw%2BGvgitjYWD3wwAOVUBUAAIDz69Onj/r06VPqsR07dig/P1/FxcVydXWVdDnFlSRvb%2B%2Br3nPnzp0qKipSx44df/frN27cuMT64N9i%2BsZWurw9xIABAyq7DAAAgApT1bb7CgoKktVqVWpqqoKCgiRJSUlJqlu3rpo0aXLV67744gu1a9euRGj57rvvKjg4WB06dLCPpaWlqUePHmWuqcq/81h2draGDRum0NBQPfDAA0pKSnI4vnfvXg0YMEBhYWHq2LGjXn75ZV26dMl%2BfMWKFQoPD9cdd9yhl19%2BWdaq9lMFAABQCerVq6eIiAjFxsbq1KlTOn78uObMmaPIyEj7XrRPPPGE1q9f73BdSkqKmjdvXuJ%2BV/bEPXz4sAoLC7VkyRIdPXpU/fr1K3NNVSKx/S2vvPKKLl68qM8%2B%2B0znz5/X888/73B8zJgxuu%2B%2B%2B/Thhx/q5MmTioyMVEBAgCIjI3Xo0CFNmzZNCxYsUOfOnbV69WrNmjXrmv4ykErfRqN%2BfePbaACA0/vFgyMwIDDQ8X9x/XbvrrQvXRWztZdeekkzZsxQt27d5Obmpl69emn06NH24%2Bnp6Tpz5ozDNVlZWfL09Cxxr%2Beee05Wq1WPPvqozp8/r4CAAMXHx6tBgwZlrsdis9ls1//tVLyrrbGtVauWvvnmG7Vq1UqzZ89Wt27dJEnr16/X2LFj7Q%2BPFRQUyM3Nzb6XWlRUlLy8vPTyyy9r0aJF9kXJV/Ts2VPBwcHX9PDYm2%2B%2BWSHbaODyHw0JCQmKjIzkDwWYAj%2BTMCN%2BLp1Du3YVc99vvqmY%2B5pRlUhsr7bGNicnRxcuXFCjRo3sY79e07F9%2B3a9%2B%2B67Onr0qC5duqRLly6pd%2B/ekqSMjAyHayXJ39//muurqG00cPmvugULFig8PJz/WMMU%2BJmEGfFzCVxWJRrbqyksLJTkuKXEL9fPHj58WOPHj9ekSZPUv39/ubu7O8TjhYWFJbajKC4uvuY6jGyjAQAAIFXNpQhmU6UfHvPy8lK1atV04sQJ%2B9jhw4ftH6ekpMjd3V2DBg2Su7u7rFarDh48aD/u6%2Burn3/%2B2eGeR44cqfC6AQAAUP6qdGPr5uamu%2B66Sx9%2B%2BKHy8/N14sQJLV%2B%2B3H68YcOGunDhgvbv36/z589r5syZqlmzpjIzMyVJd999t/bv369t27apsLBQH330kf0YAADAH8lqrZjXjaRKNLYxMTEKDg4u8Zo0aZJmzZolm82mzp07a9iwYRo8eLCky0sSWrdurUGDBunxxx9Xjx49FBAQoPHjxyspKUkTJ05UaGioJk%2BerBkzZuiuu%2B5Samqq7r//fhUVFVXuNww7Hx8fRUVFsWYZpsHPJMyIn0vnQGNrnOl3RQAAALgRVNTud5W4g9kfrko/PAYAAOAsbrR0tSJUiaUIAAAAwO8hsQUAADABElvjaGwBAABMgMbWOJYiAAAAwCmQ2AIAAJgAia1xNLYAAAAmQGNrHEsRAAAA4BRIbAEAAEyAxNY4ElsAAAA4BRJbVCnFxcVydXWt7DIAACh3JLbGkdjCdEaOHKmsrKwS40lJSerbt28lVARcdunSJR0/flwnTpxQcXFxZZcDwMlYrRXzupGQ2MJ0atasqZ49e%2Br5559XZGSkzp8/r9dff12JiYkaPnx4ZZeHG1BBQYGmTZumzZs3q6ioSJJUvXp1PfDAA5o6daqqV69eyRXiRjFp0qQynXfp0iXFxcVVcDWA%2BdDYwnRmz56t77//XrNmzdLHH3%2BsjIwMBQQEaO3atWrcuHFll4cbUGxsrI4fP665c%2BfK399fNptNR44c0bvvvqvZs2drypQplV0ibhAXL160f2y1WrV9%2B3Y1atRI/v7%2BKi4u1uHDh5WVlaWePXtWYpW4XjdauloRLDabzVbZRQC/dunSJX3wwQd66623VK1aNb388sv8hxqVpkuXLvrnP/8pb29vh/Gff/5ZAwYM0GeffVY5heGGNnPmTAUGBurhhx92GP/oo4/0n//8R9OnT6%2BkynC9brmlYu575EjF3NeMWGML09m%2Bfbt69uypr776SmvXrtVbb72lN998U0888YQOHTpU2eXhBnTx4kXVqFGjxPhNN92kM2fOVEJFgLRmzRr16dOnxPhDDz2ktWvXVkJFMIo1tsbR2MJ0JkyYoOHDhys%2BPl7%2B/v5q166d1qxZo9atW%2BvBBx%2Bs7PJwAwoLC1NMTIyys7PtY6dOnVJMTIzCwsIqsTLcyOrWrasvvviixPhXX32lOnXqVEJFMIrG1jiWIsB0srOzS/yT7xX/%2Bc9/dOutt/7BFeFGl5GRoWeffVYpKSmqVauWLBaLCgoKFBISotdff52136gUK1as0PTp0xUQEKBGjRrJYrHoxIkTSklJ0eTJk/XYY49Vdom4Ro0aVcx9jx%2BvmPuaEY0tTCkpKUmrV6/WyZMntXDhQlmtVm3evFn33XdfZZeGG9iBAwd07NgxSZKfn58CAgIquSLc6A4dOqStW7cqIyNDhYWF8vX11d13363WrVtXdmm4Dg0bVsx9f/65Yu5rRuyKANNZu3atpk2bpoiICH3%2B%2BeeSpKysLM2aNUsnT57UE088UckV4kZ08OBBBQYGKjAwUCdOnNDmzZt14sQJde3atbJLww2sadOmatq0aYnxSZMmKTY2thIqAioXiS1Mp1evXpo%2BfbruvPNOhYSEKCkpSZKUkpKiqKgobd26tZIrxI1m6dKleu%2B99/Tll18qOztbvXr1sj849uSTT%2Bqpp56q7BJxA7JarUpMTNS%2BfftUWFhoH8/MzNTevXv17bffVmJ1uB4NGlTMfTMyKua%2BZsTDYzCd9PR0%2BwM5FovFPn7rrbfq1KlTlVUWbmB/%2B9vftGTJEknSqlWr1KBBA61fv17Lli1TQkJCJVeHG9WsWbM0b948nT59WmvWrNH58%2Be1Z88enTlzRvPnz6/s8nAdeHjMOBpbmM7/%2B3//T999912J8XXr1qlRRa2sB37D6dOn7Q8tfvbZZ3rggQfk4uKipk2b6vTp05VcHW5UGzdu1IoVK/Tmm2/K1dVVc%2BfO1bp16xQSEqKjR49WdnlApWCNLUxn9OjRevbZZ3XPPffo0qVLiomJUWpqqnbv3q3XX3%2B9ssvDDcjX11fffvutatSood27dysmJkbS5Qd3PD09K7k63KjOnz%2Bvhv992qhatWoqKiqSm5ubxo8fr/vvv1/9%2B/ev5ApxrW60dLUikNjCdO677z6tXLlS3t7e6tKli06ePKmWLVtqzZo17IqASjF8%2BHANHjxYkZGR6t%2B/v5o0aaIzZ85o2LBh7K2MShMQEKA33nhDRUVF8vf318qVKyVJaWlpys/Pr%2BTqgP/f3r3HVF3/cRx/nQQF8ncU0iOEtxVjNAVCxdJVAwZLaZY6wRay5ixZK0LK2CBLa0prmWFSEqtpa9U0TCuz4pKbrkwaNcVDaRfCDRBbwPKCHDjw%2B4Pk5/FwOiA/%2BB45z8fGxvl8vn7P64/j4X0%2B53MxBovHAKAfzpw5o4sXL/auQO/u7tbnn3%2Buu%2B%2B%2BW%2BPGjTM4HbxRdXW1srOz9dlnn%2BngwYPKycnR6NGj1d7errS0NOXl5RkdEQMUGDg0921pGZr7eiIKW3iE9PR0h4VirnR2duqDDz4YhkSAe01NTVqyZIm%2B/fZbo6MAqqur008//aSQkBBFR0cbHQfXYKg%2BI3vTyd/MsYVHuHIz8ba2Nn3yySeKiYnRtGnTZLfb9ccff%2BjEiRNKS0szMCW81W%2B//aZ169bJarWqntwy3wAACclJREFUo6PDoe%2B2224zKBW8UUNDg8s%2BX19fRUVFSZJOnz6tqVOnDlcswGMwYguP8/TTT2vRokWKi4tzaC8vL9f%2B/ftVUFBgTDB4rfT0dIWGhiopKUlZWVl644039PPPP%2Bvw4cMqLCxkARmGTURERL%2B%2B3ZJ69v7G9eU//xma%2B3rTlGsKW3icWbNm6ejRo/L19XVo7%2Bjo0Ny5c/Xjjz8alAzeavbs2fruu%2B/k6%2Bur6OhoHTt2TJJ06NAh7du3T1u2bDE4IbzF77//3vv78ePHVVJSorS0NE2fPl2dnZ2qra3Vrl27tHLlSiUmJhqYFNeCwnbwmIoAj2OxWLR7926naQd79uzRhAkTDEoFbzZmzBidP39egYGBGjt2rJqbmxUUFKS77rpL2dnZRseDF7ny%2BNysrCy9/fbbmnTFcVWRkZGaM2eOVq9eTWF7HWK7r8GjsIXHycnJ0VNPPaXXX39dISEhMplMOnPmjM6dO6fNmzcbHQ9eKCEhQWlpaSopKVFUVJTWrl2r1NRUHTt2jGkIMEx9fb1uvPFGp3az2az6%2BnoDEmGwKGwHj6kI8Ejnzp3T4cOH1dTUJJvNJovFonnz5ik4ONjoaPBCNptNxcXFeuyxx9TQ0KDc3FxZrVYFBwfrueee0/z5842OCC/0yCOPyGaz6eGHH%2B49lbGxsVHvvfeeurq6tHPnTmMDYsD8/Yfmvm1tQ3NfT0RhCwDAdai5uVmbNm1SRUWFLl26JKnnBLI77rhD%2Bfn5DlMUcH0YM2Zo7tvePjT39UQUtvA433//vfLz81VbW6v2Pv43stIXw%2BnIkSNqaWlRcnKyQ3t%2Bfr6Sk5MdtqoDhsOBAwecXo%2Btra2y2WwKCgqSj4%2BPnn32WW3atMmghLhWFLaDx5G68Djr1q1TWFiYNm/erOLiYqcfYLhUVVUpIyNDjY2NTn3%2B/v5atWqVfvnlFwOSwZvl5uY6PJ43b57Gjx8vi8UiH5%2BepTP79%2B83IhoGqatraH6GWnV1tZKSkpSamur22nfffVfx8fGKiopSSkqKrFZrb197e7uef/55zZ07VzExMXryySfV3Nw8oCwsHoPHOXv2rF5%2B%2BWXdcAOfu2Cs4uJiZWRkaNWqVU592dnZ8vX1VWFhobZu3WpAOnirq79ovXDhgttrcH24HhePffrpp9qyZYvCwsL0999//%2Bu1ZWVlKigo0Pbt2xUdHa133nlHGRkZKi0tVUBAgF555RX98MMP2rNnj8aOHavc3Fzl5eWpqKio33moHOBxYmNjdfLkSaNjAKqurtaKFStc9qenp6uqqmoYEwFyOqChrwMb%2BnuIAzBY7e3t2rVrV7%2BOcf7oo4%2B0bNky3XnnnfL399fjjz8uk8mkiooKdXZ2au/evVqzZo2mTJmiwMBA5eTk6ODBg2pqaup3HkZs4XGSkpL0zDPPKC4uTqGhoU4jt8uXLzcoGbxNW1ubxv3L4e1ms1kXL14cxkQARrKhGrE9e/as/vzzT4e2iRMnymKxDPreKSkp/b62pqbGYX64yWRSRESErFarZsyYofPnz2vGjBm9/bfccov8/f1ltVr7vRiSwhYeZ9u2bfLx8dGBAwec%2BkwmE4Uthk1wcHDvG25fqqqqerdZAoDBGqoZJNu27VJhYaFD2xNPPKHMzMyheUIXWlpanPb%2BHjdunJqbm9XS0tL7%2BEpms3lA82wpbOER6urqNG3aNEnSzp07%2BRoNHuG%2B%2B%2B7Thg0b9NZbbykoKMihr76%2BXi%2B88IIWL15sUDp4K7vdrt27d/fOo7368eU24LLly5crISHBoW3ixIn9%2Brf79u1TXl5en335%2BfkDeg909bfd3d/8gdQEFLbwCIsWLdLx48clScnJyX2%2BiLu7u2UymdjuC8Nm9erVqqysVGJiopKTkzV9%2BnTZ7Xb9%2Buuv%2BuqrrzR//nytXLnS6JjwMhaLxWExzdWPL7cBl1kslmt%2BTSxevPj/9gE%2BMDBQra2tDm0tLS0KDw/XTTfdJKln67qAgABJPX/3W1tbe/v6g8IWHuHLL7/s/b2iosLAJMD/jB49Wjt27NDHH3%2BssrIyVVVVycfHR1OnTtXGjRt1//33Gx0RXujrr782OgJwTSIjI3XixIneQtlut6umpkbLli3TlClTNH78eFmtVt18882SpJMnT8pms2nmzJn9fg4KW3iEyy9iScxZhEcZNWqUUlJSBrRAAgDQY8GCBdq4caPmzJmjBx98UFlZWUpMTFRkZKTefPNN%2Bfn5KSEhQaNGjVJqaqoKCgoUERGhgIAAvfTSS1qwYIEmTJjQ7%2BejsAUAN7q7u3Xo0CHV1dX1eRreo48%2BakAqADDevffeq4aGBtntdnV1dSkyMlJSzzexoaGhqq2t7d095p577lFOTo5yc3P1119/aebMmSouLtaYf45cy8zM1IULF7R06VLZ7XbFx8drw4YNA8rDkboA4MaaNWtUXl6uyZMny8/Pz6HPZDJp7969BiUDAFyJwhYA3IiJiVFJSYluvfVWo6MAAP4FJ48BgBuTJ08e0BwvAIAxGLEFADdqampUVFSkpKQkWSwWp9PwYmNjDUoGALgSi8cAwI3S0lKVlZWptLTUqY%2B9lQHAczBiCwBuzJo1S%2BvXr1d8fLzT4jGpZ79bAIDxGLEFADfMZrMWLlxIAQsAHo4RWwBwo7y8XJWVlVqxYoUmTZrkdOQzBS8AeAYKWwBwY/bs2Wpra5Ort0vm2AKAZ2AqAgC4sW3bNvn48HYJAJ6OEVsAAACMCAxBAIAb6enpTvNqL7Pb7Xr//feHOREAoC8UtgDgxu233%2B7wuLu7W42NjTp69Kgeeughg1IBAK7GVAQAuEanTp3S9u3b9dprrxkdBQAg6Qb3lwAA%2BhIeHq6amhqjYwAA/sFUBABwo7a21qmto6ND33zzjWw2mwGJAAB9obAFADcWLlwok8nktI%2Bt2WzW%2BvXrDUoFALgac2wBwI36%2BnqnNj8/PwUFBbncLQEAMPwYsQUAFxISEtwWriaTSeXl5cOUCADwbxixBQAXKisrXfadPn1aW7duVWdnp44cOTKMqQAArlDYAsAA2Gw2FRUVaceOHVq6dKmysrJkNpuNjgUAEFMRAKDfysvLlZ%2Bfr5CQEH344YeKiIgwOhIA4AoUtgDgRl1dnV588UWdOnVKa9eu1QMPPGB0JABAHzigAQBcuHTpkl599VUtWbJE4eHh%2BuKLLyhqAcCDMccWAFyIi4uTzWZTZmamwsLCXF4XGxs7jKkAAK5Q2AKACwkJCW6vMZlMqqioGIY0AAB3KGwBAAAwIjDHFgAAACMChS0AAABGBApbAAAAjAgUtgAAABgRKGwBAAAwIlDYAgAAYESgsAUAAMCI8F%2BNLJk0jwokPwAAAABJRU5ErkJggg%3D%3D\" class=\"center-img\">\n",
       "    <img src=\"data:image/png;base64,iVBORw0KGgoAAAANSUhEUgAAArYAAAHeCAYAAABuTEhGAAAABHNCSVQICAgIfAhkiAAAAAlwSFlzAAAPYQAAD2EBqD%2BnaQAAADh0RVh0U29mdHdhcmUAbWF0cGxvdGxpYiB2ZXJzaW9uMy4xLjEsIGh0dHA6Ly9tYXRwbG90bGliLm9yZy8QZhcZAAAgAElEQVR4nOzde1hVZfrG8RsU8IChIJg/hUwtFAWFSU0tHSlNxkyzktQmzVNOgocyU0s0xajB8pA6ZeVhyiZsGPOQTh6zcsoZ0wRPVIp4SkDcKKIIwv794bCnHZDoYsdi%2B/1cF9fIu9Z6efbbnni8e9faLlar1SoAAACginOt7AIAAACAikBjCwAAAKdAYwsAAACnQGMLAAAAp0BjCwAAAKdAYwsAAACnQGMLAAAAp0BjCwAAAKdAYwsAAACnQGMLAAAAp0BjCwAAgDJ9%2BeWX6tSpk8aPH/%2Br51mtVs2ZM0edO3dWmzZtNGTIEB0/ftx23GKxaPz48QoLC1O7du304osvKi8vr0JrpbEFAABAqd555x3Fxsbqtttuu%2Ba5y5cvV2Jiot59913t2LFDAQEBGj16tKxWqyRpypQpysrK0saNG7Vu3TodOnRI8fHxFVovjS0AAABK5eHhob///e/lamw//vhjDR8%2BXC1btpSnp6deeOEFHTlyRHv27FFWVpa2bdumyZMnq379%2BmrQoIHGjRunf/zjH8rPz6%2BweqtX2EwAAAAwnYyMDGVmZtqN%2Bfr6ys/P75rXPvnkk%2BX6GZcvX9bhw4fVunVr21jt2rUVEBCg/fv3Kzc3V9WrV1dgYKDteFBQkC5evKjU1FS7cSNobAEAAMzAxcUh0ybMn68FCxbYjUVFRSk6OrrCfkZ2drasVqu8vLzsxr28vHT27Fl5eXnJ09NTrq6udsck6ezZsxVWB40tAACAE4uMjFR4eLjdmK%2Bv72/2812u0bBf6/j1oLEFAAAwA1fH3Prk5%2BdXrm0HRtSrV0%2Burq7Kzs62G7dYLPLx8ZGPj49ycnJUWFioatWq2Y5Jko%2BPT4XVwc1jAAAAZuDq6piv34C7u7vuvPNO7d%2B/3zaWnZ2tY8eOKTg4WEFBQSoqKlJKSorteFJSkurUqaMmTZpUWB00tgAAALhu6enp6tmzp%2B1ZtQMGDNC7776rQ4cOKScnR7GxsWrdurVCQkJUr149RUREKC4uTmfOnNHJkyc1Z84cRUZGys3NrcJqYisCAACAGfxG6er1CA4OliRduXJFkrR582ZJUnJysgoKCpSammp7XNfjjz%2BuzMxMDR06VLm5uerQoYPmz59vm%2Bvll1/W9OnT1b17d7m5ual3794aO3ZshdbrYi1%2Bai4AAAAqj4eHY%2Ba9fNkx85oQiS0AAIAZmDCxrWpobAEAAMyAxtYwVhAAAABOgcQWAADADEhsDWMFAQAA4BRIbAEAAMyAxNYwGlsAAAAzoLE1jBUEAACAUyCxBQAAMAMSW8NYQQAAADgFElsAAAAzILE1jMYWAADADGhsDWMFAQAA4BRIbAEAAMyAxNYwGlsADvXdd98pMTFR3333nU6ePKm8vDx5eHjI19dXrVq1Uq9evXTffffJxcWlsksFAFRxLlar1VrZRQBwPlarVbGxsfrggw8kSV5eXrrttttUt25dnTt3TocPH9aFCxckSffdd5/mzZsnNze3yiwZACpXo0aOmffkScfMa0IktgAc4sMPP9QHH3ygGjVqKCYmRr1795a7u7vteF5enj788EPFx8dry5YtWrBggcaPH1%2BJFQNAJWMrgmGsIACH%2BOijjyRJTz31lB555BG7plaSatSooaFDh2rIkCGSpA8%2B%2BEB5eXm/dZkAACdCYwvAIY4ePSpJuvPOO3/1vBEjRmjZsmXatGmTatSoIUkaM2aMAgMD9eabb%2BrChQt69dVXdd999yk4OFgdOnRQVFSUUlJSypzz66%2B/1ujRo9W5c2e1bt1aHTp00JAhQ7R69WoVFRWVek12drbmzp2rvn37KjQ0VK1atVKnTp00atQo7dy5s9RrwsPDFRgYqC%2B%2B%2BEIbNmzQAw88oKCgIG3evFmS9Nprr9leR25urmJjY9WlSxcFBwfr/vvv17x581RYWChJ2rNnj4YNG6Z27dqpTZs26t%2B/v7788ssKq/Xuu%2B9WYGCgdu3apczMTMXExKhr165q3bq1OnbsqPHjxystLa3MNQXwG3B1dczXTeTmerUAfjO1atWSJO3evftXz/P29lbHjh3l7e1tG/Pw8JAkXbx4UUOGDNHf/vY3NWjQQO3atVNBQYE2bdqkxx9/XMnJySXmmzt3roYMGaLNmzfL09NT7du3l7e3t77%2B%2BmtNnDhR48aNszWTxTIyMtSvXz/95S9/0eHDhxUYGKi7775bNWrU0LZt2zR48GAlJiaW%2BRqOHDmi559/Xh4eHrrnnnvk5eVl9zoKCws1dOhQrV27VnfccYduu%2B02HT9%2BXIsWLVJ8fLy%2B%2BeYbPfnkk8rMzFTr1q1Vq1Yt7d27V6NGjdLBgwcrpNbiWrKysvTYY49p48aNat68udq0aaOcnBytX79egwYN0rlz5371nxcAmBl7bAE4xD333KN169bpgw8%2BUM2aNTVs2DDVrVu3XNdWq1ZNkvSPf/xDjRo10tatW%2BXj4yPpalo5bNgw7du3TzNmzNDHH39su27z5s36y1/%2Bojp16uj1119X165dbcf%2B85//aNy4cfrss8/0/vvv27ZASNL8%2BfN18uRJNW7cWB999JF8fX0lSUVFRYqPj9eSJUsUFxennj17qnbt2iXq/eCDD/T0008rOjq61NeRmJioO%2B64Q1u3brVd//bbb%2BuNN95QQkKCNm7cqJkzZ6pv376SpAsXLmjw4MHat2%2BfPvroI7388suGay2uJS4uTh07dtT06dNtze6PP/6ohx9%2BWJmZmfrkk080ePDgcv1zAlDBbrJ01RFYQQAO8dxzz8nX11dWq1WLFy9W586dNWjQIM2bN0//%2Bte/dOnSpWvOkZ2drVmzZtmaWkmqW7euJk%2BeLElKSkpSamqq7djChQslSePGjbNraiWpXbt2mjhxoiRp%2BfLl%2BvkDYZo0aaKHH35YY8eOtTWKkuTq6qoxY8bI1dVVOTk5%2Bu6770qtMz8/X3/605/KfB1nzpxRTEyMXaP5xz/%2BUa6urrp48aL8/f1tTa0keXp66pFHHpGkEomt0VoLCgo0bdo0W1MrSc2bN7etV1JSUpmvA4CDsRXBMBJbAA7xf//3f0pMTNSf//xn/fOf/9SVK1e0a9cu7dq1S5Lk5uamDh066KGHHlKvXr1UvXrJfx01adJELVu2LDEeFham2rVrKzc3V3v37tXtt9%2Bu9PR0HThwQJLUrVu3Umu6//775eLiolOnTiktLU1NmjSRJA0fPrzM11GzZk35%2BPgoMzNTmZmZpZ7TqVOnUusv1rJlS9vPKlarVi15e3vrzJkz6tGjR4lrGjduLOlqc/9zRmuNiIiw7WX%2BuYCAAEmSxWIpc34AMDsaWwAO06BBA73%2B%2BuuaMmWKtmzZoh07dug///mPsrKyVFBQoK%2B%2B%2BkpfffWV3nnnHS1atMjWXBUr68YzV1dXNWrUSN9//71O/vf5jD%2B/mSw2NrbMD3yoXr26CgoKlJqaatds5uXlaevWrdq7d6/OnDmjvLw8W6qbk5MjSWXeeObv7/%2Br69CojGdTFqemDRs2LPPYlStXShxzRK01a9aUdDXRBVBJbrJ01RFobAE4nI%2BPj/r376/%2B/ftLunqz1c6dO7V69Wrt2bNHP/zwg0aOHKm1a9fafUjDLbfcUuacnp6ekqTc3FxJsrvpaevWrdesqbgBlK7%2B5/fo6GidPn36%2Bl7Yf5W277Yij/%2Bc0Vrr1KlzQ9cBQFVAYwvgN9e0aVM1bdpUAwYM0PLly/XKK68oNTVV69evV58%2BfWznFd/wVJrihLI4mXX9b9JRs2bNMveXlubixYt65plnlJmZqYCAAD333HNq166dvLy8bNsLwsPDbclwZapKtQK4ASS2htHYAqhUgwcP1gcffKBjx47pxx9/tDtW/JG7pSlOaosTyOInLly6dEm5ubnlTkG/%2BOILZWZmytXVVYsXL9btt99e5s%2BqbFWpVgA3gMbWMFYQQIXbvHmzYmJitGDBgnKdX9yU/vLTyQ4fPlzq%2BYWFhTpx4oSk/9309PP9uNdzZ/%2BxY8ckXb1Zq7RG8ejRoyVu4KosValWAKgMNLYAKtzevXuVkJCgd955R8ePH//Vc9PT022PtAoJCbE7lpKSYvsEs5/79ttvdfHiRUlXn5AgSb6%2BvmrVqpUk2T3b9udSU1PVp08fvfXWW7ax4n28ly9fLvWaN9980/bnX36ww2%2BtKtUK4AbwuC/Dbq5XC%2BA38dRTT6l%2B/frKy8vToEGDtG3btlIbre%2B%2B%2B07Dhw9XQUGBgoODdc8999gdr1mzpiZNmqSzZ8/axiwWi1599VVJUufOnXXrrbfajo0aNUqS9Omnn2r58uV2c6WlpWnMmDE6dOiQ3XzFjxNLT0%2B3fRSuJNtH4O7bt0%2B/%2B93vJF296a0yVaVaAdwAGlvD2GMLoMJ5e3vrvffe05gxY5SWlqZRo0apbt26CggIkLe3ty5fvqzU1FTbnf1hYWFasGBBiZvFevXqpeTkZIWHhys4OFhubm767rvvlJubq1tuuUUvvvii3fk9evTQyJEjtXjxYr3yyitavny5mjZtKovFooMHD6qwsFDt27fXmDFjbNe0adNG9957r7788ktFR0erTZs2cnNz04EDB%2BTq6qr33ntPGzZs0Lfffqu//vWvOnjwoKKionTXXXc5fiF/oSrVCgCVgcYWgEO0aNFC69at06effqqtW7fq0KFD%2BuGHH5Sfn68aNWqoQYMGeuihhxQREaFu3bqV%2BtxZd3d3rVixQgsXLtSmTZuUnp6u2rVrq0uXLho3blyJDz2Qrn7iWceOHbVixQp99913%2Buabb%2BTl5aW2bduqT58%2Bevjhh0vs5Z0zZ45mz56tLVu2aN%2B%2BffLx8VH37t01atQoNWnSRA0bNtT%2B/fu1d%2B9epaam/urTGhytKtUK4DrdZOmqI7hYf/65kgBgApMmTdKqVas0aNAgxcTEVHY5APDbaNPGMfPu3euYeU2IxBYAAMAMSGwNM/UKnjx5UsHBwUpNTb3ua2fPnq0//vGPDqgKAADAAbh5zDBTJ7aNGjVScnJyZZcBAACAKsDUjS0AAMBN4yZLVx3B1Ct44sQJBQYG6vDhw7r33nv18ccfa8SIEWrbtq169OihnTt32s7dunWrHnjgAYWGhurZZ59VXl6e3VyfffaZIiIi1KZNGz344INas2aNJOnMmTNq3769Pv/8c9u5EyZM0J/%2B9Kff5DUCKOnVV19VSkoKN44BAK5LlUls3dzctHTpUv35z39WixYtNGnSJL3yyitavXq1zp8/r/Hjx2vChAmKjIzUjh079Pzzz9seZn748GFNmjRJixYtUrt27bR7926NHDlSt912m9q0aaPnn39ecXFx6tSpk5KTk/X555/r008/LXdtGRkZyszMtBvz9fWVn59fha4BAABwYiS2hlWZxlaSfv/736t169aSpJ49e2rjxo2SpK%2B%2B%2BkoeHh4aNGiQXF1d1a1bN4WGhtpS25UrVyo8PFwdO3aUJLVv314RERH65JNP1KZNGz322GNau3atlixZoo0bN%2BrZZ59VgwYNyl1XQkKCFixYYDcW9cwzih47tiJeNgAA%2BI1YrVIpj9X%2BbdDYGlalGttGjRrZ/uzu7m77vPTTp0/r1ltvlevP3hC33XabUlJSJEnHjh3T9u3bbY2wJFmtVruP75w5c6Z69%2B6toKAgDRgw4LrqioyMVHh4uN2Yb%2B/e0i8%2B0hM3oEUL6cMPpYEDpUOHKrsagPdkBbN%2Bu7uyS3AaLi5XmzLgZlalGlvXMv4mk5%2BfX%2BJTi37%2BufSurq56/PHHf3W/3unTp1W9enWlp6fr4sWLql27drnr8vPzK7nt4AYeUYZfceiQtGdPZVcB/A/vSQAVjcTWMKdYQT8/P50%2BfVpFRUW2saNHj9r%2BHBAQoO%2B//97umtOnT9ua3/z8fMXExOjll19WYGCg5syZ85vUDQAAYHYnTpzQsGHD1LZtW3Xs2FHx8fF2PVexoUOHKjg42O4rKChIkydPliTNnz9fLVu2tDt%2B1113VWitTtHYduzYURcuXNBHH32k/Px8bd68Wfv27bMdf/TRR7V7926tWrVKBQUFOnjwoB577DHb1oSFCxfKz89PvXv31osvvqjExER99913lfVyAADAzciEH9BgtVoVFRWlevXqafv27VqxYoU2bNigZcuWlTh3yZIlSk5Otn39%2B9//1q233qpevXpJks6fP69HH33U7pxdu3YZqu%2BXnKKxbdiwoeLj47VkyRK1b99ea9as0cCBA1VQUCBJatasmV5//XUtXrxYYWFhGj16tIYOHaqIiAh9//33Wr58uaZNmyZJ8vf31/DhwzV16lTb9QAAAA5nwsY2OTlZKSkpeumll%2BTl5aWmTZtq5MiRSkhIuOa1CxcuVHBwsO2epvPnz8vLy8tQPdfiYrWy1dwhKu2WSicTGirt3i2FhbGfEebAe7JCWYv4FVRRuHms4lTar/CuXR0ybcbHH9/wY0k/%2Bugjvfvuu9q8ebNtLCkpSY899pi%2B/fZbeXp6lnrdiRMn1KdPH61Zs8Z28/%2BoUaOUm5urs2fPKj09XXfccYcmT56skJAQA6/OXpW6eQwAAMBpOejmsVIfSxoVpejo6Gtea7FYSqSsxd9bLJYyG9u33npLffr0sXuila%2Bvrzw8PDRr1ix5e3tr4cKFGjZsmD777DN5e3tf78sqFY0tAACAEyv1saS%2Bvg77eWfPntWaNWu0atUqu/GZM2fafT9hwgStXbtWmzdvVv/%2B/SvkZ9PYAgAAmIGDEttSH0taTj4%2BPsrOzrYbs1gsklRmyrplyxY1bdpUzZo1%2B9W5q1WrpoYNG5bYJmGEU9w8BgAAUOWZ8Oax4OBgnTp1ytbMSlf32DZv3rzMZ/5/9dVXtk97LWa1WvXaa6/p4MGDtrGCggIdP35c/v7%2Bhmr8ORpbAAAAlKply5YKCQlRbGyszp8/r5SUFC1evFiDBg2SJPXs2bPEI7sOHjyo5s2b2425uLjoxIkTmjlzptLT05Wbm6vZs2fL3d1d999/f4XVS2MLAABgBiZMbCVp3rx5ysnJ0b333qunnnpKjz/%2BuAYOHChJSk1N1cWLF%2B3Oz8zMVN26dUvMExsbq4CAAPXt21fdunXTjz/%2BqGXLlqlWrVqGayzGHlsAAACU6dZbb9XixYtLPZaSklJibE8Zj0L08vLSq6%2B%2BWqG1/RKNLQAAgBk46OaxmwmNLQAAgBnQ2BrGCgIAAMApkNgCAACYAYmtYawgAAAAnAKJLQAAgBmQ2BpGYwsAAGAGNLaGsYIAAABwCiS2AAAAZkBiaxgrCAAAAKdAYgsAAGAGJLaG0dgCAACYAY2tYawgAAAAnAKJLQAAgBmQ2BrGCgIAAMApkNgCAACYAYmtYTS2AAAAZkBjaxgrCAAAAKdAYgsAAGAGJLaG0dgCAACYAY2tYawgAAAAnAKJLQAAgBmQ2BrGCgIAAMApkNgCAACYAYmtYTS2AAAAZkBjaxgrCAAAAKdAYgsAAGAGJLaGsYIAAABwCiS2AAAAZkBiaxiNLQAAgBnQ2BrGCgIAAMApkNgCAACYAYmtYawgAAAAnAKJLQAAgBmQ2BpGYwsAAGAGNLaGsYIAAABwCiS2AAAAZkBiaxgrCAAAAKdAYgsAAGAGJLaG0dgCAACYAY2tYawgAAAAnAKJLQAAgBmQ2BrGCgIAAKBMJ06c0LBhw9S2bVt17NhR8fHxKioqKnFeYmKiWrRooeDgYLuvM2fOSJIuX76smJgYtW/fXqGhoRozZozOnj1bobXS2AIAAJiBq6tjvgywWq2KiopSvXr1tH37dq1YsUIbNmzQsmXLSpybk5OjTp06KTk52e6rfv36kqT4%2BHjt3r1biYmJ2rp1q/Lz8zVlyhRD9f0SWxEAAADMwEFbETIyMpSZmWk35uvrKz8/v2tem5ycrJSUFC1btkxeXl7y8vLSyJEjtXTpUg0dOtTu3HPnzsnLy6vUea5cuaJVq1bptddek7%2B/vyRp4sSJioiIUHp6uho0aHCDr84ejS0AAIATS0hI0IIFC%2BzGoqKiFB0dfc1rDxw4oEaNGqlu3bq2saCgIB09elQXLlyQp6enbfz8%2BfNKS0tTv379lJaWpoCAAI0bN05du3bVsWPHdOHCBbVq1cp2ftOmTVWzZk3t37%2BfxhYAAMCpOCixjYyMVHh4uN2Yr69vua61WCwlUtji7y0Wi11jW7duXXl7e2vChAkKCAjQypUrNXr0aK1evVrZ2dl21xa75ZZbKnSfLY0tAACAE/Pz8yvXtgOjfpkADxkyROvWrdOaNWvUpUuXMq9zcXGpsBpobAEAAMzAhI/78vHxsaWtxSwWiyTJ29v7mtc3btxYmZmZ8vHxkSRlZ2erVq1akq7emJadnW07VhHMt4IAAAA3IxM%2BFSE4OFinTp2yNbOSlJSUpObNm6t27dp257799tv617/%2BZTeWmpoqf39/%2Bfv7q27dutq/f7/tWEpKivLz89W6dWtDNf4cjS0AAABK1bJlS4WEhCg2Nlbnz59XSkqKFi9erEGDBkmSevbsqV27dkm6muTOmDFDR48eVX5%2BvpYuXapjx46pX79%2Bqlatmvr376%2B5c%2Bfq%2BPHjysrKUlxcnHr27Gl7HFhFYCsCAACAGZhwK4IkzZs3TzExMbr33ntVu3ZtDRw4UAMHDpR0NZG9ePGiJOnZZ59VUVGRnnjiCV26dEmBgYFatmyZ7YkH0dHRys3NVb9%2B/VRYWKhu3bpp%2BvTpFVqri9VqtVbojLiqAjdC39RCQ6Xdu6WwMGnPnsquBuA9WcGsRfwKqiguLhK/0StGpf0Kj4tzzLyTJztmXhMisQUAADADkya2VQmNLQAAgBnQ2BrGCgIAAMApkNgCAACYAYmtYawgAAAAnAKJLQAAgBmQ2BpGYwsAAGAGNLaGsYIAAABwCiS2AAAAZkBiaxiNLQAAgBnQ2BrGCgIAAMApkNgCAACYAYmtYawgAAAAnAKJLQAAgBmQ2BpGYwsAAGAGNLaGsYIAAABwCiS2AAAAZkBiaxgrCAAAAKdAYgsAAGAGJLaG0dgCAACYAY2tYawgAAAAnAKJLQAAgBmQ2BrGCgIAAMApkNgCAACYAYmtYTS2AAAAZkBjaxgrCAAAAKdAYgsAAGAGJLaGsYIAAABwCiS2AAAAZkBiaxiNLQAAgBnQ2BrGCgIAAMApkNgCAACYAYmtYawgAAAAnAKJLQAAgBmQ2BpGYwsAAGAGNLaGsYIAAABwCiS2AAAAZkBiaxgrCAAAAKdAYgsAAGAGJLaG0dgCAACYAY2tYawgAAAAnAKJLQAAgBmQ2BrGCgIAAKBMJ06c0LBhw9S2bVt17NhR8fHxKioqKvXcDz/8UD169FBoaKh69%2B6tzZs3247Nnz9fLVu2VHBwsO3rrrvuqtBaSWwBAADMwISJrdVqVVRUlJo3b67t27crKytLw4cPl4%2BPj4YOHWp37saNG/XGG2/onXfeUXBwsNauXatx48Zp/fr1CggI0Pnz5/Xoo49q5syZDqvXfCsIAABwM3J1dchXRkaG9u/fb/eVkZFRrpKSk5OVkpKil156SV5eXmratKlGjhyphISEEufm5eXpueeeU2hoqKpXr66HH35Ynp6e2rt3ryTp/Pnz8vLyqtAl%2ByUSWwAAACeWkJCgBQsW2I1FRUUpOjr6mtceOHBAjRo1Ut26dW1jQUFBOnr0qC5cuCBPT0/b%2BEMPPWR37fnz53XhwgU1bNjQ9v1PP/2kXr16KT09XXfccYcmT56skJAQIy/PDo0tAACAGThoK0JkZKTCw8Ptxnx9fct1rcViKZGyFn9vsVjsGtufs1qteumll9S6dWuFhYXZfqaHh4dmzZolb29vLVy4UMOGDdNnn30mb2/v631ZpaKxBQAAcGJ%2Bfn7y8/P7zX5eQUGBJk2apNTUVC1btkyu/23Yf7m3dsKECVq7dq02b96s/v37V8jPprEFAAAwAxPePObj46Ps7Gy7MYvFIkmlpqx5eXl65plnlJ%2BfrxUrVuiWW24pc%2B5q1aqpYcOGyszMrLB6zbeCAAAANyMH3TxmRHBwsE6dOmVrZiUpKSlJzZs3V%2B3ate3OtVqtGj9%2BvNzd3bVkyRK7ptZqteq1117TwYMHbWMFBQU6fvy4/P39DdX4czS2AAAAKFXLli0VEhKi2NhYnT9/XikpKVq8eLEGDRokSerZs6d27dolSVq7dq1SUlI0Z84cubu7283j4uKiEydOaObMmUpPT1dubq5mz54td3d33X///RVWL1sRAAAAzMCEWxEkad68eYqJidG9996r2rVra%2BDAgRo4cKAkKTU1VRcvXpQkJSYm6vTp02rfvr3d9X369FFsbKxiY2MVFxenvn37qrCwUMHBwVq2bJlq1apVYbW6WK1Wa4XNhv9xcansCpxDaKi0e7cUFibt2VPZ1QC8JyuYtYhfQRXFxUXiN3rFqLRf4V9/7Zh5O3Z0zLwmRGILAABgBiZNbKsSGlsAAAAzoLE1jBUEAACAUyCxBQAAMAMSW8NobAEAAMyAxtYwVhAAAABOgcQWAADADEhsDWMFAQAA4BRIbAEAAMyAxNYwGlsAAAAzoLE1jBUEAACAUyCxBQAAMAMSW8NYQQAAADgFElsAAAAzILE1jMYWAADADGhsDWMFAQAA4BRIbAEAAMyAxNYwVhAAAABOgcQWAADADEhsDaOxBQAAMAMaW8NYQQAAADgFElsAAAAzILE1jBUEAACAUyCxBQAAMAMSW8NobAEAAMyAxtYwVhAAAABOgcQWAADADEhsDWMFAQAA4BRIbAEAAMyAxNYwGlsAAAAzoLE1jBUEAACAUyCxBQAAMAMSW8NYQQAAADgFElsAAAAzILE1jMYWAADADGhsDWMFAQAA4BRIbAEAAMyAxNYwVhAAAABOgcQWAADADEhsDaOxBQAAMAMaW8NYQQAAADgFElsAAAAzILE17LpWMDw8XF27dtXFixftxnfu3Knw8PAKLXg6PccAACAASURBVKzY5cuXtWDBAvXs2VNt2rTR3XffrREjRmjXrl0O%2BXkAAAD4nxMnTmjYsGFq27atOnbsqPj4eBUVFZV67vLly9WtWzeFhIToscce0/79%2B23HLl%2B%2BrJiYGLVv316hoaEaM2aMzp49W6G1XvdfDS5fvqxFixZVaBFluXLlikaMGKFt27bpz3/%2Bs/bs2aMNGzaoTZs2euqpp7Rjx47fpA4AAACHc3V1zJcBVqtVUVFRqlevnrZv364VK1Zow4YNWrZsWYlzN23apLlz5youLk47d%2B5U165d9fTTT9sC0fj4eO3evVuJiYnaunWr8vPzNWXKFEP1/dJ1b0WIjo7W7Nmz9cgjj%2Bj222%2B3O3bixAndd999Wr9%2BvZo1ayZJmj17tvbu3av3339fO3bsUHR0tF577TXFxsbq/PnzevLJJ9WjRw9NmjRJJ06cUJcuXfTGG2%2BoWrVqWrVqlZKTk7Vp0ybVr19fklSvXj1FRUXJw8NDFotF0tVme%2BbMmdqyZYvy8vLUqlUrTZ8%2BXc2bN5ck/f3vf9fixYuVkZEhb29vPfnkkxoyZIgk6fTp03r55Ze1e/duubu7q0uXLpo8ebI8PT3LvSYZGRnKzMy0G/O9/Xb51a17vcuLX2rRwv5/gcrGexKAozhoK0KpfYqvr/z8/K55bXJyslJSUrRs2TJ5eXnJy8tLI0eO1NKlSzV06FC7cz/%2B%2BGM9%2BuijuvvuuyVJo0ePVkJCgrZs2aKIiAitWrVKr732mvz9/SVJEydOVEREhNLT09WgQYMKea3X3dg2b95c/fv3V2xsrN57773r%2B2HVq%2BvSpUvauXOnPvvsM/3zn//UpEmTdOTIES1fvlwWi0UPPfSQvvjiC3Xr1k0bN25URESEran9uREjRtj%2B/M4772jXrl1at26d6tSpo6lTp%2Bqll17SRx99pJ9%2B%2BklTp07VkiVL1LFjR33//fd66qmndPfdd6tFixZ65pln1Lx5c23evFl5eXmKjo5WTEyM3njjjXK/roSEBC1YsMBuLGrsWEWPHXtd64Nf8eGHlV0BYI/3ZIVwqewCnIwLC2qY1VrZFVS8UvuUqChFR0df89oDBw6oUaNGqvuzsC4oKEhHjx7VhQsX7ILAAwcO6A9/%2BIPtexcXF7Vo0UL79%2B9Xq1atdOHCBbVq1cp2vGnTpqpZs6b2799feY2tdDW17dmzpzZt2qTu3btf17VFRUUaNGiQatSooW7duslqteq%2B%2B%2B6Tt7e3vL291bhxY6WlpUmSjh8/rnbt2l1zzqefflpDhgyxLW6PHj009r9N5cWLF1VUVKSaNWtKku688059%2BeWXcnV11cGDB7V//3699dZbqlOnjurUqaMRI0Zo7Nixys/Pl7u7e7leU2RkZIk9xr69e0vLl5d7XVCGFi2uNhADB0qHDlV2NQDvyQpm/XZ3ZZfgNFxcnLMpu5lYHfRXvVL7FF/fcl1rsVjk5eVlN1b8vcVisWtsLRaLXQNcfO7Zs2dt/5X9l3PdcsstFbrP9oYaW09PT02YMEFxcXG69957r/v6W2%2B9VZJUo0YNSbLr0mvUqKH8/HxJkpubmwoLC6853%2BnTp/XKK69o7969ysnJkdVqVUFBgSSpWbNmGjBggAYOHKjQ0FD9/ve/18MPP6z69evrxIkTqlWrll0UHxAQoIKCAqWnp9ui8mvx8/MrGeenppbrWpTToUPSnj2VXQXwP7wnAVSwMu7HMqzUPsUBXMr4TwZljZf3%2BPW44c0cffv2VYMGDfT222//6nnWUv766PqLPSS//L6Yv7%2B/fvzxx2vWMnnyZF26dElr1qxRcnKyFi5caHd8%2BvTpWrdunX7/%2B9/r008/1YMPPqgTJ05IKrmYxfVW5CIDAABURT4%2BPsrOzrYbK05fvb297cbr1atX6rne3t7y8fGRJLvjVqtV2dnZtmMVwdAu5WnTpmnZsmU6duyYpP8lsMVpqXQ1Tb1RDzzwgD777DMdP368xLE5c%2BYoNjZWkrRv3z7179/fthf30M/%2B82BRUZGys7PVtGlTjRgxQomJifLy8tLmzZvl7%2B%2Bv3NxcZWRk2M4/duyYPDw8KmyvBwAAQHkUFTnmy4jg4GCdOnXK1sxKUlJSkpo3b67atWuXOHffvn227wsLC3XgwAGFhITI399fdevWtXv8V0pKivLz89W6dWtjRf6Moca2RYsW6tu3r%2BbNmyfpaud%2Byy232B7D9f333%2Bubb7654fkfeughderUSaNGjdKuXbtsTeqCBQv017/%2BVREREZKubm3Yu3evCgsLtX37dn3xxReSpPT0dH366ad6%2BOGHdfjwYUlSWlqasrOz1bhxY7Vo0UIhISF64403dOHCBf30009666231KtXL7m5uRlZGgAAgCqvZcuWCgkJsT3NKiUlRYsXL9agQYMkST179rR9tsDjjz%2BuxMREffPNN8rNzdUbb7yhGjVqKDw8XNWqVVP//v01d%2B5cHT9%2BXFlZWYqLi1PPnj1LfUjAjTL8yWPjxo3Thg0b5O7uLldXV02bNk3x8fFKSEhQy5YtNWDAgBt%2B3qyLi4sWLVqkpUuXavr06Tp58qRq1qypu%2B66S3/729/U4r%2BP25k6daqmTp2qlStXqmvXrnrzzTc1bNgw9enTRxs2bFBqaqqGDRsmi8UiHx8fDRkyRPfff78k6Y033tC0adPUuXNneXl5qXv37powYYLRZQEAALgujtpja9S8efMUExOje%2B%2B9V7Vr19bAgQM1cOBASVJqaqrtObVdunTRxIkTNXnyZGVlZal169ZavHixPDw8JF19%2BEBubq769eunwsJCdevWTdOnT6/QWl2spW2ChXHs0a0YoaHS7t1SWBg36sAceE9WKGsRv4IqCk9FqDiV9Sv80iXHzPvfB0PdFPhQYgAAADgFw1sRAAAAYJxZtyJUJSS2AAAAcAoktgAAACZAYmscjS0AAIAJ0Ngax1YEAAAAOAUSWwAAABMgsTWOxBYAAABOgcQWAADABEhsjaOxBQAAMAEaW%2BPYigAAAACnQGILAABgAiS2xpHYAgAAwCmQ2AIAAJgAia1xNLYAAAAmQGNrHFsRAAAA4BRIbAEAAEyAxNY4ElsAAAA4BRJbAAAAEyCxNY7GFgAAwARobI1jKwIAAACcAoktAACACZDYGkdiCwAAAKdAYgsAAGACJLbG0dgCAACYAI2tcWxFAAAAgFMgsQUAADABElvjSGwBAADgFEhsAQAATIDE1jgaWwAAABOgsTWOrQgAAABwCiS2AAAAJkBiaxyJLQAAAJwCiS0AAIAJkNgaR2MLAABgAjS2xrEVAQAAAE6BxBYAAMAESGyNo7EFAAAwARpb49iKAAAAAKdAYgsAAGACJLbGkdgCAADAKZDYAgAAmACJrXEktgAAACZQVOSYL0eyWCwaP368wsLC1K5dO7344ovKy8sr8/x//vOf6t27t0JDQ9WjRw8lJCTYjiUmJqpFixYKDg62%2Bzpz5ky56yGxBQAAwA2ZMmWKcnNztXHjRhUWFuqZZ55RfHy8pk6dWuLcpKQkTZw4UXPnzlXXrl31zTff6Omnn1azZs101113KScnR506ddKSJUtuuB4aWwAAABNwVLqakZGhzMxMuzFfX1/5%2BfkZmjcrK0vbtm3TqlWrVL9%2BfUnSuHHjNGbMGL3wwgtyd3e3Oz87O1ujRo1SeHi4JKlz584KDAzUrl27dNddd%2BncuXPy8vIyVBONLQAAgBNLSEjQggUL7MaioqIUHR1taN4DBw6oevXqCgwMtI0FBQXp4sWLSk1NtRuXpC5duqhLly62769cuaKMjAw1bNhQknT%2B/HmlpaWpX79%2BSktLU0BAgMaNG6euXbuWuyYaWwAAABNwVGIbGRlpS0mL%2Bfr6Gp7XYrHI09NTrq7/u2WrOHE9e/bsNa%2BfPXu2PDw81L17d0lS3bp15e3trQkTJiggIEArV67U6NGjtXr1ajVr1qxcNdHYAgAAmICjGls/P78b3nbwySefaMqUKaUemzVrVpnXubi4lHnMarVq9uzZWr9%2BvZYvX65atWpJUokEeciQIVq3bp3WrFmj8ePHl6teGlsAAACUqm/fvurbt2%2Bpx3bs2KGcnBwVFhaqWrVqkq6muJLk4%2BNT6jVFRUWaPHmy9u/fr4SEBNs2hLI0bty4xP7gX8PjvgAAAEygqj3uKygoSEVFRUpJSbGNJSUlqU6dOmrSpEmp17zyyis6cuSIVqxYUaKpffvtt/Wvf/3Lbiw1NVX%2B/v7lronGFgAAANetXr16ioiIUFxcnM6cOaOTJ09qzpw5ioyMlJubmyRp8ODBWr9%2BvSTp22%2B/1erVq7Vw4cJSn35gsVg0Y8YMHT16VPn5%2BVq6dKmOHTumfv36lbsmtiIAAACYQFX85LGXX35Z06dPV/fu3eXm5qbevXtr7NixtuPHjx/XuXPnJF39AIYLFy7ovvvus5ujXbt2WrJkiZ599lkVFRXpiSee0KVLlxQYGKhly5apQYMG5a7HxWq1WivmpcHOr2yaxnUIDZV275bCwqQ9eyq7GoD3ZAWzFvErqKK4uEj8Rq8YlfUrfMMGx8wbEeGYec2IrQgAAABwCmxFAAAAMIGquBXBbEhsAQAA4BRIbAEAAEyAxNY4GlsAAAAToLE1jq0IAAAAcAoktgAAACZAYmsciS0AAACcAoktAACACZDYGkdjCwAAYAI0tsaxFQEAAABOgcQWAADABEhsjSOxBQAAgFMgsQUAADABElvjaGwBAABMgMbWOLYiAAAAwCmQ2AIAAJgAia1xJLYAAABwCiS2AAAAJkBiaxyNLQAAgAnQ2BrHVgQAAAA4BRJbAAAAEyCxNY7G1kGsRdbKLsFpuEiyfru7sssAbHhPVhwXV5fKLsE5hIZKu3fL5Xdh0p49lV1N1Wfld3hVRWMLAABgAiS2xtHYAgAAmACNrXHcPAYAAACnQGILAABgAiS2xpHYAgAAwCmQ2AIAAJgAia1xNLYAAAAmQGNrHFsRAAAA4BRIbAEAAEyAxNY4GlsAAAAToLE1jq0IAAAAcAoktgAAACZAYmsciS0AAACcAoktAACACZDYGkdjCwAAYAI0tsaxFQEAAABOgcQWAADABEhsjSOxBQAAgFMgsQUAADABElvjSGwBAABMoKjIMV%2BOZLFYNH78eIWFhaldu3Z68cUXlZeXV%2Bq533zzjQIDAxUcHGz3lZSUJEmyWq2aM2eOOnfurDZt2mjIkCE6fvz4ddVDYwsAAIAbMmXKFGVlZWnjxo1at26dDh06pPj4%2BFLPzcnJUZMmTZScnGz3FRISIklavny5EhMT9e6772rHjh0KCAjQ6NGjZbVay10PWxEAAABMwFHpakZGhjIzM%2B3GfH195efnZ2jerKwsbdu2TatWrVL9%2BvUlSePGjdOYMWP0wgsvyN3d3e78c%2BfOycvLq8z5Pv74Yw0fPlwtW7aUJL3wwgvq0KGD9uzZo7CwsHLVRGILAADgxBISEtSvXz%2B7r4SEBMPzHjhwQNWrV1dgYKBtLCgoSBcvXlRqamqJ88%2BfP69z587piSee0O9%2B9zv16tVLn3zyiSTp8uXLOnz4sFq3bm07v3bt2goICND%2B/fvLXROJLQAAgAk4KrGNjIxUeHi43Zivr6/heS0Wizw9PeXq%2Br%2BctDiRPXv2bInza9WqJT8/P40dO1atW7fWli1b9Pzzz8vPz0/NmjWT1Wotkeh6eXmVOldZaGwBAABMwFGNrZ%2Bf3w1vO/jkk080ZcqUUo/NmjWrzOtcXFxKjD3%2B%2BON6/PHHbd/36tVLGzduVGJioiZOnHhdc5WFxhYAAACl6tu3r/r27VvqsR07dignJ0eFhYWqVq2apKspriT5%2BPiUa/7GjRtr3759qlevnlxdXZWdnW133GKxlHsuiT22AAAAplDVHvcVFBSkoqIipaSk2MaSkpJUp04dNWnSpMT5K1eu1Pr16%2B3Gjhw5In9/f7m7u%2BvOO%2B%2B020%2BbnZ2tY8eOKTg4uNw10dgCAADgutWrV08RERGKi4vTmTNndPLkSc2ZM0eRkZFyc3OTJA0ePNjWzF6%2BfFmxsbHat2%2BfCgoK9Omnn%2BrLL7/UgAEDJEkDBgzQu%2B%2B%2Bq0OHDiknJ0exsbFq3bq17XFg5cFWBAAAABOoip889vLLL2v69Onq3r273Nzc1Lt3b40dO9Z2/Pjx4zp37pwk6YknnlBOTo7GjBkji8Wi22%2B/XQsXLlSrVq0kXd2Dm5mZqaFDhyo3N1cdOnTQ/Pnzr6seF%2Bv1PPUW5caqVhwXF9YT5sJ7suK4uJb/phD8itBQafduKSxM2rOnsqup%2Birp/%2BAvvOCYeV97zTHzmhFbEQAAAOAU2IoAAABgAlVxK4LZkNgCAADAKZDYAgAAmACJrXE0tgAAACZAY2scWxEAAADgFEhsAQAATIDE1jgSWwAAADgFElsAAAATILE1jsYWAADABGhsjWMrAgAAAJwCiS0AAIAJkNgaR2ILAAAAp0BiCwAAYAIktsbR2AIAAJgAja1xbEUAAACAUyCxBQAAMAESW%2BNIbAEAAOAUSGwBAABMgMTWOBpbAAAAE6CxNY6tCAAAAHAKJLYAAAAmQGJrHI0tAACACdDYGsdWBAAAADgFElsAAAATILE1jsQWAAAAToHEFgAAwARIbI2jsQUAADABGlvj2IoAAAAAp0BiCwAAYAIktsaR2AIAAMApkNgCAACYAImtcTS2AAAAJkBjaxxbEQAAAOAUSGwBAABMgMTWOBJbAAAAOAUSWwAAABMgsTWOxhYAAMAEaGyNYysCAAAAnAKJLQAAgAmQ2BpHYgsAAACnQGILAABgAiS2xtHYAgAAmEBVbGwtFotmzJih7du3q1q1aurRo4emTp2qGjVqlDj3pZde0urVq%2B3GioqKFBYWpvfff1%2BJiYl68cUX5ebmZnfOtm3bVL9%2B/XLVQ2MLAACAGzJlyhTl5uZq48aNKiws1DPPPKP4%2BHhNnTq1xLmxsbGKjY21fV9UVKQBAwaod%2B/ekqScnBx16tRJS5YsueF6aGwBAABMwFGJbUZGhjIzM%2B3GfH195efnZ2jerKwsbdu2TatWrbIlquPGjdOYMWP0wgsvyN3d/VevT0hIkNVq1WOPPSZJOnfunLy8vAzVRGMLAADgxBISErRgwQK7saioKEVHRxua98CBA6pevboCAwNtY0FBQbp48aJSU1Ptxn/pwoULmj9/vhYtWiQXFxdJ0vnz55WWlqZ%2B/fopLS1NAQEBGjdunLp27VrummhsAQAATMBRiW1kZKTCw8Ptxnx9fQ3Pa7FY5OnpKVfX/z1kqzhxPXv27K9e%2B/777yskJEShoaG2sbp168rb21sTJkxQQECAVq5cqdGjR2v16tVq1qxZuWpyusb28OHD%2BsMf/qAtW7aocePG1339%2BPHj5eHhoVdffdUB1QEAAJTOUY2tn5/fDW87%2BOSTTzRlypRSj82aNavM64pT2NIUFBRoxYoViouLsxv/ZYI8ZMgQrVu3TmvWrNH48ePLVa/pG9vw8HClp6fb/W2gWFxcnB588MFKqAoAAMD59e3bV3379i312I4dO5STk6PCwkJVq1ZN0tUUV5J8fHzKnHPXrl0qKChQ586dr/nzGzduXGJ/8K8xfWMrXX08xIABAyq7DAAAAIepao/7CgoKUlFRkVJSUhQUFCRJSkpKUp06ddSkSZMyr/vyyy/VoUOHEqHl22%2B/reDgYHXq1Mk2lpqaqp49e5a7pir/yWNZWVkaPny4QkND9eCDDyopKcnueHJysgYMGKCwsDB17txZM2bM0JUrV2zHV65cqfDwcP3ud7/TjBkzVFTV3lUAAACVoF69eoqIiFBcXJzOnDmjkydPas6cOYqMjLQ9i3bw4MFav3693XUHDx5U8%2BbNS8xX/Ezco0ePKj8/X0uXLtWxY8fUr1%2B/ctdUJRLbX/PKK6/o8uXL%2Bvzzz3Xp0iU999xzdsfHjRunBx54QO%2B//75Onz6tyMhIBQYGKjIyUkeOHFFMTIwWLFigLl26aPXq1Zo1a9Z1/c1AKv0xGvXrG3%2BMBgA4vZ/dOAIDWrSw/1/cuD17Ku1HV8Vs7eWXX9b06dPVvXt3ubm5qXfv3ho7dqzt%2BPHjx3Xu3Dm7azIzM1W3bt0Scz377LMqKirSE088oUuXLikwMFDLli1TgwYNyl2Pi9Vqtd74y3G8svbY1qpVSzt37lSbNm00e/Zsde/eXZK0fv16jR8/3nbzWG5urtzc3GzPUouKipK3t7dmzJihxYsX2zYlF%2BvVq5eCg4Ov6%2BaxN9980yGP0cDVvzQkJCQoMjKSvyjAFHhPwox4XzqHDh0cM%2B/OnY6Z14yqRGJb1h5bi8WivLw8NWrUyDb2yz0d27dv19tvv61jx47pypUrunLlivr06SNJSk9Pt7tWkgICAq67Pkc9RgNX/1a3YMEChYeH8y9rmALvSZgR70vgqirR2JYlPz9fkv0jJX6%2Bf/bo0aN6/vnnNXnyZPXv31/u7u528Xh%2Bfn6Jx1EUFhZedx1GHqMBAAAgVc2tCGZTpW8e8/b2VvXq1XXq1Cnb2NGjR21/PnjwoNzd3TVo0CC5u7urqKhI33//ve24n5%2BffvrpJ7s509LSHF43AAAAKl6Vbmzd3Nx099136/3331dOTo5OnTqljz76yHa8YcOGysvL04EDB3Tp0iXNnDlTNWvWVEZGhiTpnnvu0YEDB7Rt2zbl5%2Bfrww8/tB0DAAD4LRUVOebrZlIlGtvY2FgFBweX%2BJo8ebJmzZolq9WqLl26aPjw4RoyZIikq1sS2rZtq0GDBunJJ59Uz549FRgYqOeff15JSUmaNGmSQkNDNWXKFE2fPl133323UlJS9Ic//EEFBQWV%2B4Jh4%2Bvrq6ioKPYswzR4T8KMeF86Bxpb40z/VAQAAICbgaOefleJTzD7zVXpm8cAAACcxc2WrjpCldiKAAAAAFwLiS0AAIAJkNgaR2MLAABgAjS2xrEVAQAAAE6BxBYAAMAESGyNo7EFAAAwARpb49iKAAAAAKdAYgsAAGACJLbGkdgCAADAKZDYokopLCxUtWrVKrsMAAAqHImtcSS2MJ3Ro0crMzOzxHhSUpIefvjhSqgIuOrKlSs6efKkTp06pcLCwsouB4CTKSpyzNfNhMQWplOzZk316tVLzz33nCIjI3Xp0iW9/vrrSkxM1IgRIyq7PNyEcnNzFRMTo02bNqmgoECS5OHhoQcffFBTp06Vh4dHJVeIm8XkyZPLdd6VK1cUHx/v4GoA86GxhenMnj1b3377rWbNmqVPPvlE6enpCgwM1Nq1a9W4cePKLg83obi4OJ08eVJz585VQECArFar0tLS9Pbbb2v27Nl68cUXK7tE3CQuX75s%2B3NRUZG2b9%2BuRo0aKSAgQIWFhTp69KgyMzPVq1evSqwSN%2BpmS1cdwcVqtVoruwjgl65cuaL33ntPixYtUvXq1TVjxgz%2BRY1K07VrV/3jH/%2BQj4%2BP3fhPP/2kAQMG6PPPP6%2BcwnBTmzlzplq0aKHHHnvMbvzDDz/UDz/8oGnTplVSZbhRt93mmHnT0hwzrxmxxxams337dvXq1Utff/211q5dq0WLFunNN9/U4MGDdeTIkcouDzehy5cvq0aNGiXGb7nlFp07d64SKgKkNWvWqG/fviXGH330Ua1du7YSKoJR7LE1jsYWpjNx4kSNGDFCy5YtU0BAgDp06KA1a9aobdu2euSRRyq7PNyEwsLCFBsbq6ysLNvYmTNnFBsbq7CwsEqsDDezOnXq6Msvvywx/vXXX8vT07MSKoJRNLbGsRUBppOVlVXiP/kW%2B%2BGHH3THHXf8xhXhZpeenq4//elPOnjwoGrVqiUXFxfl5uYqJCREr7/%2BOnu/USlWrlypadOmKTAwUI0aNZKLi4tOnTqlgwcPasqUKfrjH/9Y2SXiOjVq5Jh5T550zLxmRGMLU0pKStLq1at1%2BvRpLVy4UEVFRdq0aZMeeOCByi4NN7FDhw7pxIkTkiR/f38FBgZWckW42R05ckRbtmxRenq68vPz5efnp3vuuUdt27at7NJwAxo2dMy8P/3kmHnNiKciwHTWrl2rmJgYRURE6IsvvpAkZWZmatasWTp9%2BrQGDx5cyRXiZvT999%2BrRYsWatGihU6dOqVNmzbp1KlT6tatW2WXhptY06ZN1bRp0xLjkydPVlxcXCVUBFQuEluYTu/evTVt2jTdddddCgkJUVJSkiTp4MGDioqK0pYtWyq5Qtxsli9frnfeeUdfffWVsrKy1Lt3b9uNY0899ZRGjhxZ2SXiJlRUVKTExETt27dP%2Bfn5tvGMjAwlJyfr3//%2BdyVWhxvRoIFj5k1Pd8y8ZsTNYzCd48eP227IcXFxsY3fcccdOnPmTGWVhZvYX//6Vy1dulSStGrVKjVo0EDr16/XihUrlJCQUMnV4WY1a9YszZs3T2fPntWaNWt06dIl7d27V%2BfOndP8%2BfMruzzcAG4eM47GFqbzf//3f/rPf/5TYnzdunVq5Kid9cCvOHv2rO2mxc8//1wPPvigXF1d1bRpU509e7aSq8PN6rPPPtPKlSv15ptvqlq1apo7d%2B7/t3f/MVHXfxzAn5%2B8UyC/xw/1hFBkxYgmP0LF0vUDLph6zVInRwtZOX8wV3RSygZZWsNrLSUMSmI1ba0agmlGVnDkpiuTRkzxKOzHBRu/bHEU6sn9gO8fJF/O4zyQ793nI/d8bGzc%2B/3xc88/zuN173v/QHV1NeLj49HW1iZ2PCJRcI4tSY5Wq8WWLVvwyCOPwGazobCwEC0tLWhsbMTevXvFjkc%2BSKlUor6%2BHn5%2BfmhsbERhYSGAoYU7QUFBIqcjX2U2mxH272ojmUwGq9UKuVyO7du3Q61WQ6PRiJyQxsvXRlc9gSO2JDnLli1DZWUlZsyYgYcffhhdXV2IjY3FsWPHuCsCiWLTpk14%2BumnkZGRAY1Gg8jISPz999/YuHEj91Ym0dx9990oKiqCaYSkDQAACrBJREFU1WpFREQEKisrAQBGoxF9fX0ipyMSBxePERGNQVdXF65cuTK8An1wcBBffPEFHnzwQQQGBoqcjnxRU1MTcnNz8fnnn%2BPEiRPIy8vD1KlT0d/fj8zMTBQUFIgdkcYpONgz9zWZPHNfKWJhS5KQlZXlsFDMFZvNho8//tgLiYjc6%2B7uxurVq/Hdd9%2BJHYUIra2t%2BOmnnxAWFoaEhASx49BN8NRnZF86%2BZtzbEkSRm4mbjab8dlnnyExMRHz5s2D3W7HH3/8gfPnzyMzM1PElOSrfvvtN%2BzYsQMGgwFWq9Wh75577hEpFfmijo4Ol31yuRzx8fEAgLa2NkRERHgrFpFkcMSWJOeFF17AypUrkZyc7NCu1%2BtRXV2N4uJicYKRz8rKykJ4eDjS0tKg1Wrx9ttv4%2Beff8apU6dQWlrKBWTkNTExMWP6dgsY2vubbi3/%2BY9n7utLU65Z2JLkLFiwAGfOnIFcLndot1qtWLx4MRobG0VKRr5q4cKF%2BP777yGXy5GQkICzZ88CAE6ePImjR4%2BiqKhI5ITkK37//ffh38%2BdO4eqqipkZmYiMjISNpsNRqMRFRUVWL9%2BPVJTU0VMSjeDhe3EcSoCSY5SqcShQ4ecph0cPnwYM2fOFCkV%2BbJp06bh0qVLCA4OxvTp09HT04OQkBA88MADyM3NFTse%2BZCRx%2BdqtVq89957mD3iuKq4uDgsWrQImzdvZmF7C%2BJ2XxPHwpYkJy8vD88//zzeeusthIWFQRAEdHV1oa%2BvD3v27BE7HvkglUqFzMxMVFVVIT4%2BHtu2bYNGo8HZs2c5DYFE097ejttvv92pXaFQoL29XYRENFEsbCeOUxFIkvr6%2BnDq1Cl0d3fDYrFAqVRiyZIlCA0NFTsa%2BSCLxYLy8nJs2bIFHR0dyM/Ph8FgQGhoKF566SUsXbpU7IjkgzZu3AiLxYKnnnpq%2BFTGzs5OfPjhhxgYGMDBgwfFDUjj5u/vmfuazZ65rxSxsCUiIroF9fT0YPfu3airq8PVq1cBDJ1Adt9990Gn0zlMUaBbw7Rpnrlvf79n7itFLGxJcn744QfodDoYjUb0j/K/kSt9yZtOnz4Nk8kEtVrt0K7T6aBWqx22qiPyhuPHjzu9Hnt7e2GxWBASEgKZTIYXX3wRu3fvFikh3SwWthPHI3VJcnbs2IGoqCjs2bMH5eXlTj9E3tLQ0IDs7Gx0dnY69fn7%2B2PDhg345ZdfREhGviw/P9/h8ZIlSxAUFASlUgmZbGjpTHV1tRjRaIIGBjzz42lNTU1IS0uDRqNxe%2B0HH3yAlJQUxMfHIz09HQaDYbivv78fL7/8MhYvXozExEQ899xz6OnpGVcWLh4jybl48SJef/113HYbP3eRuMrLy5GdnY0NGzY49eXm5kIul6O0tBT79u0TIR35quu/aL18%2BbLba%2BjWcCsuHjt27BiKiooQFRWFf/7554bX1tbWori4GPv370dCQgLef/99ZGdno6amBgEBAXjjjTfw448/4vDhw5g%2BfTry8/NRUFCAsrKyMedh5UCSk5SUhJaWFrFjEKGpqQnr1q1z2Z%2BVlYWGhgYvJiKC0wENox3YMNZDHIgmqr%2B/HxUVFWM6xrmyshJr167F/fffD39/fzzzzDMQBAF1dXWw2Ww4cuQItm7dirlz5yI4OBh5eXk4ceIEuru7x5yHI7YkOWlpadi%2BfTuSk5MRHh7uNHKbkZEhUjLyNWazGYE3OLxdoVDgypUrXkxERJOZp0ZsL168iD///NOhbdasWVAqlRO%2Bd3p6%2BpivbW5udpgfLggCYmJiYDAYMH/%2BfFy6dAnz588f7r/zzjvh7%2B8Pg8Ew5sWQLGxJckpKSiCTyXD8%2BHGnPkEQWNiS14SGhg6/4Y6moaFheJslIqKJ8tQMkpKSCpSWljq0Pfvss8jJyfHME7pgMpmc9v4ODAxET08PTCbT8OORFArFuObZsrAlSWhtbcW8efMAAAcPHuTXaCQJjz76KHbt2oV3330XISEhDn3t7e145ZVXsGrVKpHSka%2By2%2B04dOjQ8Dza6x9fayO6JiMjAyqVyqFt1qxZY/q3R48eRUFBwah9Op1uXO%2BBrv62u/ubP56agIUtScLKlStx7tw5AIBarR71RTw4OAhBELjdF3nN5s2bUV9fj9TUVKjVakRGRsJut%2BPXX3/F119/jaVLl2L9%2BvVixyQfo1QqHRbTXP/4WhvRNUql8qZfE6tWrfq/fYAPDg5Gb2%2BvQ5vJZEJ0dDRmzJgBYGjruoCAAABDf/d7e3uH%2B8aChS1JwldffTX8e11dnYhJiP5n6tSpOHDgAD799FPU1taioaEBMpkMERERKCwsxGOPPSZ2RPJB33zzjdgRiG5KXFwczp8/P1wo2%2B12NDc3Y%2B3atZg7dy6CgoJgMBhwxx13AABaWlpgsVgQGxs75udgYUuScO1FDIBzFklSpkyZgvT09HEtkCAioiHLly9HYWEhFi1ahCeeeAJarRapqamIi4vDO%2B%2B8Az8/P6hUKkyZMgUajQbFxcWIiYlBQEAAXnvtNSxfvhwzZ84c8/OxsCUicmNwcBAnT55Ea2vrqKfhbdq0SYRURETiW7ZsGTo6OmC32zEwMIC4uDgAQ9/EhoeHw2g0Du8e89BDDyEvLw/5%2Bfn466%2B/EBsbi/Lyckz798i1nJwcXL58GWvWrIHdbkdKSgp27do1rjw8UpeIyI2tW7dCr9djzpw58PPzc%2BgTBAFHjhwRKRkREY3EwpaIyI3ExERUVVXhrrvuEjsKERHdAE8eIyJyY86cOeOa40VEROLgiC0RkRvNzc0oKytDWloalEql02l4SUlJIiUjIqKRuHiMiMiNmpoa1NbWoqamxqmPeysTEUkHR2yJiNxYsGABdu7ciZSUFKfFY8DQfrdERCQ%2BjtgSEbmhUCiwYsUKFrBERBLHEVsiIjf0ej3q6%2Buxbt06zJ492%2BnIZxa8RETSwMKWiMiNhQsXwmw2w9XbJefYEhFJA6ciEBG5UVJSApmMb5dERFLHEVsiIiIimhQ4BEFE5EZWVpbTvNpr7HY7PvroIy8nIiKi0bCwJSJy495773V4PDg4iM7OTpw5cwZPPvmkSKmIiOh6nIpARHSTLly4gP379%2BPNN98UOwoREQG4zf0lREQ0mujoaDQ3N4sdg4iI/sWpCEREbhiNRqc2q9WKb7/9FhaLRYREREQ0Gha2RERurFixAoIgOO1jq1AosHPnTpFSERHR9TjHlojIjfb2dqc2Pz8/hISEuNwtgYiIvI8jtkRELqhUKreFqyAI0Ov1XkpEREQ3whFbIiIX6uvrXfa1tbVh3759sNlsOH36tBdTERGRKyxsiYjGwWKxoKysDAcOHMCaNWug1WqhUCjEjkVEROBUBCKiMdPr9dDpdAgLC8Mnn3yCmJgYsSMREdEILGyJiNxobW3Fq6%2B%2BigsXLmDbtm14/PHHxY5ERESj4AENREQuXL16FXv37sXq1asRHR2NL7/8kkUtEZGEcY4tEZELycnJsFgsyMnJQVRUlMvrkpKSvJiKiIhcYWFLROSCSqVye40gCKirq/NCGiIicoeFLRERERFNCpxjS0RERESTAgtbIiIiIpoUWNgSERER0aTAwpaIiIiIJgUWtkREREQ0KbCwJSIiIqJJgYUtEREREU0K/wUk1ZJNxEXwWAAAAABJRU5ErkJggg%3D%3D\" class=\"center-img\">\n",
       "</div>\n",
       "    <div class=\"row headerrow highlight\">\n",
       "        <h1>Sample</h1>\n",
       "    </div>\n",
       "    <div class=\"row variablerow\">\n",
       "    <div class=\"col-md-12\" style=\"overflow:scroll; width: 100%%; overflow-y: hidden;\">\n",
       "        <table border=\"1\" class=\"dataframe sample\">\n",
       "  <thead>\n",
       "    <tr style=\"text-align: right;\">\n",
       "      <th></th>\n",
       "      <th>index</th>\n",
       "      <th>NumCaso</th>\n",
       "      <th>Estado</th>\n",
       "      <th>Sexo</th>\n",
       "      <th>Edad</th>\n",
       "      <th>Fecha_de_Inicio_de_Síntomas</th>\n",
       "      <th>IdentificacionRT-PCR_COVID19(tiemporeal)</th>\n",
       "      <th>Procedencia</th>\n",
       "      <th>Llegada_México</th>\n",
       "    </tr>\n",
       "  </thead>\n",
       "  <tbody>\n",
       "    <tr>\n",
       "      <th>0</th>\n",
       "      <td>313</td>\n",
       "      <td>314</td>\n",
       "      <td>MÉXICO</td>\n",
       "      <td>M</td>\n",
       "      <td>44</td>\n",
       "      <td>2020-02-19</td>\n",
       "      <td>confirmado</td>\n",
       "      <td>Italia</td>\n",
       "      <td>22/02/2020</td>\n",
       "    </tr>\n",
       "    <tr>\n",
       "      <th>1</th>\n",
       "      <td>5</td>\n",
       "      <td>6</td>\n",
       "      <td>MÉXICO</td>\n",
       "      <td>M</td>\n",
       "      <td>71</td>\n",
       "      <td>2020-02-21</td>\n",
       "      <td>confirmado</td>\n",
       "      <td>Italia</td>\n",
       "      <td>21/02/2020</td>\n",
       "    </tr>\n",
       "    <tr>\n",
       "      <th>2</th>\n",
       "      <td>0</td>\n",
       "      <td>1</td>\n",
       "      <td>CDMX</td>\n",
       "      <td>M</td>\n",
       "      <td>35</td>\n",
       "      <td>2020-02-22</td>\n",
       "      <td>confirmado</td>\n",
       "      <td>Italia</td>\n",
       "      <td>22/02/2020</td>\n",
       "    </tr>\n",
       "    <tr>\n",
       "      <th>3</th>\n",
       "      <td>1</td>\n",
       "      <td>2</td>\n",
       "      <td>SINALOA</td>\n",
       "      <td>M</td>\n",
       "      <td>41</td>\n",
       "      <td>2020-02-22</td>\n",
       "      <td>confirmado</td>\n",
       "      <td>Italia</td>\n",
       "      <td>21/02/2020</td>\n",
       "    </tr>\n",
       "    <tr>\n",
       "      <th>4</th>\n",
       "      <td>2</td>\n",
       "      <td>3</td>\n",
       "      <td>CDMX</td>\n",
       "      <td>M</td>\n",
       "      <td>59</td>\n",
       "      <td>2020-02-23</td>\n",
       "      <td>confirmado</td>\n",
       "      <td>Italia</td>\n",
       "      <td>22/02/2020</td>\n",
       "    </tr>\n",
       "  </tbody>\n",
       "</table>\n",
       "    </div>\n",
       "</div>\n",
       "</div>"
      ],
      "text/plain": [
       "<pandas_profiling.ProfileReport at 0x7f82b51bb150>"
      ]
     },
     "execution_count": 12,
     "metadata": {},
     "output_type": "execute_result"
    }
   ],
   "source": [
    "pandas_profiling.ProfileReport(df)"
   ]
  },
  {
   "cell_type": "code",
   "execution_count": 13,
   "metadata": {},
   "outputs": [],
   "source": [
    "AnalisisEstadisticoPromedioXGenero=df.groupby('Sexo').mean()"
   ]
  },
  {
   "cell_type": "code",
   "execution_count": 14,
   "metadata": {},
   "outputs": [
    {
     "data": {
      "text/html": [
       "<div>\n",
       "<style scoped>\n",
       "    .dataframe tbody tr th:only-of-type {\n",
       "        vertical-align: middle;\n",
       "    }\n",
       "\n",
       "    .dataframe tbody tr th {\n",
       "        vertical-align: top;\n",
       "    }\n",
       "\n",
       "    .dataframe thead th {\n",
       "        text-align: right;\n",
       "    }\n",
       "</style>\n",
       "<table border=\"1\" class=\"dataframe\">\n",
       "  <thead>\n",
       "    <tr style=\"text-align: right;\">\n",
       "      <th></th>\n",
       "      <th>index</th>\n",
       "      <th>NumCaso</th>\n",
       "      <th>Edad</th>\n",
       "    </tr>\n",
       "    <tr>\n",
       "      <th>Sexo</th>\n",
       "      <th></th>\n",
       "      <th></th>\n",
       "      <th></th>\n",
       "    </tr>\n",
       "  </thead>\n",
       "  <tbody>\n",
       "    <tr>\n",
       "      <td>F</td>\n",
       "      <td>446.986150</td>\n",
       "      <td>447.986150</td>\n",
       "      <td>41.958449</td>\n",
       "    </tr>\n",
       "    <tr>\n",
       "      <td>M</td>\n",
       "      <td>406.090349</td>\n",
       "      <td>407.090349</td>\n",
       "      <td>42.802875</td>\n",
       "    </tr>\n",
       "  </tbody>\n",
       "</table>\n",
       "</div>"
      ],
      "text/plain": [
       "           index     NumCaso       Edad\n",
       "Sexo                                   \n",
       "F     446.986150  447.986150  41.958449\n",
       "M     406.090349  407.090349  42.802875"
      ]
     },
     "execution_count": 14,
     "metadata": {},
     "output_type": "execute_result"
    }
   ],
   "source": [
    "AnalisisEstadisticoPromedioXGenero"
   ]
  },
  {
   "cell_type": "code",
   "execution_count": 15,
   "metadata": {},
   "outputs": [],
   "source": [
    "ColoresComponentesTabla=[[0,'#4d004c'],[.5,'#f2e5ff'],[1,'#ffffff']]"
   ]
  },
  {
   "cell_type": "code",
   "execution_count": 16,
   "metadata": {},
   "outputs": [],
   "source": [
    "ColoresLetra=['#000000']"
   ]
  },
  {
   "cell_type": "code",
   "execution_count": 17,
   "metadata": {},
   "outputs": [
    {
     "data": {
      "application/vnd.plotly.v1+json": {
       "config": {
        "linkText": "Export to plot.ly",
        "plotlyServerURL": "https://plot.ly",
        "showLink": false
       },
       "data": [
        {
         "colorscale": [
          [
           0,
           "#4d004c"
          ],
          [
           0.5,
           "#f2e5ff"
          ],
          [
           1,
           "#ffffff"
          ]
         ],
         "hoverinfo": "none",
         "opacity": 0.75,
         "showscale": false,
         "type": "heatmap",
         "z": [
          [
           0,
           0,
           0,
           0
          ],
          [
           0,
           0.5,
           0.5,
           0.5
          ],
          [
           0,
           1,
           1,
           1
          ]
         ]
        }
       ],
       "layout": {
        "annotations": [
         {
          "align": "left",
          "font": {
           "color": "#000000"
          },
          "showarrow": false,
          "text": "<b></b>",
          "x": -0.45,
          "xanchor": "left",
          "xref": "x",
          "y": 0,
          "yref": "y"
         },
         {
          "align": "left",
          "font": {
           "color": "#000000"
          },
          "showarrow": false,
          "text": "<b>index</b>",
          "x": 0.55,
          "xanchor": "left",
          "xref": "x",
          "y": 0,
          "yref": "y"
         },
         {
          "align": "left",
          "font": {
           "color": "#000000"
          },
          "showarrow": false,
          "text": "<b>NumCaso</b>",
          "x": 1.55,
          "xanchor": "left",
          "xref": "x",
          "y": 0,
          "yref": "y"
         },
         {
          "align": "left",
          "font": {
           "color": "#000000"
          },
          "showarrow": false,
          "text": "<b>Edad</b>",
          "x": 2.55,
          "xanchor": "left",
          "xref": "x",
          "y": 0,
          "yref": "y"
         },
         {
          "align": "left",
          "font": {
           "color": "#000000"
          },
          "showarrow": false,
          "text": "<b>F</b>",
          "x": -0.45,
          "xanchor": "left",
          "xref": "x",
          "y": 1,
          "yref": "y"
         },
         {
          "align": "left",
          "font": {
           "color": "#000000"
          },
          "showarrow": false,
          "text": "446.9861495844875",
          "x": 0.55,
          "xanchor": "left",
          "xref": "x",
          "y": 1,
          "yref": "y"
         },
         {
          "align": "left",
          "font": {
           "color": "#000000"
          },
          "showarrow": false,
          "text": "447.9861495844875",
          "x": 1.55,
          "xanchor": "left",
          "xref": "x",
          "y": 1,
          "yref": "y"
         },
         {
          "align": "left",
          "font": {
           "color": "#000000"
          },
          "showarrow": false,
          "text": "41.958448753462605",
          "x": 2.55,
          "xanchor": "left",
          "xref": "x",
          "y": 1,
          "yref": "y"
         },
         {
          "align": "left",
          "font": {
           "color": "#000000"
          },
          "showarrow": false,
          "text": "<b>M</b>",
          "x": -0.45,
          "xanchor": "left",
          "xref": "x",
          "y": 2,
          "yref": "y"
         },
         {
          "align": "left",
          "font": {
           "color": "#000000"
          },
          "showarrow": false,
          "text": "406.0903490759754",
          "x": 0.55,
          "xanchor": "left",
          "xref": "x",
          "y": 2,
          "yref": "y"
         },
         {
          "align": "left",
          "font": {
           "color": "#000000"
          },
          "showarrow": false,
          "text": "407.0903490759754",
          "x": 1.55,
          "xanchor": "left",
          "xref": "x",
          "y": 2,
          "yref": "y"
         },
         {
          "align": "left",
          "font": {
           "color": "#000000"
          },
          "showarrow": false,
          "text": "42.80287474332649",
          "x": 2.55,
          "xanchor": "left",
          "xref": "x",
          "y": 2,
          "yref": "y"
         }
        ],
        "height": 140,
        "margin": {
         "b": 0,
         "l": 0,
         "r": 0,
         "t": 0
        },
        "template": {
         "data": {
          "bar": [
           {
            "error_x": {
             "color": "#2a3f5f"
            },
            "error_y": {
             "color": "#2a3f5f"
            },
            "marker": {
             "line": {
              "color": "#E5ECF6",
              "width": 0.5
             }
            },
            "type": "bar"
           }
          ],
          "barpolar": [
           {
            "marker": {
             "line": {
              "color": "#E5ECF6",
              "width": 0.5
             }
            },
            "type": "barpolar"
           }
          ],
          "carpet": [
           {
            "aaxis": {
             "endlinecolor": "#2a3f5f",
             "gridcolor": "white",
             "linecolor": "white",
             "minorgridcolor": "white",
             "startlinecolor": "#2a3f5f"
            },
            "baxis": {
             "endlinecolor": "#2a3f5f",
             "gridcolor": "white",
             "linecolor": "white",
             "minorgridcolor": "white",
             "startlinecolor": "#2a3f5f"
            },
            "type": "carpet"
           }
          ],
          "choropleth": [
           {
            "colorbar": {
             "outlinewidth": 0,
             "ticks": ""
            },
            "type": "choropleth"
           }
          ],
          "contour": [
           {
            "colorbar": {
             "outlinewidth": 0,
             "ticks": ""
            },
            "colorscale": [
             [
              0,
              "#0d0887"
             ],
             [
              0.1111111111111111,
              "#46039f"
             ],
             [
              0.2222222222222222,
              "#7201a8"
             ],
             [
              0.3333333333333333,
              "#9c179e"
             ],
             [
              0.4444444444444444,
              "#bd3786"
             ],
             [
              0.5555555555555556,
              "#d8576b"
             ],
             [
              0.6666666666666666,
              "#ed7953"
             ],
             [
              0.7777777777777778,
              "#fb9f3a"
             ],
             [
              0.8888888888888888,
              "#fdca26"
             ],
             [
              1,
              "#f0f921"
             ]
            ],
            "type": "contour"
           }
          ],
          "contourcarpet": [
           {
            "colorbar": {
             "outlinewidth": 0,
             "ticks": ""
            },
            "type": "contourcarpet"
           }
          ],
          "heatmap": [
           {
            "colorbar": {
             "outlinewidth": 0,
             "ticks": ""
            },
            "colorscale": [
             [
              0,
              "#0d0887"
             ],
             [
              0.1111111111111111,
              "#46039f"
             ],
             [
              0.2222222222222222,
              "#7201a8"
             ],
             [
              0.3333333333333333,
              "#9c179e"
             ],
             [
              0.4444444444444444,
              "#bd3786"
             ],
             [
              0.5555555555555556,
              "#d8576b"
             ],
             [
              0.6666666666666666,
              "#ed7953"
             ],
             [
              0.7777777777777778,
              "#fb9f3a"
             ],
             [
              0.8888888888888888,
              "#fdca26"
             ],
             [
              1,
              "#f0f921"
             ]
            ],
            "type": "heatmap"
           }
          ],
          "heatmapgl": [
           {
            "colorbar": {
             "outlinewidth": 0,
             "ticks": ""
            },
            "colorscale": [
             [
              0,
              "#0d0887"
             ],
             [
              0.1111111111111111,
              "#46039f"
             ],
             [
              0.2222222222222222,
              "#7201a8"
             ],
             [
              0.3333333333333333,
              "#9c179e"
             ],
             [
              0.4444444444444444,
              "#bd3786"
             ],
             [
              0.5555555555555556,
              "#d8576b"
             ],
             [
              0.6666666666666666,
              "#ed7953"
             ],
             [
              0.7777777777777778,
              "#fb9f3a"
             ],
             [
              0.8888888888888888,
              "#fdca26"
             ],
             [
              1,
              "#f0f921"
             ]
            ],
            "type": "heatmapgl"
           }
          ],
          "histogram": [
           {
            "marker": {
             "colorbar": {
              "outlinewidth": 0,
              "ticks": ""
             }
            },
            "type": "histogram"
           }
          ],
          "histogram2d": [
           {
            "colorbar": {
             "outlinewidth": 0,
             "ticks": ""
            },
            "colorscale": [
             [
              0,
              "#0d0887"
             ],
             [
              0.1111111111111111,
              "#46039f"
             ],
             [
              0.2222222222222222,
              "#7201a8"
             ],
             [
              0.3333333333333333,
              "#9c179e"
             ],
             [
              0.4444444444444444,
              "#bd3786"
             ],
             [
              0.5555555555555556,
              "#d8576b"
             ],
             [
              0.6666666666666666,
              "#ed7953"
             ],
             [
              0.7777777777777778,
              "#fb9f3a"
             ],
             [
              0.8888888888888888,
              "#fdca26"
             ],
             [
              1,
              "#f0f921"
             ]
            ],
            "type": "histogram2d"
           }
          ],
          "histogram2dcontour": [
           {
            "colorbar": {
             "outlinewidth": 0,
             "ticks": ""
            },
            "colorscale": [
             [
              0,
              "#0d0887"
             ],
             [
              0.1111111111111111,
              "#46039f"
             ],
             [
              0.2222222222222222,
              "#7201a8"
             ],
             [
              0.3333333333333333,
              "#9c179e"
             ],
             [
              0.4444444444444444,
              "#bd3786"
             ],
             [
              0.5555555555555556,
              "#d8576b"
             ],
             [
              0.6666666666666666,
              "#ed7953"
             ],
             [
              0.7777777777777778,
              "#fb9f3a"
             ],
             [
              0.8888888888888888,
              "#fdca26"
             ],
             [
              1,
              "#f0f921"
             ]
            ],
            "type": "histogram2dcontour"
           }
          ],
          "mesh3d": [
           {
            "colorbar": {
             "outlinewidth": 0,
             "ticks": ""
            },
            "type": "mesh3d"
           }
          ],
          "parcoords": [
           {
            "line": {
             "colorbar": {
              "outlinewidth": 0,
              "ticks": ""
             }
            },
            "type": "parcoords"
           }
          ],
          "pie": [
           {
            "automargin": true,
            "type": "pie"
           }
          ],
          "scatter": [
           {
            "marker": {
             "colorbar": {
              "outlinewidth": 0,
              "ticks": ""
             }
            },
            "type": "scatter"
           }
          ],
          "scatter3d": [
           {
            "line": {
             "colorbar": {
              "outlinewidth": 0,
              "ticks": ""
             }
            },
            "marker": {
             "colorbar": {
              "outlinewidth": 0,
              "ticks": ""
             }
            },
            "type": "scatter3d"
           }
          ],
          "scattercarpet": [
           {
            "marker": {
             "colorbar": {
              "outlinewidth": 0,
              "ticks": ""
             }
            },
            "type": "scattercarpet"
           }
          ],
          "scattergeo": [
           {
            "marker": {
             "colorbar": {
              "outlinewidth": 0,
              "ticks": ""
             }
            },
            "type": "scattergeo"
           }
          ],
          "scattergl": [
           {
            "marker": {
             "colorbar": {
              "outlinewidth": 0,
              "ticks": ""
             }
            },
            "type": "scattergl"
           }
          ],
          "scattermapbox": [
           {
            "marker": {
             "colorbar": {
              "outlinewidth": 0,
              "ticks": ""
             }
            },
            "type": "scattermapbox"
           }
          ],
          "scatterpolar": [
           {
            "marker": {
             "colorbar": {
              "outlinewidth": 0,
              "ticks": ""
             }
            },
            "type": "scatterpolar"
           }
          ],
          "scatterpolargl": [
           {
            "marker": {
             "colorbar": {
              "outlinewidth": 0,
              "ticks": ""
             }
            },
            "type": "scatterpolargl"
           }
          ],
          "scatterternary": [
           {
            "marker": {
             "colorbar": {
              "outlinewidth": 0,
              "ticks": ""
             }
            },
            "type": "scatterternary"
           }
          ],
          "surface": [
           {
            "colorbar": {
             "outlinewidth": 0,
             "ticks": ""
            },
            "colorscale": [
             [
              0,
              "#0d0887"
             ],
             [
              0.1111111111111111,
              "#46039f"
             ],
             [
              0.2222222222222222,
              "#7201a8"
             ],
             [
              0.3333333333333333,
              "#9c179e"
             ],
             [
              0.4444444444444444,
              "#bd3786"
             ],
             [
              0.5555555555555556,
              "#d8576b"
             ],
             [
              0.6666666666666666,
              "#ed7953"
             ],
             [
              0.7777777777777778,
              "#fb9f3a"
             ],
             [
              0.8888888888888888,
              "#fdca26"
             ],
             [
              1,
              "#f0f921"
             ]
            ],
            "type": "surface"
           }
          ],
          "table": [
           {
            "cells": {
             "fill": {
              "color": "#EBF0F8"
             },
             "line": {
              "color": "white"
             }
            },
            "header": {
             "fill": {
              "color": "#C8D4E3"
             },
             "line": {
              "color": "white"
             }
            },
            "type": "table"
           }
          ]
         },
         "layout": {
          "annotationdefaults": {
           "arrowcolor": "#2a3f5f",
           "arrowhead": 0,
           "arrowwidth": 1
          },
          "coloraxis": {
           "colorbar": {
            "outlinewidth": 0,
            "ticks": ""
           }
          },
          "colorscale": {
           "diverging": [
            [
             0,
             "#8e0152"
            ],
            [
             0.1,
             "#c51b7d"
            ],
            [
             0.2,
             "#de77ae"
            ],
            [
             0.3,
             "#f1b6da"
            ],
            [
             0.4,
             "#fde0ef"
            ],
            [
             0.5,
             "#f7f7f7"
            ],
            [
             0.6,
             "#e6f5d0"
            ],
            [
             0.7,
             "#b8e186"
            ],
            [
             0.8,
             "#7fbc41"
            ],
            [
             0.9,
             "#4d9221"
            ],
            [
             1,
             "#276419"
            ]
           ],
           "sequential": [
            [
             0,
             "#0d0887"
            ],
            [
             0.1111111111111111,
             "#46039f"
            ],
            [
             0.2222222222222222,
             "#7201a8"
            ],
            [
             0.3333333333333333,
             "#9c179e"
            ],
            [
             0.4444444444444444,
             "#bd3786"
            ],
            [
             0.5555555555555556,
             "#d8576b"
            ],
            [
             0.6666666666666666,
             "#ed7953"
            ],
            [
             0.7777777777777778,
             "#fb9f3a"
            ],
            [
             0.8888888888888888,
             "#fdca26"
            ],
            [
             1,
             "#f0f921"
            ]
           ],
           "sequentialminus": [
            [
             0,
             "#0d0887"
            ],
            [
             0.1111111111111111,
             "#46039f"
            ],
            [
             0.2222222222222222,
             "#7201a8"
            ],
            [
             0.3333333333333333,
             "#9c179e"
            ],
            [
             0.4444444444444444,
             "#bd3786"
            ],
            [
             0.5555555555555556,
             "#d8576b"
            ],
            [
             0.6666666666666666,
             "#ed7953"
            ],
            [
             0.7777777777777778,
             "#fb9f3a"
            ],
            [
             0.8888888888888888,
             "#fdca26"
            ],
            [
             1,
             "#f0f921"
            ]
           ]
          },
          "colorway": [
           "#636efa",
           "#EF553B",
           "#00cc96",
           "#ab63fa",
           "#FFA15A",
           "#19d3f3",
           "#FF6692",
           "#B6E880",
           "#FF97FF",
           "#FECB52"
          ],
          "font": {
           "color": "#2a3f5f"
          },
          "geo": {
           "bgcolor": "white",
           "lakecolor": "white",
           "landcolor": "#E5ECF6",
           "showlakes": true,
           "showland": true,
           "subunitcolor": "white"
          },
          "hoverlabel": {
           "align": "left"
          },
          "hovermode": "closest",
          "mapbox": {
           "style": "light"
          },
          "paper_bgcolor": "white",
          "plot_bgcolor": "#E5ECF6",
          "polar": {
           "angularaxis": {
            "gridcolor": "white",
            "linecolor": "white",
            "ticks": ""
           },
           "bgcolor": "#E5ECF6",
           "radialaxis": {
            "gridcolor": "white",
            "linecolor": "white",
            "ticks": ""
           }
          },
          "scene": {
           "xaxis": {
            "backgroundcolor": "#E5ECF6",
            "gridcolor": "white",
            "gridwidth": 2,
            "linecolor": "white",
            "showbackground": true,
            "ticks": "",
            "zerolinecolor": "white"
           },
           "yaxis": {
            "backgroundcolor": "#E5ECF6",
            "gridcolor": "white",
            "gridwidth": 2,
            "linecolor": "white",
            "showbackground": true,
            "ticks": "",
            "zerolinecolor": "white"
           },
           "zaxis": {
            "backgroundcolor": "#E5ECF6",
            "gridcolor": "white",
            "gridwidth": 2,
            "linecolor": "white",
            "showbackground": true,
            "ticks": "",
            "zerolinecolor": "white"
           }
          },
          "shapedefaults": {
           "line": {
            "color": "#2a3f5f"
           }
          },
          "ternary": {
           "aaxis": {
            "gridcolor": "white",
            "linecolor": "white",
            "ticks": ""
           },
           "baxis": {
            "gridcolor": "white",
            "linecolor": "white",
            "ticks": ""
           },
           "bgcolor": "#E5ECF6",
           "caxis": {
            "gridcolor": "white",
            "linecolor": "white",
            "ticks": ""
           }
          },
          "title": {
           "x": 0.05
          },
          "xaxis": {
           "automargin": true,
           "gridcolor": "white",
           "linecolor": "white",
           "ticks": "",
           "title": {
            "standoff": 15
           },
           "zerolinecolor": "white",
           "zerolinewidth": 2
          },
          "yaxis": {
           "automargin": true,
           "gridcolor": "white",
           "linecolor": "white",
           "ticks": "",
           "title": {
            "standoff": 15
           },
           "zerolinecolor": "white",
           "zerolinewidth": 2
          }
         }
        },
        "xaxis": {
         "dtick": 1,
         "gridwidth": 2,
         "showticklabels": false,
         "tick0": -0.5,
         "ticks": "",
         "zeroline": false
        },
        "yaxis": {
         "autorange": "reversed",
         "dtick": 1,
         "gridwidth": 2,
         "showticklabels": false,
         "tick0": 0.5,
         "ticks": "",
         "zeroline": false
        }
       }
      },
      "text/html": [
       "<div>\n",
       "        \n",
       "        \n",
       "            <div id=\"c99a247e-0519-4b2f-a58e-eb99042450b1\" class=\"plotly-graph-div\" style=\"height:140px; width:100%;\"></div>\n",
       "            <script type=\"text/javascript\">\n",
       "                require([\"plotly\"], function(Plotly) {\n",
       "                    window.PLOTLYENV=window.PLOTLYENV || {};\n",
       "                    \n",
       "                if (document.getElementById(\"c99a247e-0519-4b2f-a58e-eb99042450b1\")) {\n",
       "                    Plotly.newPlot(\n",
       "                        'c99a247e-0519-4b2f-a58e-eb99042450b1',\n",
       "                        [{\"colorscale\": [[0, \"#4d004c\"], [0.5, \"#f2e5ff\"], [1, \"#ffffff\"]], \"hoverinfo\": \"none\", \"opacity\": 0.75, \"showscale\": false, \"type\": \"heatmap\", \"z\": [[0, 0, 0, 0], [0, 0.5, 0.5, 0.5], [0, 1, 1, 1]]}],\n",
       "                        {\"annotations\": [{\"align\": \"left\", \"font\": {\"color\": \"#000000\"}, \"showarrow\": false, \"text\": \"<b></b>\", \"x\": -0.45, \"xanchor\": \"left\", \"xref\": \"x\", \"y\": 0, \"yref\": \"y\"}, {\"align\": \"left\", \"font\": {\"color\": \"#000000\"}, \"showarrow\": false, \"text\": \"<b>index</b>\", \"x\": 0.55, \"xanchor\": \"left\", \"xref\": \"x\", \"y\": 0, \"yref\": \"y\"}, {\"align\": \"left\", \"font\": {\"color\": \"#000000\"}, \"showarrow\": false, \"text\": \"<b>NumCaso</b>\", \"x\": 1.55, \"xanchor\": \"left\", \"xref\": \"x\", \"y\": 0, \"yref\": \"y\"}, {\"align\": \"left\", \"font\": {\"color\": \"#000000\"}, \"showarrow\": false, \"text\": \"<b>Edad</b>\", \"x\": 2.55, \"xanchor\": \"left\", \"xref\": \"x\", \"y\": 0, \"yref\": \"y\"}, {\"align\": \"left\", \"font\": {\"color\": \"#000000\"}, \"showarrow\": false, \"text\": \"<b>F</b>\", \"x\": -0.45, \"xanchor\": \"left\", \"xref\": \"x\", \"y\": 1, \"yref\": \"y\"}, {\"align\": \"left\", \"font\": {\"color\": \"#000000\"}, \"showarrow\": false, \"text\": \"446.9861495844875\", \"x\": 0.55, \"xanchor\": \"left\", \"xref\": \"x\", \"y\": 1, \"yref\": \"y\"}, {\"align\": \"left\", \"font\": {\"color\": \"#000000\"}, \"showarrow\": false, \"text\": \"447.9861495844875\", \"x\": 1.55, \"xanchor\": \"left\", \"xref\": \"x\", \"y\": 1, \"yref\": \"y\"}, {\"align\": \"left\", \"font\": {\"color\": \"#000000\"}, \"showarrow\": false, \"text\": \"41.958448753462605\", \"x\": 2.55, \"xanchor\": \"left\", \"xref\": \"x\", \"y\": 1, \"yref\": \"y\"}, {\"align\": \"left\", \"font\": {\"color\": \"#000000\"}, \"showarrow\": false, \"text\": \"<b>M</b>\", \"x\": -0.45, \"xanchor\": \"left\", \"xref\": \"x\", \"y\": 2, \"yref\": \"y\"}, {\"align\": \"left\", \"font\": {\"color\": \"#000000\"}, \"showarrow\": false, \"text\": \"406.0903490759754\", \"x\": 0.55, \"xanchor\": \"left\", \"xref\": \"x\", \"y\": 2, \"yref\": \"y\"}, {\"align\": \"left\", \"font\": {\"color\": \"#000000\"}, \"showarrow\": false, \"text\": \"407.0903490759754\", \"x\": 1.55, \"xanchor\": \"left\", \"xref\": \"x\", \"y\": 2, \"yref\": \"y\"}, {\"align\": \"left\", \"font\": {\"color\": \"#000000\"}, \"showarrow\": false, \"text\": \"42.80287474332649\", \"x\": 2.55, \"xanchor\": \"left\", \"xref\": \"x\", \"y\": 2, \"yref\": \"y\"}], \"height\": 140, \"margin\": {\"b\": 0, \"l\": 0, \"r\": 0, \"t\": 0}, \"template\": {\"data\": {\"bar\": [{\"error_x\": {\"color\": \"#2a3f5f\"}, \"error_y\": {\"color\": \"#2a3f5f\"}, \"marker\": {\"line\": {\"color\": \"#E5ECF6\", \"width\": 0.5}}, \"type\": \"bar\"}], \"barpolar\": [{\"marker\": {\"line\": {\"color\": \"#E5ECF6\", \"width\": 0.5}}, \"type\": \"barpolar\"}], \"carpet\": [{\"aaxis\": {\"endlinecolor\": \"#2a3f5f\", \"gridcolor\": \"white\", \"linecolor\": \"white\", \"minorgridcolor\": \"white\", \"startlinecolor\": \"#2a3f5f\"}, \"baxis\": {\"endlinecolor\": \"#2a3f5f\", \"gridcolor\": \"white\", \"linecolor\": \"white\", \"minorgridcolor\": \"white\", \"startlinecolor\": \"#2a3f5f\"}, \"type\": \"carpet\"}], \"choropleth\": [{\"colorbar\": {\"outlinewidth\": 0, \"ticks\": \"\"}, \"type\": \"choropleth\"}], \"contour\": [{\"colorbar\": {\"outlinewidth\": 0, \"ticks\": \"\"}, \"colorscale\": [[0.0, \"#0d0887\"], [0.1111111111111111, \"#46039f\"], [0.2222222222222222, \"#7201a8\"], [0.3333333333333333, \"#9c179e\"], [0.4444444444444444, \"#bd3786\"], [0.5555555555555556, \"#d8576b\"], [0.6666666666666666, \"#ed7953\"], [0.7777777777777778, \"#fb9f3a\"], [0.8888888888888888, \"#fdca26\"], [1.0, \"#f0f921\"]], \"type\": \"contour\"}], \"contourcarpet\": [{\"colorbar\": {\"outlinewidth\": 0, \"ticks\": \"\"}, \"type\": \"contourcarpet\"}], \"heatmap\": [{\"colorbar\": {\"outlinewidth\": 0, \"ticks\": \"\"}, \"colorscale\": [[0.0, \"#0d0887\"], [0.1111111111111111, \"#46039f\"], [0.2222222222222222, \"#7201a8\"], [0.3333333333333333, \"#9c179e\"], [0.4444444444444444, \"#bd3786\"], [0.5555555555555556, \"#d8576b\"], [0.6666666666666666, \"#ed7953\"], [0.7777777777777778, \"#fb9f3a\"], [0.8888888888888888, \"#fdca26\"], [1.0, \"#f0f921\"]], \"type\": \"heatmap\"}], \"heatmapgl\": [{\"colorbar\": {\"outlinewidth\": 0, \"ticks\": \"\"}, \"colorscale\": [[0.0, \"#0d0887\"], [0.1111111111111111, \"#46039f\"], [0.2222222222222222, \"#7201a8\"], [0.3333333333333333, \"#9c179e\"], [0.4444444444444444, \"#bd3786\"], [0.5555555555555556, \"#d8576b\"], [0.6666666666666666, \"#ed7953\"], [0.7777777777777778, \"#fb9f3a\"], [0.8888888888888888, \"#fdca26\"], [1.0, \"#f0f921\"]], \"type\": \"heatmapgl\"}], \"histogram\": [{\"marker\": {\"colorbar\": {\"outlinewidth\": 0, \"ticks\": \"\"}}, \"type\": \"histogram\"}], \"histogram2d\": [{\"colorbar\": {\"outlinewidth\": 0, \"ticks\": \"\"}, \"colorscale\": [[0.0, \"#0d0887\"], [0.1111111111111111, \"#46039f\"], [0.2222222222222222, \"#7201a8\"], [0.3333333333333333, \"#9c179e\"], [0.4444444444444444, \"#bd3786\"], [0.5555555555555556, \"#d8576b\"], [0.6666666666666666, \"#ed7953\"], [0.7777777777777778, \"#fb9f3a\"], [0.8888888888888888, \"#fdca26\"], [1.0, \"#f0f921\"]], \"type\": \"histogram2d\"}], \"histogram2dcontour\": [{\"colorbar\": {\"outlinewidth\": 0, \"ticks\": \"\"}, \"colorscale\": [[0.0, \"#0d0887\"], [0.1111111111111111, \"#46039f\"], [0.2222222222222222, \"#7201a8\"], [0.3333333333333333, \"#9c179e\"], [0.4444444444444444, \"#bd3786\"], [0.5555555555555556, \"#d8576b\"], [0.6666666666666666, \"#ed7953\"], [0.7777777777777778, \"#fb9f3a\"], [0.8888888888888888, \"#fdca26\"], [1.0, \"#f0f921\"]], \"type\": \"histogram2dcontour\"}], \"mesh3d\": [{\"colorbar\": {\"outlinewidth\": 0, \"ticks\": \"\"}, \"type\": \"mesh3d\"}], \"parcoords\": [{\"line\": {\"colorbar\": {\"outlinewidth\": 0, \"ticks\": \"\"}}, \"type\": \"parcoords\"}], \"pie\": [{\"automargin\": true, \"type\": \"pie\"}], \"scatter\": [{\"marker\": {\"colorbar\": {\"outlinewidth\": 0, \"ticks\": \"\"}}, \"type\": \"scatter\"}], \"scatter3d\": [{\"line\": {\"colorbar\": {\"outlinewidth\": 0, \"ticks\": \"\"}}, \"marker\": {\"colorbar\": {\"outlinewidth\": 0, \"ticks\": \"\"}}, \"type\": \"scatter3d\"}], \"scattercarpet\": [{\"marker\": {\"colorbar\": {\"outlinewidth\": 0, \"ticks\": \"\"}}, \"type\": \"scattercarpet\"}], \"scattergeo\": [{\"marker\": {\"colorbar\": {\"outlinewidth\": 0, \"ticks\": \"\"}}, \"type\": \"scattergeo\"}], \"scattergl\": [{\"marker\": {\"colorbar\": {\"outlinewidth\": 0, \"ticks\": \"\"}}, \"type\": \"scattergl\"}], \"scattermapbox\": [{\"marker\": {\"colorbar\": {\"outlinewidth\": 0, \"ticks\": \"\"}}, \"type\": \"scattermapbox\"}], \"scatterpolar\": [{\"marker\": {\"colorbar\": {\"outlinewidth\": 0, \"ticks\": \"\"}}, \"type\": \"scatterpolar\"}], \"scatterpolargl\": [{\"marker\": {\"colorbar\": {\"outlinewidth\": 0, \"ticks\": \"\"}}, \"type\": \"scatterpolargl\"}], \"scatterternary\": [{\"marker\": {\"colorbar\": {\"outlinewidth\": 0, \"ticks\": \"\"}}, \"type\": \"scatterternary\"}], \"surface\": [{\"colorbar\": {\"outlinewidth\": 0, \"ticks\": \"\"}, \"colorscale\": [[0.0, \"#0d0887\"], [0.1111111111111111, \"#46039f\"], [0.2222222222222222, \"#7201a8\"], [0.3333333333333333, \"#9c179e\"], [0.4444444444444444, \"#bd3786\"], [0.5555555555555556, \"#d8576b\"], [0.6666666666666666, \"#ed7953\"], [0.7777777777777778, \"#fb9f3a\"], [0.8888888888888888, \"#fdca26\"], [1.0, \"#f0f921\"]], \"type\": \"surface\"}], \"table\": [{\"cells\": {\"fill\": {\"color\": \"#EBF0F8\"}, \"line\": {\"color\": \"white\"}}, \"header\": {\"fill\": {\"color\": \"#C8D4E3\"}, \"line\": {\"color\": \"white\"}}, \"type\": \"table\"}]}, \"layout\": {\"annotationdefaults\": {\"arrowcolor\": \"#2a3f5f\", \"arrowhead\": 0, \"arrowwidth\": 1}, \"coloraxis\": {\"colorbar\": {\"outlinewidth\": 0, \"ticks\": \"\"}}, \"colorscale\": {\"diverging\": [[0, \"#8e0152\"], [0.1, \"#c51b7d\"], [0.2, \"#de77ae\"], [0.3, \"#f1b6da\"], [0.4, \"#fde0ef\"], [0.5, \"#f7f7f7\"], [0.6, \"#e6f5d0\"], [0.7, \"#b8e186\"], [0.8, \"#7fbc41\"], [0.9, \"#4d9221\"], [1, \"#276419\"]], \"sequential\": [[0.0, \"#0d0887\"], [0.1111111111111111, \"#46039f\"], [0.2222222222222222, \"#7201a8\"], [0.3333333333333333, \"#9c179e\"], [0.4444444444444444, \"#bd3786\"], [0.5555555555555556, \"#d8576b\"], [0.6666666666666666, \"#ed7953\"], [0.7777777777777778, \"#fb9f3a\"], [0.8888888888888888, \"#fdca26\"], [1.0, \"#f0f921\"]], \"sequentialminus\": [[0.0, \"#0d0887\"], [0.1111111111111111, \"#46039f\"], [0.2222222222222222, \"#7201a8\"], [0.3333333333333333, \"#9c179e\"], [0.4444444444444444, \"#bd3786\"], [0.5555555555555556, \"#d8576b\"], [0.6666666666666666, \"#ed7953\"], [0.7777777777777778, \"#fb9f3a\"], [0.8888888888888888, \"#fdca26\"], [1.0, \"#f0f921\"]]}, \"colorway\": [\"#636efa\", \"#EF553B\", \"#00cc96\", \"#ab63fa\", \"#FFA15A\", \"#19d3f3\", \"#FF6692\", \"#B6E880\", \"#FF97FF\", \"#FECB52\"], \"font\": {\"color\": \"#2a3f5f\"}, \"geo\": {\"bgcolor\": \"white\", \"lakecolor\": \"white\", \"landcolor\": \"#E5ECF6\", \"showlakes\": true, \"showland\": true, \"subunitcolor\": \"white\"}, \"hoverlabel\": {\"align\": \"left\"}, \"hovermode\": \"closest\", \"mapbox\": {\"style\": \"light\"}, \"paper_bgcolor\": \"white\", \"plot_bgcolor\": \"#E5ECF6\", \"polar\": {\"angularaxis\": {\"gridcolor\": \"white\", \"linecolor\": \"white\", \"ticks\": \"\"}, \"bgcolor\": \"#E5ECF6\", \"radialaxis\": {\"gridcolor\": \"white\", \"linecolor\": \"white\", \"ticks\": \"\"}}, \"scene\": {\"xaxis\": {\"backgroundcolor\": \"#E5ECF6\", \"gridcolor\": \"white\", \"gridwidth\": 2, \"linecolor\": \"white\", \"showbackground\": true, \"ticks\": \"\", \"zerolinecolor\": \"white\"}, \"yaxis\": {\"backgroundcolor\": \"#E5ECF6\", \"gridcolor\": \"white\", \"gridwidth\": 2, \"linecolor\": \"white\", \"showbackground\": true, \"ticks\": \"\", \"zerolinecolor\": \"white\"}, \"zaxis\": {\"backgroundcolor\": \"#E5ECF6\", \"gridcolor\": \"white\", \"gridwidth\": 2, \"linecolor\": \"white\", \"showbackground\": true, \"ticks\": \"\", \"zerolinecolor\": \"white\"}}, \"shapedefaults\": {\"line\": {\"color\": \"#2a3f5f\"}}, \"ternary\": {\"aaxis\": {\"gridcolor\": \"white\", \"linecolor\": \"white\", \"ticks\": \"\"}, \"baxis\": {\"gridcolor\": \"white\", \"linecolor\": \"white\", \"ticks\": \"\"}, \"bgcolor\": \"#E5ECF6\", \"caxis\": {\"gridcolor\": \"white\", \"linecolor\": \"white\", \"ticks\": \"\"}}, \"title\": {\"x\": 0.05}, \"xaxis\": {\"automargin\": true, \"gridcolor\": \"white\", \"linecolor\": \"white\", \"ticks\": \"\", \"title\": {\"standoff\": 15}, \"zerolinecolor\": \"white\", \"zerolinewidth\": 2}, \"yaxis\": {\"automargin\": true, \"gridcolor\": \"white\", \"linecolor\": \"white\", \"ticks\": \"\", \"title\": {\"standoff\": 15}, \"zerolinecolor\": \"white\", \"zerolinewidth\": 2}}}, \"xaxis\": {\"dtick\": 1, \"gridwidth\": 2, \"showticklabels\": false, \"tick0\": -0.5, \"ticks\": \"\", \"zeroline\": false}, \"yaxis\": {\"autorange\": \"reversed\", \"dtick\": 1, \"gridwidth\": 2, \"showticklabels\": false, \"tick0\": 0.5, \"ticks\": \"\", \"zeroline\": false}},\n",
       "                        {\"responsive\": true}\n",
       "                    ).then(function(){\n",
       "                            \n",
       "var gd = document.getElementById('c99a247e-0519-4b2f-a58e-eb99042450b1');\n",
       "var x = new MutationObserver(function (mutations, observer) {{\n",
       "        var display = window.getComputedStyle(gd).display;\n",
       "        if (!display || display === 'none') {{\n",
       "            console.log([gd, 'removed!']);\n",
       "            Plotly.purge(gd);\n",
       "            observer.disconnect();\n",
       "        }}\n",
       "}});\n",
       "\n",
       "// Listen for the removal of the full notebook cells\n",
       "var notebookContainer = gd.closest('#notebook-container');\n",
       "if (notebookContainer) {{\n",
       "    x.observe(notebookContainer, {childList: true});\n",
       "}}\n",
       "\n",
       "// Listen for the clearing of the current output cell\n",
       "var outputEl = gd.closest('.output');\n",
       "if (outputEl) {{\n",
       "    x.observe(outputEl, {childList: true});\n",
       "}}\n",
       "\n",
       "                        })\n",
       "                };\n",
       "                });\n",
       "            </script>\n",
       "        </div>"
      ]
     },
     "metadata": {},
     "output_type": "display_data"
    }
   ],
   "source": [
    "dz=ff.create_table(AnalisisEstadisticoPromedioXGenero,index=True,colorscale=ColoresComponentesTabla,font_colors=ColoresLetra)\n",
    "iplot(dz)"
   ]
  },
  {
   "cell_type": "markdown",
   "metadata": {},
   "source": [
    "## Despliegue gráfico de resultados"
   ]
  },
  {
   "cell_type": "code",
   "execution_count": 18,
   "metadata": {},
   "outputs": [],
   "source": [
    "col=\"Sexo\"\n",
    "AnalisisFrecuenciaXGenero=df[col].value_counts().reset_index()"
   ]
  },
  {
   "cell_type": "code",
   "execution_count": 19,
   "metadata": {},
   "outputs": [
    {
     "data": {
      "text/html": [
       "<div>\n",
       "<style scoped>\n",
       "    .dataframe tbody tr th:only-of-type {\n",
       "        vertical-align: middle;\n",
       "    }\n",
       "\n",
       "    .dataframe tbody tr th {\n",
       "        vertical-align: top;\n",
       "    }\n",
       "\n",
       "    .dataframe thead th {\n",
       "        text-align: right;\n",
       "    }\n",
       "</style>\n",
       "<table border=\"1\" class=\"dataframe\">\n",
       "  <thead>\n",
       "    <tr style=\"text-align: right;\">\n",
       "      <th></th>\n",
       "      <th>index</th>\n",
       "      <th>Sexo</th>\n",
       "    </tr>\n",
       "  </thead>\n",
       "  <tbody>\n",
       "    <tr>\n",
       "      <td>0</td>\n",
       "      <td>M</td>\n",
       "      <td>487</td>\n",
       "    </tr>\n",
       "    <tr>\n",
       "      <td>1</td>\n",
       "      <td>F</td>\n",
       "      <td>361</td>\n",
       "    </tr>\n",
       "  </tbody>\n",
       "</table>\n",
       "</div>"
      ],
      "text/plain": [
       "  index  Sexo\n",
       "0     M   487\n",
       "1     F   361"
      ]
     },
     "execution_count": 19,
     "metadata": {},
     "output_type": "execute_result"
    }
   ],
   "source": [
    "AnalisisFrecuenciaXGenero"
   ]
  },
  {
   "cell_type": "code",
   "execution_count": 20,
   "metadata": {},
   "outputs": [],
   "source": [
    "AnalisisFrecuenciaXGenero=AnalisisFrecuenciaXGenero.rename(columns={col:\"count\",\"index\":col})"
   ]
  },
  {
   "cell_type": "code",
   "execution_count": 21,
   "metadata": {},
   "outputs": [
    {
     "data": {
      "text/html": [
       "<div>\n",
       "<style scoped>\n",
       "    .dataframe tbody tr th:only-of-type {\n",
       "        vertical-align: middle;\n",
       "    }\n",
       "\n",
       "    .dataframe tbody tr th {\n",
       "        vertical-align: top;\n",
       "    }\n",
       "\n",
       "    .dataframe thead th {\n",
       "        text-align: right;\n",
       "    }\n",
       "</style>\n",
       "<table border=\"1\" class=\"dataframe\">\n",
       "  <thead>\n",
       "    <tr style=\"text-align: right;\">\n",
       "      <th></th>\n",
       "      <th>Sexo</th>\n",
       "      <th>count</th>\n",
       "    </tr>\n",
       "  </thead>\n",
       "  <tbody>\n",
       "    <tr>\n",
       "      <td>0</td>\n",
       "      <td>M</td>\n",
       "      <td>487</td>\n",
       "    </tr>\n",
       "    <tr>\n",
       "      <td>1</td>\n",
       "      <td>F</td>\n",
       "      <td>361</td>\n",
       "    </tr>\n",
       "  </tbody>\n",
       "</table>\n",
       "</div>"
      ],
      "text/plain": [
       "  Sexo  count\n",
       "0    M    487\n",
       "1    F    361"
      ]
     },
     "execution_count": 21,
     "metadata": {},
     "output_type": "execute_result"
    }
   ],
   "source": [
    "AnalisisFrecuenciaXGenero"
   ]
  },
  {
   "cell_type": "markdown",
   "metadata": {},
   "source": [
    "## Gráfica distribución registros X género"
   ]
  },
  {
   "cell_type": "code",
   "execution_count": 22,
   "metadata": {},
   "outputs": [
    {
     "data": {
      "application/vnd.plotly.v1+json": {
       "config": {
        "linkText": "Export to plot.ly",
        "plotlyServerURL": "https://plot.ly",
        "showLink": false
       },
       "data": [
        {
         "labels": [
          "M",
          "F"
         ],
         "pull": [
          0.05,
          0
         ],
         "type": "pie",
         "values": [
          487,
          361
         ]
        }
       ],
       "layout": {
        "template": {
         "data": {
          "bar": [
           {
            "error_x": {
             "color": "#2a3f5f"
            },
            "error_y": {
             "color": "#2a3f5f"
            },
            "marker": {
             "line": {
              "color": "#E5ECF6",
              "width": 0.5
             }
            },
            "type": "bar"
           }
          ],
          "barpolar": [
           {
            "marker": {
             "line": {
              "color": "#E5ECF6",
              "width": 0.5
             }
            },
            "type": "barpolar"
           }
          ],
          "carpet": [
           {
            "aaxis": {
             "endlinecolor": "#2a3f5f",
             "gridcolor": "white",
             "linecolor": "white",
             "minorgridcolor": "white",
             "startlinecolor": "#2a3f5f"
            },
            "baxis": {
             "endlinecolor": "#2a3f5f",
             "gridcolor": "white",
             "linecolor": "white",
             "minorgridcolor": "white",
             "startlinecolor": "#2a3f5f"
            },
            "type": "carpet"
           }
          ],
          "choropleth": [
           {
            "colorbar": {
             "outlinewidth": 0,
             "ticks": ""
            },
            "type": "choropleth"
           }
          ],
          "contour": [
           {
            "colorbar": {
             "outlinewidth": 0,
             "ticks": ""
            },
            "colorscale": [
             [
              0,
              "#0d0887"
             ],
             [
              0.1111111111111111,
              "#46039f"
             ],
             [
              0.2222222222222222,
              "#7201a8"
             ],
             [
              0.3333333333333333,
              "#9c179e"
             ],
             [
              0.4444444444444444,
              "#bd3786"
             ],
             [
              0.5555555555555556,
              "#d8576b"
             ],
             [
              0.6666666666666666,
              "#ed7953"
             ],
             [
              0.7777777777777778,
              "#fb9f3a"
             ],
             [
              0.8888888888888888,
              "#fdca26"
             ],
             [
              1,
              "#f0f921"
             ]
            ],
            "type": "contour"
           }
          ],
          "contourcarpet": [
           {
            "colorbar": {
             "outlinewidth": 0,
             "ticks": ""
            },
            "type": "contourcarpet"
           }
          ],
          "heatmap": [
           {
            "colorbar": {
             "outlinewidth": 0,
             "ticks": ""
            },
            "colorscale": [
             [
              0,
              "#0d0887"
             ],
             [
              0.1111111111111111,
              "#46039f"
             ],
             [
              0.2222222222222222,
              "#7201a8"
             ],
             [
              0.3333333333333333,
              "#9c179e"
             ],
             [
              0.4444444444444444,
              "#bd3786"
             ],
             [
              0.5555555555555556,
              "#d8576b"
             ],
             [
              0.6666666666666666,
              "#ed7953"
             ],
             [
              0.7777777777777778,
              "#fb9f3a"
             ],
             [
              0.8888888888888888,
              "#fdca26"
             ],
             [
              1,
              "#f0f921"
             ]
            ],
            "type": "heatmap"
           }
          ],
          "heatmapgl": [
           {
            "colorbar": {
             "outlinewidth": 0,
             "ticks": ""
            },
            "colorscale": [
             [
              0,
              "#0d0887"
             ],
             [
              0.1111111111111111,
              "#46039f"
             ],
             [
              0.2222222222222222,
              "#7201a8"
             ],
             [
              0.3333333333333333,
              "#9c179e"
             ],
             [
              0.4444444444444444,
              "#bd3786"
             ],
             [
              0.5555555555555556,
              "#d8576b"
             ],
             [
              0.6666666666666666,
              "#ed7953"
             ],
             [
              0.7777777777777778,
              "#fb9f3a"
             ],
             [
              0.8888888888888888,
              "#fdca26"
             ],
             [
              1,
              "#f0f921"
             ]
            ],
            "type": "heatmapgl"
           }
          ],
          "histogram": [
           {
            "marker": {
             "colorbar": {
              "outlinewidth": 0,
              "ticks": ""
             }
            },
            "type": "histogram"
           }
          ],
          "histogram2d": [
           {
            "colorbar": {
             "outlinewidth": 0,
             "ticks": ""
            },
            "colorscale": [
             [
              0,
              "#0d0887"
             ],
             [
              0.1111111111111111,
              "#46039f"
             ],
             [
              0.2222222222222222,
              "#7201a8"
             ],
             [
              0.3333333333333333,
              "#9c179e"
             ],
             [
              0.4444444444444444,
              "#bd3786"
             ],
             [
              0.5555555555555556,
              "#d8576b"
             ],
             [
              0.6666666666666666,
              "#ed7953"
             ],
             [
              0.7777777777777778,
              "#fb9f3a"
             ],
             [
              0.8888888888888888,
              "#fdca26"
             ],
             [
              1,
              "#f0f921"
             ]
            ],
            "type": "histogram2d"
           }
          ],
          "histogram2dcontour": [
           {
            "colorbar": {
             "outlinewidth": 0,
             "ticks": ""
            },
            "colorscale": [
             [
              0,
              "#0d0887"
             ],
             [
              0.1111111111111111,
              "#46039f"
             ],
             [
              0.2222222222222222,
              "#7201a8"
             ],
             [
              0.3333333333333333,
              "#9c179e"
             ],
             [
              0.4444444444444444,
              "#bd3786"
             ],
             [
              0.5555555555555556,
              "#d8576b"
             ],
             [
              0.6666666666666666,
              "#ed7953"
             ],
             [
              0.7777777777777778,
              "#fb9f3a"
             ],
             [
              0.8888888888888888,
              "#fdca26"
             ],
             [
              1,
              "#f0f921"
             ]
            ],
            "type": "histogram2dcontour"
           }
          ],
          "mesh3d": [
           {
            "colorbar": {
             "outlinewidth": 0,
             "ticks": ""
            },
            "type": "mesh3d"
           }
          ],
          "parcoords": [
           {
            "line": {
             "colorbar": {
              "outlinewidth": 0,
              "ticks": ""
             }
            },
            "type": "parcoords"
           }
          ],
          "pie": [
           {
            "automargin": true,
            "type": "pie"
           }
          ],
          "scatter": [
           {
            "marker": {
             "colorbar": {
              "outlinewidth": 0,
              "ticks": ""
             }
            },
            "type": "scatter"
           }
          ],
          "scatter3d": [
           {
            "line": {
             "colorbar": {
              "outlinewidth": 0,
              "ticks": ""
             }
            },
            "marker": {
             "colorbar": {
              "outlinewidth": 0,
              "ticks": ""
             }
            },
            "type": "scatter3d"
           }
          ],
          "scattercarpet": [
           {
            "marker": {
             "colorbar": {
              "outlinewidth": 0,
              "ticks": ""
             }
            },
            "type": "scattercarpet"
           }
          ],
          "scattergeo": [
           {
            "marker": {
             "colorbar": {
              "outlinewidth": 0,
              "ticks": ""
             }
            },
            "type": "scattergeo"
           }
          ],
          "scattergl": [
           {
            "marker": {
             "colorbar": {
              "outlinewidth": 0,
              "ticks": ""
             }
            },
            "type": "scattergl"
           }
          ],
          "scattermapbox": [
           {
            "marker": {
             "colorbar": {
              "outlinewidth": 0,
              "ticks": ""
             }
            },
            "type": "scattermapbox"
           }
          ],
          "scatterpolar": [
           {
            "marker": {
             "colorbar": {
              "outlinewidth": 0,
              "ticks": ""
             }
            },
            "type": "scatterpolar"
           }
          ],
          "scatterpolargl": [
           {
            "marker": {
             "colorbar": {
              "outlinewidth": 0,
              "ticks": ""
             }
            },
            "type": "scatterpolargl"
           }
          ],
          "scatterternary": [
           {
            "marker": {
             "colorbar": {
              "outlinewidth": 0,
              "ticks": ""
             }
            },
            "type": "scatterternary"
           }
          ],
          "surface": [
           {
            "colorbar": {
             "outlinewidth": 0,
             "ticks": ""
            },
            "colorscale": [
             [
              0,
              "#0d0887"
             ],
             [
              0.1111111111111111,
              "#46039f"
             ],
             [
              0.2222222222222222,
              "#7201a8"
             ],
             [
              0.3333333333333333,
              "#9c179e"
             ],
             [
              0.4444444444444444,
              "#bd3786"
             ],
             [
              0.5555555555555556,
              "#d8576b"
             ],
             [
              0.6666666666666666,
              "#ed7953"
             ],
             [
              0.7777777777777778,
              "#fb9f3a"
             ],
             [
              0.8888888888888888,
              "#fdca26"
             ],
             [
              1,
              "#f0f921"
             ]
            ],
            "type": "surface"
           }
          ],
          "table": [
           {
            "cells": {
             "fill": {
              "color": "#EBF0F8"
             },
             "line": {
              "color": "white"
             }
            },
            "header": {
             "fill": {
              "color": "#C8D4E3"
             },
             "line": {
              "color": "white"
             }
            },
            "type": "table"
           }
          ]
         },
         "layout": {
          "annotationdefaults": {
           "arrowcolor": "#2a3f5f",
           "arrowhead": 0,
           "arrowwidth": 1
          },
          "coloraxis": {
           "colorbar": {
            "outlinewidth": 0,
            "ticks": ""
           }
          },
          "colorscale": {
           "diverging": [
            [
             0,
             "#8e0152"
            ],
            [
             0.1,
             "#c51b7d"
            ],
            [
             0.2,
             "#de77ae"
            ],
            [
             0.3,
             "#f1b6da"
            ],
            [
             0.4,
             "#fde0ef"
            ],
            [
             0.5,
             "#f7f7f7"
            ],
            [
             0.6,
             "#e6f5d0"
            ],
            [
             0.7,
             "#b8e186"
            ],
            [
             0.8,
             "#7fbc41"
            ],
            [
             0.9,
             "#4d9221"
            ],
            [
             1,
             "#276419"
            ]
           ],
           "sequential": [
            [
             0,
             "#0d0887"
            ],
            [
             0.1111111111111111,
             "#46039f"
            ],
            [
             0.2222222222222222,
             "#7201a8"
            ],
            [
             0.3333333333333333,
             "#9c179e"
            ],
            [
             0.4444444444444444,
             "#bd3786"
            ],
            [
             0.5555555555555556,
             "#d8576b"
            ],
            [
             0.6666666666666666,
             "#ed7953"
            ],
            [
             0.7777777777777778,
             "#fb9f3a"
            ],
            [
             0.8888888888888888,
             "#fdca26"
            ],
            [
             1,
             "#f0f921"
            ]
           ],
           "sequentialminus": [
            [
             0,
             "#0d0887"
            ],
            [
             0.1111111111111111,
             "#46039f"
            ],
            [
             0.2222222222222222,
             "#7201a8"
            ],
            [
             0.3333333333333333,
             "#9c179e"
            ],
            [
             0.4444444444444444,
             "#bd3786"
            ],
            [
             0.5555555555555556,
             "#d8576b"
            ],
            [
             0.6666666666666666,
             "#ed7953"
            ],
            [
             0.7777777777777778,
             "#fb9f3a"
            ],
            [
             0.8888888888888888,
             "#fdca26"
            ],
            [
             1,
             "#f0f921"
            ]
           ]
          },
          "colorway": [
           "#636efa",
           "#EF553B",
           "#00cc96",
           "#ab63fa",
           "#FFA15A",
           "#19d3f3",
           "#FF6692",
           "#B6E880",
           "#FF97FF",
           "#FECB52"
          ],
          "font": {
           "color": "#2a3f5f"
          },
          "geo": {
           "bgcolor": "white",
           "lakecolor": "white",
           "landcolor": "#E5ECF6",
           "showlakes": true,
           "showland": true,
           "subunitcolor": "white"
          },
          "hoverlabel": {
           "align": "left"
          },
          "hovermode": "closest",
          "mapbox": {
           "style": "light"
          },
          "paper_bgcolor": "white",
          "plot_bgcolor": "#E5ECF6",
          "polar": {
           "angularaxis": {
            "gridcolor": "white",
            "linecolor": "white",
            "ticks": ""
           },
           "bgcolor": "#E5ECF6",
           "radialaxis": {
            "gridcolor": "white",
            "linecolor": "white",
            "ticks": ""
           }
          },
          "scene": {
           "xaxis": {
            "backgroundcolor": "#E5ECF6",
            "gridcolor": "white",
            "gridwidth": 2,
            "linecolor": "white",
            "showbackground": true,
            "ticks": "",
            "zerolinecolor": "white"
           },
           "yaxis": {
            "backgroundcolor": "#E5ECF6",
            "gridcolor": "white",
            "gridwidth": 2,
            "linecolor": "white",
            "showbackground": true,
            "ticks": "",
            "zerolinecolor": "white"
           },
           "zaxis": {
            "backgroundcolor": "#E5ECF6",
            "gridcolor": "white",
            "gridwidth": 2,
            "linecolor": "white",
            "showbackground": true,
            "ticks": "",
            "zerolinecolor": "white"
           }
          },
          "shapedefaults": {
           "line": {
            "color": "#2a3f5f"
           }
          },
          "ternary": {
           "aaxis": {
            "gridcolor": "white",
            "linecolor": "white",
            "ticks": ""
           },
           "baxis": {
            "gridcolor": "white",
            "linecolor": "white",
            "ticks": ""
           },
           "bgcolor": "#E5ECF6",
           "caxis": {
            "gridcolor": "white",
            "linecolor": "white",
            "ticks": ""
           }
          },
          "title": {
           "x": 0.05
          },
          "xaxis": {
           "automargin": true,
           "gridcolor": "white",
           "linecolor": "white",
           "ticks": "",
           "title": {
            "standoff": 15
           },
           "zerolinecolor": "white",
           "zerolinewidth": 2
          },
          "yaxis": {
           "automargin": true,
           "gridcolor": "white",
           "linecolor": "white",
           "ticks": "",
           "title": {
            "standoff": 15
           },
           "zerolinecolor": "white",
           "zerolinewidth": 2
          }
         }
        },
        "title": {
         "text": "Género(Hombre, Mujer)"
        }
       }
      },
      "text/html": [
       "<div>\n",
       "        \n",
       "        \n",
       "            <div id=\"483f2255-601e-4792-baba-4a846d609587\" class=\"plotly-graph-div\" style=\"height:525px; width:100%;\"></div>\n",
       "            <script type=\"text/javascript\">\n",
       "                require([\"plotly\"], function(Plotly) {\n",
       "                    window.PLOTLYENV=window.PLOTLYENV || {};\n",
       "                    \n",
       "                if (document.getElementById(\"483f2255-601e-4792-baba-4a846d609587\")) {\n",
       "                    Plotly.newPlot(\n",
       "                        '483f2255-601e-4792-baba-4a846d609587',\n",
       "                        [{\"labels\": [\"M\", \"F\"], \"pull\": [0.05, 0], \"type\": \"pie\", \"values\": [487, 361]}],\n",
       "                        {\"template\": {\"data\": {\"bar\": [{\"error_x\": {\"color\": \"#2a3f5f\"}, \"error_y\": {\"color\": \"#2a3f5f\"}, \"marker\": {\"line\": {\"color\": \"#E5ECF6\", \"width\": 0.5}}, \"type\": \"bar\"}], \"barpolar\": [{\"marker\": {\"line\": {\"color\": \"#E5ECF6\", \"width\": 0.5}}, \"type\": \"barpolar\"}], \"carpet\": [{\"aaxis\": {\"endlinecolor\": \"#2a3f5f\", \"gridcolor\": \"white\", \"linecolor\": \"white\", \"minorgridcolor\": \"white\", \"startlinecolor\": \"#2a3f5f\"}, \"baxis\": {\"endlinecolor\": \"#2a3f5f\", \"gridcolor\": \"white\", \"linecolor\": \"white\", \"minorgridcolor\": \"white\", \"startlinecolor\": \"#2a3f5f\"}, \"type\": \"carpet\"}], \"choropleth\": [{\"colorbar\": {\"outlinewidth\": 0, \"ticks\": \"\"}, \"type\": \"choropleth\"}], \"contour\": [{\"colorbar\": {\"outlinewidth\": 0, \"ticks\": \"\"}, \"colorscale\": [[0.0, \"#0d0887\"], [0.1111111111111111, \"#46039f\"], [0.2222222222222222, \"#7201a8\"], [0.3333333333333333, \"#9c179e\"], [0.4444444444444444, \"#bd3786\"], [0.5555555555555556, \"#d8576b\"], [0.6666666666666666, \"#ed7953\"], [0.7777777777777778, \"#fb9f3a\"], [0.8888888888888888, \"#fdca26\"], [1.0, \"#f0f921\"]], \"type\": \"contour\"}], \"contourcarpet\": [{\"colorbar\": {\"outlinewidth\": 0, \"ticks\": \"\"}, \"type\": \"contourcarpet\"}], \"heatmap\": [{\"colorbar\": {\"outlinewidth\": 0, \"ticks\": \"\"}, \"colorscale\": [[0.0, \"#0d0887\"], [0.1111111111111111, \"#46039f\"], [0.2222222222222222, \"#7201a8\"], [0.3333333333333333, \"#9c179e\"], [0.4444444444444444, \"#bd3786\"], [0.5555555555555556, \"#d8576b\"], [0.6666666666666666, \"#ed7953\"], [0.7777777777777778, \"#fb9f3a\"], [0.8888888888888888, \"#fdca26\"], [1.0, \"#f0f921\"]], \"type\": \"heatmap\"}], \"heatmapgl\": [{\"colorbar\": {\"outlinewidth\": 0, \"ticks\": \"\"}, \"colorscale\": [[0.0, \"#0d0887\"], [0.1111111111111111, \"#46039f\"], [0.2222222222222222, \"#7201a8\"], [0.3333333333333333, \"#9c179e\"], [0.4444444444444444, \"#bd3786\"], [0.5555555555555556, \"#d8576b\"], [0.6666666666666666, \"#ed7953\"], [0.7777777777777778, \"#fb9f3a\"], [0.8888888888888888, \"#fdca26\"], [1.0, \"#f0f921\"]], \"type\": \"heatmapgl\"}], \"histogram\": [{\"marker\": {\"colorbar\": {\"outlinewidth\": 0, \"ticks\": \"\"}}, \"type\": \"histogram\"}], \"histogram2d\": [{\"colorbar\": {\"outlinewidth\": 0, \"ticks\": \"\"}, \"colorscale\": [[0.0, \"#0d0887\"], [0.1111111111111111, \"#46039f\"], [0.2222222222222222, \"#7201a8\"], [0.3333333333333333, \"#9c179e\"], [0.4444444444444444, \"#bd3786\"], [0.5555555555555556, \"#d8576b\"], [0.6666666666666666, \"#ed7953\"], [0.7777777777777778, \"#fb9f3a\"], [0.8888888888888888, \"#fdca26\"], [1.0, \"#f0f921\"]], \"type\": \"histogram2d\"}], \"histogram2dcontour\": [{\"colorbar\": {\"outlinewidth\": 0, \"ticks\": \"\"}, \"colorscale\": [[0.0, \"#0d0887\"], [0.1111111111111111, \"#46039f\"], [0.2222222222222222, \"#7201a8\"], [0.3333333333333333, \"#9c179e\"], [0.4444444444444444, \"#bd3786\"], [0.5555555555555556, \"#d8576b\"], [0.6666666666666666, \"#ed7953\"], [0.7777777777777778, \"#fb9f3a\"], [0.8888888888888888, \"#fdca26\"], [1.0, \"#f0f921\"]], \"type\": \"histogram2dcontour\"}], \"mesh3d\": [{\"colorbar\": {\"outlinewidth\": 0, \"ticks\": \"\"}, \"type\": \"mesh3d\"}], \"parcoords\": [{\"line\": {\"colorbar\": {\"outlinewidth\": 0, \"ticks\": \"\"}}, \"type\": \"parcoords\"}], \"pie\": [{\"automargin\": true, \"type\": \"pie\"}], \"scatter\": [{\"marker\": {\"colorbar\": {\"outlinewidth\": 0, \"ticks\": \"\"}}, \"type\": \"scatter\"}], \"scatter3d\": [{\"line\": {\"colorbar\": {\"outlinewidth\": 0, \"ticks\": \"\"}}, \"marker\": {\"colorbar\": {\"outlinewidth\": 0, \"ticks\": \"\"}}, \"type\": \"scatter3d\"}], \"scattercarpet\": [{\"marker\": {\"colorbar\": {\"outlinewidth\": 0, \"ticks\": \"\"}}, \"type\": \"scattercarpet\"}], \"scattergeo\": [{\"marker\": {\"colorbar\": {\"outlinewidth\": 0, \"ticks\": \"\"}}, \"type\": \"scattergeo\"}], \"scattergl\": [{\"marker\": {\"colorbar\": {\"outlinewidth\": 0, \"ticks\": \"\"}}, \"type\": \"scattergl\"}], \"scattermapbox\": [{\"marker\": {\"colorbar\": {\"outlinewidth\": 0, \"ticks\": \"\"}}, \"type\": \"scattermapbox\"}], \"scatterpolar\": [{\"marker\": {\"colorbar\": {\"outlinewidth\": 0, \"ticks\": \"\"}}, \"type\": \"scatterpolar\"}], \"scatterpolargl\": [{\"marker\": {\"colorbar\": {\"outlinewidth\": 0, \"ticks\": \"\"}}, \"type\": \"scatterpolargl\"}], \"scatterternary\": [{\"marker\": {\"colorbar\": {\"outlinewidth\": 0, \"ticks\": \"\"}}, \"type\": \"scatterternary\"}], \"surface\": [{\"colorbar\": {\"outlinewidth\": 0, \"ticks\": \"\"}, \"colorscale\": [[0.0, \"#0d0887\"], [0.1111111111111111, \"#46039f\"], [0.2222222222222222, \"#7201a8\"], [0.3333333333333333, \"#9c179e\"], [0.4444444444444444, \"#bd3786\"], [0.5555555555555556, \"#d8576b\"], [0.6666666666666666, \"#ed7953\"], [0.7777777777777778, \"#fb9f3a\"], [0.8888888888888888, \"#fdca26\"], [1.0, \"#f0f921\"]], \"type\": \"surface\"}], \"table\": [{\"cells\": {\"fill\": {\"color\": \"#EBF0F8\"}, \"line\": {\"color\": \"white\"}}, \"header\": {\"fill\": {\"color\": \"#C8D4E3\"}, \"line\": {\"color\": \"white\"}}, \"type\": \"table\"}]}, \"layout\": {\"annotationdefaults\": {\"arrowcolor\": \"#2a3f5f\", \"arrowhead\": 0, \"arrowwidth\": 1}, \"coloraxis\": {\"colorbar\": {\"outlinewidth\": 0, \"ticks\": \"\"}}, \"colorscale\": {\"diverging\": [[0, \"#8e0152\"], [0.1, \"#c51b7d\"], [0.2, \"#de77ae\"], [0.3, \"#f1b6da\"], [0.4, \"#fde0ef\"], [0.5, \"#f7f7f7\"], [0.6, \"#e6f5d0\"], [0.7, \"#b8e186\"], [0.8, \"#7fbc41\"], [0.9, \"#4d9221\"], [1, \"#276419\"]], \"sequential\": [[0.0, \"#0d0887\"], [0.1111111111111111, \"#46039f\"], [0.2222222222222222, \"#7201a8\"], [0.3333333333333333, \"#9c179e\"], [0.4444444444444444, \"#bd3786\"], [0.5555555555555556, \"#d8576b\"], [0.6666666666666666, \"#ed7953\"], [0.7777777777777778, \"#fb9f3a\"], [0.8888888888888888, \"#fdca26\"], [1.0, \"#f0f921\"]], \"sequentialminus\": [[0.0, \"#0d0887\"], [0.1111111111111111, \"#46039f\"], [0.2222222222222222, \"#7201a8\"], [0.3333333333333333, \"#9c179e\"], [0.4444444444444444, \"#bd3786\"], [0.5555555555555556, \"#d8576b\"], [0.6666666666666666, \"#ed7953\"], [0.7777777777777778, \"#fb9f3a\"], [0.8888888888888888, \"#fdca26\"], [1.0, \"#f0f921\"]]}, \"colorway\": [\"#636efa\", \"#EF553B\", \"#00cc96\", \"#ab63fa\", \"#FFA15A\", \"#19d3f3\", \"#FF6692\", \"#B6E880\", \"#FF97FF\", \"#FECB52\"], \"font\": {\"color\": \"#2a3f5f\"}, \"geo\": {\"bgcolor\": \"white\", \"lakecolor\": \"white\", \"landcolor\": \"#E5ECF6\", \"showlakes\": true, \"showland\": true, \"subunitcolor\": \"white\"}, \"hoverlabel\": {\"align\": \"left\"}, \"hovermode\": \"closest\", \"mapbox\": {\"style\": \"light\"}, \"paper_bgcolor\": \"white\", \"plot_bgcolor\": \"#E5ECF6\", \"polar\": {\"angularaxis\": {\"gridcolor\": \"white\", \"linecolor\": \"white\", \"ticks\": \"\"}, \"bgcolor\": \"#E5ECF6\", \"radialaxis\": {\"gridcolor\": \"white\", \"linecolor\": \"white\", \"ticks\": \"\"}}, \"scene\": {\"xaxis\": {\"backgroundcolor\": \"#E5ECF6\", \"gridcolor\": \"white\", \"gridwidth\": 2, \"linecolor\": \"white\", \"showbackground\": true, \"ticks\": \"\", \"zerolinecolor\": \"white\"}, \"yaxis\": {\"backgroundcolor\": \"#E5ECF6\", \"gridcolor\": \"white\", \"gridwidth\": 2, \"linecolor\": \"white\", \"showbackground\": true, \"ticks\": \"\", \"zerolinecolor\": \"white\"}, \"zaxis\": {\"backgroundcolor\": \"#E5ECF6\", \"gridcolor\": \"white\", \"gridwidth\": 2, \"linecolor\": \"white\", \"showbackground\": true, \"ticks\": \"\", \"zerolinecolor\": \"white\"}}, \"shapedefaults\": {\"line\": {\"color\": \"#2a3f5f\"}}, \"ternary\": {\"aaxis\": {\"gridcolor\": \"white\", \"linecolor\": \"white\", \"ticks\": \"\"}, \"baxis\": {\"gridcolor\": \"white\", \"linecolor\": \"white\", \"ticks\": \"\"}, \"bgcolor\": \"#E5ECF6\", \"caxis\": {\"gridcolor\": \"white\", \"linecolor\": \"white\", \"ticks\": \"\"}}, \"title\": {\"x\": 0.05}, \"xaxis\": {\"automargin\": true, \"gridcolor\": \"white\", \"linecolor\": \"white\", \"ticks\": \"\", \"title\": {\"standoff\": 15}, \"zerolinecolor\": \"white\", \"zerolinewidth\": 2}, \"yaxis\": {\"automargin\": true, \"gridcolor\": \"white\", \"linecolor\": \"white\", \"ticks\": \"\", \"title\": {\"standoff\": 15}, \"zerolinecolor\": \"white\", \"zerolinewidth\": 2}}}, \"title\": {\"text\": \"G\\u00e9nero(Hombre, Mujer)\"}},\n",
       "                        {\"responsive\": true}\n",
       "                    ).then(function(){\n",
       "                            \n",
       "var gd = document.getElementById('483f2255-601e-4792-baba-4a846d609587');\n",
       "var x = new MutationObserver(function (mutations, observer) {{\n",
       "        var display = window.getComputedStyle(gd).display;\n",
       "        if (!display || display === 'none') {{\n",
       "            console.log([gd, 'removed!']);\n",
       "            Plotly.purge(gd);\n",
       "            observer.disconnect();\n",
       "        }}\n",
       "}});\n",
       "\n",
       "// Listen for the removal of the full notebook cells\n",
       "var notebookContainer = gd.closest('#notebook-container');\n",
       "if (notebookContainer) {{\n",
       "    x.observe(notebookContainer, {childList: true});\n",
       "}}\n",
       "\n",
       "// Listen for the clearing of the current output cell\n",
       "var outputEl = gd.closest('.output');\n",
       "if (outputEl) {{\n",
       "    x.observe(outputEl, {childList: true});\n",
       "}}\n",
       "\n",
       "                        })\n",
       "                };\n",
       "                });\n",
       "            </script>\n",
       "        </div>"
      ]
     },
     "metadata": {},
     "output_type": "display_data"
    }
   ],
   "source": [
    "trace=go.Pie(labels=AnalisisFrecuenciaXGenero[col],values=AnalisisFrecuenciaXGenero['count'],pull=[0.05,0])\n",
    "layout={'title':'Género(Hombre, Mujer)'}\n",
    "fig=go.Figure(data=[trace],layout=layout)\n",
    "iplot(fig)"
   ]
  },
  {
   "cell_type": "markdown",
   "metadata": {},
   "source": [
    "## Distribución Edad"
   ]
  },
  {
   "cell_type": "code",
   "execution_count": 23,
   "metadata": {},
   "outputs": [
    {
     "data": {
      "image/png": "[encoded data removed]",
      "text/plain": [
       "<Figure size 9000x1500 with 1 Axes>"
      ]
     },
     "metadata": {},
     "output_type": "display_data"
    }
   ],
   "source": [
    "plt.figure(figsize=(90,15))\n",
    "plt.subplot(1,3,1)\n",
    "sns.distplot(df[\"Edad\"])\n",
    "plt.title('Distribución Edad')\n",
    "\n",
    "plt.show()"
   ]
  },
  {
   "cell_type": "code",
   "execution_count": 24,
   "metadata": {},
   "outputs": [],
   "source": [
    "x=df"
   ]
  },
  {
   "cell_type": "code",
   "execution_count": 25,
   "metadata": {},
   "outputs": [],
   "source": [
    "d1=x[x['Sexo']=='M']"
   ]
  },
  {
   "cell_type": "code",
   "execution_count": 26,
   "metadata": {},
   "outputs": [
    {
     "data": {
      "text/html": [
       "<div>\n",
       "<style scoped>\n",
       "    .dataframe tbody tr th:only-of-type {\n",
       "        vertical-align: middle;\n",
       "    }\n",
       "\n",
       "    .dataframe tbody tr th {\n",
       "        vertical-align: top;\n",
       "    }\n",
       "\n",
       "    .dataframe thead th {\n",
       "        text-align: right;\n",
       "    }\n",
       "</style>\n",
       "<table border=\"1\" class=\"dataframe\">\n",
       "  <thead>\n",
       "    <tr style=\"text-align: right;\">\n",
       "      <th></th>\n",
       "      <th>index</th>\n",
       "      <th>NumCaso</th>\n",
       "      <th>Estado</th>\n",
       "      <th>Sexo</th>\n",
       "      <th>Edad</th>\n",
       "      <th>Fecha_de_Inicio_de_Síntomas</th>\n",
       "      <th>IdentificacionRT-PCR_COVID19(tiemporeal)</th>\n",
       "      <th>Procedencia</th>\n",
       "      <th>Llegada_México</th>\n",
       "    </tr>\n",
       "  </thead>\n",
       "  <tbody>\n",
       "    <tr>\n",
       "      <td>0</td>\n",
       "      <td>313</td>\n",
       "      <td>314</td>\n",
       "      <td>MÉXICO</td>\n",
       "      <td>M</td>\n",
       "      <td>44</td>\n",
       "      <td>2020-02-19</td>\n",
       "      <td>confirmado</td>\n",
       "      <td>Italia</td>\n",
       "      <td>22/02/2020</td>\n",
       "    </tr>\n",
       "    <tr>\n",
       "      <td>1</td>\n",
       "      <td>5</td>\n",
       "      <td>6</td>\n",
       "      <td>MÉXICO</td>\n",
       "      <td>M</td>\n",
       "      <td>71</td>\n",
       "      <td>2020-02-21</td>\n",
       "      <td>confirmado</td>\n",
       "      <td>Italia</td>\n",
       "      <td>21/02/2020</td>\n",
       "    </tr>\n",
       "    <tr>\n",
       "      <td>2</td>\n",
       "      <td>0</td>\n",
       "      <td>1</td>\n",
       "      <td>CDMX</td>\n",
       "      <td>M</td>\n",
       "      <td>35</td>\n",
       "      <td>2020-02-22</td>\n",
       "      <td>confirmado</td>\n",
       "      <td>Italia</td>\n",
       "      <td>22/02/2020</td>\n",
       "    </tr>\n",
       "    <tr>\n",
       "      <td>3</td>\n",
       "      <td>1</td>\n",
       "      <td>2</td>\n",
       "      <td>SINALOA</td>\n",
       "      <td>M</td>\n",
       "      <td>41</td>\n",
       "      <td>2020-02-22</td>\n",
       "      <td>confirmado</td>\n",
       "      <td>Italia</td>\n",
       "      <td>21/02/2020</td>\n",
       "    </tr>\n",
       "    <tr>\n",
       "      <td>4</td>\n",
       "      <td>2</td>\n",
       "      <td>3</td>\n",
       "      <td>CDMX</td>\n",
       "      <td>M</td>\n",
       "      <td>59</td>\n",
       "      <td>2020-02-23</td>\n",
       "      <td>confirmado</td>\n",
       "      <td>Italia</td>\n",
       "      <td>22/02/2020</td>\n",
       "    </tr>\n",
       "    <tr>\n",
       "      <td>...</td>\n",
       "      <td>...</td>\n",
       "      <td>...</td>\n",
       "      <td>...</td>\n",
       "      <td>...</td>\n",
       "      <td>...</td>\n",
       "      <td>...</td>\n",
       "      <td>...</td>\n",
       "      <td>...</td>\n",
       "      <td>...</td>\n",
       "    </tr>\n",
       "    <tr>\n",
       "      <td>841</td>\n",
       "      <td>741</td>\n",
       "      <td>742</td>\n",
       "      <td>SINALOA</td>\n",
       "      <td>M</td>\n",
       "      <td>43</td>\n",
       "      <td>2020-03-25</td>\n",
       "      <td>confirmado</td>\n",
       "      <td>Contacto</td>\n",
       "      <td>NaN</td>\n",
       "    </tr>\n",
       "    <tr>\n",
       "      <td>842</td>\n",
       "      <td>561</td>\n",
       "      <td>562</td>\n",
       "      <td>QUINTANA_ROO</td>\n",
       "      <td>M</td>\n",
       "      <td>75</td>\n",
       "      <td>2020-03-25</td>\n",
       "      <td>confirmado</td>\n",
       "      <td>Contacto</td>\n",
       "      <td>20/03/2020</td>\n",
       "    </tr>\n",
       "    <tr>\n",
       "      <td>843</td>\n",
       "      <td>805</td>\n",
       "      <td>806</td>\n",
       "      <td>GUANAJUATO</td>\n",
       "      <td>M</td>\n",
       "      <td>30</td>\n",
       "      <td>2020-03-25</td>\n",
       "      <td>confirmado</td>\n",
       "      <td>Contacto</td>\n",
       "      <td>NaN</td>\n",
       "    </tr>\n",
       "    <tr>\n",
       "      <td>845</td>\n",
       "      <td>837</td>\n",
       "      <td>838</td>\n",
       "      <td>TABASCO</td>\n",
       "      <td>M</td>\n",
       "      <td>58</td>\n",
       "      <td>2020-03-26</td>\n",
       "      <td>confirmado</td>\n",
       "      <td>Contacto</td>\n",
       "      <td>NaN</td>\n",
       "    </tr>\n",
       "    <tr>\n",
       "      <td>846</td>\n",
       "      <td>845</td>\n",
       "      <td>846</td>\n",
       "      <td>MÉXICO</td>\n",
       "      <td>M</td>\n",
       "      <td>35</td>\n",
       "      <td>2020-03-26</td>\n",
       "      <td>confirmado</td>\n",
       "      <td>EUA</td>\n",
       "      <td>15/03/2020</td>\n",
       "    </tr>\n",
       "  </tbody>\n",
       "</table>\n",
       "<p>487 rows × 9 columns</p>\n",
       "</div>"
      ],
      "text/plain": [
       "     index  NumCaso        Estado Sexo  Edad Fecha_de_Inicio_de_Síntomas  \\\n",
       "0      313      314        MÉXICO    M    44                  2020-02-19   \n",
       "1        5        6        MÉXICO    M    71                  2020-02-21   \n",
       "2        0        1          CDMX    M    35                  2020-02-22   \n",
       "3        1        2       SINALOA    M    41                  2020-02-22   \n",
       "4        2        3          CDMX    M    59                  2020-02-23   \n",
       "..     ...      ...           ...  ...   ...                         ...   \n",
       "841    741      742       SINALOA    M    43                  2020-03-25   \n",
       "842    561      562  QUINTANA_ROO    M    75                  2020-03-25   \n",
       "843    805      806    GUANAJUATO    M    30                  2020-03-25   \n",
       "845    837      838       TABASCO    M    58                  2020-03-26   \n",
       "846    845      846        MÉXICO    M    35                  2020-03-26   \n",
       "\n",
       "    IdentificacionRT-PCR_COVID19(tiemporeal) Procedencia Llegada_México  \n",
       "0                                 confirmado      Italia     22/02/2020  \n",
       "1                                 confirmado      Italia     21/02/2020  \n",
       "2                                 confirmado      Italia     22/02/2020  \n",
       "3                                 confirmado      Italia     21/02/2020  \n",
       "4                                 confirmado      Italia     22/02/2020  \n",
       "..                                       ...         ...            ...  \n",
       "841                               confirmado    Contacto            NaN  \n",
       "842                               confirmado    Contacto     20/03/2020  \n",
       "843                               confirmado    Contacto            NaN  \n",
       "845                               confirmado    Contacto            NaN  \n",
       "846                               confirmado         EUA     15/03/2020  \n",
       "\n",
       "[487 rows x 9 columns]"
      ]
     },
     "execution_count": 26,
     "metadata": {},
     "output_type": "execute_result"
    }
   ],
   "source": [
    "d1"
   ]
  },
  {
   "cell_type": "code",
   "execution_count": 27,
   "metadata": {},
   "outputs": [],
   "source": [
    "d2=x[x['Sexo']=='F']"
   ]
  },
  {
   "cell_type": "code",
   "execution_count": 28,
   "metadata": {},
   "outputs": [
    {
     "data": {
      "text/html": [
       "<div>\n",
       "<style scoped>\n",
       "    .dataframe tbody tr th:only-of-type {\n",
       "        vertical-align: middle;\n",
       "    }\n",
       "\n",
       "    .dataframe tbody tr th {\n",
       "        vertical-align: top;\n",
       "    }\n",
       "\n",
       "    .dataframe thead th {\n",
       "        text-align: right;\n",
       "    }\n",
       "</style>\n",
       "<table border=\"1\" class=\"dataframe\">\n",
       "  <thead>\n",
       "    <tr style=\"text-align: right;\">\n",
       "      <th></th>\n",
       "      <th>index</th>\n",
       "      <th>NumCaso</th>\n",
       "      <th>Estado</th>\n",
       "      <th>Sexo</th>\n",
       "      <th>Edad</th>\n",
       "      <th>Fecha_de_Inicio_de_Síntomas</th>\n",
       "      <th>IdentificacionRT-PCR_COVID19(tiemporeal)</th>\n",
       "      <th>Procedencia</th>\n",
       "      <th>Llegada_México</th>\n",
       "    </tr>\n",
       "  </thead>\n",
       "  <tbody>\n",
       "    <tr>\n",
       "      <td>5</td>\n",
       "      <td>4</td>\n",
       "      <td>5</td>\n",
       "      <td>CHIAPAS</td>\n",
       "      <td>F</td>\n",
       "      <td>18</td>\n",
       "      <td>2020-02-25</td>\n",
       "      <td>confirmado</td>\n",
       "      <td>Italia</td>\n",
       "      <td>25/02/2020</td>\n",
       "    </tr>\n",
       "    <tr>\n",
       "      <td>6</td>\n",
       "      <td>3</td>\n",
       "      <td>4</td>\n",
       "      <td>COAHUILA</td>\n",
       "      <td>F</td>\n",
       "      <td>20</td>\n",
       "      <td>2020-02-27</td>\n",
       "      <td>confirmado</td>\n",
       "      <td>Italia</td>\n",
       "      <td>25/02/2020</td>\n",
       "    </tr>\n",
       "    <tr>\n",
       "      <td>8</td>\n",
       "      <td>686</td>\n",
       "      <td>687</td>\n",
       "      <td>JALISCO</td>\n",
       "      <td>F</td>\n",
       "      <td>50</td>\n",
       "      <td>2020-03-01</td>\n",
       "      <td>confirmado</td>\n",
       "      <td>EUA</td>\n",
       "      <td>NaN</td>\n",
       "    </tr>\n",
       "    <tr>\n",
       "      <td>9</td>\n",
       "      <td>32</td>\n",
       "      <td>33</td>\n",
       "      <td>JALISCO</td>\n",
       "      <td>F</td>\n",
       "      <td>64</td>\n",
       "      <td>2020-03-01</td>\n",
       "      <td>confirmado</td>\n",
       "      <td>Alemania</td>\n",
       "      <td>09/03/2020</td>\n",
       "    </tr>\n",
       "    <tr>\n",
       "      <td>10</td>\n",
       "      <td>25</td>\n",
       "      <td>26</td>\n",
       "      <td>QUINTANA_ROO</td>\n",
       "      <td>F</td>\n",
       "      <td>71</td>\n",
       "      <td>2020-03-01</td>\n",
       "      <td>confirmado</td>\n",
       "      <td>Italia</td>\n",
       "      <td>01/03/2020</td>\n",
       "    </tr>\n",
       "    <tr>\n",
       "      <td>...</td>\n",
       "      <td>...</td>\n",
       "      <td>...</td>\n",
       "      <td>...</td>\n",
       "      <td>...</td>\n",
       "      <td>...</td>\n",
       "      <td>...</td>\n",
       "      <td>...</td>\n",
       "      <td>...</td>\n",
       "      <td>...</td>\n",
       "    </tr>\n",
       "    <tr>\n",
       "      <td>838</td>\n",
       "      <td>716</td>\n",
       "      <td>717</td>\n",
       "      <td>AGUASCALIENTES</td>\n",
       "      <td>F</td>\n",
       "      <td>5</td>\n",
       "      <td>2020-03-25</td>\n",
       "      <td>confirmado</td>\n",
       "      <td>Contacto</td>\n",
       "      <td>25/03/2020</td>\n",
       "    </tr>\n",
       "    <tr>\n",
       "      <td>839</td>\n",
       "      <td>718</td>\n",
       "      <td>719</td>\n",
       "      <td>AGUASCALIENTES</td>\n",
       "      <td>F</td>\n",
       "      <td>37</td>\n",
       "      <td>2020-03-25</td>\n",
       "      <td>confirmado</td>\n",
       "      <td>Contacto</td>\n",
       "      <td>NaN</td>\n",
       "    </tr>\n",
       "    <tr>\n",
       "      <td>840</td>\n",
       "      <td>824</td>\n",
       "      <td>825</td>\n",
       "      <td>CDMX</td>\n",
       "      <td>F</td>\n",
       "      <td>35</td>\n",
       "      <td>2020-03-25</td>\n",
       "      <td>confirmado</td>\n",
       "      <td>Contacto</td>\n",
       "      <td>NaN</td>\n",
       "    </tr>\n",
       "    <tr>\n",
       "      <td>844</td>\n",
       "      <td>835</td>\n",
       "      <td>836</td>\n",
       "      <td>MÉXICO</td>\n",
       "      <td>F</td>\n",
       "      <td>73</td>\n",
       "      <td>2020-03-26</td>\n",
       "      <td>confirmado</td>\n",
       "      <td>Contacto</td>\n",
       "      <td>NaN</td>\n",
       "    </tr>\n",
       "    <tr>\n",
       "      <td>847</td>\n",
       "      <td>847</td>\n",
       "      <td>848</td>\n",
       "      <td>MÉXICO</td>\n",
       "      <td>F</td>\n",
       "      <td>61</td>\n",
       "      <td>2020-03-26</td>\n",
       "      <td>confirmado</td>\n",
       "      <td>EUA</td>\n",
       "      <td>15/03/2020</td>\n",
       "    </tr>\n",
       "  </tbody>\n",
       "</table>\n",
       "<p>361 rows × 9 columns</p>\n",
       "</div>"
      ],
      "text/plain": [
       "     index  NumCaso          Estado Sexo  Edad Fecha_de_Inicio_de_Síntomas  \\\n",
       "5        4        5         CHIAPAS    F    18                  2020-02-25   \n",
       "6        3        4        COAHUILA    F    20                  2020-02-27   \n",
       "8      686      687         JALISCO    F    50                  2020-03-01   \n",
       "9       32       33         JALISCO    F    64                  2020-03-01   \n",
       "10      25       26    QUINTANA_ROO    F    71                  2020-03-01   \n",
       "..     ...      ...             ...  ...   ...                         ...   \n",
       "838    716      717  AGUASCALIENTES    F     5                  2020-03-25   \n",
       "839    718      719  AGUASCALIENTES    F    37                  2020-03-25   \n",
       "840    824      825            CDMX    F    35                  2020-03-25   \n",
       "844    835      836          MÉXICO    F    73                  2020-03-26   \n",
       "847    847      848          MÉXICO    F    61                  2020-03-26   \n",
       "\n",
       "    IdentificacionRT-PCR_COVID19(tiemporeal) Procedencia Llegada_México  \n",
       "5                                 confirmado      Italia     25/02/2020  \n",
       "6                                 confirmado      Italia     25/02/2020  \n",
       "8                                 confirmado         EUA            NaN  \n",
       "9                                 confirmado    Alemania     09/03/2020  \n",
       "10                                confirmado      Italia     01/03/2020  \n",
       "..                                       ...         ...            ...  \n",
       "838                               confirmado    Contacto     25/03/2020  \n",
       "839                               confirmado    Contacto            NaN  \n",
       "840                               confirmado    Contacto            NaN  \n",
       "844                               confirmado    Contacto            NaN  \n",
       "847                               confirmado         EUA     15/03/2020  \n",
       "\n",
       "[361 rows x 9 columns]"
      ]
     },
     "execution_count": 28,
     "metadata": {},
     "output_type": "execute_result"
    }
   ],
   "source": [
    "d2"
   ]
  },
  {
   "cell_type": "code",
   "execution_count": 29,
   "metadata": {},
   "outputs": [
    {
     "data": {
      "application/vnd.plotly.v1+json": {
       "config": {
        "linkText": "Export to plot.ly",
        "plotlyServerURL": "https://plot.ly",
        "showLink": false
       },
       "data": [
        {
         "marker": {
          "color": "rgb(63, 72, 204)"
         },
         "name": "0",
         "type": "bar",
         "x": [
          0,
          5,
          10,
          11,
          12,
          13,
          16,
          17,
          18,
          19,
          20,
          21,
          22,
          23,
          24,
          25,
          26,
          27,
          28,
          29,
          30,
          31,
          32,
          33,
          34,
          35,
          36,
          37,
          38,
          39,
          40,
          41,
          42,
          43,
          44,
          45,
          46,
          47,
          48,
          49,
          50,
          51,
          52,
          53,
          54,
          55,
          56,
          57,
          58,
          59,
          60,
          61,
          62,
          63,
          64,
          65,
          66,
          67,
          68,
          69,
          70,
          71,
          72,
          73,
          74,
          75,
          76,
          77,
          78,
          79,
          80,
          81,
          82,
          88
         ],
         "y": [
          1,
          1,
          1,
          1,
          1,
          1,
          3,
          3,
          7,
          14,
          13,
          19,
          11,
          12,
          17,
          17,
          17,
          20,
          16,
          25,
          26,
          23,
          16,
          23,
          15,
          25,
          14,
          19,
          20,
          15,
          18,
          19,
          25,
          21,
          13,
          13,
          18,
          19,
          14,
          20,
          15,
          16,
          13,
          19,
          11,
          12,
          14,
          11,
          13,
          12,
          14,
          10,
          8,
          11,
          11,
          8,
          8,
          5,
          4,
          3,
          4,
          7,
          10,
          5,
          6,
          4,
          5,
          4,
          1,
          2,
          3,
          1,
          1,
          1
         ]
        }
       ],
       "layout": {
        "template": {
         "data": {
          "pie": [
           {
            "automargin": true,
            "type": "pie"
           }
          ],
          "scatter": [
           {
            "line": {
             "width": 3
            },
            "marker": {
             "size": 9
            },
            "type": "scatter"
           }
          ],
          "scatter3d": [
           {
            "line": {
             "width": 3
            },
            "marker": {
             "size": 9
            },
            "type": "scatter3d"
           }
          ],
          "scattergeo": [
           {
            "line": {
             "width": 3
            },
            "marker": {
             "size": 9
            },
            "type": "scattergeo"
           }
          ],
          "scattergl": [
           {
            "line": {
             "width": 3
            },
            "marker": {
             "size": 9
            },
            "type": "scattergl"
           }
          ],
          "scatterpolar": [
           {
            "line": {
             "width": 3
            },
            "marker": {
             "size": 9
            },
            "type": "scatterpolar"
           }
          ],
          "scatterpolargl": [
           {
            "line": {
             "width": 3
            },
            "marker": {
             "size": 9
            },
            "type": "scatterpolargl"
           }
          ],
          "scatterternary": [
           {
            "line": {
             "width": 3
            },
            "marker": {
             "size": 9
            },
            "type": "scatterternary"
           }
          ],
          "table": [
           {
            "cells": {
             "height": 30
            },
            "header": {
             "height": 36
            },
            "type": "table"
           }
          ]
         },
         "layout": {
          "font": {
           "size": 18
          },
          "xaxis": {
           "title": {
            "standoff": 15
           }
          },
          "yaxis": {
           "title": {
            "standoff": 15
           }
          }
         }
        },
        "title": {
         "text": "Distribución X Edad "
        },
        "xaxis": {
         "title": {
          "text": "Edad"
         }
        },
        "yaxis": {
         "title": {
          "text": "Frecuencia"
         }
        }
       }
      },
      "text/html": [
       "<div>\n",
       "        \n",
       "        \n",
       "            <div id=\"a14760e4-5a9f-4229-abef-4aeb7003e208\" class=\"plotly-graph-div\" style=\"height:525px; width:100%;\"></div>\n",
       "            <script type=\"text/javascript\">\n",
       "                require([\"plotly\"], function(Plotly) {\n",
       "                    window.PLOTLYENV=window.PLOTLYENV || {};\n",
       "                    \n",
       "                if (document.getElementById(\"a14760e4-5a9f-4229-abef-4aeb7003e208\")) {\n",
       "                    Plotly.newPlot(\n",
       "                        'a14760e4-5a9f-4229-abef-4aeb7003e208',\n",
       "                        [{\"marker\": {\"color\": \"rgb(63, 72, 204)\"}, \"name\": \"0\", \"type\": \"bar\", \"x\": [0, 5, 10, 11, 12, 13, 16, 17, 18, 19, 20, 21, 22, 23, 24, 25, 26, 27, 28, 29, 30, 31, 32, 33, 34, 35, 36, 37, 38, 39, 40, 41, 42, 43, 44, 45, 46, 47, 48, 49, 50, 51, 52, 53, 54, 55, 56, 57, 58, 59, 60, 61, 62, 63, 64, 65, 66, 67, 68, 69, 70, 71, 72, 73, 74, 75, 76, 77, 78, 79, 80, 81, 82, 88], \"y\": [1, 1, 1, 1, 1, 1, 3, 3, 7, 14, 13, 19, 11, 12, 17, 17, 17, 20, 16, 25, 26, 23, 16, 23, 15, 25, 14, 19, 20, 15, 18, 19, 25, 21, 13, 13, 18, 19, 14, 20, 15, 16, 13, 19, 11, 12, 14, 11, 13, 12, 14, 10, 8, 11, 11, 8, 8, 5, 4, 3, 4, 7, 10, 5, 6, 4, 5, 4, 1, 2, 3, 1, 1, 1]}],\n",
       "                        {\"template\": {\"data\": {\"pie\": [{\"automargin\": true, \"type\": \"pie\"}], \"scatter\": [{\"line\": {\"width\": 3}, \"marker\": {\"size\": 9}, \"type\": \"scatter\"}], \"scatter3d\": [{\"line\": {\"width\": 3}, \"marker\": {\"size\": 9}, \"type\": \"scatter3d\"}], \"scattergeo\": [{\"line\": {\"width\": 3}, \"marker\": {\"size\": 9}, \"type\": \"scattergeo\"}], \"scattergl\": [{\"line\": {\"width\": 3}, \"marker\": {\"size\": 9}, \"type\": \"scattergl\"}], \"scatterpolar\": [{\"line\": {\"width\": 3}, \"marker\": {\"size\": 9}, \"type\": \"scatterpolar\"}], \"scatterpolargl\": [{\"line\": {\"width\": 3}, \"marker\": {\"size\": 9}, \"type\": \"scatterpolargl\"}], \"scatterternary\": [{\"line\": {\"width\": 3}, \"marker\": {\"size\": 9}, \"type\": \"scatterternary\"}], \"table\": [{\"cells\": {\"height\": 30}, \"header\": {\"height\": 36}, \"type\": \"table\"}]}, \"layout\": {\"font\": {\"size\": 18}, \"xaxis\": {\"title\": {\"standoff\": 15}}, \"yaxis\": {\"title\": {\"standoff\": 15}}}}, \"title\": {\"text\": \"Distribuci\\u00f3n X Edad \"}, \"xaxis\": {\"title\": {\"text\": \"Edad\"}}, \"yaxis\": {\"title\": {\"text\": \"Frecuencia\"}}},\n",
       "                        {\"responsive\": true}\n",
       "                    ).then(function(){\n",
       "                            \n",
       "var gd = document.getElementById('a14760e4-5a9f-4229-abef-4aeb7003e208');\n",
       "var x = new MutationObserver(function (mutations, observer) {{\n",
       "        var display = window.getComputedStyle(gd).display;\n",
       "        if (!display || display === 'none') {{\n",
       "            console.log([gd, 'removed!']);\n",
       "            Plotly.purge(gd);\n",
       "            observer.disconnect();\n",
       "        }}\n",
       "}});\n",
       "\n",
       "// Listen for the removal of the full notebook cells\n",
       "var notebookContainer = gd.closest('#notebook-container');\n",
       "if (notebookContainer) {{\n",
       "    x.observe(notebookContainer, {childList: true});\n",
       "}}\n",
       "\n",
       "// Listen for the clearing of the current output cell\n",
       "var outputEl = gd.closest('.output');\n",
       "if (outputEl) {{\n",
       "    x.observe(outputEl, {childList: true});\n",
       "}}\n",
       "\n",
       "                        })\n",
       "                };\n",
       "                });\n",
       "            </script>\n",
       "        </div>"
      ]
     },
     "metadata": {},
     "output_type": "display_data"
    }
   ],
   "source": [
    "x=df\n",
    "col='Edad'\n",
    "v1=x[col].value_counts().reset_index()\n",
    "v1=v1.rename(columns={col:'count','index':col})\n",
    "v1['percent']=v1['count'].apply(lambda x: 100 *x/sum(v1['count']))\n",
    "v1=v1.sort_values(col)\n",
    "trace1=go.Bar(x=v1[col],y=v1[\"count\"],name=\"0\",marker=dict(color=\"rgb(63, 72, 204)\"))\n",
    "y=[trace1]\n",
    "layout={'title':\"Distribución X Edad \",'xaxis':{'title':\"Edad\"},'yaxis':{'title':\"Frecuencia\"}}\n",
    "fig=go.Figure(data=y,layout=layout)\n",
    "fig.layout.template='presentation'\n",
    "iplot(fig)"
   ]
  },
  {
   "cell_type": "code",
   "execution_count": 30,
   "metadata": {},
   "outputs": [
    {
     "data": {
      "application/vnd.plotly.v1+json": {
       "config": {
        "linkText": "Export to plot.ly",
        "plotlyServerURL": "https://plot.ly",
        "showLink": false
       },
       "data": [
        {
         "marker": {
          "color": "#ff7f0e"
         },
         "name": "Hombre",
         "type": "scatter",
         "x": [
          0,
          10,
          11,
          16,
          17,
          18,
          19,
          20,
          21,
          22,
          23,
          24,
          25,
          26,
          27,
          28,
          29,
          30,
          31,
          32,
          33,
          34,
          35,
          36,
          37,
          38,
          39,
          40,
          41,
          42,
          43,
          44,
          45,
          46,
          47,
          48,
          49,
          50,
          51,
          52,
          53,
          54,
          55,
          56,
          57,
          58,
          59,
          60,
          61,
          62,
          63,
          64,
          65,
          66,
          67,
          68,
          69,
          70,
          71,
          72,
          73,
          74,
          75,
          76,
          77,
          79,
          80
         ],
         "y": [
          1,
          1,
          1,
          1,
          2,
          2,
          5,
          5,
          13,
          3,
          6,
          9,
          11,
          9,
          11,
          10,
          16,
          12,
          13,
          9,
          10,
          8,
          15,
          9,
          13,
          13,
          11,
          11,
          14,
          20,
          15,
          11,
          9,
          15,
          9,
          6,
          6,
          6,
          14,
          6,
          12,
          4,
          8,
          7,
          3,
          11,
          5,
          8,
          5,
          2,
          5,
          7,
          4,
          2,
          4,
          1,
          1,
          3,
          5,
          10,
          3,
          2,
          3,
          4,
          4,
          1,
          2
         ]
        },
        {
         "marker": {
          "color": "#a678de"
         },
         "name": "Mujer",
         "type": "scatter",
         "x": [
          5,
          12,
          13,
          16,
          17,
          18,
          19,
          20,
          21,
          22,
          23,
          24,
          25,
          26,
          27,
          28,
          29,
          30,
          31,
          32,
          33,
          34,
          35,
          36,
          37,
          38,
          39,
          40,
          41,
          42,
          43,
          44,
          45,
          46,
          47,
          48,
          49,
          50,
          51,
          52,
          53,
          54,
          55,
          56,
          57,
          58,
          59,
          60,
          61,
          62,
          63,
          64,
          65,
          66,
          67,
          68,
          69,
          70,
          71,
          73,
          74,
          75,
          76,
          78,
          79,
          80,
          81,
          82,
          88
         ],
         "y": [
          1,
          1,
          1,
          2,
          1,
          5,
          9,
          8,
          6,
          8,
          6,
          8,
          6,
          8,
          9,
          6,
          9,
          14,
          10,
          7,
          13,
          7,
          10,
          5,
          6,
          7,
          4,
          7,
          5,
          5,
          6,
          2,
          4,
          3,
          10,
          8,
          14,
          9,
          2,
          7,
          7,
          7,
          4,
          7,
          8,
          2,
          7,
          6,
          5,
          6,
          6,
          4,
          4,
          6,
          1,
          3,
          2,
          1,
          2,
          2,
          4,
          1,
          1,
          1,
          1,
          1,
          1,
          1,
          1
         ]
        }
       ],
       "layout": {
        "template": {
         "data": {
          "pie": [
           {
            "automargin": true,
            "type": "pie"
           }
          ],
          "scatter": [
           {
            "line": {
             "width": 3
            },
            "marker": {
             "size": 9
            },
            "type": "scatter"
           }
          ],
          "scatter3d": [
           {
            "line": {
             "width": 3
            },
            "marker": {
             "size": 9
            },
            "type": "scatter3d"
           }
          ],
          "scattergeo": [
           {
            "line": {
             "width": 3
            },
            "marker": {
             "size": 9
            },
            "type": "scattergeo"
           }
          ],
          "scattergl": [
           {
            "line": {
             "width": 3
            },
            "marker": {
             "size": 9
            },
            "type": "scattergl"
           }
          ],
          "scatterpolar": [
           {
            "line": {
             "width": 3
            },
            "marker": {
             "size": 9
            },
            "type": "scatterpolar"
           }
          ],
          "scatterpolargl": [
           {
            "line": {
             "width": 3
            },
            "marker": {
             "size": 9
            },
            "type": "scatterpolargl"
           }
          ],
          "scatterternary": [
           {
            "line": {
             "width": 3
            },
            "marker": {
             "size": 9
            },
            "type": "scatterternary"
           }
          ],
          "table": [
           {
            "cells": {
             "height": 30
            },
            "header": {
             "height": 36
            },
            "type": "table"
           }
          ]
         },
         "layout": {
          "font": {
           "size": 18
          },
          "xaxis": {
           "title": {
            "standoff": 15
           }
          },
          "yaxis": {
           "title": {
            "standoff": 15
           }
          }
         }
        },
        "title": {
         "text": "Comparación X Edad [[ Hombre vs Mujer ]] "
        },
        "xaxis": {
         "title": {
          "text": "Edad"
         }
        },
        "yaxis": {
         "title": {
          "text": "Frecuencia"
         }
        }
       }
      },
      "text/html": [
       "<div>\n",
       "        \n",
       "        \n",
       "            <div id=\"296a9dfe-9941-4b67-be9b-296a1726ba40\" class=\"plotly-graph-div\" style=\"height:525px; width:100%;\"></div>\n",
       "            <script type=\"text/javascript\">\n",
       "                require([\"plotly\"], function(Plotly) {\n",
       "                    window.PLOTLYENV=window.PLOTLYENV || {};\n",
       "                    \n",
       "                if (document.getElementById(\"296a9dfe-9941-4b67-be9b-296a1726ba40\")) {\n",
       "                    Plotly.newPlot(\n",
       "                        '296a9dfe-9941-4b67-be9b-296a1726ba40',\n",
       "                        [{\"marker\": {\"color\": \"#ff7f0e\"}, \"name\": \"Hombre\", \"type\": \"scatter\", \"x\": [0, 10, 11, 16, 17, 18, 19, 20, 21, 22, 23, 24, 25, 26, 27, 28, 29, 30, 31, 32, 33, 34, 35, 36, 37, 38, 39, 40, 41, 42, 43, 44, 45, 46, 47, 48, 49, 50, 51, 52, 53, 54, 55, 56, 57, 58, 59, 60, 61, 62, 63, 64, 65, 66, 67, 68, 69, 70, 71, 72, 73, 74, 75, 76, 77, 79, 80], \"y\": [1, 1, 1, 1, 2, 2, 5, 5, 13, 3, 6, 9, 11, 9, 11, 10, 16, 12, 13, 9, 10, 8, 15, 9, 13, 13, 11, 11, 14, 20, 15, 11, 9, 15, 9, 6, 6, 6, 14, 6, 12, 4, 8, 7, 3, 11, 5, 8, 5, 2, 5, 7, 4, 2, 4, 1, 1, 3, 5, 10, 3, 2, 3, 4, 4, 1, 2]}, {\"marker\": {\"color\": \"#a678de\"}, \"name\": \"Mujer\", \"type\": \"scatter\", \"x\": [5, 12, 13, 16, 17, 18, 19, 20, 21, 22, 23, 24, 25, 26, 27, 28, 29, 30, 31, 32, 33, 34, 35, 36, 37, 38, 39, 40, 41, 42, 43, 44, 45, 46, 47, 48, 49, 50, 51, 52, 53, 54, 55, 56, 57, 58, 59, 60, 61, 62, 63, 64, 65, 66, 67, 68, 69, 70, 71, 73, 74, 75, 76, 78, 79, 80, 81, 82, 88], \"y\": [1, 1, 1, 2, 1, 5, 9, 8, 6, 8, 6, 8, 6, 8, 9, 6, 9, 14, 10, 7, 13, 7, 10, 5, 6, 7, 4, 7, 5, 5, 6, 2, 4, 3, 10, 8, 14, 9, 2, 7, 7, 7, 4, 7, 8, 2, 7, 6, 5, 6, 6, 4, 4, 6, 1, 3, 2, 1, 2, 2, 4, 1, 1, 1, 1, 1, 1, 1, 1]}],\n",
       "                        {\"template\": {\"data\": {\"pie\": [{\"automargin\": true, \"type\": \"pie\"}], \"scatter\": [{\"line\": {\"width\": 3}, \"marker\": {\"size\": 9}, \"type\": \"scatter\"}], \"scatter3d\": [{\"line\": {\"width\": 3}, \"marker\": {\"size\": 9}, \"type\": \"scatter3d\"}], \"scattergeo\": [{\"line\": {\"width\": 3}, \"marker\": {\"size\": 9}, \"type\": \"scattergeo\"}], \"scattergl\": [{\"line\": {\"width\": 3}, \"marker\": {\"size\": 9}, \"type\": \"scattergl\"}], \"scatterpolar\": [{\"line\": {\"width\": 3}, \"marker\": {\"size\": 9}, \"type\": \"scatterpolar\"}], \"scatterpolargl\": [{\"line\": {\"width\": 3}, \"marker\": {\"size\": 9}, \"type\": \"scatterpolargl\"}], \"scatterternary\": [{\"line\": {\"width\": 3}, \"marker\": {\"size\": 9}, \"type\": \"scatterternary\"}], \"table\": [{\"cells\": {\"height\": 30}, \"header\": {\"height\": 36}, \"type\": \"table\"}]}, \"layout\": {\"font\": {\"size\": 18}, \"xaxis\": {\"title\": {\"standoff\": 15}}, \"yaxis\": {\"title\": {\"standoff\": 15}}}}, \"title\": {\"text\": \"Comparaci\\u00f3n X Edad [[ Hombre vs Mujer ]] \"}, \"xaxis\": {\"title\": {\"text\": \"Edad\"}}, \"yaxis\": {\"title\": {\"text\": \"Frecuencia\"}}},\n",
       "                        {\"responsive\": true}\n",
       "                    ).then(function(){\n",
       "                            \n",
       "var gd = document.getElementById('296a9dfe-9941-4b67-be9b-296a1726ba40');\n",
       "var x = new MutationObserver(function (mutations, observer) {{\n",
       "        var display = window.getComputedStyle(gd).display;\n",
       "        if (!display || display === 'none') {{\n",
       "            console.log([gd, 'removed!']);\n",
       "            Plotly.purge(gd);\n",
       "            observer.disconnect();\n",
       "        }}\n",
       "}});\n",
       "\n",
       "// Listen for the removal of the full notebook cells\n",
       "var notebookContainer = gd.closest('#notebook-container');\n",
       "if (notebookContainer) {{\n",
       "    x.observe(notebookContainer, {childList: true});\n",
       "}}\n",
       "\n",
       "// Listen for the clearing of the current output cell\n",
       "var outputEl = gd.closest('.output');\n",
       "if (outputEl) {{\n",
       "    x.observe(outputEl, {childList: true});\n",
       "}}\n",
       "\n",
       "                        })\n",
       "                };\n",
       "                });\n",
       "            </script>\n",
       "        </div>"
      ]
     },
     "metadata": {},
     "output_type": "display_data"
    }
   ],
   "source": [
    "col='Edad'\n",
    "\n",
    "\n",
    "v1=d1[col].value_counts().reset_index()\n",
    "v1=v1.rename(columns={col:'count','index':col})\n",
    "v1['percent']=v1['count'].apply(lambda x:100*x/sum(v1['count']))\n",
    "v1=v1.sort_values(col)\n",
    "v2=d2[col].value_counts().reset_index()\n",
    "v2=v2.rename(columns={col:'count','index':col})\n",
    "v2['percent']=v2['count'].apply(lambda x:100*x/sum(v2['count']))\n",
    "v2=v2.sort_values(col)\n",
    "trace1=go.Scatter(x = v1[col], y = v1[\"count\"],name=\"Hombre\",marker=dict(color=\"#ff7f0e\"))\n",
    "trace2= go.Scatter(x = v2[col],y = v2[\"count\"], name = \"Mujer\", marker = dict(color='#a678de'))\n",
    "y = [trace1, trace2]\n",
    "layout={'title':\"Comparación X Edad [[ Hombre vs Mujer ]] \",'xaxis':{'title':\"Edad\"},'yaxis':{'title':\"Frecuencia\"}}\n",
    "fig=go.Figure(data = y, layout = layout)\n",
    "fig.layout.template='presentation'\n",
    "iplot(fig)"
   ]
  },
  {
   "cell_type": "code",
   "execution_count": 31,
   "metadata": {},
   "outputs": [
    {
     "data": {
      "application/vnd.plotly.v1+json": {
       "config": {
        "linkText": "Export to plot.ly",
        "plotlyServerURL": "https://plot.ly",
        "showLink": false
       },
       "data": [
        {
         "marker": {
          "color": "#e377c2"
         },
         "name": "0",
         "type": "bar",
         "x": [
          "AGUASCALIENTES",
          "BAJA_CALIFORNIA",
          "BAJA_CALIFORNIA_SUR",
          "CAMPECHE",
          "CDMX",
          "CHIAPAS",
          "CHIHUAHUA",
          "COAHUILA",
          "COLIMA",
          "DURANGO",
          "GUANAJUATO",
          "GUERRERO",
          "HIDALGO",
          "JALISCO",
          "MICHOACÁN",
          "MORELOS",
          "MÉXICO",
          "NAYARIT",
          "NUEVO_LEÓN",
          "OAXACA",
          "PUEBLA",
          "QUERETARO",
          "QUINTANA_ROO",
          "SAN_LUIS_POTOSÍ",
          "SINALOA",
          "SONORA",
          "TABASCO",
          "TAMAULIPAS",
          "TLAXCALA",
          "VERACRUZ",
          "YUCATÁN",
          "ZACATECAS"
         ],
         "y": [
          19,
          20,
          9,
          3,
          177,
          6,
          6,
          15,
          2,
          7,
          37,
          10,
          12,
          82,
          17,
          4,
          85,
          5,
          64,
          12,
          52,
          25,
          33,
          20,
          14,
          10,
          27,
          6,
          4,
          23,
          38,
          4
         ]
        }
       ],
       "layout": {
        "template": {
         "data": {
          "pie": [
           {
            "automargin": true,
            "type": "pie"
           }
          ],
          "scatter": [
           {
            "line": {
             "width": 3
            },
            "marker": {
             "size": 9
            },
            "type": "scatter"
           }
          ],
          "scatter3d": [
           {
            "line": {
             "width": 3
            },
            "marker": {
             "size": 9
            },
            "type": "scatter3d"
           }
          ],
          "scattergeo": [
           {
            "line": {
             "width": 3
            },
            "marker": {
             "size": 9
            },
            "type": "scattergeo"
           }
          ],
          "scattergl": [
           {
            "line": {
             "width": 3
            },
            "marker": {
             "size": 9
            },
            "type": "scattergl"
           }
          ],
          "scatterpolar": [
           {
            "line": {
             "width": 3
            },
            "marker": {
             "size": 9
            },
            "type": "scatterpolar"
           }
          ],
          "scatterpolargl": [
           {
            "line": {
             "width": 3
            },
            "marker": {
             "size": 9
            },
            "type": "scatterpolargl"
           }
          ],
          "scatterternary": [
           {
            "line": {
             "width": 3
            },
            "marker": {
             "size": 9
            },
            "type": "scatterternary"
           }
          ],
          "table": [
           {
            "cells": {
             "height": 30
            },
            "header": {
             "height": 36
            },
            "type": "table"
           }
          ]
         },
         "layout": {
          "font": {
           "size": 18
          },
          "xaxis": {
           "title": {
            "standoff": 15
           }
          },
          "yaxis": {
           "title": {
            "standoff": 15
           }
          }
         }
        },
        "title": {
         "text": "Distribución X Estado "
        },
        "xaxis": {
         "title": {
          "text": ""
         }
        },
        "yaxis": {
         "title": {
          "text": "Frecuencia"
         }
        }
       }
      },
      "text/html": [
       "<div>\n",
       "        \n",
       "        \n",
       "            <div id=\"e7f6fa82-f3b1-4cc3-9928-dd7b32489ac4\" class=\"plotly-graph-div\" style=\"height:525px; width:100%;\"></div>\n",
       "            <script type=\"text/javascript\">\n",
       "                require([\"plotly\"], function(Plotly) {\n",
       "                    window.PLOTLYENV=window.PLOTLYENV || {};\n",
       "                    \n",
       "                if (document.getElementById(\"e7f6fa82-f3b1-4cc3-9928-dd7b32489ac4\")) {\n",
       "                    Plotly.newPlot(\n",
       "                        'e7f6fa82-f3b1-4cc3-9928-dd7b32489ac4',\n",
       "                        [{\"marker\": {\"color\": \"#e377c2\"}, \"name\": \"0\", \"type\": \"bar\", \"x\": [\"AGUASCALIENTES\", \"BAJA_CALIFORNIA\", \"BAJA_CALIFORNIA_SUR\", \"CAMPECHE\", \"CDMX\", \"CHIAPAS\", \"CHIHUAHUA\", \"COAHUILA\", \"COLIMA\", \"DURANGO\", \"GUANAJUATO\", \"GUERRERO\", \"HIDALGO\", \"JALISCO\", \"MICHOAC\\u00c1N\", \"MORELOS\", \"M\\u00c9XICO\", \"NAYARIT\", \"NUEVO_LE\\u00d3N\", \"OAXACA\", \"PUEBLA\", \"QUERETARO\", \"QUINTANA_ROO\", \"SAN_LUIS_POTOS\\u00cd\", \"SINALOA\", \"SONORA\", \"TABASCO\", \"TAMAULIPAS\", \"TLAXCALA\", \"VERACRUZ\", \"YUCAT\\u00c1N\", \"ZACATECAS\"], \"y\": [19, 20, 9, 3, 177, 6, 6, 15, 2, 7, 37, 10, 12, 82, 17, 4, 85, 5, 64, 12, 52, 25, 33, 20, 14, 10, 27, 6, 4, 23, 38, 4]}],\n",
       "                        {\"template\": {\"data\": {\"pie\": [{\"automargin\": true, \"type\": \"pie\"}], \"scatter\": [{\"line\": {\"width\": 3}, \"marker\": {\"size\": 9}, \"type\": \"scatter\"}], \"scatter3d\": [{\"line\": {\"width\": 3}, \"marker\": {\"size\": 9}, \"type\": \"scatter3d\"}], \"scattergeo\": [{\"line\": {\"width\": 3}, \"marker\": {\"size\": 9}, \"type\": \"scattergeo\"}], \"scattergl\": [{\"line\": {\"width\": 3}, \"marker\": {\"size\": 9}, \"type\": \"scattergl\"}], \"scatterpolar\": [{\"line\": {\"width\": 3}, \"marker\": {\"size\": 9}, \"type\": \"scatterpolar\"}], \"scatterpolargl\": [{\"line\": {\"width\": 3}, \"marker\": {\"size\": 9}, \"type\": \"scatterpolargl\"}], \"scatterternary\": [{\"line\": {\"width\": 3}, \"marker\": {\"size\": 9}, \"type\": \"scatterternary\"}], \"table\": [{\"cells\": {\"height\": 30}, \"header\": {\"height\": 36}, \"type\": \"table\"}]}, \"layout\": {\"font\": {\"size\": 18}, \"xaxis\": {\"title\": {\"standoff\": 15}}, \"yaxis\": {\"title\": {\"standoff\": 15}}}}, \"title\": {\"text\": \"Distribuci\\u00f3n X Estado \"}, \"xaxis\": {\"title\": {\"text\": \"\"}}, \"yaxis\": {\"title\": {\"text\": \"Frecuencia\"}}},\n",
       "                        {\"responsive\": true}\n",
       "                    ).then(function(){\n",
       "                            \n",
       "var gd = document.getElementById('e7f6fa82-f3b1-4cc3-9928-dd7b32489ac4');\n",
       "var x = new MutationObserver(function (mutations, observer) {{\n",
       "        var display = window.getComputedStyle(gd).display;\n",
       "        if (!display || display === 'none') {{\n",
       "            console.log([gd, 'removed!']);\n",
       "            Plotly.purge(gd);\n",
       "            observer.disconnect();\n",
       "        }}\n",
       "}});\n",
       "\n",
       "// Listen for the removal of the full notebook cells\n",
       "var notebookContainer = gd.closest('#notebook-container');\n",
       "if (notebookContainer) {{\n",
       "    x.observe(notebookContainer, {childList: true});\n",
       "}}\n",
       "\n",
       "// Listen for the clearing of the current output cell\n",
       "var outputEl = gd.closest('.output');\n",
       "if (outputEl) {{\n",
       "    x.observe(outputEl, {childList: true});\n",
       "}}\n",
       "\n",
       "                        })\n",
       "                };\n",
       "                });\n",
       "            </script>\n",
       "        </div>"
      ]
     },
     "metadata": {},
     "output_type": "display_data"
    }
   ],
   "source": [
    "x=df\n",
    "col='Estado'\n",
    "v1=x[col].value_counts().reset_index()\n",
    "v1=v1.rename(columns={col:'count','index':col})\n",
    "v1['percent']=v1['count'].apply(lambda x: 100 *x/sum(v1['count']))\n",
    "v1=v1.sort_values(col)\n",
    "trace1=go.Bar(x=v1[col],y=v1[\"count\"],name=\"0\",marker=dict(color=\"#e377c2\"))\n",
    "y=[trace1]\n",
    "layout={'title':\"Distribución X Estado \",'xaxis':{'title':\"\"},'yaxis':{'title':\"Frecuencia\"}}\n",
    "fig=go.Figure(data=y,layout=layout)\n",
    "fig.layout.template='presentation'\n",
    "iplot(fig)"
   ]
  },
  {
   "cell_type": "code",
   "execution_count": 32,
   "metadata": {},
   "outputs": [
    {
     "data": {
      "application/vnd.plotly.v1+json": {
       "config": {
        "linkText": "Export to plot.ly",
        "plotlyServerURL": "https://plot.ly",
        "showLink": false
       },
       "data": [
        {
         "marker": {
          "color": "#d62728"
         },
         "name": "Hombre",
         "type": "scatter",
         "x": [
          "AGUASCALIENTES",
          "BAJA_CALIFORNIA",
          "BAJA_CALIFORNIA_SUR",
          "CAMPECHE",
          "CDMX",
          "CHIAPAS",
          "CHIHUAHUA",
          "COAHUILA",
          "COLIMA",
          "DURANGO",
          "GUANAJUATO",
          "GUERRERO",
          "HIDALGO",
          "JALISCO",
          "MICHOACÁN",
          "MORELOS",
          "MÉXICO",
          "NAYARIT",
          "NUEVO_LEÓN",
          "OAXACA",
          "PUEBLA",
          "QUERETARO",
          "QUINTANA_ROO",
          "SAN_LUIS_POTOSÍ",
          "SINALOA",
          "SONORA",
          "TABASCO",
          "TAMAULIPAS",
          "TLAXCALA",
          "VERACRUZ",
          "YUCATÁN",
          "ZACATECAS"
         ],
         "y": [
          10,
          11,
          7,
          2,
          122,
          4,
          2,
          9,
          1,
          5,
          16,
          5,
          4,
          46,
          7,
          1,
          45,
          2,
          46,
          4,
          28,
          13,
          20,
          11,
          7,
          6,
          11,
          3,
          3,
          12,
          21,
          3
         ]
        },
        {
         "marker": {
          "color": "rgb(63, 72, 204)"
         },
         "name": "Mujer",
         "type": "scatter",
         "x": [
          "AGUASCALIENTES",
          "BAJA_CALIFORNIA",
          "BAJA_CALIFORNIA_SUR",
          "CAMPECHE",
          "CDMX",
          "CHIAPAS",
          "CHIHUAHUA",
          "COAHUILA",
          "COLIMA",
          "DURANGO",
          "GUANAJUATO",
          "GUERRERO",
          "HIDALGO",
          "JALISCO",
          "MICHOACÁN",
          "MORELOS",
          "MÉXICO",
          "NAYARIT",
          "NUEVO_LEÓN",
          "OAXACA",
          "PUEBLA",
          "QUERETARO",
          "QUINTANA_ROO",
          "SAN_LUIS_POTOSÍ",
          "SINALOA",
          "SONORA",
          "TABASCO",
          "TAMAULIPAS",
          "TLAXCALA",
          "VERACRUZ",
          "YUCATÁN",
          "ZACATECAS"
         ],
         "y": [
          9,
          9,
          2,
          1,
          55,
          2,
          4,
          6,
          1,
          2,
          21,
          5,
          8,
          36,
          10,
          3,
          40,
          3,
          18,
          8,
          24,
          12,
          13,
          9,
          7,
          4,
          16,
          3,
          1,
          11,
          17,
          1
         ]
        }
       ],
       "layout": {
        "template": {
         "data": {
          "pie": [
           {
            "automargin": true,
            "type": "pie"
           }
          ],
          "scatter": [
           {
            "line": {
             "width": 3
            },
            "marker": {
             "size": 9
            },
            "type": "scatter"
           }
          ],
          "scatter3d": [
           {
            "line": {
             "width": 3
            },
            "marker": {
             "size": 9
            },
            "type": "scatter3d"
           }
          ],
          "scattergeo": [
           {
            "line": {
             "width": 3
            },
            "marker": {
             "size": 9
            },
            "type": "scattergeo"
           }
          ],
          "scattergl": [
           {
            "line": {
             "width": 3
            },
            "marker": {
             "size": 9
            },
            "type": "scattergl"
           }
          ],
          "scatterpolar": [
           {
            "line": {
             "width": 3
            },
            "marker": {
             "size": 9
            },
            "type": "scatterpolar"
           }
          ],
          "scatterpolargl": [
           {
            "line": {
             "width": 3
            },
            "marker": {
             "size": 9
            },
            "type": "scatterpolargl"
           }
          ],
          "scatterternary": [
           {
            "line": {
             "width": 3
            },
            "marker": {
             "size": 9
            },
            "type": "scatterternary"
           }
          ],
          "table": [
           {
            "cells": {
             "height": 30
            },
            "header": {
             "height": 36
            },
            "type": "table"
           }
          ]
         },
         "layout": {
          "font": {
           "size": 18
          },
          "xaxis": {
           "title": {
            "standoff": 15
           }
          },
          "yaxis": {
           "title": {
            "standoff": 15
           }
          }
         }
        },
        "title": {
         "text": "Comparación X Estado [[ Hombre vs Mujer ]] "
        },
        "xaxis": {
         "title": {
          "text": "Estado"
         }
        },
        "yaxis": {
         "title": {
          "text": "Frecuencia"
         }
        }
       }
      },
      "text/html": [
       "<div>\n",
       "        \n",
       "        \n",
       "            <div id=\"cd16d728-9565-4612-8331-6738e5ced89b\" class=\"plotly-graph-div\" style=\"height:525px; width:100%;\"></div>\n",
       "            <script type=\"text/javascript\">\n",
       "                require([\"plotly\"], function(Plotly) {\n",
       "                    window.PLOTLYENV=window.PLOTLYENV || {};\n",
       "                    \n",
       "                if (document.getElementById(\"cd16d728-9565-4612-8331-6738e5ced89b\")) {\n",
       "                    Plotly.newPlot(\n",
       "                        'cd16d728-9565-4612-8331-6738e5ced89b',\n",
       "                        [{\"marker\": {\"color\": \"#d62728\"}, \"name\": \"Hombre\", \"type\": \"scatter\", \"x\": [\"AGUASCALIENTES\", \"BAJA_CALIFORNIA\", \"BAJA_CALIFORNIA_SUR\", \"CAMPECHE\", \"CDMX\", \"CHIAPAS\", \"CHIHUAHUA\", \"COAHUILA\", \"COLIMA\", \"DURANGO\", \"GUANAJUATO\", \"GUERRERO\", \"HIDALGO\", \"JALISCO\", \"MICHOAC\\u00c1N\", \"MORELOS\", \"M\\u00c9XICO\", \"NAYARIT\", \"NUEVO_LE\\u00d3N\", \"OAXACA\", \"PUEBLA\", \"QUERETARO\", \"QUINTANA_ROO\", \"SAN_LUIS_POTOS\\u00cd\", \"SINALOA\", \"SONORA\", \"TABASCO\", \"TAMAULIPAS\", \"TLAXCALA\", \"VERACRUZ\", \"YUCAT\\u00c1N\", \"ZACATECAS\"], \"y\": [10, 11, 7, 2, 122, 4, 2, 9, 1, 5, 16, 5, 4, 46, 7, 1, 45, 2, 46, 4, 28, 13, 20, 11, 7, 6, 11, 3, 3, 12, 21, 3]}, {\"marker\": {\"color\": \"rgb(63, 72, 204)\"}, \"name\": \"Mujer\", \"type\": \"scatter\", \"x\": [\"AGUASCALIENTES\", \"BAJA_CALIFORNIA\", \"BAJA_CALIFORNIA_SUR\", \"CAMPECHE\", \"CDMX\", \"CHIAPAS\", \"CHIHUAHUA\", \"COAHUILA\", \"COLIMA\", \"DURANGO\", \"GUANAJUATO\", \"GUERRERO\", \"HIDALGO\", \"JALISCO\", \"MICHOAC\\u00c1N\", \"MORELOS\", \"M\\u00c9XICO\", \"NAYARIT\", \"NUEVO_LE\\u00d3N\", \"OAXACA\", \"PUEBLA\", \"QUERETARO\", \"QUINTANA_ROO\", \"SAN_LUIS_POTOS\\u00cd\", \"SINALOA\", \"SONORA\", \"TABASCO\", \"TAMAULIPAS\", \"TLAXCALA\", \"VERACRUZ\", \"YUCAT\\u00c1N\", \"ZACATECAS\"], \"y\": [9, 9, 2, 1, 55, 2, 4, 6, 1, 2, 21, 5, 8, 36, 10, 3, 40, 3, 18, 8, 24, 12, 13, 9, 7, 4, 16, 3, 1, 11, 17, 1]}],\n",
       "                        {\"template\": {\"data\": {\"pie\": [{\"automargin\": true, \"type\": \"pie\"}], \"scatter\": [{\"line\": {\"width\": 3}, \"marker\": {\"size\": 9}, \"type\": \"scatter\"}], \"scatter3d\": [{\"line\": {\"width\": 3}, \"marker\": {\"size\": 9}, \"type\": \"scatter3d\"}], \"scattergeo\": [{\"line\": {\"width\": 3}, \"marker\": {\"size\": 9}, \"type\": \"scattergeo\"}], \"scattergl\": [{\"line\": {\"width\": 3}, \"marker\": {\"size\": 9}, \"type\": \"scattergl\"}], \"scatterpolar\": [{\"line\": {\"width\": 3}, \"marker\": {\"size\": 9}, \"type\": \"scatterpolar\"}], \"scatterpolargl\": [{\"line\": {\"width\": 3}, \"marker\": {\"size\": 9}, \"type\": \"scatterpolargl\"}], \"scatterternary\": [{\"line\": {\"width\": 3}, \"marker\": {\"size\": 9}, \"type\": \"scatterternary\"}], \"table\": [{\"cells\": {\"height\": 30}, \"header\": {\"height\": 36}, \"type\": \"table\"}]}, \"layout\": {\"font\": {\"size\": 18}, \"xaxis\": {\"title\": {\"standoff\": 15}}, \"yaxis\": {\"title\": {\"standoff\": 15}}}}, \"title\": {\"text\": \"Comparaci\\u00f3n X Estado [[ Hombre vs Mujer ]] \"}, \"xaxis\": {\"title\": {\"text\": \"Estado\"}}, \"yaxis\": {\"title\": {\"text\": \"Frecuencia\"}}},\n",
       "                        {\"responsive\": true}\n",
       "                    ).then(function(){\n",
       "                            \n",
       "var gd = document.getElementById('cd16d728-9565-4612-8331-6738e5ced89b');\n",
       "var x = new MutationObserver(function (mutations, observer) {{\n",
       "        var display = window.getComputedStyle(gd).display;\n",
       "        if (!display || display === 'none') {{\n",
       "            console.log([gd, 'removed!']);\n",
       "            Plotly.purge(gd);\n",
       "            observer.disconnect();\n",
       "        }}\n",
       "}});\n",
       "\n",
       "// Listen for the removal of the full notebook cells\n",
       "var notebookContainer = gd.closest('#notebook-container');\n",
       "if (notebookContainer) {{\n",
       "    x.observe(notebookContainer, {childList: true});\n",
       "}}\n",
       "\n",
       "// Listen for the clearing of the current output cell\n",
       "var outputEl = gd.closest('.output');\n",
       "if (outputEl) {{\n",
       "    x.observe(outputEl, {childList: true});\n",
       "}}\n",
       "\n",
       "                        })\n",
       "                };\n",
       "                });\n",
       "            </script>\n",
       "        </div>"
      ]
     },
     "metadata": {},
     "output_type": "display_data"
    }
   ],
   "source": [
    "col='Estado'\n",
    "\n",
    "\n",
    "v1=d1[col].value_counts().reset_index()\n",
    "v1=v1.rename(columns={col:'count','index':col})\n",
    "v1['percent']=v1['count'].apply(lambda x:100*x/sum(v1['count']))\n",
    "v1=v1.sort_values(col)\n",
    "v2=d2[col].value_counts().reset_index()\n",
    "v2=v2.rename(columns={col:'count','index':col})\n",
    "v2['percent']=v2['count'].apply(lambda x:100*x/sum(v2['count']))\n",
    "v2=v2.sort_values(col)\n",
    "trace1=go.Scatter(x = v1[col], y = v1[\"count\"],name=\"Hombre\",marker=dict(color=\"#d62728\"))\n",
    "trace2= go.Scatter(x = v2[col],y = v2[\"count\"], name = \"Mujer\", marker = dict(color='rgb(63, 72, 204)'))\n",
    "y = [trace1, trace2]\n",
    "layout={'title':\"Comparación X Estado [[ Hombre vs Mujer ]] \",'xaxis':{'title':\"Estado\"},'yaxis':{'title':\"Frecuencia\"}}\n",
    "fig=go.Figure(data = y, layout = layout)\n",
    "fig.layout.template='presentation'\n",
    "iplot(fig)"
   ]
  },
  {
   "cell_type": "code",
   "execution_count": 33,
   "metadata": {},
   "outputs": [
    {
     "data": {
      "application/vnd.plotly.v1+json": {
       "config": {
        "linkText": "Export to plot.ly",
        "plotlyServerURL": "https://plot.ly",
        "showLink": false
       },
       "data": [
        {
         "marker": {
          "color": "#6ad49b"
         },
         "name": "0",
         "type": "bar",
         "x": [
          "Alemania",
          "Contacto",
          "EUA",
          "España",
          "Francia",
          "Italia",
          "Singapur"
         ],
         "y": [
          10,
          349,
          216,
          207,
          45,
          19,
          2
         ]
        }
       ],
       "layout": {
        "template": {
         "data": {
          "pie": [
           {
            "automargin": true,
            "type": "pie"
           }
          ],
          "scatter": [
           {
            "line": {
             "width": 3
            },
            "marker": {
             "size": 9
            },
            "type": "scatter"
           }
          ],
          "scatter3d": [
           {
            "line": {
             "width": 3
            },
            "marker": {
             "size": 9
            },
            "type": "scatter3d"
           }
          ],
          "scattergeo": [
           {
            "line": {
             "width": 3
            },
            "marker": {
             "size": 9
            },
            "type": "scattergeo"
           }
          ],
          "scattergl": [
           {
            "line": {
             "width": 3
            },
            "marker": {
             "size": 9
            },
            "type": "scattergl"
           }
          ],
          "scatterpolar": [
           {
            "line": {
             "width": 3
            },
            "marker": {
             "size": 9
            },
            "type": "scatterpolar"
           }
          ],
          "scatterpolargl": [
           {
            "line": {
             "width": 3
            },
            "marker": {
             "size": 9
            },
            "type": "scatterpolargl"
           }
          ],
          "scatterternary": [
           {
            "line": {
             "width": 3
            },
            "marker": {
             "size": 9
            },
            "type": "scatterternary"
           }
          ],
          "table": [
           {
            "cells": {
             "height": 30
            },
            "header": {
             "height": 36
            },
            "type": "table"
           }
          ]
         },
         "layout": {
          "font": {
           "size": 18
          },
          "xaxis": {
           "title": {
            "standoff": 15
           }
          },
          "yaxis": {
           "title": {
            "standoff": 15
           }
          }
         }
        },
        "title": {
         "text": "Procedencia de la infección "
        },
        "xaxis": {
         "title": {
          "text": "Procedencia"
         }
        },
        "yaxis": {
         "title": {
          "text": "Frecuencia"
         }
        }
       }
      },
      "text/html": [
       "<div>\n",
       "        \n",
       "        \n",
       "            <div id=\"6d186924-b88c-4ba2-98e9-cad67cac0223\" class=\"plotly-graph-div\" style=\"height:525px; width:100%;\"></div>\n",
       "            <script type=\"text/javascript\">\n",
       "                require([\"plotly\"], function(Plotly) {\n",
       "                    window.PLOTLYENV=window.PLOTLYENV || {};\n",
       "                    \n",
       "                if (document.getElementById(\"6d186924-b88c-4ba2-98e9-cad67cac0223\")) {\n",
       "                    Plotly.newPlot(\n",
       "                        '6d186924-b88c-4ba2-98e9-cad67cac0223',\n",
       "                        [{\"marker\": {\"color\": \"#6ad49b\"}, \"name\": \"0\", \"type\": \"bar\", \"x\": [\"Alemania\", \"Contacto\", \"EUA\", \"Espa\\u00f1a\", \"Francia\", \"Italia\", \"Singapur\"], \"y\": [10, 349, 216, 207, 45, 19, 2]}],\n",
       "                        {\"template\": {\"data\": {\"pie\": [{\"automargin\": true, \"type\": \"pie\"}], \"scatter\": [{\"line\": {\"width\": 3}, \"marker\": {\"size\": 9}, \"type\": \"scatter\"}], \"scatter3d\": [{\"line\": {\"width\": 3}, \"marker\": {\"size\": 9}, \"type\": \"scatter3d\"}], \"scattergeo\": [{\"line\": {\"width\": 3}, \"marker\": {\"size\": 9}, \"type\": \"scattergeo\"}], \"scattergl\": [{\"line\": {\"width\": 3}, \"marker\": {\"size\": 9}, \"type\": \"scattergl\"}], \"scatterpolar\": [{\"line\": {\"width\": 3}, \"marker\": {\"size\": 9}, \"type\": \"scatterpolar\"}], \"scatterpolargl\": [{\"line\": {\"width\": 3}, \"marker\": {\"size\": 9}, \"type\": \"scatterpolargl\"}], \"scatterternary\": [{\"line\": {\"width\": 3}, \"marker\": {\"size\": 9}, \"type\": \"scatterternary\"}], \"table\": [{\"cells\": {\"height\": 30}, \"header\": {\"height\": 36}, \"type\": \"table\"}]}, \"layout\": {\"font\": {\"size\": 18}, \"xaxis\": {\"title\": {\"standoff\": 15}}, \"yaxis\": {\"title\": {\"standoff\": 15}}}}, \"title\": {\"text\": \"Procedencia de la infecci\\u00f3n \"}, \"xaxis\": {\"title\": {\"text\": \"Procedencia\"}}, \"yaxis\": {\"title\": {\"text\": \"Frecuencia\"}}},\n",
       "                        {\"responsive\": true}\n",
       "                    ).then(function(){\n",
       "                            \n",
       "var gd = document.getElementById('6d186924-b88c-4ba2-98e9-cad67cac0223');\n",
       "var x = new MutationObserver(function (mutations, observer) {{\n",
       "        var display = window.getComputedStyle(gd).display;\n",
       "        if (!display || display === 'none') {{\n",
       "            console.log([gd, 'removed!']);\n",
       "            Plotly.purge(gd);\n",
       "            observer.disconnect();\n",
       "        }}\n",
       "}});\n",
       "\n",
       "// Listen for the removal of the full notebook cells\n",
       "var notebookContainer = gd.closest('#notebook-container');\n",
       "if (notebookContainer) {{\n",
       "    x.observe(notebookContainer, {childList: true});\n",
       "}}\n",
       "\n",
       "// Listen for the clearing of the current output cell\n",
       "var outputEl = gd.closest('.output');\n",
       "if (outputEl) {{\n",
       "    x.observe(outputEl, {childList: true});\n",
       "}}\n",
       "\n",
       "                        })\n",
       "                };\n",
       "                });\n",
       "            </script>\n",
       "        </div>"
      ]
     },
     "metadata": {},
     "output_type": "display_data"
    }
   ],
   "source": [
    "x = df\n",
    "col='Procedencia'\n",
    "v1=x[col].value_counts().reset_index()\n",
    "v1=v1.rename(columns={col:'count','index':col})\n",
    "v1['percent']=v1['count'].apply(lambda x: 100 *x/sum(v1['count']))\n",
    "v1=v1.sort_values(col)\n",
    "trace1=go.Bar(x=v1[col],y=v1[\"count\"],name=\"0\",marker=dict(color=\"#6ad49b\"))\n",
    "y=[trace1]\n",
    "layout={'title':\"Procedencia de la infección \",'xaxis':{'title':\"Procedencia\"},'yaxis':{'title':\"Frecuencia\"}}\n",
    "fig=go.Figure(data=y,layout=layout)\n",
    "fig.layout.template='presentation'\n",
    "iplot(fig)"
   ]
  },
  {
   "cell_type": "code",
   "execution_count": 34,
   "metadata": {},
   "outputs": [
    {
     "data": {
      "application/vnd.plotly.v1+json": {
       "config": {
        "linkText": "Export to plot.ly",
        "plotlyServerURL": "https://plot.ly",
        "showLink": false
       },
       "data": [
        {
         "marker": {
          "color": "#17becf"
         },
         "name": "Hombre",
         "type": "scatter",
         "x": [
          "Alemania",
          "Contacto",
          "EUA",
          "España",
          "Francia",
          "Italia",
          "Singapur"
         ],
         "y": [
          8,
          187,
          141,
          116,
          20,
          13,
          2
         ]
        },
        {
         "marker": {
          "color": "#a678de"
         },
         "name": "Mujer",
         "type": "scatter",
         "x": [
          "Alemania",
          "Contacto",
          "EUA",
          "España",
          "Francia",
          "Italia"
         ],
         "y": [
          2,
          162,
          75,
          91,
          25,
          6
         ]
        }
       ],
       "layout": {
        "template": {
         "data": {
          "pie": [
           {
            "automargin": true,
            "type": "pie"
           }
          ],
          "scatter": [
           {
            "line": {
             "width": 3
            },
            "marker": {
             "size": 9
            },
            "type": "scatter"
           }
          ],
          "scatter3d": [
           {
            "line": {
             "width": 3
            },
            "marker": {
             "size": 9
            },
            "type": "scatter3d"
           }
          ],
          "scattergeo": [
           {
            "line": {
             "width": 3
            },
            "marker": {
             "size": 9
            },
            "type": "scattergeo"
           }
          ],
          "scattergl": [
           {
            "line": {
             "width": 3
            },
            "marker": {
             "size": 9
            },
            "type": "scattergl"
           }
          ],
          "scatterpolar": [
           {
            "line": {
             "width": 3
            },
            "marker": {
             "size": 9
            },
            "type": "scatterpolar"
           }
          ],
          "scatterpolargl": [
           {
            "line": {
             "width": 3
            },
            "marker": {
             "size": 9
            },
            "type": "scatterpolargl"
           }
          ],
          "scatterternary": [
           {
            "line": {
             "width": 3
            },
            "marker": {
             "size": 9
            },
            "type": "scatterternary"
           }
          ],
          "table": [
           {
            "cells": {
             "height": 30
            },
            "header": {
             "height": 36
            },
            "type": "table"
           }
          ]
         },
         "layout": {
          "font": {
           "size": 18
          },
          "xaxis": {
           "title": {
            "standoff": 15
           }
          },
          "yaxis": {
           "title": {
            "standoff": 15
           }
          }
         }
        },
        "title": {
         "text": "Comparación X Procedencia [[ Hombre vs Mujer ]] "
        },
        "xaxis": {
         "title": {
          "text": "Procedencia"
         }
        },
        "yaxis": {
         "title": {
          "text": "Frecuencia"
         }
        }
       }
      },
      "text/html": [
       "<div>\n",
       "        \n",
       "        \n",
       "            <div id=\"7fb97276-3b16-4a4f-b101-92b8f7615ae1\" class=\"plotly-graph-div\" style=\"height:525px; width:100%;\"></div>\n",
       "            <script type=\"text/javascript\">\n",
       "                require([\"plotly\"], function(Plotly) {\n",
       "                    window.PLOTLYENV=window.PLOTLYENV || {};\n",
       "                    \n",
       "                if (document.getElementById(\"7fb97276-3b16-4a4f-b101-92b8f7615ae1\")) {\n",
       "                    Plotly.newPlot(\n",
       "                        '7fb97276-3b16-4a4f-b101-92b8f7615ae1',\n",
       "                        [{\"marker\": {\"color\": \"#17becf\"}, \"name\": \"Hombre\", \"type\": \"scatter\", \"x\": [\"Alemania\", \"Contacto\", \"EUA\", \"Espa\\u00f1a\", \"Francia\", \"Italia\", \"Singapur\"], \"y\": [8, 187, 141, 116, 20, 13, 2]}, {\"marker\": {\"color\": \"#a678de\"}, \"name\": \"Mujer\", \"type\": \"scatter\", \"x\": [\"Alemania\", \"Contacto\", \"EUA\", \"Espa\\u00f1a\", \"Francia\", \"Italia\"], \"y\": [2, 162, 75, 91, 25, 6]}],\n",
       "                        {\"template\": {\"data\": {\"pie\": [{\"automargin\": true, \"type\": \"pie\"}], \"scatter\": [{\"line\": {\"width\": 3}, \"marker\": {\"size\": 9}, \"type\": \"scatter\"}], \"scatter3d\": [{\"line\": {\"width\": 3}, \"marker\": {\"size\": 9}, \"type\": \"scatter3d\"}], \"scattergeo\": [{\"line\": {\"width\": 3}, \"marker\": {\"size\": 9}, \"type\": \"scattergeo\"}], \"scattergl\": [{\"line\": {\"width\": 3}, \"marker\": {\"size\": 9}, \"type\": \"scattergl\"}], \"scatterpolar\": [{\"line\": {\"width\": 3}, \"marker\": {\"size\": 9}, \"type\": \"scatterpolar\"}], \"scatterpolargl\": [{\"line\": {\"width\": 3}, \"marker\": {\"size\": 9}, \"type\": \"scatterpolargl\"}], \"scatterternary\": [{\"line\": {\"width\": 3}, \"marker\": {\"size\": 9}, \"type\": \"scatterternary\"}], \"table\": [{\"cells\": {\"height\": 30}, \"header\": {\"height\": 36}, \"type\": \"table\"}]}, \"layout\": {\"font\": {\"size\": 18}, \"xaxis\": {\"title\": {\"standoff\": 15}}, \"yaxis\": {\"title\": {\"standoff\": 15}}}}, \"title\": {\"text\": \"Comparaci\\u00f3n X Procedencia [[ Hombre vs Mujer ]] \"}, \"xaxis\": {\"title\": {\"text\": \"Procedencia\"}}, \"yaxis\": {\"title\": {\"text\": \"Frecuencia\"}}},\n",
       "                        {\"responsive\": true}\n",
       "                    ).then(function(){\n",
       "                            \n",
       "var gd = document.getElementById('7fb97276-3b16-4a4f-b101-92b8f7615ae1');\n",
       "var x = new MutationObserver(function (mutations, observer) {{\n",
       "        var display = window.getComputedStyle(gd).display;\n",
       "        if (!display || display === 'none') {{\n",
       "            console.log([gd, 'removed!']);\n",
       "            Plotly.purge(gd);\n",
       "            observer.disconnect();\n",
       "        }}\n",
       "}});\n",
       "\n",
       "// Listen for the removal of the full notebook cells\n",
       "var notebookContainer = gd.closest('#notebook-container');\n",
       "if (notebookContainer) {{\n",
       "    x.observe(notebookContainer, {childList: true});\n",
       "}}\n",
       "\n",
       "// Listen for the clearing of the current output cell\n",
       "var outputEl = gd.closest('.output');\n",
       "if (outputEl) {{\n",
       "    x.observe(outputEl, {childList: true});\n",
       "}}\n",
       "\n",
       "                        })\n",
       "                };\n",
       "                });\n",
       "            </script>\n",
       "        </div>"
      ]
     },
     "metadata": {},
     "output_type": "display_data"
    }
   ],
   "source": [
    "col='Procedencia'\n",
    "\n",
    "\n",
    "v1=d1[col].value_counts().reset_index()\n",
    "v1=v1.rename(columns={col:'count','index':col})\n",
    "v1['percent']=v1['count'].apply(lambda x:100*x/sum(v1['count']))\n",
    "v1=v1.sort_values(col)\n",
    "v2=d2[col].value_counts().reset_index()\n",
    "v2=v2.rename(columns={col:'count','index':col})\n",
    "v2['percent']=v2['count'].apply(lambda x:100*x/sum(v2['count']))\n",
    "v2=v2.sort_values(col)\n",
    "trace1=go.Scatter(x = v1[col], y = v1[\"count\"],name=\"Hombre\",marker=dict(color=\"#17becf\"))\n",
    "trace2= go.Scatter(x = v2[col],y = v2[\"count\"], name = \"Mujer\", marker = dict(color='#a678de'))\n",
    "y = [trace1, trace2]\n",
    "layout={'title':\"Comparación X Procedencia [[ Hombre vs Mujer ]] \",'xaxis':{'title':\"Procedencia\"},'yaxis':{'title':\"Frecuencia\"}}\n",
    "fig=go.Figure(data = y, layout = layout)\n",
    "fig.layout.template='presentation'\n",
    "iplot(fig)"
   ]
  },
  {
   "cell_type": "markdown",
   "metadata": {},
   "source": [
    "# Serie de tiempo: Casos por fecha"
   ]
  },
  {
   "cell_type": "markdown",
   "metadata": {},
   "source": [
    "## Casos de COVID19 de hombres en México por día"
   ]
  },
  {
   "cell_type": "code",
   "execution_count": 37,
   "metadata": {},
   "outputs": [
    {
     "data": {
      "application/vnd.plotly.v1+json": {
       "config": {
        "plotlyServerURL": "https://plot.ly"
       },
       "data": [
        {
         "line": {
          "color": "deepskyblue"
         },
         "mode": "lines+markers",
         "name": "Casos Nuevos Hombres",
         "opacity": 0.8,
         "type": "scatter",
         "x": [
          "2020-02-19",
          "2020-02-21",
          "2020-02-22",
          "2020-02-23",
          "2020-02-29",
          "2020-03-02",
          "2020-03-03",
          "2020-03-04",
          "2020-03-05",
          "2020-03-06",
          "2020-03-07",
          "2020-03-08",
          "2020-03-09",
          "2020-03-10",
          "2020-03-11",
          "2020-03-12",
          "2020-03-13",
          "2020-03-14",
          "2020-03-15",
          "2020-03-16",
          "2020-03-17",
          "2020-03-18",
          "2020-03-19",
          "2020-03-20",
          "2020-03-21",
          "2020-03-22",
          "2020-03-23",
          "2020-03-24",
          "2020-03-25",
          "2020-03-26"
         ],
         "y": [
          1,
          1,
          2,
          1,
          1,
          3,
          1,
          4,
          4,
          6,
          9,
          14,
          28,
          20,
          24,
          24,
          39,
          40,
          35,
          43,
          39,
          37,
          27,
          34,
          19,
          13,
          7,
          6,
          3,
          2
         ]
        },
        {
         "line": {
          "color": "#ff7f0e"
         },
         "mode": "lines+markers",
         "name": "Casos Totales Hombres",
         "opacity": 0.8,
         "type": "scatter",
         "x": [
          "2020-02-19",
          "2020-02-21",
          "2020-02-22",
          "2020-02-23",
          "2020-02-29",
          "2020-03-02",
          "2020-03-03",
          "2020-03-04",
          "2020-03-05",
          "2020-03-06",
          "2020-03-07",
          "2020-03-08",
          "2020-03-09",
          "2020-03-10",
          "2020-03-11",
          "2020-03-12",
          "2020-03-13",
          "2020-03-14",
          "2020-03-15",
          "2020-03-16",
          "2020-03-17",
          "2020-03-18",
          "2020-03-19",
          "2020-03-20",
          "2020-03-21",
          "2020-03-22",
          "2020-03-23",
          "2020-03-24",
          "2020-03-25",
          "2020-03-26"
         ],
         "y": [
          1,
          2,
          4,
          5,
          6,
          9,
          10,
          14,
          18,
          24,
          33,
          47,
          75,
          95,
          119,
          143,
          182,
          222,
          257,
          300,
          339,
          376,
          403,
          437,
          456,
          469,
          476,
          482,
          485,
          487
         ]
        }
       ],
       "layout": {
        "template": {
         "data": {
          "bar": [
           {
            "error_x": {
             "color": "#2a3f5f"
            },
            "error_y": {
             "color": "#2a3f5f"
            },
            "marker": {
             "line": {
              "color": "#E5ECF6",
              "width": 0.5
             }
            },
            "type": "bar"
           }
          ],
          "barpolar": [
           {
            "marker": {
             "line": {
              "color": "#E5ECF6",
              "width": 0.5
             }
            },
            "type": "barpolar"
           }
          ],
          "carpet": [
           {
            "aaxis": {
             "endlinecolor": "#2a3f5f",
             "gridcolor": "white",
             "linecolor": "white",
             "minorgridcolor": "white",
             "startlinecolor": "#2a3f5f"
            },
            "baxis": {
             "endlinecolor": "#2a3f5f",
             "gridcolor": "white",
             "linecolor": "white",
             "minorgridcolor": "white",
             "startlinecolor": "#2a3f5f"
            },
            "type": "carpet"
           }
          ],
          "choropleth": [
           {
            "colorbar": {
             "outlinewidth": 0,
             "ticks": ""
            },
            "type": "choropleth"
           }
          ],
          "contour": [
           {
            "colorbar": {
             "outlinewidth": 0,
             "ticks": ""
            },
            "colorscale": [
             [
              0,
              "#0d0887"
             ],
             [
              0.1111111111111111,
              "#46039f"
             ],
             [
              0.2222222222222222,
              "#7201a8"
             ],
             [
              0.3333333333333333,
              "#9c179e"
             ],
             [
              0.4444444444444444,
              "#bd3786"
             ],
             [
              0.5555555555555556,
              "#d8576b"
             ],
             [
              0.6666666666666666,
              "#ed7953"
             ],
             [
              0.7777777777777778,
              "#fb9f3a"
             ],
             [
              0.8888888888888888,
              "#fdca26"
             ],
             [
              1,
              "#f0f921"
             ]
            ],
            "type": "contour"
           }
          ],
          "contourcarpet": [
           {
            "colorbar": {
             "outlinewidth": 0,
             "ticks": ""
            },
            "type": "contourcarpet"
           }
          ],
          "heatmap": [
           {
            "colorbar": {
             "outlinewidth": 0,
             "ticks": ""
            },
            "colorscale": [
             [
              0,
              "#0d0887"
             ],
             [
              0.1111111111111111,
              "#46039f"
             ],
             [
              0.2222222222222222,
              "#7201a8"
             ],
             [
              0.3333333333333333,
              "#9c179e"
             ],
             [
              0.4444444444444444,
              "#bd3786"
             ],
             [
              0.5555555555555556,
              "#d8576b"
             ],
             [
              0.6666666666666666,
              "#ed7953"
             ],
             [
              0.7777777777777778,
              "#fb9f3a"
             ],
             [
              0.8888888888888888,
              "#fdca26"
             ],
             [
              1,
              "#f0f921"
             ]
            ],
            "type": "heatmap"
           }
          ],
          "heatmapgl": [
           {
            "colorbar": {
             "outlinewidth": 0,
             "ticks": ""
            },
            "colorscale": [
             [
              0,
              "#0d0887"
             ],
             [
              0.1111111111111111,
              "#46039f"
             ],
             [
              0.2222222222222222,
              "#7201a8"
             ],
             [
              0.3333333333333333,
              "#9c179e"
             ],
             [
              0.4444444444444444,
              "#bd3786"
             ],
             [
              0.5555555555555556,
              "#d8576b"
             ],
             [
              0.6666666666666666,
              "#ed7953"
             ],
             [
              0.7777777777777778,
              "#fb9f3a"
             ],
             [
              0.8888888888888888,
              "#fdca26"
             ],
             [
              1,
              "#f0f921"
             ]
            ],
            "type": "heatmapgl"
           }
          ],
          "histogram": [
           {
            "marker": {
             "colorbar": {
              "outlinewidth": 0,
              "ticks": ""
             }
            },
            "type": "histogram"
           }
          ],
          "histogram2d": [
           {
            "colorbar": {
             "outlinewidth": 0,
             "ticks": ""
            },
            "colorscale": [
             [
              0,
              "#0d0887"
             ],
             [
              0.1111111111111111,
              "#46039f"
             ],
             [
              0.2222222222222222,
              "#7201a8"
             ],
             [
              0.3333333333333333,
              "#9c179e"
             ],
             [
              0.4444444444444444,
              "#bd3786"
             ],
             [
              0.5555555555555556,
              "#d8576b"
             ],
             [
              0.6666666666666666,
              "#ed7953"
             ],
             [
              0.7777777777777778,
              "#fb9f3a"
             ],
             [
              0.8888888888888888,
              "#fdca26"
             ],
             [
              1,
              "#f0f921"
             ]
            ],
            "type": "histogram2d"
           }
          ],
          "histogram2dcontour": [
           {
            "colorbar": {
             "outlinewidth": 0,
             "ticks": ""
            },
            "colorscale": [
             [
              0,
              "#0d0887"
             ],
             [
              0.1111111111111111,
              "#46039f"
             ],
             [
              0.2222222222222222,
              "#7201a8"
             ],
             [
              0.3333333333333333,
              "#9c179e"
             ],
             [
              0.4444444444444444,
              "#bd3786"
             ],
             [
              0.5555555555555556,
              "#d8576b"
             ],
             [
              0.6666666666666666,
              "#ed7953"
             ],
             [
              0.7777777777777778,
              "#fb9f3a"
             ],
             [
              0.8888888888888888,
              "#fdca26"
             ],
             [
              1,
              "#f0f921"
             ]
            ],
            "type": "histogram2dcontour"
           }
          ],
          "mesh3d": [
           {
            "colorbar": {
             "outlinewidth": 0,
             "ticks": ""
            },
            "type": "mesh3d"
           }
          ],
          "parcoords": [
           {
            "line": {
             "colorbar": {
              "outlinewidth": 0,
              "ticks": ""
             }
            },
            "type": "parcoords"
           }
          ],
          "pie": [
           {
            "automargin": true,
            "type": "pie"
           }
          ],
          "scatter": [
           {
            "marker": {
             "colorbar": {
              "outlinewidth": 0,
              "ticks": ""
             }
            },
            "type": "scatter"
           }
          ],
          "scatter3d": [
           {
            "line": {
             "colorbar": {
              "outlinewidth": 0,
              "ticks": ""
             }
            },
            "marker": {
             "colorbar": {
              "outlinewidth": 0,
              "ticks": ""
             }
            },
            "type": "scatter3d"
           }
          ],
          "scattercarpet": [
           {
            "marker": {
             "colorbar": {
              "outlinewidth": 0,
              "ticks": ""
             }
            },
            "type": "scattercarpet"
           }
          ],
          "scattergeo": [
           {
            "marker": {
             "colorbar": {
              "outlinewidth": 0,
              "ticks": ""
             }
            },
            "type": "scattergeo"
           }
          ],
          "scattergl": [
           {
            "marker": {
             "colorbar": {
              "outlinewidth": 0,
              "ticks": ""
             }
            },
            "type": "scattergl"
           }
          ],
          "scattermapbox": [
           {
            "marker": {
             "colorbar": {
              "outlinewidth": 0,
              "ticks": ""
             }
            },
            "type": "scattermapbox"
           }
          ],
          "scatterpolar": [
           {
            "marker": {
             "colorbar": {
              "outlinewidth": 0,
              "ticks": ""
             }
            },
            "type": "scatterpolar"
           }
          ],
          "scatterpolargl": [
           {
            "marker": {
             "colorbar": {
              "outlinewidth": 0,
              "ticks": ""
             }
            },
            "type": "scatterpolargl"
           }
          ],
          "scatterternary": [
           {
            "marker": {
             "colorbar": {
              "outlinewidth": 0,
              "ticks": ""
             }
            },
            "type": "scatterternary"
           }
          ],
          "surface": [
           {
            "colorbar": {
             "outlinewidth": 0,
             "ticks": ""
            },
            "colorscale": [
             [
              0,
              "#0d0887"
             ],
             [
              0.1111111111111111,
              "#46039f"
             ],
             [
              0.2222222222222222,
              "#7201a8"
             ],
             [
              0.3333333333333333,
              "#9c179e"
             ],
             [
              0.4444444444444444,
              "#bd3786"
             ],
             [
              0.5555555555555556,
              "#d8576b"
             ],
             [
              0.6666666666666666,
              "#ed7953"
             ],
             [
              0.7777777777777778,
              "#fb9f3a"
             ],
             [
              0.8888888888888888,
              "#fdca26"
             ],
             [
              1,
              "#f0f921"
             ]
            ],
            "type": "surface"
           }
          ],
          "table": [
           {
            "cells": {
             "fill": {
              "color": "#EBF0F8"
             },
             "line": {
              "color": "white"
             }
            },
            "header": {
             "fill": {
              "color": "#C8D4E3"
             },
             "line": {
              "color": "white"
             }
            },
            "type": "table"
           }
          ]
         },
         "layout": {
          "annotationdefaults": {
           "arrowcolor": "#2a3f5f",
           "arrowhead": 0,
           "arrowwidth": 1
          },
          "coloraxis": {
           "colorbar": {
            "outlinewidth": 0,
            "ticks": ""
           }
          },
          "colorscale": {
           "diverging": [
            [
             0,
             "#8e0152"
            ],
            [
             0.1,
             "#c51b7d"
            ],
            [
             0.2,
             "#de77ae"
            ],
            [
             0.3,
             "#f1b6da"
            ],
            [
             0.4,
             "#fde0ef"
            ],
            [
             0.5,
             "#f7f7f7"
            ],
            [
             0.6,
             "#e6f5d0"
            ],
            [
             0.7,
             "#b8e186"
            ],
            [
             0.8,
             "#7fbc41"
            ],
            [
             0.9,
             "#4d9221"
            ],
            [
             1,
             "#276419"
            ]
           ],
           "sequential": [
            [
             0,
             "#0d0887"
            ],
            [
             0.1111111111111111,
             "#46039f"
            ],
            [
             0.2222222222222222,
             "#7201a8"
            ],
            [
             0.3333333333333333,
             "#9c179e"
            ],
            [
             0.4444444444444444,
             "#bd3786"
            ],
            [
             0.5555555555555556,
             "#d8576b"
            ],
            [
             0.6666666666666666,
             "#ed7953"
            ],
            [
             0.7777777777777778,
             "#fb9f3a"
            ],
            [
             0.8888888888888888,
             "#fdca26"
            ],
            [
             1,
             "#f0f921"
            ]
           ],
           "sequentialminus": [
            [
             0,
             "#0d0887"
            ],
            [
             0.1111111111111111,
             "#46039f"
            ],
            [
             0.2222222222222222,
             "#7201a8"
            ],
            [
             0.3333333333333333,
             "#9c179e"
            ],
            [
             0.4444444444444444,
             "#bd3786"
            ],
            [
             0.5555555555555556,
             "#d8576b"
            ],
            [
             0.6666666666666666,
             "#ed7953"
            ],
            [
             0.7777777777777778,
             "#fb9f3a"
            ],
            [
             0.8888888888888888,
             "#fdca26"
            ],
            [
             1,
             "#f0f921"
            ]
           ]
          },
          "colorway": [
           "#636efa",
           "#EF553B",
           "#00cc96",
           "#ab63fa",
           "#FFA15A",
           "#19d3f3",
           "#FF6692",
           "#B6E880",
           "#FF97FF",
           "#FECB52"
          ],
          "font": {
           "color": "#2a3f5f"
          },
          "geo": {
           "bgcolor": "white",
           "lakecolor": "white",
           "landcolor": "#E5ECF6",
           "showlakes": true,
           "showland": true,
           "subunitcolor": "white"
          },
          "hoverlabel": {
           "align": "left"
          },
          "hovermode": "closest",
          "mapbox": {
           "style": "light"
          },
          "paper_bgcolor": "white",
          "plot_bgcolor": "#E5ECF6",
          "polar": {
           "angularaxis": {
            "gridcolor": "white",
            "linecolor": "white",
            "ticks": ""
           },
           "bgcolor": "#E5ECF6",
           "radialaxis": {
            "gridcolor": "white",
            "linecolor": "white",
            "ticks": ""
           }
          },
          "scene": {
           "xaxis": {
            "backgroundcolor": "#E5ECF6",
            "gridcolor": "white",
            "gridwidth": 2,
            "linecolor": "white",
            "showbackground": true,
            "ticks": "",
            "zerolinecolor": "white"
           },
           "yaxis": {
            "backgroundcolor": "#E5ECF6",
            "gridcolor": "white",
            "gridwidth": 2,
            "linecolor": "white",
            "showbackground": true,
            "ticks": "",
            "zerolinecolor": "white"
           },
           "zaxis": {
            "backgroundcolor": "#E5ECF6",
            "gridcolor": "white",
            "gridwidth": 2,
            "linecolor": "white",
            "showbackground": true,
            "ticks": "",
            "zerolinecolor": "white"
           }
          },
          "shapedefaults": {
           "line": {
            "color": "#2a3f5f"
           }
          },
          "ternary": {
           "aaxis": {
            "gridcolor": "white",
            "linecolor": "white",
            "ticks": ""
           },
           "baxis": {
            "gridcolor": "white",
            "linecolor": "white",
            "ticks": ""
           },
           "bgcolor": "#E5ECF6",
           "caxis": {
            "gridcolor": "white",
            "linecolor": "white",
            "ticks": ""
           }
          },
          "title": {
           "x": 0.05
          },
          "xaxis": {
           "automargin": true,
           "gridcolor": "white",
           "linecolor": "white",
           "ticks": "",
           "title": {
            "standoff": 15
           },
           "zerolinecolor": "white",
           "zerolinewidth": 2
          },
          "yaxis": {
           "automargin": true,
           "gridcolor": "white",
           "linecolor": "white",
           "ticks": "",
           "title": {
            "standoff": 15
           },
           "zerolinecolor": "white",
           "zerolinewidth": 2
          }
         }
        },
        "title": {
         "text": "Casos de COVID19 de hombres en México por día"
        },
        "xaxis": {
         "title": {
          "text": "Fecha"
         }
        },
        "yaxis": {
         "title": {
          "text": "Número de casos"
         }
        }
       }
      },
      "text/html": [
       "<div>\n",
       "        \n",
       "        \n",
       "            <div id=\"b5b12828-ac8b-49dd-aab4-7e04bc321f39\" class=\"plotly-graph-div\" style=\"height:525px; width:100%;\"></div>\n",
       "            <script type=\"text/javascript\">\n",
       "                require([\"plotly\"], function(Plotly) {\n",
       "                    window.PLOTLYENV=window.PLOTLYENV || {};\n",
       "                    \n",
       "                if (document.getElementById(\"b5b12828-ac8b-49dd-aab4-7e04bc321f39\")) {\n",
       "                    Plotly.newPlot(\n",
       "                        'b5b12828-ac8b-49dd-aab4-7e04bc321f39',\n",
       "                        [{\"line\": {\"color\": \"deepskyblue\"}, \"mode\": \"lines+markers\", \"name\": \"Casos Nuevos Hombres\", \"opacity\": 0.8, \"type\": \"scatter\", \"x\": [\"2020-02-19\", \"2020-02-21\", \"2020-02-22\", \"2020-02-23\", \"2020-02-29\", \"2020-03-02\", \"2020-03-03\", \"2020-03-04\", \"2020-03-05\", \"2020-03-06\", \"2020-03-07\", \"2020-03-08\", \"2020-03-09\", \"2020-03-10\", \"2020-03-11\", \"2020-03-12\", \"2020-03-13\", \"2020-03-14\", \"2020-03-15\", \"2020-03-16\", \"2020-03-17\", \"2020-03-18\", \"2020-03-19\", \"2020-03-20\", \"2020-03-21\", \"2020-03-22\", \"2020-03-23\", \"2020-03-24\", \"2020-03-25\", \"2020-03-26\"], \"y\": [1, 1, 2, 1, 1, 3, 1, 4, 4, 6, 9, 14, 28, 20, 24, 24, 39, 40, 35, 43, 39, 37, 27, 34, 19, 13, 7, 6, 3, 2]}, {\"line\": {\"color\": \"#ff7f0e\"}, \"mode\": \"lines+markers\", \"name\": \"Casos Totales Hombres\", \"opacity\": 0.8, \"type\": \"scatter\", \"x\": [\"2020-02-19\", \"2020-02-21\", \"2020-02-22\", \"2020-02-23\", \"2020-02-29\", \"2020-03-02\", \"2020-03-03\", \"2020-03-04\", \"2020-03-05\", \"2020-03-06\", \"2020-03-07\", \"2020-03-08\", \"2020-03-09\", \"2020-03-10\", \"2020-03-11\", \"2020-03-12\", \"2020-03-13\", \"2020-03-14\", \"2020-03-15\", \"2020-03-16\", \"2020-03-17\", \"2020-03-18\", \"2020-03-19\", \"2020-03-20\", \"2020-03-21\", \"2020-03-22\", \"2020-03-23\", \"2020-03-24\", \"2020-03-25\", \"2020-03-26\"], \"y\": [1, 2, 4, 5, 6, 9, 10, 14, 18, 24, 33, 47, 75, 95, 119, 143, 182, 222, 257, 300, 339, 376, 403, 437, 456, 469, 476, 482, 485, 487]}],\n",
       "                        {\"template\": {\"data\": {\"bar\": [{\"error_x\": {\"color\": \"#2a3f5f\"}, \"error_y\": {\"color\": \"#2a3f5f\"}, \"marker\": {\"line\": {\"color\": \"#E5ECF6\", \"width\": 0.5}}, \"type\": \"bar\"}], \"barpolar\": [{\"marker\": {\"line\": {\"color\": \"#E5ECF6\", \"width\": 0.5}}, \"type\": \"barpolar\"}], \"carpet\": [{\"aaxis\": {\"endlinecolor\": \"#2a3f5f\", \"gridcolor\": \"white\", \"linecolor\": \"white\", \"minorgridcolor\": \"white\", \"startlinecolor\": \"#2a3f5f\"}, \"baxis\": {\"endlinecolor\": \"#2a3f5f\", \"gridcolor\": \"white\", \"linecolor\": \"white\", \"minorgridcolor\": \"white\", \"startlinecolor\": \"#2a3f5f\"}, \"type\": \"carpet\"}], \"choropleth\": [{\"colorbar\": {\"outlinewidth\": 0, \"ticks\": \"\"}, \"type\": \"choropleth\"}], \"contour\": [{\"colorbar\": {\"outlinewidth\": 0, \"ticks\": \"\"}, \"colorscale\": [[0.0, \"#0d0887\"], [0.1111111111111111, \"#46039f\"], [0.2222222222222222, \"#7201a8\"], [0.3333333333333333, \"#9c179e\"], [0.4444444444444444, \"#bd3786\"], [0.5555555555555556, \"#d8576b\"], [0.6666666666666666, \"#ed7953\"], [0.7777777777777778, \"#fb9f3a\"], [0.8888888888888888, \"#fdca26\"], [1.0, \"#f0f921\"]], \"type\": \"contour\"}], \"contourcarpet\": [{\"colorbar\": {\"outlinewidth\": 0, \"ticks\": \"\"}, \"type\": \"contourcarpet\"}], \"heatmap\": [{\"colorbar\": {\"outlinewidth\": 0, \"ticks\": \"\"}, \"colorscale\": [[0.0, \"#0d0887\"], [0.1111111111111111, \"#46039f\"], [0.2222222222222222, \"#7201a8\"], [0.3333333333333333, \"#9c179e\"], [0.4444444444444444, \"#bd3786\"], [0.5555555555555556, \"#d8576b\"], [0.6666666666666666, \"#ed7953\"], [0.7777777777777778, \"#fb9f3a\"], [0.8888888888888888, \"#fdca26\"], [1.0, \"#f0f921\"]], \"type\": \"heatmap\"}], \"heatmapgl\": [{\"colorbar\": {\"outlinewidth\": 0, \"ticks\": \"\"}, \"colorscale\": [[0.0, \"#0d0887\"], [0.1111111111111111, \"#46039f\"], [0.2222222222222222, \"#7201a8\"], [0.3333333333333333, \"#9c179e\"], [0.4444444444444444, \"#bd3786\"], [0.5555555555555556, \"#d8576b\"], [0.6666666666666666, \"#ed7953\"], [0.7777777777777778, \"#fb9f3a\"], [0.8888888888888888, \"#fdca26\"], [1.0, \"#f0f921\"]], \"type\": \"heatmapgl\"}], \"histogram\": [{\"marker\": {\"colorbar\": {\"outlinewidth\": 0, \"ticks\": \"\"}}, \"type\": \"histogram\"}], \"histogram2d\": [{\"colorbar\": {\"outlinewidth\": 0, \"ticks\": \"\"}, \"colorscale\": [[0.0, \"#0d0887\"], [0.1111111111111111, \"#46039f\"], [0.2222222222222222, \"#7201a8\"], [0.3333333333333333, \"#9c179e\"], [0.4444444444444444, \"#bd3786\"], [0.5555555555555556, \"#d8576b\"], [0.6666666666666666, \"#ed7953\"], [0.7777777777777778, \"#fb9f3a\"], [0.8888888888888888, \"#fdca26\"], [1.0, \"#f0f921\"]], \"type\": \"histogram2d\"}], \"histogram2dcontour\": [{\"colorbar\": {\"outlinewidth\": 0, \"ticks\": \"\"}, \"colorscale\": [[0.0, \"#0d0887\"], [0.1111111111111111, \"#46039f\"], [0.2222222222222222, \"#7201a8\"], [0.3333333333333333, \"#9c179e\"], [0.4444444444444444, \"#bd3786\"], [0.5555555555555556, \"#d8576b\"], [0.6666666666666666, \"#ed7953\"], [0.7777777777777778, \"#fb9f3a\"], [0.8888888888888888, \"#fdca26\"], [1.0, \"#f0f921\"]], \"type\": \"histogram2dcontour\"}], \"mesh3d\": [{\"colorbar\": {\"outlinewidth\": 0, \"ticks\": \"\"}, \"type\": \"mesh3d\"}], \"parcoords\": [{\"line\": {\"colorbar\": {\"outlinewidth\": 0, \"ticks\": \"\"}}, \"type\": \"parcoords\"}], \"pie\": [{\"automargin\": true, \"type\": \"pie\"}], \"scatter\": [{\"marker\": {\"colorbar\": {\"outlinewidth\": 0, \"ticks\": \"\"}}, \"type\": \"scatter\"}], \"scatter3d\": [{\"line\": {\"colorbar\": {\"outlinewidth\": 0, \"ticks\": \"\"}}, \"marker\": {\"colorbar\": {\"outlinewidth\": 0, \"ticks\": \"\"}}, \"type\": \"scatter3d\"}], \"scattercarpet\": [{\"marker\": {\"colorbar\": {\"outlinewidth\": 0, \"ticks\": \"\"}}, \"type\": \"scattercarpet\"}], \"scattergeo\": [{\"marker\": {\"colorbar\": {\"outlinewidth\": 0, \"ticks\": \"\"}}, \"type\": \"scattergeo\"}], \"scattergl\": [{\"marker\": {\"colorbar\": {\"outlinewidth\": 0, \"ticks\": \"\"}}, \"type\": \"scattergl\"}], \"scattermapbox\": [{\"marker\": {\"colorbar\": {\"outlinewidth\": 0, \"ticks\": \"\"}}, \"type\": \"scattermapbox\"}], \"scatterpolar\": [{\"marker\": {\"colorbar\": {\"outlinewidth\": 0, \"ticks\": \"\"}}, \"type\": \"scatterpolar\"}], \"scatterpolargl\": [{\"marker\": {\"colorbar\": {\"outlinewidth\": 0, \"ticks\": \"\"}}, \"type\": \"scatterpolargl\"}], \"scatterternary\": [{\"marker\": {\"colorbar\": {\"outlinewidth\": 0, \"ticks\": \"\"}}, \"type\": \"scatterternary\"}], \"surface\": [{\"colorbar\": {\"outlinewidth\": 0, \"ticks\": \"\"}, \"colorscale\": [[0.0, \"#0d0887\"], [0.1111111111111111, \"#46039f\"], [0.2222222222222222, \"#7201a8\"], [0.3333333333333333, \"#9c179e\"], [0.4444444444444444, \"#bd3786\"], [0.5555555555555556, \"#d8576b\"], [0.6666666666666666, \"#ed7953\"], [0.7777777777777778, \"#fb9f3a\"], [0.8888888888888888, \"#fdca26\"], [1.0, \"#f0f921\"]], \"type\": \"surface\"}], \"table\": [{\"cells\": {\"fill\": {\"color\": \"#EBF0F8\"}, \"line\": {\"color\": \"white\"}}, \"header\": {\"fill\": {\"color\": \"#C8D4E3\"}, \"line\": {\"color\": \"white\"}}, \"type\": \"table\"}]}, \"layout\": {\"annotationdefaults\": {\"arrowcolor\": \"#2a3f5f\", \"arrowhead\": 0, \"arrowwidth\": 1}, \"coloraxis\": {\"colorbar\": {\"outlinewidth\": 0, \"ticks\": \"\"}}, \"colorscale\": {\"diverging\": [[0, \"#8e0152\"], [0.1, \"#c51b7d\"], [0.2, \"#de77ae\"], [0.3, \"#f1b6da\"], [0.4, \"#fde0ef\"], [0.5, \"#f7f7f7\"], [0.6, \"#e6f5d0\"], [0.7, \"#b8e186\"], [0.8, \"#7fbc41\"], [0.9, \"#4d9221\"], [1, \"#276419\"]], \"sequential\": [[0.0, \"#0d0887\"], [0.1111111111111111, \"#46039f\"], [0.2222222222222222, \"#7201a8\"], [0.3333333333333333, \"#9c179e\"], [0.4444444444444444, \"#bd3786\"], [0.5555555555555556, \"#d8576b\"], [0.6666666666666666, \"#ed7953\"], [0.7777777777777778, \"#fb9f3a\"], [0.8888888888888888, \"#fdca26\"], [1.0, \"#f0f921\"]], \"sequentialminus\": [[0.0, \"#0d0887\"], [0.1111111111111111, \"#46039f\"], [0.2222222222222222, \"#7201a8\"], [0.3333333333333333, \"#9c179e\"], [0.4444444444444444, \"#bd3786\"], [0.5555555555555556, \"#d8576b\"], [0.6666666666666666, \"#ed7953\"], [0.7777777777777778, \"#fb9f3a\"], [0.8888888888888888, \"#fdca26\"], [1.0, \"#f0f921\"]]}, \"colorway\": [\"#636efa\", \"#EF553B\", \"#00cc96\", \"#ab63fa\", \"#FFA15A\", \"#19d3f3\", \"#FF6692\", \"#B6E880\", \"#FF97FF\", \"#FECB52\"], \"font\": {\"color\": \"#2a3f5f\"}, \"geo\": {\"bgcolor\": \"white\", \"lakecolor\": \"white\", \"landcolor\": \"#E5ECF6\", \"showlakes\": true, \"showland\": true, \"subunitcolor\": \"white\"}, \"hoverlabel\": {\"align\": \"left\"}, \"hovermode\": \"closest\", \"mapbox\": {\"style\": \"light\"}, \"paper_bgcolor\": \"white\", \"plot_bgcolor\": \"#E5ECF6\", \"polar\": {\"angularaxis\": {\"gridcolor\": \"white\", \"linecolor\": \"white\", \"ticks\": \"\"}, \"bgcolor\": \"#E5ECF6\", \"radialaxis\": {\"gridcolor\": \"white\", \"linecolor\": \"white\", \"ticks\": \"\"}}, \"scene\": {\"xaxis\": {\"backgroundcolor\": \"#E5ECF6\", \"gridcolor\": \"white\", \"gridwidth\": 2, \"linecolor\": \"white\", \"showbackground\": true, \"ticks\": \"\", \"zerolinecolor\": \"white\"}, \"yaxis\": {\"backgroundcolor\": \"#E5ECF6\", \"gridcolor\": \"white\", \"gridwidth\": 2, \"linecolor\": \"white\", \"showbackground\": true, \"ticks\": \"\", \"zerolinecolor\": \"white\"}, \"zaxis\": {\"backgroundcolor\": \"#E5ECF6\", \"gridcolor\": \"white\", \"gridwidth\": 2, \"linecolor\": \"white\", \"showbackground\": true, \"ticks\": \"\", \"zerolinecolor\": \"white\"}}, \"shapedefaults\": {\"line\": {\"color\": \"#2a3f5f\"}}, \"ternary\": {\"aaxis\": {\"gridcolor\": \"white\", \"linecolor\": \"white\", \"ticks\": \"\"}, \"baxis\": {\"gridcolor\": \"white\", \"linecolor\": \"white\", \"ticks\": \"\"}, \"bgcolor\": \"#E5ECF6\", \"caxis\": {\"gridcolor\": \"white\", \"linecolor\": \"white\", \"ticks\": \"\"}}, \"title\": {\"x\": 0.05}, \"xaxis\": {\"automargin\": true, \"gridcolor\": \"white\", \"linecolor\": \"white\", \"ticks\": \"\", \"title\": {\"standoff\": 15}, \"zerolinecolor\": \"white\", \"zerolinewidth\": 2}, \"yaxis\": {\"automargin\": true, \"gridcolor\": \"white\", \"linecolor\": \"white\", \"ticks\": \"\", \"title\": {\"standoff\": 15}, \"zerolinecolor\": \"white\", \"zerolinewidth\": 2}}}, \"title\": {\"text\": \"Casos de COVID19 de hombres en M\\u00e9xico por d\\u00eda\"}, \"xaxis\": {\"title\": {\"text\": \"Fecha\"}}, \"yaxis\": {\"title\": {\"text\": \"N\\u00famero de casos\"}}},\n",
       "                        {\"responsive\": true}\n",
       "                    ).then(function(){\n",
       "                            \n",
       "var gd = document.getElementById('b5b12828-ac8b-49dd-aab4-7e04bc321f39');\n",
       "var x = new MutationObserver(function (mutations, observer) {{\n",
       "        var display = window.getComputedStyle(gd).display;\n",
       "        if (!display || display === 'none') {{\n",
       "            console.log([gd, 'removed!']);\n",
       "            Plotly.purge(gd);\n",
       "            observer.disconnect();\n",
       "        }}\n",
       "}});\n",
       "\n",
       "// Listen for the removal of the full notebook cells\n",
       "var notebookContainer = gd.closest('#notebook-container');\n",
       "if (notebookContainer) {{\n",
       "    x.observe(notebookContainer, {childList: true});\n",
       "}}\n",
       "\n",
       "// Listen for the clearing of the current output cell\n",
       "var outputEl = gd.closest('.output');\n",
       "if (outputEl) {{\n",
       "    x.observe(outputEl, {childList: true});\n",
       "}}\n",
       "\n",
       "                        })\n",
       "                };\n",
       "                });\n",
       "            </script>\n",
       "        </div>"
      ]
     },
     "metadata": {},
     "output_type": "display_data"
    }
   ],
   "source": [
    "casos_fecha_M = pd.DataFrame(d1['IdentificacionRT-PCR_COVID19(tiemporeal)'].groupby(d1['Fecha_de_Inicio_de_Síntomas']).count())\n",
    "fig = go.Figure()\n",
    "fig.add_trace(go.Scatter(\n",
    "                x=casos_fecha_M.index,\n",
    "                y=casos_fecha_M[\"IdentificacionRT-PCR_COVID19(tiemporeal)\"],\n",
    "                mode='lines+markers',\n",
    "                name=\"Casos Nuevos Hombres\",\n",
    "                line_color='deepskyblue',\n",
    "                opacity=0.8))\n",
    "\n",
    "fig.add_trace(go.Scatter(\n",
    "                x=casos_fecha_M.index,\n",
    "                y=sc.cumsum(casos_fecha_M[\"IdentificacionRT-PCR_COVID19(tiemporeal)\"]),\n",
    "                mode='lines+markers',\n",
    "                name=\"Casos Totales Hombres\",\n",
    "                line_color='#ff7f0e',\n",
    "                opacity=0.8))\n",
    "# Edit the layout\n",
    "fig.update_layout(title='Casos de COVID19 de hombres en México por día',\n",
    "                   xaxis_title='Fecha',\n",
    "                   yaxis_title='Número de casos')\n",
    "fig.show()"
   ]
  },
  {
   "cell_type": "markdown",
   "metadata": {},
   "source": [
    "## Casos de COVID19 de mujeres en México por día"
   ]
  },
  {
   "cell_type": "code",
   "execution_count": 38,
   "metadata": {},
   "outputs": [
    {
     "data": {
      "application/vnd.plotly.v1+json": {
       "config": {
        "plotlyServerURL": "https://plot.ly"
       },
       "data": [
        {
         "line": {
          "color": "#a678de"
         },
         "mode": "lines+markers",
         "name": "Casos Nuevos Mujeres",
         "opacity": 0.8,
         "type": "scatter",
         "x": [
          "2020-02-25",
          "2020-02-27",
          "2020-03-01",
          "2020-03-02",
          "2020-03-03",
          "2020-03-05",
          "2020-03-06",
          "2020-03-07",
          "2020-03-08",
          "2020-03-09",
          "2020-03-10",
          "2020-03-11",
          "2020-03-12",
          "2020-03-13",
          "2020-03-14",
          "2020-03-15",
          "2020-03-16",
          "2020-03-17",
          "2020-03-18",
          "2020-03-19",
          "2020-03-20",
          "2020-03-21",
          "2020-03-22",
          "2020-03-23",
          "2020-03-24",
          "2020-03-25",
          "2020-03-26"
         ],
         "y": [
          1,
          1,
          4,
          2,
          2,
          3,
          3,
          7,
          5,
          18,
          19,
          14,
          15,
          20,
          16,
          26,
          38,
          25,
          31,
          19,
          25,
          19,
          22,
          16,
          5,
          3,
          2
         ]
        },
        {
         "line": {
          "color": "#ff7f0e"
         },
         "mode": "lines+markers",
         "name": "Casos Totales Mujeres",
         "opacity": 0.9,
         "type": "scatter",
         "x": [
          "2020-02-25",
          "2020-02-27",
          "2020-03-01",
          "2020-03-02",
          "2020-03-03",
          "2020-03-05",
          "2020-03-06",
          "2020-03-07",
          "2020-03-08",
          "2020-03-09",
          "2020-03-10",
          "2020-03-11",
          "2020-03-12",
          "2020-03-13",
          "2020-03-14",
          "2020-03-15",
          "2020-03-16",
          "2020-03-17",
          "2020-03-18",
          "2020-03-19",
          "2020-03-20",
          "2020-03-21",
          "2020-03-22",
          "2020-03-23",
          "2020-03-24",
          "2020-03-25",
          "2020-03-26"
         ],
         "y": [
          1,
          2,
          6,
          8,
          10,
          13,
          16,
          23,
          28,
          46,
          65,
          79,
          94,
          114,
          130,
          156,
          194,
          219,
          250,
          269,
          294,
          313,
          335,
          351,
          356,
          359,
          361
         ]
        }
       ],
       "layout": {
        "template": {
         "data": {
          "bar": [
           {
            "error_x": {
             "color": "#2a3f5f"
            },
            "error_y": {
             "color": "#2a3f5f"
            },
            "marker": {
             "line": {
              "color": "#E5ECF6",
              "width": 0.5
             }
            },
            "type": "bar"
           }
          ],
          "barpolar": [
           {
            "marker": {
             "line": {
              "color": "#E5ECF6",
              "width": 0.5
             }
            },
            "type": "barpolar"
           }
          ],
          "carpet": [
           {
            "aaxis": {
             "endlinecolor": "#2a3f5f",
             "gridcolor": "white",
             "linecolor": "white",
             "minorgridcolor": "white",
             "startlinecolor": "#2a3f5f"
            },
            "baxis": {
             "endlinecolor": "#2a3f5f",
             "gridcolor": "white",
             "linecolor": "white",
             "minorgridcolor": "white",
             "startlinecolor": "#2a3f5f"
            },
            "type": "carpet"
           }
          ],
          "choropleth": [
           {
            "colorbar": {
             "outlinewidth": 0,
             "ticks": ""
            },
            "type": "choropleth"
           }
          ],
          "contour": [
           {
            "colorbar": {
             "outlinewidth": 0,
             "ticks": ""
            },
            "colorscale": [
             [
              0,
              "#0d0887"
             ],
             [
              0.1111111111111111,
              "#46039f"
             ],
             [
              0.2222222222222222,
              "#7201a8"
             ],
             [
              0.3333333333333333,
              "#9c179e"
             ],
             [
              0.4444444444444444,
              "#bd3786"
             ],
             [
              0.5555555555555556,
              "#d8576b"
             ],
             [
              0.6666666666666666,
              "#ed7953"
             ],
             [
              0.7777777777777778,
              "#fb9f3a"
             ],
             [
              0.8888888888888888,
              "#fdca26"
             ],
             [
              1,
              "#f0f921"
             ]
            ],
            "type": "contour"
           }
          ],
          "contourcarpet": [
           {
            "colorbar": {
             "outlinewidth": 0,
             "ticks": ""
            },
            "type": "contourcarpet"
           }
          ],
          "heatmap": [
           {
            "colorbar": {
             "outlinewidth": 0,
             "ticks": ""
            },
            "colorscale": [
             [
              0,
              "#0d0887"
             ],
             [
              0.1111111111111111,
              "#46039f"
             ],
             [
              0.2222222222222222,
              "#7201a8"
             ],
             [
              0.3333333333333333,
              "#9c179e"
             ],
             [
              0.4444444444444444,
              "#bd3786"
             ],
             [
              0.5555555555555556,
              "#d8576b"
             ],
             [
              0.6666666666666666,
              "#ed7953"
             ],
             [
              0.7777777777777778,
              "#fb9f3a"
             ],
             [
              0.8888888888888888,
              "#fdca26"
             ],
             [
              1,
              "#f0f921"
             ]
            ],
            "type": "heatmap"
           }
          ],
          "heatmapgl": [
           {
            "colorbar": {
             "outlinewidth": 0,
             "ticks": ""
            },
            "colorscale": [
             [
              0,
              "#0d0887"
             ],
             [
              0.1111111111111111,
              "#46039f"
             ],
             [
              0.2222222222222222,
              "#7201a8"
             ],
             [
              0.3333333333333333,
              "#9c179e"
             ],
             [
              0.4444444444444444,
              "#bd3786"
             ],
             [
              0.5555555555555556,
              "#d8576b"
             ],
             [
              0.6666666666666666,
              "#ed7953"
             ],
             [
              0.7777777777777778,
              "#fb9f3a"
             ],
             [
              0.8888888888888888,
              "#fdca26"
             ],
             [
              1,
              "#f0f921"
             ]
            ],
            "type": "heatmapgl"
           }
          ],
          "histogram": [
           {
            "marker": {
             "colorbar": {
              "outlinewidth": 0,
              "ticks": ""
             }
            },
            "type": "histogram"
           }
          ],
          "histogram2d": [
           {
            "colorbar": {
             "outlinewidth": 0,
             "ticks": ""
            },
            "colorscale": [
             [
              0,
              "#0d0887"
             ],
             [
              0.1111111111111111,
              "#46039f"
             ],
             [
              0.2222222222222222,
              "#7201a8"
             ],
             [
              0.3333333333333333,
              "#9c179e"
             ],
             [
              0.4444444444444444,
              "#bd3786"
             ],
             [
              0.5555555555555556,
              "#d8576b"
             ],
             [
              0.6666666666666666,
              "#ed7953"
             ],
             [
              0.7777777777777778,
              "#fb9f3a"
             ],
             [
              0.8888888888888888,
              "#fdca26"
             ],
             [
              1,
              "#f0f921"
             ]
            ],
            "type": "histogram2d"
           }
          ],
          "histogram2dcontour": [
           {
            "colorbar": {
             "outlinewidth": 0,
             "ticks": ""
            },
            "colorscale": [
             [
              0,
              "#0d0887"
             ],
             [
              0.1111111111111111,
              "#46039f"
             ],
             [
              0.2222222222222222,
              "#7201a8"
             ],
             [
              0.3333333333333333,
              "#9c179e"
             ],
             [
              0.4444444444444444,
              "#bd3786"
             ],
             [
              0.5555555555555556,
              "#d8576b"
             ],
             [
              0.6666666666666666,
              "#ed7953"
             ],
             [
              0.7777777777777778,
              "#fb9f3a"
             ],
             [
              0.8888888888888888,
              "#fdca26"
             ],
             [
              1,
              "#f0f921"
             ]
            ],
            "type": "histogram2dcontour"
           }
          ],
          "mesh3d": [
           {
            "colorbar": {
             "outlinewidth": 0,
             "ticks": ""
            },
            "type": "mesh3d"
           }
          ],
          "parcoords": [
           {
            "line": {
             "colorbar": {
              "outlinewidth": 0,
              "ticks": ""
             }
            },
            "type": "parcoords"
           }
          ],
          "pie": [
           {
            "automargin": true,
            "type": "pie"
           }
          ],
          "scatter": [
           {
            "marker": {
             "colorbar": {
              "outlinewidth": 0,
              "ticks": ""
             }
            },
            "type": "scatter"
           }
          ],
          "scatter3d": [
           {
            "line": {
             "colorbar": {
              "outlinewidth": 0,
              "ticks": ""
             }
            },
            "marker": {
             "colorbar": {
              "outlinewidth": 0,
              "ticks": ""
             }
            },
            "type": "scatter3d"
           }
          ],
          "scattercarpet": [
           {
            "marker": {
             "colorbar": {
              "outlinewidth": 0,
              "ticks": ""
             }
            },
            "type": "scattercarpet"
           }
          ],
          "scattergeo": [
           {
            "marker": {
             "colorbar": {
              "outlinewidth": 0,
              "ticks": ""
             }
            },
            "type": "scattergeo"
           }
          ],
          "scattergl": [
           {
            "marker": {
             "colorbar": {
              "outlinewidth": 0,
              "ticks": ""
             }
            },
            "type": "scattergl"
           }
          ],
          "scattermapbox": [
           {
            "marker": {
             "colorbar": {
              "outlinewidth": 0,
              "ticks": ""
             }
            },
            "type": "scattermapbox"
           }
          ],
          "scatterpolar": [
           {
            "marker": {
             "colorbar": {
              "outlinewidth": 0,
              "ticks": ""
             }
            },
            "type": "scatterpolar"
           }
          ],
          "scatterpolargl": [
           {
            "marker": {
             "colorbar": {
              "outlinewidth": 0,
              "ticks": ""
             }
            },
            "type": "scatterpolargl"
           }
          ],
          "scatterternary": [
           {
            "marker": {
             "colorbar": {
              "outlinewidth": 0,
              "ticks": ""
             }
            },
            "type": "scatterternary"
           }
          ],
          "surface": [
           {
            "colorbar": {
             "outlinewidth": 0,
             "ticks": ""
            },
            "colorscale": [
             [
              0,
              "#0d0887"
             ],
             [
              0.1111111111111111,
              "#46039f"
             ],
             [
              0.2222222222222222,
              "#7201a8"
             ],
             [
              0.3333333333333333,
              "#9c179e"
             ],
             [
              0.4444444444444444,
              "#bd3786"
             ],
             [
              0.5555555555555556,
              "#d8576b"
             ],
             [
              0.6666666666666666,
              "#ed7953"
             ],
             [
              0.7777777777777778,
              "#fb9f3a"
             ],
             [
              0.8888888888888888,
              "#fdca26"
             ],
             [
              1,
              "#f0f921"
             ]
            ],
            "type": "surface"
           }
          ],
          "table": [
           {
            "cells": {
             "fill": {
              "color": "#EBF0F8"
             },
             "line": {
              "color": "white"
             }
            },
            "header": {
             "fill": {
              "color": "#C8D4E3"
             },
             "line": {
              "color": "white"
             }
            },
            "type": "table"
           }
          ]
         },
         "layout": {
          "annotationdefaults": {
           "arrowcolor": "#2a3f5f",
           "arrowhead": 0,
           "arrowwidth": 1
          },
          "coloraxis": {
           "colorbar": {
            "outlinewidth": 0,
            "ticks": ""
           }
          },
          "colorscale": {
           "diverging": [
            [
             0,
             "#8e0152"
            ],
            [
             0.1,
             "#c51b7d"
            ],
            [
             0.2,
             "#de77ae"
            ],
            [
             0.3,
             "#f1b6da"
            ],
            [
             0.4,
             "#fde0ef"
            ],
            [
             0.5,
             "#f7f7f7"
            ],
            [
             0.6,
             "#e6f5d0"
            ],
            [
             0.7,
             "#b8e186"
            ],
            [
             0.8,
             "#7fbc41"
            ],
            [
             0.9,
             "#4d9221"
            ],
            [
             1,
             "#276419"
            ]
           ],
           "sequential": [
            [
             0,
             "#0d0887"
            ],
            [
             0.1111111111111111,
             "#46039f"
            ],
            [
             0.2222222222222222,
             "#7201a8"
            ],
            [
             0.3333333333333333,
             "#9c179e"
            ],
            [
             0.4444444444444444,
             "#bd3786"
            ],
            [
             0.5555555555555556,
             "#d8576b"
            ],
            [
             0.6666666666666666,
             "#ed7953"
            ],
            [
             0.7777777777777778,
             "#fb9f3a"
            ],
            [
             0.8888888888888888,
             "#fdca26"
            ],
            [
             1,
             "#f0f921"
            ]
           ],
           "sequentialminus": [
            [
             0,
             "#0d0887"
            ],
            [
             0.1111111111111111,
             "#46039f"
            ],
            [
             0.2222222222222222,
             "#7201a8"
            ],
            [
             0.3333333333333333,
             "#9c179e"
            ],
            [
             0.4444444444444444,
             "#bd3786"
            ],
            [
             0.5555555555555556,
             "#d8576b"
            ],
            [
             0.6666666666666666,
             "#ed7953"
            ],
            [
             0.7777777777777778,
             "#fb9f3a"
            ],
            [
             0.8888888888888888,
             "#fdca26"
            ],
            [
             1,
             "#f0f921"
            ]
           ]
          },
          "colorway": [
           "#636efa",
           "#EF553B",
           "#00cc96",
           "#ab63fa",
           "#FFA15A",
           "#19d3f3",
           "#FF6692",
           "#B6E880",
           "#FF97FF",
           "#FECB52"
          ],
          "font": {
           "color": "#2a3f5f"
          },
          "geo": {
           "bgcolor": "white",
           "lakecolor": "white",
           "landcolor": "#E5ECF6",
           "showlakes": true,
           "showland": true,
           "subunitcolor": "white"
          },
          "hoverlabel": {
           "align": "left"
          },
          "hovermode": "closest",
          "mapbox": {
           "style": "light"
          },
          "paper_bgcolor": "white",
          "plot_bgcolor": "#E5ECF6",
          "polar": {
           "angularaxis": {
            "gridcolor": "white",
            "linecolor": "white",
            "ticks": ""
           },
           "bgcolor": "#E5ECF6",
           "radialaxis": {
            "gridcolor": "white",
            "linecolor": "white",
            "ticks": ""
           }
          },
          "scene": {
           "xaxis": {
            "backgroundcolor": "#E5ECF6",
            "gridcolor": "white",
            "gridwidth": 2,
            "linecolor": "white",
            "showbackground": true,
            "ticks": "",
            "zerolinecolor": "white"
           },
           "yaxis": {
            "backgroundcolor": "#E5ECF6",
            "gridcolor": "white",
            "gridwidth": 2,
            "linecolor": "white",
            "showbackground": true,
            "ticks": "",
            "zerolinecolor": "white"
           },
           "zaxis": {
            "backgroundcolor": "#E5ECF6",
            "gridcolor": "white",
            "gridwidth": 2,
            "linecolor": "white",
            "showbackground": true,
            "ticks": "",
            "zerolinecolor": "white"
           }
          },
          "shapedefaults": {
           "line": {
            "color": "#2a3f5f"
           }
          },
          "ternary": {
           "aaxis": {
            "gridcolor": "white",
            "linecolor": "white",
            "ticks": ""
           },
           "baxis": {
            "gridcolor": "white",
            "linecolor": "white",
            "ticks": ""
           },
           "bgcolor": "#E5ECF6",
           "caxis": {
            "gridcolor": "white",
            "linecolor": "white",
            "ticks": ""
           }
          },
          "title": {
           "x": 0.05
          },
          "xaxis": {
           "automargin": true,
           "gridcolor": "white",
           "linecolor": "white",
           "ticks": "",
           "title": {
            "standoff": 15
           },
           "zerolinecolor": "white",
           "zerolinewidth": 2
          },
          "yaxis": {
           "automargin": true,
           "gridcolor": "white",
           "linecolor": "white",
           "ticks": "",
           "title": {
            "standoff": 15
           },
           "zerolinecolor": "white",
           "zerolinewidth": 2
          }
         }
        },
        "title": {
         "text": "Casos de COVID19 de Mujeres en México por día"
        },
        "xaxis": {
         "title": {
          "text": "Fecha"
         }
        },
        "yaxis": {
         "title": {
          "text": "Número de casos"
         }
        }
       }
      },
      "text/html": [
       "<div>\n",
       "        \n",
       "        \n",
       "            <div id=\"0f027941-b2e4-466a-9f72-4e4dd7f80c8c\" class=\"plotly-graph-div\" style=\"height:525px; width:100%;\"></div>\n",
       "            <script type=\"text/javascript\">\n",
       "                require([\"plotly\"], function(Plotly) {\n",
       "                    window.PLOTLYENV=window.PLOTLYENV || {};\n",
       "                    \n",
       "                if (document.getElementById(\"0f027941-b2e4-466a-9f72-4e4dd7f80c8c\")) {\n",
       "                    Plotly.newPlot(\n",
       "                        '0f027941-b2e4-466a-9f72-4e4dd7f80c8c',\n",
       "                        [{\"line\": {\"color\": \"#a678de\"}, \"mode\": \"lines+markers\", \"name\": \"Casos Nuevos Mujeres\", \"opacity\": 0.8, \"type\": \"scatter\", \"x\": [\"2020-02-25\", \"2020-02-27\", \"2020-03-01\", \"2020-03-02\", \"2020-03-03\", \"2020-03-05\", \"2020-03-06\", \"2020-03-07\", \"2020-03-08\", \"2020-03-09\", \"2020-03-10\", \"2020-03-11\", \"2020-03-12\", \"2020-03-13\", \"2020-03-14\", \"2020-03-15\", \"2020-03-16\", \"2020-03-17\", \"2020-03-18\", \"2020-03-19\", \"2020-03-20\", \"2020-03-21\", \"2020-03-22\", \"2020-03-23\", \"2020-03-24\", \"2020-03-25\", \"2020-03-26\"], \"y\": [1, 1, 4, 2, 2, 3, 3, 7, 5, 18, 19, 14, 15, 20, 16, 26, 38, 25, 31, 19, 25, 19, 22, 16, 5, 3, 2]}, {\"line\": {\"color\": \"#ff7f0e\"}, \"mode\": \"lines+markers\", \"name\": \"Casos Totales Mujeres\", \"opacity\": 0.9, \"type\": \"scatter\", \"x\": [\"2020-02-25\", \"2020-02-27\", \"2020-03-01\", \"2020-03-02\", \"2020-03-03\", \"2020-03-05\", \"2020-03-06\", \"2020-03-07\", \"2020-03-08\", \"2020-03-09\", \"2020-03-10\", \"2020-03-11\", \"2020-03-12\", \"2020-03-13\", \"2020-03-14\", \"2020-03-15\", \"2020-03-16\", \"2020-03-17\", \"2020-03-18\", \"2020-03-19\", \"2020-03-20\", \"2020-03-21\", \"2020-03-22\", \"2020-03-23\", \"2020-03-24\", \"2020-03-25\", \"2020-03-26\"], \"y\": [1, 2, 6, 8, 10, 13, 16, 23, 28, 46, 65, 79, 94, 114, 130, 156, 194, 219, 250, 269, 294, 313, 335, 351, 356, 359, 361]}],\n",
       "                        {\"template\": {\"data\": {\"bar\": [{\"error_x\": {\"color\": \"#2a3f5f\"}, \"error_y\": {\"color\": \"#2a3f5f\"}, \"marker\": {\"line\": {\"color\": \"#E5ECF6\", \"width\": 0.5}}, \"type\": \"bar\"}], \"barpolar\": [{\"marker\": {\"line\": {\"color\": \"#E5ECF6\", \"width\": 0.5}}, \"type\": \"barpolar\"}], \"carpet\": [{\"aaxis\": {\"endlinecolor\": \"#2a3f5f\", \"gridcolor\": \"white\", \"linecolor\": \"white\", \"minorgridcolor\": \"white\", \"startlinecolor\": \"#2a3f5f\"}, \"baxis\": {\"endlinecolor\": \"#2a3f5f\", \"gridcolor\": \"white\", \"linecolor\": \"white\", \"minorgridcolor\": \"white\", \"startlinecolor\": \"#2a3f5f\"}, \"type\": \"carpet\"}], \"choropleth\": [{\"colorbar\": {\"outlinewidth\": 0, \"ticks\": \"\"}, \"type\": \"choropleth\"}], \"contour\": [{\"colorbar\": {\"outlinewidth\": 0, \"ticks\": \"\"}, \"colorscale\": [[0.0, \"#0d0887\"], [0.1111111111111111, \"#46039f\"], [0.2222222222222222, \"#7201a8\"], [0.3333333333333333, \"#9c179e\"], [0.4444444444444444, \"#bd3786\"], [0.5555555555555556, \"#d8576b\"], [0.6666666666666666, \"#ed7953\"], [0.7777777777777778, \"#fb9f3a\"], [0.8888888888888888, \"#fdca26\"], [1.0, \"#f0f921\"]], \"type\": \"contour\"}], \"contourcarpet\": [{\"colorbar\": {\"outlinewidth\": 0, \"ticks\": \"\"}, \"type\": \"contourcarpet\"}], \"heatmap\": [{\"colorbar\": {\"outlinewidth\": 0, \"ticks\": \"\"}, \"colorscale\": [[0.0, \"#0d0887\"], [0.1111111111111111, \"#46039f\"], [0.2222222222222222, \"#7201a8\"], [0.3333333333333333, \"#9c179e\"], [0.4444444444444444, \"#bd3786\"], [0.5555555555555556, \"#d8576b\"], [0.6666666666666666, \"#ed7953\"], [0.7777777777777778, \"#fb9f3a\"], [0.8888888888888888, \"#fdca26\"], [1.0, \"#f0f921\"]], \"type\": \"heatmap\"}], \"heatmapgl\": [{\"colorbar\": {\"outlinewidth\": 0, \"ticks\": \"\"}, \"colorscale\": [[0.0, \"#0d0887\"], [0.1111111111111111, \"#46039f\"], [0.2222222222222222, \"#7201a8\"], [0.3333333333333333, \"#9c179e\"], [0.4444444444444444, \"#bd3786\"], [0.5555555555555556, \"#d8576b\"], [0.6666666666666666, \"#ed7953\"], [0.7777777777777778, \"#fb9f3a\"], [0.8888888888888888, \"#fdca26\"], [1.0, \"#f0f921\"]], \"type\": \"heatmapgl\"}], \"histogram\": [{\"marker\": {\"colorbar\": {\"outlinewidth\": 0, \"ticks\": \"\"}}, \"type\": \"histogram\"}], \"histogram2d\": [{\"colorbar\": {\"outlinewidth\": 0, \"ticks\": \"\"}, \"colorscale\": [[0.0, \"#0d0887\"], [0.1111111111111111, \"#46039f\"], [0.2222222222222222, \"#7201a8\"], [0.3333333333333333, \"#9c179e\"], [0.4444444444444444, \"#bd3786\"], [0.5555555555555556, \"#d8576b\"], [0.6666666666666666, \"#ed7953\"], [0.7777777777777778, \"#fb9f3a\"], [0.8888888888888888, \"#fdca26\"], [1.0, \"#f0f921\"]], \"type\": \"histogram2d\"}], \"histogram2dcontour\": [{\"colorbar\": {\"outlinewidth\": 0, \"ticks\": \"\"}, \"colorscale\": [[0.0, \"#0d0887\"], [0.1111111111111111, \"#46039f\"], [0.2222222222222222, \"#7201a8\"], [0.3333333333333333, \"#9c179e\"], [0.4444444444444444, \"#bd3786\"], [0.5555555555555556, \"#d8576b\"], [0.6666666666666666, \"#ed7953\"], [0.7777777777777778, \"#fb9f3a\"], [0.8888888888888888, \"#fdca26\"], [1.0, \"#f0f921\"]], \"type\": \"histogram2dcontour\"}], \"mesh3d\": [{\"colorbar\": {\"outlinewidth\": 0, \"ticks\": \"\"}, \"type\": \"mesh3d\"}], \"parcoords\": [{\"line\": {\"colorbar\": {\"outlinewidth\": 0, \"ticks\": \"\"}}, \"type\": \"parcoords\"}], \"pie\": [{\"automargin\": true, \"type\": \"pie\"}], \"scatter\": [{\"marker\": {\"colorbar\": {\"outlinewidth\": 0, \"ticks\": \"\"}}, \"type\": \"scatter\"}], \"scatter3d\": [{\"line\": {\"colorbar\": {\"outlinewidth\": 0, \"ticks\": \"\"}}, \"marker\": {\"colorbar\": {\"outlinewidth\": 0, \"ticks\": \"\"}}, \"type\": \"scatter3d\"}], \"scattercarpet\": [{\"marker\": {\"colorbar\": {\"outlinewidth\": 0, \"ticks\": \"\"}}, \"type\": \"scattercarpet\"}], \"scattergeo\": [{\"marker\": {\"colorbar\": {\"outlinewidth\": 0, \"ticks\": \"\"}}, \"type\": \"scattergeo\"}], \"scattergl\": [{\"marker\": {\"colorbar\": {\"outlinewidth\": 0, \"ticks\": \"\"}}, \"type\": \"scattergl\"}], \"scattermapbox\": [{\"marker\": {\"colorbar\": {\"outlinewidth\": 0, \"ticks\": \"\"}}, \"type\": \"scattermapbox\"}], \"scatterpolar\": [{\"marker\": {\"colorbar\": {\"outlinewidth\": 0, \"ticks\": \"\"}}, \"type\": \"scatterpolar\"}], \"scatterpolargl\": [{\"marker\": {\"colorbar\": {\"outlinewidth\": 0, \"ticks\": \"\"}}, \"type\": \"scatterpolargl\"}], \"scatterternary\": [{\"marker\": {\"colorbar\": {\"outlinewidth\": 0, \"ticks\": \"\"}}, \"type\": \"scatterternary\"}], \"surface\": [{\"colorbar\": {\"outlinewidth\": 0, \"ticks\": \"\"}, \"colorscale\": [[0.0, \"#0d0887\"], [0.1111111111111111, \"#46039f\"], [0.2222222222222222, \"#7201a8\"], [0.3333333333333333, \"#9c179e\"], [0.4444444444444444, \"#bd3786\"], [0.5555555555555556, \"#d8576b\"], [0.6666666666666666, \"#ed7953\"], [0.7777777777777778, \"#fb9f3a\"], [0.8888888888888888, \"#fdca26\"], [1.0, \"#f0f921\"]], \"type\": \"surface\"}], \"table\": [{\"cells\": {\"fill\": {\"color\": \"#EBF0F8\"}, \"line\": {\"color\": \"white\"}}, \"header\": {\"fill\": {\"color\": \"#C8D4E3\"}, \"line\": {\"color\": \"white\"}}, \"type\": \"table\"}]}, \"layout\": {\"annotationdefaults\": {\"arrowcolor\": \"#2a3f5f\", \"arrowhead\": 0, \"arrowwidth\": 1}, \"coloraxis\": {\"colorbar\": {\"outlinewidth\": 0, \"ticks\": \"\"}}, \"colorscale\": {\"diverging\": [[0, \"#8e0152\"], [0.1, \"#c51b7d\"], [0.2, \"#de77ae\"], [0.3, \"#f1b6da\"], [0.4, \"#fde0ef\"], [0.5, \"#f7f7f7\"], [0.6, \"#e6f5d0\"], [0.7, \"#b8e186\"], [0.8, \"#7fbc41\"], [0.9, \"#4d9221\"], [1, \"#276419\"]], \"sequential\": [[0.0, \"#0d0887\"], [0.1111111111111111, \"#46039f\"], [0.2222222222222222, \"#7201a8\"], [0.3333333333333333, \"#9c179e\"], [0.4444444444444444, \"#bd3786\"], [0.5555555555555556, \"#d8576b\"], [0.6666666666666666, \"#ed7953\"], [0.7777777777777778, \"#fb9f3a\"], [0.8888888888888888, \"#fdca26\"], [1.0, \"#f0f921\"]], \"sequentialminus\": [[0.0, \"#0d0887\"], [0.1111111111111111, \"#46039f\"], [0.2222222222222222, \"#7201a8\"], [0.3333333333333333, \"#9c179e\"], [0.4444444444444444, \"#bd3786\"], [0.5555555555555556, \"#d8576b\"], [0.6666666666666666, \"#ed7953\"], [0.7777777777777778, \"#fb9f3a\"], [0.8888888888888888, \"#fdca26\"], [1.0, \"#f0f921\"]]}, \"colorway\": [\"#636efa\", \"#EF553B\", \"#00cc96\", \"#ab63fa\", \"#FFA15A\", \"#19d3f3\", \"#FF6692\", \"#B6E880\", \"#FF97FF\", \"#FECB52\"], \"font\": {\"color\": \"#2a3f5f\"}, \"geo\": {\"bgcolor\": \"white\", \"lakecolor\": \"white\", \"landcolor\": \"#E5ECF6\", \"showlakes\": true, \"showland\": true, \"subunitcolor\": \"white\"}, \"hoverlabel\": {\"align\": \"left\"}, \"hovermode\": \"closest\", \"mapbox\": {\"style\": \"light\"}, \"paper_bgcolor\": \"white\", \"plot_bgcolor\": \"#E5ECF6\", \"polar\": {\"angularaxis\": {\"gridcolor\": \"white\", \"linecolor\": \"white\", \"ticks\": \"\"}, \"bgcolor\": \"#E5ECF6\", \"radialaxis\": {\"gridcolor\": \"white\", \"linecolor\": \"white\", \"ticks\": \"\"}}, \"scene\": {\"xaxis\": {\"backgroundcolor\": \"#E5ECF6\", \"gridcolor\": \"white\", \"gridwidth\": 2, \"linecolor\": \"white\", \"showbackground\": true, \"ticks\": \"\", \"zerolinecolor\": \"white\"}, \"yaxis\": {\"backgroundcolor\": \"#E5ECF6\", \"gridcolor\": \"white\", \"gridwidth\": 2, \"linecolor\": \"white\", \"showbackground\": true, \"ticks\": \"\", \"zerolinecolor\": \"white\"}, \"zaxis\": {\"backgroundcolor\": \"#E5ECF6\", \"gridcolor\": \"white\", \"gridwidth\": 2, \"linecolor\": \"white\", \"showbackground\": true, \"ticks\": \"\", \"zerolinecolor\": \"white\"}}, \"shapedefaults\": {\"line\": {\"color\": \"#2a3f5f\"}}, \"ternary\": {\"aaxis\": {\"gridcolor\": \"white\", \"linecolor\": \"white\", \"ticks\": \"\"}, \"baxis\": {\"gridcolor\": \"white\", \"linecolor\": \"white\", \"ticks\": \"\"}, \"bgcolor\": \"#E5ECF6\", \"caxis\": {\"gridcolor\": \"white\", \"linecolor\": \"white\", \"ticks\": \"\"}}, \"title\": {\"x\": 0.05}, \"xaxis\": {\"automargin\": true, \"gridcolor\": \"white\", \"linecolor\": \"white\", \"ticks\": \"\", \"title\": {\"standoff\": 15}, \"zerolinecolor\": \"white\", \"zerolinewidth\": 2}, \"yaxis\": {\"automargin\": true, \"gridcolor\": \"white\", \"linecolor\": \"white\", \"ticks\": \"\", \"title\": {\"standoff\": 15}, \"zerolinecolor\": \"white\", \"zerolinewidth\": 2}}}, \"title\": {\"text\": \"Casos de COVID19 de Mujeres en M\\u00e9xico por d\\u00eda\"}, \"xaxis\": {\"title\": {\"text\": \"Fecha\"}}, \"yaxis\": {\"title\": {\"text\": \"N\\u00famero de casos\"}}},\n",
       "                        {\"responsive\": true}\n",
       "                    ).then(function(){\n",
       "                            \n",
       "var gd = document.getElementById('0f027941-b2e4-466a-9f72-4e4dd7f80c8c');\n",
       "var x = new MutationObserver(function (mutations, observer) {{\n",
       "        var display = window.getComputedStyle(gd).display;\n",
       "        if (!display || display === 'none') {{\n",
       "            console.log([gd, 'removed!']);\n",
       "            Plotly.purge(gd);\n",
       "            observer.disconnect();\n",
       "        }}\n",
       "}});\n",
       "\n",
       "// Listen for the removal of the full notebook cells\n",
       "var notebookContainer = gd.closest('#notebook-container');\n",
       "if (notebookContainer) {{\n",
       "    x.observe(notebookContainer, {childList: true});\n",
       "}}\n",
       "\n",
       "// Listen for the clearing of the current output cell\n",
       "var outputEl = gd.closest('.output');\n",
       "if (outputEl) {{\n",
       "    x.observe(outputEl, {childList: true});\n",
       "}}\n",
       "\n",
       "                        })\n",
       "                };\n",
       "                });\n",
       "            </script>\n",
       "        </div>"
      ]
     },
     "metadata": {},
     "output_type": "display_data"
    }
   ],
   "source": [
    "casos_fecha_F = pd.DataFrame(d2['IdentificacionRT-PCR_COVID19(tiemporeal)'].groupby(d2['Fecha_de_Inicio_de_Síntomas']).count())\n",
    "fig = go.Figure()\n",
    "fig.add_trace(go.Scatter(\n",
    "                x=casos_fecha_F.index,\n",
    "                y=casos_fecha_F[\"IdentificacionRT-PCR_COVID19(tiemporeal)\"],\n",
    "                mode='lines+markers',\n",
    "                name=\"Casos Nuevos Mujeres\",\n",
    "                line_color='#a678de',\n",
    "                opacity=0.8))\n",
    "\n",
    "fig.add_trace(go.Scatter(\n",
    "                x=casos_fecha_F.index,\n",
    "                y=sc.cumsum(casos_fecha_F[\"IdentificacionRT-PCR_COVID19(tiemporeal)\"]),\n",
    "                mode='lines+markers',\n",
    "                name=\"Casos Totales Mujeres\",\n",
    "                line_color='#ff7f0e',\n",
    "                opacity=0.9))\n",
    "# Edit the layout\n",
    "fig.update_layout(title='Casos de COVID19 de Mujeres en México por día',\n",
    "                   xaxis_title='Fecha',\n",
    "                   yaxis_title='Número de casos')\n",
    "fig.show()"
   ]
  },
  {
   "cell_type": "markdown",
   "metadata": {},
   "source": [
    "## Casos de COVID19 [Hombres vs Mujeres] en México por día"
   ]
  },
  {
   "cell_type": "code",
   "execution_count": 39,
   "metadata": {},
   "outputs": [
    {
     "data": {
      "application/vnd.plotly.v1+json": {
       "config": {
        "plotlyServerURL": "https://plot.ly"
       },
       "data": [
        {
         "line": {
          "color": "deepskyblue"
         },
         "mode": "lines+markers",
         "name": "Casos Nuevos Hombres'",
         "opacity": 0.8,
         "type": "scatter",
         "x": [
          "2020-02-19",
          "2020-02-21",
          "2020-02-22",
          "2020-02-23",
          "2020-02-29",
          "2020-03-02",
          "2020-03-03",
          "2020-03-04",
          "2020-03-05",
          "2020-03-06",
          "2020-03-07",
          "2020-03-08",
          "2020-03-09",
          "2020-03-10",
          "2020-03-11",
          "2020-03-12",
          "2020-03-13",
          "2020-03-14",
          "2020-03-15",
          "2020-03-16",
          "2020-03-17",
          "2020-03-18",
          "2020-03-19",
          "2020-03-20",
          "2020-03-21",
          "2020-03-22",
          "2020-03-23",
          "2020-03-24",
          "2020-03-25",
          "2020-03-26"
         ],
         "y": [
          1,
          1,
          2,
          1,
          1,
          3,
          1,
          4,
          4,
          6,
          9,
          14,
          28,
          20,
          24,
          24,
          39,
          40,
          35,
          43,
          39,
          37,
          27,
          34,
          19,
          13,
          7,
          6,
          3,
          2
         ]
        },
        {
         "line": {
          "color": "#e377c2"
         },
         "mode": "lines+markers",
         "name": "Casos Nuevos Mujeres",
         "opacity": 0.8,
         "type": "scatter",
         "x": [
          "2020-02-25",
          "2020-02-27",
          "2020-03-01",
          "2020-03-02",
          "2020-03-03",
          "2020-03-05",
          "2020-03-06",
          "2020-03-07",
          "2020-03-08",
          "2020-03-09",
          "2020-03-10",
          "2020-03-11",
          "2020-03-12",
          "2020-03-13",
          "2020-03-14",
          "2020-03-15",
          "2020-03-16",
          "2020-03-17",
          "2020-03-18",
          "2020-03-19",
          "2020-03-20",
          "2020-03-21",
          "2020-03-22",
          "2020-03-23",
          "2020-03-24",
          "2020-03-25",
          "2020-03-26"
         ],
         "y": [
          1,
          1,
          4,
          2,
          2,
          3,
          3,
          7,
          5,
          18,
          19,
          14,
          15,
          20,
          16,
          26,
          38,
          25,
          31,
          19,
          25,
          19,
          22,
          16,
          5,
          3,
          2
         ]
        }
       ],
       "layout": {
        "template": {
         "data": {
          "bar": [
           {
            "error_x": {
             "color": "#2a3f5f"
            },
            "error_y": {
             "color": "#2a3f5f"
            },
            "marker": {
             "line": {
              "color": "#E5ECF6",
              "width": 0.5
             }
            },
            "type": "bar"
           }
          ],
          "barpolar": [
           {
            "marker": {
             "line": {
              "color": "#E5ECF6",
              "width": 0.5
             }
            },
            "type": "barpolar"
           }
          ],
          "carpet": [
           {
            "aaxis": {
             "endlinecolor": "#2a3f5f",
             "gridcolor": "white",
             "linecolor": "white",
             "minorgridcolor": "white",
             "startlinecolor": "#2a3f5f"
            },
            "baxis": {
             "endlinecolor": "#2a3f5f",
             "gridcolor": "white",
             "linecolor": "white",
             "minorgridcolor": "white",
             "startlinecolor": "#2a3f5f"
            },
            "type": "carpet"
           }
          ],
          "choropleth": [
           {
            "colorbar": {
             "outlinewidth": 0,
             "ticks": ""
            },
            "type": "choropleth"
           }
          ],
          "contour": [
           {
            "colorbar": {
             "outlinewidth": 0,
             "ticks": ""
            },
            "colorscale": [
             [
              0,
              "#0d0887"
             ],
             [
              0.1111111111111111,
              "#46039f"
             ],
             [
              0.2222222222222222,
              "#7201a8"
             ],
             [
              0.3333333333333333,
              "#9c179e"
             ],
             [
              0.4444444444444444,
              "#bd3786"
             ],
             [
              0.5555555555555556,
              "#d8576b"
             ],
             [
              0.6666666666666666,
              "#ed7953"
             ],
             [
              0.7777777777777778,
              "#fb9f3a"
             ],
             [
              0.8888888888888888,
              "#fdca26"
             ],
             [
              1,
              "#f0f921"
             ]
            ],
            "type": "contour"
           }
          ],
          "contourcarpet": [
           {
            "colorbar": {
             "outlinewidth": 0,
             "ticks": ""
            },
            "type": "contourcarpet"
           }
          ],
          "heatmap": [
           {
            "colorbar": {
             "outlinewidth": 0,
             "ticks": ""
            },
            "colorscale": [
             [
              0,
              "#0d0887"
             ],
             [
              0.1111111111111111,
              "#46039f"
             ],
             [
              0.2222222222222222,
              "#7201a8"
             ],
             [
              0.3333333333333333,
              "#9c179e"
             ],
             [
              0.4444444444444444,
              "#bd3786"
             ],
             [
              0.5555555555555556,
              "#d8576b"
             ],
             [
              0.6666666666666666,
              "#ed7953"
             ],
             [
              0.7777777777777778,
              "#fb9f3a"
             ],
             [
              0.8888888888888888,
              "#fdca26"
             ],
             [
              1,
              "#f0f921"
             ]
            ],
            "type": "heatmap"
           }
          ],
          "heatmapgl": [
           {
            "colorbar": {
             "outlinewidth": 0,
             "ticks": ""
            },
            "colorscale": [
             [
              0,
              "#0d0887"
             ],
             [
              0.1111111111111111,
              "#46039f"
             ],
             [
              0.2222222222222222,
              "#7201a8"
             ],
             [
              0.3333333333333333,
              "#9c179e"
             ],
             [
              0.4444444444444444,
              "#bd3786"
             ],
             [
              0.5555555555555556,
              "#d8576b"
             ],
             [
              0.6666666666666666,
              "#ed7953"
             ],
             [
              0.7777777777777778,
              "#fb9f3a"
             ],
             [
              0.8888888888888888,
              "#fdca26"
             ],
             [
              1,
              "#f0f921"
             ]
            ],
            "type": "heatmapgl"
           }
          ],
          "histogram": [
           {
            "marker": {
             "colorbar": {
              "outlinewidth": 0,
              "ticks": ""
             }
            },
            "type": "histogram"
           }
          ],
          "histogram2d": [
           {
            "colorbar": {
             "outlinewidth": 0,
             "ticks": ""
            },
            "colorscale": [
             [
              0,
              "#0d0887"
             ],
             [
              0.1111111111111111,
              "#46039f"
             ],
             [
              0.2222222222222222,
              "#7201a8"
             ],
             [
              0.3333333333333333,
              "#9c179e"
             ],
             [
              0.4444444444444444,
              "#bd3786"
             ],
             [
              0.5555555555555556,
              "#d8576b"
             ],
             [
              0.6666666666666666,
              "#ed7953"
             ],
             [
              0.7777777777777778,
              "#fb9f3a"
             ],
             [
              0.8888888888888888,
              "#fdca26"
             ],
             [
              1,
              "#f0f921"
             ]
            ],
            "type": "histogram2d"
           }
          ],
          "histogram2dcontour": [
           {
            "colorbar": {
             "outlinewidth": 0,
             "ticks": ""
            },
            "colorscale": [
             [
              0,
              "#0d0887"
             ],
             [
              0.1111111111111111,
              "#46039f"
             ],
             [
              0.2222222222222222,
              "#7201a8"
             ],
             [
              0.3333333333333333,
              "#9c179e"
             ],
             [
              0.4444444444444444,
              "#bd3786"
             ],
             [
              0.5555555555555556,
              "#d8576b"
             ],
             [
              0.6666666666666666,
              "#ed7953"
             ],
             [
              0.7777777777777778,
              "#fb9f3a"
             ],
             [
              0.8888888888888888,
              "#fdca26"
             ],
             [
              1,
              "#f0f921"
             ]
            ],
            "type": "histogram2dcontour"
           }
          ],
          "mesh3d": [
           {
            "colorbar": {
             "outlinewidth": 0,
             "ticks": ""
            },
            "type": "mesh3d"
           }
          ],
          "parcoords": [
           {
            "line": {
             "colorbar": {
              "outlinewidth": 0,
              "ticks": ""
             }
            },
            "type": "parcoords"
           }
          ],
          "pie": [
           {
            "automargin": true,
            "type": "pie"
           }
          ],
          "scatter": [
           {
            "marker": {
             "colorbar": {
              "outlinewidth": 0,
              "ticks": ""
             }
            },
            "type": "scatter"
           }
          ],
          "scatter3d": [
           {
            "line": {
             "colorbar": {
              "outlinewidth": 0,
              "ticks": ""
             }
            },
            "marker": {
             "colorbar": {
              "outlinewidth": 0,
              "ticks": ""
             }
            },
            "type": "scatter3d"
           }
          ],
          "scattercarpet": [
           {
            "marker": {
             "colorbar": {
              "outlinewidth": 0,
              "ticks": ""
             }
            },
            "type": "scattercarpet"
           }
          ],
          "scattergeo": [
           {
            "marker": {
             "colorbar": {
              "outlinewidth": 0,
              "ticks": ""
             }
            },
            "type": "scattergeo"
           }
          ],
          "scattergl": [
           {
            "marker": {
             "colorbar": {
              "outlinewidth": 0,
              "ticks": ""
             }
            },
            "type": "scattergl"
           }
          ],
          "scattermapbox": [
           {
            "marker": {
             "colorbar": {
              "outlinewidth": 0,
              "ticks": ""
             }
            },
            "type": "scattermapbox"
           }
          ],
          "scatterpolar": [
           {
            "marker": {
             "colorbar": {
              "outlinewidth": 0,
              "ticks": ""
             }
            },
            "type": "scatterpolar"
           }
          ],
          "scatterpolargl": [
           {
            "marker": {
             "colorbar": {
              "outlinewidth": 0,
              "ticks": ""
             }
            },
            "type": "scatterpolargl"
           }
          ],
          "scatterternary": [
           {
            "marker": {
             "colorbar": {
              "outlinewidth": 0,
              "ticks": ""
             }
            },
            "type": "scatterternary"
           }
          ],
          "surface": [
           {
            "colorbar": {
             "outlinewidth": 0,
             "ticks": ""
            },
            "colorscale": [
             [
              0,
              "#0d0887"
             ],
             [
              0.1111111111111111,
              "#46039f"
             ],
             [
              0.2222222222222222,
              "#7201a8"
             ],
             [
              0.3333333333333333,
              "#9c179e"
             ],
             [
              0.4444444444444444,
              "#bd3786"
             ],
             [
              0.5555555555555556,
              "#d8576b"
             ],
             [
              0.6666666666666666,
              "#ed7953"
             ],
             [
              0.7777777777777778,
              "#fb9f3a"
             ],
             [
              0.8888888888888888,
              "#fdca26"
             ],
             [
              1,
              "#f0f921"
             ]
            ],
            "type": "surface"
           }
          ],
          "table": [
           {
            "cells": {
             "fill": {
              "color": "#EBF0F8"
             },
             "line": {
              "color": "white"
             }
            },
            "header": {
             "fill": {
              "color": "#C8D4E3"
             },
             "line": {
              "color": "white"
             }
            },
            "type": "table"
           }
          ]
         },
         "layout": {
          "annotationdefaults": {
           "arrowcolor": "#2a3f5f",
           "arrowhead": 0,
           "arrowwidth": 1
          },
          "coloraxis": {
           "colorbar": {
            "outlinewidth": 0,
            "ticks": ""
           }
          },
          "colorscale": {
           "diverging": [
            [
             0,
             "#8e0152"
            ],
            [
             0.1,
             "#c51b7d"
            ],
            [
             0.2,
             "#de77ae"
            ],
            [
             0.3,
             "#f1b6da"
            ],
            [
             0.4,
             "#fde0ef"
            ],
            [
             0.5,
             "#f7f7f7"
            ],
            [
             0.6,
             "#e6f5d0"
            ],
            [
             0.7,
             "#b8e186"
            ],
            [
             0.8,
             "#7fbc41"
            ],
            [
             0.9,
             "#4d9221"
            ],
            [
             1,
             "#276419"
            ]
           ],
           "sequential": [
            [
             0,
             "#0d0887"
            ],
            [
             0.1111111111111111,
             "#46039f"
            ],
            [
             0.2222222222222222,
             "#7201a8"
            ],
            [
             0.3333333333333333,
             "#9c179e"
            ],
            [
             0.4444444444444444,
             "#bd3786"
            ],
            [
             0.5555555555555556,
             "#d8576b"
            ],
            [
             0.6666666666666666,
             "#ed7953"
            ],
            [
             0.7777777777777778,
             "#fb9f3a"
            ],
            [
             0.8888888888888888,
             "#fdca26"
            ],
            [
             1,
             "#f0f921"
            ]
           ],
           "sequentialminus": [
            [
             0,
             "#0d0887"
            ],
            [
             0.1111111111111111,
             "#46039f"
            ],
            [
             0.2222222222222222,
             "#7201a8"
            ],
            [
             0.3333333333333333,
             "#9c179e"
            ],
            [
             0.4444444444444444,
             "#bd3786"
            ],
            [
             0.5555555555555556,
             "#d8576b"
            ],
            [
             0.6666666666666666,
             "#ed7953"
            ],
            [
             0.7777777777777778,
             "#fb9f3a"
            ],
            [
             0.8888888888888888,
             "#fdca26"
            ],
            [
             1,
             "#f0f921"
            ]
           ]
          },
          "colorway": [
           "#636efa",
           "#EF553B",
           "#00cc96",
           "#ab63fa",
           "#FFA15A",
           "#19d3f3",
           "#FF6692",
           "#B6E880",
           "#FF97FF",
           "#FECB52"
          ],
          "font": {
           "color": "#2a3f5f"
          },
          "geo": {
           "bgcolor": "white",
           "lakecolor": "white",
           "landcolor": "#E5ECF6",
           "showlakes": true,
           "showland": true,
           "subunitcolor": "white"
          },
          "hoverlabel": {
           "align": "left"
          },
          "hovermode": "closest",
          "mapbox": {
           "style": "light"
          },
          "paper_bgcolor": "white",
          "plot_bgcolor": "#E5ECF6",
          "polar": {
           "angularaxis": {
            "gridcolor": "white",
            "linecolor": "white",
            "ticks": ""
           },
           "bgcolor": "#E5ECF6",
           "radialaxis": {
            "gridcolor": "white",
            "linecolor": "white",
            "ticks": ""
           }
          },
          "scene": {
           "xaxis": {
            "backgroundcolor": "#E5ECF6",
            "gridcolor": "white",
            "gridwidth": 2,
            "linecolor": "white",
            "showbackground": true,
            "ticks": "",
            "zerolinecolor": "white"
           },
           "yaxis": {
            "backgroundcolor": "#E5ECF6",
            "gridcolor": "white",
            "gridwidth": 2,
            "linecolor": "white",
            "showbackground": true,
            "ticks": "",
            "zerolinecolor": "white"
           },
           "zaxis": {
            "backgroundcolor": "#E5ECF6",
            "gridcolor": "white",
            "gridwidth": 2,
            "linecolor": "white",
            "showbackground": true,
            "ticks": "",
            "zerolinecolor": "white"
           }
          },
          "shapedefaults": {
           "line": {
            "color": "#2a3f5f"
           }
          },
          "ternary": {
           "aaxis": {
            "gridcolor": "white",
            "linecolor": "white",
            "ticks": ""
           },
           "baxis": {
            "gridcolor": "white",
            "linecolor": "white",
            "ticks": ""
           },
           "bgcolor": "#E5ECF6",
           "caxis": {
            "gridcolor": "white",
            "linecolor": "white",
            "ticks": ""
           }
          },
          "title": {
           "x": 0.05
          },
          "xaxis": {
           "automargin": true,
           "gridcolor": "white",
           "linecolor": "white",
           "ticks": "",
           "title": {
            "standoff": 15
           },
           "zerolinecolor": "white",
           "zerolinewidth": 2
          },
          "yaxis": {
           "automargin": true,
           "gridcolor": "white",
           "linecolor": "white",
           "ticks": "",
           "title": {
            "standoff": 15
           },
           "zerolinecolor": "white",
           "zerolinewidth": 2
          }
         }
        },
        "title": {
         "text": "Casos de COVID19 [Hombres vs Mujeres] en México por día"
        },
        "xaxis": {
         "title": {
          "text": "Fecha"
         }
        },
        "yaxis": {
         "title": {
          "text": "Número de casos"
         }
        }
       }
      },
      "text/html": [
       "<div>\n",
       "        \n",
       "        \n",
       "            <div id=\"b7f38e40-dbea-4cae-a431-4186283eeee6\" class=\"plotly-graph-div\" style=\"height:525px; width:100%;\"></div>\n",
       "            <script type=\"text/javascript\">\n",
       "                require([\"plotly\"], function(Plotly) {\n",
       "                    window.PLOTLYENV=window.PLOTLYENV || {};\n",
       "                    \n",
       "                if (document.getElementById(\"b7f38e40-dbea-4cae-a431-4186283eeee6\")) {\n",
       "                    Plotly.newPlot(\n",
       "                        'b7f38e40-dbea-4cae-a431-4186283eeee6',\n",
       "                        [{\"line\": {\"color\": \"deepskyblue\"}, \"mode\": \"lines+markers\", \"name\": \"Casos Nuevos Hombres'\", \"opacity\": 0.8, \"type\": \"scatter\", \"x\": [\"2020-02-19\", \"2020-02-21\", \"2020-02-22\", \"2020-02-23\", \"2020-02-29\", \"2020-03-02\", \"2020-03-03\", \"2020-03-04\", \"2020-03-05\", \"2020-03-06\", \"2020-03-07\", \"2020-03-08\", \"2020-03-09\", \"2020-03-10\", \"2020-03-11\", \"2020-03-12\", \"2020-03-13\", \"2020-03-14\", \"2020-03-15\", \"2020-03-16\", \"2020-03-17\", \"2020-03-18\", \"2020-03-19\", \"2020-03-20\", \"2020-03-21\", \"2020-03-22\", \"2020-03-23\", \"2020-03-24\", \"2020-03-25\", \"2020-03-26\"], \"y\": [1, 1, 2, 1, 1, 3, 1, 4, 4, 6, 9, 14, 28, 20, 24, 24, 39, 40, 35, 43, 39, 37, 27, 34, 19, 13, 7, 6, 3, 2]}, {\"line\": {\"color\": \"#e377c2\"}, \"mode\": \"lines+markers\", \"name\": \"Casos Nuevos Mujeres\", \"opacity\": 0.8, \"type\": \"scatter\", \"x\": [\"2020-02-25\", \"2020-02-27\", \"2020-03-01\", \"2020-03-02\", \"2020-03-03\", \"2020-03-05\", \"2020-03-06\", \"2020-03-07\", \"2020-03-08\", \"2020-03-09\", \"2020-03-10\", \"2020-03-11\", \"2020-03-12\", \"2020-03-13\", \"2020-03-14\", \"2020-03-15\", \"2020-03-16\", \"2020-03-17\", \"2020-03-18\", \"2020-03-19\", \"2020-03-20\", \"2020-03-21\", \"2020-03-22\", \"2020-03-23\", \"2020-03-24\", \"2020-03-25\", \"2020-03-26\"], \"y\": [1, 1, 4, 2, 2, 3, 3, 7, 5, 18, 19, 14, 15, 20, 16, 26, 38, 25, 31, 19, 25, 19, 22, 16, 5, 3, 2]}],\n",
       "                        {\"template\": {\"data\": {\"bar\": [{\"error_x\": {\"color\": \"#2a3f5f\"}, \"error_y\": {\"color\": \"#2a3f5f\"}, \"marker\": {\"line\": {\"color\": \"#E5ECF6\", \"width\": 0.5}}, \"type\": \"bar\"}], \"barpolar\": [{\"marker\": {\"line\": {\"color\": \"#E5ECF6\", \"width\": 0.5}}, \"type\": \"barpolar\"}], \"carpet\": [{\"aaxis\": {\"endlinecolor\": \"#2a3f5f\", \"gridcolor\": \"white\", \"linecolor\": \"white\", \"minorgridcolor\": \"white\", \"startlinecolor\": \"#2a3f5f\"}, \"baxis\": {\"endlinecolor\": \"#2a3f5f\", \"gridcolor\": \"white\", \"linecolor\": \"white\", \"minorgridcolor\": \"white\", \"startlinecolor\": \"#2a3f5f\"}, \"type\": \"carpet\"}], \"choropleth\": [{\"colorbar\": {\"outlinewidth\": 0, \"ticks\": \"\"}, \"type\": \"choropleth\"}], \"contour\": [{\"colorbar\": {\"outlinewidth\": 0, \"ticks\": \"\"}, \"colorscale\": [[0.0, \"#0d0887\"], [0.1111111111111111, \"#46039f\"], [0.2222222222222222, \"#7201a8\"], [0.3333333333333333, \"#9c179e\"], [0.4444444444444444, \"#bd3786\"], [0.5555555555555556, \"#d8576b\"], [0.6666666666666666, \"#ed7953\"], [0.7777777777777778, \"#fb9f3a\"], [0.8888888888888888, \"#fdca26\"], [1.0, \"#f0f921\"]], \"type\": \"contour\"}], \"contourcarpet\": [{\"colorbar\": {\"outlinewidth\": 0, \"ticks\": \"\"}, \"type\": \"contourcarpet\"}], \"heatmap\": [{\"colorbar\": {\"outlinewidth\": 0, \"ticks\": \"\"}, \"colorscale\": [[0.0, \"#0d0887\"], [0.1111111111111111, \"#46039f\"], [0.2222222222222222, \"#7201a8\"], [0.3333333333333333, \"#9c179e\"], [0.4444444444444444, \"#bd3786\"], [0.5555555555555556, \"#d8576b\"], [0.6666666666666666, \"#ed7953\"], [0.7777777777777778, \"#fb9f3a\"], [0.8888888888888888, \"#fdca26\"], [1.0, \"#f0f921\"]], \"type\": \"heatmap\"}], \"heatmapgl\": [{\"colorbar\": {\"outlinewidth\": 0, \"ticks\": \"\"}, \"colorscale\": [[0.0, \"#0d0887\"], [0.1111111111111111, \"#46039f\"], [0.2222222222222222, \"#7201a8\"], [0.3333333333333333, \"#9c179e\"], [0.4444444444444444, \"#bd3786\"], [0.5555555555555556, \"#d8576b\"], [0.6666666666666666, \"#ed7953\"], [0.7777777777777778, \"#fb9f3a\"], [0.8888888888888888, \"#fdca26\"], [1.0, \"#f0f921\"]], \"type\": \"heatmapgl\"}], \"histogram\": [{\"marker\": {\"colorbar\": {\"outlinewidth\": 0, \"ticks\": \"\"}}, \"type\": \"histogram\"}], \"histogram2d\": [{\"colorbar\": {\"outlinewidth\": 0, \"ticks\": \"\"}, \"colorscale\": [[0.0, \"#0d0887\"], [0.1111111111111111, \"#46039f\"], [0.2222222222222222, \"#7201a8\"], [0.3333333333333333, \"#9c179e\"], [0.4444444444444444, \"#bd3786\"], [0.5555555555555556, \"#d8576b\"], [0.6666666666666666, \"#ed7953\"], [0.7777777777777778, \"#fb9f3a\"], [0.8888888888888888, \"#fdca26\"], [1.0, \"#f0f921\"]], \"type\": \"histogram2d\"}], \"histogram2dcontour\": [{\"colorbar\": {\"outlinewidth\": 0, \"ticks\": \"\"}, \"colorscale\": [[0.0, \"#0d0887\"], [0.1111111111111111, \"#46039f\"], [0.2222222222222222, \"#7201a8\"], [0.3333333333333333, \"#9c179e\"], [0.4444444444444444, \"#bd3786\"], [0.5555555555555556, \"#d8576b\"], [0.6666666666666666, \"#ed7953\"], [0.7777777777777778, \"#fb9f3a\"], [0.8888888888888888, \"#fdca26\"], [1.0, \"#f0f921\"]], \"type\": \"histogram2dcontour\"}], \"mesh3d\": [{\"colorbar\": {\"outlinewidth\": 0, \"ticks\": \"\"}, \"type\": \"mesh3d\"}], \"parcoords\": [{\"line\": {\"colorbar\": {\"outlinewidth\": 0, \"ticks\": \"\"}}, \"type\": \"parcoords\"}], \"pie\": [{\"automargin\": true, \"type\": \"pie\"}], \"scatter\": [{\"marker\": {\"colorbar\": {\"outlinewidth\": 0, \"ticks\": \"\"}}, \"type\": \"scatter\"}], \"scatter3d\": [{\"line\": {\"colorbar\": {\"outlinewidth\": 0, \"ticks\": \"\"}}, \"marker\": {\"colorbar\": {\"outlinewidth\": 0, \"ticks\": \"\"}}, \"type\": \"scatter3d\"}], \"scattercarpet\": [{\"marker\": {\"colorbar\": {\"outlinewidth\": 0, \"ticks\": \"\"}}, \"type\": \"scattercarpet\"}], \"scattergeo\": [{\"marker\": {\"colorbar\": {\"outlinewidth\": 0, \"ticks\": \"\"}}, \"type\": \"scattergeo\"}], \"scattergl\": [{\"marker\": {\"colorbar\": {\"outlinewidth\": 0, \"ticks\": \"\"}}, \"type\": \"scattergl\"}], \"scattermapbox\": [{\"marker\": {\"colorbar\": {\"outlinewidth\": 0, \"ticks\": \"\"}}, \"type\": \"scattermapbox\"}], \"scatterpolar\": [{\"marker\": {\"colorbar\": {\"outlinewidth\": 0, \"ticks\": \"\"}}, \"type\": \"scatterpolar\"}], \"scatterpolargl\": [{\"marker\": {\"colorbar\": {\"outlinewidth\": 0, \"ticks\": \"\"}}, \"type\": \"scatterpolargl\"}], \"scatterternary\": [{\"marker\": {\"colorbar\": {\"outlinewidth\": 0, \"ticks\": \"\"}}, \"type\": \"scatterternary\"}], \"surface\": [{\"colorbar\": {\"outlinewidth\": 0, \"ticks\": \"\"}, \"colorscale\": [[0.0, \"#0d0887\"], [0.1111111111111111, \"#46039f\"], [0.2222222222222222, \"#7201a8\"], [0.3333333333333333, \"#9c179e\"], [0.4444444444444444, \"#bd3786\"], [0.5555555555555556, \"#d8576b\"], [0.6666666666666666, \"#ed7953\"], [0.7777777777777778, \"#fb9f3a\"], [0.8888888888888888, \"#fdca26\"], [1.0, \"#f0f921\"]], \"type\": \"surface\"}], \"table\": [{\"cells\": {\"fill\": {\"color\": \"#EBF0F8\"}, \"line\": {\"color\": \"white\"}}, \"header\": {\"fill\": {\"color\": \"#C8D4E3\"}, \"line\": {\"color\": \"white\"}}, \"type\": \"table\"}]}, \"layout\": {\"annotationdefaults\": {\"arrowcolor\": \"#2a3f5f\", \"arrowhead\": 0, \"arrowwidth\": 1}, \"coloraxis\": {\"colorbar\": {\"outlinewidth\": 0, \"ticks\": \"\"}}, \"colorscale\": {\"diverging\": [[0, \"#8e0152\"], [0.1, \"#c51b7d\"], [0.2, \"#de77ae\"], [0.3, \"#f1b6da\"], [0.4, \"#fde0ef\"], [0.5, \"#f7f7f7\"], [0.6, \"#e6f5d0\"], [0.7, \"#b8e186\"], [0.8, \"#7fbc41\"], [0.9, \"#4d9221\"], [1, \"#276419\"]], \"sequential\": [[0.0, \"#0d0887\"], [0.1111111111111111, \"#46039f\"], [0.2222222222222222, \"#7201a8\"], [0.3333333333333333, \"#9c179e\"], [0.4444444444444444, \"#bd3786\"], [0.5555555555555556, \"#d8576b\"], [0.6666666666666666, \"#ed7953\"], [0.7777777777777778, \"#fb9f3a\"], [0.8888888888888888, \"#fdca26\"], [1.0, \"#f0f921\"]], \"sequentialminus\": [[0.0, \"#0d0887\"], [0.1111111111111111, \"#46039f\"], [0.2222222222222222, \"#7201a8\"], [0.3333333333333333, \"#9c179e\"], [0.4444444444444444, \"#bd3786\"], [0.5555555555555556, \"#d8576b\"], [0.6666666666666666, \"#ed7953\"], [0.7777777777777778, \"#fb9f3a\"], [0.8888888888888888, \"#fdca26\"], [1.0, \"#f0f921\"]]}, \"colorway\": [\"#636efa\", \"#EF553B\", \"#00cc96\", \"#ab63fa\", \"#FFA15A\", \"#19d3f3\", \"#FF6692\", \"#B6E880\", \"#FF97FF\", \"#FECB52\"], \"font\": {\"color\": \"#2a3f5f\"}, \"geo\": {\"bgcolor\": \"white\", \"lakecolor\": \"white\", \"landcolor\": \"#E5ECF6\", \"showlakes\": true, \"showland\": true, \"subunitcolor\": \"white\"}, \"hoverlabel\": {\"align\": \"left\"}, \"hovermode\": \"closest\", \"mapbox\": {\"style\": \"light\"}, \"paper_bgcolor\": \"white\", \"plot_bgcolor\": \"#E5ECF6\", \"polar\": {\"angularaxis\": {\"gridcolor\": \"white\", \"linecolor\": \"white\", \"ticks\": \"\"}, \"bgcolor\": \"#E5ECF6\", \"radialaxis\": {\"gridcolor\": \"white\", \"linecolor\": \"white\", \"ticks\": \"\"}}, \"scene\": {\"xaxis\": {\"backgroundcolor\": \"#E5ECF6\", \"gridcolor\": \"white\", \"gridwidth\": 2, \"linecolor\": \"white\", \"showbackground\": true, \"ticks\": \"\", \"zerolinecolor\": \"white\"}, \"yaxis\": {\"backgroundcolor\": \"#E5ECF6\", \"gridcolor\": \"white\", \"gridwidth\": 2, \"linecolor\": \"white\", \"showbackground\": true, \"ticks\": \"\", \"zerolinecolor\": \"white\"}, \"zaxis\": {\"backgroundcolor\": \"#E5ECF6\", \"gridcolor\": \"white\", \"gridwidth\": 2, \"linecolor\": \"white\", \"showbackground\": true, \"ticks\": \"\", \"zerolinecolor\": \"white\"}}, \"shapedefaults\": {\"line\": {\"color\": \"#2a3f5f\"}}, \"ternary\": {\"aaxis\": {\"gridcolor\": \"white\", \"linecolor\": \"white\", \"ticks\": \"\"}, \"baxis\": {\"gridcolor\": \"white\", \"linecolor\": \"white\", \"ticks\": \"\"}, \"bgcolor\": \"#E5ECF6\", \"caxis\": {\"gridcolor\": \"white\", \"linecolor\": \"white\", \"ticks\": \"\"}}, \"title\": {\"x\": 0.05}, \"xaxis\": {\"automargin\": true, \"gridcolor\": \"white\", \"linecolor\": \"white\", \"ticks\": \"\", \"title\": {\"standoff\": 15}, \"zerolinecolor\": \"white\", \"zerolinewidth\": 2}, \"yaxis\": {\"automargin\": true, \"gridcolor\": \"white\", \"linecolor\": \"white\", \"ticks\": \"\", \"title\": {\"standoff\": 15}, \"zerolinecolor\": \"white\", \"zerolinewidth\": 2}}}, \"title\": {\"text\": \"Casos de COVID19 [Hombres vs Mujeres] en M\\u00e9xico por d\\u00eda\"}, \"xaxis\": {\"title\": {\"text\": \"Fecha\"}}, \"yaxis\": {\"title\": {\"text\": \"N\\u00famero de casos\"}}},\n",
       "                        {\"responsive\": true}\n",
       "                    ).then(function(){\n",
       "                            \n",
       "var gd = document.getElementById('b7f38e40-dbea-4cae-a431-4186283eeee6');\n",
       "var x = new MutationObserver(function (mutations, observer) {{\n",
       "        var display = window.getComputedStyle(gd).display;\n",
       "        if (!display || display === 'none') {{\n",
       "            console.log([gd, 'removed!']);\n",
       "            Plotly.purge(gd);\n",
       "            observer.disconnect();\n",
       "        }}\n",
       "}});\n",
       "\n",
       "// Listen for the removal of the full notebook cells\n",
       "var notebookContainer = gd.closest('#notebook-container');\n",
       "if (notebookContainer) {{\n",
       "    x.observe(notebookContainer, {childList: true});\n",
       "}}\n",
       "\n",
       "// Listen for the clearing of the current output cell\n",
       "var outputEl = gd.closest('.output');\n",
       "if (outputEl) {{\n",
       "    x.observe(outputEl, {childList: true});\n",
       "}}\n",
       "\n",
       "                        })\n",
       "                };\n",
       "                });\n",
       "            </script>\n",
       "        </div>"
      ]
     },
     "metadata": {},
     "output_type": "display_data"
    }
   ],
   "source": [
    "casos_fecha_F = pd.DataFrame(d2['IdentificacionRT-PCR_COVID19(tiemporeal)'].groupby(d2['Fecha_de_Inicio_de_Síntomas']).count())\n",
    "fig = go.Figure()\n",
    "\n",
    "fig.add_trace(go.Scatter(\n",
    "                x=casos_fecha_M.index,\n",
    "                y=casos_fecha_M[\"IdentificacionRT-PCR_COVID19(tiemporeal)\"],\n",
    "                mode='lines+markers',\n",
    "                name=\"Casos Nuevos Hombres'\",\n",
    "                line_color='deepskyblue',\n",
    "                opacity=0.8))\n",
    "\n",
    "fig.add_trace(go.Scatter(\n",
    "                x=casos_fecha_F.index,\n",
    "                y=casos_fecha_F[\"IdentificacionRT-PCR_COVID19(tiemporeal)\"],\n",
    "                mode='lines+markers',\n",
    "                name=\"Casos Nuevos Mujeres\",\n",
    "                line_color='#e377c2',\n",
    "                opacity=0.8))\n",
    "# Edit the layout\n",
    "fig.update_layout(title='Casos de COVID19 [Hombres vs Mujeres] en México por día',\n",
    "                   xaxis_title='Fecha',\n",
    "                   yaxis_title='Número de casos')\n",
    "fig.show()"
   ]
  },
  {
   "cell_type": "markdown",
   "metadata": {},
   "source": [
    "## Casos de COVID19 en México por día"
   ]
  },
  {
   "cell_type": "code",
   "execution_count": 40,
   "metadata": {},
   "outputs": [
    {
     "data": {
      "application/vnd.plotly.v1+json": {
       "config": {
        "plotlyServerURL": "https://plot.ly"
       },
       "data": [
        {
         "line": {
          "color": "deepskyblue"
         },
         "mode": "lines+markers",
         "name": "Casos Nuevos",
         "opacity": 0.8,
         "type": "scatter",
         "x": [
          "2020-02-19",
          "2020-02-21",
          "2020-02-22",
          "2020-02-23",
          "2020-02-25",
          "2020-02-27",
          "2020-02-29",
          "2020-03-01",
          "2020-03-02",
          "2020-03-03",
          "2020-03-04",
          "2020-03-05",
          "2020-03-06",
          "2020-03-07",
          "2020-03-08",
          "2020-03-09",
          "2020-03-10",
          "2020-03-11",
          "2020-03-12",
          "2020-03-13",
          "2020-03-14",
          "2020-03-15",
          "2020-03-16",
          "2020-03-17",
          "2020-03-18",
          "2020-03-19",
          "2020-03-20",
          "2020-03-21",
          "2020-03-22",
          "2020-03-23",
          "2020-03-24",
          "2020-03-25",
          "2020-03-26"
         ],
         "y": [
          1,
          1,
          2,
          1,
          1,
          1,
          1,
          4,
          5,
          3,
          4,
          7,
          9,
          16,
          19,
          46,
          39,
          38,
          39,
          59,
          56,
          61,
          81,
          64,
          68,
          46,
          59,
          38,
          35,
          23,
          11,
          6,
          4
         ]
        },
        {
         "line": {
          "color": "#ff7f0e"
         },
         "mode": "lines+markers",
         "name": "Casos Totales",
         "opacity": 0.8,
         "type": "scatter",
         "x": [
          "2020-02-19",
          "2020-02-21",
          "2020-02-22",
          "2020-02-23",
          "2020-02-25",
          "2020-02-27",
          "2020-02-29",
          "2020-03-01",
          "2020-03-02",
          "2020-03-03",
          "2020-03-04",
          "2020-03-05",
          "2020-03-06",
          "2020-03-07",
          "2020-03-08",
          "2020-03-09",
          "2020-03-10",
          "2020-03-11",
          "2020-03-12",
          "2020-03-13",
          "2020-03-14",
          "2020-03-15",
          "2020-03-16",
          "2020-03-17",
          "2020-03-18",
          "2020-03-19",
          "2020-03-20",
          "2020-03-21",
          "2020-03-22",
          "2020-03-23",
          "2020-03-24",
          "2020-03-25",
          "2020-03-26"
         ],
         "y": [
          1,
          2,
          4,
          5,
          6,
          7,
          8,
          12,
          17,
          20,
          24,
          31,
          40,
          56,
          75,
          121,
          160,
          198,
          237,
          296,
          352,
          413,
          494,
          558,
          626,
          672,
          731,
          769,
          804,
          827,
          838,
          844,
          848
         ]
        }
       ],
       "layout": {
        "template": {
         "data": {
          "bar": [
           {
            "error_x": {
             "color": "#2a3f5f"
            },
            "error_y": {
             "color": "#2a3f5f"
            },
            "marker": {
             "line": {
              "color": "#E5ECF6",
              "width": 0.5
             }
            },
            "type": "bar"
           }
          ],
          "barpolar": [
           {
            "marker": {
             "line": {
              "color": "#E5ECF6",
              "width": 0.5
             }
            },
            "type": "barpolar"
           }
          ],
          "carpet": [
           {
            "aaxis": {
             "endlinecolor": "#2a3f5f",
             "gridcolor": "white",
             "linecolor": "white",
             "minorgridcolor": "white",
             "startlinecolor": "#2a3f5f"
            },
            "baxis": {
             "endlinecolor": "#2a3f5f",
             "gridcolor": "white",
             "linecolor": "white",
             "minorgridcolor": "white",
             "startlinecolor": "#2a3f5f"
            },
            "type": "carpet"
           }
          ],
          "choropleth": [
           {
            "colorbar": {
             "outlinewidth": 0,
             "ticks": ""
            },
            "type": "choropleth"
           }
          ],
          "contour": [
           {
            "colorbar": {
             "outlinewidth": 0,
             "ticks": ""
            },
            "colorscale": [
             [
              0,
              "#0d0887"
             ],
             [
              0.1111111111111111,
              "#46039f"
             ],
             [
              0.2222222222222222,
              "#7201a8"
             ],
             [
              0.3333333333333333,
              "#9c179e"
             ],
             [
              0.4444444444444444,
              "#bd3786"
             ],
             [
              0.5555555555555556,
              "#d8576b"
             ],
             [
              0.6666666666666666,
              "#ed7953"
             ],
             [
              0.7777777777777778,
              "#fb9f3a"
             ],
             [
              0.8888888888888888,
              "#fdca26"
             ],
             [
              1,
              "#f0f921"
             ]
            ],
            "type": "contour"
           }
          ],
          "contourcarpet": [
           {
            "colorbar": {
             "outlinewidth": 0,
             "ticks": ""
            },
            "type": "contourcarpet"
           }
          ],
          "heatmap": [
           {
            "colorbar": {
             "outlinewidth": 0,
             "ticks": ""
            },
            "colorscale": [
             [
              0,
              "#0d0887"
             ],
             [
              0.1111111111111111,
              "#46039f"
             ],
             [
              0.2222222222222222,
              "#7201a8"
             ],
             [
              0.3333333333333333,
              "#9c179e"
             ],
             [
              0.4444444444444444,
              "#bd3786"
             ],
             [
              0.5555555555555556,
              "#d8576b"
             ],
             [
              0.6666666666666666,
              "#ed7953"
             ],
             [
              0.7777777777777778,
              "#fb9f3a"
             ],
             [
              0.8888888888888888,
              "#fdca26"
             ],
             [
              1,
              "#f0f921"
             ]
            ],
            "type": "heatmap"
           }
          ],
          "heatmapgl": [
           {
            "colorbar": {
             "outlinewidth": 0,
             "ticks": ""
            },
            "colorscale": [
             [
              0,
              "#0d0887"
             ],
             [
              0.1111111111111111,
              "#46039f"
             ],
             [
              0.2222222222222222,
              "#7201a8"
             ],
             [
              0.3333333333333333,
              "#9c179e"
             ],
             [
              0.4444444444444444,
              "#bd3786"
             ],
             [
              0.5555555555555556,
              "#d8576b"
             ],
             [
              0.6666666666666666,
              "#ed7953"
             ],
             [
              0.7777777777777778,
              "#fb9f3a"
             ],
             [
              0.8888888888888888,
              "#fdca26"
             ],
             [
              1,
              "#f0f921"
             ]
            ],
            "type": "heatmapgl"
           }
          ],
          "histogram": [
           {
            "marker": {
             "colorbar": {
              "outlinewidth": 0,
              "ticks": ""
             }
            },
            "type": "histogram"
           }
          ],
          "histogram2d": [
           {
            "colorbar": {
             "outlinewidth": 0,
             "ticks": ""
            },
            "colorscale": [
             [
              0,
              "#0d0887"
             ],
             [
              0.1111111111111111,
              "#46039f"
             ],
             [
              0.2222222222222222,
              "#7201a8"
             ],
             [
              0.3333333333333333,
              "#9c179e"
             ],
             [
              0.4444444444444444,
              "#bd3786"
             ],
             [
              0.5555555555555556,
              "#d8576b"
             ],
             [
              0.6666666666666666,
              "#ed7953"
             ],
             [
              0.7777777777777778,
              "#fb9f3a"
             ],
             [
              0.8888888888888888,
              "#fdca26"
             ],
             [
              1,
              "#f0f921"
             ]
            ],
            "type": "histogram2d"
           }
          ],
          "histogram2dcontour": [
           {
            "colorbar": {
             "outlinewidth": 0,
             "ticks": ""
            },
            "colorscale": [
             [
              0,
              "#0d0887"
             ],
             [
              0.1111111111111111,
              "#46039f"
             ],
             [
              0.2222222222222222,
              "#7201a8"
             ],
             [
              0.3333333333333333,
              "#9c179e"
             ],
             [
              0.4444444444444444,
              "#bd3786"
             ],
             [
              0.5555555555555556,
              "#d8576b"
             ],
             [
              0.6666666666666666,
              "#ed7953"
             ],
             [
              0.7777777777777778,
              "#fb9f3a"
             ],
             [
              0.8888888888888888,
              "#fdca26"
             ],
             [
              1,
              "#f0f921"
             ]
            ],
            "type": "histogram2dcontour"
           }
          ],
          "mesh3d": [
           {
            "colorbar": {
             "outlinewidth": 0,
             "ticks": ""
            },
            "type": "mesh3d"
           }
          ],
          "parcoords": [
           {
            "line": {
             "colorbar": {
              "outlinewidth": 0,
              "ticks": ""
             }
            },
            "type": "parcoords"
           }
          ],
          "pie": [
           {
            "automargin": true,
            "type": "pie"
           }
          ],
          "scatter": [
           {
            "marker": {
             "colorbar": {
              "outlinewidth": 0,
              "ticks": ""
             }
            },
            "type": "scatter"
           }
          ],
          "scatter3d": [
           {
            "line": {
             "colorbar": {
              "outlinewidth": 0,
              "ticks": ""
             }
            },
            "marker": {
             "colorbar": {
              "outlinewidth": 0,
              "ticks": ""
             }
            },
            "type": "scatter3d"
           }
          ],
          "scattercarpet": [
           {
            "marker": {
             "colorbar": {
              "outlinewidth": 0,
              "ticks": ""
             }
            },
            "type": "scattercarpet"
           }
          ],
          "scattergeo": [
           {
            "marker": {
             "colorbar": {
              "outlinewidth": 0,
              "ticks": ""
             }
            },
            "type": "scattergeo"
           }
          ],
          "scattergl": [
           {
            "marker": {
             "colorbar": {
              "outlinewidth": 0,
              "ticks": ""
             }
            },
            "type": "scattergl"
           }
          ],
          "scattermapbox": [
           {
            "marker": {
             "colorbar": {
              "outlinewidth": 0,
              "ticks": ""
             }
            },
            "type": "scattermapbox"
           }
          ],
          "scatterpolar": [
           {
            "marker": {
             "colorbar": {
              "outlinewidth": 0,
              "ticks": ""
             }
            },
            "type": "scatterpolar"
           }
          ],
          "scatterpolargl": [
           {
            "marker": {
             "colorbar": {
              "outlinewidth": 0,
              "ticks": ""
             }
            },
            "type": "scatterpolargl"
           }
          ],
          "scatterternary": [
           {
            "marker": {
             "colorbar": {
              "outlinewidth": 0,
              "ticks": ""
             }
            },
            "type": "scatterternary"
           }
          ],
          "surface": [
           {
            "colorbar": {
             "outlinewidth": 0,
             "ticks": ""
            },
            "colorscale": [
             [
              0,
              "#0d0887"
             ],
             [
              0.1111111111111111,
              "#46039f"
             ],
             [
              0.2222222222222222,
              "#7201a8"
             ],
             [
              0.3333333333333333,
              "#9c179e"
             ],
             [
              0.4444444444444444,
              "#bd3786"
             ],
             [
              0.5555555555555556,
              "#d8576b"
             ],
             [
              0.6666666666666666,
              "#ed7953"
             ],
             [
              0.7777777777777778,
              "#fb9f3a"
             ],
             [
              0.8888888888888888,
              "#fdca26"
             ],
             [
              1,
              "#f0f921"
             ]
            ],
            "type": "surface"
           }
          ],
          "table": [
           {
            "cells": {
             "fill": {
              "color": "#EBF0F8"
             },
             "line": {
              "color": "white"
             }
            },
            "header": {
             "fill": {
              "color": "#C8D4E3"
             },
             "line": {
              "color": "white"
             }
            },
            "type": "table"
           }
          ]
         },
         "layout": {
          "annotationdefaults": {
           "arrowcolor": "#2a3f5f",
           "arrowhead": 0,
           "arrowwidth": 1
          },
          "coloraxis": {
           "colorbar": {
            "outlinewidth": 0,
            "ticks": ""
           }
          },
          "colorscale": {
           "diverging": [
            [
             0,
             "#8e0152"
            ],
            [
             0.1,
             "#c51b7d"
            ],
            [
             0.2,
             "#de77ae"
            ],
            [
             0.3,
             "#f1b6da"
            ],
            [
             0.4,
             "#fde0ef"
            ],
            [
             0.5,
             "#f7f7f7"
            ],
            [
             0.6,
             "#e6f5d0"
            ],
            [
             0.7,
             "#b8e186"
            ],
            [
             0.8,
             "#7fbc41"
            ],
            [
             0.9,
             "#4d9221"
            ],
            [
             1,
             "#276419"
            ]
           ],
           "sequential": [
            [
             0,
             "#0d0887"
            ],
            [
             0.1111111111111111,
             "#46039f"
            ],
            [
             0.2222222222222222,
             "#7201a8"
            ],
            [
             0.3333333333333333,
             "#9c179e"
            ],
            [
             0.4444444444444444,
             "#bd3786"
            ],
            [
             0.5555555555555556,
             "#d8576b"
            ],
            [
             0.6666666666666666,
             "#ed7953"
            ],
            [
             0.7777777777777778,
             "#fb9f3a"
            ],
            [
             0.8888888888888888,
             "#fdca26"
            ],
            [
             1,
             "#f0f921"
            ]
           ],
           "sequentialminus": [
            [
             0,
             "#0d0887"
            ],
            [
             0.1111111111111111,
             "#46039f"
            ],
            [
             0.2222222222222222,
             "#7201a8"
            ],
            [
             0.3333333333333333,
             "#9c179e"
            ],
            [
             0.4444444444444444,
             "#bd3786"
            ],
            [
             0.5555555555555556,
             "#d8576b"
            ],
            [
             0.6666666666666666,
             "#ed7953"
            ],
            [
             0.7777777777777778,
             "#fb9f3a"
            ],
            [
             0.8888888888888888,
             "#fdca26"
            ],
            [
             1,
             "#f0f921"
            ]
           ]
          },
          "colorway": [
           "#636efa",
           "#EF553B",
           "#00cc96",
           "#ab63fa",
           "#FFA15A",
           "#19d3f3",
           "#FF6692",
           "#B6E880",
           "#FF97FF",
           "#FECB52"
          ],
          "font": {
           "color": "#2a3f5f"
          },
          "geo": {
           "bgcolor": "white",
           "lakecolor": "white",
           "landcolor": "#E5ECF6",
           "showlakes": true,
           "showland": true,
           "subunitcolor": "white"
          },
          "hoverlabel": {
           "align": "left"
          },
          "hovermode": "closest",
          "mapbox": {
           "style": "light"
          },
          "paper_bgcolor": "white",
          "plot_bgcolor": "#E5ECF6",
          "polar": {
           "angularaxis": {
            "gridcolor": "white",
            "linecolor": "white",
            "ticks": ""
           },
           "bgcolor": "#E5ECF6",
           "radialaxis": {
            "gridcolor": "white",
            "linecolor": "white",
            "ticks": ""
           }
          },
          "scene": {
           "xaxis": {
            "backgroundcolor": "#E5ECF6",
            "gridcolor": "white",
            "gridwidth": 2,
            "linecolor": "white",
            "showbackground": true,
            "ticks": "",
            "zerolinecolor": "white"
           },
           "yaxis": {
            "backgroundcolor": "#E5ECF6",
            "gridcolor": "white",
            "gridwidth": 2,
            "linecolor": "white",
            "showbackground": true,
            "ticks": "",
            "zerolinecolor": "white"
           },
           "zaxis": {
            "backgroundcolor": "#E5ECF6",
            "gridcolor": "white",
            "gridwidth": 2,
            "linecolor": "white",
            "showbackground": true,
            "ticks": "",
            "zerolinecolor": "white"
           }
          },
          "shapedefaults": {
           "line": {
            "color": "#2a3f5f"
           }
          },
          "ternary": {
           "aaxis": {
            "gridcolor": "white",
            "linecolor": "white",
            "ticks": ""
           },
           "baxis": {
            "gridcolor": "white",
            "linecolor": "white",
            "ticks": ""
           },
           "bgcolor": "#E5ECF6",
           "caxis": {
            "gridcolor": "white",
            "linecolor": "white",
            "ticks": ""
           }
          },
          "title": {
           "x": 0.05
          },
          "xaxis": {
           "automargin": true,
           "gridcolor": "white",
           "linecolor": "white",
           "ticks": "",
           "title": {
            "standoff": 15
           },
           "zerolinecolor": "white",
           "zerolinewidth": 2
          },
          "yaxis": {
           "automargin": true,
           "gridcolor": "white",
           "linecolor": "white",
           "ticks": "",
           "title": {
            "standoff": 15
           },
           "zerolinecolor": "white",
           "zerolinewidth": 2
          }
         }
        },
        "title": {
         "text": "Casos de COVID19 en México por día"
        },
        "xaxis": {
         "title": {
          "text": "Fecha"
         }
        },
        "yaxis": {
         "title": {
          "text": "Número de casos"
         }
        }
       }
      },
      "text/html": [
       "<div>\n",
       "        \n",
       "        \n",
       "            <div id=\"fba56137-a0f5-4c6b-afd2-94e0692c3f99\" class=\"plotly-graph-div\" style=\"height:525px; width:100%;\"></div>\n",
       "            <script type=\"text/javascript\">\n",
       "                require([\"plotly\"], function(Plotly) {\n",
       "                    window.PLOTLYENV=window.PLOTLYENV || {};\n",
       "                    \n",
       "                if (document.getElementById(\"fba56137-a0f5-4c6b-afd2-94e0692c3f99\")) {\n",
       "                    Plotly.newPlot(\n",
       "                        'fba56137-a0f5-4c6b-afd2-94e0692c3f99',\n",
       "                        [{\"line\": {\"color\": \"deepskyblue\"}, \"mode\": \"lines+markers\", \"name\": \"Casos Nuevos\", \"opacity\": 0.8, \"type\": \"scatter\", \"x\": [\"2020-02-19\", \"2020-02-21\", \"2020-02-22\", \"2020-02-23\", \"2020-02-25\", \"2020-02-27\", \"2020-02-29\", \"2020-03-01\", \"2020-03-02\", \"2020-03-03\", \"2020-03-04\", \"2020-03-05\", \"2020-03-06\", \"2020-03-07\", \"2020-03-08\", \"2020-03-09\", \"2020-03-10\", \"2020-03-11\", \"2020-03-12\", \"2020-03-13\", \"2020-03-14\", \"2020-03-15\", \"2020-03-16\", \"2020-03-17\", \"2020-03-18\", \"2020-03-19\", \"2020-03-20\", \"2020-03-21\", \"2020-03-22\", \"2020-03-23\", \"2020-03-24\", \"2020-03-25\", \"2020-03-26\"], \"y\": [1, 1, 2, 1, 1, 1, 1, 4, 5, 3, 4, 7, 9, 16, 19, 46, 39, 38, 39, 59, 56, 61, 81, 64, 68, 46, 59, 38, 35, 23, 11, 6, 4]}, {\"line\": {\"color\": \"#ff7f0e\"}, \"mode\": \"lines+markers\", \"name\": \"Casos Totales\", \"opacity\": 0.8, \"type\": \"scatter\", \"x\": [\"2020-02-19\", \"2020-02-21\", \"2020-02-22\", \"2020-02-23\", \"2020-02-25\", \"2020-02-27\", \"2020-02-29\", \"2020-03-01\", \"2020-03-02\", \"2020-03-03\", \"2020-03-04\", \"2020-03-05\", \"2020-03-06\", \"2020-03-07\", \"2020-03-08\", \"2020-03-09\", \"2020-03-10\", \"2020-03-11\", \"2020-03-12\", \"2020-03-13\", \"2020-03-14\", \"2020-03-15\", \"2020-03-16\", \"2020-03-17\", \"2020-03-18\", \"2020-03-19\", \"2020-03-20\", \"2020-03-21\", \"2020-03-22\", \"2020-03-23\", \"2020-03-24\", \"2020-03-25\", \"2020-03-26\"], \"y\": [1, 2, 4, 5, 6, 7, 8, 12, 17, 20, 24, 31, 40, 56, 75, 121, 160, 198, 237, 296, 352, 413, 494, 558, 626, 672, 731, 769, 804, 827, 838, 844, 848]}],\n",
       "                        {\"template\": {\"data\": {\"bar\": [{\"error_x\": {\"color\": \"#2a3f5f\"}, \"error_y\": {\"color\": \"#2a3f5f\"}, \"marker\": {\"line\": {\"color\": \"#E5ECF6\", \"width\": 0.5}}, \"type\": \"bar\"}], \"barpolar\": [{\"marker\": {\"line\": {\"color\": \"#E5ECF6\", \"width\": 0.5}}, \"type\": \"barpolar\"}], \"carpet\": [{\"aaxis\": {\"endlinecolor\": \"#2a3f5f\", \"gridcolor\": \"white\", \"linecolor\": \"white\", \"minorgridcolor\": \"white\", \"startlinecolor\": \"#2a3f5f\"}, \"baxis\": {\"endlinecolor\": \"#2a3f5f\", \"gridcolor\": \"white\", \"linecolor\": \"white\", \"minorgridcolor\": \"white\", \"startlinecolor\": \"#2a3f5f\"}, \"type\": \"carpet\"}], \"choropleth\": [{\"colorbar\": {\"outlinewidth\": 0, \"ticks\": \"\"}, \"type\": \"choropleth\"}], \"contour\": [{\"colorbar\": {\"outlinewidth\": 0, \"ticks\": \"\"}, \"colorscale\": [[0.0, \"#0d0887\"], [0.1111111111111111, \"#46039f\"], [0.2222222222222222, \"#7201a8\"], [0.3333333333333333, \"#9c179e\"], [0.4444444444444444, \"#bd3786\"], [0.5555555555555556, \"#d8576b\"], [0.6666666666666666, \"#ed7953\"], [0.7777777777777778, \"#fb9f3a\"], [0.8888888888888888, \"#fdca26\"], [1.0, \"#f0f921\"]], \"type\": \"contour\"}], \"contourcarpet\": [{\"colorbar\": {\"outlinewidth\": 0, \"ticks\": \"\"}, \"type\": \"contourcarpet\"}], \"heatmap\": [{\"colorbar\": {\"outlinewidth\": 0, \"ticks\": \"\"}, \"colorscale\": [[0.0, \"#0d0887\"], [0.1111111111111111, \"#46039f\"], [0.2222222222222222, \"#7201a8\"], [0.3333333333333333, \"#9c179e\"], [0.4444444444444444, \"#bd3786\"], [0.5555555555555556, \"#d8576b\"], [0.6666666666666666, \"#ed7953\"], [0.7777777777777778, \"#fb9f3a\"], [0.8888888888888888, \"#fdca26\"], [1.0, \"#f0f921\"]], \"type\": \"heatmap\"}], \"heatmapgl\": [{\"colorbar\": {\"outlinewidth\": 0, \"ticks\": \"\"}, \"colorscale\": [[0.0, \"#0d0887\"], [0.1111111111111111, \"#46039f\"], [0.2222222222222222, \"#7201a8\"], [0.3333333333333333, \"#9c179e\"], [0.4444444444444444, \"#bd3786\"], [0.5555555555555556, \"#d8576b\"], [0.6666666666666666, \"#ed7953\"], [0.7777777777777778, \"#fb9f3a\"], [0.8888888888888888, \"#fdca26\"], [1.0, \"#f0f921\"]], \"type\": \"heatmapgl\"}], \"histogram\": [{\"marker\": {\"colorbar\": {\"outlinewidth\": 0, \"ticks\": \"\"}}, \"type\": \"histogram\"}], \"histogram2d\": [{\"colorbar\": {\"outlinewidth\": 0, \"ticks\": \"\"}, \"colorscale\": [[0.0, \"#0d0887\"], [0.1111111111111111, \"#46039f\"], [0.2222222222222222, \"#7201a8\"], [0.3333333333333333, \"#9c179e\"], [0.4444444444444444, \"#bd3786\"], [0.5555555555555556, \"#d8576b\"], [0.6666666666666666, \"#ed7953\"], [0.7777777777777778, \"#fb9f3a\"], [0.8888888888888888, \"#fdca26\"], [1.0, \"#f0f921\"]], \"type\": \"histogram2d\"}], \"histogram2dcontour\": [{\"colorbar\": {\"outlinewidth\": 0, \"ticks\": \"\"}, \"colorscale\": [[0.0, \"#0d0887\"], [0.1111111111111111, \"#46039f\"], [0.2222222222222222, \"#7201a8\"], [0.3333333333333333, \"#9c179e\"], [0.4444444444444444, \"#bd3786\"], [0.5555555555555556, \"#d8576b\"], [0.6666666666666666, \"#ed7953\"], [0.7777777777777778, \"#fb9f3a\"], [0.8888888888888888, \"#fdca26\"], [1.0, \"#f0f921\"]], \"type\": \"histogram2dcontour\"}], \"mesh3d\": [{\"colorbar\": {\"outlinewidth\": 0, \"ticks\": \"\"}, \"type\": \"mesh3d\"}], \"parcoords\": [{\"line\": {\"colorbar\": {\"outlinewidth\": 0, \"ticks\": \"\"}}, \"type\": \"parcoords\"}], \"pie\": [{\"automargin\": true, \"type\": \"pie\"}], \"scatter\": [{\"marker\": {\"colorbar\": {\"outlinewidth\": 0, \"ticks\": \"\"}}, \"type\": \"scatter\"}], \"scatter3d\": [{\"line\": {\"colorbar\": {\"outlinewidth\": 0, \"ticks\": \"\"}}, \"marker\": {\"colorbar\": {\"outlinewidth\": 0, \"ticks\": \"\"}}, \"type\": \"scatter3d\"}], \"scattercarpet\": [{\"marker\": {\"colorbar\": {\"outlinewidth\": 0, \"ticks\": \"\"}}, \"type\": \"scattercarpet\"}], \"scattergeo\": [{\"marker\": {\"colorbar\": {\"outlinewidth\": 0, \"ticks\": \"\"}}, \"type\": \"scattergeo\"}], \"scattergl\": [{\"marker\": {\"colorbar\": {\"outlinewidth\": 0, \"ticks\": \"\"}}, \"type\": \"scattergl\"}], \"scattermapbox\": [{\"marker\": {\"colorbar\": {\"outlinewidth\": 0, \"ticks\": \"\"}}, \"type\": \"scattermapbox\"}], \"scatterpolar\": [{\"marker\": {\"colorbar\": {\"outlinewidth\": 0, \"ticks\": \"\"}}, \"type\": \"scatterpolar\"}], \"scatterpolargl\": [{\"marker\": {\"colorbar\": {\"outlinewidth\": 0, \"ticks\": \"\"}}, \"type\": \"scatterpolargl\"}], \"scatterternary\": [{\"marker\": {\"colorbar\": {\"outlinewidth\": 0, \"ticks\": \"\"}}, \"type\": \"scatterternary\"}], \"surface\": [{\"colorbar\": {\"outlinewidth\": 0, \"ticks\": \"\"}, \"colorscale\": [[0.0, \"#0d0887\"], [0.1111111111111111, \"#46039f\"], [0.2222222222222222, \"#7201a8\"], [0.3333333333333333, \"#9c179e\"], [0.4444444444444444, \"#bd3786\"], [0.5555555555555556, \"#d8576b\"], [0.6666666666666666, \"#ed7953\"], [0.7777777777777778, \"#fb9f3a\"], [0.8888888888888888, \"#fdca26\"], [1.0, \"#f0f921\"]], \"type\": \"surface\"}], \"table\": [{\"cells\": {\"fill\": {\"color\": \"#EBF0F8\"}, \"line\": {\"color\": \"white\"}}, \"header\": {\"fill\": {\"color\": \"#C8D4E3\"}, \"line\": {\"color\": \"white\"}}, \"type\": \"table\"}]}, \"layout\": {\"annotationdefaults\": {\"arrowcolor\": \"#2a3f5f\", \"arrowhead\": 0, \"arrowwidth\": 1}, \"coloraxis\": {\"colorbar\": {\"outlinewidth\": 0, \"ticks\": \"\"}}, \"colorscale\": {\"diverging\": [[0, \"#8e0152\"], [0.1, \"#c51b7d\"], [0.2, \"#de77ae\"], [0.3, \"#f1b6da\"], [0.4, \"#fde0ef\"], [0.5, \"#f7f7f7\"], [0.6, \"#e6f5d0\"], [0.7, \"#b8e186\"], [0.8, \"#7fbc41\"], [0.9, \"#4d9221\"], [1, \"#276419\"]], \"sequential\": [[0.0, \"#0d0887\"], [0.1111111111111111, \"#46039f\"], [0.2222222222222222, \"#7201a8\"], [0.3333333333333333, \"#9c179e\"], [0.4444444444444444, \"#bd3786\"], [0.5555555555555556, \"#d8576b\"], [0.6666666666666666, \"#ed7953\"], [0.7777777777777778, \"#fb9f3a\"], [0.8888888888888888, \"#fdca26\"], [1.0, \"#f0f921\"]], \"sequentialminus\": [[0.0, \"#0d0887\"], [0.1111111111111111, \"#46039f\"], [0.2222222222222222, \"#7201a8\"], [0.3333333333333333, \"#9c179e\"], [0.4444444444444444, \"#bd3786\"], [0.5555555555555556, \"#d8576b\"], [0.6666666666666666, \"#ed7953\"], [0.7777777777777778, \"#fb9f3a\"], [0.8888888888888888, \"#fdca26\"], [1.0, \"#f0f921\"]]}, \"colorway\": [\"#636efa\", \"#EF553B\", \"#00cc96\", \"#ab63fa\", \"#FFA15A\", \"#19d3f3\", \"#FF6692\", \"#B6E880\", \"#FF97FF\", \"#FECB52\"], \"font\": {\"color\": \"#2a3f5f\"}, \"geo\": {\"bgcolor\": \"white\", \"lakecolor\": \"white\", \"landcolor\": \"#E5ECF6\", \"showlakes\": true, \"showland\": true, \"subunitcolor\": \"white\"}, \"hoverlabel\": {\"align\": \"left\"}, \"hovermode\": \"closest\", \"mapbox\": {\"style\": \"light\"}, \"paper_bgcolor\": \"white\", \"plot_bgcolor\": \"#E5ECF6\", \"polar\": {\"angularaxis\": {\"gridcolor\": \"white\", \"linecolor\": \"white\", \"ticks\": \"\"}, \"bgcolor\": \"#E5ECF6\", \"radialaxis\": {\"gridcolor\": \"white\", \"linecolor\": \"white\", \"ticks\": \"\"}}, \"scene\": {\"xaxis\": {\"backgroundcolor\": \"#E5ECF6\", \"gridcolor\": \"white\", \"gridwidth\": 2, \"linecolor\": \"white\", \"showbackground\": true, \"ticks\": \"\", \"zerolinecolor\": \"white\"}, \"yaxis\": {\"backgroundcolor\": \"#E5ECF6\", \"gridcolor\": \"white\", \"gridwidth\": 2, \"linecolor\": \"white\", \"showbackground\": true, \"ticks\": \"\", \"zerolinecolor\": \"white\"}, \"zaxis\": {\"backgroundcolor\": \"#E5ECF6\", \"gridcolor\": \"white\", \"gridwidth\": 2, \"linecolor\": \"white\", \"showbackground\": true, \"ticks\": \"\", \"zerolinecolor\": \"white\"}}, \"shapedefaults\": {\"line\": {\"color\": \"#2a3f5f\"}}, \"ternary\": {\"aaxis\": {\"gridcolor\": \"white\", \"linecolor\": \"white\", \"ticks\": \"\"}, \"baxis\": {\"gridcolor\": \"white\", \"linecolor\": \"white\", \"ticks\": \"\"}, \"bgcolor\": \"#E5ECF6\", \"caxis\": {\"gridcolor\": \"white\", \"linecolor\": \"white\", \"ticks\": \"\"}}, \"title\": {\"x\": 0.05}, \"xaxis\": {\"automargin\": true, \"gridcolor\": \"white\", \"linecolor\": \"white\", \"ticks\": \"\", \"title\": {\"standoff\": 15}, \"zerolinecolor\": \"white\", \"zerolinewidth\": 2}, \"yaxis\": {\"automargin\": true, \"gridcolor\": \"white\", \"linecolor\": \"white\", \"ticks\": \"\", \"title\": {\"standoff\": 15}, \"zerolinecolor\": \"white\", \"zerolinewidth\": 2}}}, \"title\": {\"text\": \"Casos de COVID19 en M\\u00e9xico por d\\u00eda\"}, \"xaxis\": {\"title\": {\"text\": \"Fecha\"}}, \"yaxis\": {\"title\": {\"text\": \"N\\u00famero de casos\"}}},\n",
       "                        {\"responsive\": true}\n",
       "                    ).then(function(){\n",
       "                            \n",
       "var gd = document.getElementById('fba56137-a0f5-4c6b-afd2-94e0692c3f99');\n",
       "var x = new MutationObserver(function (mutations, observer) {{\n",
       "        var display = window.getComputedStyle(gd).display;\n",
       "        if (!display || display === 'none') {{\n",
       "            console.log([gd, 'removed!']);\n",
       "            Plotly.purge(gd);\n",
       "            observer.disconnect();\n",
       "        }}\n",
       "}});\n",
       "\n",
       "// Listen for the removal of the full notebook cells\n",
       "var notebookContainer = gd.closest('#notebook-container');\n",
       "if (notebookContainer) {{\n",
       "    x.observe(notebookContainer, {childList: true});\n",
       "}}\n",
       "\n",
       "// Listen for the clearing of the current output cell\n",
       "var outputEl = gd.closest('.output');\n",
       "if (outputEl) {{\n",
       "    x.observe(outputEl, {childList: true});\n",
       "}}\n",
       "\n",
       "                        })\n",
       "                };\n",
       "                });\n",
       "            </script>\n",
       "        </div>"
      ]
     },
     "metadata": {},
     "output_type": "display_data"
    }
   ],
   "source": [
    "casos_fecha = pd.DataFrame(df['IdentificacionRT-PCR_COVID19(tiemporeal)'].groupby(df['Fecha_de_Inicio_de_Síntomas']).count())\n",
    "fig = go.Figure()\n",
    "fig.add_trace(go.Scatter(\n",
    "                x=casos_fecha.index,\n",
    "                y=casos_fecha[\"IdentificacionRT-PCR_COVID19(tiemporeal)\"],\n",
    "                mode='lines+markers',\n",
    "                name=\"Casos Nuevos\",\n",
    "                line_color='deepskyblue',\n",
    "                opacity=0.8))\n",
    "\n",
    "fig.add_trace(go.Scatter(\n",
    "                x=casos_fecha.index,\n",
    "                y=sc.cumsum(casos_fecha[\"IdentificacionRT-PCR_COVID19(tiemporeal)\"]),\n",
    "                mode='lines+markers',\n",
    "                name=\"Casos Totales\",\n",
    "                line_color='#ff7f0e',\n",
    "                opacity=0.8))\n",
    "# Edit the layout\n",
    "fig.update_layout(title='Casos de COVID19 en México por día',\n",
    "                   xaxis_title='Fecha',\n",
    "                   yaxis_title='Número de casos')\n",
    "fig.show()"
   ]
  }
 ],
 "metadata": {
  "kernelspec": {
   "display_name": "Python 3",
   "language": "python",
   "name": "python3"
  },
  "language_info": {
   "codemirror_mode": {
    "name": "ipython",
    "version": 3
   },
   "file_extension": ".py",
   "mimetype": "text/x-python",
   "name": "python",
   "nbconvert_exporter": "python",
   "pygments_lexer": "ipython3",
   "version": "3.7.4"
  }
 },
 "nbformat": 4,
 "nbformat_minor": 2
}
